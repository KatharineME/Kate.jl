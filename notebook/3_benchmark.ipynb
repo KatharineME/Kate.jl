{
 "cells": [
  {
   "cell_type": "code",
   "execution_count": 1,
   "metadata": {},
   "outputs": [
    {
     "data": {
      "text/plain": [
       "Main.ProcessSequence"
      ]
     },
     "execution_count": 1,
     "metadata": {},
     "output_type": "execute_result"
    }
   ],
   "source": [
    "include(\"../src/ProcessSequence.jl\")"
   ]
  },
  {
   "cell_type": "code",
   "execution_count": 2,
   "metadata": {},
   "outputs": [
    {
     "data": {
      "text/plain": [
       "\"/home/jovyan/ProcessSequence.jl/input/high_confidence_HG002_4.1_GRCh38\""
      ]
     },
     "execution_count": 2,
     "metadata": {},
     "output_type": "execute_result"
    }
   ],
   "source": [
    "project_dir = dirname(@__DIR__)\n",
    "\n",
    "using JSON: parse\n",
    "\n",
    "project_json = parse(read(joinpath(project_dir, \"project.json\"), String))\n",
    "\n",
    "sample_name = project_json[\"sample_name\"]\n",
    "\n",
    "output_dir = joinpath(project_dir, \"output\")\n",
    "\n",
    "input_dir = joinpath(project_dir, \"input\")\n",
    "\n",
    "sample_dir = joinpath(input_dir, sample_name)\n",
    "\n",
    "reference_dir = joinpath(input_dir, \"reference\")\n",
    "\n",
    "benchmark_data_dir = joinpath(input_dir, \"high_confidence_HG002_4.1_GRCh38\")"
   ]
  },
  {
   "cell_type": "code",
   "execution_count": 3,
   "metadata": {},
   "outputs": [
    {
     "name": "stdout",
     "output_type": "stream",
     "text": [
      "Directories in /home/jovyan/ProcessSequence.jl/input/high_confidence_HG002_4.1_GRCh38\n",
      "Files in /home/jovyan/ProcessSequence.jl/input/high_confidence_HG002_4.1_GRCh38\n",
      "/home/jovyan/ProcessSequence.jl/input/high_confidence_HG002_4.1_GRCh38/.DS_Store\n",
      "/home/jovyan/ProcessSequence.jl/input/high_confidence_HG002_4.1_GRCh38/HG002_GRCh38_1_22_v4.1_draft_benchmark.bed\n",
      "/home/jovyan/ProcessSequence.jl/input/high_confidence_HG002_4.1_GRCh38/HG002_GRCh38_1_22_v4.1_draft_benchmark.bed.gz\n",
      "/home/jovyan/ProcessSequence.jl/input/high_confidence_HG002_4.1_GRCh38/HG002_GRCh38_1_22_v4.1_draft_benchmark.bed.gz.tbi\n",
      "/home/jovyan/ProcessSequence.jl/input/high_confidence_HG002_4.1_GRCh38/HG002_GRCh38_1_22_v4.1_draft_benchmark.vcf.gz\n",
      "/home/jovyan/ProcessSequence.jl/input/high_confidence_HG002_4.1_GRCh38/HG002_GRCh38_1_22_v4.1_draft_benchmark.vcf.gz.tbi\n"
     ]
    }
   ],
   "source": [
    "ispath(benchmark_data_dir)\n",
    "\n",
    "for (root, dirs, files) in walkdir(benchmark_data_dir)\n",
    "    println(\"Directories in $root\")\n",
    "    for dir in dirs\n",
    "        println(joinpath(root, dir)) # path to directories\n",
    "    end\n",
    "    println(\"Files in $root\")\n",
    "    for file in files\n",
    "        println(joinpath(root, file)) # path to files\n",
    "    end\n",
    "end"
   ]
  },
  {
   "cell_type": "code",
   "execution_count": null,
   "metadata": {},
   "outputs": [],
   "source": []
  }
 ],
 "metadata": {
  "kernelspec": {
   "display_name": "Julia 1.5.2",
   "language": "julia",
   "name": "julia-1.5"
  },
  "language_info": {
   "file_extension": ".jl",
   "mimetype": "application/julia",
   "name": "julia",
   "version": "1.5.2"
  }
 },
 "nbformat": 4,
 "nbformat_minor": 4
}
