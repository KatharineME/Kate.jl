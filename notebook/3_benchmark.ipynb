{
 "cells": [
  {
   "cell_type": "code",
   "execution_count": 1,
   "metadata": {},
   "outputs": [
    {
     "data": {
      "text/plain": [
       "Main.ProcessSequence"
      ]
     },
     "execution_count": 1,
     "metadata": {},
     "output_type": "execute_result"
    }
   ],
   "source": [
    "include(\"../src/ProcessSequence.jl\")"
   ]
  },
  {
   "cell_type": "code",
   "execution_count": 27,
   "metadata": {},
   "outputs": [
    {
     "data": {
      "text/plain": [
       "\"/opt/rtg/rtg-tools-3.11/rtg\""
      ]
     },
     "execution_count": 27,
     "metadata": {},
     "output_type": "execute_result"
    }
   ],
   "source": [
    "project_dir = dirname(@__DIR__)\n",
    "\n",
    "using JSON: parse\n",
    "\n",
    "project_json = parse(read(joinpath(project_dir, \"project.json\"), String))\n",
    "\n",
    "output_dir = joinpath(project_dir, \"output\")\n",
    "\n",
    "input_dir = joinpath(project_dir, \"input\")\n",
    "\n",
    "reference_dir = joinpath(input_dir, \"reference\")\n",
    "\n",
    "baseline_vcf = joinpath(input_dir, \"high_confidence_HG002_4.1_GRCh38/HG002_GRCh38_1_22_v4.1_draft_benchmark.vcf.gz\")\n",
    "\n",
    "calls_vcf = joinpath(output_dir, \"process_germ_dna_HG002_cat/find_variant/strelka/results/variants/variants.vcf.gz\")\n",
    "\n",
    "rtg_sdf_reference_dir = joinpath(input_dir, \"GRCh38.sdf\")\n",
    "\n",
    "benchmark_output_dir = joinpath(output_dir, \"process_germ_dna_HG002_cat/benchmark\")\n",
    "\n",
    "rtg_executable = \"/opt/rtg/rtg-tools-3.11/rtg\""
   ]
  },
  {
   "cell_type": "markdown",
   "metadata": {},
   "source": [
    "### Configure vcfeval"
   ]
  },
  {
   "cell_type": "code",
   "execution_count": 5,
   "metadata": {
    "collapsed": true,
    "jupyter": {
     "outputs_hidden": true
    }
   },
   "outputs": [
    {
     "name": "stdout",
     "output_type": "stream",
     "text": [
      "RTG has a facility to automatically send basic usage information to Real\n",
      "Time Genomics. This does not contain confidential information such as\n",
      "command-line parameters or dataset contents.\n",
      "\n",
      "\n",
      "Automatic usage reporting disabled.\n",
      "\n",
      "\n",
      "Initial configuration complete.  Advanced user configuration is\n",
      "available by editing settings in rtg.cfg and users of bash may wish to\n",
      "enable bash completion, see /opt/rtg/rtg-tools-3.11/scripts/rtg-bash-completion\n",
      "\n",
      "\n"
     ]
    },
    {
     "name": "stderr",
     "output_type": "stream",
     "text": [
      "Usage: rtg COMMAND [OPTION]...\n",
      "       rtg RTG_MEM=16G COMMAND [OPTION]...  (e.g. to set maximum memory use to\n",
      "\t             \t16 GB)\n",
      "\n",
      "Type 'rtg help COMMAND' for help on a specific command.\n",
      "The following commands are available:\n",
      "\n",
      "Data formatting:\n",
      "\tformat       \tconvert sequence data files to SDF\n",
      "\tsdf2fasta    \tconvert SDF to FASTA\n",
      "\tsdf2fastq    \tconvert SDF to FASTQ\n",
      "\tsdf2sam      \tconvert SDF to SAM/BAM\n",
      "\tfastqtrim    \ttrim reads in FASTQ files\n",
      "\n",
      "Simulation:\n",
      "\tgenomesim    \tgenerate simulated genome sequence\n",
      "\tcgsim        \tgenerate simulated reads from a sequence\n",
      "\treadsim      \tgenerate simulated reads from a sequence\n",
      "\tpopsim       \tgenerate a VCF containing simulated population variants\n",
      "\tsamplesim    \tgenerate a VCF containing a genotype simulated from a population\n",
      "\tchildsim     \tgenerate a VCF containing a genotype simulated as a child of two\n",
      "\t             \tparents\n",
      "\tdenovosim    \tgenerate a VCF containing a derived genotype containing de novo\n",
      "\t             \tvariants\n",
      "\tpedsamplesim \tgenerate simulated genotypes for all members of a pedigree\n",
      "\tsamplereplay \tgenerate the genome corresponding to a sample genotype\n",
      "\n",
      "Utility:\n",
      "\tbgzip        \tcompress a file using block gzip\n",
      "\tindex        \tcreate a tabix index\n",
      "\textract      \textract data from a tabix indexed file\n",
      "\tsdfstats     \tprint statistics about an SDF\n",
      "\tsdfsubset    \textract a subset of an SDF into a new SDF\n",
      "\tsdfsubseq    \textract a subsequence from an SDF as text\n",
      "\tmendelian    \tcheck a multisample VCF for Mendelian consistency\n",
      "\tvcfstats     \tprint statistics about variants contained within a VCF file\n",
      "\tvcfmerge     \tmerge single-sample VCF files into a single multi-sample VCF\n",
      "\tvcffilter    \tfilter records within a VCF file\n",
      "\tvcfannotate  \tannotate variants within a VCF file\n",
      "\tvcfsubset    \tcreate a VCF file containing a subset of the original columns\n",
      "\tvcfsplit     \tsplit a multi-sample VCF into one file per sample\n",
      "\tvcfdecompose \tdecompose complex variants within a VCF file\n",
      "\tvcfeval      \tevaluate called variants for agreement with a baseline variant\n",
      "\t             \tset\n",
      "\tsvdecompose  \tsplit composite structural variants into a breakend\n",
      "\t             \trepresentation\n",
      "\tbndeval      \tevaluate called breakends for agreement with a baseline breakend\n",
      "\t             \tset\n",
      "\tpedfilter    \tfilter and convert a pedigree file\n",
      "\tpedstats     \tprint information about a pedigree file\n",
      "\trocplot      \tplot ROC curves from vcfeval ROC data files\n",
      "\tversion      \tprint version and license information\n",
      "\tlicense      \tprint license information for all commands\n",
      "\thelp         \tprint this screen or help for specified command\n"
     ]
    },
    {
     "ename": "LoadError",
     "evalue": "failed process: Process(`/opt/rtg/rtg-tools-3.11/rtg`, ProcessExited(1)) [1]\n",
     "output_type": "error",
     "traceback": [
      "failed process: Process(`/opt/rtg/rtg-tools-3.11/rtg`, ProcessExited(1)) [1]\n",
      "",
      "Stacktrace:",
      " [1] pipeline_error at ./process.jl:525 [inlined]",
      " [2] run(::Cmd; wait::Bool) at ./process.jl:440",
      " [3] run(::Cmd) at ./process.jl:438",
      " [4] top-level scope at In[5]:1",
      " [5] include_string(::Function, ::Module, ::String, ::String) at ./loading.jl:1091"
     ]
    }
   ],
   "source": [
    "run(`$rtg_executable`)"
   ]
  },
  {
   "cell_type": "markdown",
   "metadata": {},
   "source": [
    "### Download Real Time Genomics prepared GRCH38 files\n",
    "vcfeval requires reference files in RTG formats. RTG makes versions of these files for the popular reference genomes such as GRCh38, which will be downloaded below."
   ]
  },
  {
   "cell_type": "code",
   "execution_count": 25,
   "metadata": {},
   "outputs": [
    {
     "name": "stdout",
     "output_type": "stream",
     "text": [
      "Skipping download because RTG GRCh38 data directory already exists:\n",
      " /home/jovyan/ProcessSequence.jl/input/GRCh38.sdf\n"
     ]
    }
   ],
   "source": [
    "if ispath(rtg_sdf_reference_dir)\n",
    "    \n",
    "    println(\"Skipping download because RTG GRCh38 data directory already exists:\\n $rtg_sdf_reference_dir\")\n",
    "\n",
    "else\n",
    "\n",
    "    run(pipeline(\n",
    "            `wget -q -P ../input/ https://s3.amazonaws.com/rtg-datasets/references/GRCh38.sdf.zip`,\n",
    "            `unzip -d ../input/ ../input/GRCh38.sdf.zip`,\n",
    "            `rm ../input/GRCh38.sdf.zip`,\n",
    "            ))\n",
    "end"
   ]
  },
  {
   "cell_type": "markdown",
   "metadata": {},
   "source": [
    "### Run vcfeval\n",
    "This command comapares the VCF you generated (calls) to the highly confident VCF generated by Genome in a Bottle (baseline)."
   ]
  },
  {
   "cell_type": "code",
   "execution_count": 28,
   "metadata": {},
   "outputs": [
    {
     "name": "stderr",
     "output_type": "stream",
     "text": [
      "Error: Unable to find file: /home/jovyan/ProcessSequence.jl/input/GRCh38.sdf/mainIndex (No such file or directory) part of SDF: /home/jovyan/ProcessSequence.jl/input/GRCh38.sdf\n"
     ]
    },
    {
     "ename": "LoadError",
     "evalue": "failed process: Process(`/opt/rtg/rtg-tools-3.11/rtg vcfeval --baseline=/home/jovyan/ProcessSequence.jl/input/high_confidence_HG002_4.1_GRCh38/HG002_GRCh38_1_22_v4.1_draft_benchmark.vcf.gz --calls=/home/jovyan/ProcessSequence.jl/output/process_germ_dna_HG002_cat/find_variant/strelka/results/variants/variants.vcf.gz --template=/home/jovyan/ProcessSequence.jl/input/GRCh38.sdf --output=/home/jovyan/ProcessSequence.jl/output/process_germ_dna_HG002_cat/benchmark --threads=2`, ProcessExited(1)) [1]\n",
     "output_type": "error",
     "traceback": [
      "failed process: Process(`/opt/rtg/rtg-tools-3.11/rtg vcfeval --baseline=/home/jovyan/ProcessSequence.jl/input/high_confidence_HG002_4.1_GRCh38/HG002_GRCh38_1_22_v4.1_draft_benchmark.vcf.gz --calls=/home/jovyan/ProcessSequence.jl/output/process_germ_dna_HG002_cat/find_variant/strelka/results/variants/variants.vcf.gz --template=/home/jovyan/ProcessSequence.jl/input/GRCh38.sdf --output=/home/jovyan/ProcessSequence.jl/output/process_germ_dna_HG002_cat/benchmark --threads=2`, ProcessExited(1)) [1]\n",
      "",
      "Stacktrace:",
      " [1] pipeline_error at ./process.jl:525 [inlined]",
      " [2] run(::Cmd; wait::Bool) at ./process.jl:440",
      " [3] run(::Cmd) at ./process.jl:438",
      " [4] top-level scope at In[28]:1",
      " [5] include_string(::Function, ::Module, ::String, ::String) at ./loading.jl:1091"
     ]
    }
   ],
   "source": [
    "run(`$rtg_executable vcfeval \n",
    "    --baseline=$baseline_vcf\n",
    "    --calls=$calls_vcf\n",
    "    --template=$rtg_sdf_reference_dir\n",
    "    --output=$benchmark_output_dir\n",
    "    --threads=1\n",
    "    `)"
   ]
  },
  {
   "cell_type": "markdown",
   "metadata": {},
   "source": [
    "### See results\n",
    "Read more about how to interpret vcfeval results [here](https://cdn.rawgit.com/RealTimeGenomics/rtg-tools/master/installer/resources/tools/RTGOperationsManual/rtg_command_reference.html#vcfeval)."
   ]
  },
  {
   "cell_type": "code",
   "execution_count": null,
   "metadata": {},
   "outputs": [],
   "source": [
    "vcfeval_summary_file = open(joinpath(benchmark_output_dirput_dir, \"summary.txt\"))\n",
    "\n",
    "vcfeval_summary = read(vcfeval_summary_file)\n",
    "\n",
    "vcfeval_summary"
   ]
  }
 ],
 "metadata": {
  "kernelspec": {
   "display_name": "Julia 1.5.2",
   "language": "julia",
   "name": "julia-1.5"
  },
  "language_info": {
   "file_extension": ".jl",
   "mimetype": "application/julia",
   "name": "julia",
   "version": "1.5.2"
  }
 },
 "nbformat": 4,
 "nbformat_minor": 4
}
