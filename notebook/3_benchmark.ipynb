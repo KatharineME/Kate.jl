{
 "cells": [
  {
   "cell_type": "code",
   "execution_count": null,
   "metadata": {},
   "outputs": [],
   "source": [
    "include(\"../src/ProcessSequence.jl\")"
   ]
  },
  {
   "cell_type": "code",
   "execution_count": null,
   "metadata": {},
   "outputs": [],
   "source": [
    "sample_name = \"1004\"\n",
    "\n",
    "project_dir = dirname(@__DIR__)\n",
    "output_dir = joinpath(project_dir, \"output\")\n",
    "input_dir = joinpath(project_dir, \"input\")\n",
    "sample_dir = joinpath(input_dir, sample_name)\n",
    "reference_dir = joinpath(input_dir, \"reference\")\n",
    "snpeff_jar = \"/opt/snpeff/snpEff/snpEff.jar\"\n",
    "\n",
    "\n",
    "using JSON: parse\n",
    "project_json = parse(read(joinpath(project_dir, \"project.json\"), String))"
   ]
  }
 ],
 "metadata": {
  "kernelspec": {
   "display_name": "Julia 1.5.2",
   "language": "julia",
   "name": "julia-1.5"
  },
  "language_info": {
   "file_extension": ".jl",
   "mimetype": "application/julia",
   "name": "julia",
   "version": "1.5.2"
  }
 },
 "nbformat": 4,
 "nbformat_minor": 4
}
