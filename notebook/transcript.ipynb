{
 "cells": [
  {
   "cell_type": "code",
   "execution_count": null,
   "id": "ec4b5eb7-f81d-4399-a82e-7bdd64904648",
   "metadata": {},
   "outputs": [],
   "source": [
    "include(\"/Users/kwat/code/ProcessSequence.jl/src/ProcessSequence.jl\")"
   ]
  },
  {
   "cell_type": "code",
   "execution_count": null,
   "id": "66d2aaeb-79a5-4001-97a5-6673946c2c30",
   "metadata": {},
   "outputs": [],
   "source": [
    "cdna_fasta_gz = \"/Volumes/CarrotCake/garden/data/grch/Homo_sapiens.GRCh38.cdna.all.fa.gz\"\n",
    "\n",
    "n_job = 8"
   ]
  },
  {
   "cell_type": "code",
   "execution_count": null,
   "id": "ad6eeecb-2463-4084-b434-f040d1b9f23d",
   "metadata": {},
   "outputs": [],
   "source": [
    "for _1_fastq_gz in readdir(\"/Users/kwat/Downloads/\"; join=true)\n",
    "    \n",
    "    if occursin(\"_R1\", _1_fastq_gz)\n",
    "        \n",
    "        _2_fastq_gz = replace(_1_fastq_gz, \"R1\" => \"R2\")\n",
    "        \n",
    "        output_dir = string(split(_1_fastq_gz, \"_\")[2])\n",
    "        \n",
    "        ProcessSequence.count_transcript(\n",
    "            _1_fastq_gz,\n",
    "            _2_fastq_gz,\n",
    "            cdna_fasta_gz,\n",
    "            output_dir,\n",
    "            n_job::Int64)\n",
    "        \n",
    "    end\n",
    "    \n",
    "end"
   ]
  }
 ],
 "metadata": {
  "kernelspec": {
   "display_name": "Julia 1.6.1",
   "language": "julia",
   "name": "julia-1.6"
  },
  "language_info": {
   "file_extension": ".jl",
   "mimetype": "application/julia",
   "name": "julia",
   "version": "1.6.1"
  }
 },
 "nbformat": 4,
 "nbformat_minor": 5
}
