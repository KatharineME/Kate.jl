{
 "cells": [
  {
   "cell_type": "code",
   "execution_count": null,
   "metadata": {},
   "outputs": [],
   "source": [
    "using BenchmarkTools\n",
    "using CSV\n",
    "using DataFrames\n",
    "using Printf\n",
    "using StatsBase\n",
    "\n",
    "include(\"../src/Kraft.jl\")"
   ]
  },
  {
   "cell_type": "code",
   "execution_count": null,
   "metadata": {},
   "outputs": [],
   "source": [
    "elements = readlines(\"genes.txt\")[2:end]\n",
    "\n",
    "element_values = randn(length(elements))\n",
    "\n",
    "element_x_sample = DataFrame(\n",
    "    Symbol(\"Element\") => elements,\n",
    "    Symbol(\"Sample Constant\") => fill(\n",
    "        1 / length(elements),\n",
    "        length(elements),\n",
    "    ),\n",
    "    Symbol(\"Sample Normal\") => element_values,\n",
    "    Symbol(\"Sample Normal x 10\") => element_values * 10,\n",
    ")\n",
    "\n",
    "random_set_elements = sample(\n",
    "    elements,\n",
    "    100,\n",
    "    replace = false,\n",
    ")\n",
    "\n",
    "set_elements = Kraft.read_gmt([\n",
    "    \"h.all.v6.2.symbols.gmt\",\n",
    "])\n",
    "\n",
    "vector_01 = Kraft.make_vector_01(\n",
    "    elements,\n",
    "    random_set_elements,\n",
    ")\n",
    "\n",
    ";"
   ]
  },
  {
   "cell_type": "code",
   "execution_count": null,
   "metadata": {},
   "outputs": [],
   "source": [
    "@benchmark Kraft.compute_set_enrichment(\n",
    "# Kraft.compute_set_enrichment(\n",
    "    element_values,\n",
    "    elements,\n",
    "    vector_01,\n",
    ")"
   ]
  },
  {
   "cell_type": "code",
   "execution_count": null,
   "metadata": {},
   "outputs": [],
   "source": [
    "@benchmark Kraft.compute_set_enrichment(\n",
    "# Kraft.compute_set_enrichment(\n",
    "    element_values,\n",
    "    elements,\n",
    "    random_set_elements,\n",
    ")"
   ]
  },
  {
   "cell_type": "code",
   "execution_count": null,
   "metadata": {},
   "outputs": [],
   "source": [
    "Kraft.plot_set_enrichment(\n",
    "    element_values,\n",
    "    elements,\n",
    "    random_set_elements;\n",
    "    title1_text = \"Title\",\n",
    "    title2_text = \"Description or any other text go here\",\n",
    "    element_value_name = \"Element<br>Value<br>Metric\",\n",
    ")"
   ]
  },
  {
   "cell_type": "code",
   "execution_count": null,
   "metadata": {},
   "outputs": [],
   "source": [
    "benchmark_result = @benchmark Kraft.compute_set_enrichment(\n",
    "    element_values,\n",
    "    elements,\n",
    "    set_elements,\n",
    ")\n",
    "\n",
    "@printf \"%.2f ms / set\" minimum(benchmark_result.times) / 1e6 / length(set_elements)\n",
    "\n",
    "benchmark_result\n",
    "\n",
    "# Kraft.compute_set_enrichment(\n",
    "#     element_values,\n",
    "#     elements,\n",
    "#     set_elements,\n",
    "# )"
   ]
  },
  {
   "cell_type": "code",
   "execution_count": null,
   "metadata": {},
   "outputs": [],
   "source": [
    "@benchmark set_x_sample = Kraft.compute_set_enrichment(\n",
    "# Kraft.compute_set_enrichment(\n",
    "    element_x_sample,\n",
    "    set_elements,\n",
    "    \"ks\",\n",
    ")"
   ]
  }
 ],
 "metadata": {
  "@webio": {
   "lastCommId": null,
   "lastKernelId": null
  },
  "kernelspec": {
   "display_name": "Julia 1.0.3",
   "language": "julia",
   "name": "julia-1.0"
  },
  "language_info": {
   "file_extension": ".jl",
   "mimetype": "application/julia",
   "name": "julia",
   "version": "1.0.3"
  }
 },
 "nbformat": 4,
 "nbformat_minor": 4
}
