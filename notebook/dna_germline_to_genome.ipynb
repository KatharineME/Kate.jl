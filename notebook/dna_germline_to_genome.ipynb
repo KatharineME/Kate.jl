{
 "cells": [
  {
   "cell_type": "code",
   "execution_count": 1,
   "metadata": {},
   "outputs": [
    {
     "data": {
      "text/plain": [
       "Main.ProcessSequence"
      ]
     },
     "execution_count": 1,
     "metadata": {},
     "output_type": "execute_result"
    }
   ],
   "source": [
    "using Revise\n",
    "\n",
    "include(\"../src/ProcessSequence.jl\")"
   ]
  },
  {
   "cell_type": "code",
   "execution_count": 1,
   "metadata": {},
   "outputs": [
    {
     "ename": "LoadError",
     "evalue": "\u001b[91mUndefVarError: b not defined\u001b[39m",
     "output_type": "error",
     "traceback": [
      "\u001b[91mUndefVarError: b not defined\u001b[39m",
      "",
      "Stacktrace:",
      " [1] top-level scope at In[1]:1",
      " [2] include_string(::Function, ::Module, ::String, ::String) at ./loading.jl:1091"
     ]
    }
   ],
   "source": [
    "a = b"
   ]
  },
  {
   "cell_type": "code",
   "execution_count": 2,
   "metadata": {},
   "outputs": [
    {
     "data": {
      "text/plain": [
       "2"
      ]
     },
     "execution_count": 2,
     "metadata": {},
     "output_type": "execute_result"
    }
   ],
   "source": [
    "# name\n",
    "# sa = \"test_high_quality\"\n",
    "\n",
    "# fq1 = \"../input/test_high_quality/germ.1k.R1.fastq.gz\"\n",
    "\n",
    "# fq2 = \"../input/test_high_quality/germ.1k.R2.fastq.gz\"\n",
    "\n",
    "sa = \"S2012_cat\"\n",
    "\n",
    "fq1 = \"../input/S2012_cat/S2012_R1.fastq.gz\"\n",
    "\n",
    "fq2 = \"../input/S2012_cat/S2012_R2.fastq.gz\"\n",
    "\n",
    "# is dna targeted\n",
    "ta = false\n",
    "\n",
    "# Number of jobs\n",
    "n_jo = 8\n",
    "\n",
    "# G of memory\n",
    "meto = 40;\n",
    "\n",
    "# G of memory per job\n",
    "mejo = 2"
   ]
  },
  {
   "cell_type": "code",
   "execution_count": 3,
   "metadata": {},
   "outputs": [],
   "source": [
    "papr = dirname(@__DIR__)\n",
    "\n",
    "paou = joinpath(papr, \"output\")\n",
    "\n",
    "paip = joinpath(papr, \"input\")\n",
    "\n",
    "pasa = joinpath(paip, sa)\n",
    "\n",
    "pare = joinpath(paip, \"reference\")\n",
    "\n",
    "pasn = \"/opt/snpeff/snpEff/snpEff.jar\";"
   ]
  },
  {
   "cell_type": "code",
   "execution_count": 4,
   "metadata": {},
   "outputs": [
    {
     "name": "stdout",
     "output_type": "stream",
     "text": [
      "Checking program...\n",
      "`\u001b[4mwhich\u001b[24m \u001b[4mskewer\u001b[24m`\n",
      "/opt/conda/bin/skewer\n",
      "`\u001b[4mwhich\u001b[24m \u001b[4mfastqc\u001b[24m`\n",
      "/opt/conda/bin/fastqc\n",
      "`\u001b[4mwhich\u001b[24m \u001b[4mbgzip\u001b[24m`\n",
      "/opt/conda/bin/bgzip\n",
      "`\u001b[4mwhich\u001b[24m \u001b[4mtabix\u001b[24m`\n",
      "/opt/conda/bin/tabix\n",
      "`\u001b[4mwhich\u001b[24m \u001b[4mminimap2\u001b[24m`\n",
      "/opt/conda/bin/minimap2\n",
      "`\u001b[4mwhich\u001b[24m \u001b[4msamtools\u001b[24m`\n",
      "/opt/conda/bin/samtools\n",
      "`\u001b[4mwhich\u001b[24m \u001b[4mbcftools\u001b[24m`\n",
      "/opt/conda/bin/bcftools\n",
      "`\u001b[4mwhich\u001b[24m \u001b[4mkallisto\u001b[24m`\n",
      "/opt/conda/bin/kallisto\n",
      "`\u001b[4mbash\u001b[24m \u001b[4m-c\u001b[24m \u001b[4m'source activate py2 && which configManta.py'\u001b[24m`\n",
      "/opt/conda/envs/py2/bin/configManta.py\n",
      "`\u001b[4mbash\u001b[24m \u001b[4m-c\u001b[24m \u001b[4m'source activate py2 && which configureStrelkaGermlineWorkflow.py'\u001b[24m`\n",
      "/opt/conda/envs/py2/bin/configureStrelkaGermlineWorkflow.py\n",
      "`\u001b[4mbash\u001b[24m \u001b[4m-c\u001b[24m \u001b[4m'source activate py2 && which configureStrelkaSomaticWorkflow.py'\u001b[24m`\n",
      "/opt/conda/envs/py2/bin/configureStrelkaSomaticWorkflow.py\n"
     ]
    }
   ],
   "source": [
    "ProcessSequence.check_program()"
   ]
  },
  {
   "cell_type": "code",
   "execution_count": 5,
   "metadata": {},
   "outputs": [
    {
     "data": {
      "text/plain": [
       "(\"/home/jovyan/ProcessSequence.jl/github/ProcessSequence.jl/input/reference/GCA_000001405.15_GRCh38_no_alt_analysis_set.fna.gz\", \"/home/jovyan/ProcessSequence.jl/github/ProcessSequence.jl/input/reference/chromosome.bed.gz\", \"/home/jovyan/ProcessSequence.jl/github/ProcessSequence.jl/input/reference/chrn_n.tsv\", 8, 40, 2, \"/opt/snpeff/snpEff/snpEff.jar\")"
      ]
     },
     "execution_count": 5,
     "metadata": {},
     "output_type": "execute_result"
    }
   ],
   "source": [
    "process_dna_arguments = (\n",
    "    joinpath(pare, \"GCA_000001405.15_GRCh38_no_alt_analysis_set.fna.gz\"),\n",
    "    joinpath(pare, \"chromosome.bed.gz\"),\n",
    "    joinpath(pare, \"chrn_n.tsv\"),\n",
    "    n_jo,\n",
    "    meto,\n",
    "    mejo,\n",
    "    pasn,\n",
    ")"
   ]
  },
  {
   "cell_type": "code",
   "execution_count": 6,
   "metadata": {},
   "outputs": [
    {
     "name": "stdout",
     "output_type": "stream",
     "text": [
      "TRIM\n",
      "Skipping trimming because trimmed files already exist:\n",
      " /home/jovyan/ProcessSequence.jl/github/ProcessSequence.jl/output/S2012_cat/trim_sequence/trimmed-pair1.fastq.gz\n",
      " /home/jovyan/ProcessSequence.jl/github/ProcessSequence.jl/output/S2012_cat/trim_sequence/trimmed-pair2.fastq.gz\n",
      "\n",
      "Skipping check sequence because directory already exists:\n",
      " /home/jovyan/ProcessSequence.jl/github/ProcessSequence.jl/output/S2012_cat/check_sequence_trimmed\n",
      "\n",
      "ALIGN\n",
      "Skipping alignment because directory already exists: \n",
      "/home/jovyan/ProcessSequence.jl/github/ProcessSequence.jl/output/S2012_cat/align_sequence\n",
      "(2021-07-23T07:43:26.385) Done in empty period.\n",
      "\n",
      "CALL VARIANTS\n",
      "`\u001b[4mbash\u001b[24m \u001b[4m-c\u001b[24m \u001b[4m'source activate py2 && configManta.py --referenceFasta /home/jovyan/ProcessSequence.jl/github/ProcessSequence.jl/input/reference/GCA_000001405.15_GRCh38_no_alt_analysis_set.fna.bgz --callRegions /home/jovyan/ProcessSequence.jl/github/ProcessSequence.jl/input/reference/chromosome.bed.gz --bam /home/jovyan/ProcessSequence.jl/github/ProcessSequence.jl/output/S2012_cat/align_sequence/germ.bam --outputContig --runDir /home/jovyan/ProcessSequence.jl/github/ProcessSequence.jl/output/S2012_cat/find_variant/manta && /home/jovyan/ProcessSequence.jl/github/ProcessSequence.jl/output/S2012_cat/find_variant/manta/runWorkflow.py --mode local --jobs 8 --memGb 40 --quiet'\u001b[24m`\n",
      "\n",
      "Successfully created workflow run script.\n",
      "To execute the workflow, run the following script and set appropriate options:\n",
      "\n",
      "/home/jovyan/ProcessSequence.jl/github/ProcessSequence.jl/output/S2012_cat/find_variant/manta/runWorkflow.py\n"
     ]
    },
    {
     "ename": "LoadError",
     "evalue": "\u001b[91mfailed process: Process(`\u001b[4mbash\u001b[24m \u001b[4m-c\u001b[24m \u001b[4m'source activate py2 && configManta.py --referenceFasta /home/jovyan/ProcessSequence.jl/github/ProcessSequence.jl/input/reference/GCA_000001405.15_GRCh38_no_alt_analysis_set.fna.bgz --callRegions /home/jovyan/ProcessSequence.jl/github/ProcessSequence.jl/input/reference/chromosome.bed.gz --bam /home/jovyan/ProcessSequence.jl/github/ProcessSequence.jl/output/S2012_cat/align_sequence/germ.bam --outputContig --runDir /home/jovyan/ProcessSequence.jl/github/ProcessSequence.jl/output/S2012_cat/find_variant/manta && /home/jovyan/ProcessSequence.jl/github/ProcessSequence.jl/output/S2012_cat/find_variant/manta/runWorkflow.py --mode local --jobs 8 --memGb 40 --quiet'\u001b[24m`, ProcessExited(1)) [1]\u001b[39m\n",
     "output_type": "error",
     "traceback": [
      "\u001b[91mfailed process: Process(`\u001b[4mbash\u001b[24m \u001b[4m-c\u001b[24m \u001b[4m'source activate py2 && configManta.py --referenceFasta /home/jovyan/ProcessSequence.jl/github/ProcessSequence.jl/input/reference/GCA_000001405.15_GRCh38_no_alt_analysis_set.fna.bgz --callRegions /home/jovyan/ProcessSequence.jl/github/ProcessSequence.jl/input/reference/chromosome.bed.gz --bam /home/jovyan/ProcessSequence.jl/github/ProcessSequence.jl/output/S2012_cat/align_sequence/germ.bam --outputContig --runDir /home/jovyan/ProcessSequence.jl/github/ProcessSequence.jl/output/S2012_cat/find_variant/manta && /home/jovyan/ProcessSequence.jl/github/ProcessSequence.jl/output/S2012_cat/find_variant/manta/runWorkflow.py --mode local --jobs 8 --memGb 40 --quiet'\u001b[24m`, ProcessExited(1)) [1]\u001b[39m\n",
      "",
      "Stacktrace:",
      " [1] pipeline_error at ./process.jl:525 [inlined]",
      " [2] run(::Cmd; wait::Bool) at ./process.jl:440",
      " [3] run at ./process.jl:438 [inlined]",
      " [4] run_command at /home/jovyan/ProcessSequence.jl/github/ProcessSequence.jl/src/run_command.jl:5 [inlined]",
      " [5] find_variant(::String, ::Nothing, ::Bool, ::String, ::String, ::String, ::String, ::Int64, ::Int64, ::String) at /home/jovyan/ProcessSequence.jl/github/ProcessSequence.jl/src/find_variant.jl:67",
      " [6] process_germ_dna(::String, ::String, ::Bool, ::String, ::String, ::String, ::String, ::Int64, ::Int64, ::Int64, ::String) at /home/jovyan/ProcessSequence.jl/github/ProcessSequence.jl/src/process_germ_dna.jl:63",
      " [7] top-level scope at In[6]:1",
      " [8] include_string(::Function, ::Module, ::String, ::String) at ./loading.jl:1091"
     ]
    }
   ],
   "source": [
    "ProcessSequence.process_germ_dna(\n",
    "    fq1,\n",
    "    fq2,\n",
    "    ta,\n",
    "    joinpath(paou, string(sa)),\n",
    "    process_dna_arguments...,\n",
    ")"
   ]
  },
  {
   "cell_type": "markdown",
   "metadata": {},
   "source": [
    "# Benchmark"
   ]
  },
  {
   "cell_type": "code",
   "execution_count": null,
   "metadata": {},
   "outputs": [],
   "source": [
    "papa = dirname(@__DIR__)\n",
    "\n",
    "using JSON: parse\n",
    "\n",
    "project_json = parse(read(joinpath(papa, \"project.json\"), String))\n",
    "\n",
    "paou = joinpath(papa, \"output\")\n",
    "\n",
    "paip = joinpath(papa, \"input\")\n",
    "\n",
    "reference_dir = joinpath(paip, \"reference\")\n",
    "\n",
    "baseline_vcf = joinpath(paip, \"high_confidence_HG002_4.1_GRCh38/HG002_GRCh38_1_22_v4.1_draft_benchmark.vcf.gz\")\n",
    "\n",
    "calls_vcf = joinpath(paou, \"process_germ_dna_HG002_cat/find_variant/strelka/results/variants/variants.vcf.gz\")\n",
    "\n",
    "rtg_sdf_reference_dir = joinpath(paip, \"GRCh38.sdf\")\n",
    "\n",
    "benchmark_paou = joinpath(paou, \"process_germ_dna_HG002_cat/benchmark\")\n",
    "\n",
    "rtg_executable = \"/opt/rtg/rtg-tools-3.11/rtg\""
   ]
  },
  {
   "cell_type": "markdown",
   "metadata": {},
   "source": [
    "### Configure vcfeval"
   ]
  },
  {
   "cell_type": "code",
   "execution_count": null,
   "metadata": {},
   "outputs": [],
   "source": [
    "run(`$rtg_executable`)"
   ]
  },
  {
   "cell_type": "markdown",
   "metadata": {},
   "source": [
    "### Download Real Time Genomics prepared GRCH38 files\n",
    "vcfeval requires reference files in RTG formats. RTG makes versions of these files for the popular reference genomes such as GRCh38, which will be downloaded below."
   ]
  },
  {
   "cell_type": "code",
   "execution_count": null,
   "metadata": {},
   "outputs": [],
   "source": [
    "if ispath(rtg_sdf_reference_dir)\n",
    "    \n",
    "    println(\"Skipping download because RTG GRCh38 data directory already exists:\\n $rtg_sdf_reference_dir\")\n",
    "\n",
    "else\n",
    "\n",
    "    run(pipeline(\n",
    "            `wget -q -P ../input/ https://s3.amazonaws.com/rtg-datasets/references/GRCh38.sdf.zip`,\n",
    "            `unzip -d ../input/ ../input/GRCh38.sdf.zip`,\n",
    "            `rm ../input/GRCh38.sdf.zip`,\n",
    "            ))\n",
    "end"
   ]
  },
  {
   "cell_type": "markdown",
   "metadata": {},
   "source": [
    "### Run vcfeval\n",
    "This command comapares the VCF you generated (calls) to the highly confident VCF generated by Genome in a Bottle (baseline)."
   ]
  },
  {
   "cell_type": "code",
   "execution_count": null,
   "metadata": {},
   "outputs": [],
   "source": [
    "run(`$rtg_executable vcfeval\n",
    "    --baseline=$baseline_vcf\n",
    "    --calls=$calls_vcf\n",
    "    --template=$rtg_sdf_reference_dir\n",
    "    --output=$benchmark_paou\n",
    "    --threads=1\n",
    "    `)"
   ]
  },
  {
   "cell_type": "markdown",
   "metadata": {},
   "source": [
    "### See results\n",
    "Read more about how to interpret vcfeval results [here](https://cdn.rawgit.com/RealTimeGenomics/rtg-tools/master/installer/resources/tools/RTGOperationsManual/rtg_command_reference.html#vcfeval)."
   ]
  },
  {
   "cell_type": "code",
   "execution_count": null,
   "metadata": {},
   "outputs": [],
   "source": [
    "vcfeval_summary_file = open(joinpath(benchmark_paouput_dir, \"summary.txt\"))\n",
    "\n",
    "vcfeval_summary = read(vcfeval_summary_file)\n",
    "\n",
    "vcfeval_summary"
   ]
  }
 ],
 "metadata": {
  "@webio": {
   "lastCommId": null,
   "lastKernelId": null
  },
  "kernelspec": {
   "display_name": "Julia 1.5.2",
   "language": "julia",
   "name": "julia-1.5"
  },
  "language_info": {
   "file_extension": ".jl",
   "mimetype": "application/julia",
   "name": "julia",
   "version": "1.5.2"
  }
 },
 "nbformat": 4,
 "nbformat_minor": 4
}
