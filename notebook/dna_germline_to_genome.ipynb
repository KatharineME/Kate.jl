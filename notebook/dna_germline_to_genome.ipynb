{
 "cells": [
  {
   "cell_type": "code",
   "execution_count": 1,
   "metadata": {},
   "outputs": [
    {
     "data": {
      "text/plain": [
       "Main.ProcessSequence"
      ]
     },
     "execution_count": 1,
     "metadata": {},
     "output_type": "execute_result"
    }
   ],
   "source": [
    "using Revise\n",
    "\n",
    "include(\"../src/ProcessSequence.jl\")"
   ]
  },
  {
   "cell_type": "code",
   "execution_count": 4,
   "metadata": {},
   "outputs": [
    {
     "data": {
      "text/plain": [
       "2"
      ]
     },
     "execution_count": 4,
     "metadata": {},
     "output_type": "execute_result"
    }
   ],
   "source": [
    "# name\n",
    "sa = \"test_high_quality\"\n",
    "\n",
    "fq1 = \"../input/test_high_quality/germ_dna.R1.1m.fastq.gz\"\n",
    "\n",
    "fq2 = \"../input/test_high_quality/germ_dna.R2.1m.fastq.gz\"\n",
    "\n",
    "# sa = \"S2012_cat\"\n",
    "\n",
    "# fq1 = \"../input/S2012_cat/S2012_R1.fastq.gz\"\n",
    "\n",
    "# fq2 = \"../input/S2012_cat/S2012_R2.fastq.gz\"\n",
    "\n",
    "# is dna targeted\n",
    "ta = false\n",
    "\n",
    "# Number of jobs\n",
    "n_jo = 8\n",
    "\n",
    "# G of memory\n",
    "meto = 40;\n",
    "\n",
    "# G of memory per job\n",
    "mejo = 2"
   ]
  },
  {
   "cell_type": "code",
   "execution_count": 5,
   "metadata": {},
   "outputs": [],
   "source": [
    "papr = dirname(@__DIR__)\n",
    "\n",
    "paou = joinpath(papr, \"output\")\n",
    "\n",
    "paip = joinpath(papr, \"input\")\n",
    "\n",
    "pasa = joinpath(paip, sa)\n",
    "\n",
    "pare = joinpath(paip, \"reference\")\n",
    "\n",
    "pasn = \"/opt/snpeff/snpEff/snpEff.jar\";"
   ]
  },
  {
   "cell_type": "code",
   "execution_count": 6,
   "metadata": {},
   "outputs": [
    {
     "name": "stdout",
     "output_type": "stream",
     "text": [
      "Checking program...\n",
      "`\u001b[4mwhich\u001b[24m \u001b[4mskewer\u001b[24m`\n",
      "/opt/conda/bin/skewer\n",
      "`\u001b[4mwhich\u001b[24m \u001b[4mfastqc\u001b[24m`\n",
      "/opt/conda/bin/fastqc\n",
      "`\u001b[4mwhich\u001b[24m \u001b[4mbgzip\u001b[24m`\n",
      "/opt/conda/bin/bgzip\n",
      "`\u001b[4mwhich\u001b[24m \u001b[4mtabix\u001b[24m`\n",
      "/opt/conda/bin/tabix\n",
      "`\u001b[4mwhich\u001b[24m \u001b[4mminimap2\u001b[24m`\n",
      "/opt/conda/bin/minimap2\n",
      "`\u001b[4mwhich\u001b[24m \u001b[4msamtools\u001b[24m`\n",
      "/opt/conda/bin/samtools\n",
      "`\u001b[4mwhich\u001b[24m \u001b[4mbcftools\u001b[24m`\n",
      "/opt/conda/bin/bcftools\n",
      "`\u001b[4mwhich\u001b[24m \u001b[4mkallisto\u001b[24m`\n",
      "/opt/conda/bin/kallisto\n",
      "`\u001b[4mbash\u001b[24m \u001b[4m-c\u001b[24m \u001b[4m'source activate py2 && which configManta.py'\u001b[24m`\n",
      "/opt/conda/envs/py2/bin/configManta.py\n",
      "`\u001b[4mbash\u001b[24m \u001b[4m-c\u001b[24m \u001b[4m'source activate py2 && which configureStrelkaGermlineWorkflow.py'\u001b[24m`\n",
      "/opt/conda/envs/py2/bin/configureStrelkaGermlineWorkflow.py\n",
      "`\u001b[4mbash\u001b[24m \u001b[4m-c\u001b[24m \u001b[4m'source activate py2 && which configureStrelkaSomaticWorkflow.py'\u001b[24m`\n",
      "/opt/conda/envs/py2/bin/configureStrelkaSomaticWorkflow.py\n"
     ]
    }
   ],
   "source": [
    "ProcessSequence.check_program()"
   ]
  },
  {
   "cell_type": "code",
   "execution_count": 7,
   "metadata": {},
   "outputs": [
    {
     "data": {
      "text/plain": [
       "(\"/home/jovyan/ProcessSequence.jl/github/ProcessSequence.jl/input/reference/GCA_000001405.15_GRCh38_no_alt_analysis_set.fna.gz\", \"/home/jovyan/ProcessSequence.jl/github/ProcessSequence.jl/input/reference/chromosome.bed.gz\", \"/home/jovyan/ProcessSequence.jl/github/ProcessSequence.jl/input/reference/chrn_n.tsv\", 8, 40, 2, \"/opt/snpeff/snpEff/snpEff.jar\")"
      ]
     },
     "execution_count": 7,
     "metadata": {},
     "output_type": "execute_result"
    }
   ],
   "source": [
    "process_dna_arguments = (\n",
    "    joinpath(pare, \"GCA_000001405.15_GRCh38_no_alt_analysis_set.fna.gz\"),\n",
    "    joinpath(pare, \"chromosome.bed.gz\"),\n",
    "    joinpath(pare, \"chrn_n.tsv\"),\n",
    "    n_jo,\n",
    "    meto,\n",
    "    mejo,\n",
    "    pasn,\n",
    ")"
   ]
  },
  {
   "cell_type": "code",
   "execution_count": null,
   "metadata": {},
   "outputs": [
    {
     "name": "stdout",
     "output_type": "stream",
     "text": [
      "/home/jovyan/ProcessSequence.jl/github/ProcessSequence.jl/output/process_germ_dna_test_high_quality/trim_sequence/\n",
      "(2021-07-23T06:12:14.177) Trimming sequence ...\n",
      "Made path for trimmed files: /home/jovyan/ProcessSequence.jl/github/ProcessSequence.jl/output/process_germ_dna_test_high_quality/trim_sequence/\n",
      "`\u001b[4mskewer\u001b[24m \u001b[4m--threads\u001b[24m \u001b[4m8\u001b[24m \u001b[4m-x\u001b[24m \u001b[4mAGATCGGAAGAGC\u001b[24m \u001b[4m--mode\u001b[24m \u001b[4mpe\u001b[24m \u001b[4m-Q\u001b[24m \u001b[4m2\u001b[24m \u001b[4m-q\u001b[24m \u001b[4m2\u001b[24m \u001b[4m--compress\u001b[24m \u001b[4m--output\u001b[24m \u001b[4m/home/jovyan/ProcessSequence.jl/github/ProcessSequence.jl/output/process_germ_dna_test_high_quality/trim_sequence/\u001b[24m \u001b[4m--quiet\u001b[24m \u001b[4m../input/test_high_quality/germ_dna.R1.1m.fastq.gz\u001b[24m \u001b[4m../input/test_high_quality/germ_dna.R2.1m.fastq.gz\u001b[24m`\n",
      ".--. .-.\n",
      ": .--': :.-.\n",
      "`. `. : `'.' .--. .-..-..-. .--. .--.\n",
      "_`, :: . `.' '_.': `; `; :' '_.': ..'\n",
      "`.__.':_;:_;`.__.'`.__.__.'`.__.':_;\n",
      "skewer v0.2.2 [April 4, 2016]\n",
      "Parameters used:\n",
      "-- 3' end adapter sequence (-x):\u001b[0;33m\tAGATCGGAAGAGC\n",
      "\u001b[0m-- maximum error ratio allowed (-r):\t0.100\n",
      "-- maximum indel error ratio allowed (-d):\t0.030\n",
      "-- mean quality threshold (-Q):\t\t2\n",
      "-- end quality threshold (-q):\t\t2\n",
      "-- minimum read length allowed after trimming (-l):\t18\n",
      "-- file format (-f):\t\tSanger/Illumina 1.8+ FASTQ (auto detected)\n",
      "-- number of concurrent threads (-t):\t8\n",
      "Fri Jul 23 06:12:14 2021\u001b[0;32m >> started\u001b[0m\n",
      "\n",
      "Fri Jul 23 06:12:39 2021\u001b[0;32m >> done\u001b[0m (25.611s)\n",
      "1000000 read pairs processed; of these:\n",
      "      4 ( 0.00%) short read pairs filtered out after trimming by size control\n",
      "      0 ( 0.00%) empty read pairs filtered out after trimming by size control\n",
      " 999996 (100.00%) read pairs available; of these:\n",
      "    355 ( 0.04%) trimmed read pairs available after processing\n",
      " 999641 (99.96%) untrimmed read pairs available after processing\n",
      "log has been saved to \"/home/jovyan/ProcessSequence.jl/github/ProcessSequence.jl/output/process_germ_dna_test_high_quality/trim_sequence/trimmed.log\".\n",
      "(2021-07-23T06:12:39.803) Done in 25 seconds, 626 milliseconds.\n",
      "(2021-07-23T06:12:39.907) Checking sequence ...\n",
      "`\u001b[4mfastqc\u001b[24m \u001b[4m--threads\u001b[24m \u001b[4m2\u001b[24m \u001b[4m--outdir\u001b[24m \u001b[4m/home/jovyan/ProcessSequence.jl/github/ProcessSequence.jl/output/process_germ_dna_test_high_quality/check_sequence_trimmed\u001b[24m \u001b[4m/home/jovyan/ProcessSequence.jl/github/ProcessSequence.jl/output/process_germ_dna_test_high_quality/trim_sequence//trimmed-pair1.fastq.gz\u001b[24m \u001b[4m/home/jovyan/ProcessSequence.jl/github/ProcessSequence.jl/output/process_germ_dna_test_high_quality/trim_sequence//trimmed-pair2.fastq.gz\u001b[24m`\n"
     ]
    },
    {
     "name": "stderr",
     "output_type": "stream",
     "text": [
      "Started analysis of trimmed-pair1.fastq.gz\n",
      "Started analysis of trimmed-pair2.fastq.gz\n",
      "Approx 5% complete for trimmed-pair1.fastq.gz\n",
      "Approx 5% complete for trimmed-pair2.fastq.gz\n",
      "Approx 10% complete for trimmed-pair1.fastq.gz\n",
      "Approx 15% complete for trimmed-pair1.fastq.gz\n",
      "Approx 10% complete for trimmed-pair2.fastq.gz\n",
      "Approx 20% complete for trimmed-pair1.fastq.gz\n",
      "Approx 15% complete for trimmed-pair2.fastq.gz\n",
      "Approx 25% complete for trimmed-pair1.fastq.gz\n",
      "Approx 20% complete for trimmed-pair2.fastq.gz\n",
      "Approx 30% complete for trimmed-pair1.fastq.gz\n",
      "Approx 25% complete for trimmed-pair2.fastq.gz\n",
      "Approx 35% complete for trimmed-pair1.fastq.gz\n",
      "Approx 30% complete for trimmed-pair2.fastq.gz\n",
      "Approx 40% complete for trimmed-pair1.fastq.gz\n",
      "Approx 35% complete for trimmed-pair2.fastq.gz\n",
      "Approx 45% complete for trimmed-pair1.fastq.gz\n",
      "Approx 40% complete for trimmed-pair2.fastq.gz\n",
      "Approx 50% complete for trimmed-pair1.fastq.gz\n",
      "Approx 45% complete for trimmed-pair2.fastq.gz\n",
      "Approx 55% complete for trimmed-pair1.fastq.gz\n",
      "Approx 50% complete for trimmed-pair2.fastq.gz\n",
      "Approx 60% complete for trimmed-pair1.fastq.gz\n",
      "Approx 55% complete for trimmed-pair2.fastq.gz\n",
      "Approx 65% complete for trimmed-pair1.fastq.gz\n",
      "Approx 60% complete for trimmed-pair2.fastq.gz\n",
      "Approx 70% complete for trimmed-pair1.fastq.gz\n",
      "Approx 65% complete for trimmed-pair2.fastq.gz\n",
      "Approx 75% complete for trimmed-pair1.fastq.gz\n",
      "Approx 80% complete for trimmed-pair1.fastq.gz\n",
      "Approx 70% complete for trimmed-pair2.fastq.gz\n",
      "Approx 85% complete for trimmed-pair1.fastq.gz\n",
      "Approx 75% complete for trimmed-pair2.fastq.gz\n",
      "Approx 90% complete for trimmed-pair1.fastq.gz\n",
      "Approx 80% complete for trimmed-pair2.fastq.gz\n",
      "Approx 95% complete for trimmed-pair1.fastq.gz\n",
      "Approx 85% complete for trimmed-pair2.fastq.gz\n"
     ]
    },
    {
     "name": "stdout",
     "output_type": "stream",
     "text": [
      "Analysis complete for trimmed-pair1.fastq.gz\n"
     ]
    },
    {
     "name": "stderr",
     "output_type": "stream",
     "text": [
      "Approx 90% complete for trimmed-pair2.fastq.gz\n",
      "Approx 95% complete for trimmed-pair2.fastq.gz\n"
     ]
    },
    {
     "name": "stdout",
     "output_type": "stream",
     "text": [
      "Analysis complete for trimmed-pair2.fastq.gz\n",
      "(2021-07-23T06:12:53.413) Done in 13 seconds, 506 milliseconds.\n",
      "(2021-07-23T06:12:53.413) Aligning sequence ...\n",
      "pipeline(pipeline(pipeline(pipeline(`\u001b[4mminimap2\u001b[24m \u001b[4m-x\u001b[24m \u001b[4msr\u001b[24m \u001b[4m-t\u001b[24m \u001b[4m8\u001b[24m \u001b[4m-K\u001b[24m \u001b[4m2G\u001b[24m \u001b[4m-R\u001b[24m \u001b[4m'@RG\\tID:Germ\\tSM:Germ'\u001b[24m \u001b[4m-a\u001b[24m \u001b[4m/home/jovyan/ProcessSequence.jl/github/ProcessSequence.jl/input/reference/GCA_000001405.15_GRCh38_no_alt_analysis_set.fna.gz.mmi\u001b[24m \u001b[4m/home/jovyan/ProcessSequence.jl/github/ProcessSequence.jl/output/process_germ_dna_test_high_quality/trim_sequence//trimmed-pair1.fastq.gz\u001b[24m \u001b[4m/home/jovyan/ProcessSequence.jl/github/ProcessSequence.jl/output/process_germ_dna_test_high_quality/trim_sequence//trimmed-pair2.fastq.gz\u001b[24m`, stdout=`\u001b[4msamtools\u001b[24m \u001b[4msort\u001b[24m \u001b[4m--threads\u001b[24m \u001b[4m8\u001b[24m \u001b[4m-n\u001b[24m`), stdout=`\u001b[4msamtools\u001b[24m \u001b[4mfixmate\u001b[24m \u001b[4m--threads\u001b[24m \u001b[4m8\u001b[24m \u001b[4m-m\u001b[24m \u001b[4m-\u001b[24m \u001b[4m-\u001b[24m`), stdout=`\u001b[4msamtools\u001b[24m \u001b[4msort\u001b[24m \u001b[4m--threads\u001b[24m \u001b[4m8\u001b[24m`), stdout>Base.FileRedirect(\"/home/jovyan/ProcessSequence.jl/github/ProcessSequence.jl/output/process_germ_dna_test_high_quality/align_sequence/germ.bam.tmp\", false))\n"
     ]
    },
    {
     "name": "stderr",
     "output_type": "stream",
     "text": [
      "[WARNING]\u001b[1;31m Indexing parameters (-k, -w or -H) overridden by parameters used in the prebuilt index.\u001b[0m\n",
      "[M::main::86.844*0.15] loaded/built the index for 195 target sequence(s)\n",
      "[M::mm_mapopt_update::86.844*0.15] mid_occ = 1000\n",
      "[M::mm_idx_stat] kmer size: 15; skip: 10; is_hpc: 0; #seq: 195\n",
      "[M::mm_idx_stat::89.778*0.17] distinct minimizers: 100167746 (38.80% are singletons); average occurrences: 5.519; average spacing: 5.607; total length: 3099922541\n",
      "[M::worker_pipeline::134.568*2.18] mapped 1999992 sequences\n",
      "[M::main] Version: 2.21-r1071\n",
      "[M::main] CMD: minimap2 -x sr -t 8 -K 2G -R @RG\\tID:Germ\\tSM:Germ -a /home/jovyan/ProcessSequence.jl/github/ProcessSequence.jl/input/reference/GCA_000001405.15_GRCh38_no_alt_analysis_set.fna.gz.mmi /home/jovyan/ProcessSequence.jl/github/ProcessSequence.jl/output/process_germ_dna_test_high_quality/trim_sequence//trimmed-pair1.fastq.gz /home/jovyan/ProcessSequence.jl/github/ProcessSequence.jl/output/process_germ_dna_test_high_quality/trim_sequence//trimmed-pair2.fastq.gz\n",
      "[M::main] Real time: 138.411 sec; CPU: 297.836 sec; Peak RSS: 8.495 GB\n",
      "[bam_sort_core] merging from 0 files and 8 in-memory blocks...\n",
      "[bam_sort_core] merging from 0 files and 8 in-memory blocks...\n"
     ]
    },
    {
     "name": "stdout",
     "output_type": "stream",
     "text": [
      "`\u001b[4msamtools\u001b[24m \u001b[4mmarkdup\u001b[24m \u001b[4m--threads\u001b[24m \u001b[4m8\u001b[24m \u001b[4m-s\u001b[24m \u001b[4m/home/jovyan/ProcessSequence.jl/github/ProcessSequence.jl/output/process_germ_dna_test_high_quality/align_sequence/germ.bam.tmp\u001b[24m \u001b[4m/home/jovyan/ProcessSequence.jl/github/ProcessSequence.jl/output/process_germ_dna_test_high_quality/align_sequence/germ.bam\u001b[24m`\n",
      "`\u001b[4msamtools\u001b[24m \u001b[4mindex\u001b[24m \u001b[4m-@\u001b[24m \u001b[4m8\u001b[24m \u001b[4m/home/jovyan/ProcessSequence.jl/github/ProcessSequence.jl/output/process_germ_dna_test_high_quality/align_sequence/germ.bam\u001b[24m`\n"
     ]
    },
    {
     "name": "stderr",
     "output_type": "stream",
     "text": [
      "COMMAND: samtools markdup --threads 8 -s /home/jovyan/ProcessSequence.jl/github/ProcessSequence.jl/output/process_germ_dna_test_high_quality/align_sequence/germ.bam.tmp /home/jovyan/ProcessSequence.jl/github/ProcessSequence.jl/output/process_germ_dna_test_high_quality/align_sequence/germ.bam\n",
      "READ: 2001102\n",
      "WRITTEN: 2001102\n",
      "EXCLUDED: 5504\n",
      "EXAMINED: 1995598\n",
      "PAIRED: 1991998\n",
      "SINGLE: 3600\n",
      "DUPLICATE PAIR: 24294\n",
      "DUPLICATE SINGLE: 533\n",
      "DUPLICATE PAIR OPTICAL: 0\n",
      "DUPLICATE SINGLE OPTICAL: 0\n",
      "DUPLICATE NON PRIMARY: 0\n",
      "DUPLICATE NON PRIMARY OPTICAL: 0\n",
      "DUPLICATE PRIMARY TOTAL: 24827\n",
      "DUPLICATE TOTAL: 24827\n",
      "ESTIMATED_LIBRARY_SIZE: 40501025\n"
     ]
    },
    {
     "name": "stdout",
     "output_type": "stream",
     "text": [
      "pipeline(`\u001b[4msamtools\u001b[24m \u001b[4mflagstat\u001b[24m \u001b[4m--threads\u001b[24m \u001b[4m8\u001b[24m \u001b[4m/home/jovyan/ProcessSequence.jl/github/ProcessSequence.jl/output/process_germ_dna_test_high_quality/align_sequence/germ.bam\u001b[24m`, stdout>Base.FileRedirect(\"/home/jovyan/ProcessSequence.jl/github/ProcessSequence.jl/output/process_germ_dna_test_high_quality/align_sequence/germ.bam.flagstat\", false))\n",
      "(2021-07-23T06:15:41.522) Done in 2 minutes, 48 seconds, 109 milliseconds.\n",
      "Starting variant analysis\n",
      "1\n",
      "1.5\n",
      "1.75\n",
      "2\n",
      "`\u001b[4mbash\u001b[24m \u001b[4m-c\u001b[24m \u001b[4m'source activate py2 && configManta.py --referenceFasta /home/jovyan/ProcessSequence.jl/github/ProcessSequence.jl/input/reference/GCA_000001405.15_GRCh38_no_alt_analysis_set.fna.bgz --callRegions /home/jovyan/ProcessSequence.jl/github/ProcessSequence.jl/input/reference/chromosome.bed.gz --bam /home/jovyan/ProcessSequence.jl/github/ProcessSequence.jl/output/process_germ_dna_test_high_quality/align_sequence/germ.bam --outputContig --runDir /home/jovyan/ProcessSequence.jl/github/ProcessSequence.jl/output/process_germ_dna_test_high_quality/find_variant/manta && /home/jovyan/ProcessSequence.jl/github/ProcessSequence.jl/output/process_germ_dna_test_high_quality/find_variant/manta/runWorkflow.py --mode local --jobs 8 --memGb 40 --quiet'\u001b[24m`\n",
      "\n",
      "Successfully created workflow run script.\n",
      "To execute the workflow, run the following script and set appropriate options:\n",
      "\n",
      "/home/jovyan/ProcessSequence.jl/github/ProcessSequence.jl/output/process_germ_dna_test_high_quality/find_variant/manta/runWorkflow.py\n",
      "`\u001b[4mbash\u001b[24m \u001b[4m-c\u001b[24m \u001b[4m'source activate py2 && configureStrelkaGermlineWorkflow.py --referenceFasta /home/jovyan/ProcessSequence.jl/github/ProcessSequence.jl/input/reference/GCA_000001405.15_GRCh38_no_alt_analysis_set.fna.bgz --callRegions /home/jovyan/ProcessSequence.jl/github/ProcessSequence.jl/input/reference/chromosome.bed.gz --bam /home/jovyan/ProcessSequence.jl/github/ProcessSequence.jl/output/process_germ_dna_test_high_quality/align_sequence/germ.bam --runDir /home/jovyan/ProcessSequence.jl/github/ProcessSequence.jl/output/process_germ_dna_test_high_quality/find_variant/strelka && /home/jovyan/ProcessSequence.jl/github/ProcessSequence.jl/output/process_germ_dna_test_high_quality/find_variant/strelka/runWorkflow.py --mode local --jobs 8 --memGb 40 --quiet'\u001b[24m`\n",
      "\n",
      "Successfully created workflow run script.\n",
      "To execute the workflow, run the following script and set appropriate options:\n",
      "\n",
      "/home/jovyan/ProcessSequence.jl/github/ProcessSequence.jl/output/process_germ_dna_test_high_quality/find_variant/strelka/runWorkflow.py\n"
     ]
    }
   ],
   "source": [
    "ProcessSequence.process_germ_dna(\n",
    "    fq1,\n",
    "    fq2,\n",
    "    ta,\n",
    "    joinpath(paou, string(\"process_germ_dna_\", sa)),\n",
    "    process_dna_arguments...,\n",
    ")"
   ]
  },
  {
   "cell_type": "markdown",
   "metadata": {},
   "source": [
    "# Benchmark"
   ]
  },
  {
   "cell_type": "code",
   "execution_count": null,
   "metadata": {},
   "outputs": [],
   "source": [
    "papa = dirname(@__DIR__)\n",
    "\n",
    "using JSON: parse\n",
    "\n",
    "project_json = parse(read(joinpath(papa, \"project.json\"), String))\n",
    "\n",
    "paou = joinpath(papa, \"output\")\n",
    "\n",
    "paip = joinpath(papa, \"input\")\n",
    "\n",
    "reference_dir = joinpath(paip, \"reference\")\n",
    "\n",
    "baseline_vcf = joinpath(paip, \"high_confidence_HG002_4.1_GRCh38/HG002_GRCh38_1_22_v4.1_draft_benchmark.vcf.gz\")\n",
    "\n",
    "calls_vcf = joinpath(paou, \"process_germ_dna_HG002_cat/find_variant/strelka/results/variants/variants.vcf.gz\")\n",
    "\n",
    "rtg_sdf_reference_dir = joinpath(paip, \"GRCh38.sdf\")\n",
    "\n",
    "benchmark_paou = joinpath(paou, \"process_germ_dna_HG002_cat/benchmark\")\n",
    "\n",
    "rtg_executable = \"/opt/rtg/rtg-tools-3.11/rtg\""
   ]
  },
  {
   "cell_type": "markdown",
   "metadata": {},
   "source": [
    "### Configure vcfeval"
   ]
  },
  {
   "cell_type": "code",
   "execution_count": null,
   "metadata": {},
   "outputs": [],
   "source": [
    "run(`$rtg_executable`)"
   ]
  },
  {
   "cell_type": "markdown",
   "metadata": {},
   "source": [
    "### Download Real Time Genomics prepared GRCH38 files\n",
    "vcfeval requires reference files in RTG formats. RTG makes versions of these files for the popular reference genomes such as GRCh38, which will be downloaded below."
   ]
  },
  {
   "cell_type": "code",
   "execution_count": null,
   "metadata": {},
   "outputs": [],
   "source": [
    "if ispath(rtg_sdf_reference_dir)\n",
    "    \n",
    "    println(\"Skipping download because RTG GRCh38 data directory already exists:\\n $rtg_sdf_reference_dir\")\n",
    "\n",
    "else\n",
    "\n",
    "    run(pipeline(\n",
    "            `wget -q -P ../input/ https://s3.amazonaws.com/rtg-datasets/references/GRCh38.sdf.zip`,\n",
    "            `unzip -d ../input/ ../input/GRCh38.sdf.zip`,\n",
    "            `rm ../input/GRCh38.sdf.zip`,\n",
    "            ))\n",
    "end"
   ]
  },
  {
   "cell_type": "markdown",
   "metadata": {},
   "source": [
    "### Run vcfeval\n",
    "This command comapares the VCF you generated (calls) to the highly confident VCF generated by Genome in a Bottle (baseline)."
   ]
  },
  {
   "cell_type": "code",
   "execution_count": null,
   "metadata": {},
   "outputs": [],
   "source": [
    "run(`$rtg_executable vcfeval\n",
    "    --baseline=$baseline_vcf\n",
    "    --calls=$calls_vcf\n",
    "    --template=$rtg_sdf_reference_dir\n",
    "    --output=$benchmark_paou\n",
    "    --threads=1\n",
    "    `)"
   ]
  },
  {
   "cell_type": "markdown",
   "metadata": {},
   "source": [
    "### See results\n",
    "Read more about how to interpret vcfeval results [here](https://cdn.rawgit.com/RealTimeGenomics/rtg-tools/master/installer/resources/tools/RTGOperationsManual/rtg_command_reference.html#vcfeval)."
   ]
  },
  {
   "cell_type": "code",
   "execution_count": null,
   "metadata": {},
   "outputs": [],
   "source": [
    "vcfeval_summary_file = open(joinpath(benchmark_paouput_dir, \"summary.txt\"))\n",
    "\n",
    "vcfeval_summary = read(vcfeval_summary_file)\n",
    "\n",
    "vcfeval_summary"
   ]
  }
 ],
 "metadata": {
  "@webio": {
   "lastCommId": null,
   "lastKernelId": null
  },
  "kernelspec": {
   "display_name": "Julia 1.5.2",
   "language": "julia",
   "name": "julia-1.5"
  },
  "language_info": {
   "file_extension": ".jl",
   "mimetype": "application/julia",
   "name": "julia",
   "version": "1.5.2"
  }
 },
 "nbformat": 4,
 "nbformat_minor": 4
}
