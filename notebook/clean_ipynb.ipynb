{
 "cells": [
  {
   "cell_type": "code",
   "execution_count": null,
   "metadata": {},
   "outputs": [],
   "source": [
    "using JSON"
   ]
  },
  {
   "cell_type": "code",
   "execution_count": null,
   "metadata": {},
   "outputs": [],
   "source": [
    "local ipynb\n",
    "\n",
    "open(\"clean_ipynb.ipynb\") do io\n",
    "    \n",
    "    global ipynb\n",
    "    \n",
    "    ipynb = JSON.parse(read(\n",
    "        io,\n",
    "        String,\n",
    "    ))\n",
    "    \n",
    "end\n",
    "\n",
    "ipynb[\"metadata\"][\"language_info\"][\"name\"]"
   ]
  }
 ],
 "metadata": {
  "@webio": {
   "lastCommId": null,
   "lastKernelId": null
  },
  "kernelspec": {
   "display_name": "Julia 1.0.3",
   "language": "julia",
   "name": "julia-1.0"
  },
  "language_info": {
   "file_extension": ".jl",
   "mimetype": "application/julia",
   "name": "julia",
   "version": "1.0.3"
  }
 },
 "nbformat": 4,
 "nbformat_minor": 2
}
