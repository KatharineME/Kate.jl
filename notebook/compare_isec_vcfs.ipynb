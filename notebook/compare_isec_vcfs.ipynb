{
 "cells": [
  {
   "cell_type": "code",
   "execution_count": null,
   "metadata": {},
   "outputs": [],
   "source": [
    "using TableReader: readtsv\n",
    "\n",
    "\n",
    "function read_vcf(\n",
    "        vcf_file_path::String;\n",
    "        sample_name::String=\"Sample\",\n",
    "    )\n",
    "    \n",
    "    readtsv(\n",
    "        vcf_file_path,\n",
    "        comment=\"#\",\n",
    "        colnames=[\n",
    "            :CHROM,\n",
    "            :POS,\n",
    "            :ID,\n",
    "            :REF,\n",
    "            :ALT,\n",
    "            :QUAL,\n",
    "            :FILTER,\n",
    "            :INFO,\n",
    "            :FORMAT,\n",
    "            Symbol(sample_name),\n",
    "        ],\n",
    "        chunkbits=0,\n",
    "    )\n",
    "    \n",
    "end"
   ]
  },
  {
   "cell_type": "code",
   "execution_count": null,
   "metadata": {},
   "outputs": [],
   "source": [
    "using Statistics: mean"
   ]
  },
  {
   "cell_type": "code",
   "execution_count": null,
   "metadata": {
    "scrolled": true
   },
   "outputs": [],
   "source": [
    "_0000 = read_vcf(\"/home/kwat/garden/738/isec/0000.vcf\")\n",
    "\n",
    "_0001 = read_vcf(\"/home/kwat/garden/738/isec/0001.vcf\")\n",
    "\n",
    "_0002 = read_vcf(\"/home/kwat/garden/738/isec/0002.vcf\")\n",
    "\n",
    "_0003 = read_vcf(\"/home/kwat/garden/738/isec/0003.vcf\");"
   ]
  },
  {
   "cell_type": "code",
   "execution_count": null,
   "metadata": {
    "scrolled": true
   },
   "outputs": [],
   "source": [
    "for dataframe in (\n",
    "    _0000,\n",
    "    _0001,\n",
    "    _0002,\n",
    "    _0003,\n",
    ")\n",
    "    \n",
    "    quals = dataframe[:QUAL]\n",
    "    \n",
    "    if eltype(quals) == String\n",
    "        \n",
    "        quals = parse.(\n",
    "            Float64,\n",
    "            replace(\n",
    "                quals,\n",
    "                \".\"=>\"0\",\n",
    "            ),\n",
    "        )\n",
    "            \n",
    "    end\n",
    "\n",
    "    println(\"QUAL Mean = $(mean(Float64, quals))\")\n",
    "    \n",
    "    filters = dataframe[:FILTER]\n",
    "    \n",
    "    println(\"PASS fraction = $(sum(filters.==\"PASS\")/length(filters))\")\n",
    "    \n",
    "    println()\n",
    "    \n",
    "end"
   ]
  }
 ],
 "metadata": {
  "@webio": {
   "lastCommId": null,
   "lastKernelId": null
  },
  "kernelspec": {
   "display_name": "Julia 1.0.3",
   "language": "julia",
   "name": "julia-1.0"
  },
  "language_info": {
   "file_extension": ".jl",
   "mimetype": "application/julia",
   "name": "julia",
   "version": "1.0.3"
  }
 },
 "nbformat": 4,
 "nbformat_minor": 2
}
