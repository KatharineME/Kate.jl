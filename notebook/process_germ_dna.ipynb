{
 "cells": [
  {
   "cell_type": "code",
   "execution_count": null,
   "metadata": {},
   "outputs": [],
   "source": [
    "include(\"../src/Kraft.jl\")"
   ]
  },
  {
   "cell_type": "code",
   "execution_count": null,
   "metadata": {},
   "outputs": [],
   "source": [
    "Kraft.check_programs()"
   ]
  },
  {
   "cell_type": "code",
   "execution_count": null,
   "metadata": {},
   "outputs": [],
   "source": [
    "const path_dict = Kraft.make_path_dict(\"/home/kwat/data\")"
   ]
  },
  {
   "cell_type": "code",
   "execution_count": null,
   "metadata": {},
   "outputs": [],
   "source": [
    "const germ_dna_1_fq_gz = \"/home/kwat/sample/germ_dna.1.fastq.gz\"\n",
    "\n",
    "const germ_dna_2_fq_gz = \"/home/kwat/sample/germ_dna.2.fastq.gz\"\n",
    "\n",
    "const is_targeted = true\n",
    "\n",
    "const output_dir = \"/home/kwat/sample/process_germ_dna\"\n",
    "\n",
    "# const germ_dna_1_fq_gz = \"/home/kwat/738/WGC056190D_combined_R1.fastq.gz\"\n",
    "\n",
    "# const germ_dna_2_fq_gz = \"/home/kwat/738/WGC056190D_combined_R2.fastq.gz\"\n",
    "\n",
    "# const is_targeted = false\n",
    "\n",
    "# const output_dir = \"/home/kwat/738/process_germ_dna\"\n",
    "\n",
    "const n_job = 8\n",
    "\n",
    "const gb_memory = 32\n",
    "\n",
    "const job_gb_memory = 2"
   ]
  },
  {
   "cell_type": "code",
   "execution_count": null,
   "metadata": {},
   "outputs": [],
   "source": [
    "for file_path::String in(\n",
    "    germ_dna_1_fq_gz,\n",
    "    germ_dna_2_fq_gz,\n",
    ")\n",
    "    \n",
    "    if !isfile(file_path)\n",
    "        \n",
    "        error(\"$file_path doesn't exist.\")\n",
    "    \n",
    "    end\n",
    "    \n",
    "end"
   ]
  },
  {
   "cell_type": "code",
   "execution_count": null,
   "metadata": {
    "scrolled": true
   },
   "outputs": [],
   "source": [
    "const germ_trim_sequence_prefix = joinpath(\n",
    "    output_dir,\n",
    "    \"trim_sequence\",\n",
    "    \"germ\",\n",
    ")\n",
    "\n",
    "Kraft.trim_sequence(\n",
    "    germ_dna_1_fq_gz,\n",
    "    germ_dna_2_fq_gz,\n",
    "    germ_trim_sequence_prefix,\n",
    "    n_job,\n",
    ")\n",
    "\n",
    "const germ_trim_1_fq_gz = \"$germ_trim_sequence_prefix-trimmed-pair1.fastq.gz\"\n",
    "\n",
    "const germ_trim_2_fq_gz = replace(\n",
    "    germ_trim_1_fq_gz,\n",
    "    \"pair1\"=>\"pair2\",\n",
    ")"
   ]
  },
  {
   "cell_type": "code",
   "execution_count": null,
   "metadata": {
    "scrolled": true
   },
   "outputs": [],
   "source": [
    "Kraft.check_sequence(\n",
    "    (\n",
    "        germ_trim_1_fq_gz,\n",
    "        germ_trim_2_fq_gz,\n",
    "    ),\n",
    "    joinpath(\n",
    "        output_dir,\n",
    "        \"check_sequence\",\n",
    "    ),\n",
    "    n_job,\n",
    ")"
   ]
  },
  {
   "cell_type": "code",
   "execution_count": null,
   "metadata": {
    "scrolled": true
   },
   "outputs": [],
   "source": [
    "const germ_bam = joinpath(\n",
    "    output_dir,\n",
    "    \"align_sequence\",\n",
    "    \"germ_dna.bam\",\n",
    ")\n",
    "\n",
    "Kraft.align_sequence(\n",
    "    germ_trim_1_fq_gz,\n",
    "    germ_trim_2_fq_gz,\n",
    "    \"Germ\",\n",
    "    path_dict[\"dna.fa.gz\"],\n",
    "    germ_bam,\n",
    "    n_job,\n",
    "    job_gb_memory,\n",
    ")"
   ]
  },
  {
   "cell_type": "code",
   "execution_count": null,
   "metadata": {
    "scrolled": true
   },
   "outputs": [],
   "source": [
    "const find_mutation_dir = joinpath(\n",
    "    output_dir,\n",
    "    \"find_variant\",\n",
    ")\n",
    "\n",
    "Kraft.find_variant(\n",
    "    germ_bam,\n",
    "    nothing,\n",
    "    path_dict[\"dna.fa.bgz\"],\n",
    "    path_dict[\"chromosome.bed.gz\"],\n",
    "    is_targeted,\n",
    "    path_dict[\"chrn_n.tsv\"],\n",
    "    find_mutation_dir,\n",
    "    n_job,\n",
    "    gb_memory,\n",
    ")"
   ]
  }
 ],
 "metadata": {
  "kernelspec": {
   "display_name": "Julia 1.0.3",
   "language": "julia",
   "name": "julia-1.0"
  },
  "language_info": {
   "file_extension": ".jl",
   "mimetype": "application/julia",
   "name": "julia",
   "version": "1.0.3"
  }
 },
 "nbformat": 4,
 "nbformat_minor": 2
}
