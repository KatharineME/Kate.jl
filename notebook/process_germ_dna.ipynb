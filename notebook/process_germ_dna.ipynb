{
 "cells": [
  {
   "cell_type": "code",
   "execution_count": 1,
   "metadata": {},
   "outputs": [
    {
     "name": "stdout",
     "output_type": "stream",
     "text": [
      "/home/kwat/github/Kraft.jl/src/Kraft.jl\n"
     ]
    },
    {
     "data": {
      "text/plain": [
       "Main.Kraft"
      ]
     },
     "execution_count": 1,
     "metadata": {},
     "output_type": "execute_result"
    }
   ],
   "source": [
    "include(\"../src/Kraft.jl\")"
   ]
  },
  {
   "cell_type": "code",
   "execution_count": 2,
   "metadata": {},
   "outputs": [
    {
     "name": "stdout",
     "output_type": "stream",
     "text": [
      "Checking programs ...\n",
      "`\u001b[4mwhich\u001b[24m \u001b[4mskewer\u001b[24m`\n",
      "/home/kwat/miniconda3/bin/skewer\n",
      "`\u001b[4mwhich\u001b[24m \u001b[4mfastqc\u001b[24m`\n",
      "/home/kwat/miniconda3/bin/fastqc\n",
      "`\u001b[4mwhich\u001b[24m \u001b[4mbgzip\u001b[24m`\n",
      "/home/kwat/miniconda3/bin/bgzip\n",
      "`\u001b[4mwhich\u001b[24m \u001b[4mtabix\u001b[24m`\n",
      "/home/kwat/miniconda3/bin/tabix\n",
      "`\u001b[4mwhich\u001b[24m \u001b[4mminimap2\u001b[24m`\n",
      "/home/kwat/miniconda3/bin/minimap2\n",
      "`\u001b[4mwhich\u001b[24m \u001b[4msamtools\u001b[24m`\n",
      "/home/kwat/miniconda3/bin/samtools\n",
      "`\u001b[4mwhich\u001b[24m \u001b[4mbcftools\u001b[24m`\n",
      "/home/kwat/miniconda3/bin/bcftools\n",
      "`\u001b[4mwhich\u001b[24m \u001b[4msnpEff\u001b[24m`\n",
      "/home/kwat/miniconda3/bin/snpEff\n",
      "`\u001b[4mwhich\u001b[24m \u001b[4mkallisto\u001b[24m`\n",
      "/home/kwat/miniconda3/bin/kallisto\n",
      "`\u001b[4mbash\u001b[24m \u001b[4m-c\u001b[24m \u001b[4m'source activate py2.7 && which configManta.py'\u001b[24m`\n",
      "/home/kwat/miniconda3/envs/py2.7/bin/configManta.py\n",
      "`\u001b[4mbash\u001b[24m \u001b[4m-c\u001b[24m \u001b[4m'source activate py2.7 && which configureStrelkaGermlineWorkflow.py'\u001b[24m`\n",
      "/home/kwat/miniconda3/envs/py2.7/bin/configureStrelkaGermlineWorkflow.py\n",
      "`\u001b[4mbash\u001b[24m \u001b[4m-c\u001b[24m \u001b[4m'source activate py2.7 && which configureStrelkaSomaticWorkflow.py'\u001b[24m`\n",
      "/home/kwat/miniconda3/envs/py2.7/bin/configureStrelkaSomaticWorkflow.py\n"
     ]
    }
   ],
   "source": [
    "Kraft.check_programs()"
   ]
  },
  {
   "cell_type": "code",
   "execution_count": 3,
   "metadata": {},
   "outputs": [
    {
     "name": "stdout",
     "output_type": "stream",
     "text": [
      "Making path dict ...\n",
      "/home/kwat/data/grch/GCA_000001405.15_GRCh38_no_alt_analysis_set.fna.gz\n",
      "/home/kwat/data/grch/chromosome.bed.gz\n",
      "/home/kwat/data/grch/chrn_n.tsv\n",
      "/home/kwat/data/grch/Homo_sapiens.GRCh38.cdna.all.fa.gz\n",
      "/home/kwat/data/grch/enst_gene_name.tsv\n",
      "/home/kwat/data/virus/sequences.fasta\n",
      "/home/kwat/data/virus/sequences.fasta\n"
     ]
    },
    {
     "data": {
      "text/plain": [
       "Dict{String,String} with 6 entries:\n",
       "  \"dna.fa.gz\"         => \"/home/kwat/data/grch/GCA_000001405.15_GRCh38_no_alt_a…\n",
       "  \"chrn_n.tsv\"        => \"/home/kwat/data/grch/chrn_n.tsv\"\n",
       "  \"chromosome.bed.gz\" => \"/home/kwat/data/grch/chromosome.bed.gz\"\n",
       "  \"virus_cdna.fa.gz\"  => \"/home/kwat/data/virus/sequences.fasta\"\n",
       "  \"cdna.fa.gz\"        => \"/home/kwat/data/grch/Homo_sapiens.GRCh38.cdna.all.fa.…\n",
       "  \"dna.fa.bgz\"        => \"/home/kwat/data/grch/GCA_000001405.15_GRCh38_no_alt_a…"
      ]
     },
     "execution_count": 3,
     "metadata": {},
     "output_type": "execute_result"
    }
   ],
   "source": [
    "const path_dict = Kraft.make_path_dict(\n",
    "    \"/home/kwat/data\",\n",
    "    1,\n",
    ")"
   ]
  },
  {
   "cell_type": "code",
   "execution_count": 4,
   "metadata": {},
   "outputs": [
    {
     "data": {
      "text/plain": [
       "2"
      ]
     },
     "execution_count": 4,
     "metadata": {},
     "output_type": "execute_result"
    }
   ],
   "source": [
    "# const germ_dna_1_fq_gz = \"/home/kwat/sample/germ_dna.1.fastq.gz\"\n",
    "const germ_dna_1_fq_gz = \"/home/kwat/738/WGC056190D_combined_R1.fastq.gz\"\n",
    "\n",
    "# const germ_dna_2_fq_gz = \"/home/kwat/sample/germ_dna.2.fastq.gz\"\n",
    "const germ_dna_2_fq_gz = \"/home/kwat/738/WGC056190D_combined_R2.fastq.gz\"\n",
    "\n",
    "const exome = false\n",
    "\n",
    "# const output_dir = \"/home/kwat/sample/process_germ_dna\"\n",
    "const output_dir = \"/home/kwat/738/process_germ_dna\"\n",
    "\n",
    "const n_job = 8\n",
    "\n",
    "const gb_memory = 56\n",
    "\n",
    "const job_gb_memory = 2"
   ]
  },
  {
   "cell_type": "code",
   "execution_count": 5,
   "metadata": {},
   "outputs": [],
   "source": [
    "for file_path::String in(\n",
    "    germ_dna_1_fq_gz,\n",
    "    germ_dna_2_fq_gz,\n",
    ")\n",
    "    \n",
    "    if !isfile(file_path)\n",
    "        \n",
    "        error(\"$file_path doesn't exist.\")\n",
    "    \n",
    "    end\n",
    "    \n",
    "end"
   ]
  },
  {
   "cell_type": "code",
   "execution_count": 6,
   "metadata": {},
   "outputs": [],
   "source": [
    "using Dates"
   ]
  },
  {
   "cell_type": "code",
   "execution_count": 7,
   "metadata": {},
   "outputs": [
    {
     "data": {
      "text/plain": [
       "2019-06-24T02:18:00.017"
      ]
     },
     "execution_count": 7,
     "metadata": {},
     "output_type": "execute_result"
    }
   ],
   "source": [
    "start_time = now()"
   ]
  },
  {
   "cell_type": "code",
   "execution_count": 8,
   "metadata": {},
   "outputs": [
    {
     "data": {
      "text/plain": [
       "\"/home/kwat/738/process_germ_dna/trim_sequence/germ-trimmed-pair2.fastq.gz\""
      ]
     },
     "execution_count": 8,
     "metadata": {},
     "output_type": "execute_result"
    }
   ],
   "source": [
    "const trim_sequence_prefix = joinpath(\n",
    "    output_dir,\n",
    "    \"trim_sequence\",\n",
    "    \"germ\",\n",
    ")\n",
    "\n",
    "# Kraft.trim_sequence(\n",
    "#     germ_dna_1_fq_gz,\n",
    "#     germ_dna_2_fq_gz,\n",
    "#     trim_sequence_prefix,\n",
    "#     n_job,\n",
    "# )\n",
    "\n",
    "const germ_trim_1_fq_gz = \"$trim_sequence_prefix-trimmed-pair1.fastq.gz\"\n",
    "\n",
    "const germ_trim_2_fq_gz = replace(\n",
    "    germ_trim_1_fq_gz,\n",
    "    \"pair1\"=>\"pair2\",\n",
    ")"
   ]
  },
  {
   "cell_type": "code",
   "execution_count": 9,
   "metadata": {
    "scrolled": true
   },
   "outputs": [],
   "source": [
    "# Kraft.check_sequence(\n",
    "#     (germ_trim_1_fq_gz, germ_trim_2_fq_gz),\n",
    "#     joinpath(output_dir, \"check_sequence\"),\n",
    "#     n_job,\n",
    "# )"
   ]
  },
  {
   "cell_type": "code",
   "execution_count": null,
   "metadata": {},
   "outputs": [
    {
     "name": "stdout",
     "output_type": "stream",
     "text": [
      "Aligning sequence ...\n",
      "pipeline(pipeline(pipeline(pipeline(`\u001b[4mminimap2\u001b[24m \u001b[4m-x\u001b[24m \u001b[4msr\u001b[24m \u001b[4m-t\u001b[24m \u001b[4m8\u001b[24m \u001b[4m-K\u001b[24m \u001b[4m2G\u001b[24m \u001b[4m-R\u001b[24m \u001b[4m'@RG\\tID:Germ\\tSM:Germ'\u001b[24m \u001b[4m-a\u001b[24m \u001b[4m/home/kwat/data/grch/GCA_000001405.15_GRCh38_no_alt_analysis_set.fna.gz.mmi\u001b[24m \u001b[4m/home/kwat/738/process_germ_dna/trim_sequence/germ-trimmed-pair1.fastq.gz\u001b[24m \u001b[4m/home/kwat/738/process_germ_dna/trim_sequence/germ-trimmed-pair2.fastq.gz\u001b[24m`, stdout=`\u001b[4msamtools\u001b[24m \u001b[4msort\u001b[24m \u001b[4m--threads\u001b[24m \u001b[4m8\u001b[24m \u001b[4m-m\u001b[24m \u001b[4m2G\u001b[24m \u001b[4m-n\u001b[24m`), stdout=`\u001b[4msamtools\u001b[24m \u001b[4mfixmate\u001b[24m \u001b[4m--threads\u001b[24m \u001b[4m8\u001b[24m \u001b[4m-m\u001b[24m \u001b[4m-\u001b[24m \u001b[4m-\u001b[24m`), stdout=`\u001b[4msamtools\u001b[24m \u001b[4msort\u001b[24m \u001b[4m--threads\u001b[24m \u001b[4m8\u001b[24m \u001b[4m-m\u001b[24m \u001b[4m2G\u001b[24m`), stdout=Base.FileRedirect(\"/home/kwat/738/process_germ_dna/align_sequence/germ_dna.bam.tmp\", false))\n"
     ]
    },
    {
     "name": "stderr",
     "output_type": "stream",
     "text": [
      "[WARNING]\u001b[1;31m Indexing parameters (-k, -w or -H) overridden by parameters used in the prebuilt index.\u001b[0m\n",
      "[M::main::4.511*1.00] loaded/built the index for 195 target sequence(s)\n",
      "[M::mm_mapopt_update::4.511*1.00] mid_occ = 1000\n",
      "[M::mm_idx_stat] kmer size: 15; skip: 10; is_hpc: 0; #seq: 195\n",
      "[M::mm_idx_stat::5.194*1.00] distinct minimizers: 100167746 (38.80% are singletons); average occurrences: 5.519; average spacing: 5.607\n",
      "[M::worker_pipeline::423.443*7.77] mapped 13411698 sequences\n",
      "[M::worker_pipeline::819.202*7.97] mapped 13408748 sequences\n",
      "[M::worker_pipeline::1236.852*8.03] mapped 13412340 sequences\n",
      "[M::worker_pipeline::1662.127*7.99] mapped 13408894 sequences\n",
      "[M::worker_pipeline::1983.477*8.03] mapped 13404534 sequences\n",
      "[M::worker_pipeline::2352.811*8.05] mapped 13405370 sequences\n",
      "[M::worker_pipeline::2782.960*8.03] mapped 13401518 sequences\n",
      "[M::worker_pipeline::3114.523*8.04] mapped 13398850 sequences\n",
      "[M::worker_pipeline::3479.237*8.06] mapped 13413664 sequences\n",
      "[M::worker_pipeline::3913.654*8.04] mapped 13415250 sequences\n",
      "[M::worker_pipeline::4250.077*8.05] mapped 13414560 sequences\n",
      "[M::worker_pipeline::4610.696*8.06] mapped 13414618 sequences\n",
      "[M::worker_pipeline::4988.581*8.07] mapped 13409056 sequences\n",
      "[M::worker_pipeline::5427.442*8.06] mapped 13405686 sequences\n",
      "[M::worker_pipeline::5768.984*8.07] mapped 13403552 sequences\n",
      "[M::worker_pipeline::6134.662*8.07] mapped 13402884 sequences\n",
      "[M::worker_pipeline::6573.706*8.06] mapped 13401048 sequences\n",
      "[M::worker_pipeline::6937.676*8.06] mapped 13413248 sequences\n",
      "[M::worker_pipeline::7302.916*8.07] mapped 13412120 sequences\n",
      "[M::worker_pipeline::7726.692*8.06] mapped 13410842 sequences\n",
      "[M::worker_pipeline::8053.354*8.07] mapped 13412024 sequences\n",
      "[M::worker_pipeline::8415.213*8.07] mapped 13407352 sequences\n",
      "[M::worker_pipeline::8847.241*8.06] mapped 13403186 sequences\n",
      "[M::worker_pipeline::9190.579*8.06] mapped 13399788 sequences\n",
      "[M::worker_pipeline::9553.189*8.07] mapped 13401680 sequences\n",
      "[M::worker_pipeline::9922.489*8.07] mapped 13398470 sequences\n",
      "[M::worker_pipeline::10354.192*8.06] mapped 13406142 sequences\n",
      "[M::worker_pipeline::10677.726*8.07] mapped 13416256 sequences\n",
      "[M::worker_pipeline::11039.479*8.07] mapped 13411040 sequences\n",
      "[M::worker_pipeline::11458.355*8.06] mapped 13414618 sequences\n",
      "[M::worker_pipeline::11787.858*8.07] mapped 13412152 sequences\n",
      "[M::worker_pipeline::12150.969*8.07] mapped 13408016 sequences\n",
      "[M::worker_pipeline::12587.108*8.06] mapped 13402266 sequences\n",
      "[M::worker_pipeline::12927.570*8.07] mapped 13402606 sequences\n",
      "[M::worker_pipeline::13297.866*8.07] mapped 13403042 sequences\n",
      "[M::worker_pipeline::13673.581*8.07] mapped 13399708 sequences\n",
      "[M::worker_pipeline::14103.407*8.07] mapped 13409946 sequences\n",
      "[M::worker_pipeline::14426.868*8.07] mapped 13414276 sequences\n",
      "[M::worker_pipeline::15011.522*8.07] mapped 13410408 sequences\n",
      "[M::worker_pipeline::15430.082*8.07] mapped 13414550 sequences\n",
      "[M::worker_pipeline::15785.296*8.07] mapped 13411932 sequences\n",
      "[M::worker_pipeline::16154.630*8.07] mapped 13409682 sequences\n",
      "[M::worker_pipeline::16591.558*8.07] mapped 13402692 sequences\n",
      "[M::worker_pipeline::17036.082*8.07] mapped 13402620 sequences\n",
      "[M::worker_pipeline::17398.771*8.07] mapped 13405370 sequences\n",
      "[M::worker_pipeline::17996.430*8.07] mapped 13400676 sequences\n",
      "[M::worker_pipeline::18347.246*8.07] mapped 13408592 sequences\n",
      "[M::worker_pipeline::18757.366*8.07] mapped 13409120 sequences\n",
      "[M::worker_pipeline::19123.471*8.07] mapped 13407568 sequences\n",
      "[M::worker_pipeline::19538.033*8.07] mapped 13411300 sequences\n",
      "[M::worker_pipeline::19914.977*8.07] mapped 13409740 sequences\n",
      "[M::worker_pipeline::20275.579*8.07] mapped 13406248 sequences\n",
      "[M::worker_pipeline::20732.508*8.07] mapped 13398582 sequences\n",
      "[M::worker_pipeline::21078.379*8.07] mapped 13401180 sequences\n",
      "[M::worker_pipeline::21449.389*8.07] mapped 13401726 sequences\n",
      "[M::worker_pipeline::21898.532*8.07] mapped 13400110 sequences\n",
      "[M::worker_pipeline::22228.716*8.07] mapped 13411148 sequences\n",
      "[M::worker_pipeline::22588.939*8.07] mapped 13411334 sequences\n",
      "[M::worker_pipeline::22946.807*8.07] mapped 13411250 sequences\n",
      "[M::worker_pipeline::23486.435*8.07] mapped 13412390 sequences\n",
      "[M::worker_pipeline::23810.404*8.07] mapped 13410886 sequences\n",
      "[M::worker_pipeline::24173.441*8.07] mapped 13407452 sequences\n",
      "[M::worker_pipeline::24659.937*8.07] mapped 13400648 sequences\n",
      "[M::worker_pipeline::25002.251*8.07] mapped 13403976 sequences\n",
      "[M::worker_pipeline::25407.181*8.07] mapped 13403874 sequences\n",
      "[M::worker_pipeline::25845.516*8.07] mapped 13404834 sequences\n",
      "[M::worker_pipeline::26180.763*8.07] mapped 13411860 sequences\n",
      "[M::worker_pipeline::26541.966*8.07] mapped 13411726 sequences\n",
      "[M::worker_pipeline::26963.494*8.07] mapped 13412964 sequences\n",
      "[M::worker_pipeline::27283.069*8.07] mapped 13417010 sequences\n",
      "[M::worker_pipeline::27641.291*8.07] mapped 13415456 sequences\n",
      "[M::worker_pipeline::28015.440*8.07] mapped 13408814 sequences\n",
      "[M::worker_pipeline::28453.281*8.07] mapped 13406256 sequences\n",
      "[M::worker_pipeline::28829.487*8.07] mapped 13404610 sequences\n",
      "[M::worker_pipeline::29193.904*8.07] mapped 13410346 sequences\n",
      "[M::worker_pipeline::29627.636*8.07] mapped 13405752 sequences\n",
      "[M::worker_pipeline::29629.685*8.07] mapped 1682426 sequences\n",
      "[M::main] Version: 2.17-r941\n",
      "[M::main] CMD: minimap2 -x sr -t 8 -K 2G -R @RG\\tID:Germ\\tSM:Germ -a /home/kwat/data/grch/GCA_000001405.15_GRCh38_no_alt_analysis_set.fna.gz.mmi /home/kwat/738/process_germ_dna/trim_sequence/germ-trimmed-pair1.fastq.gz /home/kwat/738/process_germ_dna/trim_sequence/germ-trimmed-pair2.fastq.gz\n",
      "[M::main] Real time: 29630.073 sec; CPU: 239001.410 sec; Peak RSS: 28.963 GB\n",
      "[bam_sort_core] merging from 184 files and 8 in-memory blocks...\n"
     ]
    }
   ],
   "source": [
    "const germ_bam = joinpath(\n",
    "    output_dir,\n",
    "    \"align_sequence\",\n",
    "    \"germ_dna.bam\",\n",
    ")\n",
    "\n",
    "Kraft.align_sequence(\n",
    "    germ_trim_1_fq_gz,\n",
    "    germ_trim_2_fq_gz,\n",
    "    \"Germ\",\n",
    "    path_dict[\"dna.fa.gz\"],\n",
    "    germ_bam,\n",
    "    n_job,\n",
    "    job_gb_memory,\n",
    ")"
   ]
  },
  {
   "cell_type": "code",
   "execution_count": null,
   "metadata": {},
   "outputs": [],
   "source": [
    "const find_mutation_dir = joinpath(\n",
    "    output_dir,\n",
    "    \"find_variant\",\n",
    ")\n",
    "\n",
    "Kraft.find_mutation(\n",
    "    germ_bam,\n",
    "    nothing,\n",
    "    path_dict[\"dna.fa.bgz\"],\n",
    "    path_dict[\"chromosome.bed.gz\"],\n",
    "    exome,\n",
    "    path_dict[\"chrn_n.tsv\"],\n",
    "    find_mutation_dir,\n",
    "    n_job,\n",
    "    gb_memory,\n",
    ")"
   ]
  },
  {
   "cell_type": "code",
   "execution_count": null,
   "metadata": {},
   "outputs": [],
   "source": [
    "end_time = now()"
   ]
  },
  {
   "cell_type": "code",
   "execution_count": null,
   "metadata": {},
   "outputs": [],
   "source": [
    "canonicalize(Dates.CompoundPeriod(end_time - start_time))"
   ]
  }
 ],
 "metadata": {
  "kernelspec": {
   "display_name": "Julia 1.0.3",
   "language": "julia",
   "name": "julia-1.0"
  },
  "language_info": {
   "file_extension": ".jl",
   "mimetype": "application/julia",
   "name": "julia",
   "version": "1.0.3"
  }
 },
 "nbformat": 4,
 "nbformat_minor": 2
}
