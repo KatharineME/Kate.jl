{
 "cells": [
  {
   "cell_type": "code",
   "execution_count": null,
   "metadata": {},
   "outputs": [],
   "source": [
    "include(\"../src/Kraft.jl\")"
   ]
  },
  {
   "cell_type": "code",
   "execution_count": null,
   "metadata": {},
   "outputs": [],
   "source": [
    "Kraft.check_programs()"
   ]
  },
  {
   "cell_type": "code",
   "execution_count": null,
   "metadata": {},
   "outputs": [],
   "source": [
    "const path_dict = Kraft.make_path_dict(\"/home/kwat/data\")"
   ]
  },
  {
   "cell_type": "code",
   "execution_count": null,
   "metadata": {},
   "outputs": [],
   "source": [
    "const soma_rna_1_fq_gz = \"/home/kwat/sample/soma_rna.1.fastq.gz\"\n",
    "\n",
    "const soma_rna_2_fq_gz = \"/home/kwat/sample/soma_rna.2.fastq.gz\"\n",
    "\n",
    "const output_dir = \"/home/kwat/sample/process_soma_rna\"\n",
    "\n",
    "const n_job = 8"
   ]
  },
  {
   "cell_type": "code",
   "execution_count": null,
   "metadata": {},
   "outputs": [],
   "source": [
    "for file_path::String in(\n",
    "    soma_rna_1_fq_gz,\n",
    "    soma_rna_2_fq_gz,\n",
    ")\n",
    "    \n",
    "    if !isfile(file_path)\n",
    "        \n",
    "        error(\"$file_path doesn't exist.\")\n",
    "    \n",
    "    end\n",
    "    \n",
    "end"
   ]
  },
  {
   "cell_type": "code",
   "execution_count": null,
   "metadata": {},
   "outputs": [],
   "source": [
    "const trim_sequence_prefix = joinpath(\n",
    "    output_dir,\n",
    "    \"trim_sequence\",\n",
    "    \"soma\",\n",
    ")\n",
    "\n",
    "Kraft.trim_sequence(\n",
    "    soma_rna_1_fq_gz,\n",
    "    soma_rna_2_fq_gz,\n",
    "    trim_sequence_prefix,\n",
    "    n_job,\n",
    ")\n",
    "\n",
    "const soma_trim_1_fq_gz = \"$trim_sequence_prefix-trimmed-pair1.fastq.gz\"\n",
    "\n",
    "const soma_trim_2_fq_gz = replace(\n",
    "    soma_trim_1_fq_gz,\n",
    "    \"pair1\"=>\"pair2\",\n",
    ")"
   ]
  },
  {
   "cell_type": "code",
   "execution_count": null,
   "metadata": {},
   "outputs": [],
   "source": [
    "Kraft.check_sequence(\n",
    "    (soma_trim_1_fq_gz, soma_trim_2_fq_gz),\n",
    "    joinpath(output_dir, \"check_sequence\"),\n",
    "    n_job,\n",
    ")"
   ]
  },
  {
   "cell_type": "code",
   "execution_count": null,
   "metadata": {},
   "outputs": [],
   "source": [
    "const count_transcript_dir = joinpath(\n",
    "    output_dir,\n",
    "    \"count_transcript\",\n",
    ")\n",
    "\n",
    "Kraft.count_transcript(\n",
    "    soma_trim_1_fq_gz,\n",
    "    soma_trim_2_fq_gz,\n",
    "    path_dict[\"cdna.fa.gz\"],\n",
    "    count_transcript_dir,\n",
    "    n_job,\n",
    ")"
   ]
  },
  {
   "cell_type": "code",
   "execution_count": null,
   "metadata": {},
   "outputs": [],
   "source": [
    "const count_viral_transcript_dir = joinpath(\n",
    "    output_dir,\n",
    "    \"count_viral_transcript\",\n",
    ")\n",
    "\n",
    "Kraft.count_transcript(\n",
    "    soma_trim_1_fq_gz,\n",
    "    soma_trim_2_fq_gz,\n",
    "    path_dict[\"virus_cdna.fa.gz\"],\n",
    "    count_viral_transcript_dir,\n",
    "    n_job,\n",
    ")"
   ]
  }
 ],
 "metadata": {
  "kernelspec": {
   "display_name": "Julia 1.0.3",
   "language": "julia",
   "name": "julia-1.0"
  },
  "language_info": {
   "file_extension": ".jl",
   "mimetype": "application/julia",
   "name": "julia",
   "version": "1.0.3"
  }
 },
 "nbformat": 4,
 "nbformat_minor": 2
}
