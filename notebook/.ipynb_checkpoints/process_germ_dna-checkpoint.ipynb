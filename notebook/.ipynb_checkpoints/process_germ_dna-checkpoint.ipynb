{
 "cells": [
  {
   "cell_type": "code",
   "execution_count": 1,
   "metadata": {
    "scrolled": true
   },
   "outputs": [
    {
     "name": "stdout",
     "output_type": "stream",
     "text": [
      "/home/kwat/github/Kraft.jl/src/Kraft.jl\n"
     ]
    },
    {
     "data": {
      "text/plain": [
       "Main.Kraft"
      ]
     },
     "execution_count": 1,
     "metadata": {},
     "output_type": "execute_result"
    }
   ],
   "source": [
    "include(\"../src/Kraft.jl\")"
   ]
  },
  {
   "cell_type": "code",
   "execution_count": 2,
   "metadata": {
    "scrolled": false
   },
   "outputs": [
    {
     "name": "stdout",
     "output_type": "stream",
     "text": [
      "Checking programs ...\n",
      "`\u001b[4mwhich\u001b[24m \u001b[4mskewer\u001b[24m`\n",
      "/home/kwat/miniconda3/bin/skewer\n",
      "`\u001b[4mwhich\u001b[24m \u001b[4mfastqc\u001b[24m`\n",
      "/home/kwat/miniconda3/bin/fastqc\n",
      "`\u001b[4mwhich\u001b[24m \u001b[4mbgzip\u001b[24m`\n",
      "/home/kwat/miniconda3/bin/bgzip\n",
      "`\u001b[4mwhich\u001b[24m \u001b[4mtabix\u001b[24m`\n",
      "/home/kwat/miniconda3/bin/tabix\n",
      "`\u001b[4mwhich\u001b[24m \u001b[4mminimap2\u001b[24m`\n",
      "/home/kwat/miniconda3/bin/minimap2\n",
      "`\u001b[4mwhich\u001b[24m \u001b[4msamtools\u001b[24m`\n",
      "/home/kwat/miniconda3/bin/samtools\n",
      "`\u001b[4mwhich\u001b[24m \u001b[4mbcftools\u001b[24m`\n",
      "/home/kwat/miniconda3/bin/bcftools\n",
      "`\u001b[4mwhich\u001b[24m \u001b[4msnpEff\u001b[24m`\n",
      "/home/kwat/miniconda3/bin/snpEff\n",
      "`\u001b[4mwhich\u001b[24m \u001b[4mkallisto\u001b[24m`\n",
      "/home/kwat/miniconda3/bin/kallisto\n",
      "`\u001b[4mbash\u001b[24m \u001b[4m-c\u001b[24m \u001b[4m'source activate py2.7 && which configManta.py'\u001b[24m`\n",
      "/home/kwat/miniconda3/envs/py2.7/bin/configManta.py\n",
      "`\u001b[4mbash\u001b[24m \u001b[4m-c\u001b[24m \u001b[4m'source activate py2.7 && which configureStrelkaGermlineWorkflow.py'\u001b[24m`\n",
      "/home/kwat/miniconda3/envs/py2.7/bin/configureStrelkaGermlineWorkflow.py\n",
      "`\u001b[4mbash\u001b[24m \u001b[4m-c\u001b[24m \u001b[4m'source activate py2.7 && which configureStrelkaSomaticWorkflow.py'\u001b[24m`\n",
      "/home/kwat/miniconda3/envs/py2.7/bin/configureStrelkaSomaticWorkflow.py\n"
     ]
    }
   ],
   "source": [
    "Kraft.check_programs()"
   ]
  },
  {
   "cell_type": "code",
   "execution_count": 3,
   "metadata": {
    "scrolled": true
   },
   "outputs": [
    {
     "name": "stdout",
     "output_type": "stream",
     "text": [
      "Making path dict ...\n",
      "/home/kwat/CarrotCake/data/grch/GCA_000001405.15_GRCh38_no_alt_analysis_set.fna.gz\n",
      "/home/kwat/CarrotCake/data/grch/chromosome.bed.gz\n",
      "/home/kwat/CarrotCake/data/grch/chrn_n.tsv\n",
      "/home/kwat/CarrotCake/data/grch/Homo_sapiens.GRCh38.cdna.all.fa.gz\n",
      "/home/kwat/CarrotCake/data/grch/enst_gene_name.tsv\n",
      "/home/kwat/CarrotCake/data/virus/sequences.fasta\n",
      "/home/kwat/CarrotCake/data/virus/sequences.fasta\n"
     ]
    },
    {
     "data": {
      "text/plain": [
       "Dict{String,String} with 6 entries:\n",
       "  \"dna.fa.gz\"         => \"/home/kwat/CarrotCake/data/grch/GCA_000001405.15_GRCh…\n",
       "  \"chrn_n.tsv\"        => \"/home/kwat/CarrotCake/data/grch/chrn_n.tsv\"\n",
       "  \"chromosome.bed.gz\" => \"/home/kwat/CarrotCake/data/grch/chromosome.bed.gz\"\n",
       "  \"virus_cdna.fa.gz\"  => \"/home/kwat/CarrotCake/data/virus/sequences.fasta\"\n",
       "  \"cdna.fa.gz\"        => \"/home/kwat/CarrotCake/data/grch/Homo_sapiens.GRCh38.c…\n",
       "  \"dna.fa.bgz\"        => \"/home/kwat/CarrotCake/data/grch/GCA_000001405.15_GRCh…"
      ]
     },
     "execution_count": 3,
     "metadata": {},
     "output_type": "execute_result"
    }
   ],
   "source": [
    "const path_dict = Kraft.make_path_dict(\n",
    "    \"/home/kwat/CarrotCake/data\",\n",
    "    1,\n",
    ")"
   ]
  },
  {
   "cell_type": "code",
   "execution_count": 4,
   "metadata": {},
   "outputs": [
    {
     "data": {
      "text/plain": [
       "16"
      ]
     },
     "execution_count": 4,
     "metadata": {},
     "output_type": "execute_result"
    }
   ],
   "source": [
    "const germ_dna_1_fq_gz = \"/home/kwat/sample/germ_dna.1.fastq.gz\"\n",
    "\n",
    "const germ_dna_2_fq_gz = \"/home/kwat/sample/germ_dna.2.fastq.gz\"\n",
    "\n",
    "const exome = true\n",
    "\n",
    "const output_dir = \"/home/kwat/sample/process_germ_dna\"\n",
    "\n",
    "const n_job = 8\n",
    "\n",
    "const gb_memory = 16"
   ]
  },
  {
   "cell_type": "code",
   "execution_count": 5,
   "metadata": {},
   "outputs": [],
   "source": [
    "for file_path::String in(\n",
    "    germ_dna_1_fq_gz,\n",
    "    germ_dna_2_fq_gz,\n",
    ")\n",
    "    \n",
    "    if !isfile(file_path)\n",
    "        \n",
    "        error(\"$file_path doesn't exist.\")\n",
    "    \n",
    "    end\n",
    "    \n",
    "end"
   ]
  },
  {
   "cell_type": "code",
   "execution_count": 6,
   "metadata": {},
   "outputs": [],
   "source": [
    "using Dates"
   ]
  },
  {
   "cell_type": "code",
   "execution_count": 7,
   "metadata": {},
   "outputs": [
    {
     "data": {
      "text/plain": [
       "2019-06-23T19:16:03.671"
      ]
     },
     "execution_count": 7,
     "metadata": {},
     "output_type": "execute_result"
    }
   ],
   "source": [
    "start_time = now()"
   ]
  },
  {
   "cell_type": "code",
   "execution_count": null,
   "metadata": {},
   "outputs": [
    {
     "name": "stdout",
     "output_type": "stream",
     "text": [
      "Trimming sequence ...\n",
      "`\u001b[4mskewer\u001b[24m \u001b[4m--threads\u001b[24m \u001b[4m8\u001b[24m \u001b[4m-x\u001b[24m \u001b[4mAGATCGGAAGAGC\u001b[24m \u001b[4m--compress\u001b[24m \u001b[4m--output\u001b[24m \u001b[4m/home/kwat/sample/process_germ_dna/trim_sequence/germ\u001b[24m \u001b[4m/home/kwat/sample/germ_dna.1.fastq.gz\u001b[24m \u001b[4m/home/kwat/sample/germ_dna.2.fastq.gz\u001b[24m`\n"
     ]
    },
    {
     "name": "stderr",
     "output_type": "stream",
     "text": [
      "|========>                                         | (18.59%)"
     ]
    }
   ],
   "source": [
    "const trim_sequence_prefix = joinpath(\n",
    "    output_dir,\n",
    "    \"trim_sequence\",\n",
    "    \"germ\",\n",
    ")\n",
    "\n",
    "Kraft.trim_sequence(\n",
    "    germ_dna_1_fq_gz,\n",
    "    germ_dna_2_fq_gz,\n",
    "    trim_sequence_prefix,\n",
    "    n_job,\n",
    ")\n",
    "\n",
    "const germ_trim_1_fq_gz = \"$trim_sequence_prefix-trimmed-pair1.fastq.gz\"\n",
    "\n",
    "const germ_trim_2_fq_gz = replace(\n",
    "    germ_trim_1_fq_gz,\n",
    "    \"pair1\"=>\"pair2\",\n",
    ")"
   ]
  },
  {
   "cell_type": "code",
   "execution_count": null,
   "metadata": {
    "scrolled": true
   },
   "outputs": [],
   "source": [
    "Kraft.check_sequence(\n",
    "    (\n",
    "        germ_trim_1_fq_gz,\n",
    "        germ_trim_2_fq_gz,\n",
    "    ),\n",
    "    joinpath(\n",
    "        output_dir,\n",
    "        \"check_sequence\",\n",
    "    ),\n",
    "    n_job,\n",
    ")"
   ]
  },
  {
   "cell_type": "code",
   "execution_count": null,
   "metadata": {},
   "outputs": [],
   "source": [
    "const germ_bam = joinpath(\n",
    "    output_dir,\n",
    "    \"align_sequence\",\n",
    "    \"germ_dna.bam\",\n",
    ")\n",
    "\n",
    "Kraft.align_sequence(\n",
    "    germ_trim_1_fq_gz,\n",
    "    germ_trim_2_fq_gz,\n",
    "    \"Germ\",\n",
    "    path_dict[\"dna.fa.gz\"],\n",
    "    germ_bam,\n",
    "    n_job,\n",
    ")"
   ]
  },
  {
   "cell_type": "code",
   "execution_count": null,
   "metadata": {},
   "outputs": [],
   "source": [
    "const find_mutation_dir = joinpath(\n",
    "    output_dir,\n",
    "    \"find_variant\",\n",
    ")\n",
    "\n",
    "Kraft.find_mutation(\n",
    "    germ_bam,\n",
    "    nothing,\n",
    "    path_dict[\"dna.fa.bgz\"],\n",
    "    path_dict[\"chromosome.bed.gz\"],\n",
    "    exome,\n",
    "    path_dict[\"chrn_n.tsv\"],\n",
    "    find_mutation_dir,\n",
    "    n_job,\n",
    "    gb_memory,\n",
    ")"
   ]
  },
  {
   "cell_type": "code",
   "execution_count": null,
   "metadata": {},
   "outputs": [],
   "source": [
    "end_time = now()"
   ]
  },
  {
   "cell_type": "code",
   "execution_count": null,
   "metadata": {},
   "outputs": [],
   "source": [
    "canonicalize(Dates.CompoundPeriod(end_time - start_time))"
   ]
  }
 ],
 "metadata": {
  "kernelspec": {
   "display_name": "Julia 1.0.3",
   "language": "julia",
   "name": "julia-1.0"
  },
  "language_info": {
   "file_extension": ".jl",
   "mimetype": "application/julia",
   "name": "julia",
   "version": "1.0.3"
  }
 },
 "nbformat": 4,
 "nbformat_minor": 2
}
