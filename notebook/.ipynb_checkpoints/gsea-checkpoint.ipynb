{
 "cells": [
  {
   "cell_type": "code",
   "execution_count": null,
   "metadata": {},
   "outputs": [],
   "source": [
    "using BenchmarkTools"
   ]
  },
  {
   "cell_type": "code",
   "execution_count": null,
   "metadata": {},
   "outputs": [],
   "source": [
    "include(\"/home/kwat/github/Kraft.jl/src/Kraft.jl\")"
   ]
  },
  {
   "cell_type": "code",
   "execution_count": null,
   "metadata": {},
   "outputs": [],
   "source": [
    "const genes = readlines(\"/home/kwat/github/kraft/notebook/genes.txt\")[2:end]"
   ]
  },
  {
   "cell_type": "code",
   "execution_count": null,
   "metadata": {},
   "outputs": [],
   "source": [
    "const scores = fill(\n",
    "    1 / length(genes),\n",
    "    length(genes),\n",
    ")"
   ]
  },
  {
   "cell_type": "code",
   "execution_count": null,
   "metadata": {},
   "outputs": [],
   "source": [
    "gmt_file_path = \"/home/kwat/garden/data/gene_set/msigdb_v6.2/h.all.v6.2.symbols.gmt\"\n",
    "# gmt_file_path = \"/home/kwat/garden/data/gene_set/msigdb_v6.2/c3.all.v6.2.symbols.gmt\"\n",
    "\n",
    "const gene_set_dict = Kraft.read_gmt(gmt_file_path)"
   ]
  },
  {
   "cell_type": "code",
   "execution_count": null,
   "metadata": {},
   "outputs": [],
   "source": [
    "const gene_set_genes = gene_set_dict[sort(collect(keys(gene_set_dict)))[1]]"
   ]
  },
  {
   "cell_type": "markdown",
   "metadata": {},
   "source": [
    "## Benchmark Julia"
   ]
  },
  {
   "cell_type": "code",
   "execution_count": null,
   "metadata": {},
   "outputs": [],
   "source": [
    "@benchmark Kraft.compute_gene_set_enrichment(\n",
    "    scores,\n",
    "    genes,\n",
    "    gene_set_genes,\n",
    ")"
   ]
  },
  {
   "cell_type": "code",
   "execution_count": null,
   "metadata": {},
   "outputs": [],
   "source": [
    "benchmark_result = @benchmark Kraft.compute_gene_set_enrichment(\n",
    "    scores,\n",
    "    genes,\n",
    "    gene_set_dict,\n",
    ")\n",
    "\n",
    "ms_per_gene_set = round(\n",
    "    minimum(benchmark_result.times) / 1e6 / length(gene_set_dict),\n",
    "    sigdigits=2,\n",
    ")\n",
    "\n",
    "println(\"$ms_per_gene_set ms / gene set\")\n",
    "\n",
    "benchmark_result"
   ]
  },
  {
   "cell_type": "markdown",
   "metadata": {},
   "source": [
    "## Benchmark Python"
   ]
  },
  {
   "cell_type": "code",
   "execution_count": null,
   "metadata": {},
   "outputs": [],
   "source": [
    "using PyCall"
   ]
  },
  {
   "cell_type": "code",
   "execution_count": null,
   "metadata": {},
   "outputs": [],
   "source": [
    "pd = pyimport(\"pandas\")"
   ]
  },
  {
   "cell_type": "code",
   "execution_count": null,
   "metadata": {},
   "outputs": [],
   "source": [
    "kraft = pyimport(\"kraft\")"
   ]
  },
  {
   "cell_type": "code",
   "execution_count": null,
   "metadata": {},
   "outputs": [],
   "source": [
    "const gene_score = pd.Series(\n",
    "    scores,\n",
    "    index=genes,\n",
    ")\n",
    "\n",
    "@benchmark kraft.run_single_sample_gsea(\n",
    "    gene_score,\n",
    "    gene_set_genes,\n",
    "    plot=false,\n",
    ")"
   ]
  },
  {
   "cell_type": "code",
   "execution_count": null,
   "metadata": {},
   "outputs": [],
   "source": [
    "const gene_x_sample = gene_score.to_frame()\n",
    "\n",
    "const gene_sets = kraft.read_gmt(gmt_file_path)\n",
    "\n",
    "benchmark_result = @benchmark kraft.run_single_sample_gseas(\n",
    "    gene_x_sample,\n",
    "    gene_sets,\n",
    ")\n",
    "\n",
    "ms_per_gene_set = round(\n",
    "    minimum(benchmark_result.times) / 1e6 / length(gene_set_dict),\n",
    "    sigdigits=2,\n",
    ")\n",
    "\n",
    "println(\"$ms_per_gene_set ms / gene set\")\n",
    "\n",
    "benchmark_result"
   ]
  },
  {
   "cell_type": "markdown",
   "metadata": {},
   "source": [
    "## Gene x Sample ==> Gene Set x Sample"
   ]
  },
  {
   "cell_type": "code",
   "execution_count": 2,
   "metadata": {},
   "outputs": [],
   "source": [
    "using TableReader"
   ]
  },
  {
   "cell_type": "code",
   "execution_count": null,
   "metadata": {},
   "outputs": [],
   "source": [
    "gene_x_sample = readdlm(\"/home/kwat/github/match_pattern/output/gene_x_sample.processed.tsv\")"
   ]
  },
  {
   "cell_type": "code",
   "execution_count": 4,
   "metadata": {},
   "outputs": [
    {
     "data": {
      "text/html": [
       "<table class=\"data-frame\"><thead><tr><th></th><th>Gene</th><th>WC1</th><th>WC2</th><th>WC3</th><th>WM1</th><th>WM2</th><th>WM3</th></tr><tr><th></th><th>String</th><th>Float64⍰</th><th>Float64⍰</th><th>Float64⍰</th><th>Float64⍰</th><th>Float64⍰</th><th>Float64⍰</th></tr></thead><tbody><p>22,092 rows × 7 columns</p><tr><th>1</th><td>A1BG</td><td>0.0664477</td><td>0.038043</td><td>0.12041</td><td>0.0919792</td><td>missing</td><td>0.0630237</td></tr><tr><th>2</th><td>A1CF</td><td>0.00790968</td><td>missing</td><td>0.0134654</td><td>0.00591755</td><td>missing</td><td>0.00909115</td></tr><tr><th>3</th><td>A2M</td><td>missing</td><td>missing</td><td>missing</td><td>missing</td><td>0.166227</td><td>0.0118349</td></tr><tr><th>4</th><td>A2ML1</td><td>0.106133</td><td>0.0852753</td><td>0.0841</td><td>0.145724</td><td>0.0769687</td><td>0.175137</td></tr><tr><th>5</th><td>A2MP1</td><td>missing</td><td>0.016517</td><td>missing</td><td>missing</td><td>missing</td><td>missing</td></tr><tr><th>6</th><td>A3GALT2</td><td>0.264308</td><td>0.165927</td><td>missing</td><td>0.135154</td><td>missing</td><td>missing</td></tr><tr><th>7</th><td>A4GALT</td><td>0.681983</td><td>0.916425</td><td>0.737331</td><td>0.2952</td><td>0.347736</td><td>0.322686</td></tr><tr><th>8</th><td>AAAS</td><td>0.449162</td><td>0.867066</td><td>0.494286</td><td>0.620642</td><td>1.49168</td><td>0.717134</td></tr><tr><th>9</th><td>AACS</td><td>0.161937</td><td>0.292978</td><td>0.212836</td><td>0.302402</td><td>0.206749</td><td>0.42944</td></tr><tr><th>10</th><td>AACSP1</td><td>0.0291564</td><td>missing</td><td>0.0717586</td><td>0.0411224</td><td>missing</td><td>missing</td></tr><tr><th>11</th><td>AADAC</td><td>0.0489447</td><td>missing</td><td>0.217432</td><td>0.226923</td><td>0.0552213</td><td>0.156215</td></tr><tr><th>12</th><td>AADACL3</td><td>missing</td><td>missing</td><td>0.0168721</td><td>missing</td><td>missing</td><td>missing</td></tr><tr><th>13</th><td>AADACL4</td><td>missing</td><td>0.0483829</td><td>missing</td><td>missing</td><td>missing</td><td>missing</td></tr><tr><th>14</th><td>AADAT</td><td>missing</td><td>missing</td><td>missing</td><td>0.0142663</td><td>missing</td><td>missing</td></tr><tr><th>15</th><td>AAGAB</td><td>1.84576</td><td>3.17609</td><td>0.801198</td><td>0.841976</td><td>4.64547</td><td>4.96694</td></tr><tr><th>16</th><td>AAK1</td><td>1.10422</td><td>1.86626</td><td>1.42565</td><td>0.549119</td><td>0.559464</td><td>0.477133</td></tr><tr><th>17</th><td>AAMDC</td><td>0.885352</td><td>1.52968</td><td>0.646062</td><td>1.03348</td><td>0.70039</td><td>0.653664</td></tr><tr><th>18</th><td>AAMP</td><td>2.49927</td><td>4.91071</td><td>4.19648</td><td>2.82705</td><td>2.13881</td><td>5.94317</td></tr><tr><th>19</th><td>AANAT</td><td>0.0750723</td><td>0.397271</td><td>0.1949</td><td>0.109686</td><td>0.232349</td><td>0.474705</td></tr><tr><th>20</th><td>AAR2</td><td>5.80015</td><td>5.46217</td><td>3.55415</td><td>1.05551</td><td>7.30771</td><td>1.95903</td></tr><tr><th>21</th><td>AARD</td><td>missing</td><td>missing</td><td>missing</td><td>0.100634</td><td>missing</td><td>0.0562718</td></tr><tr><th>22</th><td>AARS</td><td>4.38136</td><td>2.31779</td><td>2.56028</td><td>4.49702</td><td>4.18046</td><td>4.73045</td></tr><tr><th>23</th><td>AARS2</td><td>13.2982</td><td>6.55772</td><td>6.41594</td><td>2.42681</td><td>4.05505</td><td>2.06738</td></tr><tr><th>24</th><td>AARSD1</td><td>0.81666</td><td>0.984171</td><td>0.68897</td><td>0.924254</td><td>0.601286</td><td>0.639669</td></tr><tr><th>25</th><td>AASDH</td><td>0.443266</td><td>0.215803</td><td>0.32756</td><td>0.0866142</td><td>0.0971975</td><td>0.167569</td></tr><tr><th>26</th><td>AASDHPPT</td><td>1.16125</td><td>3.98049</td><td>2.94657</td><td>2.97969</td><td>2.45458</td><td>4.78888</td></tr><tr><th>27</th><td>AASS</td><td>0.364518</td><td>0.503976</td><td>0.272758</td><td>0.215938</td><td>0.22886</td><td>0.231284</td></tr><tr><th>28</th><td>AATF</td><td>0.625837</td><td>0.871589</td><td>22.4134</td><td>0.994715</td><td>9.33479</td><td>0.379136</td></tr><tr><th>29</th><td>AATK</td><td>0.233664</td><td>0.293098</td><td>0.455815</td><td>0.308405</td><td>0.0429756</td><td>0.0768519</td></tr><tr><th>30</th><td>ABAT</td><td>0.0467537</td><td>0.085083</td><td>0.0928354</td><td>0.121887</td><td>0.0413786</td><td>0.0372136</td></tr><tr><th>&vellip;</th><td>&vellip;</td><td>&vellip;</td><td>&vellip;</td><td>&vellip;</td><td>&vellip;</td><td>&vellip;</td><td>&vellip;</td></tr></tbody></table>"
      ],
      "text/latex": [
       "\\begin{tabular}{r|ccccccc}\n",
       "\t& Gene & WC1 & WC2 & WC3 & WM1 & WM2 & WM3\\\\\n",
       "\t\\hline\n",
       "\t& String & Float64⍰ & Float64⍰ & Float64⍰ & Float64⍰ & Float64⍰ & Float64⍰\\\\\n",
       "\t\\hline\n",
       "\t1 & A1BG & 0.0664477 & 0.038043 & 0.12041 & 0.0919792 &  & 0.0630237 \\\\\n",
       "\t2 & A1CF & 0.00790968 &  & 0.0134654 & 0.00591755 &  & 0.00909115 \\\\\n",
       "\t3 & A2M &  &  &  &  & 0.166227 & 0.0118349 \\\\\n",
       "\t4 & A2ML1 & 0.106133 & 0.0852753 & 0.0841 & 0.145724 & 0.0769687 & 0.175137 \\\\\n",
       "\t5 & A2MP1 &  & 0.016517 &  &  &  &  \\\\\n",
       "\t6 & A3GALT2 & 0.264308 & 0.165927 &  & 0.135154 &  &  \\\\\n",
       "\t7 & A4GALT & 0.681983 & 0.916425 & 0.737331 & 0.2952 & 0.347736 & 0.322686 \\\\\n",
       "\t8 & AAAS & 0.449162 & 0.867066 & 0.494286 & 0.620642 & 1.49168 & 0.717134 \\\\\n",
       "\t9 & AACS & 0.161937 & 0.292978 & 0.212836 & 0.302402 & 0.206749 & 0.42944 \\\\\n",
       "\t10 & AACSP1 & 0.0291564 &  & 0.0717586 & 0.0411224 &  &  \\\\\n",
       "\t11 & AADAC & 0.0489447 &  & 0.217432 & 0.226923 & 0.0552213 & 0.156215 \\\\\n",
       "\t12 & AADACL3 &  &  & 0.0168721 &  &  &  \\\\\n",
       "\t13 & AADACL4 &  & 0.0483829 &  &  &  &  \\\\\n",
       "\t14 & AADAT &  &  &  & 0.0142663 &  &  \\\\\n",
       "\t15 & AAGAB & 1.84576 & 3.17609 & 0.801198 & 0.841976 & 4.64547 & 4.96694 \\\\\n",
       "\t16 & AAK1 & 1.10422 & 1.86626 & 1.42565 & 0.549119 & 0.559464 & 0.477133 \\\\\n",
       "\t17 & AAMDC & 0.885352 & 1.52968 & 0.646062 & 1.03348 & 0.70039 & 0.653664 \\\\\n",
       "\t18 & AAMP & 2.49927 & 4.91071 & 4.19648 & 2.82705 & 2.13881 & 5.94317 \\\\\n",
       "\t19 & AANAT & 0.0750723 & 0.397271 & 0.1949 & 0.109686 & 0.232349 & 0.474705 \\\\\n",
       "\t20 & AAR2 & 5.80015 & 5.46217 & 3.55415 & 1.05551 & 7.30771 & 1.95903 \\\\\n",
       "\t21 & AARD &  &  &  & 0.100634 &  & 0.0562718 \\\\\n",
       "\t22 & AARS & 4.38136 & 2.31779 & 2.56028 & 4.49702 & 4.18046 & 4.73045 \\\\\n",
       "\t23 & AARS2 & 13.2982 & 6.55772 & 6.41594 & 2.42681 & 4.05505 & 2.06738 \\\\\n",
       "\t24 & AARSD1 & 0.81666 & 0.984171 & 0.68897 & 0.924254 & 0.601286 & 0.639669 \\\\\n",
       "\t25 & AASDH & 0.443266 & 0.215803 & 0.32756 & 0.0866142 & 0.0971975 & 0.167569 \\\\\n",
       "\t26 & AASDHPPT & 1.16125 & 3.98049 & 2.94657 & 2.97969 & 2.45458 & 4.78888 \\\\\n",
       "\t27 & AASS & 0.364518 & 0.503976 & 0.272758 & 0.215938 & 0.22886 & 0.231284 \\\\\n",
       "\t28 & AATF & 0.625837 & 0.871589 & 22.4134 & 0.994715 & 9.33479 & 0.379136 \\\\\n",
       "\t29 & AATK & 0.233664 & 0.293098 & 0.455815 & 0.308405 & 0.0429756 & 0.0768519 \\\\\n",
       "\t30 & ABAT & 0.0467537 & 0.085083 & 0.0928354 & 0.121887 & 0.0413786 & 0.0372136 \\\\\n",
       "\t$\\dots$ & $\\dots$ & $\\dots$ & $\\dots$ & $\\dots$ & $\\dots$ & $\\dots$ & $\\dots$ \\\\\n",
       "\\end{tabular}\n"
      ],
      "text/plain": [
       "22092×7 DataFrames.DataFrame. Omitted printing of 2 columns\n",
       "│ Row   │ Gene    │ WC1        │ WC2       │ WC3       │ WM1        │\n",
       "│       │ \u001b[90mString\u001b[39m  │ \u001b[90mFloat64⍰\u001b[39m   │ \u001b[90mFloat64⍰\u001b[39m  │ \u001b[90mFloat64⍰\u001b[39m  │ \u001b[90mFloat64⍰\u001b[39m   │\n",
       "├───────┼─────────┼────────────┼───────────┼───────────┼────────────┤\n",
       "│ 1     │ A1BG    │ 0.0664477  │ 0.038043  │ 0.12041   │ 0.0919792  │\n",
       "│ 2     │ A1CF    │ 0.00790968 │ \u001b[90mmissing\u001b[39m   │ 0.0134654 │ 0.00591755 │\n",
       "│ 3     │ A2M     │ \u001b[90mmissing\u001b[39m    │ \u001b[90mmissing\u001b[39m   │ \u001b[90mmissing\u001b[39m   │ \u001b[90mmissing\u001b[39m    │\n",
       "│ 4     │ A2ML1   │ 0.106133   │ 0.0852753 │ 0.0841    │ 0.145724   │\n",
       "│ 5     │ A2MP1   │ \u001b[90mmissing\u001b[39m    │ 0.016517  │ \u001b[90mmissing\u001b[39m   │ \u001b[90mmissing\u001b[39m    │\n",
       "│ 6     │ A3GALT2 │ 0.264308   │ 0.165927  │ \u001b[90mmissing\u001b[39m   │ 0.135154   │\n",
       "│ 7     │ A4GALT  │ 0.681983   │ 0.916425  │ 0.737331  │ 0.2952     │\n",
       "│ 8     │ AAAS    │ 0.449162   │ 0.867066  │ 0.494286  │ 0.620642   │\n",
       "│ 9     │ AACS    │ 0.161937   │ 0.292978  │ 0.212836  │ 0.302402   │\n",
       "│ 10    │ AACSP1  │ 0.0291564  │ \u001b[90mmissing\u001b[39m   │ 0.0717586 │ 0.0411224  │\n",
       "⋮\n",
       "│ 22082 │ ZUP1    │ 1.76823    │ 1.89404   │ 1.71544   │ 1.09259    │\n",
       "│ 22083 │ ZW10    │ 5.59202    │ 2.65677   │ 6.15131   │ 6.23158    │\n",
       "│ 22084 │ ZWILCH  │ 1.46135    │ 0.855102  │ 2.28675   │ 1.3335     │\n",
       "│ 22085 │ ZWINT   │ 2.12726    │ 6.89786   │ 6.40929   │ 3.57973    │\n",
       "│ 22086 │ ZXDA    │ 1.29069    │ 0.94225   │ 0.704662  │ 0.575992   │\n",
       "│ 22087 │ ZXDB    │ 2.89634    │ 2.72727   │ 2.39722   │ 2.38685    │\n",
       "│ 22088 │ ZXDC    │ 4.83999    │ 5.84644   │ 4.26077   │ 4.52419    │\n",
       "│ 22089 │ ZYG11A  │ 0.146811   │ 0.0379458 │ 0.102866  │ 0.0271845  │\n",
       "│ 22090 │ ZYG11B  │ 1.26695    │ 1.27192   │ 1.45535   │ 1.04138    │\n",
       "│ 22091 │ ZYX     │ 1.38892    │ 1.34982   │ 1.11677   │ 4.05829    │\n",
       "│ 22092 │ ZZEF1   │ 0.46241    │ 0.587565  │ 0.259731  │ 0.226577   │"
      ]
     },
     "execution_count": 4,
     "metadata": {},
     "output_type": "execute_result"
    }
   ],
   "source": [
    "for  "
   ]
  },
  {
   "cell_type": "code",
   "execution_count": null,
   "metadata": {},
   "outputs": [],
   "source": []
  }
 ],
 "metadata": {
  "@webio": {
   "lastCommId": null,
   "lastKernelId": null
  },
  "kernelspec": {
   "display_name": "Julia 1.0.3",
   "language": "julia",
   "name": "julia-1.0"
  },
  "language_info": {
   "file_extension": ".jl",
   "mimetype": "application/julia",
   "name": "julia",
   "version": "1.0.3"
  }
 },
 "nbformat": 4,
 "nbformat_minor": 4
}
