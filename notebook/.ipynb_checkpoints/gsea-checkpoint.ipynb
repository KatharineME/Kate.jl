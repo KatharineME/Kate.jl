{
 "cells": [
  {
   "cell_type": "code",
   "execution_count": 1,
   "metadata": {},
   "outputs": [
    {
     "data": {
      "text/plain": [
       "Main.Kraft"
      ]
     },
     "execution_count": 1,
     "metadata": {},
     "output_type": "execute_result"
    }
   ],
   "source": [
    "include(\"/home/kwat/github/Kraft.jl/src/Kraft.jl\")"
   ]
  },
  {
   "cell_type": "code",
   "execution_count": 4,
   "metadata": {},
   "outputs": [
    {
     "name": "stderr",
     "output_type": "stream",
     "text": [
      "WARNING: redefining constant genes\n",
      "WARNING: redefining constant scores\n",
      "WARNING: redefining constant gene_set_dict\n",
      "WARNING: redefining constant gene_set_genes\n"
     ]
    }
   ],
   "source": [
    "const genes = readlines(\"/home/kwat/github/kraft/notebook/genes.txt\")[2:end];\n",
    "\n",
    "const scores = fill(\n",
    "    1 / length(genes),\n",
    "    length(genes),\n",
    ");\n",
    "\n",
    "const gene_set_dict = Kraft.read_gmt(\"/home/kwat/garden/data/gene_set/msigdb_v6.2/h.all.v6.2.symbols.gmt\")\n",
    "\n",
    "const gene_set_genes = sort(gene_set_dict[sort(collect(keys(gene_set_dict)))[1]]);"
   ]
  },
  {
   "cell_type": "code",
   "execution_count": 5,
   "metadata": {},
   "outputs": [],
   "source": [
    "using BenchmarkTools"
   ]
  },
  {
   "cell_type": "code",
   "execution_count": 8,
   "metadata": {},
   "outputs": [
    {
     "name": "stderr",
     "output_type": "stream",
     "text": [
      "WARNING: redefining constant gene_rank\n",
      "WARNING: redefining constant hits\n"
     ]
    }
   ],
   "source": [
    "const gene_rank = Dict(zip(\n",
    "    genes,\n",
    "    1:length(genes),\n",
    "))\n",
    "\n",
    "const hits = Kraft.make_hits(\n",
    "    genes,\n",
    "    gene_set_genes,\n",
    ");"
   ]
  },
  {
   "cell_type": "code",
   "execution_count": 10,
   "metadata": {},
   "outputs": [
    {
     "data": {
      "text/plain": [
       "BenchmarkTools.Trial: \n",
       "  memory estimate:  452.94 KiB\n",
       "  allocs estimate:  3\n",
       "  --------------\n",
       "  minimum time:     97.329 μs (0.00% GC)\n",
       "  median time:      102.230 μs (0.00% GC)\n",
       "  mean time:        112.929 μs (6.47% GC)\n",
       "  maximum time:     31.115 ms (99.38% GC)\n",
       "  --------------\n",
       "  samples:          10000\n",
       "  evals/sample:     1"
      ]
     },
     "execution_count": 10,
     "metadata": {},
     "output_type": "execute_result"
    }
   ],
   "source": [
    "function compute_gene_set_enrichment(\n",
    "    genes::Array{String, 1},\n",
    "    scores::Array{Float64, 1},\n",
    "    gene_set_genes::Array{String, 1},\n",
    "    hits::Array{Int64, 1},\n",
    ")\n",
    "    \n",
    "    # 1ns\n",
    "    n = length(genes)\n",
    "    \n",
    "    # 2us\n",
    "    cumulative_sum = Array{Float64, 1}(\n",
    "        undef,\n",
    "        n,\n",
    "    )\n",
    "    \n",
    "    # 13us\n",
    "    hit_scores_sum = Kraft.sum_hit_scores(\n",
    "        scores,\n",
    "        hits,\n",
    "    )\n",
    "    \n",
    "    # 6us\n",
    "    d_down = -1 / (n - Kraft.sum_hits(hits))\n",
    "    \n",
    "    # 0.01ns\n",
    "    value = 0.0\n",
    "    \n",
    "    # 0.01ns\n",
    "    auc = 0.0\n",
    "    \n",
    "    # 0.01ns\n",
    "    min_ = 0.0\n",
    "    \n",
    "    # 0.01ns\n",
    "    max_ = 0.0\n",
    "    \n",
    "    @inbounds @fastmath @simd for i in 1:n\n",
    "        \n",
    "        if hits[i] == 1\n",
    "            \n",
    "            value += abs(scores[i]) / hit_scores_sum\n",
    "            \n",
    "        else\n",
    "            \n",
    "            value += d_down\n",
    "            \n",
    "        end\n",
    "        \n",
    "        # 50us\n",
    "        cumulative_sum[i] = value\n",
    "        \n",
    "        auc += value\n",
    "        \n",
    "        if value < min_\n",
    "            \n",
    "            min_ = value\n",
    "            \n",
    "        elseif max_ < value\n",
    "            \n",
    "            max_ = value\n",
    "            \n",
    "        end\n",
    "            \n",
    "    end\n",
    "    \n",
    "    cumulative_sum, auc, min_, max_\n",
    "    \n",
    "end\n",
    "\n",
    "\n",
    "@benchmark compute_gene_set_enrichment(\n",
    "    genes,\n",
    "    scores,\n",
    "    gene_set_genes,\n",
    "    hits,\n",
    ")"
   ]
  },
  {
   "cell_type": "code",
   "execution_count": 11,
   "metadata": {},
   "outputs": [],
   "source": [
    "using PyCall"
   ]
  },
  {
   "cell_type": "code",
   "execution_count": 12,
   "metadata": {},
   "outputs": [
    {
     "data": {
      "text/plain": [
       "PyObject <module 'kraft' from '/home/kwat/github/kraft/kraft/__init__.py'>"
      ]
     },
     "execution_count": 12,
     "metadata": {},
     "output_type": "execute_result"
    }
   ],
   "source": [
    "pd = pyimport(\"pandas\")\n",
    "\n",
    "kraft = pyimport(\"kraft\")"
   ]
  },
  {
   "cell_type": "code",
   "execution_count": 13,
   "metadata": {},
   "outputs": [
    {
     "data": {
      "text/plain": [
       "PyObject MIR628        0.000017\n",
       "RNU6-871P     0.000017\n",
       "MIR626        0.000017\n",
       "AC012314.7    0.000017\n",
       "GHRLOS        0.000017\n",
       "                ...   \n",
       "KP420441.5    0.000017\n",
       "KP420440.2    0.000017\n",
       "KP420440.6    0.000017\n",
       "KP420440.5    0.000017\n",
       "KP420446.1    0.000017\n",
       "Length: 57954, dtype: float64"
      ]
     },
     "execution_count": 13,
     "metadata": {},
     "output_type": "execute_result"
    }
   ],
   "source": [
    "gene_score = pd.Series(\n",
    "    scores,\n",
    "    index=genes,\n",
    ")"
   ]
  },
  {
   "cell_type": "code",
   "execution_count": 14,
   "metadata": {},
   "outputs": [
    {
     "name": "stdout",
     "output_type": "stream",
     "text": [
      "-0.11891713503802033\n"
     ]
    },
    {
     "data": {
      "text/plain": [
       "BenchmarkTools.Trial: \n",
       "  memory estimate:  5.94 KiB\n",
       "  allocs estimate:  258\n",
       "  --------------\n",
       "  minimum time:     508.319 μs (0.00% GC)\n",
       "  median time:      517.199 μs (0.00% GC)\n",
       "  mean time:        532.771 μs (0.53% GC)\n",
       "  maximum time:     56.392 ms (47.14% GC)\n",
       "  --------------\n",
       "  samples:          9338\n",
       "  evals/sample:     1"
      ]
     },
     "execution_count": 14,
     "metadata": {},
     "output_type": "execute_result"
    }
   ],
   "source": [
    "println(kraft.run_single_sample_gsea(\n",
    "    gene_score,\n",
    "    gene_set_genes,\n",
    "    hit=hits,\n",
    "    plot=false,\n",
    "))\n",
    "\n",
    "@benchmark kraft.run_single_sample_gsea(\n",
    "    gene_score,\n",
    "    gene_set_genes,\n",
    "    hit=hits,\n",
    "    plot=false,\n",
    ")"
   ]
  }
 ],
 "metadata": {
  "@webio": {
   "lastCommId": null,
   "lastKernelId": null
  },
  "kernelspec": {
   "display_name": "Julia 1.0.3",
   "language": "julia",
   "name": "julia-1.0"
  },
  "language_info": {
   "file_extension": ".jl",
   "mimetype": "application/julia",
   "name": "julia",
   "version": "1.0.3"
  }
 },
 "nbformat": 4,
 "nbformat_minor": 4
}
