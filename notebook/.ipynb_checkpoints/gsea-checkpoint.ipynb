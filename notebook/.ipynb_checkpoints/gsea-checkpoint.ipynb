{
 "cells": [
  {
   "cell_type": "code",
   "execution_count": 1,
   "metadata": {},
   "outputs": [],
   "source": [
    "const genes = readlines(\"/home/kwat/github/kraft/notebook/genes.txt\")[2:end];\n",
    "\n",
    "const scores = fill(\n",
    "    1 / length(genes),\n",
    "    length(genes),\n",
    ");\n",
    "\n",
    "const gene_set_dict = read_gmt(\"/home/kwat/garden/data/gene_set/msigdb_v6.2/h.all.v6.2.symbols.gmt\")\n",
    "\n",
    "const gene_set_genes = sort(gene_set_dict[sort(collect(keys(gene_set_dict)))[1]]);"
   ]
  },
  {
   "cell_type": "code",
   "execution_count": 2,
   "metadata": {},
   "outputs": [],
   "source": [
    "using BenchmarkTools"
   ]
  },
  {
   "cell_type": "code",
   "execution_count": 3,
   "metadata": {},
   "outputs": [
    {
     "data": {
      "text/plain": [
       "make_hits (generic function with 1 method)"
      ]
     },
     "execution_count": 3,
     "metadata": {},
     "output_type": "execute_result"
    }
   ],
   "source": [
    "function make_hits(\n",
    "    elements::Array{String, 1},\n",
    "    elements_to_find::Array{String, 1},\n",
    ")\n",
    "    \n",
    "    n = length(elements)\n",
    "    \n",
    "    hits = Array{Int64, 1}(\n",
    "        undef,\n",
    "        n,\n",
    "    )\n",
    "    \n",
    "    elements_to_find_ = Dict(e=>nothing for e in elements_to_find)\n",
    "    \n",
    "    @inbounds @fastmath @simd for i in 1:n\n",
    "\n",
    "        if haskey(\n",
    "            elements_to_find_,\n",
    "            elements[i],\n",
    "        )\n",
    "            \n",
    "            hit = 1\n",
    "\n",
    "        else\n",
    "            \n",
    "            hit = 0\n",
    "\n",
    "        end\n",
    "        \n",
    "        hits[i] = hit\n",
    "\n",
    "    end\n",
    "    \n",
    "    hits\n",
    "\n",
    "end"
   ]
  },
  {
   "cell_type": "code",
   "execution_count": 4,
   "metadata": {},
   "outputs": [
    {
     "data": {
      "text/plain": [
       "sum_hit_scores (generic function with 1 method)"
      ]
     },
     "execution_count": 4,
     "metadata": {},
     "output_type": "execute_result"
    }
   ],
   "source": [
    "function sum_hit_scores(\n",
    "    scores::Array{Float64, 1},\n",
    "    hits::Array{Int64, 1},\n",
    ")\n",
    "    \n",
    "    sum_ = 0.0\n",
    "    \n",
    "    @inbounds @fastmath @simd for i in 1:length(scores)\n",
    "        \n",
    "        if hits[i] == 1\n",
    "        \n",
    "            sum_ += abs(scores[i])\n",
    "            \n",
    "        end\n",
    "        \n",
    "    end\n",
    "    \n",
    "    sum_\n",
    "    \n",
    "end "
   ]
  },
  {
   "cell_type": "code",
   "execution_count": 5,
   "metadata": {},
   "outputs": [
    {
     "data": {
      "text/plain": [
       "sum_hits (generic function with 1 method)"
      ]
     },
     "execution_count": 5,
     "metadata": {},
     "output_type": "execute_result"
    }
   ],
   "source": [
    "function sum_hits(hits::Array{Int64, 1})\n",
    "    \n",
    "    sum_ = 0\n",
    "    \n",
    "    @inbounds @fastmath @simd for i in 1:length(hits)\n",
    "        \n",
    "         sum_ += hits[i]\n",
    "        \n",
    "    end\n",
    "    \n",
    "    sum_\n",
    "    \n",
    "end "
   ]
  },
  {
   "cell_type": "code",
   "execution_count": 6,
   "metadata": {},
   "outputs": [
    {
     "data": {
      "text/plain": [
       "pick_float_by_abs (generic function with 1 method)"
      ]
     },
     "execution_count": 6,
     "metadata": {},
     "output_type": "execute_result"
    }
   ],
   "source": [
    "function pick_float_by_abs(\n",
    "    float_1::Float64,\n",
    "    float_2::Float64,\n",
    ")\n",
    "    \n",
    "    @fastmath if abs(float_1) < abs(float_2)\n",
    "\n",
    "        float = float_2\n",
    "\n",
    "    else\n",
    "\n",
    "        float = float_1\n",
    "\n",
    "    end\n",
    "    \n",
    "    return float\n",
    "    \n",
    "end"
   ]
  },
  {
   "cell_type": "code",
   "execution_count": 7,
   "metadata": {},
   "outputs": [
    {
     "data": {
      "text/plain": [
       "57954-element Array{Int64,1}:\n",
       " 0\n",
       " 0\n",
       " 0\n",
       " 0\n",
       " 0\n",
       " 0\n",
       " 0\n",
       " 0\n",
       " 0\n",
       " 0\n",
       " 0\n",
       " 0\n",
       " 0\n",
       " ⋮\n",
       " 0\n",
       " 0\n",
       " 0\n",
       " 0\n",
       " 0\n",
       " 0\n",
       " 0\n",
       " 0\n",
       " 0\n",
       " 0\n",
       " 0\n",
       " 0"
      ]
     },
     "execution_count": 7,
     "metadata": {},
     "output_type": "execute_result"
    }
   ],
   "source": [
    "const gene_rank = Dict(zip(\n",
    "    genes,\n",
    "    1:length(genes),\n",
    "))\n",
    "\n",
    "const hits = make_hits(\n",
    "    genes,\n",
    "    gene_set_genes,\n",
    ")"
   ]
  },
  {
   "cell_type": "code",
   "execution_count": 10,
   "metadata": {},
   "outputs": [
    {
     "data": {
      "text/plain": [
       "BenchmarkTools.Trial: \n",
       "  memory estimate:  452.94 KiB\n",
       "  allocs estimate:  3\n",
       "  --------------\n",
       "  minimum time:     99.528 μs (0.00% GC)\n",
       "  median time:      103.191 μs (0.00% GC)\n",
       "  mean time:        111.654 μs (6.27% GC)\n",
       "  maximum time:     30.679 ms (99.55% GC)\n",
       "  --------------\n",
       "  samples:          10000\n",
       "  evals/sample:     1"
      ]
     },
     "execution_count": 10,
     "metadata": {},
     "output_type": "execute_result"
    }
   ],
   "source": [
    "function compute_gene_set_enrichment(\n",
    "    genes::Array{String, 1},\n",
    "    scores::Array{Float64, 1},\n",
    "    gene_set_genes::Array{String, 1},\n",
    "    hits::Array{Int64, 1},\n",
    ")\n",
    "    \n",
    "    # 1ns\n",
    "    n = length(genes)\n",
    "    \n",
    "    # 2us\n",
    "    cumulative_sum = Array{Float64, 1}(\n",
    "        undef,\n",
    "        n,\n",
    "    )\n",
    "    \n",
    "    # 13us\n",
    "    hit_scores_sum = sum_hit_scores(\n",
    "        scores,\n",
    "        hits,\n",
    "    )\n",
    "    \n",
    "    # 6us\n",
    "    d_down = -1 / (n - sum_hits(hits))\n",
    "    \n",
    "    # 0.01ns\n",
    "    value = 0.0\n",
    "    \n",
    "    # 0.01ns\n",
    "    auc = 0.0\n",
    "    \n",
    "    # 0.01ns\n",
    "    min_ = 0.0\n",
    "    \n",
    "    # 0.01ns\n",
    "    max_ = 0.0\n",
    "    \n",
    "    @inbounds @fastmath @simd for i in 1:n\n",
    "        \n",
    "        if hits[i] == 1\n",
    "            \n",
    "            value += abs(scores[i]) / hit_scores_sum\n",
    "            \n",
    "        else\n",
    "            \n",
    "            value += d_down\n",
    "            \n",
    "        end\n",
    "        \n",
    "        # 50us\n",
    "        cumulative_sum[i] = value\n",
    "        \n",
    "        auc += value\n",
    "        \n",
    "        if value < min_\n",
    "            \n",
    "            min_ = value\n",
    "            \n",
    "        elseif max_ < value\n",
    "            \n",
    "            max_ = value\n",
    "            \n",
    "        end\n",
    "            \n",
    "    end\n",
    "    \n",
    "    cumulative_sum, auc, min_, max_\n",
    "    \n",
    "end\n",
    "\n",
    "\n",
    "@benchmark compute_gene_set_enrichment(\n",
    "    genes,\n",
    "    scores,\n",
    "    gene_set_genes,\n",
    "    hits,\n",
    ")"
   ]
  },
  {
   "cell_type": "code",
   "execution_count": 11,
   "metadata": {},
   "outputs": [],
   "source": [
    "using PyCall"
   ]
  },
  {
   "cell_type": "code",
   "execution_count": 12,
   "metadata": {},
   "outputs": [
    {
     "data": {
      "text/plain": [
       "PyObject <module 'kraft' from '/home/kwat/github/kraft/kraft/__init__.py'>"
      ]
     },
     "execution_count": 12,
     "metadata": {},
     "output_type": "execute_result"
    }
   ],
   "source": [
    "pd = pyimport(\"pandas\")\n",
    "\n",
    "kraft = pyimport(\"kraft\")"
   ]
  },
  {
   "cell_type": "code",
   "execution_count": 13,
   "metadata": {},
   "outputs": [
    {
     "data": {
      "text/plain": [
       "PyObject MIR628        0.000017\n",
       "RNU6-871P     0.000017\n",
       "MIR626        0.000017\n",
       "AC012314.7    0.000017\n",
       "GHRLOS        0.000017\n",
       "                ...   \n",
       "KP420441.5    0.000017\n",
       "KP420440.2    0.000017\n",
       "KP420440.6    0.000017\n",
       "KP420440.5    0.000017\n",
       "KP420446.1    0.000017\n",
       "Length: 57954, dtype: float64"
      ]
     },
     "execution_count": 13,
     "metadata": {},
     "output_type": "execute_result"
    }
   ],
   "source": [
    "gene_score = pd.Series(\n",
    "    scores,\n",
    "    index=genes,\n",
    ")"
   ]
  },
  {
   "cell_type": "code",
   "execution_count": 15,
   "metadata": {},
   "outputs": [
    {
     "name": "stdout",
     "output_type": "stream",
     "text": [
      "-0.11891713503802033\n"
     ]
    },
    {
     "data": {
      "text/plain": [
       "BenchmarkTools.Trial: \n",
       "  memory estimate:  5.94 KiB\n",
       "  allocs estimate:  258\n",
       "  --------------\n",
       "  minimum time:     519.096 μs (0.00% GC)\n",
       "  median time:      539.163 μs (0.00% GC)\n",
       "  mean time:        577.080 μs (1.74% GC)\n",
       "  maximum time:     90.850 ms (64.30% GC)\n",
       "  --------------\n",
       "  samples:          8622\n",
       "  evals/sample:     1"
      ]
     },
     "execution_count": 15,
     "metadata": {},
     "output_type": "execute_result"
    }
   ],
   "source": [
    "println(kraft.run_single_sample_gsea(\n",
    "    gene_score,\n",
    "    gene_set_genes,\n",
    "    hit=hits,\n",
    "    plot=false,\n",
    "))\n",
    "\n",
    "@benchmark kraft.run_single_sample_gsea(\n",
    "    gene_score,\n",
    "    gene_set_genes,\n",
    "    hit=hits,\n",
    "    plot=false,\n",
    ")"
   ]
  },
  {
   "cell_type": "code",
   "execution_count": null,
   "metadata": {},
   "outputs": [],
   "source": []
  }
 ],
 "metadata": {
  "@webio": {
   "lastCommId": null,
   "lastKernelId": null
  },
  "kernelspec": {
   "display_name": "Julia 1.0.3",
   "language": "julia",
   "name": "julia-1.0"
  },
  "language_info": {
   "file_extension": ".jl",
   "mimetype": "application/julia",
   "name": "julia",
   "version": "1.0.3"
  }
 },
 "nbformat": 4,
 "nbformat_minor": 4
}
