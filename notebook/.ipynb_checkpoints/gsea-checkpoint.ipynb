{
 "cells": [
  {
   "cell_type": "code",
   "execution_count": null,
   "metadata": {},
   "outputs": [],
   "source": [
    "using BenchmarkTools"
   ]
  },
  {
   "cell_type": "code",
   "execution_count": null,
   "metadata": {},
   "outputs": [],
   "source": [
    "include(\"/home/kwat/github/Kraft.jl/src/Kraft.jl\")"
   ]
  },
  {
   "cell_type": "code",
   "execution_count": null,
   "metadata": {},
   "outputs": [],
   "source": [
    "const genes = readlines(\"/home/kwat/github/kraft/notebook/genes.txt\")[2:end]"
   ]
  },
  {
   "cell_type": "code",
   "execution_count": null,
   "metadata": {},
   "outputs": [],
   "source": [
    "const scores = fill(\n",
    "    1 / length(genes),\n",
    "    length(genes),\n",
    ")"
   ]
  },
  {
   "cell_type": "code",
   "execution_count": null,
   "metadata": {},
   "outputs": [],
   "source": [
    "gmt_file_path = \"/home/kwat/garden/data/gene_set/msigdb_v6.2/h.all.v6.2.symbols.gmt\"\n",
    "# gmt_file_path = \"/home/kwat/garden/data/gene_set/msigdb_v6.2/c3.all.v6.2.symbols.gmt\"\n",
    "# gmt_file_path = \"/home/kwat/garden/data/gene_set/msigdb_v6.2/c5.all.v6.2.symbols.gmt\"\n",
    "\n",
    "const gene_set_dict = Kraft.read_gmt(gmt_file_path)"
   ]
  },
  {
   "cell_type": "code",
   "execution_count": null,
   "metadata": {},
   "outputs": [],
   "source": [
    "const gene_set_genes = gene_set_dict[sort(collect(keys(gene_set_dict)))[1]]"
   ]
  },
  {
   "cell_type": "markdown",
   "metadata": {},
   "source": [
    "## Benchmark Julia"
   ]
  },
  {
   "cell_type": "code",
   "execution_count": null,
   "metadata": {},
   "outputs": [],
   "source": [
    "@benchmark Kraft.compute_gene_set_enrichment(\n",
    "    scores,\n",
    "    genes,\n",
    "    gene_set_genes,\n",
    ")"
   ]
  },
  {
   "cell_type": "code",
   "execution_count": null,
   "metadata": {},
   "outputs": [],
   "source": [
    "@benchmark Kraft.compute_gene_set_enrichment(\n",
    "    scores,\n",
    "    genes,\n",
    "    gene_set_genes;\n",
    "    compute_cumulative_sum=false,\n",
    ")"
   ]
  },
  {
   "cell_type": "code",
   "execution_count": null,
   "metadata": {},
   "outputs": [],
   "source": [
    "benchmark_result = @benchmark Kraft.compute_gene_set_enrichment(\n",
    "    scores,\n",
    "    genes,\n",
    "    gene_set_dict,\n",
    ")\n",
    "\n",
    "ms_per_gene_set = round(\n",
    "    minimum(benchmark_result.times) / 1e6 / length(gene_set_dict),\n",
    "    sigdigits=2,\n",
    ")\n",
    "\n",
    "println(\"$ms_per_gene_set ms / gene set\")\n",
    "\n",
    "benchmark_result"
   ]
  },
  {
   "cell_type": "markdown",
   "metadata": {},
   "source": [
    "## Benchmark Python"
   ]
  },
  {
   "cell_type": "code",
   "execution_count": null,
   "metadata": {},
   "outputs": [],
   "source": [
    "using PyCall"
   ]
  },
  {
   "cell_type": "code",
   "execution_count": null,
   "metadata": {},
   "outputs": [],
   "source": [
    "pd = pyimport(\"pandas\")"
   ]
  },
  {
   "cell_type": "code",
   "execution_count": null,
   "metadata": {},
   "outputs": [],
   "source": [
    "kraft = pyimport(\"kraft\")"
   ]
  },
  {
   "cell_type": "code",
   "execution_count": null,
   "metadata": {},
   "outputs": [],
   "source": [
    "const gene_score = pd.Series(\n",
    "    scores,\n",
    "    index=genes,\n",
    ")\n",
    "\n",
    "@benchmark kraft.run_single_sample_gsea(\n",
    "    gene_score,\n",
    "    gene_set_genes,\n",
    "    plot=false,\n",
    ")"
   ]
  },
  {
   "cell_type": "raw",
   "metadata": {},
   "source": [
    "const gene_x_sample = gene_score.to_frame()\n",
    "\n",
    "const gene_sets = kraft.read_gmt(gmt_file_path)\n",
    "\n",
    "benchmark_result = @benchmark kraft.run_single_sample_gseas(\n",
    "    gene_x_sample,\n",
    "    gene_sets,\n",
    ")\n",
    "\n",
    "ms_per_gene_set = round(\n",
    "    minimum(benchmark_result.times) / 1e6 / length(gene_set_dict),\n",
    "    sigdigits=2,\n",
    ")\n",
    "\n",
    "println(\"$ms_per_gene_set ms / gene set\")\n",
    "\n",
    "benchmark_result"
   ]
  }
 ],
 "metadata": {
  "@webio": {
   "lastCommId": null,
   "lastKernelId": null
  },
  "kernelspec": {
   "display_name": "Julia 1.0.3",
   "language": "julia",
   "name": "julia-1.0"
  },
  "language_info": {
   "file_extension": ".jl",
   "mimetype": "application/julia",
   "name": "julia",
   "version": "1.0.3"
  }
 },
 "nbformat": 4,
 "nbformat_minor": 4
}
