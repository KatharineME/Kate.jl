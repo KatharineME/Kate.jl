{
 "cells": [
  {
   "cell_type": "code",
   "execution_count": null,
   "metadata": {
    "scrolled": true
   },
   "outputs": [],
   "source": [
    "include(\"../src/Kraft.jl\")"
   ]
  },
  {
   "cell_type": "code",
   "execution_count": null,
   "metadata": {
    "scrolled": true
   },
   "outputs": [],
   "source": [
    "Kraft.check_programs()"
   ]
  },
  {
   "cell_type": "code",
   "execution_count": null,
   "metadata": {
    "scrolled": true
   },
   "outputs": [],
   "source": [
    "const path_dict = Kraft.make_path_dict(\n",
    "    \"/home/kwat/CarrotCake/data\",\n",
    "    false,\n",
    "    1,\n",
    ")"
   ]
  },
  {
   "cell_type": "code",
   "execution_count": null,
   "metadata": {},
   "outputs": [],
   "source": [
    "# const germ_dna_1_fq_gz = \"/home/kwat/sample/germ_dna.1.fastq.gz\"\n",
    "const germ_dna_1_fq_gz = \"/home/kwat/738/fastq/WGC056190D_combined_R1.fastq.gz\"\n",
    "\n",
    "# const germ_dna_2_fq_gz = \"/home/kwat/sample/germ_dna.2.fastq.gz\"\n",
    "const germ_dna_2_fq_gz = \"/home/kwat/738/fastq/WGC056190D_combined_R2.fastq.gz\"\n",
    "\n",
    "const soma_dna_1_fq_gz = \"/home/kwat/sample/soma_dna.1.fastq.gz\"\n",
    "\n",
    "const soma_dna_2_fq_gz = \"/home/kwat/sample/soma_dna.2.fastq.gz\"\n",
    "\n",
    "const soma_rna_1_fq_gz = \"/home/kwat/sample/soma_rna.1.fastq.gz\"\n",
    "\n",
    "const soma_rna_2_fq_gz = \"/home/kwat/sample/soma_rna.2.fastq.gz\"\n",
    "\n",
    "for file_path::String in(\n",
    "    germ_dna_1_fq_gz,\n",
    "    germ_dna_2_fq_gz,\n",
    "    soma_dna_1_fq_gz,\n",
    "    soma_dna_2_fq_gz,\n",
    "    soma_rna_1_fq_gz,\n",
    "    soma_rna_2_fq_gz,\n",
    ")\n",
    "    \n",
    "    if !isfile(file_path)\n",
    "        \n",
    "        error(\"$file_path doesn't exist.\")\n",
    "    \n",
    "    end\n",
    "    \n",
    "end"
   ]
  },
  {
   "cell_type": "code",
   "execution_count": null,
   "metadata": {},
   "outputs": [],
   "source": [
    "const exome = false\n",
    "\n",
    "const n_job = 8\n",
    "\n",
    "const gb_memory = 32"
   ]
  },
  {
   "cell_type": "code",
   "execution_count": null,
   "metadata": {},
   "outputs": [],
   "source": [
    "using Dates\n",
    "\n",
    "Dates.now()"
   ]
  },
  {
   "cell_type": "code",
   "execution_count": null,
   "metadata": {},
   "outputs": [],
   "source": [
    "const output_dir = \"/home/kwat/738/germ_dna\""
   ]
  },
  {
   "cell_type": "code",
   "execution_count": null,
   "metadata": {
    "scrolled": true
   },
   "outputs": [],
   "source": [
    "const trim_sequence_prefix = joinpath(\n",
    "    output_dir,\n",
    "    \"trim_sequence\",\n",
    "    \"germ_dna\",\n",
    ")\n",
    "\n",
    "Kraft.trim_sequence(\n",
    "    germ_dna_1_fq_gz,\n",
    "    germ_dna_2_fq_gz,\n",
    "    trim_sequence_prefix,\n",
    "    n_job,\n",
    ")\n",
    "\n",
    "const trim_1_fq_gz = \"$trim_sequence_prefix-trimmed-pair1.fastq.gz\"\n",
    "\n",
    "const trim_2_fq_gz = replace(trim_1_fq_gz, \"pair1\"=>\"pair2\")"
   ]
  },
  {
   "cell_type": "code",
   "execution_count": null,
   "metadata": {
    "scrolled": true
   },
   "outputs": [],
   "source": [
    "const check_sequence_dir = joinpath(\n",
    "    output_dir,\n",
    "    \"check_sequence\",\n",
    ")\n",
    "\n",
    "Kraft.check_sequence(\n",
    "    (\n",
    "        trim_1_fq_gz,\n",
    "        trim_2_fq_gz,\n",
    "    ),\n",
    "    check_sequence_dir,\n",
    "    n_job,\n",
    ")"
   ]
  },
  {
   "cell_type": "code",
   "execution_count": null,
   "metadata": {
    "scrolled": true
   },
   "outputs": [],
   "source": [
    "const bam = joinpath(\n",
    "    output_dir,\n",
    "    \"align_sequence\",\n",
    "    \"dna_germ.bam\",\n",
    ")\n",
    "\n",
    "Kraft.align_sequence(\n",
    "    trim_1_fq_gz,\n",
    "    trim_2_fq_gz,\n",
    "    \"Germ\",\n",
    "    path_dict[\"dna.fa.gz.mmi\"],\n",
    "    bam,\n",
    "    n_job,\n",
    ")"
   ]
  },
  {
   "cell_type": "code",
   "execution_count": null,
   "metadata": {
    "scrolled": false
   },
   "outputs": [],
   "source": [
    "const find_mutation_dir = joinpath(\n",
    "    output_dir,\n",
    "    \"find_variant\",\n",
    ")\n",
    "\n",
    "Kraft.find_mutation(\n",
    "    bam,\n",
    "    \"\",\n",
    "    path_dict[\"dna.fa.bgz\"],\n",
    "    path_dict[\"chromosome.bed.gz\"],\n",
    "    exome,\n",
    "    path_dict[\"chrn_n.tsv\"],\n",
    "    find_mutation_dir,\n",
    "    n_job,\n",
    "    gb_memory,\n",
    ")"
   ]
  },
  {
   "cell_type": "code",
   "execution_count": null,
   "metadata": {},
   "outputs": [],
   "source": [
    "Dates.now()"
   ]
  }
 ],
 "metadata": {
  "kernelspec": {
   "display_name": "Julia 1.0.3",
   "language": "julia",
   "name": "julia-1.0"
  },
  "language_info": {
   "file_extension": ".jl",
   "mimetype": "application/julia",
   "name": "julia",
   "version": "1.0.3"
  }
 },
 "nbformat": 4,
 "nbformat_minor": 2
}
