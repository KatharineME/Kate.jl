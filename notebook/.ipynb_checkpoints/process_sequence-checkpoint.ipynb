{
 "cells": [
  {
   "cell_type": "code",
   "execution_count": 57,
   "metadata": {
    "scrolled": true
   },
   "outputs": [
    {
     "name": "stdout",
     "output_type": "stream",
     "text": [
      "/home/kwat/github/Kraft.jl/src/Kraft.jl\n"
     ]
    },
    {
     "name": "stderr",
     "output_type": "stream",
     "text": [
      "WARNING: replacing module Kraft.\n"
     ]
    },
    {
     "data": {
      "text/plain": [
       "Main.Kraft"
      ]
     },
     "execution_count": 57,
     "metadata": {},
     "output_type": "execute_result"
    }
   ],
   "source": [
    "include(\"../src/Kraft.jl\")"
   ]
  },
  {
   "cell_type": "code",
   "execution_count": 8,
   "metadata": {},
   "outputs": [
    {
     "name": "stdout",
     "output_type": "stream",
     "text": [
      "Checking programs ...\n",
      "`\u001b[4mwhich\u001b[24m \u001b[4mskewer\u001b[24m`\n",
      "/home/kwat/miniconda3/bin/skewer\n",
      "`\u001b[4mwhich\u001b[24m \u001b[4mfastqc\u001b[24m`\n",
      "/home/kwat/miniconda3/bin/fastqc\n",
      "`\u001b[4mwhich\u001b[24m \u001b[4mminimap2\u001b[24m`\n",
      "/home/kwat/miniconda3/bin/minimap2\n",
      "`\u001b[4mwhich\u001b[24m \u001b[4mbgzip\u001b[24m`\n",
      "/home/kwat/miniconda3/bin/bgzip\n",
      "`\u001b[4mwhich\u001b[24m \u001b[4msamtools\u001b[24m`\n",
      "/home/kwat/miniconda3/bin/samtools\n",
      "`\u001b[4mwhich\u001b[24m \u001b[4mtabix\u001b[24m`\n",
      "/home/kwat/miniconda3/bin/tabix\n",
      "`\u001b[4mwhich\u001b[24m \u001b[4mbcftools\u001b[24m`\n",
      "/home/kwat/miniconda3/bin/bcftools\n",
      "`\u001b[4mwhich\u001b[24m \u001b[4msnpEff\u001b[24m`\n",
      "/home/kwat/miniconda3/bin/snpEff\n",
      "`\u001b[4mwhich\u001b[24m \u001b[4mkallisto\u001b[24m`\n",
      "/home/kwat/miniconda3/bin/kallisto\n",
      "`\u001b[4mbash\u001b[24m \u001b[4m-c\u001b[24m \u001b[4m'source activate py2.7 && which configManta.py'\u001b[24m`\n",
      "/home/kwat/miniconda3/envs/py2.7/bin/configManta.py\n",
      "`\u001b[4mbash\u001b[24m \u001b[4m-c\u001b[24m \u001b[4m'source activate py2.7 && which configureStrelkaGermlineWorkflow.py'\u001b[24m`\n",
      "/home/kwat/miniconda3/envs/py2.7/bin/configureStrelkaGermlineWorkflow.py\n",
      "`\u001b[4mbash\u001b[24m \u001b[4m-c\u001b[24m \u001b[4m'source activate py2.7 && which configureStrelkaSomaticWorkflow.py'\u001b[24m`\n",
      "/home/kwat/miniconda3/envs/py2.7/bin/configureStrelkaSomaticWorkflow.py\n"
     ]
    }
   ],
   "source": [
    "Kraft.check_programs()"
   ]
  },
  {
   "cell_type": "code",
   "execution_count": 9,
   "metadata": {},
   "outputs": [
    {
     "name": "stdout",
     "output_type": "stream",
     "text": [
      "Making path dict ...\n",
      "/home/kwat/CarrotCake/data/grch/GCA_000001405.15_GRCh38_no_alt_analysis_set.fna.gz\n",
      "/home/kwat/CarrotCake/data/grch/chromosome.bed.gz\n",
      "/home/kwat/CarrotCake/data/grch/chrn_n.tsv\n",
      "/home/kwat/CarrotCake/data/grch/Homo_sapiens.GRCh38.cdna.all.fa.gz\n",
      "/home/kwat/CarrotCake/data/grch/enst_gene_name.tsv\n",
      "/home/kwat/CarrotCake/data/virus/sequences.fasta\n",
      "/home/kwat/CarrotCake/data/virus/sequences.csv\n"
     ]
    },
    {
     "data": {
      "text/plain": [
       "Dict{String,String} with 4 entries:\n",
       "  \"chrn_n.tsv\"        => \"/home/kwat/CarrotCake/data/grch/chrn_n.tsv\"\n",
       "  \"dna.fa.gz.mmi\"     => \"/home/kwat/CarrotCake/data/grch/GCA_000001405.15_GRCh…\n",
       "  \"chromosome.bed.gz\" => \"/home/kwat/CarrotCake/data/grch/chromosome.bed.gz\"\n",
       "  \"dna.fa.bgz\"        => \"/home/kwat/CarrotCake/data/grch/GCA_000001405.15_GRCh…"
      ]
     },
     "execution_count": 9,
     "metadata": {},
     "output_type": "execute_result"
    }
   ],
   "source": [
    "const path_dict = Kraft.make_path_dict(\n",
    "    \"/home/kwat/CarrotCake/data\",\n",
    "    false,\n",
    "    1,\n",
    ")"
   ]
  },
  {
   "cell_type": "code",
   "execution_count": 10,
   "metadata": {},
   "outputs": [],
   "source": [
    "const germ_dna_1_fq_gz = \"/home/kwat/sample/germ_dna.1.fastq.gz\"\n",
    "\n",
    "const germ_dna_2_fq_gz = \"/home/kwat/sample/germ_dna.2.fastq.gz\"\n",
    "\n",
    "const soma_dna_1_fq_gz = \"/home/kwat/sample/soma_dna.1.fastq.gz\"\n",
    "\n",
    "const soma_dna_2_fq_gz = \"/home/kwat/sample/soma_dna.2.fastq.gz\"\n",
    "\n",
    "const soma_rna_1_fq_gz = \"/home/kwat/sample/soma_rna.1.fastq.gz\"\n",
    "\n",
    "const soma_rna_2_fq_gz = \"/home/kwat/sample/soma_rna.2.fastq.gz\"\n",
    "\n",
    "for file_path::String in(\n",
    "    germ_dna_1_fq_gz,\n",
    "    germ_dna_2_fq_gz,\n",
    "    soma_dna_1_fq_gz,\n",
    "    soma_dna_2_fq_gz,\n",
    "    soma_rna_1_fq_gz,\n",
    "    soma_rna_2_fq_gz,\n",
    ")\n",
    "    \n",
    "    if !isfile(file_path)\n",
    "        \n",
    "        error(\"$file_path doesn't exist.\")\n",
    "    \n",
    "    end\n",
    "    \n",
    "end"
   ]
  },
  {
   "cell_type": "code",
   "execution_count": 11,
   "metadata": {},
   "outputs": [
    {
     "data": {
      "text/plain": [
       "32"
      ]
     },
     "execution_count": 11,
     "metadata": {},
     "output_type": "execute_result"
    }
   ],
   "source": [
    "const sequencing_scope = \"genome\"\n",
    "\n",
    "const n_job = 8\n",
    "\n",
    "const gb_memory = 32"
   ]
  },
  {
   "cell_type": "code",
   "execution_count": 12,
   "metadata": {},
   "outputs": [
    {
     "name": "stdout",
     "output_type": "stream",
     "text": [
      "Trimming sequence ...\n",
      "`\u001b[4mskewer\u001b[24m \u001b[4m--threads\u001b[24m \u001b[4m8\u001b[24m \u001b[4m-x\u001b[24m \u001b[4mAGATCGGAAGAGC\u001b[24m \u001b[4m--compress\u001b[24m \u001b[4m--output\u001b[24m \u001b[4m/home/kwat/sample/germ_dna/trim_sequence/germ_dna\u001b[24m \u001b[4m/home/kwat/sample/germ_dna.1.fastq.gz\u001b[24m \u001b[4m/home/kwat/sample/germ_dna.2.fastq.gz\u001b[24m`\n"
     ]
    },
    {
     "name": "stderr",
     "output_type": "stream",
     "text": [
      "|=========================================>        | (84.66%)Excessive output truncated after 524312 bytes."
     ]
    },
    {
     "data": {
      "text/plain": [
       "\"/home/kwat/sample/germ_dna/trim_sequence/germ_dna-trimmed-pair2.fastq.gz\""
      ]
     },
     "execution_count": 12,
     "metadata": {},
     "output_type": "execute_result"
    }
   ],
   "source": [
    "const trim_sequence_prefix = \"/home/kwat/sample/germ_dna/trim_sequence/germ_dna\"\n",
    "\n",
    "Kraft.trim_sequence(\n",
    "    germ_dna_1_fq_gz,\n",
    "    germ_dna_2_fq_gz,\n",
    "    trim_sequence_prefix,\n",
    "    n_job,\n",
    ")\n",
    "\n",
    "const trim_1_fq_gz = \"$trim_sequence_prefix-trimmed-pair1.fastq.gz\"\n",
    "\n",
    "const trim_2_fq_gz = replace(trim_1_fq_gz, \"pair1\"=>\"pair2\")"
   ]
  },
  {
   "cell_type": "code",
   "execution_count": 13,
   "metadata": {},
   "outputs": [
    {
     "name": "stdout",
     "output_type": "stream",
     "text": [
      "Checking sequence ...\n",
      "`\u001b[4mfastqc\u001b[24m \u001b[4m--threads\u001b[24m \u001b[4m2\u001b[24m \u001b[4m--outdir\u001b[24m \u001b[4m/home/kwat/sample/germ_dna/check_sequence\u001b[24m \u001b[4m/home/kwat/sample/germ_dna/trim_sequence/germ_dna-trimmed-pair1.fastq.gz\u001b[24m \u001b[4m/home/kwat/sample/germ_dna/trim_sequence/germ_dna-trimmed-pair2.fastq.gz\u001b[24m`\n"
     ]
    },
    {
     "name": "stderr",
     "output_type": "stream",
     "text": [
      "Started analysis of germ_dna-trimmed-pair1.fastq.gz\n",
      "Started analysis of germ_dna-trimmed-pair2.fastq.gz\n",
      "Approx 5% complete for germ_dna-trimmed-pair1.fastq.gz\n",
      "Approx 5% complete for germ_dna-trimmed-pair2.fastq.gz\n",
      "Approx 10% complete for germ_dna-trimmed-pair1.fastq.gz\n",
      "Approx 10% complete for germ_dna-trimmed-pair2.fastq.gz\n",
      "Approx 15% complete for germ_dna-trimmed-pair1.fastq.gz\n",
      "Approx 15% complete for germ_dna-trimmed-pair2.fastq.gz\n",
      "Approx 20% complete for germ_dna-trimmed-pair1.fastq.gz\n",
      "Approx 20% complete for germ_dna-trimmed-pair2.fastq.gz\n",
      "Approx 25% complete for germ_dna-trimmed-pair1.fastq.gz\n",
      "Approx 25% complete for germ_dna-trimmed-pair2.fastq.gz\n",
      "Approx 30% complete for germ_dna-trimmed-pair1.fastq.gz\n",
      "Approx 30% complete for germ_dna-trimmed-pair2.fastq.gz\n",
      "Approx 35% complete for germ_dna-trimmed-pair1.fastq.gz\n",
      "Approx 35% complete for germ_dna-trimmed-pair2.fastq.gz\n",
      "Approx 40% complete for germ_dna-trimmed-pair1.fastq.gz\n",
      "Approx 40% complete for germ_dna-trimmed-pair2.fastq.gz\n",
      "Approx 45% complete for germ_dna-trimmed-pair1.fastq.gz\n",
      "Approx 45% complete for germ_dna-trimmed-pair2.fastq.gz\n",
      "Approx 50% complete for germ_dna-trimmed-pair1.fastq.gz\n",
      "Approx 55% complete for germ_dna-trimmed-pair1.fastq.gz\n",
      "Approx 50% complete for germ_dna-trimmed-pair2.fastq.gz\n",
      "Approx 60% complete for germ_dna-trimmed-pair1.fastq.gz\n",
      "Approx 55% complete for germ_dna-trimmed-pair2.fastq.gz\n",
      "Approx 65% complete for germ_dna-trimmed-pair1.fastq.gz\n",
      "Approx 60% complete for germ_dna-trimmed-pair2.fastq.gz\n",
      "Approx 70% complete for germ_dna-trimmed-pair1.fastq.gz\n",
      "Approx 65% complete for germ_dna-trimmed-pair2.fastq.gz\n",
      "Approx 75% complete for germ_dna-trimmed-pair1.fastq.gz\n",
      "Approx 70% complete for germ_dna-trimmed-pair2.fastq.gz\n",
      "Approx 80% complete for germ_dna-trimmed-pair1.fastq.gz\n",
      "Approx 75% complete for germ_dna-trimmed-pair2.fastq.gz\n",
      "Approx 85% complete for germ_dna-trimmed-pair1.fastq.gz\n",
      "Approx 80% complete for germ_dna-trimmed-pair2.fastq.gz\n",
      "Approx 90% complete for germ_dna-trimmed-pair1.fastq.gz\n",
      "Approx 85% complete for germ_dna-trimmed-pair2.fastq.gz\n",
      "Approx 95% complete for germ_dna-trimmed-pair1.fastq.gz\n",
      "Approx 90% complete for germ_dna-trimmed-pair2.fastq.gz\n"
     ]
    },
    {
     "name": "stdout",
     "output_type": "stream",
     "text": [
      "Analysis complete for germ_dna-trimmed-pair1.fastq.gz\n"
     ]
    },
    {
     "name": "stderr",
     "output_type": "stream",
     "text": [
      "Approx 95% complete for germ_dna-trimmed-pair2.fastq.gz\n"
     ]
    },
    {
     "name": "stdout",
     "output_type": "stream",
     "text": [
      "Analysis complete for germ_dna-trimmed-pair2.fastq.gz\n"
     ]
    },
    {
     "data": {
      "text/plain": [
       "Process(`\u001b[4mfastqc\u001b[24m \u001b[4m--threads\u001b[24m \u001b[4m2\u001b[24m \u001b[4m--outdir\u001b[24m \u001b[4m/home/kwat/sample/germ_dna/check_sequence\u001b[24m \u001b[4m/home/kwat/sample/germ_dna/trim_sequence/germ_dna-trimmed-pair1.fastq.gz\u001b[24m \u001b[4m/home/kwat/sample/germ_dna/trim_sequence/germ_dna-trimmed-pair2.fastq.gz\u001b[24m`, ProcessExited(0))"
      ]
     },
     "execution_count": 13,
     "metadata": {},
     "output_type": "execute_result"
    }
   ],
   "source": [
    "const check_sequence_dir = \"/home/kwat/sample/germ_dna/check_sequence\"\n",
    "\n",
    "Kraft.check_sequence(\n",
    "    (\n",
    "        trim_1_fq_gz,\n",
    "        trim_2_fq_gz,\n",
    "    ),\n",
    "    check_sequence_dir,\n",
    "    n_job,\n",
    ")"
   ]
  },
  {
   "cell_type": "code",
   "execution_count": 14,
   "metadata": {},
   "outputs": [
    {
     "name": "stdout",
     "output_type": "stream",
     "text": [
      "Aligning sequence ...\n",
      "pipeline(pipeline(pipeline(pipeline(`\u001b[4mminimap2\u001b[24m \u001b[4m-x\u001b[24m \u001b[4msr\u001b[24m \u001b[4m-t\u001b[24m \u001b[4m8\u001b[24m \u001b[4m-R\u001b[24m \u001b[4m'@RG\\tID:Germ\\tSM:Germ'\u001b[24m \u001b[4m-a\u001b[24m \u001b[4m/home/kwat/CarrotCake/data/grch/GCA_000001405.15_GRCh38_no_alt_analysis_set.fna.gz.mmi\u001b[24m \u001b[4m/home/kwat/sample/germ_dna/trim_sequence/germ_dna-trimmed-pair1.fastq.gz\u001b[24m \u001b[4m/home/kwat/sample/germ_dna/trim_sequence/germ_dna-trimmed-pair2.fastq.gz\u001b[24m`, stdout=`\u001b[4msamtools\u001b[24m \u001b[4msort\u001b[24m \u001b[4m-n\u001b[24m \u001b[4m--threads\u001b[24m \u001b[4m8\u001b[24m`), stdout=`\u001b[4msamtools\u001b[24m \u001b[4mfixmate\u001b[24m \u001b[4m-m\u001b[24m \u001b[4m--threads\u001b[24m \u001b[4m8\u001b[24m \u001b[4m-\u001b[24m \u001b[4m-\u001b[24m`), stdout=`\u001b[4msamtools\u001b[24m \u001b[4msort\u001b[24m \u001b[4m--threads\u001b[24m \u001b[4m8\u001b[24m`), stdout=Base.FileRedirect(\"/home/kwat/sample/germ_dna/align_sequence/dna_germ.no_markdup.bam\", false))\n"
     ]
    },
    {
     "name": "stderr",
     "output_type": "stream",
     "text": [
      "[WARNING]\u001b[1;31m Indexing parameters (-k, -w or -H) overridden by parameters used in the prebuilt index.\u001b[0m\n",
      "[M::main::4.704*0.97] loaded/built the index for 195 target sequence(s)\n",
      "[M::mm_mapopt_update::4.704*0.97] mid_occ = 1000\n",
      "[M::mm_idx_stat] kmer size: 15; skip: 10; is_hpc: 0; #seq: 195\n",
      "[M::mm_idx_stat::5.437*0.98] distinct minimizers: 100167746 (38.80% are singletons); average occurrences: 5.519; average spacing: 5.607\n",
      "[M::worker_pipeline::12.049*4.67] mapped 402028 sequences\n",
      "[M::worker_pipeline::16.945*5.74] mapped 402112 sequences\n",
      "[M::worker_pipeline::21.752*6.32] mapped 402086 sequences\n",
      "[M::worker_pipeline::26.782*6.65] mapped 402068 sequences\n",
      "[M::worker_pipeline::31.498*6.74] mapped 391686 sequences\n",
      "[M::main] Version: 2.17-r941\n",
      "[M::main] CMD: minimap2 -x sr -t 8 -R @RG\\tID:Germ\\tSM:Germ -a /home/kwat/CarrotCake/data/grch/GCA_000001405.15_GRCh38_no_alt_analysis_set.fna.gz.mmi /home/kwat/sample/germ_dna/trim_sequence/germ_dna-trimmed-pair1.fastq.gz /home/kwat/sample/germ_dna/trim_sequence/germ_dna-trimmed-pair2.fastq.gz\n",
      "[M::main] Real time: 31.652 sec; CPU: 212.381 sec; Peak RSS: 7.935 GB\n",
      "[bam_sort_core] merging from 0 files and 8 in-memory blocks...\n",
      "[bam_sort_core] merging from 0 files and 8 in-memory blocks...\n"
     ]
    },
    {
     "name": "stdout",
     "output_type": "stream",
     "text": [
      "`\u001b[4msamtools\u001b[24m \u001b[4mmarkdup\u001b[24m \u001b[4m--threads\u001b[24m \u001b[4m8\u001b[24m \u001b[4m-s\u001b[24m \u001b[4m/home/kwat/sample/germ_dna/align_sequence/dna_germ.no_markdup.bam\u001b[24m \u001b[4m/home/kwat/sample/germ_dna/align_sequence/dna_germ.bam\u001b[24m`\n",
      "`\u001b[4mrm\u001b[24m \u001b[4m--force\u001b[24m \u001b[4m/home/kwat/sample/germ_dna/align_sequence/dna_germ.no_markdup.bam\u001b[24m`\n",
      "`\u001b[4msamtools\u001b[24m \u001b[4mindex\u001b[24m \u001b[4m-@\u001b[24m \u001b[4m8\u001b[24m \u001b[4m/home/kwat/sample/germ_dna/align_sequence/dna_germ.bam\u001b[24m`\n"
     ]
    },
    {
     "name": "stderr",
     "output_type": "stream",
     "text": [
      "READ 2002462 WRITTEN 2002462 \n",
      "EXCLUDED 8602 EXAMINED 1993860\n",
      "PAIRED 1988572 SINGLE 5288\n",
      "DULPICATE PAIR 57366 DUPLICATE SINGLE 1279\n",
      "DUPLICATE TOTAL 58645\n"
     ]
    },
    {
     "name": "stdout",
     "output_type": "stream",
     "text": [
      "pipeline(`\u001b[4msamtools\u001b[24m \u001b[4mflagstat\u001b[24m \u001b[4m--threads\u001b[24m \u001b[4m8\u001b[24m \u001b[4m/home/kwat/sample/germ_dna/align_sequence/dna_germ.bam\u001b[24m`, stdout=Base.FileRedirect(\"/home/kwat/sample/germ_dna/align_sequence/dna_germ.bam.flagstat\", false))\n"
     ]
    },
    {
     "data": {
      "text/plain": [
       "Process(`\u001b[4msamtools\u001b[24m \u001b[4mflagstat\u001b[24m \u001b[4m--threads\u001b[24m \u001b[4m8\u001b[24m \u001b[4m/home/kwat/sample/germ_dna/align_sequence/dna_germ.bam\u001b[24m`, ProcessExited(0))"
      ]
     },
     "execution_count": 14,
     "metadata": {},
     "output_type": "execute_result"
    }
   ],
   "source": [
    "const bam = \"/home/kwat/sample/germ_dna/align_sequence/dna_germ.bam\"\n",
    "\n",
    "Kraft.align_sequence(\n",
    "    trim_1_fq_gz,\n",
    "    trim_2_fq_gz,\n",
    "    \"Germ\",\n",
    "    path_dict[\"dna.fa.gz.mmi\"],\n",
    "    bam,\n",
    "    n_job,\n",
    ")"
   ]
  },
  {
   "cell_type": "code",
   "execution_count": null,
   "metadata": {
    "scrolled": false
   },
   "outputs": [
    {
     "name": "stdout",
     "output_type": "stream",
     "text": [
      "Finding mutation ...\n",
      "`\u001b[4mbash\u001b[24m \u001b[4m-c\u001b[24m \u001b[4m'source activate py2.7 && configManta.py --referenceFasta /home/kwat/CarrotCake/data/grch/GCA_000001405.15_GRCh38_no_alt_analysis_set.fna.bgz --callRegions /home/kwat/CarrotCake/data/grch/chromosome.bed.gz --exome --bam /home/kwat/sample/germ_dna/align_sequence/dna_germ.bam --outputContig --runDir /home/kwat/sample/germ_dna/find_mutation/manta && /home/kwat/sample/germ_dna/find_mutation/manta/runWorkflow.py --mode local --jobs 8 --memGb 32 --quiet'\u001b[24m`\n",
      "\n",
      "Successfully created workflow run script.\n",
      "To execute the workflow, run the following script and set appropriate options:\n",
      "\n",
      "/home/kwat/sample/germ_dna/find_mutation/manta/runWorkflow.py\n",
      "`\u001b[4mbash\u001b[24m \u001b[4m-c\u001b[24m \u001b[4m'source activate py2.7 && configureStrelkaGermlineWorkflow.py --referenceFasta /home/kwat/CarrotCake/data/grch/GCA_000001405.15_GRCh38_no_alt_analysis_set.fna.bgz --callRegions /home/kwat/CarrotCake/data/grch/chromosome.bed.gz --exome --bam /home/kwat/sample/germ_dna/align_sequence/dna_germ.bam --runDir /home/kwat/sample/germ_dna/find_mutation/strelka && /home/kwat/sample/germ_dna/find_mutation/strelka/runWorkflow.py --mode local --jobs 8 --memGb 32 --quiet'\u001b[24m`\n",
      "\n",
      "Successfully created workflow run script.\n",
      "To execute the workflow, run the following script and set appropriate options:\n",
      "\n",
      "/home/kwat/sample/germ_dna/find_mutation/strelka/runWorkflow.py\n"
     ]
    }
   ],
   "source": [
    "const find_mutation_dir = \"/home/kwat/sample/germ_dna/find_variant\"\n",
    "\n",
    "Kraft.find_mutation(\n",
    "    bam,\n",
    "    \"\",\n",
    "    path_dict[\"dna.fa.bgz\"],\n",
    "    path_dict[\"chromosome.bed.gz\"],\n",
    "    sequencing_scope,\n",
    "    path_dict[\"chrn_n.tsv\"],\n",
    "    find_mutation_dir,\n",
    "    n_job,\n",
    "    gb_memory,\n",
    ")"
   ]
  }
 ],
 "metadata": {
  "kernelspec": {
   "display_name": "Julia 1.0.3",
   "language": "julia",
   "name": "julia-1.0"
  },
  "language_info": {
   "file_extension": ".jl",
   "mimetype": "application/julia",
   "name": "julia",
   "version": "1.0.3"
  }
 },
 "nbformat": 4,
 "nbformat_minor": 2
}
