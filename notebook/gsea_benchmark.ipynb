{
 "cells": [
  {
   "cell_type": "code",
   "execution_count": 7,
   "metadata": {},
   "outputs": [
    {
     "name": "stderr",
     "output_type": "stream",
     "text": [
      "WARNING: replacing module Kraft.\n"
     ]
    },
    {
     "data": {
      "text/plain": [
       "Main.Kraft"
      ]
     },
     "execution_count": 7,
     "metadata": {},
     "output_type": "execute_result"
    }
   ],
   "source": [
    "using CSV\n",
    "using DataFrames\n",
    "using Statistics\n",
    "\n",
    "include(\"../src/Kraft.jl\")"
   ]
  },
  {
   "cell_type": "code",
   "execution_count": 13,
   "metadata": {},
   "outputs": [
    {
     "data": {
      "text/html": [
       "<table class=\"data-frame\"><thead><tr><th></th><th>Gene</th><th>127399_SOFT_TISSUE</th><th>143B_BONE</th><th>22RV1_PROSTATE</th><th>2313287_STOMACH</th><th>253JBV_URINARY_TRACT</th></tr><tr><th></th><th>String</th><th>Float64</th><th>Float64</th><th>Float64</th><th>Float64</th><th>Float64</th></tr></thead><tbody><p>54,271 rows × 1,202 columns (omitted printing of 1196 columns)</p><tr><th>1</th><td>5S_rRNA</td><td>0.0</td><td>0.0</td><td>0.0</td><td>0.0</td><td>0.0143553</td></tr><tr><th>2</th><td>7SK</td><td>0.632268</td><td>0.321928</td><td>0.823749</td><td>0.910733</td><td>0.378512</td></tr><tr><th>3</th><td>A1BG</td><td>3.79701</td><td>3.04089</td><td>1.72247</td><td>0.189034</td><td>0.516015</td></tr><tr><th>4</th><td>A1BG-AS1</td><td>2.82985</td><td>1.46467</td><td>2.90304</td><td>0.163499</td><td>0.422233</td></tr><tr><th>5</th><td>A1CF</td><td>0.0</td><td>0.0565835</td><td>3.26153</td><td>2.16027</td><td>0.0426443</td></tr><tr><th>6</th><td>A2M</td><td>0.722466</td><td>2.46728</td><td>1.99639</td><td>0.0840643</td><td>0.238787</td></tr><tr><th>7</th><td>A2M-AS1</td><td>0.495695</td><td>0.226509</td><td>1.40599</td><td>0.298658</td><td>0.0</td></tr><tr><th>8</th><td>A2ML1</td><td>0.0</td><td>0.0</td><td>0.15056</td><td>0.111031</td><td>0.0703893</td></tr><tr><th>9</th><td>A2ML1-AS1</td><td>0.0</td><td>0.0</td><td>0.0</td><td>0.0</td><td>0.0</td></tr><tr><th>10</th><td>A2ML1-AS2</td><td>0.0</td><td>0.0</td><td>0.0</td><td>0.0</td><td>0.0</td></tr><tr><th>11</th><td>A2MP1</td><td>0.163499</td><td>0.0285692</td><td>0.400538</td><td>0.0</td><td>0.0285692</td></tr><tr><th>12</th><td>A3GALT2</td><td>0.0</td><td>0.0</td><td>0.0</td><td>0.0</td><td>0.0</td></tr><tr><th>13</th><td>A4GALT</td><td>3.10098</td><td>2.07039</td><td>0.238787</td><td>1.42223</td><td>4.06953</td></tr><tr><th>14</th><td>A4GNT</td><td>0.0</td><td>0.0</td><td>0.0</td><td>0.0</td><td>0.238787</td></tr><tr><th>15</th><td>AAAS</td><td>5.20006</td><td>5.58826</td><td>6.56499</td><td>5.51916</td><td>6.16872</td></tr><tr><th>16</th><td>AACS</td><td>4.20867</td><td>2.90111</td><td>5.6605</td><td>3.96901</td><td>4.47703</td></tr><tr><th>17</th><td>AACSP1</td><td>0.0</td><td>0.0</td><td>2.69153</td><td>0.275007</td><td>0.0565835</td></tr><tr><th>18</th><td>AADAC</td><td>0.214125</td><td>0.0703893</td><td>0.0</td><td>0.0285692</td><td>0.0</td></tr><tr><th>19</th><td>AADACL2</td><td>0.0</td><td>0.0</td><td>0.0</td><td>0.0</td><td>0.0</td></tr><tr><th>20</th><td>AADACL3</td><td>0.0</td><td>0.0</td><td>0.0</td><td>0.0</td><td>0.0</td></tr><tr><th>21</th><td>AADACL4</td><td>0.0</td><td>0.0</td><td>0.0</td><td>0.0</td><td>0.0</td></tr><tr><th>22</th><td>AADAT</td><td>1.72683</td><td>3.42223</td><td>3.17153</td><td>0.0565835</td><td>0.0143553</td></tr><tr><th>23</th><td>AAED1</td><td>4.1235</td><td>2.15056</td><td>1.41684</td><td>2.30159</td><td>2.38405</td></tr><tr><th>24</th><td>AAGAB</td><td>5.19574</td><td>5.87995</td><td>5.45352</td><td>5.65277</td><td>6.06566</td></tr><tr><th>25</th><td>AAK1</td><td>1.04264</td><td>1.01436</td><td>3.04963</td><td>2.24489</td><td>2.38957</td></tr><tr><th>26</th><td>AAMDC</td><td>7.33244</td><td>4.94111</td><td>3.12267</td><td>4.27798</td><td>3.81762</td></tr><tr><th>27</th><td>AAMP</td><td>6.10518</td><td>7.29554</td><td>6.53543</td><td>6.28503</td><td>6.89421</td></tr><tr><th>28</th><td>AANAT</td><td>0.298658</td><td>0.201634</td><td>0.0565835</td><td>0.0426443</td><td>1.0635</td></tr><tr><th>29</th><td>AAR2</td><td>4.67525</td><td>5.142</td><td>4.67243</td><td>4.86691</td><td>4.33056</td></tr><tr><th>30</th><td>AARD</td><td>0.0143553</td><td>1.16993</td><td>0.163499</td><td>0.0</td><td>0.0840643</td></tr><tr><th>&vellip;</th><td>&vellip;</td><td>&vellip;</td><td>&vellip;</td><td>&vellip;</td><td>&vellip;</td><td>&vellip;</td></tr></tbody></table>"
      ],
      "text/latex": [
       "\\begin{tabular}{r|ccccccc}\n",
       "\t& Gene & 127399\\_SOFT\\_TISSUE & 143B\\_BONE & 22RV1\\_PROSTATE & 2313287\\_STOMACH & 253JBV\\_URINARY\\_TRACT & \\\\\n",
       "\t\\hline\n",
       "\t& String & Float64 & Float64 & Float64 & Float64 & Float64 & \\\\\n",
       "\t\\hline\n",
       "\t1 & 5S\\_rRNA & 0.0 & 0.0 & 0.0 & 0.0 & 0.0143553 & $\\dots$ \\\\\n",
       "\t2 & 7SK & 0.632268 & 0.321928 & 0.823749 & 0.910733 & 0.378512 & $\\dots$ \\\\\n",
       "\t3 & A1BG & 3.79701 & 3.04089 & 1.72247 & 0.189034 & 0.516015 & $\\dots$ \\\\\n",
       "\t4 & A1BG-AS1 & 2.82985 & 1.46467 & 2.90304 & 0.163499 & 0.422233 & $\\dots$ \\\\\n",
       "\t5 & A1CF & 0.0 & 0.0565835 & 3.26153 & 2.16027 & 0.0426443 & $\\dots$ \\\\\n",
       "\t6 & A2M & 0.722466 & 2.46728 & 1.99639 & 0.0840643 & 0.238787 & $\\dots$ \\\\\n",
       "\t7 & A2M-AS1 & 0.495695 & 0.226509 & 1.40599 & 0.298658 & 0.0 & $\\dots$ \\\\\n",
       "\t8 & A2ML1 & 0.0 & 0.0 & 0.15056 & 0.111031 & 0.0703893 & $\\dots$ \\\\\n",
       "\t9 & A2ML1-AS1 & 0.0 & 0.0 & 0.0 & 0.0 & 0.0 & $\\dots$ \\\\\n",
       "\t10 & A2ML1-AS2 & 0.0 & 0.0 & 0.0 & 0.0 & 0.0 & $\\dots$ \\\\\n",
       "\t11 & A2MP1 & 0.163499 & 0.0285692 & 0.400538 & 0.0 & 0.0285692 & $\\dots$ \\\\\n",
       "\t12 & A3GALT2 & 0.0 & 0.0 & 0.0 & 0.0 & 0.0 & $\\dots$ \\\\\n",
       "\t13 & A4GALT & 3.10098 & 2.07039 & 0.238787 & 1.42223 & 4.06953 & $\\dots$ \\\\\n",
       "\t14 & A4GNT & 0.0 & 0.0 & 0.0 & 0.0 & 0.238787 & $\\dots$ \\\\\n",
       "\t15 & AAAS & 5.20006 & 5.58826 & 6.56499 & 5.51916 & 6.16872 & $\\dots$ \\\\\n",
       "\t16 & AACS & 4.20867 & 2.90111 & 5.6605 & 3.96901 & 4.47703 & $\\dots$ \\\\\n",
       "\t17 & AACSP1 & 0.0 & 0.0 & 2.69153 & 0.275007 & 0.0565835 & $\\dots$ \\\\\n",
       "\t18 & AADAC & 0.214125 & 0.0703893 & 0.0 & 0.0285692 & 0.0 & $\\dots$ \\\\\n",
       "\t19 & AADACL2 & 0.0 & 0.0 & 0.0 & 0.0 & 0.0 & $\\dots$ \\\\\n",
       "\t20 & AADACL3 & 0.0 & 0.0 & 0.0 & 0.0 & 0.0 & $\\dots$ \\\\\n",
       "\t21 & AADACL4 & 0.0 & 0.0 & 0.0 & 0.0 & 0.0 & $\\dots$ \\\\\n",
       "\t22 & AADAT & 1.72683 & 3.42223 & 3.17153 & 0.0565835 & 0.0143553 & $\\dots$ \\\\\n",
       "\t23 & AAED1 & 4.1235 & 2.15056 & 1.41684 & 2.30159 & 2.38405 & $\\dots$ \\\\\n",
       "\t24 & AAGAB & 5.19574 & 5.87995 & 5.45352 & 5.65277 & 6.06566 & $\\dots$ \\\\\n",
       "\t25 & AAK1 & 1.04264 & 1.01436 & 3.04963 & 2.24489 & 2.38957 & $\\dots$ \\\\\n",
       "\t26 & AAMDC & 7.33244 & 4.94111 & 3.12267 & 4.27798 & 3.81762 & $\\dots$ \\\\\n",
       "\t27 & AAMP & 6.10518 & 7.29554 & 6.53543 & 6.28503 & 6.89421 & $\\dots$ \\\\\n",
       "\t28 & AANAT & 0.298658 & 0.201634 & 0.0565835 & 0.0426443 & 1.0635 & $\\dots$ \\\\\n",
       "\t29 & AAR2 & 4.67525 & 5.142 & 4.67243 & 4.86691 & 4.33056 & $\\dots$ \\\\\n",
       "\t30 & AARD & 0.0143553 & 1.16993 & 0.163499 & 0.0 & 0.0840643 & $\\dots$ \\\\\n",
       "\t$\\dots$ & $\\dots$ & $\\dots$ & $\\dots$ & $\\dots$ & $\\dots$ & $\\dots$ &  \\\\\n",
       "\\end{tabular}\n"
      ],
      "text/plain": [
       "54271×1202 DataFrame. Omitted printing of 1198 columns\n",
       "│ Row   │ Gene         │ 127399_SOFT_TISSUE │ 143B_BONE │ 22RV1_PROSTATE │\n",
       "│       │ \u001b[90mString\u001b[39m       │ \u001b[90mFloat64\u001b[39m            │ \u001b[90mFloat64\u001b[39m   │ \u001b[90mFloat64\u001b[39m        │\n",
       "├───────┼──────────────┼────────────────────┼───────────┼────────────────┤\n",
       "│ 1     │ 5S_rRNA      │ 0.0                │ 0.0       │ 0.0            │\n",
       "│ 2     │ 7SK          │ 0.632268           │ 0.321928  │ 0.823749       │\n",
       "│ 3     │ A1BG         │ 3.79701            │ 3.04089   │ 1.72247        │\n",
       "│ 4     │ A1BG-AS1     │ 2.82985            │ 1.46467   │ 2.90304        │\n",
       "│ 5     │ A1CF         │ 0.0                │ 0.0565835 │ 3.26153        │\n",
       "│ 6     │ A2M          │ 0.722466           │ 2.46728   │ 1.99639        │\n",
       "│ 7     │ A2M-AS1      │ 0.495695           │ 0.226509  │ 1.40599        │\n",
       "│ 8     │ A2ML1        │ 0.0                │ 0.0       │ 0.15056        │\n",
       "│ 9     │ A2ML1-AS1    │ 0.0                │ 0.0       │ 0.0            │\n",
       "│ 10    │ A2ML1-AS2    │ 0.0                │ 0.0       │ 0.0            │\n",
       "⋮\n",
       "│ 54261 │ snoU83B      │ 0.0                │ 0.0       │ 0.0            │\n",
       "│ 54262 │ snoZ13_snr52 │ 0.0                │ 0.0       │ 0.0            │\n",
       "│ 54263 │ snoZ178      │ 0.0                │ 0.0       │ 0.0            │\n",
       "│ 54264 │ snoZ185      │ 0.0                │ 0.0       │ 0.0            │\n",
       "│ 54265 │ snoZ247      │ 0.0                │ 0.0       │ 0.0            │\n",
       "│ 54266 │ snoZ40       │ 0.0                │ 0.0       │ 0.0            │\n",
       "│ 54267 │ snoZ5        │ 0.0                │ 0.0       │ 0.0            │\n",
       "│ 54268 │ snoZ6        │ 0.0                │ 0.0       │ 0.0            │\n",
       "│ 54269 │ snosnR60_Z15 │ 0.0                │ 0.0       │ 0.0            │\n",
       "│ 54270 │ snosnR66     │ 0.0                │ 0.0       │ 0.0            │\n",
       "│ 54271 │ yR211F11.2   │ 0.0                │ 0.0       │ 0.263034       │"
      ]
     },
     "execution_count": 13,
     "metadata": {},
     "output_type": "execute_result"
    }
   ],
   "source": [
    "gene_x_sample = Kraft.read_gct(\n",
    "    \"/Users/kwatme/Downloads/CCLE_expression_full.reformatted.gct\",\n",
    "    \"Gene\",\n",
    ")"
   ]
  },
  {
   "cell_type": "code",
   "execution_count": 14,
   "metadata": {},
   "outputs": [
    {
     "data": {
      "text/plain": [
       "PyObject <module 'kraft' from '/Users/kwatme/github/kraft/kraft/__init__.py'>"
      ]
     },
     "execution_count": 14,
     "metadata": {},
     "output_type": "execute_result"
    }
   ],
   "source": [
    "# using Pkg\n",
    "# ENV[\"PYTHON\"] = \"/Users/kwatme/miniconda3/bin/python\"\n",
    "# Pkg.build(\"PyCall\")\n",
    "\n",
    "using PyCall\n",
    "\n",
    "pd = pyimport(\"pandas\")\n",
    "kraft = pyimport(\"kraft\")"
   ]
  },
  {
   "cell_type": "code",
   "execution_count": 15,
   "metadata": {},
   "outputs": [
    {
     "data": {
      "text/html": [
       "<table class=\"data-frame\"><thead><tr><th></th><th>Gene</th><th>127399_SOFT_TISSUE</th><th>143B_BONE</th><th>22RV1_PROSTATE</th><th>2313287_STOMACH</th><th>253JBV_URINARY_TRACT</th></tr><tr><th></th><th>String</th><th>Float64</th><th>Float64</th><th>Float64</th><th>Float64</th><th>Float64</th></tr></thead><tbody><p>54,271 rows × 1,202 columns (omitted printing of 1196 columns)</p><tr><th>1</th><td>5S_rRNA</td><td>0.0</td><td>0.0</td><td>0.0</td><td>0.0</td><td>0.0143553</td></tr><tr><th>2</th><td>7SK</td><td>0.632268</td><td>0.321928</td><td>0.823749</td><td>0.910733</td><td>0.378512</td></tr><tr><th>3</th><td>A1BG</td><td>3.79701</td><td>3.04089</td><td>1.72247</td><td>0.189034</td><td>0.516015</td></tr><tr><th>4</th><td>A1BG-AS1</td><td>2.82985</td><td>1.46467</td><td>2.90304</td><td>0.163499</td><td>0.422233</td></tr><tr><th>5</th><td>A1CF</td><td>0.0</td><td>0.0565835</td><td>3.26153</td><td>2.16027</td><td>0.0426443</td></tr><tr><th>6</th><td>A2M</td><td>0.722466</td><td>2.46728</td><td>1.99639</td><td>0.0840643</td><td>0.238787</td></tr><tr><th>7</th><td>A2M-AS1</td><td>0.495695</td><td>0.226509</td><td>1.40599</td><td>0.298658</td><td>0.0</td></tr><tr><th>8</th><td>A2ML1</td><td>0.0</td><td>0.0</td><td>0.15056</td><td>0.111031</td><td>0.0703893</td></tr><tr><th>9</th><td>A2ML1-AS1</td><td>0.0</td><td>0.0</td><td>0.0</td><td>0.0</td><td>0.0</td></tr><tr><th>10</th><td>A2ML1-AS2</td><td>0.0</td><td>0.0</td><td>0.0</td><td>0.0</td><td>0.0</td></tr><tr><th>11</th><td>A2MP1</td><td>0.163499</td><td>0.0285692</td><td>0.400538</td><td>0.0</td><td>0.0285692</td></tr><tr><th>12</th><td>A3GALT2</td><td>0.0</td><td>0.0</td><td>0.0</td><td>0.0</td><td>0.0</td></tr><tr><th>13</th><td>A4GALT</td><td>3.10098</td><td>2.07039</td><td>0.238787</td><td>1.42223</td><td>4.06953</td></tr><tr><th>14</th><td>A4GNT</td><td>0.0</td><td>0.0</td><td>0.0</td><td>0.0</td><td>0.238787</td></tr><tr><th>15</th><td>AAAS</td><td>5.20006</td><td>5.58826</td><td>6.56499</td><td>5.51916</td><td>6.16872</td></tr><tr><th>16</th><td>AACS</td><td>4.20867</td><td>2.90111</td><td>5.6605</td><td>3.96901</td><td>4.47703</td></tr><tr><th>17</th><td>AACSP1</td><td>0.0</td><td>0.0</td><td>2.69153</td><td>0.275007</td><td>0.0565835</td></tr><tr><th>18</th><td>AADAC</td><td>0.214125</td><td>0.0703893</td><td>0.0</td><td>0.0285692</td><td>0.0</td></tr><tr><th>19</th><td>AADACL2</td><td>0.0</td><td>0.0</td><td>0.0</td><td>0.0</td><td>0.0</td></tr><tr><th>20</th><td>AADACL3</td><td>0.0</td><td>0.0</td><td>0.0</td><td>0.0</td><td>0.0</td></tr><tr><th>21</th><td>AADACL4</td><td>0.0</td><td>0.0</td><td>0.0</td><td>0.0</td><td>0.0</td></tr><tr><th>22</th><td>AADAT</td><td>1.72683</td><td>3.42223</td><td>3.17153</td><td>0.0565835</td><td>0.0143553</td></tr><tr><th>23</th><td>AAED1</td><td>4.1235</td><td>2.15056</td><td>1.41684</td><td>2.30159</td><td>2.38405</td></tr><tr><th>24</th><td>AAGAB</td><td>5.19574</td><td>5.87995</td><td>5.45352</td><td>5.65277</td><td>6.06566</td></tr><tr><th>25</th><td>AAK1</td><td>1.04264</td><td>1.01436</td><td>3.04963</td><td>2.24489</td><td>2.38957</td></tr><tr><th>26</th><td>AAMDC</td><td>7.33244</td><td>4.94111</td><td>3.12267</td><td>4.27798</td><td>3.81762</td></tr><tr><th>27</th><td>AAMP</td><td>6.10518</td><td>7.29554</td><td>6.53543</td><td>6.28503</td><td>6.89421</td></tr><tr><th>28</th><td>AANAT</td><td>0.298658</td><td>0.201634</td><td>0.0565835</td><td>0.0426443</td><td>1.0635</td></tr><tr><th>29</th><td>AAR2</td><td>4.67525</td><td>5.142</td><td>4.67243</td><td>4.86691</td><td>4.33056</td></tr><tr><th>30</th><td>AARD</td><td>0.0143553</td><td>1.16993</td><td>0.163499</td><td>0.0</td><td>0.0840643</td></tr><tr><th>&vellip;</th><td>&vellip;</td><td>&vellip;</td><td>&vellip;</td><td>&vellip;</td><td>&vellip;</td><td>&vellip;</td></tr></tbody></table>"
      ],
      "text/latex": [
       "\\begin{tabular}{r|ccccccc}\n",
       "\t& Gene & 127399\\_SOFT\\_TISSUE & 143B\\_BONE & 22RV1\\_PROSTATE & 2313287\\_STOMACH & 253JBV\\_URINARY\\_TRACT & \\\\\n",
       "\t\\hline\n",
       "\t& String & Float64 & Float64 & Float64 & Float64 & Float64 & \\\\\n",
       "\t\\hline\n",
       "\t1 & 5S\\_rRNA & 0.0 & 0.0 & 0.0 & 0.0 & 0.0143553 & $\\dots$ \\\\\n",
       "\t2 & 7SK & 0.632268 & 0.321928 & 0.823749 & 0.910733 & 0.378512 & $\\dots$ \\\\\n",
       "\t3 & A1BG & 3.79701 & 3.04089 & 1.72247 & 0.189034 & 0.516015 & $\\dots$ \\\\\n",
       "\t4 & A1BG-AS1 & 2.82985 & 1.46467 & 2.90304 & 0.163499 & 0.422233 & $\\dots$ \\\\\n",
       "\t5 & A1CF & 0.0 & 0.0565835 & 3.26153 & 2.16027 & 0.0426443 & $\\dots$ \\\\\n",
       "\t6 & A2M & 0.722466 & 2.46728 & 1.99639 & 0.0840643 & 0.238787 & $\\dots$ \\\\\n",
       "\t7 & A2M-AS1 & 0.495695 & 0.226509 & 1.40599 & 0.298658 & 0.0 & $\\dots$ \\\\\n",
       "\t8 & A2ML1 & 0.0 & 0.0 & 0.15056 & 0.111031 & 0.0703893 & $\\dots$ \\\\\n",
       "\t9 & A2ML1-AS1 & 0.0 & 0.0 & 0.0 & 0.0 & 0.0 & $\\dots$ \\\\\n",
       "\t10 & A2ML1-AS2 & 0.0 & 0.0 & 0.0 & 0.0 & 0.0 & $\\dots$ \\\\\n",
       "\t11 & A2MP1 & 0.163499 & 0.0285692 & 0.400538 & 0.0 & 0.0285692 & $\\dots$ \\\\\n",
       "\t12 & A3GALT2 & 0.0 & 0.0 & 0.0 & 0.0 & 0.0 & $\\dots$ \\\\\n",
       "\t13 & A4GALT & 3.10098 & 2.07039 & 0.238787 & 1.42223 & 4.06953 & $\\dots$ \\\\\n",
       "\t14 & A4GNT & 0.0 & 0.0 & 0.0 & 0.0 & 0.238787 & $\\dots$ \\\\\n",
       "\t15 & AAAS & 5.20006 & 5.58826 & 6.56499 & 5.51916 & 6.16872 & $\\dots$ \\\\\n",
       "\t16 & AACS & 4.20867 & 2.90111 & 5.6605 & 3.96901 & 4.47703 & $\\dots$ \\\\\n",
       "\t17 & AACSP1 & 0.0 & 0.0 & 2.69153 & 0.275007 & 0.0565835 & $\\dots$ \\\\\n",
       "\t18 & AADAC & 0.214125 & 0.0703893 & 0.0 & 0.0285692 & 0.0 & $\\dots$ \\\\\n",
       "\t19 & AADACL2 & 0.0 & 0.0 & 0.0 & 0.0 & 0.0 & $\\dots$ \\\\\n",
       "\t20 & AADACL3 & 0.0 & 0.0 & 0.0 & 0.0 & 0.0 & $\\dots$ \\\\\n",
       "\t21 & AADACL4 & 0.0 & 0.0 & 0.0 & 0.0 & 0.0 & $\\dots$ \\\\\n",
       "\t22 & AADAT & 1.72683 & 3.42223 & 3.17153 & 0.0565835 & 0.0143553 & $\\dots$ \\\\\n",
       "\t23 & AAED1 & 4.1235 & 2.15056 & 1.41684 & 2.30159 & 2.38405 & $\\dots$ \\\\\n",
       "\t24 & AAGAB & 5.19574 & 5.87995 & 5.45352 & 5.65277 & 6.06566 & $\\dots$ \\\\\n",
       "\t25 & AAK1 & 1.04264 & 1.01436 & 3.04963 & 2.24489 & 2.38957 & $\\dots$ \\\\\n",
       "\t26 & AAMDC & 7.33244 & 4.94111 & 3.12267 & 4.27798 & 3.81762 & $\\dots$ \\\\\n",
       "\t27 & AAMP & 6.10518 & 7.29554 & 6.53543 & 6.28503 & 6.89421 & $\\dots$ \\\\\n",
       "\t28 & AANAT & 0.298658 & 0.201634 & 0.0565835 & 0.0426443 & 1.0635 & $\\dots$ \\\\\n",
       "\t29 & AAR2 & 4.67525 & 5.142 & 4.67243 & 4.86691 & 4.33056 & $\\dots$ \\\\\n",
       "\t30 & AARD & 0.0143553 & 1.16993 & 0.163499 & 0.0 & 0.0840643 & $\\dots$ \\\\\n",
       "\t$\\dots$ & $\\dots$ & $\\dots$ & $\\dots$ & $\\dots$ & $\\dots$ & $\\dots$ &  \\\\\n",
       "\\end{tabular}\n"
      ],
      "text/plain": [
       "54271×1202 DataFrame. Omitted printing of 1198 columns\n",
       "│ Row   │ Gene         │ 127399_SOFT_TISSUE │ 143B_BONE │ 22RV1_PROSTATE │\n",
       "│       │ \u001b[90mString\u001b[39m       │ \u001b[90mFloat64\u001b[39m            │ \u001b[90mFloat64\u001b[39m   │ \u001b[90mFloat64\u001b[39m        │\n",
       "├───────┼──────────────┼────────────────────┼───────────┼────────────────┤\n",
       "│ 1     │ 5S_rRNA      │ 0.0                │ 0.0       │ 0.0            │\n",
       "│ 2     │ 7SK          │ 0.632268           │ 0.321928  │ 0.823749       │\n",
       "│ 3     │ A1BG         │ 3.79701            │ 3.04089   │ 1.72247        │\n",
       "│ 4     │ A1BG-AS1     │ 2.82985            │ 1.46467   │ 2.90304        │\n",
       "│ 5     │ A1CF         │ 0.0                │ 0.0565835 │ 3.26153        │\n",
       "│ 6     │ A2M          │ 0.722466           │ 2.46728   │ 1.99639        │\n",
       "│ 7     │ A2M-AS1      │ 0.495695           │ 0.226509  │ 1.40599        │\n",
       "│ 8     │ A2ML1        │ 0.0                │ 0.0       │ 0.15056        │\n",
       "│ 9     │ A2ML1-AS1    │ 0.0                │ 0.0       │ 0.0            │\n",
       "│ 10    │ A2ML1-AS2    │ 0.0                │ 0.0       │ 0.0            │\n",
       "⋮\n",
       "│ 54261 │ snoU83B      │ 0.0                │ 0.0       │ 0.0            │\n",
       "│ 54262 │ snoZ13_snr52 │ 0.0                │ 0.0       │ 0.0            │\n",
       "│ 54263 │ snoZ178      │ 0.0                │ 0.0       │ 0.0            │\n",
       "│ 54264 │ snoZ185      │ 0.0                │ 0.0       │ 0.0            │\n",
       "│ 54265 │ snoZ247      │ 0.0                │ 0.0       │ 0.0            │\n",
       "│ 54266 │ snoZ40       │ 0.0                │ 0.0       │ 0.0            │\n",
       "│ 54267 │ snoZ5        │ 0.0                │ 0.0       │ 0.0            │\n",
       "│ 54268 │ snoZ6        │ 0.0                │ 0.0       │ 0.0            │\n",
       "│ 54269 │ snosnR60_Z15 │ 0.0                │ 0.0       │ 0.0            │\n",
       "│ 54270 │ snosnR66     │ 0.0                │ 0.0       │ 0.0            │\n",
       "│ 54271 │ yR211F11.2   │ 0.0                │ 0.0       │ 0.263034       │"
      ]
     },
     "execution_count": 15,
     "metadata": {},
     "output_type": "execute_result"
    }
   ],
   "source": [
    "for name in names(gene_x_sample)[2:end]\n",
    "    \n",
    "    gene_x_sample[!, name] = convert(\n",
    "        Vector{Float64},\n",
    "        gene_x_sample[!, name],\n",
    "    )\n",
    "    \n",
    "end\n",
    "\n",
    "gene_x_sample"
   ]
  },
  {
   "cell_type": "code",
   "execution_count": 16,
   "metadata": {},
   "outputs": [],
   "source": [
    "for column in eachcol(gene_x_sample[!, 2:end])\n",
    "    \n",
    "    column .= log.(\n",
    "        2,\n",
    "        column,\n",
    "    )\n",
    "    \n",
    "end"
   ]
  },
  {
   "cell_type": "code",
   "execution_count": 17,
   "metadata": {},
   "outputs": [
    {
     "data": {
      "text/html": [
       "<table class=\"data-frame\"><thead><tr><th></th><th>Gene</th><th>127399_SOFT_TISSUE</th><th>143B_BONE</th><th>22RV1_PROSTATE</th><th>2313287_STOMACH</th><th>253JBV_URINARY_TRACT</th></tr><tr><th></th><th>String</th><th>Float64</th><th>Float64</th><th>Float64</th><th>Float64</th><th>Float64</th></tr></thead><tbody><p>54,271 rows × 1,202 columns (omitted printing of 1196 columns)</p><tr><th>1</th><td>5S_rRNA</td><td>NaN</td><td>NaN</td><td>NaN</td><td>NaN</td><td>-6.12227</td></tr><tr><th>2</th><td>7SK</td><td>-0.661391</td><td>-1.63519</td><td>-0.279723</td><td>-0.1349</td><td>-1.40159</td></tr><tr><th>3</th><td>A1BG</td><td>1.92486</td><td>1.60449</td><td>0.784476</td><td>-2.40328</td><td>-0.954515</td></tr><tr><th>4</th><td>A1BG-AS1</td><td>1.50073</td><td>0.550574</td><td>1.53756</td><td>-2.61265</td><td>-1.24389</td></tr><tr><th>5</th><td>A1CF</td><td>NaN</td><td>-4.14347</td><td>1.70555</td><td>1.11121</td><td>-4.5515</td></tr><tr><th>6</th><td>A2M</td><td>-0.468998</td><td>1.30292</td><td>0.997393</td><td>-3.57236</td><td>-2.0662</td></tr><tr><th>7</th><td>A2M-AS1</td><td>-1.01247</td><td>-2.14236</td><td>0.491589</td><td>-1.74343</td><td>NaN</td></tr><tr><th>8</th><td>A2ML1</td><td>NaN</td><td>NaN</td><td>-2.73159</td><td>-3.17096</td><td>-3.8285</td></tr><tr><th>9</th><td>A2ML1-AS1</td><td>NaN</td><td>NaN</td><td>NaN</td><td>NaN</td><td>NaN</td></tr><tr><th>10</th><td>A2ML1-AS2</td><td>NaN</td><td>NaN</td><td>NaN</td><td>NaN</td><td>NaN</td></tr><tr><th>11</th><td>A2MP1</td><td>-2.61265</td><td>-5.1294</td><td>-1.31999</td><td>NaN</td><td>-5.1294</td></tr><tr><th>12</th><td>A3GALT2</td><td>NaN</td><td>NaN</td><td>NaN</td><td>NaN</td><td>NaN</td></tr><tr><th>13</th><td>A4GALT</td><td>1.63272</td><td>1.0499</td><td>-2.0662</td><td>0.508158</td><td>2.02486</td></tr><tr><th>14</th><td>A4GNT</td><td>NaN</td><td>NaN</td><td>NaN</td><td>NaN</td><td>-2.0662</td></tr><tr><th>15</th><td>AAAS</td><td>2.37853</td><td>2.4824</td><td>2.71479</td><td>2.46445</td><td>2.62497</td></tr><tr><th>16</th><td>AACS</td><td>2.07337</td><td>1.5366</td><td>2.50093</td><td>1.98878</td><td>2.16254</td></tr><tr><th>17</th><td>AACSP1</td><td>NaN</td><td>NaN</td><td>1.42843</td><td>-1.86246</td><td>-4.14347</td></tr><tr><th>18</th><td>AADAC</td><td>-2.22348</td><td>-3.8285</td><td>NaN</td><td>-5.1294</td><td>NaN</td></tr><tr><th>19</th><td>AADACL2</td><td>NaN</td><td>NaN</td><td>NaN</td><td>NaN</td><td>NaN</td></tr><tr><th>20</th><td>AADACL3</td><td>NaN</td><td>NaN</td><td>NaN</td><td>NaN</td><td>NaN</td></tr><tr><th>21</th><td>AADACL4</td><td>NaN</td><td>NaN</td><td>NaN</td><td>NaN</td><td>NaN</td></tr><tr><th>22</th><td>AADAT</td><td>0.788127</td><td>1.77494</td><td>1.66518</td><td>-4.14347</td><td>-6.12227</td></tr><tr><th>23</th><td>AAED1</td><td>2.04387</td><td>1.10471</td><td>0.502677</td><td>1.20263</td><td>1.25341</td></tr><tr><th>24</th><td>AAGAB</td><td>2.37733</td><td>2.5558</td><td>2.44719</td><td>2.49896</td><td>2.60066</td></tr><tr><th>25</th><td>AAK1</td><td>0.0602471</td><td>0.0205631</td><td>1.60863</td><td>1.16664</td><td>1.25675</td></tr><tr><th>26</th><td>AAMDC</td><td>2.87429</td><td>2.30483</td><td>1.64278</td><td>2.09693</td><td>1.93267</td></tr><tr><th>27</th><td>AAMP</td><td>2.61003</td><td>2.86701</td><td>2.70828</td><td>2.65192</td><td>2.78539</td></tr><tr><th>28</th><td>AANAT</td><td>-1.74343</td><td>-2.31019</td><td>-4.14347</td><td>-4.5515</td><td>0.088824</td></tr><tr><th>29</th><td>AAR2</td><td>2.22504</td><td>2.36233</td><td>2.22417</td><td>2.28301</td><td>2.11455</td></tr><tr><th>30</th><td>AARD</td><td>-6.12227</td><td>0.226416</td><td>-2.61265</td><td>NaN</td><td>-3.57236</td></tr><tr><th>&vellip;</th><td>&vellip;</td><td>&vellip;</td><td>&vellip;</td><td>&vellip;</td><td>&vellip;</td><td>&vellip;</td></tr></tbody></table>"
      ],
      "text/latex": [
       "\\begin{tabular}{r|ccccccc}\n",
       "\t& Gene & 127399\\_SOFT\\_TISSUE & 143B\\_BONE & 22RV1\\_PROSTATE & 2313287\\_STOMACH & 253JBV\\_URINARY\\_TRACT & \\\\\n",
       "\t\\hline\n",
       "\t& String & Float64 & Float64 & Float64 & Float64 & Float64 & \\\\\n",
       "\t\\hline\n",
       "\t1 & 5S\\_rRNA & NaN & NaN & NaN & NaN & -6.12227 & $\\dots$ \\\\\n",
       "\t2 & 7SK & -0.661391 & -1.63519 & -0.279723 & -0.1349 & -1.40159 & $\\dots$ \\\\\n",
       "\t3 & A1BG & 1.92486 & 1.60449 & 0.784476 & -2.40328 & -0.954515 & $\\dots$ \\\\\n",
       "\t4 & A1BG-AS1 & 1.50073 & 0.550574 & 1.53756 & -2.61265 & -1.24389 & $\\dots$ \\\\\n",
       "\t5 & A1CF & NaN & -4.14347 & 1.70555 & 1.11121 & -4.5515 & $\\dots$ \\\\\n",
       "\t6 & A2M & -0.468998 & 1.30292 & 0.997393 & -3.57236 & -2.0662 & $\\dots$ \\\\\n",
       "\t7 & A2M-AS1 & -1.01247 & -2.14236 & 0.491589 & -1.74343 & NaN & $\\dots$ \\\\\n",
       "\t8 & A2ML1 & NaN & NaN & -2.73159 & -3.17096 & -3.8285 & $\\dots$ \\\\\n",
       "\t9 & A2ML1-AS1 & NaN & NaN & NaN & NaN & NaN & $\\dots$ \\\\\n",
       "\t10 & A2ML1-AS2 & NaN & NaN & NaN & NaN & NaN & $\\dots$ \\\\\n",
       "\t11 & A2MP1 & -2.61265 & -5.1294 & -1.31999 & NaN & -5.1294 & $\\dots$ \\\\\n",
       "\t12 & A3GALT2 & NaN & NaN & NaN & NaN & NaN & $\\dots$ \\\\\n",
       "\t13 & A4GALT & 1.63272 & 1.0499 & -2.0662 & 0.508158 & 2.02486 & $\\dots$ \\\\\n",
       "\t14 & A4GNT & NaN & NaN & NaN & NaN & -2.0662 & $\\dots$ \\\\\n",
       "\t15 & AAAS & 2.37853 & 2.4824 & 2.71479 & 2.46445 & 2.62497 & $\\dots$ \\\\\n",
       "\t16 & AACS & 2.07337 & 1.5366 & 2.50093 & 1.98878 & 2.16254 & $\\dots$ \\\\\n",
       "\t17 & AACSP1 & NaN & NaN & 1.42843 & -1.86246 & -4.14347 & $\\dots$ \\\\\n",
       "\t18 & AADAC & -2.22348 & -3.8285 & NaN & -5.1294 & NaN & $\\dots$ \\\\\n",
       "\t19 & AADACL2 & NaN & NaN & NaN & NaN & NaN & $\\dots$ \\\\\n",
       "\t20 & AADACL3 & NaN & NaN & NaN & NaN & NaN & $\\dots$ \\\\\n",
       "\t21 & AADACL4 & NaN & NaN & NaN & NaN & NaN & $\\dots$ \\\\\n",
       "\t22 & AADAT & 0.788127 & 1.77494 & 1.66518 & -4.14347 & -6.12227 & $\\dots$ \\\\\n",
       "\t23 & AAED1 & 2.04387 & 1.10471 & 0.502677 & 1.20263 & 1.25341 & $\\dots$ \\\\\n",
       "\t24 & AAGAB & 2.37733 & 2.5558 & 2.44719 & 2.49896 & 2.60066 & $\\dots$ \\\\\n",
       "\t25 & AAK1 & 0.0602471 & 0.0205631 & 1.60863 & 1.16664 & 1.25675 & $\\dots$ \\\\\n",
       "\t26 & AAMDC & 2.87429 & 2.30483 & 1.64278 & 2.09693 & 1.93267 & $\\dots$ \\\\\n",
       "\t27 & AAMP & 2.61003 & 2.86701 & 2.70828 & 2.65192 & 2.78539 & $\\dots$ \\\\\n",
       "\t28 & AANAT & -1.74343 & -2.31019 & -4.14347 & -4.5515 & 0.088824 & $\\dots$ \\\\\n",
       "\t29 & AAR2 & 2.22504 & 2.36233 & 2.22417 & 2.28301 & 2.11455 & $\\dots$ \\\\\n",
       "\t30 & AARD & -6.12227 & 0.226416 & -2.61265 & NaN & -3.57236 & $\\dots$ \\\\\n",
       "\t$\\dots$ & $\\dots$ & $\\dots$ & $\\dots$ & $\\dots$ & $\\dots$ & $\\dots$ &  \\\\\n",
       "\\end{tabular}\n"
      ],
      "text/plain": [
       "54271×1202 DataFrame. Omitted printing of 1198 columns\n",
       "│ Row   │ Gene         │ 127399_SOFT_TISSUE │ 143B_BONE │ 22RV1_PROSTATE │\n",
       "│       │ \u001b[90mString\u001b[39m       │ \u001b[90mFloat64\u001b[39m            │ \u001b[90mFloat64\u001b[39m   │ \u001b[90mFloat64\u001b[39m        │\n",
       "├───────┼──────────────┼────────────────────┼───────────┼────────────────┤\n",
       "│ 1     │ 5S_rRNA      │ NaN                │ NaN       │ NaN            │\n",
       "│ 2     │ 7SK          │ -0.661391          │ -1.63519  │ -0.279723      │\n",
       "│ 3     │ A1BG         │ 1.92486            │ 1.60449   │ 0.784476       │\n",
       "│ 4     │ A1BG-AS1     │ 1.50073            │ 0.550574  │ 1.53756        │\n",
       "│ 5     │ A1CF         │ NaN                │ -4.14347  │ 1.70555        │\n",
       "│ 6     │ A2M          │ -0.468998          │ 1.30292   │ 0.997393       │\n",
       "│ 7     │ A2M-AS1      │ -1.01247           │ -2.14236  │ 0.491589       │\n",
       "│ 8     │ A2ML1        │ NaN                │ NaN       │ -2.73159       │\n",
       "│ 9     │ A2ML1-AS1    │ NaN                │ NaN       │ NaN            │\n",
       "│ 10    │ A2ML1-AS2    │ NaN                │ NaN       │ NaN            │\n",
       "⋮\n",
       "│ 54261 │ snoU83B      │ NaN                │ NaN       │ NaN            │\n",
       "│ 54262 │ snoZ13_snr52 │ NaN                │ NaN       │ NaN            │\n",
       "│ 54263 │ snoZ178      │ NaN                │ NaN       │ NaN            │\n",
       "│ 54264 │ snoZ185      │ NaN                │ NaN       │ NaN            │\n",
       "│ 54265 │ snoZ247      │ NaN                │ NaN       │ NaN            │\n",
       "│ 54266 │ snoZ40       │ NaN                │ NaN       │ NaN            │\n",
       "│ 54267 │ snoZ5        │ NaN                │ NaN       │ NaN            │\n",
       "│ 54268 │ snoZ6        │ NaN                │ NaN       │ NaN            │\n",
       "│ 54269 │ snosnR60_Z15 │ NaN                │ NaN       │ NaN            │\n",
       "│ 54270 │ snosnR66     │ NaN                │ NaN       │ NaN            │\n",
       "│ 54271 │ yR211F11.2   │ NaN                │ NaN       │ -1.92668       │"
      ]
     },
     "execution_count": 17,
     "metadata": {},
     "output_type": "execute_result"
    }
   ],
   "source": [
    "for name in names(gene_x_sample)[2:end]\n",
    "    \n",
    "    gene_x_sample[!, name] = replace(\n",
    "        gene_x_sample[!, name],\n",
    "        -Inf => NaN,\n",
    "    )\n",
    "    \n",
    "end\n",
    "\n",
    "gene_x_sample"
   ]
  },
  {
   "cell_type": "code",
   "execution_count": 18,
   "metadata": {},
   "outputs": [
    {
     "name": "stdout",
     "output_type": "stream",
     "text": [
      "[-1.0, 0.0, 1.0]\n",
      "[NaN, -1.0, 0.0, 1.0, NaN]\n",
      "[NaN, NaN, NaN]\n",
      "[-0.707107, 0.707107]\n",
      "[NaN, NaN]\n",
      "[NaN]\n"
     ]
    }
   ],
   "source": [
    "function normalize_vector__0_(vector::Vector{T} where T<:Real)\n",
    "    \n",
    "    vector = convert.(\n",
    "        Float64,\n",
    "        vector,\n",
    "    )\n",
    "    \n",
    "    is_not_nan = .!isnan.(vector)\n",
    "    \n",
    "    vector_not_nan = vector[is_not_nan]\n",
    "    \n",
    "    vector[is_not_nan] .= (vector_not_nan .- mean(vector_not_nan)) / std(vector_not_nan)\n",
    "    \n",
    "    vector\n",
    "    \n",
    "end\n",
    "\n",
    "\n",
    "for vector in (\n",
    "    [-2, 0, 2],\n",
    "    [NaN, -2, 0, 2, NaN],\n",
    "    [NaN, NaN, NaN],\n",
    "    [-2, 2],\n",
    "    [0, 0],\n",
    "    [0],\n",
    ")\n",
    "    \n",
    "    println(normalize_vector__0_(vector))\n",
    "    \n",
    "end"
   ]
  },
  {
   "cell_type": "code",
   "execution_count": 19,
   "metadata": {},
   "outputs": [
    {
     "data": {
      "text/html": [
       "<table class=\"data-frame\"><thead><tr><th></th><th>Gene</th><th>127399_SOFT_TISSUE</th><th>143B_BONE</th><th>22RV1_PROSTATE</th><th>2313287_STOMACH</th><th>253JBV_URINARY_TRACT</th></tr><tr><th></th><th>String</th><th>Float64</th><th>Float64</th><th>Float64</th><th>Float64</th><th>Float64</th></tr></thead><tbody><p>54,271 rows × 1,202 columns (omitted printing of 1196 columns)</p><tr><th>1</th><td>5S_rRNA</td><td>NaN</td><td>NaN</td><td>NaN</td><td>NaN</td><td>-2.18293</td></tr><tr><th>2</th><td>7SK</td><td>-0.291284</td><td>-0.645343</td><td>-0.0887012</td><td>-0.0341099</td><td>-0.402586</td></tr><tr><th>3</th><td>A1BG</td><td>0.746307</td><td>0.651395</td><td>0.33105</td><td>-0.904864</td><td>-0.233978</td></tr><tr><th>4</th><td>A1BG-AS1</td><td>0.576145</td><td>0.229546</td><td>0.62809</td><td>-0.985232</td><td>-0.343111</td></tr><tr><th>5</th><td>A1CF</td><td>NaN</td><td>-1.64933</td><td>0.694348</td><td>0.444231</td><td>-1.59053</td></tr><tr><th>6</th><td>A2M</td><td>-0.214097</td><td>0.530685</td><td>0.415031</td><td>-1.35363</td><td>-0.653236</td></tr><tr><th>7</th><td>A2M-AS1</td><td>-0.432136</td><td>-0.848348</td><td>0.215527</td><td>-0.65157</td><td>NaN</td></tr><tr><th>8</th><td>A2ML1</td><td>NaN</td><td>NaN</td><td>-1.05579</td><td>-1.19955</td><td>-1.31786</td></tr><tr><th>9</th><td>A2ML1-AS1</td><td>NaN</td><td>NaN</td><td>NaN</td><td>NaN</td><td>NaN</td></tr><tr><th>10</th><td>A2ML1-AS2</td><td>NaN</td><td>NaN</td><td>NaN</td><td>NaN</td><td>NaN</td></tr><tr><th>11</th><td>A2MP1</td><td>-1.07412</td><td>-2.04396</td><td>-0.499013</td><td>NaN</td><td>-1.80848</td></tr><tr><th>12</th><td>A3GALT2</td><td>NaN</td><td>NaN</td><td>NaN</td><td>NaN</td><td>NaN</td></tr><tr><th>13</th><td>A4GALT</td><td>0.629102</td><td>0.42941</td><td>-0.793342</td><td>0.212738</td><td>0.889653</td></tr><tr><th>14</th><td>A4GNT</td><td>NaN</td><td>NaN</td><td>NaN</td><td>NaN</td><td>-0.653236</td></tr><tr><th>15</th><td>AAAS</td><td>0.928315</td><td>1.00279</td><td>1.09242</td><td>0.963691</td><td>1.11598</td></tr><tr><th>16</th><td>AACS</td><td>0.805885</td><td>0.624221</td><td>1.00807</td><td>0.781098</td><td>0.941577</td></tr><tr><th>17</th><td>AACSP1</td><td>NaN</td><td>NaN</td><td>0.585044</td><td>-0.69726</td><td>-1.43665</td></tr><tr><th>18</th><td>AADAC</td><td>-0.917983</td><td>-1.52325</td><td>NaN</td><td>-1.95132</td><td>NaN</td></tr><tr><th>19</th><td>AADACL2</td><td>NaN</td><td>NaN</td><td>NaN</td><td>NaN</td><td>NaN</td></tr><tr><th>20</th><td>AADACL3</td><td>NaN</td><td>NaN</td><td>NaN</td><td>NaN</td><td>NaN</td></tr><tr><th>21</th><td>AADACL4</td><td>NaN</td><td>NaN</td><td>NaN</td><td>NaN</td><td>NaN</td></tr><tr><th>22</th><td>AADAT</td><td>0.290255</td><td>0.719618</td><td>0.678424</td><td>-1.57286</td><td>-2.18293</td></tr><tr><th>23</th><td>AAED1</td><td>0.794051</td><td>0.451349</td><td>0.2199</td><td>0.479322</td><td>0.598712</td></tr><tr><th>24</th><td>AAGAB</td><td>0.927834</td><td>1.03217</td><td>0.986872</td><td>0.976938</td><td>1.10681</td></tr><tr><th>25</th><td>AAK1</td><td>-0.00176644</td><td>0.0173997</td><td>0.656122</td><td>0.465508</td><td>0.59997</td></tr><tr><th>26</th><td>AAMDC</td><td>1.12721</td><td>0.931718</td><td>0.669591</td><td>0.822613</td><td>0.854885</td></tr><tr><th>27</th><td>AAMP</td><td>1.02119</td><td>1.15674</td><td>1.08986</td><td>1.03565</td><td>1.17647</td></tr><tr><th>28</th><td>AANAT</td><td>-0.725392</td><td>-0.915524</td><td>-1.61268</td><td>-1.72949</td><td>0.159503</td></tr><tr><th>29</th><td>AAR2</td><td>0.866737</td><td>0.954732</td><td>0.898908</td><td>0.894041</td><td>0.923478</td></tr><tr><th>30</th><td>AARD</td><td>-2.48216</td><td>0.0997958</td><td>-1.00888</td><td>NaN</td><td>-1.22126</td></tr><tr><th>&vellip;</th><td>&vellip;</td><td>&vellip;</td><td>&vellip;</td><td>&vellip;</td><td>&vellip;</td><td>&vellip;</td></tr></tbody></table>"
      ],
      "text/latex": [
       "\\begin{tabular}{r|ccccccc}\n",
       "\t& Gene & 127399\\_SOFT\\_TISSUE & 143B\\_BONE & 22RV1\\_PROSTATE & 2313287\\_STOMACH & 253JBV\\_URINARY\\_TRACT & \\\\\n",
       "\t\\hline\n",
       "\t& String & Float64 & Float64 & Float64 & Float64 & Float64 & \\\\\n",
       "\t\\hline\n",
       "\t1 & 5S\\_rRNA & NaN & NaN & NaN & NaN & -2.18293 & $\\dots$ \\\\\n",
       "\t2 & 7SK & -0.291284 & -0.645343 & -0.0887012 & -0.0341099 & -0.402586 & $\\dots$ \\\\\n",
       "\t3 & A1BG & 0.746307 & 0.651395 & 0.33105 & -0.904864 & -0.233978 & $\\dots$ \\\\\n",
       "\t4 & A1BG-AS1 & 0.576145 & 0.229546 & 0.62809 & -0.985232 & -0.343111 & $\\dots$ \\\\\n",
       "\t5 & A1CF & NaN & -1.64933 & 0.694348 & 0.444231 & -1.59053 & $\\dots$ \\\\\n",
       "\t6 & A2M & -0.214097 & 0.530685 & 0.415031 & -1.35363 & -0.653236 & $\\dots$ \\\\\n",
       "\t7 & A2M-AS1 & -0.432136 & -0.848348 & 0.215527 & -0.65157 & NaN & $\\dots$ \\\\\n",
       "\t8 & A2ML1 & NaN & NaN & -1.05579 & -1.19955 & -1.31786 & $\\dots$ \\\\\n",
       "\t9 & A2ML1-AS1 & NaN & NaN & NaN & NaN & NaN & $\\dots$ \\\\\n",
       "\t10 & A2ML1-AS2 & NaN & NaN & NaN & NaN & NaN & $\\dots$ \\\\\n",
       "\t11 & A2MP1 & -1.07412 & -2.04396 & -0.499013 & NaN & -1.80848 & $\\dots$ \\\\\n",
       "\t12 & A3GALT2 & NaN & NaN & NaN & NaN & NaN & $\\dots$ \\\\\n",
       "\t13 & A4GALT & 0.629102 & 0.42941 & -0.793342 & 0.212738 & 0.889653 & $\\dots$ \\\\\n",
       "\t14 & A4GNT & NaN & NaN & NaN & NaN & -0.653236 & $\\dots$ \\\\\n",
       "\t15 & AAAS & 0.928315 & 1.00279 & 1.09242 & 0.963691 & 1.11598 & $\\dots$ \\\\\n",
       "\t16 & AACS & 0.805885 & 0.624221 & 1.00807 & 0.781098 & 0.941577 & $\\dots$ \\\\\n",
       "\t17 & AACSP1 & NaN & NaN & 0.585044 & -0.69726 & -1.43665 & $\\dots$ \\\\\n",
       "\t18 & AADAC & -0.917983 & -1.52325 & NaN & -1.95132 & NaN & $\\dots$ \\\\\n",
       "\t19 & AADACL2 & NaN & NaN & NaN & NaN & NaN & $\\dots$ \\\\\n",
       "\t20 & AADACL3 & NaN & NaN & NaN & NaN & NaN & $\\dots$ \\\\\n",
       "\t21 & AADACL4 & NaN & NaN & NaN & NaN & NaN & $\\dots$ \\\\\n",
       "\t22 & AADAT & 0.290255 & 0.719618 & 0.678424 & -1.57286 & -2.18293 & $\\dots$ \\\\\n",
       "\t23 & AAED1 & 0.794051 & 0.451349 & 0.2199 & 0.479322 & 0.598712 & $\\dots$ \\\\\n",
       "\t24 & AAGAB & 0.927834 & 1.03217 & 0.986872 & 0.976938 & 1.10681 & $\\dots$ \\\\\n",
       "\t25 & AAK1 & -0.00176644 & 0.0173997 & 0.656122 & 0.465508 & 0.59997 & $\\dots$ \\\\\n",
       "\t26 & AAMDC & 1.12721 & 0.931718 & 0.669591 & 0.822613 & 0.854885 & $\\dots$ \\\\\n",
       "\t27 & AAMP & 1.02119 & 1.15674 & 1.08986 & 1.03565 & 1.17647 & $\\dots$ \\\\\n",
       "\t28 & AANAT & -0.725392 & -0.915524 & -1.61268 & -1.72949 & 0.159503 & $\\dots$ \\\\\n",
       "\t29 & AAR2 & 0.866737 & 0.954732 & 0.898908 & 0.894041 & 0.923478 & $\\dots$ \\\\\n",
       "\t30 & AARD & -2.48216 & 0.0997958 & -1.00888 & NaN & -1.22126 & $\\dots$ \\\\\n",
       "\t$\\dots$ & $\\dots$ & $\\dots$ & $\\dots$ & $\\dots$ & $\\dots$ & $\\dots$ &  \\\\\n",
       "\\end{tabular}\n"
      ],
      "text/plain": [
       "54271×1202 DataFrame. Omitted printing of 1198 columns\n",
       "│ Row   │ Gene         │ 127399_SOFT_TISSUE │ 143B_BONE │ 22RV1_PROSTATE │\n",
       "│       │ \u001b[90mString\u001b[39m       │ \u001b[90mFloat64\u001b[39m            │ \u001b[90mFloat64\u001b[39m   │ \u001b[90mFloat64\u001b[39m        │\n",
       "├───────┼──────────────┼────────────────────┼───────────┼────────────────┤\n",
       "│ 1     │ 5S_rRNA      │ NaN                │ NaN       │ NaN            │\n",
       "│ 2     │ 7SK          │ -0.291284          │ -0.645343 │ -0.0887012     │\n",
       "│ 3     │ A1BG         │ 0.746307           │ 0.651395  │ 0.33105        │\n",
       "│ 4     │ A1BG-AS1     │ 0.576145           │ 0.229546  │ 0.62809        │\n",
       "│ 5     │ A1CF         │ NaN                │ -1.64933  │ 0.694348       │\n",
       "│ 6     │ A2M          │ -0.214097          │ 0.530685  │ 0.415031       │\n",
       "│ 7     │ A2M-AS1      │ -0.432136          │ -0.848348 │ 0.215527       │\n",
       "│ 8     │ A2ML1        │ NaN                │ NaN       │ -1.05579       │\n",
       "│ 9     │ A2ML1-AS1    │ NaN                │ NaN       │ NaN            │\n",
       "│ 10    │ A2ML1-AS2    │ NaN                │ NaN       │ NaN            │\n",
       "⋮\n",
       "│ 54261 │ snoU83B      │ NaN                │ NaN       │ NaN            │\n",
       "│ 54262 │ snoZ13_snr52 │ NaN                │ NaN       │ NaN            │\n",
       "│ 54263 │ snoZ178      │ NaN                │ NaN       │ NaN            │\n",
       "│ 54264 │ snoZ185      │ NaN                │ NaN       │ NaN            │\n",
       "│ 54265 │ snoZ247      │ NaN                │ NaN       │ NaN            │\n",
       "│ 54266 │ snoZ40       │ NaN                │ NaN       │ NaN            │\n",
       "│ 54267 │ snoZ5        │ NaN                │ NaN       │ NaN            │\n",
       "│ 54268 │ snoZ6        │ NaN                │ NaN       │ NaN            │\n",
       "│ 54269 │ snosnR60_Z15 │ NaN                │ NaN       │ NaN            │\n",
       "│ 54270 │ snosnR66     │ NaN                │ NaN       │ NaN            │\n",
       "│ 54271 │ yR211F11.2   │ NaN                │ NaN       │ -0.738308      │"
      ]
     },
     "execution_count": 19,
     "metadata": {},
     "output_type": "execute_result"
    }
   ],
   "source": [
    "for name in names(gene_x_sample)[2:end]\n",
    "    \n",
    "    gene_x_sample[!, name] = normalize_vector__0_(gene_x_sample[!, name])\n",
    "    \n",
    "end\n",
    "\n",
    "gene_x_sample"
   ]
  },
  {
   "cell_type": "code",
   "execution_count": 20,
   "metadata": {},
   "outputs": [
    {
     "data": {
      "text/plain": [
       "5-element Array{String,1}:\n",
       " \"VANTVEER_BREAST_CANCER_ESR1\"               \n",
       " \"DOANE_BREAST_CANCER_ESR1\"                  \n",
       " \"YANG_BREAST_CANCER_ESR1\"                   \n",
       " \"CHARAFE_BREAST_CANCER_LUMINAL_VS_BASAL\"    \n",
       " \"HALLMARK_EPITHELIAL_MESENCHYMAL_TRANSITION\""
      ]
     },
     "execution_count": 20,
     "metadata": {},
     "output_type": "execute_result"
    }
   ],
   "source": [
    "gene_set_keywords = [\n",
    "    \"VANTVEER_BREAST_CANCER_ESR1\",\n",
    "    \"DOANE_BREAST_CANCER_ESR1\",\n",
    "    \"YANG_BREAST_CANCER_ESR1\",\n",
    "    \"CHARAFE_BREAST_CANCER_LUMINAL_VS_BASAL\",\n",
    "    \"HALLMARK_EPITHELIAL_MESENCHYMAL_TRANSITION\",\n",
    "]"
   ]
  },
  {
   "cell_type": "code",
   "execution_count": 21,
   "metadata": {
    "scrolled": false
   },
   "outputs": [
    {
     "data": {
      "text/plain": [
       "Dict{String,Array{String,1}} with 13 entries:\n",
       "  \"YANG_BREAST_CANCER_ESR1… => [\"GATA3\", \"INPP4B\", \"XBP1\", \"WFS1\", \"SCUBE2\", \"A…\n",
       "  \"CHARAFE_BREAST_CANCER_L… => [\"CAV2\", \"RND3\", \"SERPINE2\", \"ANXA2\", \"FAM69A\", …\n",
       "  \"YANG_BREAST_CANCER_ESR1… => [\"TMBIM6\", \"SLC39A6\", \"ELOVL5\", \"DALRD3\", \"MYO5C…\n",
       "  \"YANG_BREAST_CANCER_ESR1… => [\"PLCH1\", \"KIAA0020\", \"TBX19\", \"TLE4\", \"FABP5\", …\n",
       "  \"HALLMARK_EPITHELIAL_MES… => [\"COL3A1\", \"COL5A2\", \"COL5A1\", \"FBN1\", \"COL1A1\",…\n",
       "  \"VANTVEER_BREAST_CANCER_… => [\"KRT18\", \"PPP1R26\", \"LRIG1\", \"CHD6\", \"SCCPDH\", …\n",
       "  \"YANG_BREAST_CANCER_ESR1… => [\"AGR2\", \"C14orf45\", \"AR\", \"CERS6\", \"RAB26\", \"IV…\n",
       "  \"YANG_BREAST_CANCER_ESR1… => [\"TEX10\", \"LPIN1\", \"PFKP\", \"C1orf38\", \"ROPN1\", \"…\n",
       "  \"YANG_BREAST_CANCER_ESR1… => [\"SYNCRIP\", \"C11orf75\", \"PLS3\", \"FOXC1\", \"SGCE\",…\n",
       "  \"DOANE_BREAST_CANCER_ESR… => [\"GAL\", \"SOD2\", \"SFRP1\", \"EGFR\", \"S100A8\", \"MIA\"…\n",
       "  \"CHARAFE_BREAST_CANCER_L… => [\"PRRC2C\", \"CHN2\", \"HPN\", \"FRMD4A\", \"KIAA1211\", …\n",
       "  \"DOANE_BREAST_CANCER_ESR… => [\"TBC1D9\", \"SLC39A6\", \"CYBRD1\", \"TFF3\", \"DUSP4\",…\n",
       "  \"VANTVEER_BREAST_CANCER_… => [\"IDO1\", \"MCM6\", \"GPR180\", \"PDXK\", \"TRPV6\", \"CYB…"
      ]
     },
     "execution_count": 21,
     "metadata": {},
     "output_type": "execute_result"
    }
   ],
   "source": [
    "gene_set_genes = Kraft.read_gmt([\n",
    "    \"c2.all.v6.2.symbols.gmt\",\n",
    "    \"h.all.v6.2.symbols.gmt\",\n",
    "])\n",
    "\n",
    "selected_gene_set_genes = Dict{String, Vector{String}}()\n",
    "\n",
    "for (gene_set, genes) in gene_set_genes\n",
    "    \n",
    "    if any(occursin(\n",
    "        gene_set_keyword,\n",
    "        gene_set,\n",
    "    ) for gene_set_keyword in gene_set_keywords)\n",
    "        \n",
    "        selected_gene_set_genes[gene_set] = genes\n",
    "        \n",
    "    end\n",
    "    \n",
    "end\n",
    "\n",
    "selected_gene_set_genes"
   ]
  },
  {
   "cell_type": "code",
   "execution_count": 22,
   "metadata": {},
   "outputs": [
    {
     "data": {
      "text/plain": [
       "\"ks\""
      ]
     },
     "execution_count": 22,
     "metadata": {},
     "output_type": "execute_result"
    }
   ],
   "source": [
    "statistic = \"ks\""
   ]
  },
  {
   "cell_type": "code",
   "execution_count": 23,
   "metadata": {
    "scrolled": false
   },
   "outputs": [
    {
     "ename": "MethodError",
     "evalue": "MethodError: no method matching compute_set_enrichment(::Array{Float64,1}, ::PooledArrays.PooledArray{String,UInt32,1,Array{UInt32,1}}, ::Array{String,1}; sort_=false, element_index=Dict(\"TMOD4\"=>48275,\"CTD-2026G6.2\"=>6664,\"RN7SL34P\"=>15392,\"RNU7-5P\"=>18317,\"MOB4\"=>34663,\"RPL21P47\"=>28971,\"RP11-215E13.2\"=>20673,\"CTD-2302E22.1\"=>6977,\"HLA-B\"=>32835,\"CAHM\"=>48970…))\nClosest candidates are:\n  compute_set_enrichment(::Array{Float64,1}, !Matched::Array{String,1}, ::Array{String,1}; sort_, element_index, compute_cumulative_sums) at /Users/kwatme/github/Kraft.jl/src/compute_set_enrichment.jl:88\n  compute_set_enrichment(::Array{Float64,1}, ::AbstractArray{String,1}, !Matched::Dict{String,Array{String,1}}; sort_) at /Users/kwatme/github/Kraft.jl/src/compute_set_enrichment.jl:125 got unsupported keyword argument \"element_index\"\n  compute_set_enrichment(::Array{Float64,1}, !Matched::Array{String,1}, !Matched::Array{Int64,1}; compute_cumulative_sums) at /Users/kwatme/github/Kraft.jl/src/compute_set_enrichment.jl:16 got unsupported keyword arguments \"sort_\", \"element_index\"",
     "output_type": "error",
     "traceback": [
      "MethodError: no method matching compute_set_enrichment(::Array{Float64,1}, ::PooledArrays.PooledArray{String,UInt32,1,Array{UInt32,1}}, ::Array{String,1}; sort_=false, element_index=Dict(\"TMOD4\"=>48275,\"CTD-2026G6.2\"=>6664,\"RN7SL34P\"=>15392,\"RNU7-5P\"=>18317,\"MOB4\"=>34663,\"RPL21P47\"=>28971,\"RP11-215E13.2\"=>20673,\"CTD-2302E22.1\"=>6977,\"HLA-B\"=>32835,\"CAHM\"=>48970…))\nClosest candidates are:\n  compute_set_enrichment(::Array{Float64,1}, !Matched::Array{String,1}, ::Array{String,1}; sort_, element_index, compute_cumulative_sums) at /Users/kwatme/github/Kraft.jl/src/compute_set_enrichment.jl:88\n  compute_set_enrichment(::Array{Float64,1}, ::AbstractArray{String,1}, !Matched::Dict{String,Array{String,1}}; sort_) at /Users/kwatme/github/Kraft.jl/src/compute_set_enrichment.jl:125 got unsupported keyword argument \"element_index\"\n  compute_set_enrichment(::Array{Float64,1}, !Matched::Array{String,1}, !Matched::Array{Int64,1}; compute_cumulative_sums) at /Users/kwatme/github/Kraft.jl/src/compute_set_enrichment.jl:16 got unsupported keyword arguments \"sort_\", \"element_index\"",
      "",
      "Stacktrace:",
      " [1] #compute_set_enrichment#45(::Bool, ::Function, ::Array{Float64,1}, ::PooledArrays.PooledArray{String,UInt32,1,Array{UInt32,1}}, ::Dict{String,Array{String,1}}) at /Users/kwatme/github/Kraft.jl/src/compute_set_enrichment.jl:155",
      " [2] compute_set_enrichment(::Array{Float64,1}, ::PooledArrays.PooledArray{String,UInt32,1,Array{UInt32,1}}, ::Dict{String,Array{String,1}}) at /Users/kwatme/github/Kraft.jl/src/compute_set_enrichment.jl:125",
      " [3] compute_set_enrichment(::DataFrame, ::Dict{String,Array{String,1}}, ::String) at /Users/kwatme/github/Kraft.jl/src/compute_set_enrichment.jl:197",
      " [4] top-level scope at In[23]:1"
     ]
    }
   ],
   "source": [
    "gene_set_x_sample = Kraft.combine_gene_sets_dn_up(Kraft.compute_set_enrichment(\n",
    "    gene_x_sample,\n",
    "    selected_gene_set_genes,\n",
    "    statistic,\n",
    "))"
   ]
  },
  {
   "cell_type": "code",
   "execution_count": null,
   "metadata": {
    "scrolled": true
   },
   "outputs": [],
   "source": [
    "protein_x_sample = Kraft.read_gct(\n",
    "    \"/Users/kwatme/Downloads/CCLE_RPPA_20180123.gct\",\n",
    "    \"Protein\",\n",
    ")\n",
    "\n",
    "target_row_indices = findall(protein_x_sample[:, Symbol(\"Protein\")] .== \"ER-alpha\")\n",
    "\n",
    "if length(target_row_indices) != 1\n",
    "    \n",
    "    error(\"there should be only 1 target.\")\n",
    "    \n",
    "end\n",
    "\n",
    "target_names = names(protein_x_sample)[2:end]\n",
    "\n",
    "target_values = [protein_x_sample[target_row_indices[1], i] for i in 2:size(\n",
    "    protein_x_sample,\n",
    "    2,\n",
    ")]\n",
    "\n",
    "target = pd.Series(\n",
    "    target_values,\n",
    "    index = target_names,\n",
    "    name = \"ER Protein\",\n",
    ")"
   ]
  },
  {
   "cell_type": "code",
   "execution_count": null,
   "metadata": {},
   "outputs": [],
   "source": [
    "data = pd.DataFrame(\n",
    "    Dict(name => gene_set_x_sample[!, name] for name in names(gene_set_x_sample)[2:end]),\n",
    "    index=gene_set_x_sample[!, 1],\n",
    ")"
   ]
  },
  {
   "cell_type": "code",
   "execution_count": null,
   "metadata": {},
   "outputs": [],
   "source": [
    "kraft.make_match_panel(\n",
    "    target,\n",
    "    data,\n",
    ")"
   ]
  }
 ],
 "metadata": {
  "@webio": {
   "lastCommId": null,
   "lastKernelId": null
  },
  "kernelspec": {
   "display_name": "Julia 1.0.3",
   "language": "julia",
   "name": "julia-1.0"
  },
  "language_info": {
   "file_extension": ".jl",
   "mimetype": "application/julia",
   "name": "julia",
   "version": "1.0.3"
  }
 },
 "nbformat": 4,
 "nbformat_minor": 2
}
