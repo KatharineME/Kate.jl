{
 "cells": [
  {
   "cell_type": "code",
   "execution_count": null,
   "metadata": {},
   "outputs": [],
   "source": [
    "using BenchmarkTools\n",
    "using CSV\n",
    "using DataFrames\n",
    "using Statistics\n",
    "\n",
    "include(\"../src/Kraft.jl\")"
   ]
  },
  {
   "cell_type": "code",
   "execution_count": null,
   "metadata": {},
   "outputs": [],
   "source": [
    "gene_x_sample = Kraft.read_gct(\n",
    "    \"/Users/kwatme/Downloads/CCLE_expression_full.reformatted.gct\",\n",
    "    \"Gene\",\n",
    ")"
   ]
  },
  {
   "cell_type": "code",
   "execution_count": null,
   "metadata": {},
   "outputs": [],
   "source": [
    "using PyCall\n",
    "\n",
    "pd = pyimport(\"pandas\")\n",
    "kraft = pyimport(\"kraft\")"
   ]
  },
  {
   "cell_type": "code",
   "execution_count": null,
   "metadata": {},
   "outputs": [],
   "source": [
    "for name in names(gene_x_sample)[2:end]\n",
    "    \n",
    "    gene_x_sample[!, name] = convert(\n",
    "        Vector{Float64},\n",
    "        gene_x_sample[!, name],\n",
    "    )\n",
    "    \n",
    "end\n",
    "\n",
    "gene_x_sample"
   ]
  },
  {
   "cell_type": "code",
   "execution_count": null,
   "metadata": {},
   "outputs": [],
   "source": [
    "for column in eachcol(gene_x_sample[!, 2:end])\n",
    "    \n",
    "    column .= log.(\n",
    "        2,\n",
    "        column,\n",
    "    )\n",
    "    \n",
    "end\n",
    "\n",
    "gene_x_sample"
   ]
  },
  {
   "cell_type": "code",
   "execution_count": null,
   "metadata": {},
   "outputs": [],
   "source": [
    "for name in names(gene_x_sample)[2:end]\n",
    "    \n",
    "    gene_x_sample[!, name] = replace(\n",
    "        gene_x_sample[!, name],\n",
    "        -Inf => NaN,\n",
    "    )\n",
    "    \n",
    "end\n",
    "\n",
    "gene_x_sample"
   ]
  },
  {
   "cell_type": "code",
   "execution_count": null,
   "metadata": {},
   "outputs": [],
   "source": [
    "function normalize_vector__0_(vector::Vector{T} where T<:Real)\n",
    "    \n",
    "    vector = convert.(\n",
    "        Float64,\n",
    "        vector,\n",
    "    )\n",
    "    \n",
    "    is_not_nan = .!isnan.(vector)\n",
    "    \n",
    "    vector_not_nan = vector[is_not_nan]\n",
    "    \n",
    "    vector[is_not_nan] .= (vector_not_nan .- mean(vector_not_nan)) / std(vector_not_nan)\n",
    "    \n",
    "    vector\n",
    "    \n",
    "end\n",
    "\n",
    "for vector in (\n",
    "    [-2, 0, 2],\n",
    "    [NaN, -2, 0, 2, NaN],\n",
    "    [NaN, NaN, NaN],\n",
    "    [-2, 2],\n",
    "    [0, 0],\n",
    "    [0],\n",
    ")\n",
    "    \n",
    "    println(normalize_vector__0_(vector))\n",
    "    \n",
    "end"
   ]
  },
  {
   "cell_type": "code",
   "execution_count": null,
   "metadata": {},
   "outputs": [],
   "source": [
    "for name in names(gene_x_sample)[2:end]\n",
    "    \n",
    "    gene_x_sample[!, name] = normalize_vector__0_(gene_x_sample[!, name])\n",
    "    \n",
    "end\n",
    "\n",
    "gene_x_sample"
   ]
  },
  {
   "cell_type": "code",
   "execution_count": null,
   "metadata": {},
   "outputs": [],
   "source": [
    "gene_set_keywords = [\n",
    "    \"VANTVEER_BREAST_CANCER_ESR1\",\n",
    "    \"DOANE_BREAST_CANCER_ESR1\",\n",
    "    \"YANG_BREAST_CANCER_ESR1\",\n",
    "    \"CHARAFE_BREAST_CANCER_LUMINAL_VS_BASAL\",\n",
    "    \"HALLMARK_EPITHELIAL_MESENCHYMAL_TRANSITION\",\n",
    "]"
   ]
  },
  {
   "cell_type": "code",
   "execution_count": null,
   "metadata": {
    "scrolled": false
   },
   "outputs": [],
   "source": [
    "gene_set_genes = Kraft.read_gmt([\n",
    "    \"c2.all.v6.2.symbols.gmt\",\n",
    "    \"h.all.v6.2.symbols.gmt\",\n",
    "])\n",
    "\n",
    "selected_gene_set_genes = Dict{String, Vector{String}}()\n",
    "\n",
    "for (gene_set, genes) in gene_set_genes\n",
    "    \n",
    "    if any(occursin(\n",
    "        gene_set_keyword,\n",
    "        gene_set,\n",
    "    ) for gene_set_keyword in gene_set_keywords)\n",
    "        \n",
    "        selected_gene_set_genes[gene_set] = genes\n",
    "        \n",
    "    end\n",
    "    \n",
    "end\n",
    "\n",
    "selected_gene_set_genes"
   ]
  },
  {
   "cell_type": "code",
   "execution_count": null,
   "metadata": {},
   "outputs": [],
   "source": [
    "statistic = \"ks\""
   ]
  },
  {
   "cell_type": "code",
   "execution_count": null,
   "metadata": {
    "scrolled": true
   },
   "outputs": [],
   "source": [
    "gene_set_x_sample = Kraft.combine_gene_sets_dn_up(Kraft.compute_set_enrichment(\n",
    "    gene_x_sample,\n",
    "    selected_gene_set_genes,\n",
    "    statistic,\n",
    "))"
   ]
  },
  {
   "cell_type": "code",
   "execution_count": null,
   "metadata": {
    "scrolled": true
   },
   "outputs": [],
   "source": [
    "protein_x_sample = Kraft.read_gct(\n",
    "    \"/Users/kwatme/Downloads/CCLE_RPPA_20180123.gct\",\n",
    "    \"Protein\",\n",
    ")\n",
    "\n",
    "target_row_indices = findall(protein_x_sample[:, Symbol(\"Protein\")] .== \"ER-alpha\")\n",
    "\n",
    "if length(target_row_indices) != 1\n",
    "    \n",
    "    error(\"there should be only 1 target.\")\n",
    "    \n",
    "end\n",
    "\n",
    "target_names = names(protein_x_sample)[2:end]\n",
    "\n",
    "target_values = [protein_x_sample[target_row_indices[1], i] for i in 2:size(\n",
    "    protein_x_sample,\n",
    "    2,\n",
    ")]\n",
    "\n",
    "target = pd.Series(\n",
    "    target_values,\n",
    "    index = target_names,\n",
    "    name = \"ER Protein\",\n",
    ")"
   ]
  },
  {
   "cell_type": "code",
   "execution_count": null,
   "metadata": {},
   "outputs": [],
   "source": [
    "data = pd.DataFrame(\n",
    "    Dict(name => gene_set_x_sample[!, name] for name in names(gene_set_x_sample)[2:end]),\n",
    "    index=gene_set_x_sample[!, 1],\n",
    ")"
   ]
  },
  {
   "cell_type": "code",
   "execution_count": null,
   "metadata": {},
   "outputs": [],
   "source": [
    "kraft.make_match_panel(\n",
    "    target,\n",
    "    data,\n",
    ")"
   ]
  }
 ],
 "metadata": {
  "@webio": {
   "lastCommId": null,
   "lastKernelId": null
  },
  "kernelspec": {
   "display_name": "Julia 1.0.3",
   "language": "julia",
   "name": "julia-1.0"
  },
  "language_info": {
   "file_extension": ".jl",
   "mimetype": "application/julia",
   "name": "julia",
   "version": "1.0.3"
  }
 },
 "nbformat": 4,
 "nbformat_minor": 2
}
