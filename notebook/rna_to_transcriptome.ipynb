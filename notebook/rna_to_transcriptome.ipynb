{
 "cells": [
  {
   "cell_type": "code",
   "execution_count": null,
   "id": "ec4b5eb7-f81d-4399-a82e-7bdd64904648",
   "metadata": {},
   "outputs": [],
   "source": [
    "include(\"../src/ProcessSequence.jl\")"
   ]
  },
  {
   "cell_type": "code",
   "execution_count": null,
   "id": "66d2aaeb-79a5-4001-97a5-6673946c2c30",
   "metadata": {},
   "outputs": [],
   "source": [
    "cdna_fasta_gz = \"/Volumes/CarrotCake/garden/data/grch/Homo_sapiens.GRCh38.cdna.all.fa.gz\"\n",
    "\n",
    "n_job = 8"
   ]
  },
  {
   "cell_type": "code",
   "execution_count": null,
   "id": "ad6eeecb-2463-4084-b434-f040d1b9f23d",
   "metadata": {},
   "outputs": [],
   "source": [
    "for _1_fastq_gz in readdir(\"/Users/kwat/Downloads/\"; join = true)\n",
    "\n",
    "    if occursin(\"_R1\", _1_fastq_gz)\n",
    "\n",
    "        _2_fastq_gz = replace(_1_fastq_gz, \"R1\" => \"R2\")\n",
    "\n",
    "        output_dir = string(split(_1_fastq_gz, \"_\")[2])\n",
    "\n",
    "        ProcessSequence.count_transcript(\n",
    "            _1_fastq_gz,\n",
    "            _2_fastq_gz,\n",
    "            cdna_fasta_gz,\n",
    "            output_dir,\n",
    "            n_job::Int64,\n",
    "        )\n",
    "\n",
    "    end\n",
    "\n",
    "end"
   ]
  },
  {
   "cell_type": "markdown",
   "id": "5bb18de4-15eb-4f44-9b6b-05ec3bb24c0d",
   "metadata": {},
   "source": [
    "## Make transcript by sample"
   ]
  },
  {
   "cell_type": "code",
   "execution_count": null,
   "id": "b77f48b7-fc02-44bb-8094-39716347c921",
   "metadata": {},
   "outputs": [],
   "source": [
    "from environment import *\n",
    "\n",
    "with open(\"setting.json\") as io:\n",
    "\n",
    "    SETTING = json.load(io)\n",
    "\n",
    "PATH = make_path_dict(SETTING)"
   ]
  },
  {
   "cell_type": "code",
   "execution_count": null,
   "id": "e51c9cb4-abc2-46c1-81a7-fe38613be781",
   "metadata": {},
   "outputs": [],
   "source": [
    "enst_tpms = []\n",
    "\n",
    "for sample_id in SETTING[\"fastq_id_fastq_file_paths\"].keys():\n",
    "\n",
    "    enst_tpm = pd.read_csv(\n",
    "        os.path.join(PATH[\"kallisto/\"], sample_id, \"abundance.tsv\"),\n",
    "        sep=\"\\t\",\n",
    "        index_col=0,\n",
    "    )[\"tpm\"]\n",
    "\n",
    "    enst_tpm.name = sample_id\n",
    "\n",
    "    enst_tpms.append(enst_tpm)\n",
    "\n",
    "enst_x_sample = pd.concat(enst_tpms, axis=1)\n",
    "\n",
    "enst_x_sample.index.name = \"ENST\"\n",
    "\n",
    "enst_x_sample.to_csv(PATH[\"enst_x_sample.tsv\"], sep=\"\\t\")"
   ]
  },
  {
   "cell_type": "markdown",
   "id": "57db8160-dcce-4d38-9e21-047e64d25ebd",
   "metadata": {},
   "source": [
    "## Make gene by sample"
   ]
  },
  {
   "cell_type": "code",
   "execution_count": null,
   "id": "44d5567f-4502-4cea-863e-b504a13545cb",
   "metadata": {},
   "outputs": [],
   "source": [
    "enst_gene_name = pd.read_csv(SETTING[\"enst_gene_name_file_path\"], sep=\"\\t\")\n",
    "\n",
    "gene_x_sample = pd.DataFrame(\n",
    "    enst_x_sample,\n",
    "    index=enst_x_sample.index.map(\n",
    "        {\n",
    "            enst: gene_name.str.upper()\n",
    "            for enst, gene_name in zip(\n",
    "                enst_gene_name[\"Transcript stable ID version\"],\n",
    "                enst_gene_name[\"Gene name\"],\n",
    "            )\n",
    "        }\n",
    "    ),\n",
    ")\n",
    "\n",
    "gene_x_sample.loc[~gene_x_sample.index.isna()].groupby(level=0).median()\n",
    "\n",
    "gene_x_sample.index.name = \"Gene\"\n",
    "\n",
    "gene_x_sample.to_csv(PATH[\"gene_x_sample.tsv\"], sep=\"\\t\")"
   ]
  }
 ],
 "metadata": {
  "kernelspec": {
   "display_name": "Julia 1.6.1",
   "language": "julia",
   "name": "julia-1.6"
  },
  "language_info": {
   "file_extension": ".jl",
   "mimetype": "application/julia",
   "name": "julia",
   "version": "1.6.1"
  }
 },
 "nbformat": 4,
 "nbformat_minor": 5
}
