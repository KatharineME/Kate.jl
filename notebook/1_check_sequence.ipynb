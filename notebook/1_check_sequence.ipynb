{
 "cells": [
  {
   "cell_type": "code",
   "execution_count": 1,
   "metadata": {},
   "outputs": [
    {
     "data": {
      "text/plain": [
       "Main.ProcessSequence"
      ]
     },
     "execution_count": 1,
     "metadata": {},
     "output_type": "execute_result"
    }
   ],
   "source": [
    "include(\"../src/ProcessSequence.jl\")"
   ]
  },
  {
   "cell_type": "code",
   "execution_count": 4,
   "metadata": {},
   "outputs": [
    {
     "data": {
      "text/plain": [
       "\"/home/jovyan/ProcessSequence.jl/input/738/input\""
      ]
     },
     "execution_count": 4,
     "metadata": {},
     "output_type": "execute_result"
    }
   ],
   "source": [
    "project_dir = dirname(@__DIR__)\n",
    "\n",
    "using JSON: parse\n",
    "\n",
    "project_json = parse(read(joinpath(project_dir, \"project.json\"), String))\n",
    "\n",
    "sample_name = project_json[\"sample_name\"]\n",
    "\n",
    "output_dir = joinpath(project_dir, \"output\")\n",
    "\n",
    "input_dir = joinpath(project_dir, \"input\")\n",
    "\n",
    "sample_dir = joinpath(input_dir, sample_name, \"input\")"
   ]
  },
  {
   "cell_type": "markdown",
   "metadata": {},
   "source": [
    "## Find raw reads"
   ]
  },
  {
   "cell_type": "code",
   "execution_count": 5,
   "metadata": {},
   "outputs": [
    {
     "name": "stdout",
     "output_type": "stream",
     "text": [
      "Walking sample directory...\n",
      "\n",
      "/home/jovyan/ProcessSequence.jl/input/738/input\n",
      "\n",
      "\n",
      "Number of fastq files found in directories walked: 2\n",
      "\n",
      "Number of fastq.gz or fq.gz files found in directories walked: 2\n",
      "\n",
      "\n",
      "Done at: 2020-12-13T22:26:56.936\n",
      "\n",
      "Took 2 milliseconds.\n",
      "\n"
     ]
    },
    {
     "data": {
      "text/plain": [
       "2-element Array{Any,1}:\n",
       " \"/home/jovyan/ProcessSequence.jl/input/738/input/WGC056190D_combined_R1.fastq.gz\"\n",
       " \"/home/jovyan/ProcessSequence.jl/input/738/input/WGC056190D_combined_R2.fastq.gz\""
      ]
     },
     "execution_count": 5,
     "metadata": {},
     "output_type": "execute_result"
    }
   ],
   "source": [
    "read_file_paths = ProcessSequence.find_reads(sample_dir)"
   ]
  },
  {
   "cell_type": "markdown",
   "metadata": {},
   "source": [
    "## Run FastQC"
   ]
  },
  {
   "cell_type": "code",
   "execution_count": 6,
   "metadata": {},
   "outputs": [
    {
     "name": "stdout",
     "output_type": "stream",
     "text": [
      "Skipping check sequence because check sequence directory already exists:\n",
      " /home/jovyan/ProcessSequence.jl/output/check_sequence_738\n",
      "\n"
     ]
    }
   ],
   "source": [
    "ProcessSequence.check_sequence(\n",
    "    Tuple(read_file_paths),\n",
    "    joinpath(output_dir, string(\"check_sequence_\", sample_name)),\n",
    "    project_json[\"n_job\"],\n",
    ")"
   ]
  },
  {
   "cell_type": "markdown",
   "metadata": {},
   "source": [
    "## Run MultiQC\n",
    "\n",
    "Not necessary if fastq files came from same lane and same sequencing run. The more complex the production of the reads was, the more useful MultiQC will be to identify potential lane or batch biases."
   ]
  },
  {
   "cell_type": "code",
   "execution_count": 7,
   "metadata": {},
   "outputs": [
    {
     "name": "stdout",
     "output_type": "stream",
     "text": [
      "`\u001b[4mmultiqc\u001b[24m \u001b[4m--outdir\u001b[24m \u001b[4m/home/jovyan/ProcessSequence.jl/output/check_sequence_738\u001b[24m \u001b[4m/home/jovyan/ProcessSequence.jl/output/check_sequence_738\u001b[24m`\n"
     ]
    },
    {
     "name": "stderr",
     "output_type": "stream",
     "text": [
      "[INFO   ]         multiqc : This is MultiQC v1.9\n",
      "[INFO   ]         multiqc : Template    : default\n",
      "[INFO   ]         multiqc : Searching   : /home/jovyan/ProcessSequence.jl/output/check_sequence_738\n",
      "[INFO   ]          fastqc : Found 2 reports\n",
      "[INFO   ]         multiqc : Compressing plot data\n",
      "[INFO   ]         multiqc : Report      : ../output/check_sequence_738/multiqc_report.html\n",
      "[INFO   ]         multiqc : Data        : ../output/check_sequence_738/multiqc_data\n",
      "[INFO   ]         multiqc : MultiQC complete\n"
     ]
    },
    {
     "name": "stdout",
     "output_type": "stream",
     "text": [
      "\n",
      "Done at: 2020-12-13T22:27:11.694\n",
      "\n",
      "Took 3 seconds, 784 milliseconds.\n",
      "\n"
     ]
    }
   ],
   "source": [
    "ProcessSequence.check_sequence_bias(sample_name, output_dir)"
   ]
  },
  {
   "cell_type": "markdown",
   "metadata": {},
   "source": [
    "## Concatenate reads of same strand"
   ]
  },
  {
   "cell_type": "code",
   "execution_count": 8,
   "metadata": {},
   "outputs": [
    {
     "name": "stdout",
     "output_type": "stream",
     "text": [
      "Number of forward (R1) read files = 1\n",
      "\n",
      "Number of reverse (R2) read files = 1\n",
      "\n",
      "\n",
      "Done at: 2020-12-13T22:27:11.928\n",
      "\n",
      "Took 5 milliseconds.\n",
      "\n"
     ]
    }
   ],
   "source": [
    "ProcessSequence.concatenate_reads(read_file_paths, sample_name, input_dir)"
   ]
  },
  {
   "cell_type": "markdown",
   "metadata": {},
   "source": [
    "## Run FastQC"
   ]
  },
  {
   "cell_type": "code",
   "execution_count": null,
   "metadata": {},
   "outputs": [],
   "source": [
    "sample_cat_input_dir = joinpath(input_dir, string(sample_name, \"_cat\"))\n",
    "\n",
    "sample_cat_output_dir = joinpath(output_dir, string(\"check_sequence_\", sample_name, \"_cat\"))\n",
    "\n",
    "if ispath(sample_cat_input_dir)\n",
    "\n",
    "    ProcessSequence.check_sequence(\n",
    "        Tuple((\n",
    "            joinpath(sample_cat_input_dir, string(sample_name, \"_R1.fastq.gz\")),\n",
    "            joinpath(sample_cat_input_dir, string(sample_name, \"_R2.fastq.gz\")),\n",
    "        )),\n",
    "        sample_cat_output_dir,\n",
    "        project_json[\"n_job\"],\n",
    "    )\n",
    "    \n",
    "else\n",
    "    \n",
    "    println(\"Reads weren't concatenated, no need to run FASTQC again.\")\n",
    "    \n",
    "end"
   ]
  }
 ],
 "metadata": {
  "@webio": {
   "lastCommId": null,
   "lastKernelId": null
  },
  "kernelspec": {
   "display_name": "Julia 1.5.2",
   "language": "julia",
   "name": "julia-1.5"
  },
  "language_info": {
   "file_extension": ".jl",
   "mimetype": "application/julia",
   "name": "julia",
   "version": "1.5.2"
  }
 },
 "nbformat": 4,
 "nbformat_minor": 4
}
