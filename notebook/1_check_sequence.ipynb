{
 "cells": [
  {
   "cell_type": "code",
   "execution_count": 1,
   "metadata": {},
   "outputs": [
    {
     "data": {
      "text/plain": [
       "Main.ProcessSequence"
      ]
     },
     "execution_count": 1,
     "metadata": {},
     "output_type": "execute_result"
    }
   ],
   "source": [
    "include(\"../src/ProcessSequence.jl\")"
   ]
  },
  {
   "cell_type": "code",
   "execution_count": 2,
   "metadata": {},
   "outputs": [
    {
     "data": {
      "text/plain": [
       "\"/home/jovyan/ProcessSequence.jl/input/1005\""
      ]
     },
     "execution_count": 2,
     "metadata": {},
     "output_type": "execute_result"
    }
   ],
   "source": [
    "project_dir = dirname(@__DIR__)\n",
    "\n",
    "using JSON: parse\n",
    "\n",
    "project_json = parse(read(joinpath(project_dir, \"project.json\"), String))\n",
    "\n",
    "sample_name = project_json[\"sample_name\"]\n",
    "\n",
    "output_dir = joinpath(project_dir, \"output\")\n",
    "input_dir = joinpath(project_dir, \"input\")\n",
    "sample_dir = joinpath(input_dir, sample_name)"
   ]
  },
  {
   "cell_type": "markdown",
   "metadata": {},
   "source": [
    "## Find raw reads"
   ]
  },
  {
   "cell_type": "code",
   "execution_count": 3,
   "metadata": {},
   "outputs": [
    {
     "name": "stdout",
     "output_type": "stream",
     "text": [
      "Walking sample directory...\n",
      "\n",
      "/home/jovyan/ProcessSequence.jl/input/1005\n",
      "\n",
      "/home/jovyan/ProcessSequence.jl/input/1005/G1005_CSFP200000024-2a_H52MHDSXY_L4_R1_fastqc_11.9\n",
      "\n",
      "/home/jovyan/ProcessSequence.jl/input/1005/G1005_CSFP200000024-2a_H52MHDSXY_L4_R1_fastqc_11.9/Icons\n",
      "\n",
      "/home/jovyan/ProcessSequence.jl/input/1005/G1005_CSFP200000024-2a_H52MHDSXY_L4_R1_fastqc_11.9/Images\n",
      "\n",
      "\n",
      "Number of fastq files found in directories walked: 0\n",
      "\n",
      "Number of fastq.gz or fq.gz files found in directories walked: 4\n",
      "\n",
      "\n",
      "Done at: 2020-12-10T06:58:11.931\n",
      "\n",
      "Took 25 milliseconds.\n",
      "\n"
     ]
    },
    {
     "data": {
      "text/plain": [
       "4-element Array{Any,1}:\n",
       " \"/home/jovyan/ProcessSequence.jl/input/1005/G1005_CSFP200000024-2a_H52MHDSXY_L4_R1.fq.gz\"\n",
       " \"/home/jovyan/ProcessSequence.jl/input/1005/G1005_CSFP200000024-2a_H52MHDSXY_L4_R2.fq.gz\"\n",
       " \"/home/jovyan/ProcessSequence.jl/input/1005/G1005_CSFP200000024-2a_H5MLJDSXY_L2_R1.fq.gz\"\n",
       " \"/home/jovyan/ProcessSequence.jl/input/1005/G1005_CSFP200000024-2a_H5MLJDSXY_L2_R2.fq.gz\""
      ]
     },
     "execution_count": 3,
     "metadata": {},
     "output_type": "execute_result"
    }
   ],
   "source": [
    "read_file_paths = ProcessSequence.find_reads(sample_dir)"
   ]
  },
  {
   "cell_type": "markdown",
   "metadata": {},
   "source": [
    "## Run FastQC"
   ]
  },
  {
   "cell_type": "code",
   "execution_count": 4,
   "metadata": {},
   "outputs": [
    {
     "name": "stdout",
     "output_type": "stream",
     "text": [
      "Skipping check sequence because check sequence directory already exists:\n",
      " /home/jovyan/ProcessSequence.jl/output/check_sequence_1005\n",
      "\n"
     ]
    }
   ],
   "source": [
    "using Dates\n",
    "\n",
    "ProcessSequence.check_sequence(\n",
    "    Tuple(read_file_paths),\n",
    "    joinpath(output_dir, string(\"check_sequence_\", sample_name)),\n",
    "    project_json[\"n_job\"],\n",
    ")"
   ]
  },
  {
   "cell_type": "markdown",
   "metadata": {},
   "source": [
    "## Run MultiQC\n",
    "\n",
    "Not necessary if fastq files came from same lane and same sequencing run. The more complex the production of the reads was, the more useful MultiQC will be at identifying potential lane or batch biases."
   ]
  },
  {
   "cell_type": "code",
   "execution_count": 5,
   "metadata": {},
   "outputs": [
    {
     "data": {
      "text/plain": [
       "check_sequence_bias (generic function with 1 method)"
      ]
     },
     "execution_count": 5,
     "metadata": {},
     "output_type": "execute_result"
    }
   ],
   "source": [
    "using Dates\n",
    "\n",
    "function check_sequence_bias(sample_name::String, output_dir::String)\n",
    "    \n",
    "    start_time = now()\n",
    "    \n",
    "    check_sequence_directory = joinpath(output_dir, string(\"check_sequence_\", sample_name))\n",
    "\n",
    "    ProcessSequence.print_and_run_cmd(`multiqc --outdir $check_sequence_directory $check_sequence_directory`)\n",
    "    \n",
    "    end_time = now()\n",
    "    \n",
    "    println(\"\\nDone at: $end_time\\n\")\n",
    "    \n",
    "    println(\"Took $(canonicalize(Dates.CompoundPeriod(end_time - start_time))).\\n\")\n",
    "    \n",
    "end"
   ]
  },
  {
   "cell_type": "markdown",
   "metadata": {},
   "source": [
    "## Concatenate reads of same strand"
   ]
  },
  {
   "cell_type": "code",
   "execution_count": null,
   "metadata": {},
   "outputs": [],
   "source": [
    "using Dates\n",
    "\n",
    "sample_name = \"1005\"\n",
    "\n",
    "\n",
    "# function concatenate_reads(\n",
    "#         read_file_paths, \n",
    "#         sample_name::String, \n",
    "#         input_dir::String,\n",
    "#     )\n",
    "\n",
    "    start_time = now()\n",
    "\n",
    "    forward_read_files = []\n",
    "    \n",
    "    reverse_read_files = []\n",
    "\n",
    "    number_of_forward_reads = 0\n",
    "    \n",
    "    number_of_reverse_reads = 0\n",
    "\n",
    "    for file in read_file_paths\n",
    "        \n",
    "        if occursin(\"R1\", file)\n",
    "            \n",
    "            push!(forward_read_files, file)\n",
    "            \n",
    "            number_of_forward_reads += 1\n",
    "            \n",
    "        end\n",
    "        \n",
    "    end\n",
    "\n",
    "    for file in read_file_paths\n",
    "        \n",
    "        if occursin(\"R2\", file)\n",
    "            \n",
    "            push!(reverse_read_files, file)\n",
    "            \n",
    "            number_of_reverse_reads += 1\n",
    "        end\n",
    "\n",
    "    end\n",
    "\n",
    "    println(\"Number of Forward (R1) Reads = $number_of_forward_reads\\n\")\n",
    "    \n",
    "    println(\"Number of Reverse (R2) Reads = $number_of_reverse_reads\\n\")\n",
    "\n",
    "    sample_cat_dir = joinpath(input_dir, string(sample_name, \"_cat\"))\n",
    "\n",
    "    run(pipeline(`mkdir $sample_cat_dir`))\n",
    "\n",
    "    println(\"\\nCombining R1 Reads\\n\")\n",
    "\n",
    "    run(pipeline(`cat $forward_read_files`, stdout=joinpath(sample_cat_dir, string(sample_name, \"_R1.fastq.gz\"))))\n",
    "\n",
    "    println(\"\\nCombining R2 Reads\\n\")\n",
    "\n",
    "    run(pipeline(`cat $reverse_read_files`, stdout=joinpath(sample_cat_dir, string(sample_name, \"_R1.fastq.gz\"))))\n",
    "            \n",
    "    end_time = now()\n",
    "            \n",
    "    println(\"\\nDone at: $end_time\\n\")\n",
    "    \n",
    "    println(\"Took $(canonicalize(Dates.CompoundPeriod(end_time - start_time))).\\n\")     \n",
    "            \n",
    "# end"
   ]
  },
  {
   "cell_type": "markdown",
   "metadata": {},
   "source": [
    "## Run FastQC"
   ]
  },
  {
   "cell_type": "code",
   "execution_count": null,
   "metadata": {},
   "outputs": [],
   "source": [
    "check_sequence(\n",
    "    Tuple(\n",
    "        joinpath(project_dir, value)\n",
    "        for (key, value) in project_json if endswith(key, \".fastq.gz\")\n",
    "    ),\n",
    "    joinpath(output_dir, string(\"check_sequence_\", sample_name, \"_cat\")),\n",
    "    project_json[\"n_job\"],\n",
    ")"
   ]
  }
 ],
 "metadata": {
  "@webio": {
   "lastCommId": null,
   "lastKernelId": null
  },
  "kernelspec": {
   "display_name": "Julia 1.5.2",
   "language": "julia",
   "name": "julia-1.5"
  },
  "language_info": {
   "file_extension": ".jl",
   "mimetype": "application/julia",
   "name": "julia",
   "version": "1.5.2"
  }
 },
 "nbformat": 4,
 "nbformat_minor": 4
}
