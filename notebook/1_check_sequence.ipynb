{
 "cells": [
  {
   "cell_type": "code",
   "execution_count": 1,
   "metadata": {},
   "outputs": [
    {
     "data": {
      "text/plain": [
       "Main.ProcessSequence"
      ]
     },
     "execution_count": 1,
     "metadata": {},
     "output_type": "execute_result"
    }
   ],
   "source": [
    "include(\"../src/ProcessSequence.jl\")"
   ]
  },
  {
   "cell_type": "code",
   "execution_count": 7,
   "metadata": {},
   "outputs": [
    {
     "data": {
      "text/plain": [
       "\"/home/jovyan/ProcessSequence.jl/input/738/input\""
      ]
     },
     "execution_count": 7,
     "metadata": {},
     "output_type": "execute_result"
    }
   ],
   "source": [
    "project_dir = dirname(@__DIR__)\n",
    "\n",
    "using JSON: parse\n",
    "\n",
    "project_json = parse(read(joinpath(project_dir, \"project.json\"), String))\n",
    "\n",
    "sample_name = project_json[\"sample_name\"]\n",
    "\n",
    "output_dir = joinpath(project_dir, \"output\")\n",
    "\n",
    "input_dir = joinpath(project_dir, \"input\")\n",
    "\n",
    "sample_dir = joinpath(input_dir, sample_name, \"input\")"
   ]
  },
  {
   "cell_type": "markdown",
   "metadata": {},
   "source": [
    "## Find raw reads"
   ]
  },
  {
   "cell_type": "code",
   "execution_count": 8,
   "metadata": {},
   "outputs": [
    {
     "name": "stdout",
     "output_type": "stream",
     "text": [
      "Walking sample directory...\n",
      "\n",
      "/home/jovyan/ProcessSequence.jl/input/738/input\n",
      "\n",
      "\n",
      "Number of fastq files found in directories walked: 2\n",
      "\n",
      "Number of fastq.gz or fq.gz files found in directories walked: 2\n",
      "\n",
      "\n",
      "Done at: 2020-12-11T23:13:46.301\n",
      "\n",
      "Took empty period.\n",
      "\n"
     ]
    },
    {
     "data": {
      "text/plain": [
       "2-element Array{Any,1}:\n",
       " \"/home/jovyan/ProcessSequence.jl/input/738/input/WGC056190D_combined_R1.fastq.gz\"\n",
       " \"/home/jovyan/ProcessSequence.jl/input/738/input/WGC056190D_combined_R2.fastq.gz\""
      ]
     },
     "execution_count": 8,
     "metadata": {},
     "output_type": "execute_result"
    }
   ],
   "source": [
    "read_file_paths = ProcessSequence.find_reads(sample_dir)"
   ]
  },
  {
   "cell_type": "markdown",
   "metadata": {},
   "source": [
    "## Run FastQC"
   ]
  },
  {
   "cell_type": "code",
   "execution_count": null,
   "metadata": {},
   "outputs": [
    {
     "name": "stdout",
     "output_type": "stream",
     "text": [
      "(2020-12-11T23:13:47.467) Checking sequence ...\n",
      "`\u001b[4mfastqc\u001b[24m \u001b[4m--threads\u001b[24m \u001b[4m2\u001b[24m \u001b[4m--outdir\u001b[24m \u001b[4m/home/jovyan/ProcessSequence.jl/output/check_sequence_738\u001b[24m \u001b[4m/home/jovyan/ProcessSequence.jl/input/738/input/WGC056190D_combined_R1.fastq.gz\u001b[24m \u001b[4m/home/jovyan/ProcessSequence.jl/input/738/input/WGC056190D_combined_R2.fastq.gz\u001b[24m`\n"
     ]
    },
    {
     "name": "stderr",
     "output_type": "stream",
     "text": [
      "Started analysis of WGC056190D_combined_R1.fastq.gz\n",
      "Started analysis of WGC056190D_combined_R2.fastq.gz\n"
     ]
    }
   ],
   "source": [
    "ProcessSequence.check_sequence(\n",
    "    Tuple(read_file_paths),\n",
    "    joinpath(output_dir, string(\"check_sequence_\", sample_name)),\n",
    "    project_json[\"n_job\"],\n",
    ")"
   ]
  },
  {
   "cell_type": "markdown",
   "metadata": {},
   "source": [
    "## Run MultiQC\n",
    "\n",
    "Not necessary if fastq files came from same lane and same sequencing run. The more complex the production of the reads was, the more useful MultiQC will be to identify potential lane or batch biases."
   ]
  },
  {
   "cell_type": "code",
   "execution_count": null,
   "metadata": {},
   "outputs": [],
   "source": [
    "ProcessSequence.check_sequence_bias(sample_name, output_dir)"
   ]
  },
  {
   "cell_type": "markdown",
   "metadata": {},
   "source": [
    "## Concatenate reads of same strand"
   ]
  },
  {
   "cell_type": "code",
   "execution_count": null,
   "metadata": {},
   "outputs": [],
   "source": [
    "ProcessSequence.concatenate_reads(read_file_paths, sample_name, input_dir)"
   ]
  },
  {
   "cell_type": "markdown",
   "metadata": {},
   "source": [
    "## Run FastQC"
   ]
  },
  {
   "cell_type": "code",
   "execution_count": null,
   "metadata": {},
   "outputs": [],
   "source": [
    "sample_cat_input_dir = joinpath(input_dir, string(sample_name, \"_cat\"))\n",
    "\n",
    "sample_cat_output_dir = joinpath(output_dir, string(\"check_sequence_\", sample_name, \"_cat\"))\n",
    "\n",
    "if ispath(sample_cat_input_dir)\n",
    "\n",
    "    ProcessSequence.check_sequence(\n",
    "        Tuple((\n",
    "            joinpath(sample_cat_input_dir, string(sample_name, \"_R1.fastq.gz\")),\n",
    "            joinpath(sample_cat_input_dir, string(sample_name, \"_R2.fastq.gz\")),\n",
    "        )),\n",
    "        sample_cat_output_dir,\n",
    "        project_json[\"n_job\"],\n",
    "    )\n",
    "    \n",
    "else\n",
    "    \n",
    "    println(\"Reads weren't concatenated, no need to run FASTQC again.\")\n",
    "    \n",
    "end"
   ]
  }
 ],
 "metadata": {
  "@webio": {
   "lastCommId": null,
   "lastKernelId": null
  },
  "kernelspec": {
   "display_name": "Julia 1.5.2",
   "language": "julia",
   "name": "julia-1.5"
  },
  "language_info": {
   "file_extension": ".jl",
   "mimetype": "application/julia",
   "name": "julia",
   "version": "1.5.2"
  }
 },
 "nbformat": 4,
 "nbformat_minor": 4
}
