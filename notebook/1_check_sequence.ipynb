{
 "cells": [
  {
   "cell_type": "code",
   "execution_count": 1,
   "metadata": {},
   "outputs": [],
   "source": [
    "using Revise"
   ]
  },
  {
   "cell_type": "code",
   "execution_count": 2,
   "metadata": {},
   "outputs": [
    {
     "data": {
      "text/plain": [
       "Main.ProcessSequence"
      ]
     },
     "execution_count": 2,
     "metadata": {},
     "output_type": "execute_result"
    }
   ],
   "source": [
    "include(\"../src/ProcessSequence.jl\")"
   ]
  },
  {
   "cell_type": "code",
   "execution_count": null,
   "metadata": {},
   "outputs": [],
   "source": [
    "project_dir = dirname(@__DIR__)\n",
    "\n",
    "using JSON: parse\n",
    "\n",
    "project_json = parse(read(joinpath(project_dir, \"project.json\"), String))\n",
    "\n",
    "sample_name = project_json[\"cell_line\"]\n",
    "\n",
    "output_dir = joinpath(project_dir, \"output\")\n",
    "\n",
    "input_dir = joinpath(project_dir, \"input\")\n",
    "\n",
    "sample_dir = joinpath(input_dir, sample_name)"
   ]
  },
  {
   "cell_type": "markdown",
   "metadata": {},
   "source": [
    "## Find raw reads"
   ]
  },
  {
   "cell_type": "code",
   "execution_count": null,
   "metadata": {},
   "outputs": [],
   "source": [
    "read_file_paths = ProcessSequence.find_reads(sample_dir)"
   ]
  },
  {
   "cell_type": "markdown",
   "metadata": {},
   "source": [
    "## Run FastQC"
   ]
  },
  {
   "cell_type": "code",
   "execution_count": null,
   "metadata": {},
   "outputs": [],
   "source": [
    "ProcessSequence.check_sequence(\n",
    "    Tuple(read_file_paths),\n",
    "    joinpath(output_dir, string(\"check_sequence_\", sample_name, \"_raw\", \"_clean\")),\n",
    "    project_json[\"n_job\"],\n",
    ")"
   ]
  },
  {
   "cell_type": "markdown",
   "metadata": {},
   "source": [
    "## Run MultiQC\n",
    "\n",
    "Not necessary if fastq files came from same lane and same sequencing run. The more complex the production of the reads was, the more useful MultiQC will be to identify potential lane or batch biases."
   ]
  },
  {
   "cell_type": "code",
   "execution_count": null,
   "metadata": {},
   "outputs": [],
   "source": [
    "ProcessSequence.check_sequence_bias(sample_name, output_dir)"
   ]
  },
  {
   "cell_type": "markdown",
   "metadata": {},
   "source": [
    "## Concatenate reads of same strand"
   ]
  },
  {
   "cell_type": "code",
   "execution_count": null,
   "metadata": {},
   "outputs": [],
   "source": [
    "ProcessSequence.concatenate_reads(read_file_paths, sample_name, input_dir)"
   ]
  },
  {
   "cell_type": "markdown",
   "metadata": {},
   "source": [
    "## Run FastQC"
   ]
  },
  {
   "cell_type": "code",
   "execution_count": null,
   "metadata": {},
   "outputs": [],
   "source": [
    "sample_cat_input_dir = joinpath(input_dir, string(sample_name, \"_cat\"))\n",
    "\n",
    "sample_cat_output_dir = joinpath(output_dir, string(\"check_sequence_\", sample_name, \"_cat\"))\n",
    "\n",
    "if ispath(sample_cat_input_dir)\n",
    "\n",
    "    ProcessSequence.check_sequence(\n",
    "        Tuple((\n",
    "            joinpath(sample_cat_input_dir, string(sample_name, \"_R1.fastq.gz\")),\n",
    "            joinpath(sample_cat_input_dir, string(sample_name, \"_R2.fastq.gz\")),\n",
    "        )),\n",
    "        sample_cat_output_dir,\n",
    "        project_json[\"n_job\"],\n",
    "    )\n",
    "\n",
    "else\n",
    "\n",
    "    println(\"Reads weren't concatenated, no need to run FASTQC again.\")\n",
    "\n",
    "end"
   ]
  }
 ],
 "metadata": {
  "@webio": {
   "lastCommId": null,
   "lastKernelId": null
  },
  "kernelspec": {
   "display_name": "Julia 1.6.1",
   "language": "julia",
   "name": "julia-1.6"
  },
  "language_info": {
   "file_extension": ".jl",
   "mimetype": "application/julia",
   "name": "julia",
   "version": "1.6.1"
  }
 },
 "nbformat": 4,
 "nbformat_minor": 4
}
