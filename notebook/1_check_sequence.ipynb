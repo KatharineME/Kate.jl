{
 "cells": [
  {
   "cell_type": "code",
   "execution_count": 11,
   "metadata": {},
   "outputs": [
    {
     "name": "stderr",
     "output_type": "stream",
     "text": [
      "WARNING: replacing module ProcessSequence.\n"
     ]
    },
    {
     "data": {
      "text/plain": [
       "Main.ProcessSequence"
      ]
     },
     "execution_count": 11,
     "metadata": {},
     "output_type": "execute_result"
    }
   ],
   "source": [
    "include(\"../src/ProcessSequence.jl\")"
   ]
  },
  {
   "cell_type": "code",
   "execution_count": 12,
   "metadata": {},
   "outputs": [
    {
     "data": {
      "text/plain": [
       "\"/home/jovyan/ProcessSequence.jl/input/736/fastq_black/clean\""
      ]
     },
     "execution_count": 12,
     "metadata": {},
     "output_type": "execute_result"
    }
   ],
   "source": [
    "project_dir = dirname(@__DIR__)\n",
    "\n",
    "using JSON: parse\n",
    "\n",
    "project_json = parse(read(joinpath(project_dir, \"project.json\"), String))\n",
    "\n",
    "sample_name = project_json[\"sample_name\"]\n",
    "\n",
    "output_dir = joinpath(project_dir, \"output\")\n",
    "\n",
    "input_dir = joinpath(project_dir, \"input\")\n",
    "\n",
    "sample_dir = joinpath(input_dir, sample_name, \"fastq_black\", \"clean\")"
   ]
  },
  {
   "cell_type": "markdown",
   "metadata": {},
   "source": [
    "## Find raw reads"
   ]
  },
  {
   "cell_type": "code",
   "execution_count": 14,
   "metadata": {},
   "outputs": [
    {
     "name": "stdout",
     "output_type": "stream",
     "text": [
      "Walking sample directory...\n",
      "\n",
      "/home/jovyan/ProcessSequence.jl/input/736/fastq_black/clean\n",
      "\n",
      "\n",
      "Number of fastq files found in directories walked: 0\n",
      "\n",
      "Number of fastq.gz or fq.gz files found in directories walked: 10\n",
      "\n",
      "\n",
      "Done at: 2020-12-22T07:33:07.19\n",
      "\n",
      "Took 13 milliseconds.\n",
      "\n"
     ]
    },
    {
     "data": {
      "text/plain": [
       "10-element Array{Any,1}:\n",
       " \"/home/jovyan/ProcessSequence.jl/input/736/fastq_black/clean/S736_ZTD16062916_HVNCCCCXX_L1_R1.clean.fq.gz\"\n",
       " \"/home/jovyan/ProcessSequence.jl/input/736/fastq_black/clean/S736_ZTD16062916_HVNCCCCXX_L1_R2.clean.fq.gz\"\n",
       " \"/home/jovyan/ProcessSequence.jl/input/736/fastq_black/clean/S736_ZTD16062916_HVNCCCCXX_L4_R1.clean.fq.gz\"\n",
       " \"/home/jovyan/ProcessSequence.jl/input/736/fastq_black/clean/S736_ZTD16062916_HVNCCCCXX_L4_R2.clean.fq.gz\"\n",
       " \"/home/jovyan/ProcessSequence.jl/input/736/fastq_black/clean/S736_ZTD16062916_HVNCCCCXX_L5_R1.clean.fq.gz\"\n",
       " \"/home/jovyan/ProcessSequence.jl/input/736/fastq_black/clean/S736_ZTD16062916_HVNCCCCXX_L5_R2.clean.fq.gz\"\n",
       " \"/home/jovyan/ProcessSequence.jl/input/736/fastq_black/clean/S736_ZTD16062916_HVNCCCCXX_L6_R1.clean.fq.gz\"\n",
       " \"/home/jovyan/ProcessSequence.jl/input/736/fastq_black/clean/S736_ZTD16062916_HVNCCCCXX_L6_R2.clean.fq.gz\"\n",
       " \"/home/jovyan/ProcessSequence.jl/input/736/fastq_black/clean/S736_ZTD16062916_HVNCCCCXX_L7_R1.clean.fq.gz\"\n",
       " \"/home/jovyan/ProcessSequence.jl/input/736/fastq_black/clean/S736_ZTD16062916_HVNCCCCXX_L7_R2.clean.fq.gz\""
      ]
     },
     "execution_count": 14,
     "metadata": {},
     "output_type": "execute_result"
    }
   ],
   "source": [
    "read_file_paths = ProcessSequence.find_reads(sample_dir)"
   ]
  },
  {
   "cell_type": "markdown",
   "metadata": {},
   "source": [
    "## Run FastQC"
   ]
  },
  {
   "cell_type": "code",
   "execution_count": 6,
   "metadata": {},
   "outputs": [
    {
     "name": "stdout",
     "output_type": "stream",
     "text": [
      "(2020-12-22T03:55:43.4) Checking sequence ...\n",
      "`\u001b[4mfastqc\u001b[24m \u001b[4m--threads\u001b[24m \u001b[4m8\u001b[24m \u001b[4m--outdir\u001b[24m \u001b[4m/home/jovyan/ProcessSequence.jl/output/check_sequence_736_raw_clean\u001b[24m \u001b[4m/home/jovyan/ProcessSequence.jl/input/736/fastq_black/clean/S736_ZTD16062916_HVNCCCCXX_L1_1.clean.fq.gz\u001b[24m \u001b[4m/home/jovyan/ProcessSequence.jl/input/736/fastq_black/clean/S736_ZTD16062916_HVNCCCCXX_L1_2.clean.fq.gz\u001b[24m \u001b[4m/home/jovyan/ProcessSequence.jl/input/736/fastq_black/clean/S736_ZTD16062916_HVNCCCCXX_L4_1.clean.fq.gz\u001b[24m \u001b[4m/home/jovyan/ProcessSequence.jl/input/736/fastq_black/clean/S736_ZTD16062916_HVNCCCCXX_L4_2.clean.fq.gz\u001b[24m \u001b[4m/home/jovyan/ProcessSequence.jl/input/736/fastq_black/clean/S736_ZTD16062916_HVNCCCCXX_L5_1.clean.fq.gz\u001b[24m \u001b[4m/home/jovyan/ProcessSequence.jl/input/736/fastq_black/clean/S736_ZTD16062916_HVNCCCCXX_L5_2.clean.fq.gz\u001b[24m \u001b[4m/home/jovyan/ProcessSequence.jl/input/736/fastq_black/clean/S736_ZTD16062916_HVNCCCCXX_L6_1.clean.fq.gz\u001b[24m \u001b[4m/home/jovyan/ProcessSequence.jl/input/736/fastq_black/clean/S736_ZTD16062916_HVNCCCCXX_L6_2.clean.fq.gz\u001b[24m \u001b[4m/home/jovyan/ProcessSequence.jl/input/736/fastq_black/clean/S736_ZTD16062916_HVNCCCCXX_L7_1.clean.fq.gz\u001b[24m \u001b[4m/home/jovyan/ProcessSequence.jl/input/736/fastq_black/clean/S736_ZTD16062916_HVNCCCCXX_L7_2.clean.fq.gz\u001b[24m`\n"
     ]
    },
    {
     "name": "stderr",
     "output_type": "stream",
     "text": [
      "Started analysis of S736_ZTD16062916_HVNCCCCXX_L1_1.clean.fq.gz\n",
      "Started analysis of S736_ZTD16062916_HVNCCCCXX_L1_2.clean.fq.gz\n",
      "Started analysis of S736_ZTD16062916_HVNCCCCXX_L4_1.clean.fq.gz\n",
      "Started analysis of S736_ZTD16062916_HVNCCCCXX_L4_2.clean.fq.gz\n",
      "Started analysis of S736_ZTD16062916_HVNCCCCXX_L5_1.clean.fq.gz\n",
      "Started analysis of S736_ZTD16062916_HVNCCCCXX_L5_2.clean.fq.gz\n",
      "Started analysis of S736_ZTD16062916_HVNCCCCXX_L6_1.clean.fq.gz\n",
      "Started analysis of S736_ZTD16062916_HVNCCCCXX_L6_2.clean.fq.gz\n",
      "Approx 5% complete for S736_ZTD16062916_HVNCCCCXX_L5_1.clean.fq.gz\n",
      "Approx 5% complete for S736_ZTD16062916_HVNCCCCXX_L5_2.clean.fq.gz\n",
      "Approx 5% complete for S736_ZTD16062916_HVNCCCCXX_L6_1.clean.fq.gz\n",
      "Approx 5% complete for S736_ZTD16062916_HVNCCCCXX_L4_1.clean.fq.gz\n",
      "Approx 5% complete for S736_ZTD16062916_HVNCCCCXX_L4_2.clean.fq.gz\n",
      "Approx 5% complete for S736_ZTD16062916_HVNCCCCXX_L6_2.clean.fq.gz\n",
      "Approx 5% complete for S736_ZTD16062916_HVNCCCCXX_L1_1.clean.fq.gz\n",
      "Approx 5% complete for S736_ZTD16062916_HVNCCCCXX_L1_2.clean.fq.gz\n",
      "Approx 10% complete for S736_ZTD16062916_HVNCCCCXX_L5_1.clean.fq.gz\n",
      "Approx 10% complete for S736_ZTD16062916_HVNCCCCXX_L5_2.clean.fq.gz\n",
      "Approx 10% complete for S736_ZTD16062916_HVNCCCCXX_L6_1.clean.fq.gz\n",
      "Approx 10% complete for S736_ZTD16062916_HVNCCCCXX_L4_1.clean.fq.gz\n",
      "Approx 10% complete for S736_ZTD16062916_HVNCCCCXX_L4_2.clean.fq.gz\n",
      "Approx 10% complete for S736_ZTD16062916_HVNCCCCXX_L6_2.clean.fq.gz\n",
      "Approx 10% complete for S736_ZTD16062916_HVNCCCCXX_L1_1.clean.fq.gz\n",
      "Approx 10% complete for S736_ZTD16062916_HVNCCCCXX_L1_2.clean.fq.gz\n",
      "Approx 15% complete for S736_ZTD16062916_HVNCCCCXX_L5_1.clean.fq.gz\n",
      "Approx 15% complete for S736_ZTD16062916_HVNCCCCXX_L5_2.clean.fq.gz\n",
      "Approx 15% complete for S736_ZTD16062916_HVNCCCCXX_L6_1.clean.fq.gz\n",
      "Approx 15% complete for S736_ZTD16062916_HVNCCCCXX_L4_1.clean.fq.gz\n",
      "Approx 15% complete for S736_ZTD16062916_HVNCCCCXX_L4_2.clean.fq.gz\n",
      "Approx 15% complete for S736_ZTD16062916_HVNCCCCXX_L6_2.clean.fq.gz\n",
      "Approx 20% complete for S736_ZTD16062916_HVNCCCCXX_L5_1.clean.fq.gz\n",
      "Approx 20% complete for S736_ZTD16062916_HVNCCCCXX_L5_2.clean.fq.gz\n",
      "Approx 15% complete for S736_ZTD16062916_HVNCCCCXX_L1_1.clean.fq.gz\n",
      "Approx 15% complete for S736_ZTD16062916_HVNCCCCXX_L1_2.clean.fq.gz\n",
      "Approx 20% complete for S736_ZTD16062916_HVNCCCCXX_L6_1.clean.fq.gz\n",
      "Approx 20% complete for S736_ZTD16062916_HVNCCCCXX_L4_1.clean.fq.gz\n",
      "Approx 20% complete for S736_ZTD16062916_HVNCCCCXX_L4_2.clean.fq.gz\n",
      "Approx 20% complete for S736_ZTD16062916_HVNCCCCXX_L6_2.clean.fq.gz\n",
      "Approx 25% complete for S736_ZTD16062916_HVNCCCCXX_L5_1.clean.fq.gz\n",
      "Approx 25% complete for S736_ZTD16062916_HVNCCCCXX_L5_2.clean.fq.gz\n",
      "Approx 20% complete for S736_ZTD16062916_HVNCCCCXX_L1_1.clean.fq.gz\n",
      "Approx 20% complete for S736_ZTD16062916_HVNCCCCXX_L1_2.clean.fq.gz\n",
      "Approx 25% complete for S736_ZTD16062916_HVNCCCCXX_L6_1.clean.fq.gz\n",
      "Approx 30% complete for S736_ZTD16062916_HVNCCCCXX_L5_1.clean.fq.gz\n",
      "Approx 25% complete for S736_ZTD16062916_HVNCCCCXX_L4_1.clean.fq.gz\n",
      "Approx 30% complete for S736_ZTD16062916_HVNCCCCXX_L5_2.clean.fq.gz\n",
      "Approx 25% complete for S736_ZTD16062916_HVNCCCCXX_L6_2.clean.fq.gz\n",
      "Approx 25% complete for S736_ZTD16062916_HVNCCCCXX_L4_2.clean.fq.gz\n",
      "Approx 35% complete for S736_ZTD16062916_HVNCCCCXX_L5_1.clean.fq.gz\n",
      "Approx 35% complete for S736_ZTD16062916_HVNCCCCXX_L5_2.clean.fq.gz\n",
      "Approx 30% complete for S736_ZTD16062916_HVNCCCCXX_L6_1.clean.fq.gz\n",
      "Approx 25% complete for S736_ZTD16062916_HVNCCCCXX_L1_1.clean.fq.gz\n",
      "Approx 30% complete for S736_ZTD16062916_HVNCCCCXX_L4_1.clean.fq.gz\n",
      "Approx 30% complete for S736_ZTD16062916_HVNCCCCXX_L6_2.clean.fq.gz\n",
      "Approx 30% complete for S736_ZTD16062916_HVNCCCCXX_L4_2.clean.fq.gz\n",
      "Approx 25% complete for S736_ZTD16062916_HVNCCCCXX_L1_2.clean.fq.gz\n",
      "Approx 40% complete for S736_ZTD16062916_HVNCCCCXX_L5_1.clean.fq.gz\n",
      "Approx 40% complete for S736_ZTD16062916_HVNCCCCXX_L5_2.clean.fq.gz\n",
      "Approx 35% complete for S736_ZTD16062916_HVNCCCCXX_L6_1.clean.fq.gz\n",
      "Approx 35% complete for S736_ZTD16062916_HVNCCCCXX_L4_1.clean.fq.gz\n",
      "Approx 35% complete for S736_ZTD16062916_HVNCCCCXX_L6_2.clean.fq.gz\n",
      "Approx 35% complete for S736_ZTD16062916_HVNCCCCXX_L4_2.clean.fq.gz\n",
      "Approx 30% complete for S736_ZTD16062916_HVNCCCCXX_L1_1.clean.fq.gz\n",
      "Approx 30% complete for S736_ZTD16062916_HVNCCCCXX_L1_2.clean.fq.gz\n",
      "Approx 45% complete for S736_ZTD16062916_HVNCCCCXX_L5_1.clean.fq.gz\n",
      "Approx 45% complete for S736_ZTD16062916_HVNCCCCXX_L5_2.clean.fq.gz\n",
      "Approx 40% complete for S736_ZTD16062916_HVNCCCCXX_L6_1.clean.fq.gz\n",
      "Approx 40% complete for S736_ZTD16062916_HVNCCCCXX_L6_2.clean.fq.gz\n",
      "Approx 40% complete for S736_ZTD16062916_HVNCCCCXX_L4_1.clean.fq.gz\n",
      "Approx 40% complete for S736_ZTD16062916_HVNCCCCXX_L4_2.clean.fq.gz\n",
      "Approx 50% complete for S736_ZTD16062916_HVNCCCCXX_L5_1.clean.fq.gz\n",
      "Approx 35% complete for S736_ZTD16062916_HVNCCCCXX_L1_1.clean.fq.gz\n",
      "Approx 50% complete for S736_ZTD16062916_HVNCCCCXX_L5_2.clean.fq.gz\n",
      "Approx 35% complete for S736_ZTD16062916_HVNCCCCXX_L1_2.clean.fq.gz\n",
      "Approx 45% complete for S736_ZTD16062916_HVNCCCCXX_L6_1.clean.fq.gz\n",
      "Approx 45% complete for S736_ZTD16062916_HVNCCCCXX_L6_2.clean.fq.gz\n",
      "Approx 45% complete for S736_ZTD16062916_HVNCCCCXX_L4_1.clean.fq.gz\n",
      "Approx 55% complete for S736_ZTD16062916_HVNCCCCXX_L5_1.clean.fq.gz\n",
      "Approx 45% complete for S736_ZTD16062916_HVNCCCCXX_L4_2.clean.fq.gz\n",
      "Approx 55% complete for S736_ZTD16062916_HVNCCCCXX_L5_2.clean.fq.gz\n",
      "Approx 40% complete for S736_ZTD16062916_HVNCCCCXX_L1_1.clean.fq.gz\n",
      "Approx 40% complete for S736_ZTD16062916_HVNCCCCXX_L1_2.clean.fq.gz\n",
      "Approx 60% complete for S736_ZTD16062916_HVNCCCCXX_L5_1.clean.fq.gz\n",
      "Approx 50% complete for S736_ZTD16062916_HVNCCCCXX_L6_1.clean.fq.gz\n",
      "Approx 60% complete for S736_ZTD16062916_HVNCCCCXX_L5_2.clean.fq.gz\n",
      "Approx 50% complete for S736_ZTD16062916_HVNCCCCXX_L6_2.clean.fq.gz\n",
      "Approx 50% complete for S736_ZTD16062916_HVNCCCCXX_L4_1.clean.fq.gz\n",
      "Approx 50% complete for S736_ZTD16062916_HVNCCCCXX_L4_2.clean.fq.gz\n",
      "Approx 45% complete for S736_ZTD16062916_HVNCCCCXX_L1_1.clean.fq.gz\n",
      "Approx 65% complete for S736_ZTD16062916_HVNCCCCXX_L5_1.clean.fq.gz\n",
      "Approx 55% complete for S736_ZTD16062916_HVNCCCCXX_L6_1.clean.fq.gz\n",
      "Approx 65% complete for S736_ZTD16062916_HVNCCCCXX_L5_2.clean.fq.gz\n",
      "Approx 45% complete for S736_ZTD16062916_HVNCCCCXX_L1_2.clean.fq.gz\n",
      "Approx 55% complete for S736_ZTD16062916_HVNCCCCXX_L6_2.clean.fq.gz\n",
      "Approx 55% complete for S736_ZTD16062916_HVNCCCCXX_L4_1.clean.fq.gz\n",
      "Approx 55% complete for S736_ZTD16062916_HVNCCCCXX_L4_2.clean.fq.gz\n",
      "Approx 70% complete for S736_ZTD16062916_HVNCCCCXX_L5_1.clean.fq.gz\n",
      "Approx 70% complete for S736_ZTD16062916_HVNCCCCXX_L5_2.clean.fq.gz\n",
      "Approx 60% complete for S736_ZTD16062916_HVNCCCCXX_L6_1.clean.fq.gz\n",
      "Approx 50% complete for S736_ZTD16062916_HVNCCCCXX_L1_1.clean.fq.gz\n",
      "Approx 60% complete for S736_ZTD16062916_HVNCCCCXX_L6_2.clean.fq.gz\n",
      "Approx 60% complete for S736_ZTD16062916_HVNCCCCXX_L4_1.clean.fq.gz\n",
      "Approx 50% complete for S736_ZTD16062916_HVNCCCCXX_L1_2.clean.fq.gz\n",
      "Approx 60% complete for S736_ZTD16062916_HVNCCCCXX_L4_2.clean.fq.gz\n",
      "Approx 75% complete for S736_ZTD16062916_HVNCCCCXX_L5_1.clean.fq.gz\n",
      "Approx 75% complete for S736_ZTD16062916_HVNCCCCXX_L5_2.clean.fq.gz\n",
      "Approx 65% complete for S736_ZTD16062916_HVNCCCCXX_L6_1.clean.fq.gz\n",
      "Approx 65% complete for S736_ZTD16062916_HVNCCCCXX_L6_2.clean.fq.gz\n",
      "Approx 55% complete for S736_ZTD16062916_HVNCCCCXX_L1_1.clean.fq.gz\n",
      "Approx 65% complete for S736_ZTD16062916_HVNCCCCXX_L4_1.clean.fq.gz\n",
      "Approx 80% complete for S736_ZTD16062916_HVNCCCCXX_L5_1.clean.fq.gz\n",
      "Approx 65% complete for S736_ZTD16062916_HVNCCCCXX_L4_2.clean.fq.gz\n",
      "Approx 55% complete for S736_ZTD16062916_HVNCCCCXX_L1_2.clean.fq.gz\n",
      "Approx 80% complete for S736_ZTD16062916_HVNCCCCXX_L5_2.clean.fq.gz\n",
      "Approx 70% complete for S736_ZTD16062916_HVNCCCCXX_L6_1.clean.fq.gz\n",
      "Approx 70% complete for S736_ZTD16062916_HVNCCCCXX_L6_2.clean.fq.gz\n",
      "Approx 85% complete for S736_ZTD16062916_HVNCCCCXX_L5_1.clean.fq.gz\n",
      "Approx 70% complete for S736_ZTD16062916_HVNCCCCXX_L4_1.clean.fq.gz\n",
      "Approx 60% complete for S736_ZTD16062916_HVNCCCCXX_L1_1.clean.fq.gz\n",
      "Approx 85% complete for S736_ZTD16062916_HVNCCCCXX_L5_2.clean.fq.gz\n",
      "Approx 70% complete for S736_ZTD16062916_HVNCCCCXX_L4_2.clean.fq.gz\n",
      "Approx 60% complete for S736_ZTD16062916_HVNCCCCXX_L1_2.clean.fq.gz\n",
      "Approx 75% complete for S736_ZTD16062916_HVNCCCCXX_L6_1.clean.fq.gz\n",
      "Approx 90% complete for S736_ZTD16062916_HVNCCCCXX_L5_1.clean.fq.gz\n",
      "Approx 75% complete for S736_ZTD16062916_HVNCCCCXX_L6_2.clean.fq.gz\n",
      "Approx 90% complete for S736_ZTD16062916_HVNCCCCXX_L5_2.clean.fq.gz\n",
      "Approx 75% complete for S736_ZTD16062916_HVNCCCCXX_L4_1.clean.fq.gz\n",
      "Approx 75% complete for S736_ZTD16062916_HVNCCCCXX_L4_2.clean.fq.gz\n",
      "Approx 65% complete for S736_ZTD16062916_HVNCCCCXX_L1_1.clean.fq.gz\n",
      "Approx 95% complete for S736_ZTD16062916_HVNCCCCXX_L5_1.clean.fq.gz\n",
      "Approx 80% complete for S736_ZTD16062916_HVNCCCCXX_L6_1.clean.fq.gz\n",
      "Approx 65% complete for S736_ZTD16062916_HVNCCCCXX_L1_2.clean.fq.gz\n",
      "Approx 95% complete for S736_ZTD16062916_HVNCCCCXX_L5_2.clean.fq.gz\n",
      "Approx 80% complete for S736_ZTD16062916_HVNCCCCXX_L6_2.clean.fq.gz\n",
      "Approx 80% complete for S736_ZTD16062916_HVNCCCCXX_L4_1.clean.fq.gz\n",
      "Approx 80% complete for S736_ZTD16062916_HVNCCCCXX_L4_2.clean.fq.gz\n"
     ]
    },
    {
     "name": "stdout",
     "output_type": "stream",
     "text": [
      "Analysis complete for S736_ZTD16062916_HVNCCCCXX_L5_1.clean.fq.gz\n"
     ]
    },
    {
     "name": "stderr",
     "output_type": "stream",
     "text": [
      "Approx 70% complete for S736_ZTD16062916_HVNCCCCXX_L1_1.clean.fq.gz\n",
      "Started analysis of S736_ZTD16062916_HVNCCCCXX_L7_1.clean.fq.gz\n",
      "Approx 85% complete for S736_ZTD16062916_HVNCCCCXX_L6_1.clean.fq.gz\n"
     ]
    },
    {
     "name": "stdout",
     "output_type": "stream",
     "text": [
      "Analysis complete for S736_ZTD16062916_HVNCCCCXX_L5_2.clean.fq.gz\n"
     ]
    },
    {
     "name": "stderr",
     "output_type": "stream",
     "text": [
      "Started analysis of S736_ZTD16062916_HVNCCCCXX_L7_2.clean.fq.gz\n",
      "Approx 85% complete for S736_ZTD16062916_HVNCCCCXX_L6_2.clean.fq.gz\n",
      "Approx 70% complete for S736_ZTD16062916_HVNCCCCXX_L1_2.clean.fq.gz\n",
      "Approx 85% complete for S736_ZTD16062916_HVNCCCCXX_L4_1.clean.fq.gz\n",
      "Approx 85% complete for S736_ZTD16062916_HVNCCCCXX_L4_2.clean.fq.gz\n",
      "Approx 5% complete for S736_ZTD16062916_HVNCCCCXX_L7_1.clean.fq.gz\n",
      "Approx 90% complete for S736_ZTD16062916_HVNCCCCXX_L6_1.clean.fq.gz\n",
      "Approx 75% complete for S736_ZTD16062916_HVNCCCCXX_L1_1.clean.fq.gz\n",
      "Approx 5% complete for S736_ZTD16062916_HVNCCCCXX_L7_2.clean.fq.gz\n",
      "Approx 90% complete for S736_ZTD16062916_HVNCCCCXX_L6_2.clean.fq.gz\n",
      "Approx 90% complete for S736_ZTD16062916_HVNCCCCXX_L4_1.clean.fq.gz\n",
      "Approx 75% complete for S736_ZTD16062916_HVNCCCCXX_L1_2.clean.fq.gz\n",
      "Approx 90% complete for S736_ZTD16062916_HVNCCCCXX_L4_2.clean.fq.gz\n",
      "Approx 95% complete for S736_ZTD16062916_HVNCCCCXX_L6_1.clean.fq.gz\n",
      "Approx 10% complete for S736_ZTD16062916_HVNCCCCXX_L7_1.clean.fq.gz\n",
      "Approx 95% complete for S736_ZTD16062916_HVNCCCCXX_L6_2.clean.fq.gz\n",
      "Approx 10% complete for S736_ZTD16062916_HVNCCCCXX_L7_2.clean.fq.gz\n",
      "Approx 80% complete for S736_ZTD16062916_HVNCCCCXX_L1_1.clean.fq.gz\n",
      "Approx 95% complete for S736_ZTD16062916_HVNCCCCXX_L4_1.clean.fq.gz\n",
      "Approx 95% complete for S736_ZTD16062916_HVNCCCCXX_L4_2.clean.fq.gz\n",
      "Approx 80% complete for S736_ZTD16062916_HVNCCCCXX_L1_2.clean.fq.gz\n"
     ]
    },
    {
     "name": "stdout",
     "output_type": "stream",
     "text": [
      "Analysis complete for S736_ZTD16062916_HVNCCCCXX_L6_1.clean.fq.gz\n"
     ]
    },
    {
     "name": "stderr",
     "output_type": "stream",
     "text": [
      "Approx 15% complete for S736_ZTD16062916_HVNCCCCXX_L7_1.clean.fq.gz\n"
     ]
    },
    {
     "name": "stdout",
     "output_type": "stream",
     "text": [
      "Analysis complete for S736_ZTD16062916_HVNCCCCXX_L6_2.clean.fq.gz\n"
     ]
    },
    {
     "name": "stderr",
     "output_type": "stream",
     "text": [
      "Approx 15% complete for S736_ZTD16062916_HVNCCCCXX_L7_2.clean.fq.gz\n",
      "Approx 85% complete for S736_ZTD16062916_HVNCCCCXX_L1_1.clean.fq.gz\n"
     ]
    },
    {
     "name": "stdout",
     "output_type": "stream",
     "text": [
      "Analysis complete for S736_ZTD16062916_HVNCCCCXX_L4_1.clean.fq.gz\n",
      "Analysis complete for S736_ZTD16062916_HVNCCCCXX_L4_2.clean.fq.gz\n"
     ]
    },
    {
     "name": "stderr",
     "output_type": "stream",
     "text": [
      "Approx 85% complete for S736_ZTD16062916_HVNCCCCXX_L1_2.clean.fq.gz\n",
      "Approx 20% complete for S736_ZTD16062916_HVNCCCCXX_L7_1.clean.fq.gz\n",
      "Approx 20% complete for S736_ZTD16062916_HVNCCCCXX_L7_2.clean.fq.gz\n",
      "Approx 90% complete for S736_ZTD16062916_HVNCCCCXX_L1_1.clean.fq.gz\n",
      "Approx 25% complete for S736_ZTD16062916_HVNCCCCXX_L7_1.clean.fq.gz\n",
      "Approx 90% complete for S736_ZTD16062916_HVNCCCCXX_L1_2.clean.fq.gz\n",
      "Approx 25% complete for S736_ZTD16062916_HVNCCCCXX_L7_2.clean.fq.gz\n",
      "Approx 95% complete for S736_ZTD16062916_HVNCCCCXX_L1_1.clean.fq.gz\n",
      "Approx 30% complete for S736_ZTD16062916_HVNCCCCXX_L7_1.clean.fq.gz\n",
      "Approx 30% complete for S736_ZTD16062916_HVNCCCCXX_L7_2.clean.fq.gz\n",
      "Approx 95% complete for S736_ZTD16062916_HVNCCCCXX_L1_2.clean.fq.gz\n"
     ]
    },
    {
     "name": "stdout",
     "output_type": "stream",
     "text": [
      "Analysis complete for S736_ZTD16062916_HVNCCCCXX_L1_1.clean.fq.gz\n"
     ]
    },
    {
     "name": "stderr",
     "output_type": "stream",
     "text": [
      "Approx 35% complete for S736_ZTD16062916_HVNCCCCXX_L7_1.clean.fq.gz\n",
      "Approx 35% complete for S736_ZTD16062916_HVNCCCCXX_L7_2.clean.fq.gz\n"
     ]
    },
    {
     "name": "stdout",
     "output_type": "stream",
     "text": [
      "Analysis complete for S736_ZTD16062916_HVNCCCCXX_L1_2.clean.fq.gz\n"
     ]
    },
    {
     "name": "stderr",
     "output_type": "stream",
     "text": [
      "Approx 40% complete for S736_ZTD16062916_HVNCCCCXX_L7_1.clean.fq.gz\n",
      "Approx 40% complete for S736_ZTD16062916_HVNCCCCXX_L7_2.clean.fq.gz\n",
      "Approx 45% complete for S736_ZTD16062916_HVNCCCCXX_L7_1.clean.fq.gz\n",
      "Approx 45% complete for S736_ZTD16062916_HVNCCCCXX_L7_2.clean.fq.gz\n",
      "Approx 50% complete for S736_ZTD16062916_HVNCCCCXX_L7_1.clean.fq.gz\n",
      "Approx 50% complete for S736_ZTD16062916_HVNCCCCXX_L7_2.clean.fq.gz\n",
      "Approx 55% complete for S736_ZTD16062916_HVNCCCCXX_L7_1.clean.fq.gz\n",
      "Approx 55% complete for S736_ZTD16062916_HVNCCCCXX_L7_2.clean.fq.gz\n",
      "Approx 60% complete for S736_ZTD16062916_HVNCCCCXX_L7_1.clean.fq.gz\n",
      "Approx 60% complete for S736_ZTD16062916_HVNCCCCXX_L7_2.clean.fq.gz\n",
      "Approx 65% complete for S736_ZTD16062916_HVNCCCCXX_L7_1.clean.fq.gz\n",
      "Approx 65% complete for S736_ZTD16062916_HVNCCCCXX_L7_2.clean.fq.gz\n",
      "Approx 70% complete for S736_ZTD16062916_HVNCCCCXX_L7_1.clean.fq.gz\n",
      "Approx 70% complete for S736_ZTD16062916_HVNCCCCXX_L7_2.clean.fq.gz\n",
      "Approx 75% complete for S736_ZTD16062916_HVNCCCCXX_L7_1.clean.fq.gz\n",
      "Approx 75% complete for S736_ZTD16062916_HVNCCCCXX_L7_2.clean.fq.gz\n",
      "Approx 80% complete for S736_ZTD16062916_HVNCCCCXX_L7_1.clean.fq.gz\n",
      "Approx 80% complete for S736_ZTD16062916_HVNCCCCXX_L7_2.clean.fq.gz\n",
      "Approx 85% complete for S736_ZTD16062916_HVNCCCCXX_L7_1.clean.fq.gz\n",
      "Approx 85% complete for S736_ZTD16062916_HVNCCCCXX_L7_2.clean.fq.gz\n",
      "Approx 90% complete for S736_ZTD16062916_HVNCCCCXX_L7_1.clean.fq.gz\n",
      "Approx 90% complete for S736_ZTD16062916_HVNCCCCXX_L7_2.clean.fq.gz\n",
      "Approx 95% complete for S736_ZTD16062916_HVNCCCCXX_L7_1.clean.fq.gz\n",
      "Approx 95% complete for S736_ZTD16062916_HVNCCCCXX_L7_2.clean.fq.gz\n"
     ]
    },
    {
     "name": "stdout",
     "output_type": "stream",
     "text": [
      "Analysis complete for S736_ZTD16062916_HVNCCCCXX_L7_1.clean.fq.gz\n",
      "Analysis complete for S736_ZTD16062916_HVNCCCCXX_L7_2.clean.fq.gz\n",
      "(2020-12-22T04:34:08.714) Done in 38 minutes, 25 seconds, 314 milliseconds.\n"
     ]
    }
   ],
   "source": [
    "ProcessSequence.check_sequence(\n",
    "    Tuple(read_file_paths),\n",
    "    joinpath(output_dir, string(\"check_sequence_\", sample_name, \"_raw\", \"_clean\")),\n",
    "    project_json[\"n_job\"],\n",
    ")"
   ]
  },
  {
   "cell_type": "markdown",
   "metadata": {},
   "source": [
    "## Run MultiQC\n",
    "\n",
    "Not necessary if fastq files came from same lane and same sequencing run. The more complex the production of the reads was, the more useful MultiQC will be to identify potential lane or batch biases."
   ]
  },
  {
   "cell_type": "code",
   "execution_count": 15,
   "metadata": {},
   "outputs": [
    {
     "name": "stdout",
     "output_type": "stream",
     "text": [
      "`\u001b[4mmultiqc\u001b[24m \u001b[4m--outdir\u001b[24m \u001b[4m/home/jovyan/ProcessSequence.jl/output/check_sequence_736\u001b[24m \u001b[4m/home/jovyan/ProcessSequence.jl/output/check_sequence_736\u001b[24m`\n"
     ]
    },
    {
     "name": "stderr",
     "output_type": "stream",
     "text": [
      "[INFO   ]         multiqc : This is MultiQC v1.9\n",
      "[INFO   ]         multiqc : Template    : default\n",
      "[INFO   ]         multiqc : Searching   : /home/jovyan/ProcessSequence.jl/output/check_sequence_736\n",
      "[INFO   ]          fastqc : Found 6 reports\n",
      "[INFO   ]         multiqc : Compressing plot data\n",
      "[WARNING]         multiqc : Previous MultiQC output found! Adjusting filenames..\n",
      "[WARNING]         multiqc : Use -f or --force to overwrite existing reports instead\n",
      "[INFO   ]         multiqc : Report      : ../output/check_sequence_736/multiqc_report_1.html\n",
      "[INFO   ]         multiqc : Data        : ../output/check_sequence_736/multiqc_data_1\n",
      "[INFO   ]         multiqc : MultiQC complete\n"
     ]
    },
    {
     "name": "stdout",
     "output_type": "stream",
     "text": [
      "\n",
      "Done at: 2020-12-22T07:33:25.569\n",
      "\n",
      "Took 10 seconds, 69 milliseconds.\n",
      "\n"
     ]
    }
   ],
   "source": [
    "ProcessSequence.check_sequence_bias(sample_name, output_dir)"
   ]
  },
  {
   "cell_type": "markdown",
   "metadata": {},
   "source": [
    "## Concatenate reads of same strand"
   ]
  },
  {
   "cell_type": "code",
   "execution_count": 16,
   "metadata": {},
   "outputs": [
    {
     "name": "stdout",
     "output_type": "stream",
     "text": [
      "Number of forward (R1) read files = 5\n",
      "\n",
      "Number of reverse (R2) read files = 5\n",
      "\n",
      "\n",
      "Combining R1 reads\n",
      "\n",
      "\n",
      "Combining R2 reads\n",
      "\n",
      "\n",
      "Done at: 2020-12-22T07:44:44.58\n",
      "\n",
      "Took 11 minutes, 18 seconds, 897 milliseconds.\n",
      "\n"
     ]
    }
   ],
   "source": [
    "ProcessSequence.concatenate_reads(read_file_paths, sample_name, input_dir)"
   ]
  },
  {
   "cell_type": "markdown",
   "metadata": {},
   "source": [
    "## Run FastQC"
   ]
  },
  {
   "cell_type": "code",
   "execution_count": 17,
   "metadata": {},
   "outputs": [
    {
     "name": "stdout",
     "output_type": "stream",
     "text": [
      "(2020-12-22T07:56:16.943) Checking sequence ...\n",
      "`\u001b[4mfastqc\u001b[24m \u001b[4m--threads\u001b[24m \u001b[4m2\u001b[24m \u001b[4m--outdir\u001b[24m \u001b[4m/home/jovyan/ProcessSequence.jl/output/check_sequence_736_cat\u001b[24m \u001b[4m/home/jovyan/ProcessSequence.jl/input/736_cat/736_R1.fastq.gz\u001b[24m \u001b[4m/home/jovyan/ProcessSequence.jl/input/736_cat/736_R2.fastq.gz\u001b[24m`\n"
     ]
    },
    {
     "name": "stderr",
     "output_type": "stream",
     "text": [
      "Started analysis of 736_R1.fastq.gz\n",
      "Started analysis of 736_R2.fastq.gz\n",
      "Approx 5% complete for 736_R1.fastq.gz\n",
      "Approx 5% complete for 736_R2.fastq.gz\n",
      "Approx 10% complete for 736_R1.fastq.gz\n",
      "Approx 10% complete for 736_R2.fastq.gz\n",
      "Approx 15% complete for 736_R1.fastq.gz\n",
      "Approx 15% complete for 736_R2.fastq.gz\n",
      "Approx 20% complete for 736_R1.fastq.gz\n",
      "Approx 20% complete for 736_R2.fastq.gz\n",
      "Approx 25% complete for 736_R1.fastq.gz\n",
      "Approx 25% complete for 736_R2.fastq.gz\n",
      "Approx 30% complete for 736_R1.fastq.gz\n",
      "Approx 30% complete for 736_R2.fastq.gz\n",
      "Approx 35% complete for 736_R1.fastq.gz\n",
      "Approx 35% complete for 736_R2.fastq.gz\n",
      "Approx 40% complete for 736_R1.fastq.gz\n",
      "Approx 40% complete for 736_R2.fastq.gz\n",
      "Approx 45% complete for 736_R1.fastq.gz\n",
      "Approx 45% complete for 736_R2.fastq.gz\n",
      "Approx 50% complete for 736_R1.fastq.gz\n",
      "Approx 50% complete for 736_R2.fastq.gz\n",
      "Approx 55% complete for 736_R1.fastq.gz\n",
      "Approx 55% complete for 736_R2.fastq.gz\n",
      "Approx 60% complete for 736_R1.fastq.gz\n",
      "Approx 60% complete for 736_R2.fastq.gz\n",
      "Approx 65% complete for 736_R1.fastq.gz\n",
      "Approx 65% complete for 736_R2.fastq.gz\n",
      "Approx 70% complete for 736_R1.fastq.gz\n",
      "Approx 70% complete for 736_R2.fastq.gz\n",
      "Approx 75% complete for 736_R1.fastq.gz\n",
      "Approx 75% complete for 736_R2.fastq.gz\n",
      "Approx 80% complete for 736_R1.fastq.gz\n",
      "Approx 80% complete for 736_R2.fastq.gz\n",
      "Approx 85% complete for 736_R1.fastq.gz\n",
      "Approx 85% complete for 736_R2.fastq.gz\n",
      "Approx 90% complete for 736_R1.fastq.gz\n",
      "Approx 90% complete for 736_R2.fastq.gz\n",
      "Approx 95% complete for 736_R1.fastq.gz\n",
      "Approx 95% complete for 736_R2.fastq.gz\n"
     ]
    },
    {
     "name": "stdout",
     "output_type": "stream",
     "text": [
      "Analysis complete for 736_R1.fastq.gz\n",
      "Analysis complete for 736_R2.fastq.gz\n",
      "(2020-12-23T04:26:09.884) Done in 20 hours, 29 minutes, 52 seconds, 941 milliseconds.\n"
     ]
    }
   ],
   "source": [
    "sample_cat_input_dir = joinpath(input_dir, string(sample_name, \"_cat\"))\n",
    "\n",
    "sample_cat_output_dir = joinpath(output_dir, string(\"check_sequence_\", sample_name, \"_cat\"))\n",
    "\n",
    "if ispath(sample_cat_input_dir)\n",
    "\n",
    "    ProcessSequence.check_sequence(\n",
    "        Tuple((\n",
    "            joinpath(sample_cat_input_dir, string(sample_name, \"_R1.fastq.gz\")),\n",
    "            joinpath(sample_cat_input_dir, string(sample_name, \"_R2.fastq.gz\")),\n",
    "        )),\n",
    "        sample_cat_output_dir,\n",
    "        project_json[\"n_job\"],\n",
    "    )\n",
    "    \n",
    "else\n",
    "    \n",
    "    println(\"Reads weren't concatenated, no need to run FASTQC again.\")\n",
    "    \n",
    "end"
   ]
  },
  {
   "cell_type": "code",
   "execution_count": null,
   "metadata": {},
   "outputs": [],
   "source": []
  }
 ],
 "metadata": {
  "@webio": {
   "lastCommId": null,
   "lastKernelId": null
  },
  "kernelspec": {
   "display_name": "Julia 1.5.2",
   "language": "julia",
   "name": "julia-1.5"
  },
  "language_info": {
   "file_extension": ".jl",
   "mimetype": "application/julia",
   "name": "julia",
   "version": "1.5.2"
  }
 },
 "nbformat": 4,
 "nbformat_minor": 4
}
