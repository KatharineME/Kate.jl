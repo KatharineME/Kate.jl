{
 "cells": [
  {
   "cell_type": "code",
   "execution_count": 2,
   "metadata": {},
   "outputs": [
    {
     "data": {
      "text/plain": [
       "Main.ProcessSequence"
      ]
     },
     "execution_count": 2,
     "metadata": {},
     "output_type": "execute_result"
    }
   ],
   "source": [
    "include(\"../src/ProcessSequence.jl\")"
   ]
  },
  {
   "cell_type": "code",
   "execution_count": 9,
   "metadata": {},
   "outputs": [
    {
     "name": "stderr",
     "output_type": "stream",
     "text": [
      "WARNING: ignoring conflicting import of JSON.parse into Main\n"
     ]
    },
    {
     "ename": "LoadError",
     "evalue": "MethodError: no method matching parse(::String)\nClosest candidates are:\n  parse(!Matched::Type{T}, !Matched::AbstractChar; base) where T<:Integer at parse.jl:40\n  parse(!Matched::Type{T}, !Matched::AbstractString; base) where T<:Integer at parse.jl:237\n  parse(!Matched::Type{T}, !Matched::AbstractString; kwargs...) where T<:Real at parse.jl:376\n  ...",
     "output_type": "error",
     "traceback": [
      "MethodError: no method matching parse(::String)\nClosest candidates are:\n  parse(!Matched::Type{T}, !Matched::AbstractChar; base) where T<:Integer at parse.jl:40\n  parse(!Matched::Type{T}, !Matched::AbstractString; base) where T<:Integer at parse.jl:237\n  parse(!Matched::Type{T}, !Matched::AbstractString; kwargs...) where T<:Real at parse.jl:376\n  ...",
      "",
      "Stacktrace:",
      " [1] top-level scope at In[9]:5",
      " [2] include_string(::Function, ::Module, ::String, ::String) at ./loading.jl:1091"
     ]
    }
   ],
   "source": [
    "project_dir = dirname(@__DIR__)\n",
    "\n",
    "using JSON: parse\n",
    "\n",
    "project_json = parse(read(joinpath(project_dir, \"project.json\"), String))\n",
    "\n",
    "sample_name = project_json[\"sample_name\"]\n",
    "\n",
    "output_dir = joinpath(project_dir, \"output\")\n",
    "input_dir = joinpath(project_dir, \"input\")\n",
    "sample_dir = joinpath(input_dir, sample_name)"
   ]
  },
  {
   "cell_type": "markdown",
   "metadata": {},
   "source": [
    "## Gather raw reads"
   ]
  },
  {
   "cell_type": "code",
   "execution_count": 36,
   "metadata": {},
   "outputs": [
    {
     "data": {
      "text/plain": [
       "find_reads (generic function with 1 method)"
      ]
     },
     "execution_count": 36,
     "metadata": {},
     "output_type": "execute_result"
    }
   ],
   "source": [
    "using Dates\n",
    "\n",
    "function find_reads(sample_dir::String)\n",
    "    \n",
    "    start_time = now()\n",
    "    \n",
    "    number_of_fastq_files = 0\n",
    "    number_of_fastq_gz_files = 0\n",
    "    fastq_files_to_check = []\n",
    "    \n",
    "    println(\"Walking sample directory...\\n\")\n",
    "\n",
    "    for (root, dirs, files) in walkdir(\"$sample_dir\")\n",
    "        \n",
    "        println(\"$root\\n\")\n",
    "        \n",
    "        for file in files\n",
    "            if occursin(\".fastq\", file)\n",
    "                number_of_fastq_files += 1\n",
    "            end\n",
    "            if occursin(\"fastq.gz\", file)\n",
    "                number_of_fastq_gz_files += 1\n",
    "                push!(fastq_files_to_check, joinpath(root, file))\n",
    "            end\n",
    "            if occursin(\"fq.gz\", file)\n",
    "                number_of_fastq_gz_files += 1\n",
    "                push!(fastq_files_to_check, joinpath(root, file))\n",
    "            end\n",
    "        end\n",
    "    end\n",
    "\n",
    "    println(\"\\nNumber of fastq files found in directories walked: $number_of_fastq_files\\n\")\n",
    "\n",
    "    println(\"Number of fastq.gz or fq.gz files found in directories walked: $number_of_fastq_gz_files\\n\")\n",
    "\n",
    "    println(string(\"Number of fastq.gz or fq.gz files to be checked: \", length(fastq_files_to_check)))\n",
    "    \n",
    "    end_time = now()\n",
    "    \n",
    "    println(\"\\nDone at: $end_time\\n\")\n",
    "    \n",
    "    println(\"Took $(canonicalize(Dates.CompoundPeriod(end_time - start_time))).\\n\")\n",
    "    \n",
    "    return fastq_files_to_check\n",
    "    \n",
    "end"
   ]
  },
  {
   "cell_type": "code",
   "execution_count": 37,
   "metadata": {},
   "outputs": [
    {
     "name": "stdout",
     "output_type": "stream",
     "text": [
      "Walking sample directory...\n",
      "\n",
      "../input/1004/\n",
      "\n",
      "../input/1004/G1004_CSFP200000023-2a_H52MHDSXY_L4_1_fastqc\n",
      "\n",
      "../input/1004/G1004_CSFP200000023-2a_H52MHDSXY_L4_1_fastqc/Icons\n",
      "\n",
      "../input/1004/G1004_CSFP200000023-2a_H52MHDSXY_L4_1_fastqc/Images\n",
      "\n",
      "\n",
      "Number of fastq files found in directories walked: 0\n",
      "\n",
      "Number of fastq.gz or fq.gz files found in directories walked: 2\n",
      "\n",
      "Number of fastq.gz or fq.gz files to be checked: 2\n",
      "\n",
      "Done at: 2020-12-08T07:51:20.11\n",
      "\n",
      "Took 3 milliseconds.\n",
      "\n"
     ]
    },
    {
     "data": {
      "text/plain": [
       "2-element Array{Any,1}:\n",
       " \"../input/1004/G1004_CSFP200000023-2a_H52MHDSXY_L4_1.fq.gz\"\n",
       " \"../input/1004/G1004_CSFP200000023-2a_H52MHDSXY_L4_2.fq.gz\""
      ]
     },
     "execution_count": 37,
     "metadata": {},
     "output_type": "execute_result"
    }
   ],
   "source": [
    "reads = find_reads(\"../input/1004/\")"
   ]
  },
  {
   "cell_type": "code",
   "execution_count": 29,
   "metadata": {},
   "outputs": [
    {
     "data": {
      "text/plain": [
       "2-element Array{Any,1}:\n",
       " \"../input/1004/G1004_CSFP200000023-2a_H52MHDSXY_L4_1.fq.gz\"\n",
       " \"../input/1004/G1004_CSFP200000023-2a_H52MHDSXY_L4_2.fq.gz\""
      ]
     },
     "execution_count": 29,
     "metadata": {},
     "output_type": "execute_result"
    }
   ],
   "source": []
  },
  {
   "cell_type": "code",
   "execution_count": 3,
   "metadata": {},
   "outputs": [
    {
     "name": "stdout",
     "output_type": "stream",
     "text": [
      "Walking sample directories ...\n",
      "\n",
      "/home/jovyan/ProcessSequence.jl/input/1004\n",
      "/home/jovyan/ProcessSequence.jl/input/1004/G1004_CSFP200000023-2a_H52MHDSXY_L4_1_fastqc\n",
      "/home/jovyan/ProcessSequence.jl/input/1004/G1004_CSFP200000023-2a_H52MHDSXY_L4_1_fastqc/Icons\n",
      "/home/jovyan/ProcessSequence.jl/input/1004/G1004_CSFP200000023-2a_H52MHDSXY_L4_1_fastqc/Images\n",
      "\n",
      "Number of fastq files found in directories walked: 0\n",
      "\n",
      "Number of fastq.gz or fq.gz files found in directories walked: 2\n",
      "\n",
      "Number of fastq.gz or fq.gz files to be checked: 2\n"
     ]
    }
   ],
   "source": [
    "number_of_fastq_files = 0\n",
    "number_of_fastq_gz_files = 0\n",
    "fastq_files_to_check = []\n",
    "\n",
    "println(\"Walking sample directories ...\\n\")\n",
    "\n",
    "for (root, dirs, files) in walkdir(\"$sample_dir\")\n",
    "    println(\"$root\")\n",
    "    for file in files\n",
    "        if occursin(\".fastq\", file)\n",
    "            number_of_fastq_files += 1\n",
    "        end\n",
    "        if occursin(\"fastq.gz\", file)\n",
    "            number_of_fastq_gz_files += 1\n",
    "            push!(fastq_files_to_check, joinpath(root, file))\n",
    "        end\n",
    "        if occursin(\"fq.gz\", file)\n",
    "            number_of_fastq_gz_files += 1\n",
    "            push!(fastq_files_to_check, joinpath(root, file))\n",
    "        end\n",
    "    end\n",
    "\n",
    "println(\"\\nNumber of fastq files found in directories walked: $number_of_fastq_files\\n\")\n",
    "\n",
    "println(\"Number of fastq.gz or fq.gz files found in directories walked: $number_of_fastq_gz_files\\n\")\n",
    "\n",
    "println(string(\"Number of fastq.gz or fq.gz files to be checked: \", length(fastq_files_to_check)))\n",
    "    "
   ]
  },
  {
   "cell_type": "markdown",
   "metadata": {},
   "source": [
    "## Run FastQC"
   ]
  },
  {
   "cell_type": "code",
   "execution_count": 4,
   "metadata": {},
   "outputs": [
    {
     "name": "stdout",
     "output_type": "stream",
     "text": [
      "Skipping check sequence because check sequence directory already exists:\n",
      " /home/jovyan/ProcessSequence.jl/output/check_sequence_1004\n",
      "\n"
     ]
    }
   ],
   "source": [
    "using Dates\n",
    "\n",
    "ProcessSequence.check_sequence(\n",
    "    Tuple(fastq_files_to_check),\n",
    "    joinpath(output_dir, string(\"check_sequence_\", sample_name)),\n",
    "    project_json[\"n_job\"],\n",
    ")"
   ]
  },
  {
   "cell_type": "markdown",
   "metadata": {},
   "source": [
    "## Run MultiQC"
   ]
  },
  {
   "cell_type": "code",
   "execution_count": 5,
   "metadata": {},
   "outputs": [
    {
     "name": "stdout",
     "output_type": "stream",
     "text": [
      "`\u001b[4mmultiqc\u001b[24m \u001b[4m--outdir\u001b[24m \u001b[4m/home/jovyan/ProcessSequence.jl/output/check_sequence_1004\u001b[24m \u001b[4m/home/jovyan/ProcessSequence.jl/output/check_sequence_1004\u001b[24m`\n"
     ]
    },
    {
     "name": "stderr",
     "output_type": "stream",
     "text": [
      "[INFO   ]         multiqc : This is MultiQC v1.9\n",
      "[INFO   ]         multiqc : Template    : default\n",
      "[INFO   ]         multiqc : Searching   : /home/jovyan/ProcessSequence.jl/output/check_sequence_1004\n",
      "[INFO   ]          fastqc : Found 2 reports\n",
      "[INFO   ]         multiqc : Compressing plot data\n",
      "[WARNING]         multiqc : Previous MultiQC output found! Adjusting filenames..\n",
      "[WARNING]         multiqc : Use -f or --force to overwrite existing reports instead\n",
      "[INFO   ]         multiqc : Report      : ../output/check_sequence_1004/multiqc_report_1.html\n",
      "[INFO   ]         multiqc : Data        : ../output/check_sequence_1004/multiqc_data_1\n",
      "[INFO   ]         multiqc : MultiQC complete\n"
     ]
    },
    {
     "data": {
      "text/plain": [
       "Process(`\u001b[4mmultiqc\u001b[24m \u001b[4m--outdir\u001b[24m \u001b[4m/home/jovyan/ProcessSequence.jl/output/check_sequence_1004\u001b[24m \u001b[4m/home/jovyan/ProcessSequence.jl/output/check_sequence_1004\u001b[24m`, ProcessExited(0))"
      ]
     },
     "execution_count": 5,
     "metadata": {},
     "output_type": "execute_result"
    }
   ],
   "source": [
    "check_sequence_directory = joinpath(output_dir, string(\"check_sequence_\", sample_name))\n",
    "\n",
    "ProcessSequence.print_and_run_cmd(`multiqc --outdir $check_sequence_directory $check_sequence_directory`)"
   ]
  },
  {
   "cell_type": "markdown",
   "metadata": {},
   "source": [
    "## Concatenate reads of same strand"
   ]
  },
  {
   "cell_type": "code",
   "execution_count": 10,
   "metadata": {
    "collapsed": true,
    "jupyter": {
     "outputs_hidden": true
    }
   },
   "outputs": [
    {
     "name": "stdout",
     "output_type": "stream",
     "text": [
      "Number of Forward Reads = 133\n",
      "\n",
      "Number of Reverse Reads = 133\n",
      "\n",
      "Combining R1 Reads\n",
      "\n",
      "pipeline(`\u001b[4mcat\u001b[24m \u001b[4m/Users/kate/github/omics_sample_benchmark/input/HG002/140528_D00360_0018_AH8VC6ADXX/Project_RM8391_RM8392/Sample_2A1/2A1_CGATGT_L001_R1_001.fastq.gz\u001b[24m \u001b[4m/Users/kate/github/omics_sample_benchmark/input/HG002/140528_D00360_0018_AH8VC6ADXX/Project_RM8391_RM8392/Sample_2A1/2A1_CGATGT_L001_R1_002.fastq.gz\u001b[24m \u001b[4m/Users/kate/github/omics_sample_benchmark/input/HG002/140528_D00360_0018_AH8VC6ADXX/Project_RM8391_RM8392/Sample_2A1/2A1_CGATGT_L002_R1_001.fastq.gz\u001b[24m \u001b[4m/Users/kate/github/omics_sample_benchmark/input/HG002/140528_D00360_0018_AH8VC6ADXX/Project_RM8391_RM8392/Sample_2A1/2A1_CGATGT_L002_R1_002.fastq.gz\u001b[24m \u001b[4m/Users/kate/github/omics_sample_benchmark/input/HG002/140528_D00360_0018_AH8VC6ADXX/Project_RM8391_RM8392/Sample_2A2/2A2_TGACCA_L001_R1_001.fastq.gz\u001b[24m \u001b[4m/Users/kate/github/omics_sample_benchmark/input/HG002/140528_D00360_0018_AH8VC6ADXX/Project_RM8391_RM8392/Sample_2A2/2A2_TGACCA_L001_R1_002.fastq.gz\u001b[24m \u001b[4m/Users/kate/github/omics_sample_benchmark/input/HG002/140528_D00360_0018_AH8VC6ADXX/Project_RM8391_RM8392/Sample_2A2/2A2_TGACCA_L002_R1_001.fastq.gz\u001b[24m \u001b[4m/Users/kate/github/omics_sample_benchmark/input/HG002/140528_D00360_0018_AH8VC6ADXX/Project_RM8391_RM8392/Sample_2A2/2A2_TGACCA_L002_R1_002.fastq.gz\u001b[24m \u001b[4m/Users/kate/github/omics_sample_benchmark/input/HG002/140528_D00360_0018_AH8VC6ADXX/Project_RM8391_RM8392/Sample_2B1/2B1_CAGATC_L001_R1_001.fastq.gz\u001b[24m \u001b[4m/Users/kate/github/omics_sample_benchmark/input/HG002/140528_D00360_0018_AH8VC6ADXX/Project_RM8391_RM8392/Sample_2B1/2B1_CAGATC_L001_R1_002.fastq.gz\u001b[24m \u001b[4m/Users/kate/github/omics_sample_benchmark/input/HG002/140528_D00360_0018_AH8VC6ADXX/Project_RM8391_RM8392/Sample_2B1/2B1_CAGATC_L002_R1_001.fastq.gz\u001b[24m \u001b[4m/Users/kate/github/omics_sample_benchmark/input/HG002/140528_D00360_0018_AH8VC6ADXX/Project_RM8391_RM8392/Sample_2B1/2B1_CAGATC_L002_R1_002.fastq.gz\u001b[24m \u001b[4m/Users/kate/github/omics_sample_benchmark/input/HG002/140528_D00360_0018_AH8VC6ADXX/Project_RM8391_RM8392/Sample_2B2/2B2_CCGTCC_L001_R1_001.fastq.gz\u001b[24m \u001b[4m/Users/kate/github/omics_sample_benchmark/input/HG002/140528_D00360_0018_AH8VC6ADXX/Project_RM8391_RM8392/Sample_2B2/2B2_CCGTCC_L001_R1_002.fastq.gz\u001b[24m \u001b[4m/Users/kate/github/omics_sample_benchmark/input/HG002/140528_D00360_0018_AH8VC6ADXX/Project_RM8391_RM8392/Sample_2B2/2B2_CCGTCC_L002_R1_001.fastq.gz\u001b[24m \u001b[4m/Users/kate/github/omics_sample_benchmark/input/HG002/140528_D00360_0018_AH8VC6ADXX/Project_RM8391_RM8392/Sample_2B2/2B2_CCGTCC_L002_R1_002.fastq.gz\u001b[24m \u001b[4m/Users/kate/github/omics_sample_benchmark/input/HG002/140528_D00360_0018_AH8VC6ADXX/Project_RM8391_RM8392/Sample_2C1/2C1_AGTCAA_L001_R1_001.fastq.gz\u001b[24m \u001b[4m/Users/kate/github/omics_sample_benchmark/input/HG002/140528_D00360_0018_AH8VC6ADXX/Project_RM8391_RM8392/Sample_2C1/2C1_AGTCAA_L001_R1_002.fastq.gz\u001b[24m \u001b[4m/Users/kate/github/omics_sample_benchmark/input/HG002/140528_D00360_0018_AH8VC6ADXX/Project_RM8391_RM8392/Sample_2C1/2C1_AGTCAA_L002_R1_001.fastq.gz\u001b[24m \u001b[4m/Users/kate/github/omics_sample_benchmark/input/HG002/140528_D00360_0018_AH8VC6ADXX/Project_RM8391_RM8392/Sample_2C1/2C1_AGTCAA_L002_R1_002.fastq.gz\u001b[24m \u001b[4m/Users/kate/github/omics_sample_benchmark/input/HG002/140528_D00360_0018_AH8VC6ADXX/Project_RM8391_RM8392/Sample_2C2/2C2_AGTTCC_L001_R1_001.fastq.gz\u001b[24m \u001b[4m/Users/kate/github/omics_sample_benchmark/input/HG002/140528_D00360_0018_AH8VC6ADXX/Project_RM8391_RM8392/Sample_2C2/2C2_AGTTCC_L002_R1_001.fastq.gz\u001b[24m \u001b[4m/Users/kate/github/omics_sample_benchmark/input/HG002/140528_D00360_0018_AH8VC6ADXX/Project_RM8391_RM8392/Sample_2C2/2C2_AGTTCC_L002_R1_002.fastq.gz\u001b[24m \u001b[4m/Users/kate/github/omics_sample_benchmark/input/HG002/140528_D00360_0018_AH8VC6ADXX/Project_RM8391_RM8392/Sample_2D1/2D1_ATGTCA_L001_R1_001.fastq.gz\u001b[24m \u001b[4m/Users/kate/github/omics_sample_benchmark/input/HG002/140528_D00360_0018_AH8VC6ADXX/Project_RM8391_RM8392/Sample_2D1/2D1_ATGTCA_L001_R1_002.fastq.gz\u001b[24m \u001b[4m/Users/kate/github/omics_sample_benchmark/input/HG002/140528_D00360_0018_AH8VC6ADXX/Project_RM8391_RM8392/Sample_2D1/2D1_ATGTCA_L002_R1_001.fastq.gz\u001b[24m \u001b[4m/Users/kate/github/omics_sample_benchmark/input/HG002/140528_D00360_0018_AH8VC6ADXX/Project_RM8391_RM8392/Sample_2D1/2D1_ATGTCA_L002_R1_002.fastq.gz\u001b[24m \u001b[4m/Users/kate/github/omics_sample_benchmark/input/HG002/140528_D00360_0018_AH8VC6ADXX/Project_RM8391_RM8392/Sample_2D2/2D2_GTCCGC_L001_R1_001.fastq.gz\u001b[24m \u001b[4m/Users/kate/github/omics_sample_benchmark/input/HG002/140528_D00360_0018_AH8VC6ADXX/Project_RM8391_RM8392/Sample_2D2/2D2_GTCCGC_L001_R1_002.fastq.gz\u001b[24m \u001b[4m/Users/kate/github/omics_sample_benchmark/input/HG002/140528_D00360_0018_AH8VC6ADXX/Project_RM8391_RM8392/Sample_2D2/2D2_GTCCGC_L002_R1_001.fastq.gz\u001b[24m \u001b[4m/Users/kate/github/omics_sample_benchmark/input/HG002/140528_D00360_0018_AH8VC6ADXX/Project_RM8391_RM8392/Sample_2D2/2D2_GTCCGC_L002_R1_002.fastq.gz\u001b[24m \u001b[4m/Users/kate/github/omics_sample_benchmark/input/HG002/140528_D00360_0018_AH8VC6ADXX/Project_RM8391_RM8392/Sample_2F1/2F1_ACAGTG_L001_R1_001.fastq.gz\u001b[24m \u001b[4m/Users/kate/github/omics_sample_benchmark/input/HG002/140528_D00360_0018_AH8VC6ADXX/Project_RM8391_RM8392/Sample_2F1/2F1_ACAGTG_L001_R1_002.fastq.gz\u001b[24m \u001b[4m/Users/kate/github/omics_sample_benchmark/input/HG002/140528_D00360_0018_AH8VC6ADXX/Project_RM8391_RM8392/Sample_2F1/2F1_ACAGTG_L001_R1_003.fastq.gz\u001b[24m \u001b[4m/Users/kate/github/omics_sample_benchmark/input/HG002/140528_D00360_0018_AH8VC6ADXX/Project_RM8391_RM8392/Sample_2F1/2F1_ACAGTG_L001_R1_004.fastq.gz\u001b[24m \u001b[4m/Users/kate/github/omics_sample_benchmark/input/HG002/140528_D00360_0018_AH8VC6ADXX/Project_RM8391_RM8392/Sample_2F1/2F1_ACAGTG_L001_R1_005.fastq.gz\u001b[24m \u001b[4m/Users/kate/github/omics_sample_benchmark/input/HG002/140528_D00360_0018_AH8VC6ADXX/Project_RM8391_RM8392/Sample_2F1/2F1_ACAGTG_L001_R1_006.fastq.gz\u001b[24m \u001b[4m/Users/kate/github/omics_sample_benchmark/input/HG002/140528_D00360_0018_AH8VC6ADXX/Project_RM8391_RM8392/Sample_2F1/2F1_ACAGTG_L002_R1_001.fastq.gz\u001b[24m \u001b[4m/Users/kate/github/omics_sample_benchmark/input/HG002/140528_D00360_0018_AH8VC6ADXX/Project_RM8391_RM8392/Sample_2F1/2F1_ACAGTG_L002_R1_002.fastq.gz\u001b[24m \u001b[4m/Users/kate/github/omics_sample_benchmark/input/HG002/140528_D00360_0018_AH8VC6ADXX/Project_RM8391_RM8392/Sample_2F1/2F1_ACAGTG_L002_R1_003.fastq.gz\u001b[24m \u001b[4m/Users/kate/github/omics_sample_benchmark/input/HG002/140528_D00360_0018_AH8VC6ADXX/Project_RM8391_RM8392/Sample_2F1/2F1_ACAGTG_L002_R1_004.fastq.gz\u001b[24m \u001b[4m/Users/kate/github/omics_sample_benchmark/input/HG002/140528_D00360_0018_AH8VC6ADXX/Project_RM8391_RM8392/Sample_2F1/2F1_ACAGTG_L002_R1_005.fastq.gz\u001b[24m \u001b[4m/Users/kate/github/omics_sample_benchmark/input/HG002/140528_D00360_0018_AH8VC6ADXX/Project_RM8391_RM8392/Sample_2F1/2F1_ACAGTG_L002_R1_006.fastq.gz\u001b[24m \u001b[4m/Users/kate/github/omics_sample_benchmark/input/HG002/140528_D00360_0018_AH8VC6ADXX/Project_RM8391_RM8392/Sample_2F2/2F2_GCCAAT_L001_R1_001.fastq.gz\u001b[24m \u001b[4m/Users/kate/github/omics_sample_benchmark/input/HG002/140528_D00360_0018_AH8VC6ADXX/Project_RM8391_RM8392/Sample_2F2/2F2_GCCAAT_L001_R1_002.fastq.gz\u001b[24m \u001b[4m/Users/kate/github/omics_sample_benchmark/input/HG002/140528_D00360_0018_AH8VC6ADXX/Project_RM8391_RM8392/Sample_2F2/2F2_GCCAAT_L001_R1_003.fastq.gz\u001b[24m \u001b[4m/Users/kate/github/omics_sample_benchmark/input/HG002/140528_D00360_0018_AH8VC6ADXX/Project_RM8391_RM8392/Sample_2F2/2F2_GCCAAT_L001_R1_004.fastq.gz\u001b[24m \u001b[4m/Users/kate/github/omics_sample_benchmark/input/HG002/140528_D00360_0018_AH8VC6ADXX/Project_RM8391_RM8392/Sample_2F2/2F2_GCCAAT_L001_R1_005.fastq.gz\u001b[24m \u001b[4m/Users/kate/github/omics_sample_benchmark/input/HG002/140528_D00360_0018_AH8VC6ADXX/Project_RM8391_RM8392/Sample_2F2/2F2_GCCAAT_L001_R1_006.fastq.gz\u001b[24m \u001b[4m/Users/kate/github/omics_sample_benchmark/input/HG002/140528_D00360_0018_AH8VC6ADXX/Project_RM8391_RM8392/Sample_2F2/2F2_GCCAAT_L002_R1_001.fastq.gz\u001b[24m \u001b[4m/Users/kate/github/omics_sample_benchmark/input/HG002/140528_D00360_0018_AH8VC6ADXX/Project_RM8391_RM8392/Sample_2F2/2F2_GCCAAT_L002_R1_002.fastq.gz\u001b[24m \u001b[4m/Users/kate/github/omics_sample_benchmark/input/HG002/140528_D00360_0018_AH8VC6ADXX/Project_RM8391_RM8392/Sample_2F2/2F2_GCCAAT_L002_R1_003.fastq.gz\u001b[24m \u001b[4m/Users/kate/github/omics_sample_benchmark/input/HG002/140528_D00360_0018_AH8VC6ADXX/Project_RM8391_RM8392/Sample_2F2/2F2_GCCAAT_L002_R1_004.fastq.gz\u001b[24m \u001b[4m/Users/kate/github/omics_sample_benchmark/input/HG002/140528_D00360_0018_AH8VC6ADXX/Project_RM8391_RM8392/Sample_2F2/2F2_GCCAAT_L002_R1_005.fastq.gz\u001b[24m \u001b[4m/Users/kate/github/omics_sample_benchmark/input/HG002/140528_D00360_0018_AH8VC6ADXX/Project_RM8391_RM8392/Sample_2F2/2F2_GCCAAT_L002_R1_006.fastq.gz\u001b[24m \u001b[4m/Users/kate/github/omics_sample_benchmark/input/HG002/140528_D00360_0018_AH8VC6ADXX/Project_RM8391_RM8392/Sample_2L1/2L1_CTTGTA_L001_R1_001.fastq.gz\u001b[24m \u001b[4m/Users/kate/github/omics_sample_benchmark/input/HG002/140528_D00360_0018_AH8VC6ADXX/Project_RM8391_RM8392/Sample_2L1/2L1_CTTGTA_L001_R1_002.fastq.gz\u001b[24m \u001b[4m/Users/kate/github/omics_sample_benchmark/input/HG002/140528_D00360_0018_AH8VC6ADXX/Project_RM8391_RM8392/Sample_2L1/2L1_CTTGTA_L001_R1_003.fastq.gz\u001b[24m \u001b[4m/Users/kate/github/omics_sample_benchmark/input/HG002/140528_D00360_0018_AH8VC6ADXX/Project_RM8391_RM8392/Sample_2L1/2L1_CTTGTA_L001_R1_004.fastq.gz\u001b[24m \u001b[4m/Users/kate/github/omics_sample_benchmark/input/HG002/140528_D00360_0018_AH8VC6ADXX/Project_RM8391_RM8392/Sample_2L1/2L1_CTTGTA_L001_R1_005.fastq.gz\u001b[24m \u001b[4m/Users/kate/github/omics_sample_benchmark/input/HG002/140528_D00360_0018_AH8VC6ADXX/Project_RM8391_RM8392/Sample_2L1/2L1_CTTGTA_L001_R1_006.fastq.gz\u001b[24m \u001b[4m/Users/kate/github/omics_sample_benchmark/input/HG002/140528_D00360_0018_AH8VC6ADXX/Project_RM8391_RM8392/Sample_2L1/2L1_CTTGTA_L001_R1_007.fastq.gz\u001b[24m \u001b[4m/Users/kate/github/omics_sample_benchmark/input/HG002/140528_D00360_0018_AH8VC6ADXX/Project_RM8391_RM8392/Sample_2L1/2L1_CTTGTA_L002_R1_001.fastq.gz\u001b[24m \u001b[4m/Users/kate/github/omics_sample_benchmark/input/HG002/140528_D00360_0018_AH8VC6ADXX/Project_RM8391_RM8392/Sample_2L1/2L1_CTTGTA_L002_R1_002.fastq.gz\u001b[24m \u001b[4m/Users/kate/github/omics_sample_benchmark/input/HG002/140528_D00360_0018_AH8VC6ADXX/Project_RM8391_RM8392/Sample_2L1/2L1_CTTGTA_L002_R1_003.fastq.gz\u001b[24m \u001b[4m/Users/kate/github/omics_sample_benchmark/input/HG002/140528_D00360_0018_AH8VC6ADXX/Project_RM8391_RM8392/Sample_2L1/2L1_CTTGTA_L002_R1_004.fastq.gz\u001b[24m \u001b[4m/Users/kate/github/omics_sample_benchmark/input/HG002/140528_D00360_0018_AH8VC6ADXX/Project_RM8391_RM8392/Sample_2L1/2L1_CTTGTA_L002_R1_005.fastq.gz\u001b[24m \u001b[4m/Users/kate/github/omics_sample_benchmark/input/HG002/140528_D00360_0018_AH8VC6ADXX/Project_RM8391_RM8392/Sample_2L1/2L1_CTTGTA_L002_R1_006.fastq.gz\u001b[24m \u001b[4m/Users/kate/github/omics_sample_benchmark/input/HG002/140528_D00360_0018_AH8VC6ADXX/Project_RM8391_RM8392/Sample_2L1/2L1_CTTGTA_L002_R1_007.fastq.gz\u001b[24m \u001b[4m/Users/kate/github/omics_sample_benchmark/input/HG002/140528_D00360_0018_AH8VC6ADXX/Project_RM8391_RM8392/Sample_2L2/2L2_GTGAAA_L001_R1_001.fastq.gz\u001b[24m \u001b[4m/Users/kate/github/omics_sample_benchmark/input/HG002/140528_D00360_0018_AH8VC6ADXX/Project_RM8391_RM8392/Sample_2L2/2L2_GTGAAA_L001_R1_002.fastq.gz\u001b[24m \u001b[4m/Users/kate/github/omics_sample_benchmark/input/HG002/140528_D00360_0018_AH8VC6ADXX/Project_RM8391_RM8392/Sample_2L2/2L2_GTGAAA_L001_R1_003.fastq.gz\u001b[24m \u001b[4m/Users/kate/github/omics_sample_benchmark/input/HG002/140528_D00360_0018_AH8VC6ADXX/Project_RM8391_RM8392/Sample_2L2/2L2_GTGAAA_L001_R1_004.fastq.gz\u001b[24m \u001b[4m/Users/kate/github/omics_sample_benchmark/input/HG002/140528_D00360_0018_AH8VC6ADXX/Project_RM8391_RM8392/Sample_2L2/2L2_GTGAAA_L001_R1_005.fastq.gz\u001b[24m \u001b[4m/Users/kate/github/omics_sample_benchmark/input/HG002/140528_D00360_0018_AH8VC6ADXX/Project_RM8391_RM8392/Sample_2L2/2L2_GTGAAA_L001_R1_006.fastq.gz\u001b[24m \u001b[4m/Users/kate/github/omics_sample_benchmark/input/HG002/140528_D00360_0018_AH8VC6ADXX/Project_RM8391_RM8392/Sample_2L2/2L2_GTGAAA_L002_R1_001.fastq.gz\u001b[24m \u001b[4m/Users/kate/github/omics_sample_benchmark/input/HG002/140528_D00360_0018_AH8VC6ADXX/Project_RM8391_RM8392/Sample_2L2/2L2_GTGAAA_L002_R1_002.fastq.gz\u001b[24m \u001b[4m/Users/kate/github/omics_sample_benchmark/input/HG002/140528_D00360_0018_AH8VC6ADXX/Project_RM8391_RM8392/Sample_2L2/2L2_GTGAAA_L002_R1_003.fastq.gz\u001b[24m \u001b[4m/Users/kate/github/omics_sample_benchmark/input/HG002/140528_D00360_0018_AH8VC6ADXX/Project_RM8391_RM8392/Sample_2L2/2L2_GTGAAA_L002_R1_004.fastq.gz\u001b[24m \u001b[4m/Users/kate/github/omics_sample_benchmark/input/HG002/140528_D00360_0018_AH8VC6ADXX/Project_RM8391_RM8392/Sample_2L2/2L2_GTGAAA_L002_R1_005.fastq.gz\u001b[24m \u001b[4m/Users/kate/github/omics_sample_benchmark/input/HG002/140528_D00360_0018_AH8VC6ADXX/Project_RM8391_RM8392/Sample_2L2/2L2_GTGAAA_L002_R1_006.fastq.gz\u001b[24m \u001b[4m/Users/kate/github/omics_sample_benchmark/input/HG002/140528_D00360_0019_BH8VDAADXX/Project_RM8391_RM8392/Sample_2A1/2A1_CGATGT_L001_R1_001.fastq.gz\u001b[24m \u001b[4m/Users/kate/github/omics_sample_benchmark/input/HG002/140528_D00360_0019_BH8VDAADXX/Project_RM8391_RM8392/Sample_2A1/2A1_CGATGT_L002_R1_001.fastq.gz\u001b[24m \u001b[4m/Users/kate/github/omics_sample_benchmark/input/HG002/140528_D00360_0019_BH8VDAADXX/Project_RM8391_RM8392/Sample_2A2/2A2_TGACCA_L001_R1_001.fastq.gz\u001b[24m \u001b[4m/Users/kate/github/omics_sample_benchmark/input/HG002/140528_D00360_0019_BH8VDAADXX/Project_RM8391_RM8392/Sample_2A2/2A2_TGACCA_L002_R1_001.fastq.gz\u001b[24m \u001b[4m/Users/kate/github/omics_sample_benchmark/input/HG002/140528_D00360_0019_BH8VDAADXX/Project_RM8391_RM8392/Sample_2B1/2B1_CAGATC_L001_R1_001.fastq.gz\u001b[24m \u001b[4m/Users/kate/github/omics_sample_benchmark/input/HG002/140528_D00360_0019_BH8VDAADXX/Project_RM8391_RM8392/Sample_2B1/2B1_CAGATC_L001_R1_002.fastq.gz\u001b[24m \u001b[4m/Users/kate/github/omics_sample_benchmark/input/HG002/140528_D00360_0019_BH8VDAADXX/Project_RM8391_RM8392/Sample_2B1/2B1_CAGATC_L002_R1_001.fastq.gz\u001b[24m \u001b[4m/Users/kate/github/omics_sample_benchmark/input/HG002/140528_D00360_0019_BH8VDAADXX/Project_RM8391_RM8392/Sample_2B1/2B1_CAGATC_L002_R1_002.fastq.gz\u001b[24m \u001b[4m/Users/kate/github/omics_sample_benchmark/input/HG002/140528_D00360_0019_BH8VDAADXX/Project_RM8391_RM8392/Sample_2B2/2B2_CCGTCC_L001_R1_001.fastq.gz\u001b[24m \u001b[4m/Users/kate/github/omics_sample_benchmark/input/HG002/140528_D00360_0019_BH8VDAADXX/Project_RM8391_RM8392/Sample_2B2/2B2_CCGTCC_L001_R1_002.fastq.gz\u001b[24m \u001b[4m/Users/kate/github/omics_sample_benchmark/input/HG002/140528_D00360_0019_BH8VDAADXX/Project_RM8391_RM8392/Sample_2B2/2B2_CCGTCC_L002_R1_001.fastq.gz\u001b[24m \u001b[4m/Users/kate/github/omics_sample_benchmark/input/HG002/140528_D00360_0019_BH8VDAADXX/Project_RM8391_RM8392/Sample_2B2/2B2_CCGTCC_L002_R1_002.fastq.gz\u001b[24m \u001b[4m/Users/kate/github/omics_sample_benchmark/input/HG002/140528_D00360_0019_BH8VDAADXX/Project_RM8391_RM8392/Sample_2C1/2C1_AGTCAA_L001_R1_001.fastq.gz\u001b[24m \u001b[4m/Users/kate/github/omics_sample_benchmark/input/HG002/140528_D00360_0019_BH8VDAADXX/Project_RM8391_RM8392/Sample_2C1/2C1_AGTCAA_L002_R1_001.fastq.gz\u001b[24m \u001b[4m/Users/kate/github/omics_sample_benchmark/input/HG002/140528_D00360_0019_BH8VDAADXX/Project_RM8391_RM8392/Sample_2C2/2C2_AGTTCC_L001_R1_001.fastq.gz\u001b[24m \u001b[4m/Users/kate/github/omics_sample_benchmark/input/HG002/140528_D00360_0019_BH8VDAADXX/Project_RM8391_RM8392/Sample_2C2/2C2_AGTTCC_L002_R1_001.fastq.gz\u001b[24m \u001b[4m/Users/kate/github/omics_sample_benchmark/input/HG002/140528_D00360_0019_BH8VDAADXX/Project_RM8391_RM8392/Sample_2D1/2D1_ATGTCA_L001_R1_001.fastq.gz\u001b[24m \u001b[4m/Users/kate/github/omics_sample_benchmark/input/HG002/140528_D00360_0019_BH8VDAADXX/Project_RM8391_RM8392/Sample_2D1/2D1_ATGTCA_L002_R1_001.fastq.gz\u001b[24m \u001b[4m/Users/kate/github/omics_sample_benchmark/input/HG002/140528_D00360_0019_BH8VDAADXX/Project_RM8391_RM8392/Sample_2D2/2D2_GTCCGC_L001_R1_001.fastq.gz\u001b[24m \u001b[4m/Users/kate/github/omics_sample_benchmark/input/HG002/140528_D00360_0019_BH8VDAADXX/Project_RM8391_RM8392/Sample_2D2/2D2_GTCCGC_L002_R1_001.fastq.gz\u001b[24m \u001b[4m/Users/kate/github/omics_sample_benchmark/input/HG002/140528_D00360_0019_BH8VDAADXX/Project_RM8391_RM8392/Sample_2F1/2F1_ACAGTG_L001_R1_001.fastq.gz\u001b[24m \u001b[4m/Users/kate/github/omics_sample_benchmark/input/HG002/140528_D00360_0019_BH8VDAADXX/Project_RM8391_RM8392/Sample_2F1/2F1_ACAGTG_L001_R1_002.fastq.gz\u001b[24m \u001b[4m/Users/kate/github/omics_sample_benchmark/input/HG002/140528_D00360_0019_BH8VDAADXX/Project_RM8391_RM8392/Sample_2F1/2F1_ACAGTG_L001_R1_003.fastq.gz\u001b[24m \u001b[4m/Users/kate/github/omics_sample_benchmark/input/HG002/140528_D00360_0019_BH8VDAADXX/Project_RM8391_RM8392/Sample_2F1/2F1_ACAGTG_L001_R1_004.fastq.gz\u001b[24m \u001b[4m/Users/kate/github/omics_sample_benchmark/input/HG002/140528_D00360_0019_BH8VDAADXX/Project_RM8391_RM8392/Sample_2F1/2F1_ACAGTG_L002_R1_001.fastq.gz\u001b[24m \u001b[4m/Users/kate/github/omics_sample_benchmark/input/HG002/140528_D00360_0019_BH8VDAADXX/Project_RM8391_RM8392/Sample_2F1/2F1_ACAGTG_L002_R1_002.fastq.gz\u001b[24m \u001b[4m/Users/kate/github/omics_sample_benchmark/input/HG002/140528_D00360_0019_BH8VDAADXX/Project_RM8391_RM8392/Sample_2F1/2F1_ACAGTG_L002_R1_003.fastq.gz\u001b[24m \u001b[4m/Users/kate/github/omics_sample_benchmark/input/HG002/140528_D00360_0019_BH8VDAADXX/Project_RM8391_RM8392/Sample_2F1/2F1_ACAGTG_L002_R1_004.fastq.gz\u001b[24m \u001b[4m/Users/kate/github/omics_sample_benchmark/input/HG002/140528_D00360_0019_BH8VDAADXX/Project_RM8391_RM8392/Sample_2F2/2F2_GCCAAT_L001_R1_001.fastq.gz\u001b[24m \u001b[4m/Users/kate/github/omics_sample_benchmark/input/HG002/140528_D00360_0019_BH8VDAADXX/Project_RM8391_RM8392/Sample_2F2/2F2_GCCAAT_L001_R1_002.fastq.gz\u001b[24m \u001b[4m/Users/kate/github/omics_sample_benchmark/input/HG002/140528_D00360_0019_BH8VDAADXX/Project_RM8391_RM8392/Sample_2F2/2F2_GCCAAT_L001_R1_003.fastq.gz\u001b[24m \u001b[4m/Users/kate/github/omics_sample_benchmark/input/HG002/140528_D00360_0019_BH8VDAADXX/Project_RM8391_RM8392/Sample_2F2/2F2_GCCAAT_L001_R1_004.fastq.gz\u001b[24m \u001b[4m/Users/kate/github/omics_sample_benchmark/input/HG002/140528_D00360_0019_BH8VDAADXX/Project_RM8391_RM8392/Sample_2F2/2F2_GCCAAT_L002_R1_001.fastq.gz\u001b[24m \u001b[4m/Users/kate/github/omics_sample_benchmark/input/HG002/140528_D00360_0019_BH8VDAADXX/Project_RM8391_RM8392/Sample_2F2/2F2_GCCAAT_L002_R1_002.fastq.gz\u001b[24m \u001b[4m/Users/kate/github/omics_sample_benchmark/input/HG002/140528_D00360_0019_BH8VDAADXX/Project_RM8391_RM8392/Sample_2F2/2F2_GCCAAT_L002_R1_003.fastq.gz\u001b[24m \u001b[4m/Users/kate/github/omics_sample_benchmark/input/HG002/140528_D00360_0019_BH8VDAADXX/Project_RM8391_RM8392/Sample_2F2/2F2_GCCAAT_L002_R1_004.fastq.gz\u001b[24m \u001b[4m/Users/kate/github/omics_sample_benchmark/input/HG002/140528_D00360_0019_BH8VDAADXX/Project_RM8391_RM8392/Sample_2L1/2L1_CTTGTA_L001_R1_001.fastq.gz\u001b[24m \u001b[4m/Users/kate/github/omics_sample_benchmark/input/HG002/140528_D00360_0019_BH8VDAADXX/Project_RM8391_RM8392/Sample_2L1/2L1_CTTGTA_L001_R1_002.fastq.gz\u001b[24m \u001b[4m/Users/kate/github/omics_sample_benchmark/input/HG002/140528_D00360_0019_BH8VDAADXX/Project_RM8391_RM8392/Sample_2L1/2L1_CTTGTA_L001_R1_003.fastq.gz\u001b[24m \u001b[4m/Users/kate/github/omics_sample_benchmark/input/HG002/140528_D00360_0019_BH8VDAADXX/Project_RM8391_RM8392/Sample_2L1/2L1_CTTGTA_L001_R1_004.fastq.gz\u001b[24m \u001b[4m/Users/kate/github/omics_sample_benchmark/input/HG002/140528_D00360_0019_BH8VDAADXX/Project_RM8391_RM8392/Sample_2L1/2L1_CTTGTA_L002_R1_001.fastq.gz\u001b[24m \u001b[4m/Users/kate/github/omics_sample_benchmark/input/HG002/140528_D00360_0019_BH8VDAADXX/Project_RM8391_RM8392/Sample_2L1/2L1_CTTGTA_L002_R1_002.fastq.gz\u001b[24m \u001b[4m/Users/kate/github/omics_sample_benchmark/input/HG002/140528_D00360_0019_BH8VDAADXX/Project_RM8391_RM8392/Sample_2L1/2L1_CTTGTA_L002_R1_003.fastq.gz\u001b[24m \u001b[4m/Users/kate/github/omics_sample_benchmark/input/HG002/140528_D00360_0019_BH8VDAADXX/Project_RM8391_RM8392/Sample_2L1/2L1_CTTGTA_L002_R1_004.fastq.gz\u001b[24m \u001b[4m/Users/kate/github/omics_sample_benchmark/input/HG002/140528_D00360_0019_BH8VDAADXX/Project_RM8391_RM8392/Sample_2L2/2L2_GTGAAA_L001_R1_001.fastq.gz\u001b[24m \u001b[4m/Users/kate/github/omics_sample_benchmark/input/HG002/140528_D00360_0019_BH8VDAADXX/Project_RM8391_RM8392/Sample_2L2/2L2_GTGAAA_L001_R1_002.fastq.gz\u001b[24m \u001b[4m/Users/kate/github/omics_sample_benchmark/input/HG002/140528_D00360_0019_BH8VDAADXX/Project_RM8391_RM8392/Sample_2L2/2L2_GTGAAA_L001_R1_003.fastq.gz\u001b[24m \u001b[4m/Users/kate/github/omics_sample_benchmark/input/HG002/140528_D00360_0019_BH8VDAADXX/Project_RM8391_RM8392/Sample_2L2/2L2_GTGAAA_L001_R1_004.fastq.gz\u001b[24m \u001b[4m/Users/kate/github/omics_sample_benchmark/input/HG002/140528_D00360_0019_BH8VDAADXX/Project_RM8391_RM8392/Sample_2L2/2L2_GTGAAA_L002_R1_001.fastq.gz\u001b[24m \u001b[4m/Users/kate/github/omics_sample_benchmark/input/HG002/140528_D00360_0019_BH8VDAADXX/Project_RM8391_RM8392/Sample_2L2/2L2_GTGAAA_L002_R1_002.fastq.gz\u001b[24m \u001b[4m/Users/kate/github/omics_sample_benchmark/input/HG002/140528_D00360_0019_BH8VDAADXX/Project_RM8391_RM8392/Sample_2L2/2L2_GTGAAA_L002_R1_003.fastq.gz\u001b[24m \u001b[4m/Users/kate/github/omics_sample_benchmark/input/HG002/140528_D00360_0019_BH8VDAADXX/Project_RM8391_RM8392/Sample_2L2/2L2_GTGAAA_L002_R1_004.fastq.gz\u001b[24m`, stdout>Base.FileRedirect(\"/Users/kate/github/omics_sample_benchmark/input/HG002_cat/HG002_R1.fastq.gz\", false))\n",
      "Combining R2 Reads\n",
      "\n",
      "pipeline(`\u001b[4mcat\u001b[24m \u001b[4m/Users/kate/github/omics_sample_benchmark/input/HG002/140528_D00360_0018_AH8VC6ADXX/Project_RM8391_RM8392/Sample_2A1/2A1_CGATGT_L001_R2_001.fastq.gz\u001b[24m \u001b[4m/Users/kate/github/omics_sample_benchmark/input/HG002/140528_D00360_0018_AH8VC6ADXX/Project_RM8391_RM8392/Sample_2A1/2A1_CGATGT_L001_R2_002.fastq.gz\u001b[24m \u001b[4m/Users/kate/github/omics_sample_benchmark/input/HG002/140528_D00360_0018_AH8VC6ADXX/Project_RM8391_RM8392/Sample_2A1/2A1_CGATGT_L002_R2_001.fastq.gz\u001b[24m \u001b[4m/Users/kate/github/omics_sample_benchmark/input/HG002/140528_D00360_0018_AH8VC6ADXX/Project_RM8391_RM8392/Sample_2A1/2A1_CGATGT_L002_R2_002.fastq.gz\u001b[24m \u001b[4m/Users/kate/github/omics_sample_benchmark/input/HG002/140528_D00360_0018_AH8VC6ADXX/Project_RM8391_RM8392/Sample_2A2/2A2_TGACCA_L001_R2_001.fastq.gz\u001b[24m \u001b[4m/Users/kate/github/omics_sample_benchmark/input/HG002/140528_D00360_0018_AH8VC6ADXX/Project_RM8391_RM8392/Sample_2A2/2A2_TGACCA_L001_R2_002.fastq.gz\u001b[24m \u001b[4m/Users/kate/github/omics_sample_benchmark/input/HG002/140528_D00360_0018_AH8VC6ADXX/Project_RM8391_RM8392/Sample_2A2/2A2_TGACCA_L002_R2_001.fastq.gz\u001b[24m \u001b[4m/Users/kate/github/omics_sample_benchmark/input/HG002/140528_D00360_0018_AH8VC6ADXX/Project_RM8391_RM8392/Sample_2A2/2A2_TGACCA_L002_R2_002.fastq.gz\u001b[24m \u001b[4m/Users/kate/github/omics_sample_benchmark/input/HG002/140528_D00360_0018_AH8VC6ADXX/Project_RM8391_RM8392/Sample_2B1/2B1_CAGATC_L001_R2_001.fastq.gz\u001b[24m \u001b[4m/Users/kate/github/omics_sample_benchmark/input/HG002/140528_D00360_0018_AH8VC6ADXX/Project_RM8391_RM8392/Sample_2B1/2B1_CAGATC_L001_R2_002.fastq.gz\u001b[24m \u001b[4m/Users/kate/github/omics_sample_benchmark/input/HG002/140528_D00360_0018_AH8VC6ADXX/Project_RM8391_RM8392/Sample_2B1/2B1_CAGATC_L002_R2_001.fastq.gz\u001b[24m \u001b[4m/Users/kate/github/omics_sample_benchmark/input/HG002/140528_D00360_0018_AH8VC6ADXX/Project_RM8391_RM8392/Sample_2B1/2B1_CAGATC_L002_R2_002.fastq.gz\u001b[24m \u001b[4m/Users/kate/github/omics_sample_benchmark/input/HG002/140528_D00360_0018_AH8VC6ADXX/Project_RM8391_RM8392/Sample_2B2/2B2_CCGTCC_L001_R2_001.fastq.gz\u001b[24m \u001b[4m/Users/kate/github/omics_sample_benchmark/input/HG002/140528_D00360_0018_AH8VC6ADXX/Project_RM8391_RM8392/Sample_2B2/2B2_CCGTCC_L001_R2_002.fastq.gz\u001b[24m \u001b[4m/Users/kate/github/omics_sample_benchmark/input/HG002/140528_D00360_0018_AH8VC6ADXX/Project_RM8391_RM8392/Sample_2B2/2B2_CCGTCC_L002_R2_001.fastq.gz\u001b[24m \u001b[4m/Users/kate/github/omics_sample_benchmark/input/HG002/140528_D00360_0018_AH8VC6ADXX/Project_RM8391_RM8392/Sample_2B2/2B2_CCGTCC_L002_R2_002.fastq.gz\u001b[24m \u001b[4m/Users/kate/github/omics_sample_benchmark/input/HG002/140528_D00360_0018_AH8VC6ADXX/Project_RM8391_RM8392/Sample_2C1/2C1_AGTCAA_L001_R2_001.fastq.gz\u001b[24m \u001b[4m/Users/kate/github/omics_sample_benchmark/input/HG002/140528_D00360_0018_AH8VC6ADXX/Project_RM8391_RM8392/Sample_2C1/2C1_AGTCAA_L001_R2_002.fastq.gz\u001b[24m \u001b[4m/Users/kate/github/omics_sample_benchmark/input/HG002/140528_D00360_0018_AH8VC6ADXX/Project_RM8391_RM8392/Sample_2C1/2C1_AGTCAA_L002_R2_001.fastq.gz\u001b[24m \u001b[4m/Users/kate/github/omics_sample_benchmark/input/HG002/140528_D00360_0018_AH8VC6ADXX/Project_RM8391_RM8392/Sample_2C1/2C1_AGTCAA_L002_R2_002.fastq.gz\u001b[24m \u001b[4m/Users/kate/github/omics_sample_benchmark/input/HG002/140528_D00360_0018_AH8VC6ADXX/Project_RM8391_RM8392/Sample_2C2/2C2_AGTTCC_L001_R2_001.fastq.gz\u001b[24m \u001b[4m/Users/kate/github/omics_sample_benchmark/input/HG002/140528_D00360_0018_AH8VC6ADXX/Project_RM8391_RM8392/Sample_2C2/2C2_AGTTCC_L002_R2_001.fastq.gz\u001b[24m \u001b[4m/Users/kate/github/omics_sample_benchmark/input/HG002/140528_D00360_0018_AH8VC6ADXX/Project_RM8391_RM8392/Sample_2C2/2C2_AGTTCC_L002_R2_002.fastq.gz\u001b[24m \u001b[4m/Users/kate/github/omics_sample_benchmark/input/HG002/140528_D00360_0018_AH8VC6ADXX/Project_RM8391_RM8392/Sample_2D1/2D1_ATGTCA_L001_R2_001.fastq.gz\u001b[24m \u001b[4m/Users/kate/github/omics_sample_benchmark/input/HG002/140528_D00360_0018_AH8VC6ADXX/Project_RM8391_RM8392/Sample_2D1/2D1_ATGTCA_L001_R2_002.fastq.gz\u001b[24m \u001b[4m/Users/kate/github/omics_sample_benchmark/input/HG002/140528_D00360_0018_AH8VC6ADXX/Project_RM8391_RM8392/Sample_2D1/2D1_ATGTCA_L002_R2_001.fastq.gz\u001b[24m \u001b[4m/Users/kate/github/omics_sample_benchmark/input/HG002/140528_D00360_0018_AH8VC6ADXX/Project_RM8391_RM8392/Sample_2D1/2D1_ATGTCA_L002_R2_002.fastq.gz\u001b[24m \u001b[4m/Users/kate/github/omics_sample_benchmark/input/HG002/140528_D00360_0018_AH8VC6ADXX/Project_RM8391_RM8392/Sample_2D2/2D2_GTCCGC_L001_R2_001.fastq.gz\u001b[24m \u001b[4m/Users/kate/github/omics_sample_benchmark/input/HG002/140528_D00360_0018_AH8VC6ADXX/Project_RM8391_RM8392/Sample_2D2/2D2_GTCCGC_L001_R2_002.fastq.gz\u001b[24m \u001b[4m/Users/kate/github/omics_sample_benchmark/input/HG002/140528_D00360_0018_AH8VC6ADXX/Project_RM8391_RM8392/Sample_2D2/2D2_GTCCGC_L002_R2_001.fastq.gz\u001b[24m \u001b[4m/Users/kate/github/omics_sample_benchmark/input/HG002/140528_D00360_0018_AH8VC6ADXX/Project_RM8391_RM8392/Sample_2D2/2D2_GTCCGC_L002_R2_002.fastq.gz\u001b[24m \u001b[4m/Users/kate/github/omics_sample_benchmark/input/HG002/140528_D00360_0018_AH8VC6ADXX/Project_RM8391_RM8392/Sample_2F1/2F1_ACAGTG_L001_R2_001.fastq.gz\u001b[24m \u001b[4m/Users/kate/github/omics_sample_benchmark/input/HG002/140528_D00360_0018_AH8VC6ADXX/Project_RM8391_RM8392/Sample_2F1/2F1_ACAGTG_L001_R2_002.fastq.gz\u001b[24m \u001b[4m/Users/kate/github/omics_sample_benchmark/input/HG002/140528_D00360_0018_AH8VC6ADXX/Project_RM8391_RM8392/Sample_2F1/2F1_ACAGTG_L001_R2_003.fastq.gz\u001b[24m \u001b[4m/Users/kate/github/omics_sample_benchmark/input/HG002/140528_D00360_0018_AH8VC6ADXX/Project_RM8391_RM8392/Sample_2F1/2F1_ACAGTG_L001_R2_004.fastq.gz\u001b[24m \u001b[4m/Users/kate/github/omics_sample_benchmark/input/HG002/140528_D00360_0018_AH8VC6ADXX/Project_RM8391_RM8392/Sample_2F1/2F1_ACAGTG_L001_R2_005.fastq.gz\u001b[24m \u001b[4m/Users/kate/github/omics_sample_benchmark/input/HG002/140528_D00360_0018_AH8VC6ADXX/Project_RM8391_RM8392/Sample_2F1/2F1_ACAGTG_L001_R2_006.fastq.gz\u001b[24m \u001b[4m/Users/kate/github/omics_sample_benchmark/input/HG002/140528_D00360_0018_AH8VC6ADXX/Project_RM8391_RM8392/Sample_2F1/2F1_ACAGTG_L002_R2_001.fastq.gz\u001b[24m \u001b[4m/Users/kate/github/omics_sample_benchmark/input/HG002/140528_D00360_0018_AH8VC6ADXX/Project_RM8391_RM8392/Sample_2F1/2F1_ACAGTG_L002_R2_002.fastq.gz\u001b[24m \u001b[4m/Users/kate/github/omics_sample_benchmark/input/HG002/140528_D00360_0018_AH8VC6ADXX/Project_RM8391_RM8392/Sample_2F1/2F1_ACAGTG_L002_R2_003.fastq.gz\u001b[24m \u001b[4m/Users/kate/github/omics_sample_benchmark/input/HG002/140528_D00360_0018_AH8VC6ADXX/Project_RM8391_RM8392/Sample_2F1/2F1_ACAGTG_L002_R2_004.fastq.gz\u001b[24m \u001b[4m/Users/kate/github/omics_sample_benchmark/input/HG002/140528_D00360_0018_AH8VC6ADXX/Project_RM8391_RM8392/Sample_2F1/2F1_ACAGTG_L002_R2_005.fastq.gz\u001b[24m \u001b[4m/Users/kate/github/omics_sample_benchmark/input/HG002/140528_D00360_0018_AH8VC6ADXX/Project_RM8391_RM8392/Sample_2F1/2F1_ACAGTG_L002_R2_006.fastq.gz\u001b[24m \u001b[4m/Users/kate/github/omics_sample_benchmark/input/HG002/140528_D00360_0018_AH8VC6ADXX/Project_RM8391_RM8392/Sample_2F2/2F2_GCCAAT_L001_R2_001.fastq.gz\u001b[24m \u001b[4m/Users/kate/github/omics_sample_benchmark/input/HG002/140528_D00360_0018_AH8VC6ADXX/Project_RM8391_RM8392/Sample_2F2/2F2_GCCAAT_L001_R2_002.fastq.gz\u001b[24m \u001b[4m/Users/kate/github/omics_sample_benchmark/input/HG002/140528_D00360_0018_AH8VC6ADXX/Project_RM8391_RM8392/Sample_2F2/2F2_GCCAAT_L001_R2_003.fastq.gz\u001b[24m \u001b[4m/Users/kate/github/omics_sample_benchmark/input/HG002/140528_D00360_0018_AH8VC6ADXX/Project_RM8391_RM8392/Sample_2F2/2F2_GCCAAT_L001_R2_004.fastq.gz\u001b[24m \u001b[4m/Users/kate/github/omics_sample_benchmark/input/HG002/140528_D00360_0018_AH8VC6ADXX/Project_RM8391_RM8392/Sample_2F2/2F2_GCCAAT_L001_R2_005.fastq.gz\u001b[24m \u001b[4m/Users/kate/github/omics_sample_benchmark/input/HG002/140528_D00360_0018_AH8VC6ADXX/Project_RM8391_RM8392/Sample_2F2/2F2_GCCAAT_L001_R2_006.fastq.gz\u001b[24m \u001b[4m/Users/kate/github/omics_sample_benchmark/input/HG002/140528_D00360_0018_AH8VC6ADXX/Project_RM8391_RM8392/Sample_2F2/2F2_GCCAAT_L002_R2_001.fastq.gz\u001b[24m \u001b[4m/Users/kate/github/omics_sample_benchmark/input/HG002/140528_D00360_0018_AH8VC6ADXX/Project_RM8391_RM8392/Sample_2F2/2F2_GCCAAT_L002_R2_002.fastq.gz\u001b[24m \u001b[4m/Users/kate/github/omics_sample_benchmark/input/HG002/140528_D00360_0018_AH8VC6ADXX/Project_RM8391_RM8392/Sample_2F2/2F2_GCCAAT_L002_R2_003.fastq.gz\u001b[24m \u001b[4m/Users/kate/github/omics_sample_benchmark/input/HG002/140528_D00360_0018_AH8VC6ADXX/Project_RM8391_RM8392/Sample_2F2/2F2_GCCAAT_L002_R2_004.fastq.gz\u001b[24m \u001b[4m/Users/kate/github/omics_sample_benchmark/input/HG002/140528_D00360_0018_AH8VC6ADXX/Project_RM8391_RM8392/Sample_2F2/2F2_GCCAAT_L002_R2_005.fastq.gz\u001b[24m \u001b[4m/Users/kate/github/omics_sample_benchmark/input/HG002/140528_D00360_0018_AH8VC6ADXX/Project_RM8391_RM8392/Sample_2F2/2F2_GCCAAT_L002_R2_006.fastq.gz\u001b[24m \u001b[4m/Users/kate/github/omics_sample_benchmark/input/HG002/140528_D00360_0018_AH8VC6ADXX/Project_RM8391_RM8392/Sample_2L1/2L1_CTTGTA_L001_R2_001.fastq.gz\u001b[24m \u001b[4m/Users/kate/github/omics_sample_benchmark/input/HG002/140528_D00360_0018_AH8VC6ADXX/Project_RM8391_RM8392/Sample_2L1/2L1_CTTGTA_L001_R2_002.fastq.gz\u001b[24m \u001b[4m/Users/kate/github/omics_sample_benchmark/input/HG002/140528_D00360_0018_AH8VC6ADXX/Project_RM8391_RM8392/Sample_2L1/2L1_CTTGTA_L001_R2_003.fastq.gz\u001b[24m \u001b[4m/Users/kate/github/omics_sample_benchmark/input/HG002/140528_D00360_0018_AH8VC6ADXX/Project_RM8391_RM8392/Sample_2L1/2L1_CTTGTA_L001_R2_004.fastq.gz\u001b[24m \u001b[4m/Users/kate/github/omics_sample_benchmark/input/HG002/140528_D00360_0018_AH8VC6ADXX/Project_RM8391_RM8392/Sample_2L1/2L1_CTTGTA_L001_R2_005.fastq.gz\u001b[24m \u001b[4m/Users/kate/github/omics_sample_benchmark/input/HG002/140528_D00360_0018_AH8VC6ADXX/Project_RM8391_RM8392/Sample_2L1/2L1_CTTGTA_L001_R2_006.fastq.gz\u001b[24m \u001b[4m/Users/kate/github/omics_sample_benchmark/input/HG002/140528_D00360_0018_AH8VC6ADXX/Project_RM8391_RM8392/Sample_2L1/2L1_CTTGTA_L001_R2_007.fastq.gz\u001b[24m \u001b[4m/Users/kate/github/omics_sample_benchmark/input/HG002/140528_D00360_0018_AH8VC6ADXX/Project_RM8391_RM8392/Sample_2L1/2L1_CTTGTA_L002_R2_001.fastq.gz\u001b[24m \u001b[4m/Users/kate/github/omics_sample_benchmark/input/HG002/140528_D00360_0018_AH8VC6ADXX/Project_RM8391_RM8392/Sample_2L1/2L1_CTTGTA_L002_R2_002.fastq.gz\u001b[24m \u001b[4m/Users/kate/github/omics_sample_benchmark/input/HG002/140528_D00360_0018_AH8VC6ADXX/Project_RM8391_RM8392/Sample_2L1/2L1_CTTGTA_L002_R2_003.fastq.gz\u001b[24m \u001b[4m/Users/kate/github/omics_sample_benchmark/input/HG002/140528_D00360_0018_AH8VC6ADXX/Project_RM8391_RM8392/Sample_2L1/2L1_CTTGTA_L002_R2_004.fastq.gz\u001b[24m \u001b[4m/Users/kate/github/omics_sample_benchmark/input/HG002/140528_D00360_0018_AH8VC6ADXX/Project_RM8391_RM8392/Sample_2L1/2L1_CTTGTA_L002_R2_005.fastq.gz\u001b[24m \u001b[4m/Users/kate/github/omics_sample_benchmark/input/HG002/140528_D00360_0018_AH8VC6ADXX/Project_RM8391_RM8392/Sample_2L1/2L1_CTTGTA_L002_R2_006.fastq.gz\u001b[24m \u001b[4m/Users/kate/github/omics_sample_benchmark/input/HG002/140528_D00360_0018_AH8VC6ADXX/Project_RM8391_RM8392/Sample_2L1/2L1_CTTGTA_L002_R2_007.fastq.gz\u001b[24m \u001b[4m/Users/kate/github/omics_sample_benchmark/input/HG002/140528_D00360_0018_AH8VC6ADXX/Project_RM8391_RM8392/Sample_2L2/2L2_GTGAAA_L001_R2_001.fastq.gz\u001b[24m \u001b[4m/Users/kate/github/omics_sample_benchmark/input/HG002/140528_D00360_0018_AH8VC6ADXX/Project_RM8391_RM8392/Sample_2L2/2L2_GTGAAA_L001_R2_002.fastq.gz\u001b[24m \u001b[4m/Users/kate/github/omics_sample_benchmark/input/HG002/140528_D00360_0018_AH8VC6ADXX/Project_RM8391_RM8392/Sample_2L2/2L2_GTGAAA_L001_R2_003.fastq.gz\u001b[24m \u001b[4m/Users/kate/github/omics_sample_benchmark/input/HG002/140528_D00360_0018_AH8VC6ADXX/Project_RM8391_RM8392/Sample_2L2/2L2_GTGAAA_L001_R2_004.fastq.gz\u001b[24m \u001b[4m/Users/kate/github/omics_sample_benchmark/input/HG002/140528_D00360_0018_AH8VC6ADXX/Project_RM8391_RM8392/Sample_2L2/2L2_GTGAAA_L001_R2_005.fastq.gz\u001b[24m \u001b[4m/Users/kate/github/omics_sample_benchmark/input/HG002/140528_D00360_0018_AH8VC6ADXX/Project_RM8391_RM8392/Sample_2L2/2L2_GTGAAA_L001_R2_006.fastq.gz\u001b[24m \u001b[4m/Users/kate/github/omics_sample_benchmark/input/HG002/140528_D00360_0018_AH8VC6ADXX/Project_RM8391_RM8392/Sample_2L2/2L2_GTGAAA_L002_R2_001.fastq.gz\u001b[24m \u001b[4m/Users/kate/github/omics_sample_benchmark/input/HG002/140528_D00360_0018_AH8VC6ADXX/Project_RM8391_RM8392/Sample_2L2/2L2_GTGAAA_L002_R2_002.fastq.gz\u001b[24m \u001b[4m/Users/kate/github/omics_sample_benchmark/input/HG002/140528_D00360_0018_AH8VC6ADXX/Project_RM8391_RM8392/Sample_2L2/2L2_GTGAAA_L002_R2_003.fastq.gz\u001b[24m \u001b[4m/Users/kate/github/omics_sample_benchmark/input/HG002/140528_D00360_0018_AH8VC6ADXX/Project_RM8391_RM8392/Sample_2L2/2L2_GTGAAA_L002_R2_004.fastq.gz\u001b[24m \u001b[4m/Users/kate/github/omics_sample_benchmark/input/HG002/140528_D00360_0018_AH8VC6ADXX/Project_RM8391_RM8392/Sample_2L2/2L2_GTGAAA_L002_R2_005.fastq.gz\u001b[24m \u001b[4m/Users/kate/github/omics_sample_benchmark/input/HG002/140528_D00360_0018_AH8VC6ADXX/Project_RM8391_RM8392/Sample_2L2/2L2_GTGAAA_L002_R2_006.fastq.gz\u001b[24m \u001b[4m/Users/kate/github/omics_sample_benchmark/input/HG002/140528_D00360_0019_BH8VDAADXX/Project_RM8391_RM8392/Sample_2A1/2A1_CGATGT_L001_R2_001.fastq.gz\u001b[24m \u001b[4m/Users/kate/github/omics_sample_benchmark/input/HG002/140528_D00360_0019_BH8VDAADXX/Project_RM8391_RM8392/Sample_2A1/2A1_CGATGT_L002_R2_001.fastq.gz\u001b[24m \u001b[4m/Users/kate/github/omics_sample_benchmark/input/HG002/140528_D00360_0019_BH8VDAADXX/Project_RM8391_RM8392/Sample_2A2/2A2_TGACCA_L001_R2_001.fastq.gz\u001b[24m \u001b[4m/Users/kate/github/omics_sample_benchmark/input/HG002/140528_D00360_0019_BH8VDAADXX/Project_RM8391_RM8392/Sample_2A2/2A2_TGACCA_L002_R2_001.fastq.gz\u001b[24m \u001b[4m/Users/kate/github/omics_sample_benchmark/input/HG002/140528_D00360_0019_BH8VDAADXX/Project_RM8391_RM8392/Sample_2B1/2B1_CAGATC_L001_R2_001.fastq.gz\u001b[24m \u001b[4m/Users/kate/github/omics_sample_benchmark/input/HG002/140528_D00360_0019_BH8VDAADXX/Project_RM8391_RM8392/Sample_2B1/2B1_CAGATC_L001_R2_002.fastq.gz\u001b[24m \u001b[4m/Users/kate/github/omics_sample_benchmark/input/HG002/140528_D00360_0019_BH8VDAADXX/Project_RM8391_RM8392/Sample_2B1/2B1_CAGATC_L002_R2_001.fastq.gz\u001b[24m \u001b[4m/Users/kate/github/omics_sample_benchmark/input/HG002/140528_D00360_0019_BH8VDAADXX/Project_RM8391_RM8392/Sample_2B1/2B1_CAGATC_L002_R2_002.fastq.gz\u001b[24m \u001b[4m/Users/kate/github/omics_sample_benchmark/input/HG002/140528_D00360_0019_BH8VDAADXX/Project_RM8391_RM8392/Sample_2B2/2B2_CCGTCC_L001_R2_001.fastq.gz\u001b[24m \u001b[4m/Users/kate/github/omics_sample_benchmark/input/HG002/140528_D00360_0019_BH8VDAADXX/Project_RM8391_RM8392/Sample_2B2/2B2_CCGTCC_L001_R2_002.fastq.gz\u001b[24m \u001b[4m/Users/kate/github/omics_sample_benchmark/input/HG002/140528_D00360_0019_BH8VDAADXX/Project_RM8391_RM8392/Sample_2B2/2B2_CCGTCC_L002_R2_001.fastq.gz\u001b[24m \u001b[4m/Users/kate/github/omics_sample_benchmark/input/HG002/140528_D00360_0019_BH8VDAADXX/Project_RM8391_RM8392/Sample_2B2/2B2_CCGTCC_L002_R2_002.fastq.gz\u001b[24m \u001b[4m/Users/kate/github/omics_sample_benchmark/input/HG002/140528_D00360_0019_BH8VDAADXX/Project_RM8391_RM8392/Sample_2C1/2C1_AGTCAA_L001_R2_001.fastq.gz\u001b[24m \u001b[4m/Users/kate/github/omics_sample_benchmark/input/HG002/140528_D00360_0019_BH8VDAADXX/Project_RM8391_RM8392/Sample_2C1/2C1_AGTCAA_L002_R2_001.fastq.gz\u001b[24m \u001b[4m/Users/kate/github/omics_sample_benchmark/input/HG002/140528_D00360_0019_BH8VDAADXX/Project_RM8391_RM8392/Sample_2C2/2C2_AGTTCC_L001_R2_001.fastq.gz\u001b[24m \u001b[4m/Users/kate/github/omics_sample_benchmark/input/HG002/140528_D00360_0019_BH8VDAADXX/Project_RM8391_RM8392/Sample_2C2/2C2_AGTTCC_L002_R2_001.fastq.gz\u001b[24m \u001b[4m/Users/kate/github/omics_sample_benchmark/input/HG002/140528_D00360_0019_BH8VDAADXX/Project_RM8391_RM8392/Sample_2D1/2D1_ATGTCA_L001_R2_001.fastq.gz\u001b[24m \u001b[4m/Users/kate/github/omics_sample_benchmark/input/HG002/140528_D00360_0019_BH8VDAADXX/Project_RM8391_RM8392/Sample_2D1/2D1_ATGTCA_L002_R2_001.fastq.gz\u001b[24m \u001b[4m/Users/kate/github/omics_sample_benchmark/input/HG002/140528_D00360_0019_BH8VDAADXX/Project_RM8391_RM8392/Sample_2D2/2D2_GTCCGC_L001_R2_001.fastq.gz\u001b[24m \u001b[4m/Users/kate/github/omics_sample_benchmark/input/HG002/140528_D00360_0019_BH8VDAADXX/Project_RM8391_RM8392/Sample_2D2/2D2_GTCCGC_L002_R2_001.fastq.gz\u001b[24m \u001b[4m/Users/kate/github/omics_sample_benchmark/input/HG002/140528_D00360_0019_BH8VDAADXX/Project_RM8391_RM8392/Sample_2F1/2F1_ACAGTG_L001_R2_001.fastq.gz\u001b[24m \u001b[4m/Users/kate/github/omics_sample_benchmark/input/HG002/140528_D00360_0019_BH8VDAADXX/Project_RM8391_RM8392/Sample_2F1/2F1_ACAGTG_L001_R2_002.fastq.gz\u001b[24m \u001b[4m/Users/kate/github/omics_sample_benchmark/input/HG002/140528_D00360_0019_BH8VDAADXX/Project_RM8391_RM8392/Sample_2F1/2F1_ACAGTG_L001_R2_003.fastq.gz\u001b[24m \u001b[4m/Users/kate/github/omics_sample_benchmark/input/HG002/140528_D00360_0019_BH8VDAADXX/Project_RM8391_RM8392/Sample_2F1/2F1_ACAGTG_L001_R2_004.fastq.gz\u001b[24m \u001b[4m/Users/kate/github/omics_sample_benchmark/input/HG002/140528_D00360_0019_BH8VDAADXX/Project_RM8391_RM8392/Sample_2F1/2F1_ACAGTG_L002_R2_001.fastq.gz\u001b[24m \u001b[4m/Users/kate/github/omics_sample_benchmark/input/HG002/140528_D00360_0019_BH8VDAADXX/Project_RM8391_RM8392/Sample_2F1/2F1_ACAGTG_L002_R2_002.fastq.gz\u001b[24m \u001b[4m/Users/kate/github/omics_sample_benchmark/input/HG002/140528_D00360_0019_BH8VDAADXX/Project_RM8391_RM8392/Sample_2F1/2F1_ACAGTG_L002_R2_003.fastq.gz\u001b[24m \u001b[4m/Users/kate/github/omics_sample_benchmark/input/HG002/140528_D00360_0019_BH8VDAADXX/Project_RM8391_RM8392/Sample_2F1/2F1_ACAGTG_L002_R2_004.fastq.gz\u001b[24m \u001b[4m/Users/kate/github/omics_sample_benchmark/input/HG002/140528_D00360_0019_BH8VDAADXX/Project_RM8391_RM8392/Sample_2F2/2F2_GCCAAT_L001_R2_001.fastq.gz\u001b[24m \u001b[4m/Users/kate/github/omics_sample_benchmark/input/HG002/140528_D00360_0019_BH8VDAADXX/Project_RM8391_RM8392/Sample_2F2/2F2_GCCAAT_L001_R2_002.fastq.gz\u001b[24m \u001b[4m/Users/kate/github/omics_sample_benchmark/input/HG002/140528_D00360_0019_BH8VDAADXX/Project_RM8391_RM8392/Sample_2F2/2F2_GCCAAT_L001_R2_003.fastq.gz\u001b[24m \u001b[4m/Users/kate/github/omics_sample_benchmark/input/HG002/140528_D00360_0019_BH8VDAADXX/Project_RM8391_RM8392/Sample_2F2/2F2_GCCAAT_L001_R2_004.fastq.gz\u001b[24m \u001b[4m/Users/kate/github/omics_sample_benchmark/input/HG002/140528_D00360_0019_BH8VDAADXX/Project_RM8391_RM8392/Sample_2F2/2F2_GCCAAT_L002_R2_001.fastq.gz\u001b[24m \u001b[4m/Users/kate/github/omics_sample_benchmark/input/HG002/140528_D00360_0019_BH8VDAADXX/Project_RM8391_RM8392/Sample_2F2/2F2_GCCAAT_L002_R2_002.fastq.gz\u001b[24m \u001b[4m/Users/kate/github/omics_sample_benchmark/input/HG002/140528_D00360_0019_BH8VDAADXX/Project_RM8391_RM8392/Sample_2F2/2F2_GCCAAT_L002_R2_003.fastq.gz\u001b[24m \u001b[4m/Users/kate/github/omics_sample_benchmark/input/HG002/140528_D00360_0019_BH8VDAADXX/Project_RM8391_RM8392/Sample_2F2/2F2_GCCAAT_L002_R2_004.fastq.gz\u001b[24m \u001b[4m/Users/kate/github/omics_sample_benchmark/input/HG002/140528_D00360_0019_BH8VDAADXX/Project_RM8391_RM8392/Sample_2L1/2L1_CTTGTA_L001_R2_001.fastq.gz\u001b[24m \u001b[4m/Users/kate/github/omics_sample_benchmark/input/HG002/140528_D00360_0019_BH8VDAADXX/Project_RM8391_RM8392/Sample_2L1/2L1_CTTGTA_L001_R2_002.fastq.gz\u001b[24m \u001b[4m/Users/kate/github/omics_sample_benchmark/input/HG002/140528_D00360_0019_BH8VDAADXX/Project_RM8391_RM8392/Sample_2L1/2L1_CTTGTA_L001_R2_003.fastq.gz\u001b[24m \u001b[4m/Users/kate/github/omics_sample_benchmark/input/HG002/140528_D00360_0019_BH8VDAADXX/Project_RM8391_RM8392/Sample_2L1/2L1_CTTGTA_L001_R2_004.fastq.gz\u001b[24m \u001b[4m/Users/kate/github/omics_sample_benchmark/input/HG002/140528_D00360_0019_BH8VDAADXX/Project_RM8391_RM8392/Sample_2L1/2L1_CTTGTA_L002_R2_001.fastq.gz\u001b[24m \u001b[4m/Users/kate/github/omics_sample_benchmark/input/HG002/140528_D00360_0019_BH8VDAADXX/Project_RM8391_RM8392/Sample_2L1/2L1_CTTGTA_L002_R2_002.fastq.gz\u001b[24m \u001b[4m/Users/kate/github/omics_sample_benchmark/input/HG002/140528_D00360_0019_BH8VDAADXX/Project_RM8391_RM8392/Sample_2L1/2L1_CTTGTA_L002_R2_003.fastq.gz\u001b[24m \u001b[4m/Users/kate/github/omics_sample_benchmark/input/HG002/140528_D00360_0019_BH8VDAADXX/Project_RM8391_RM8392/Sample_2L1/2L1_CTTGTA_L002_R2_004.fastq.gz\u001b[24m \u001b[4m/Users/kate/github/omics_sample_benchmark/input/HG002/140528_D00360_0019_BH8VDAADXX/Project_RM8391_RM8392/Sample_2L2/2L2_GTGAAA_L001_R2_001.fastq.gz\u001b[24m \u001b[4m/Users/kate/github/omics_sample_benchmark/input/HG002/140528_D00360_0019_BH8VDAADXX/Project_RM8391_RM8392/Sample_2L2/2L2_GTGAAA_L001_R2_002.fastq.gz\u001b[24m \u001b[4m/Users/kate/github/omics_sample_benchmark/input/HG002/140528_D00360_0019_BH8VDAADXX/Project_RM8391_RM8392/Sample_2L2/2L2_GTGAAA_L001_R2_003.fastq.gz\u001b[24m \u001b[4m/Users/kate/github/omics_sample_benchmark/input/HG002/140528_D00360_0019_BH8VDAADXX/Project_RM8391_RM8392/Sample_2L2/2L2_GTGAAA_L001_R2_004.fastq.gz\u001b[24m \u001b[4m/Users/kate/github/omics_sample_benchmark/input/HG002/140528_D00360_0019_BH8VDAADXX/Project_RM8391_RM8392/Sample_2L2/2L2_GTGAAA_L002_R2_001.fastq.gz\u001b[24m \u001b[4m/Users/kate/github/omics_sample_benchmark/input/HG002/140528_D00360_0019_BH8VDAADXX/Project_RM8391_RM8392/Sample_2L2/2L2_GTGAAA_L002_R2_002.fastq.gz\u001b[24m \u001b[4m/Users/kate/github/omics_sample_benchmark/input/HG002/140528_D00360_0019_BH8VDAADXX/Project_RM8391_RM8392/Sample_2L2/2L2_GTGAAA_L002_R2_003.fastq.gz\u001b[24m \u001b[4m/Users/kate/github/omics_sample_benchmark/input/HG002/140528_D00360_0019_BH8VDAADXX/Project_RM8391_RM8392/Sample_2L2/2L2_GTGAAA_L002_R2_004.fastq.gz\u001b[24m`, stdout>Base.FileRedirect(\"/Users/kate/github/omics_sample_benchmark/input/HG002_cat/HG002_R2.fastq.gz\", false))\n"
     ]
    },
    {
     "data": {
      "text/plain": [
       "Process(`\u001b[4mcat\u001b[24m \u001b[4m/Users/kate/github/omics_sample_benchmark/input/HG002/140528_D00360_0018_AH8VC6ADXX/Project_RM8391_RM8392/Sample_2A1/2A1_CGATGT_L001_R2_001.fastq.gz\u001b[24m \u001b[4m/Users/kate/github/omics_sample_benchmark/input/HG002/140528_D00360_0018_AH8VC6ADXX/Project_RM8391_RM8392/Sample_2A1/2A1_CGATGT_L001_R2_002.fastq.gz\u001b[24m \u001b[4m/Users/kate/github/omics_sample_benchmark/input/HG002/140528_D00360_0018_AH8VC6ADXX/Project_RM8391_RM8392/Sample_2A1/2A1_CGATGT_L002_R2_001.fastq.gz\u001b[24m \u001b[4m/Users/kate/github/omics_sample_benchmark/input/HG002/140528_D00360_0018_AH8VC6ADXX/Project_RM8391_RM8392/Sample_2A1/2A1_CGATGT_L002_R2_002.fastq.gz\u001b[24m \u001b[4m/Users/kate/github/omics_sample_benchmark/input/HG002/140528_D00360_0018_AH8VC6ADXX/Project_RM8391_RM8392/Sample_2A2/2A2_TGACCA_L001_R2_001.fastq.gz\u001b[24m \u001b[4m/Users/kate/github/omics_sample_benchmark/input/HG002/140528_D00360_0018_AH8VC6ADXX/Project_RM8391_RM8392/Sample_2A2/2A2_TGACCA_L001_R2_002.fastq.gz\u001b[24m \u001b[4m/Users/kate/github/omics_sample_benchmark/input/HG002/140528_D00360_0018_AH8VC6ADXX/Project_RM8391_RM8392/Sample_2A2/2A2_TGACCA_L002_R2_001.fastq.gz\u001b[24m \u001b[4m/Users/kate/github/omics_sample_benchmark/input/HG002/140528_D00360_0018_AH8VC6ADXX/Project_RM8391_RM8392/Sample_2A2/2A2_TGACCA_L002_R2_002.fastq.gz\u001b[24m \u001b[4m/Users/kate/github/omics_sample_benchmark/input/HG002/140528_D00360_0018_AH8VC6ADXX/Project_RM8391_RM8392/Sample_2B1/2B1_CAGATC_L001_R2_001.fastq.gz\u001b[24m \u001b[4m/Users/kate/github/omics_sample_benchmark/input/HG002/140528_D00360_0018_AH8VC6ADXX/Project_RM8391_RM8392/Sample_2B1/2B1_CAGATC_L001_R2_002.fastq.gz\u001b[24m \u001b[4m/Users/kate/github/omics_sample_benchmark/input/HG002/140528_D00360_0018_AH8VC6ADXX/Project_RM8391_RM8392/Sample_2B1/2B1_CAGATC_L002_R2_001.fastq.gz\u001b[24m \u001b[4m/Users/kate/github/omics_sample_benchmark/input/HG002/140528_D00360_0018_AH8VC6ADXX/Project_RM8391_RM8392/Sample_2B1/2B1_CAGATC_L002_R2_002.fastq.gz\u001b[24m \u001b[4m/Users/kate/github/omics_sample_benchmark/input/HG002/140528_D00360_0018_AH8VC6ADXX/Project_RM8391_RM8392/Sample_2B2/2B2_CCGTCC_L001_R2_001.fastq.gz\u001b[24m \u001b[4m/Users/kate/github/omics_sample_benchmark/input/HG002/140528_D00360_0018_AH8VC6ADXX/Project_RM8391_RM8392/Sample_2B2/2B2_CCGTCC_L001_R2_002.fastq.gz\u001b[24m \u001b[4m/Users/kate/github/omics_sample_benchmark/input/HG002/140528_D00360_0018_AH8VC6ADXX/Project_RM8391_RM8392/Sample_2B2/2B2_CCGTCC_L002_R2_001.fastq.gz\u001b[24m \u001b[4m/Users/kate/github/omics_sample_benchmark/input/HG002/140528_D00360_0018_AH8VC6ADXX/Project_RM8391_RM8392/Sample_2B2/2B2_CCGTCC_L002_R2_002.fastq.gz\u001b[24m \u001b[4m/Users/kate/github/omics_sample_benchmark/input/HG002/140528_D00360_0018_AH8VC6ADXX/Project_RM8391_RM8392/Sample_2C1/2C1_AGTCAA_L001_R2_001.fastq.gz\u001b[24m \u001b[4m/Users/kate/github/omics_sample_benchmark/input/HG002/140528_D00360_0018_AH8VC6ADXX/Project_RM8391_RM8392/Sample_2C1/2C1_AGTCAA_L001_R2_002.fastq.gz\u001b[24m \u001b[4m/Users/kate/github/omics_sample_benchmark/input/HG002/140528_D00360_0018_AH8VC6ADXX/Project_RM8391_RM8392/Sample_2C1/2C1_AGTCAA_L002_R2_001.fastq.gz\u001b[24m \u001b[4m/Users/kate/github/omics_sample_benchmark/input/HG002/140528_D00360_0018_AH8VC6ADXX/Project_RM8391_RM8392/Sample_2C1/2C1_AGTCAA_L002_R2_002.fastq.gz\u001b[24m \u001b[4m/Users/kate/github/omics_sample_benchmark/input/HG002/140528_D00360_0018_AH8VC6ADXX/Project_RM8391_RM8392/Sample_2C2/2C2_AGTTCC_L001_R2_001.fastq.gz\u001b[24m \u001b[4m/Users/kate/github/omics_sample_benchmark/input/HG002/140528_D00360_0018_AH8VC6ADXX/Project_RM8391_RM8392/Sample_2C2/2C2_AGTTCC_L002_R2_001.fastq.gz\u001b[24m \u001b[4m/Users/kate/github/omics_sample_benchmark/input/HG002/140528_D00360_0018_AH8VC6ADXX/Project_RM8391_RM8392/Sample_2C2/2C2_AGTTCC_L002_R2_002.fastq.gz\u001b[24m \u001b[4m/Users/kate/github/omics_sample_benchmark/input/HG002/140528_D00360_0018_AH8VC6ADXX/Project_RM8391_RM8392/Sample_2D1/2D1_ATGTCA_L001_R2_001.fastq.gz\u001b[24m \u001b[4m/Users/kate/github/omics_sample_benchmark/input/HG002/140528_D00360_0018_AH8VC6ADXX/Project_RM8391_RM8392/Sample_2D1/2D1_ATGTCA_L001_R2_002.fastq.gz\u001b[24m \u001b[4m/Users/kate/github/omics_sample_benchmark/input/HG002/140528_D00360_0018_AH8VC6ADXX/Project_RM8391_RM8392/Sample_2D1/2D1_ATGTCA_L002_R2_001.fastq.gz\u001b[24m \u001b[4m/Users/kate/github/omics_sample_benchmark/input/HG002/140528_D00360_0018_AH8VC6ADXX/Project_RM8391_RM8392/Sample_2D1/2D1_ATGTCA_L002_R2_002.fastq.gz\u001b[24m \u001b[4m/Users/kate/github/omics_sample_benchmark/input/HG002/140528_D00360_0018_AH8VC6ADXX/Project_RM8391_RM8392/Sample_2D2/2D2_GTCCGC_L001_R2_001.fastq.gz\u001b[24m \u001b[4m/Users/kate/github/omics_sample_benchmark/input/HG002/140528_D00360_0018_AH8VC6ADXX/Project_RM8391_RM8392/Sample_2D2/2D2_GTCCGC_L001_R2_002.fastq.gz\u001b[24m \u001b[4m/Users/kate/github/omics_sample_benchmark/input/HG002/140528_D00360_0018_AH8VC6ADXX/Project_RM8391_RM8392/Sample_2D2/2D2_GTCCGC_L002_R2_001.fastq.gz\u001b[24m \u001b[4m/Users/kate/github/omics_sample_benchmark/input/HG002/140528_D00360_0018_AH8VC6ADXX/Project_RM8391_RM8392/Sample_2D2/2D2_GTCCGC_L002_R2_002.fastq.gz\u001b[24m \u001b[4m/Users/kate/github/omics_sample_benchmark/input/HG002/140528_D00360_0018_AH8VC6ADXX/Project_RM8391_RM8392/Sample_2F1/2F1_ACAGTG_L001_R2_001.fastq.gz\u001b[24m \u001b[4m/Users/kate/github/omics_sample_benchmark/input/HG002/140528_D00360_0018_AH8VC6ADXX/Project_RM8391_RM8392/Sample_2F1/2F1_ACAGTG_L001_R2_002.fastq.gz\u001b[24m \u001b[4m/Users/kate/github/omics_sample_benchmark/input/HG002/140528_D00360_0018_AH8VC6ADXX/Project_RM8391_RM8392/Sample_2F1/2F1_ACAGTG_L001_R2_003.fastq.gz\u001b[24m \u001b[4m/Users/kate/github/omics_sample_benchmark/input/HG002/140528_D00360_0018_AH8VC6ADXX/Project_RM8391_RM8392/Sample_2F1/2F1_ACAGTG_L001_R2_004.fastq.gz\u001b[24m \u001b[4m/Users/kate/github/omics_sample_benchmark/input/HG002/140528_D00360_0018_AH8VC6ADXX/Project_RM8391_RM8392/Sample_2F1/2F1_ACAGTG_L001_R2_005.fastq.gz\u001b[24m \u001b[4m/Users/kate/github/omics_sample_benchmark/input/HG002/140528_D00360_0018_AH8VC6ADXX/Project_RM8391_RM8392/Sample_2F1/2F1_ACAGTG_L001_R2_006.fastq.gz\u001b[24m \u001b[4m/Users/kate/github/omics_sample_benchmark/input/HG002/140528_D00360_0018_AH8VC6ADXX/Project_RM8391_RM8392/Sample_2F1/2F1_ACAGTG_L002_R2_001.fastq.gz\u001b[24m \u001b[4m/Users/kate/github/omics_sample_benchmark/input/HG002/140528_D00360_0018_AH8VC6ADXX/Project_RM8391_RM8392/Sample_2F1/2F1_ACAGTG_L002_R2_002.fastq.gz\u001b[24m \u001b[4m/Users/kate/github/omics_sample_benchmark/input/HG002/140528_D00360_0018_AH8VC6ADXX/Project_RM8391_RM8392/Sample_2F1/2F1_ACAGTG_L002_R2_003.fastq.gz\u001b[24m \u001b[4m/Users/kate/github/omics_sample_benchmark/input/HG002/140528_D00360_0018_AH8VC6ADXX/Project_RM8391_RM8392/Sample_2F1/2F1_ACAGTG_L002_R2_004.fastq.gz\u001b[24m \u001b[4m/Users/kate/github/omics_sample_benchmark/input/HG002/140528_D00360_0018_AH8VC6ADXX/Project_RM8391_RM8392/Sample_2F1/2F1_ACAGTG_L002_R2_005.fastq.gz\u001b[24m \u001b[4m/Users/kate/github/omics_sample_benchmark/input/HG002/140528_D00360_0018_AH8VC6ADXX/Project_RM8391_RM8392/Sample_2F1/2F1_ACAGTG_L002_R2_006.fastq.gz\u001b[24m \u001b[4m/Users/kate/github/omics_sample_benchmark/input/HG002/140528_D00360_0018_AH8VC6ADXX/Project_RM8391_RM8392/Sample_2F2/2F2_GCCAAT_L001_R2_001.fastq.gz\u001b[24m \u001b[4m/Users/kate/github/omics_sample_benchmark/input/HG002/140528_D00360_0018_AH8VC6ADXX/Project_RM8391_RM8392/Sample_2F2/2F2_GCCAAT_L001_R2_002.fastq.gz\u001b[24m \u001b[4m/Users/kate/github/omics_sample_benchmark/input/HG002/140528_D00360_0018_AH8VC6ADXX/Project_RM8391_RM8392/Sample_2F2/2F2_GCCAAT_L001_R2_003.fastq.gz\u001b[24m \u001b[4m/Users/kate/github/omics_sample_benchmark/input/HG002/140528_D00360_0018_AH8VC6ADXX/Project_RM8391_RM8392/Sample_2F2/2F2_GCCAAT_L001_R2_004.fastq.gz\u001b[24m \u001b[4m/Users/kate/github/omics_sample_benchmark/input/HG002/140528_D00360_0018_AH8VC6ADXX/Project_RM8391_RM8392/Sample_2F2/2F2_GCCAAT_L001_R2_005.fastq.gz\u001b[24m \u001b[4m/Users/kate/github/omics_sample_benchmark/input/HG002/140528_D00360_0018_AH8VC6ADXX/Project_RM8391_RM8392/Sample_2F2/2F2_GCCAAT_L001_R2_006.fastq.gz\u001b[24m \u001b[4m/Users/kate/github/omics_sample_benchmark/input/HG002/140528_D00360_0018_AH8VC6ADXX/Project_RM8391_RM8392/Sample_2F2/2F2_GCCAAT_L002_R2_001.fastq.gz\u001b[24m \u001b[4m/Users/kate/github/omics_sample_benchmark/input/HG002/140528_D00360_0018_AH8VC6ADXX/Project_RM8391_RM8392/Sample_2F2/2F2_GCCAAT_L002_R2_002.fastq.gz\u001b[24m \u001b[4m/Users/kate/github/omics_sample_benchmark/input/HG002/140528_D00360_0018_AH8VC6ADXX/Project_RM8391_RM8392/Sample_2F2/2F2_GCCAAT_L002_R2_003.fastq.gz\u001b[24m \u001b[4m/Users/kate/github/omics_sample_benchmark/input/HG002/140528_D00360_0018_AH8VC6ADXX/Project_RM8391_RM8392/Sample_2F2/2F2_GCCAAT_L002_R2_004.fastq.gz\u001b[24m \u001b[4m/Users/kate/github/omics_sample_benchmark/input/HG002/140528_D00360_0018_AH8VC6ADXX/Project_RM8391_RM8392/Sample_2F2/2F2_GCCAAT_L002_R2_005.fastq.gz\u001b[24m \u001b[4m/Users/kate/github/omics_sample_benchmark/input/HG002/140528_D00360_0018_AH8VC6ADXX/Project_RM8391_RM8392/Sample_2F2/2F2_GCCAAT_L002_R2_006.fastq.gz\u001b[24m \u001b[4m/Users/kate/github/omics_sample_benchmark/input/HG002/140528_D00360_0018_AH8VC6ADXX/Project_RM8391_RM8392/Sample_2L1/2L1_CTTGTA_L001_R2_001.fastq.gz\u001b[24m \u001b[4m/Users/kate/github/omics_sample_benchmark/input/HG002/140528_D00360_0018_AH8VC6ADXX/Project_RM8391_RM8392/Sample_2L1/2L1_CTTGTA_L001_R2_002.fastq.gz\u001b[24m \u001b[4m/Users/kate/github/omics_sample_benchmark/input/HG002/140528_D00360_0018_AH8VC6ADXX/Project_RM8391_RM8392/Sample_2L1/2L1_CTTGTA_L001_R2_003.fastq.gz\u001b[24m \u001b[4m/Users/kate/github/omics_sample_benchmark/input/HG002/140528_D00360_0018_AH8VC6ADXX/Project_RM8391_RM8392/Sample_2L1/2L1_CTTGTA_L001_R2_004.fastq.gz\u001b[24m \u001b[4m/Users/kate/github/omics_sample_benchmark/input/HG002/140528_D00360_0018_AH8VC6ADXX/Project_RM8391_RM8392/Sample_2L1/2L1_CTTGTA_L001_R2_005.fastq.gz\u001b[24m \u001b[4m/Users/kate/github/omics_sample_benchmark/input/HG002/140528_D00360_0018_AH8VC6ADXX/Project_RM8391_RM8392/Sample_2L1/2L1_CTTGTA_L001_R2_006.fastq.gz\u001b[24m \u001b[4m/Users/kate/github/omics_sample_benchmark/input/HG002/140528_D00360_0018_AH8VC6ADXX/Project_RM8391_RM8392/Sample_2L1/2L1_CTTGTA_L001_R2_007.fastq.gz\u001b[24m \u001b[4m/Users/kate/github/omics_sample_benchmark/input/HG002/140528_D00360_0018_AH8VC6ADXX/Project_RM8391_RM8392/Sample_2L1/2L1_CTTGTA_L002_R2_001.fastq.gz\u001b[24m \u001b[4m/Users/kate/github/omics_sample_benchmark/input/HG002/140528_D00360_0018_AH8VC6ADXX/Project_RM8391_RM8392/Sample_2L1/2L1_CTTGTA_L002_R2_002.fastq.gz\u001b[24m \u001b[4m/Users/kate/github/omics_sample_benchmark/input/HG002/140528_D00360_0018_AH8VC6ADXX/Project_RM8391_RM8392/Sample_2L1/2L1_CTTGTA_L002_R2_003.fastq.gz\u001b[24m \u001b[4m/Users/kate/github/omics_sample_benchmark/input/HG002/140528_D00360_0018_AH8VC6ADXX/Project_RM8391_RM8392/Sample_2L1/2L1_CTTGTA_L002_R2_004.fastq.gz\u001b[24m \u001b[4m/Users/kate/github/omics_sample_benchmark/input/HG002/140528_D00360_0018_AH8VC6ADXX/Project_RM8391_RM8392/Sample_2L1/2L1_CTTGTA_L002_R2_005.fastq.gz\u001b[24m \u001b[4m/Users/kate/github/omics_sample_benchmark/input/HG002/140528_D00360_0018_AH8VC6ADXX/Project_RM8391_RM8392/Sample_2L1/2L1_CTTGTA_L002_R2_006.fastq.gz\u001b[24m \u001b[4m/Users/kate/github/omics_sample_benchmark/input/HG002/140528_D00360_0018_AH8VC6ADXX/Project_RM8391_RM8392/Sample_2L1/2L1_CTTGTA_L002_R2_007.fastq.gz\u001b[24m \u001b[4m/Users/kate/github/omics_sample_benchmark/input/HG002/140528_D00360_0018_AH8VC6ADXX/Project_RM8391_RM8392/Sample_2L2/2L2_GTGAAA_L001_R2_001.fastq.gz\u001b[24m \u001b[4m/Users/kate/github/omics_sample_benchmark/input/HG002/140528_D00360_0018_AH8VC6ADXX/Project_RM8391_RM8392/Sample_2L2/2L2_GTGAAA_L001_R2_002.fastq.gz\u001b[24m \u001b[4m/Users/kate/github/omics_sample_benchmark/input/HG002/140528_D00360_0018_AH8VC6ADXX/Project_RM8391_RM8392/Sample_2L2/2L2_GTGAAA_L001_R2_003.fastq.gz\u001b[24m \u001b[4m/Users/kate/github/omics_sample_benchmark/input/HG002/140528_D00360_0018_AH8VC6ADXX/Project_RM8391_RM8392/Sample_2L2/2L2_GTGAAA_L001_R2_004.fastq.gz\u001b[24m \u001b[4m/Users/kate/github/omics_sample_benchmark/input/HG002/140528_D00360_0018_AH8VC6ADXX/Project_RM8391_RM8392/Sample_2L2/2L2_GTGAAA_L001_R2_005.fastq.gz\u001b[24m \u001b[4m/Users/kate/github/omics_sample_benchmark/input/HG002/140528_D00360_0018_AH8VC6ADXX/Project_RM8391_RM8392/Sample_2L2/2L2_GTGAAA_L001_R2_006.fastq.gz\u001b[24m \u001b[4m/Users/kate/github/omics_sample_benchmark/input/HG002/140528_D00360_0018_AH8VC6ADXX/Project_RM8391_RM8392/Sample_2L2/2L2_GTGAAA_L002_R2_001.fastq.gz\u001b[24m \u001b[4m/Users/kate/github/omics_sample_benchmark/input/HG002/140528_D00360_0018_AH8VC6ADXX/Project_RM8391_RM8392/Sample_2L2/2L2_GTGAAA_L002_R2_002.fastq.gz\u001b[24m \u001b[4m/Users/kate/github/omics_sample_benchmark/input/HG002/140528_D00360_0018_AH8VC6ADXX/Project_RM8391_RM8392/Sample_2L2/2L2_GTGAAA_L002_R2_003.fastq.gz\u001b[24m \u001b[4m/Users/kate/github/omics_sample_benchmark/input/HG002/140528_D00360_0018_AH8VC6ADXX/Project_RM8391_RM8392/Sample_2L2/2L2_GTGAAA_L002_R2_004.fastq.gz\u001b[24m \u001b[4m/Users/kate/github/omics_sample_benchmark/input/HG002/140528_D00360_0018_AH8VC6ADXX/Project_RM8391_RM8392/Sample_2L2/2L2_GTGAAA_L002_R2_005.fastq.gz\u001b[24m \u001b[4m/Users/kate/github/omics_sample_benchmark/input/HG002/140528_D00360_0018_AH8VC6ADXX/Project_RM8391_RM8392/Sample_2L2/2L2_GTGAAA_L002_R2_006.fastq.gz\u001b[24m \u001b[4m/Users/kate/github/omics_sample_benchmark/input/HG002/140528_D00360_0019_BH8VDAADXX/Project_RM8391_RM8392/Sample_2A1/2A1_CGATGT_L001_R2_001.fastq.gz\u001b[24m \u001b[4m/Users/kate/github/omics_sample_benchmark/input/HG002/140528_D00360_0019_BH8VDAADXX/Project_RM8391_RM8392/Sample_2A1/2A1_CGATGT_L002_R2_001.fastq.gz\u001b[24m \u001b[4m/Users/kate/github/omics_sample_benchmark/input/HG002/140528_D00360_0019_BH8VDAADXX/Project_RM8391_RM8392/Sample_2A2/2A2_TGACCA_L001_R2_001.fastq.gz\u001b[24m \u001b[4m/Users/kate/github/omics_sample_benchmark/input/HG002/140528_D00360_0019_BH8VDAADXX/Project_RM8391_RM8392/Sample_2A2/2A2_TGACCA_L002_R2_001.fastq.gz\u001b[24m \u001b[4m/Users/kate/github/omics_sample_benchmark/input/HG002/140528_D00360_0019_BH8VDAADXX/Project_RM8391_RM8392/Sample_2B1/2B1_CAGATC_L001_R2_001.fastq.gz\u001b[24m \u001b[4m/Users/kate/github/omics_sample_benchmark/input/HG002/140528_D00360_0019_BH8VDAADXX/Project_RM8391_RM8392/Sample_2B1/2B1_CAGATC_L001_R2_002.fastq.gz\u001b[24m \u001b[4m/Users/kate/github/omics_sample_benchmark/input/HG002/140528_D00360_0019_BH8VDAADXX/Project_RM8391_RM8392/Sample_2B1/2B1_CAGATC_L002_R2_001.fastq.gz\u001b[24m \u001b[4m/Users/kate/github/omics_sample_benchmark/input/HG002/140528_D00360_0019_BH8VDAADXX/Project_RM8391_RM8392/Sample_2B1/2B1_CAGATC_L002_R2_002.fastq.gz\u001b[24m \u001b[4m/Users/kate/github/omics_sample_benchmark/input/HG002/140528_D00360_0019_BH8VDAADXX/Project_RM8391_RM8392/Sample_2B2/2B2_CCGTCC_L001_R2_001.fastq.gz\u001b[24m \u001b[4m/Users/kate/github/omics_sample_benchmark/input/HG002/140528_D00360_0019_BH8VDAADXX/Project_RM8391_RM8392/Sample_2B2/2B2_CCGTCC_L001_R2_002.fastq.gz\u001b[24m \u001b[4m/Users/kate/github/omics_sample_benchmark/input/HG002/140528_D00360_0019_BH8VDAADXX/Project_RM8391_RM8392/Sample_2B2/2B2_CCGTCC_L002_R2_001.fastq.gz\u001b[24m \u001b[4m/Users/kate/github/omics_sample_benchmark/input/HG002/140528_D00360_0019_BH8VDAADXX/Project_RM8391_RM8392/Sample_2B2/2B2_CCGTCC_L002_R2_002.fastq.gz\u001b[24m \u001b[4m/Users/kate/github/omics_sample_benchmark/input/HG002/140528_D00360_0019_BH8VDAADXX/Project_RM8391_RM8392/Sample_2C1/2C1_AGTCAA_L001_R2_001.fastq.gz\u001b[24m \u001b[4m/Users/kate/github/omics_sample_benchmark/input/HG002/140528_D00360_0019_BH8VDAADXX/Project_RM8391_RM8392/Sample_2C1/2C1_AGTCAA_L002_R2_001.fastq.gz\u001b[24m \u001b[4m/Users/kate/github/omics_sample_benchmark/input/HG002/140528_D00360_0019_BH8VDAADXX/Project_RM8391_RM8392/Sample_2C2/2C2_AGTTCC_L001_R2_001.fastq.gz\u001b[24m \u001b[4m/Users/kate/github/omics_sample_benchmark/input/HG002/140528_D00360_0019_BH8VDAADXX/Project_RM8391_RM8392/Sample_2C2/2C2_AGTTCC_L002_R2_001.fastq.gz\u001b[24m \u001b[4m/Users/kate/github/omics_sample_benchmark/input/HG002/140528_D00360_0019_BH8VDAADXX/Project_RM8391_RM8392/Sample_2D1/2D1_ATGTCA_L001_R2_001.fastq.gz\u001b[24m \u001b[4m/Users/kate/github/omics_sample_benchmark/input/HG002/140528_D00360_0019_BH8VDAADXX/Project_RM8391_RM8392/Sample_2D1/2D1_ATGTCA_L002_R2_001.fastq.gz\u001b[24m \u001b[4m/Users/kate/github/omics_sample_benchmark/input/HG002/140528_D00360_0019_BH8VDAADXX/Project_RM8391_RM8392/Sample_2D2/2D2_GTCCGC_L001_R2_001.fastq.gz\u001b[24m \u001b[4m/Users/kate/github/omics_sample_benchmark/input/HG002/140528_D00360_0019_BH8VDAADXX/Project_RM8391_RM8392/Sample_2D2/2D2_GTCCGC_L002_R2_001.fastq.gz\u001b[24m \u001b[4m/Users/kate/github/omics_sample_benchmark/input/HG002/140528_D00360_0019_BH8VDAADXX/Project_RM8391_RM8392/Sample_2F1/2F1_ACAGTG_L001_R2_001.fastq.gz\u001b[24m \u001b[4m/Users/kate/github/omics_sample_benchmark/input/HG002/140528_D00360_0019_BH8VDAADXX/Project_RM8391_RM8392/Sample_2F1/2F1_ACAGTG_L001_R2_002.fastq.gz\u001b[24m \u001b[4m/Users/kate/github/omics_sample_benchmark/input/HG002/140528_D00360_0019_BH8VDAADXX/Project_RM8391_RM8392/Sample_2F1/2F1_ACAGTG_L001_R2_003.fastq.gz\u001b[24m \u001b[4m/Users/kate/github/omics_sample_benchmark/input/HG002/140528_D00360_0019_BH8VDAADXX/Project_RM8391_RM8392/Sample_2F1/2F1_ACAGTG_L001_R2_004.fastq.gz\u001b[24m \u001b[4m/Users/kate/github/omics_sample_benchmark/input/HG002/140528_D00360_0019_BH8VDAADXX/Project_RM8391_RM8392/Sample_2F1/2F1_ACAGTG_L002_R2_001.fastq.gz\u001b[24m \u001b[4m/Users/kate/github/omics_sample_benchmark/input/HG002/140528_D00360_0019_BH8VDAADXX/Project_RM8391_RM8392/Sample_2F1/2F1_ACAGTG_L002_R2_002.fastq.gz\u001b[24m \u001b[4m/Users/kate/github/omics_sample_benchmark/input/HG002/140528_D00360_0019_BH8VDAADXX/Project_RM8391_RM8392/Sample_2F1/2F1_ACAGTG_L002_R2_003.fastq.gz\u001b[24m \u001b[4m/Users/kate/github/omics_sample_benchmark/input/HG002/140528_D00360_0019_BH8VDAADXX/Project_RM8391_RM8392/Sample_2F1/2F1_ACAGTG_L002_R2_004.fastq.gz\u001b[24m \u001b[4m/Users/kate/github/omics_sample_benchmark/input/HG002/140528_D00360_0019_BH8VDAADXX/Project_RM8391_RM8392/Sample_2F2/2F2_GCCAAT_L001_R2_001.fastq.gz\u001b[24m \u001b[4m/Users/kate/github/omics_sample_benchmark/input/HG002/140528_D00360_0019_BH8VDAADXX/Project_RM8391_RM8392/Sample_2F2/2F2_GCCAAT_L001_R2_002.fastq.gz\u001b[24m \u001b[4m/Users/kate/github/omics_sample_benchmark/input/HG002/140528_D00360_0019_BH8VDAADXX/Project_RM8391_RM8392/Sample_2F2/2F2_GCCAAT_L001_R2_003.fastq.gz\u001b[24m \u001b[4m/Users/kate/github/omics_sample_benchmark/input/HG002/140528_D00360_0019_BH8VDAADXX/Project_RM8391_RM8392/Sample_2F2/2F2_GCCAAT_L001_R2_004.fastq.gz\u001b[24m \u001b[4m/Users/kate/github/omics_sample_benchmark/input/HG002/140528_D00360_0019_BH8VDAADXX/Project_RM8391_RM8392/Sample_2F2/2F2_GCCAAT_L002_R2_001.fastq.gz\u001b[24m \u001b[4m/Users/kate/github/omics_sample_benchmark/input/HG002/140528_D00360_0019_BH8VDAADXX/Project_RM8391_RM8392/Sample_2F2/2F2_GCCAAT_L002_R2_002.fastq.gz\u001b[24m \u001b[4m/Users/kate/github/omics_sample_benchmark/input/HG002/140528_D00360_0019_BH8VDAADXX/Project_RM8391_RM8392/Sample_2F2/2F2_GCCAAT_L002_R2_003.fastq.gz\u001b[24m \u001b[4m/Users/kate/github/omics_sample_benchmark/input/HG002/140528_D00360_0019_BH8VDAADXX/Project_RM8391_RM8392/Sample_2F2/2F2_GCCAAT_L002_R2_004.fastq.gz\u001b[24m \u001b[4m/Users/kate/github/omics_sample_benchmark/input/HG002/140528_D00360_0019_BH8VDAADXX/Project_RM8391_RM8392/Sample_2L1/2L1_CTTGTA_L001_R2_001.fastq.gz\u001b[24m \u001b[4m/Users/kate/github/omics_sample_benchmark/input/HG002/140528_D00360_0019_BH8VDAADXX/Project_RM8391_RM8392/Sample_2L1/2L1_CTTGTA_L001_R2_002.fastq.gz\u001b[24m \u001b[4m/Users/kate/github/omics_sample_benchmark/input/HG002/140528_D00360_0019_BH8VDAADXX/Project_RM8391_RM8392/Sample_2L1/2L1_CTTGTA_L001_R2_003.fastq.gz\u001b[24m \u001b[4m/Users/kate/github/omics_sample_benchmark/input/HG002/140528_D00360_0019_BH8VDAADXX/Project_RM8391_RM8392/Sample_2L1/2L1_CTTGTA_L001_R2_004.fastq.gz\u001b[24m \u001b[4m/Users/kate/github/omics_sample_benchmark/input/HG002/140528_D00360_0019_BH8VDAADXX/Project_RM8391_RM8392/Sample_2L1/2L1_CTTGTA_L002_R2_001.fastq.gz\u001b[24m \u001b[4m/Users/kate/github/omics_sample_benchmark/input/HG002/140528_D00360_0019_BH8VDAADXX/Project_RM8391_RM8392/Sample_2L1/2L1_CTTGTA_L002_R2_002.fastq.gz\u001b[24m \u001b[4m/Users/kate/github/omics_sample_benchmark/input/HG002/140528_D00360_0019_BH8VDAADXX/Project_RM8391_RM8392/Sample_2L1/2L1_CTTGTA_L002_R2_003.fastq.gz\u001b[24m \u001b[4m/Users/kate/github/omics_sample_benchmark/input/HG002/140528_D00360_0019_BH8VDAADXX/Project_RM8391_RM8392/Sample_2L1/2L1_CTTGTA_L002_R2_004.fastq.gz\u001b[24m \u001b[4m/Users/kate/github/omics_sample_benchmark/input/HG002/140528_D00360_0019_BH8VDAADXX/Project_RM8391_RM8392/Sample_2L2/2L2_GTGAAA_L001_R2_001.fastq.gz\u001b[24m \u001b[4m/Users/kate/github/omics_sample_benchmark/input/HG002/140528_D00360_0019_BH8VDAADXX/Project_RM8391_RM8392/Sample_2L2/2L2_GTGAAA_L001_R2_002.fastq.gz\u001b[24m \u001b[4m/Users/kate/github/omics_sample_benchmark/input/HG002/140528_D00360_0019_BH8VDAADXX/Project_RM8391_RM8392/Sample_2L2/2L2_GTGAAA_L001_R2_003.fastq.gz\u001b[24m \u001b[4m/Users/kate/github/omics_sample_benchmark/input/HG002/140528_D00360_0019_BH8VDAADXX/Project_RM8391_RM8392/Sample_2L2/2L2_GTGAAA_L001_R2_004.fastq.gz\u001b[24m \u001b[4m/Users/kate/github/omics_sample_benchmark/input/HG002/140528_D00360_0019_BH8VDAADXX/Project_RM8391_RM8392/Sample_2L2/2L2_GTGAAA_L002_R2_001.fastq.gz\u001b[24m \u001b[4m/Users/kate/github/omics_sample_benchmark/input/HG002/140528_D00360_0019_BH8VDAADXX/Project_RM8391_RM8392/Sample_2L2/2L2_GTGAAA_L002_R2_002.fastq.gz\u001b[24m \u001b[4m/Users/kate/github/omics_sample_benchmark/input/HG002/140528_D00360_0019_BH8VDAADXX/Project_RM8391_RM8392/Sample_2L2/2L2_GTGAAA_L002_R2_003.fastq.gz\u001b[24m \u001b[4m/Users/kate/github/omics_sample_benchmark/input/HG002/140528_D00360_0019_BH8VDAADXX/Project_RM8391_RM8392/Sample_2L2/2L2_GTGAAA_L002_R2_004.fastq.gz\u001b[24m`, ProcessExited(0))"
      ]
     },
     "execution_count": 10,
     "metadata": {},
     "output_type": "execute_result"
    }
   ],
   "source": [
    "fastq_file_paths = readdir(\"/Users/kate/github/omics_sample_benchmark/input/$sample_name\", join=false)\n",
    "\n",
    "forward_read_files = []\n",
    "reverse_read_files = []\n",
    "\n",
    "number_of_forward_reads = 0\n",
    "number_of_reverse_reads = 0\n",
    "\n",
    "for file in fastq_files_to_check\n",
    "    if occursin(\"R1\", file)\n",
    "        push!(forward_read_files, file)\n",
    "        number_of_forward_reads += 1\n",
    "    end\n",
    "end\n",
    "\n",
    "for file in fastq_files_to_check\n",
    "    if occursin(\"R2\", file)\n",
    "        push!(reverse_read_files, file)\n",
    "        number_of_reverse_reads += 1\n",
    "    end\n",
    "end\n",
    "\n",
    "println(\"Number of Forward Reads = $number_of_forward_reads\\n\")\n",
    "println(\"Number of Reverse Reads = $number_of_reverse_reads\\n\")\n",
    "\n",
    "sample_cat_dir = joinpath(input_dir, string(sample_name, \"_cat\"))\n",
    "\n",
    "println(\"\\nCombining R1 Reads\\n\")\n",
    "\n",
    "run(pipeline(`cat $forward_read_files`, stdout=joinpath(sample_cat_dir, \"HG002_R1.fastq.gz\"))) \n",
    "\n",
    "println(\"\\nCombining R2 Reads\\n\")\n",
    "\n",
    "run(pipeline(`cat $reverse_read_files`, stdout=joinpath(sample_cat_dir, \"HG002_R2.fastq.gz\"))) "
   ]
  },
  {
   "cell_type": "markdown",
   "metadata": {},
   "source": [
    "## Run FastQC"
   ]
  },
  {
   "cell_type": "code",
   "execution_count": 11,
   "metadata": {},
   "outputs": [
    {
     "name": "stdout",
     "output_type": "stream",
     "text": [
      "(2020-10-05T10:56:46.527) Checking sequence ...\n",
      "`\u001b[4mfastqc\u001b[24m \u001b[4m--quiet\u001b[24m \u001b[4m--threads\u001b[24m \u001b[4m2\u001b[24m \u001b[4m--outdir\u001b[24m \u001b[4m/Users/kate/github/omics_sample_benchmark/output/check_sequence_HG002_cat\u001b[24m \u001b[4m/Users/kate/github/omics_sample_benchmark/input/HG002_cat/HG002_R2.fastq.gz\u001b[24m \u001b[4m/Users/kate/github/omics_sample_benchmark/input/HG002_cat/HG002_R1.fastq.gz\u001b[24m`\n",
      "(2020-10-05T11:50:00.588) Done in 53 minutes, 14 seconds, 61 milliseconds.\n"
     ]
    }
   ],
   "source": [
    "check_sequence(\n",
    "    Tuple(\n",
    "        joinpath(project_dir, value)\n",
    "        for (key, value) in project_json if endswith(key, \".fastq.gz\")\n",
    "    ),\n",
    "    joinpath(output_dir, string(\"check_sequence_\", sample_name, \"_cat\")),\n",
    "    project_json[\"n_job\"],\n",
    ")"
   ]
  }
 ],
 "metadata": {
  "@webio": {
   "lastCommId": null,
   "lastKernelId": null
  },
  "kernelspec": {
   "display_name": "Julia 1.5.2",
   "language": "julia",
   "name": "julia-1.5"
  },
  "language_info": {
   "file_extension": ".jl",
   "mimetype": "application/julia",
   "name": "julia",
   "version": "1.5.2"
  }
 },
 "nbformat": 4,
 "nbformat_minor": 4
}
