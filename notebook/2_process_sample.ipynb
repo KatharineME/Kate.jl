{
 "cells": [
  {
   "cell_type": "code",
   "execution_count": 1,
   "metadata": {},
   "outputs": [
    {
     "data": {
      "text/plain": [
       "Main.ProcessSequence"
      ]
     },
     "execution_count": 1,
     "metadata": {},
     "output_type": "execute_result"
    }
   ],
   "source": [
    "include(\"../src/ProcessSequence.jl\")"
   ]
  },
  {
   "cell_type": "code",
   "execution_count": 2,
   "metadata": {},
   "outputs": [
    {
     "data": {
      "text/plain": [
       "\"/opt/snpeff/snpEff/snpEff.jar\""
      ]
     },
     "execution_count": 2,
     "metadata": {},
     "output_type": "execute_result"
    }
   ],
   "source": [
    "project_dir = dirname(@__DIR__)\n",
    "\n",
    "using JSON: parse\n",
    "\n",
    "project_json = parse(read(joinpath(project_dir, \"project.json\"), String))\n",
    "\n",
    "sample_name = project_json[\"sample_name\"]\n",
    "\n",
    "output_dir = joinpath(project_dir, \"output\")\n",
    "\n",
    "input_dir = joinpath(project_dir, \"input\")\n",
    "\n",
    "sample_dir = joinpath(input_dir, sample_name)\n",
    "\n",
    "reference_dir = joinpath(input_dir, \"reference\")\n",
    "\n",
    "snpeff_jar = \"/opt/snpeff/snpEff/snpEff.jar\""
   ]
  },
  {
   "cell_type": "code",
   "execution_count": 3,
   "metadata": {},
   "outputs": [
    {
     "data": {
      "text/plain": [
       "\"738\""
      ]
     },
     "execution_count": 3,
     "metadata": {},
     "output_type": "execute_result"
    }
   ],
   "source": [
    "sample_name"
   ]
  },
  {
   "cell_type": "code",
   "execution_count": 4,
   "metadata": {},
   "outputs": [
    {
     "name": "stdout",
     "output_type": "stream",
     "text": [
      "Checking program...\n",
      "`\u001b[4mwhich\u001b[24m \u001b[4mskewer\u001b[24m`\n",
      "/opt/conda/bin/skewer\n",
      "`\u001b[4mwhich\u001b[24m \u001b[4mfastqc\u001b[24m`\n",
      "/opt/conda/bin/fastqc\n",
      "`\u001b[4mwhich\u001b[24m \u001b[4mbgzip\u001b[24m`\n",
      "/opt/conda/bin/bgzip\n",
      "`\u001b[4mwhich\u001b[24m \u001b[4mtabix\u001b[24m`\n",
      "/opt/conda/bin/tabix\n",
      "`\u001b[4mwhich\u001b[24m \u001b[4mminimap2\u001b[24m`\n",
      "/opt/conda/bin/minimap2\n",
      "`\u001b[4mwhich\u001b[24m \u001b[4msamtools\u001b[24m`\n",
      "/opt/conda/bin/samtools\n",
      "`\u001b[4mwhich\u001b[24m \u001b[4mbcftools\u001b[24m`\n",
      "/opt/conda/bin/bcftools\n",
      "`\u001b[4mwhich\u001b[24m \u001b[4mkallisto\u001b[24m`\n",
      "/opt/conda/bin/kallisto\n",
      "`\u001b[4mbash\u001b[24m \u001b[4m-c\u001b[24m \u001b[4m'source activate py2 && which configManta.py'\u001b[24m`\n",
      "/opt/conda/envs/py2/bin/configManta.py\n",
      "`\u001b[4mbash\u001b[24m \u001b[4m-c\u001b[24m \u001b[4m'source activate py2 && which configureStrelkaGermlineWorkflow.py'\u001b[24m`\n",
      "/opt/conda/envs/py2/bin/configureStrelkaGermlineWorkflow.py\n",
      "`\u001b[4mbash\u001b[24m \u001b[4m-c\u001b[24m \u001b[4m'source activate py2 && which configureStrelkaSomaticWorkflow.py'\u001b[24m`\n",
      "/opt/conda/envs/py2/bin/configureStrelkaSomaticWorkflow.py\n"
     ]
    }
   ],
   "source": [
    "ProcessSequence.check_program()"
   ]
  },
  {
   "cell_type": "code",
   "execution_count": 5,
   "metadata": {},
   "outputs": [
    {
     "data": {
      "text/plain": [
       "(\"/home/jovyan/ProcessSequence.jl/input/reference/GCA_000001405.15_GRCh38_no_alt_analysis_set.fna.gz\", \"/home/jovyan/ProcessSequence.jl/input/reference/chromosome.bed.gz\", \"/home/jovyan/ProcessSequence.jl/input/reference/chrn_n.tsv\", 8, 40, 1, \"/opt/snpeff/snpEff/snpEff.jar\")"
      ]
     },
     "execution_count": 5,
     "metadata": {},
     "output_type": "execute_result"
    }
   ],
   "source": [
    "process_dna_arguments = (\n",
    "    joinpath(\n",
    "        reference_dir,\n",
    "        \"GCA_000001405.15_GRCh38_no_alt_analysis_set.fna.gz\",\n",
    "    ),\n",
    "    joinpath(reference_dir, \"chromosome.bed.gz\"),\n",
    "    joinpath(reference_dir, \"chrn_n.tsv\"),\n",
    "    project_json[\"n_job\"],\n",
    "    project_json[\"gb_memory\"],\n",
    "    1,\n",
    "    snpeff_jar,\n",
    ")"
   ]
  },
  {
   "cell_type": "code",
   "execution_count": null,
   "metadata": {},
   "outputs": [
    {
     "name": "stdout",
     "output_type": "stream",
     "text": [
      "(2020-12-14T04:03:43.596) Trimming sequence ...\n",
      "`\u001b[4mskewer\u001b[24m \u001b[4m--threads\u001b[24m \u001b[4m8\u001b[24m \u001b[4m-x\u001b[24m \u001b[4mAGATCGGAAGAGC\u001b[24m \u001b[4m--mode\u001b[24m \u001b[4mpe\u001b[24m \u001b[4m-Q\u001b[24m \u001b[4m2\u001b[24m \u001b[4m-q\u001b[24m \u001b[4m2\u001b[24m \u001b[4m--compress\u001b[24m \u001b[4m--output\u001b[24m \u001b[4m/home/jovyan/ProcessSequence.jl/output/process_germ_dna_738/trim_sequence/germ\u001b[24m \u001b[4m--quiet\u001b[24m \u001b[4m/home/jovyan/ProcessSequence.jl/input/738/input/WGC056190D_combined_R1.fastq.gz\u001b[24m \u001b[4m/home/jovyan/ProcessSequence.jl/input/738/input/WGC056190D_combined_R2.fastq.gz\u001b[24m`\n",
      ".--. .-.\n",
      ": .--': :.-.\n",
      "`. `. : `'.' .--. .-..-..-. .--. .--.\n",
      "_`, :: . `.' '_.': `; `; :' '_.': ..'\n",
      "`.__.':_;:_;`.__.'`.__.__.'`.__.':_;\n",
      "skewer v0.2.2 [April 4, 2016]\n",
      "Parameters used:\n",
      "-- 3' end adapter sequence (-x):\u001b[0;33m\tAGATCGGAAGAGC\n",
      "\u001b[0m-- maximum error ratio allowed (-r):\t0.100\n",
      "-- maximum indel error ratio allowed (-d):\t0.030\n",
      "-- mean quality threshold (-Q):\t\t2\n",
      "-- end quality threshold (-q):\t\t2\n",
      "-- minimum read length allowed after trimming (-l):\t18\n",
      "-- file format (-f):\t\tSolexa/Illumina 1.3+/Illumina 1.5+ FASTQ (auto detected)\n",
      "-- number of concurrent threads (-t):\t8\n",
      "Mon Dec 14 04:03:43 2020\u001b[0;32m >> started\u001b[0m\n",
      "\n",
      "Mon Dec 14 07:53:19 2020\u001b[0;32m >> done\u001b[0m (13775.381s)\n",
      "510566063 read pairs processed; of these:\n",
      "  8646747 ( 1.69%) read pairs filtered out by quality control\n",
      "    49946 ( 0.01%) short read pairs filtered out after trimming by size control\n",
      "   132772 ( 0.03%) empty read pairs filtered out after trimming by size control\n",
      "501736598 (98.27%) read pairs available; of these:\n",
      "191710238 (38.21%) trimmed read pairs available after processing\n",
      "310026360 (61.79%) untrimmed read pairs available after processing\n",
      "log has been saved to \"/home/jovyan/ProcessSequence.jl/output/process_germ_dna_738/trim_sequence/germ-trimmed.log\".\n",
      "(2020-12-14T07:53:19.331) Done in 3 hours, 49 minutes, 35 seconds, 735 milliseconds.\n",
      "(2020-12-14T07:53:19.691) Checking sequence ...\n",
      "`\u001b[4mfastqc\u001b[24m \u001b[4m--threads\u001b[24m \u001b[4m2\u001b[24m \u001b[4m--outdir\u001b[24m \u001b[4m/home/jovyan/ProcessSequence.jl/output/process_germ_dna_738/check_sequence\u001b[24m \u001b[4m/home/jovyan/ProcessSequence.jl/output/process_germ_dna_738/trim_sequence/germ-trimmed-pair1.fastq.gz\u001b[24m \u001b[4m/home/jovyan/ProcessSequence.jl/output/process_germ_dna_738/trim_sequence/germ-trimmed-pair2.fastq.gz\u001b[24m`\n"
     ]
    },
    {
     "name": "stderr",
     "output_type": "stream",
     "text": [
      "Started analysis of germ-trimmed-pair1.fastq.gz\n",
      "Started analysis of germ-trimmed-pair2.fastq.gz\n",
      "Approx 5% complete for germ-trimmed-pair1.fastq.gz\n",
      "Approx 5% complete for germ-trimmed-pair2.fastq.gz\n",
      "Approx 10% complete for germ-trimmed-pair1.fastq.gz\n",
      "Approx 10% complete for germ-trimmed-pair2.fastq.gz\n",
      "Approx 15% complete for germ-trimmed-pair1.fastq.gz\n",
      "Approx 15% complete for germ-trimmed-pair2.fastq.gz\n",
      "Approx 20% complete for germ-trimmed-pair1.fastq.gz\n",
      "Approx 20% complete for germ-trimmed-pair2.fastq.gz\n",
      "Approx 25% complete for germ-trimmed-pair1.fastq.gz\n",
      "Approx 25% complete for germ-trimmed-pair2.fastq.gz\n",
      "Approx 30% complete for germ-trimmed-pair1.fastq.gz\n",
      "Approx 30% complete for germ-trimmed-pair2.fastq.gz\n",
      "Approx 35% complete for germ-trimmed-pair1.fastq.gz\n",
      "Approx 35% complete for germ-trimmed-pair2.fastq.gz\n",
      "Approx 40% complete for germ-trimmed-pair1.fastq.gz\n",
      "Approx 40% complete for germ-trimmed-pair2.fastq.gz\n",
      "Approx 45% complete for germ-trimmed-pair1.fastq.gz\n",
      "Approx 45% complete for germ-trimmed-pair2.fastq.gz\n",
      "Approx 50% complete for germ-trimmed-pair1.fastq.gz\n",
      "Approx 50% complete for germ-trimmed-pair2.fastq.gz\n",
      "Approx 55% complete for germ-trimmed-pair1.fastq.gz\n",
      "Approx 55% complete for germ-trimmed-pair2.fastq.gz\n",
      "Approx 60% complete for germ-trimmed-pair1.fastq.gz\n",
      "Approx 60% complete for germ-trimmed-pair2.fastq.gz\n",
      "Approx 65% complete for germ-trimmed-pair1.fastq.gz\n",
      "Approx 65% complete for germ-trimmed-pair2.fastq.gz\n",
      "Approx 70% complete for germ-trimmed-pair1.fastq.gz\n",
      "Approx 70% complete for germ-trimmed-pair2.fastq.gz\n",
      "Approx 75% complete for germ-trimmed-pair1.fastq.gz\n",
      "Approx 75% complete for germ-trimmed-pair2.fastq.gz\n",
      "Approx 80% complete for germ-trimmed-pair1.fastq.gz\n",
      "Approx 80% complete for germ-trimmed-pair2.fastq.gz\n",
      "Approx 85% complete for germ-trimmed-pair1.fastq.gz\n",
      "Approx 85% complete for germ-trimmed-pair2.fastq.gz\n",
      "Approx 90% complete for germ-trimmed-pair1.fastq.gz\n",
      "Approx 90% complete for germ-trimmed-pair2.fastq.gz\n",
      "Approx 95% complete for germ-trimmed-pair1.fastq.gz\n",
      "Approx 95% complete for germ-trimmed-pair2.fastq.gz\n"
     ]
    },
    {
     "name": "stdout",
     "output_type": "stream",
     "text": [
      "Analysis complete for germ-trimmed-pair1.fastq.gz\n",
      "Analysis complete for germ-trimmed-pair2.fastq.gz\n",
      "(2020-12-14T09:09:27.902) Done in 1 hour, 16 minutes, 8 seconds, 211 milliseconds.\n",
      "(2020-12-14T09:09:27.921) Aligning sequence ...\n",
      "pipeline(pipeline(pipeline(pipeline(`\u001b[4mminimap2\u001b[24m \u001b[4m-x\u001b[24m \u001b[4msr\u001b[24m \u001b[4m-t\u001b[24m \u001b[4m8\u001b[24m \u001b[4m-K\u001b[24m \u001b[4m1G\u001b[24m \u001b[4m-R\u001b[24m \u001b[4m'@RG\\tID:Germ\\tSM:Germ'\u001b[24m \u001b[4m-a\u001b[24m \u001b[4m/home/jovyan/ProcessSequence.jl/input/reference/GCA_000001405.15_GRCh38_no_alt_analysis_set.fna.gz.mmi\u001b[24m \u001b[4m/home/jovyan/ProcessSequence.jl/output/process_germ_dna_738/trim_sequence/germ-trimmed-pair1.fastq.gz\u001b[24m \u001b[4m/home/jovyan/ProcessSequence.jl/output/process_germ_dna_738/trim_sequence/germ-trimmed-pair2.fastq.gz\u001b[24m`, stdout=`\u001b[4msamtools\u001b[24m \u001b[4msort\u001b[24m \u001b[4m--threads\u001b[24m \u001b[4m8\u001b[24m \u001b[4m-n\u001b[24m`), stdout=`\u001b[4msamtools\u001b[24m \u001b[4mfixmate\u001b[24m \u001b[4m--threads\u001b[24m \u001b[4m8\u001b[24m \u001b[4m-m\u001b[24m \u001b[4m-\u001b[24m \u001b[4m-\u001b[24m`), stdout=`\u001b[4msamtools\u001b[24m \u001b[4msort\u001b[24m \u001b[4m--threads\u001b[24m \u001b[4m8\u001b[24m`), stdout>Base.FileRedirect(\"/home/jovyan/ProcessSequence.jl/output/process_germ_dna_738/align_sequence/germ.bam.tmp\", false))\n"
     ]
    },
    {
     "name": "stderr",
     "output_type": "stream",
     "text": [
      "[WARNING]\u001b[1;31m Indexing parameters (-k, -w or -H) overridden by parameters used in the prebuilt index.\u001b[0m\n",
      "[M::main::40.342*0.35] loaded/built the index for 195 target sequence(s)\n",
      "[M::mm_mapopt_update::40.342*0.35] mid_occ = 1000\n",
      "[M::mm_idx_stat] kmer size: 15; skip: 10; is_hpc: 0; #seq: 195\n",
      "[M::mm_idx_stat::41.348*0.36] distinct minimizers: 100167746 (38.80% are singletons); average occurrences: 5.519; average spacing: 5.607\n",
      "[M::worker_pipeline::413.282*5.32] mapped 6741952 sequences\n",
      "[M::worker_pipeline::628.874*6.30] mapped 6745414 sequences\n",
      "[M::worker_pipeline::873.858*6.81] mapped 6743388 sequences\n",
      "[M::worker_pipeline::1074.155*7.08] mapped 6752602 sequences\n",
      "[M::worker_pipeline::1346.830*7.29] mapped 6744818 sequences\n",
      "[M::worker_pipeline::1478.940*7.38] mapped 6740830 sequences\n",
      "[M::worker_pipeline::1654.030*7.46] mapped 6746812 sequences\n",
      "[M::worker_pipeline::1880.372*7.54] mapped 6752058 sequences\n",
      "[M::worker_pipeline::2009.630*7.59] mapped 6738114 sequences\n",
      "[M::worker_pipeline::2260.154*7.64] mapped 6775998 sequences\n",
      "[M::worker_pipeline::2389.390*7.68] mapped 6735280 sequences\n",
      "[M::worker_pipeline::2602.585*7.72] mapped 6734308 sequences\n",
      "[M::worker_pipeline::2842.205*7.74] mapped 6738780 sequences\n",
      "[M::worker_pipeline::2983.330*7.76] mapped 6744850 sequences\n",
      "[M::worker_pipeline::3240.775*7.79] mapped 6736158 sequences\n",
      "[M::worker_pipeline::3387.947*7.81] mapped 6737660 sequences\n",
      "[M::worker_pipeline::3570.587*7.83] mapped 6747126 sequences\n",
      "[M::worker_pipeline::3863.107*7.84] mapped 6749034 sequences\n",
      "[M::worker_pipeline::4004.965*7.86] mapped 6752216 sequences\n",
      "[M::worker_pipeline::4283.600*7.87] mapped 6750522 sequences\n",
      "[M::worker_pipeline::4414.219*7.89] mapped 6751286 sequences\n",
      "[M::worker_pipeline::4581.013*7.90] mapped 6743662 sequences\n",
      "[M::worker_pipeline::4924.927*7.89] mapped 6744154 sequences\n",
      "[M::worker_pipeline::5065.354*7.90] mapped 6746444 sequences\n",
      "[M::worker_pipeline::5366.266*7.91] mapped 6751184 sequences\n",
      "[M::worker_pipeline::5503.610*7.92] mapped 6745052 sequences\n",
      "[M::worker_pipeline::5742.595*7.93] mapped 6757744 sequences\n",
      "[M::worker_pipeline::5882.880*7.94] mapped 6744934 sequences\n",
      "[M::worker_pipeline::6060.419*7.95] mapped 6746024 sequences\n",
      "[M::worker_pipeline::6320.916*7.95] mapped 6751918 sequences\n",
      "[M::worker_pipeline::6467.712*7.96] mapped 6746512 sequences\n",
      "[M::worker_pipeline::6792.275*7.97] mapped 6746972 sequences\n",
      "[M::worker_pipeline::6929.855*7.97] mapped 6745752 sequences\n",
      "[M::worker_pipeline::7144.212*7.98] mapped 6742282 sequences\n",
      "[M::worker_pipeline::7428.122*7.99] mapped 6740450 sequences\n",
      "[M::worker_pipeline::7557.370*7.99] mapped 6744034 sequences\n",
      "[M::worker_pipeline::7861.821*7.99] mapped 6745232 sequences\n",
      "[M::worker_pipeline::8001.362*8.00] mapped 6749110 sequences\n",
      "[M::worker_pipeline::8161.471*8.01] mapped 6744154 sequences\n",
      "[M::worker_pipeline::8482.480*8.01] mapped 6740788 sequences\n",
      "[M::worker_pipeline::8598.758*8.01] mapped 6744338 sequences\n",
      "[M::worker_pipeline::8921.917*8.02] mapped 6740504 sequences\n",
      "[M::worker_pipeline::9047.077*8.02] mapped 6747992 sequences\n",
      "[M::worker_pipeline::9224.754*8.02] mapped 6738018 sequences\n",
      "[M::worker_pipeline::9539.350*8.03] mapped 6740152 sequences\n",
      "[M::worker_pipeline::9650.945*8.03] mapped 6741022 sequences\n",
      "[M::worker_pipeline::9969.457*8.03] mapped 6745112 sequences\n",
      "[M::worker_pipeline::10098.892*8.03] mapped 6746076 sequences\n",
      "[M::worker_pipeline::10263.205*8.04] mapped 6743304 sequences\n",
      "[M::worker_pipeline::10552.110*8.04] mapped 6739890 sequences\n",
      "[M::worker_pipeline::10672.433*8.04] mapped 6739572 sequences\n",
      "[M::worker_pipeline::10968.448*8.04] mapped 6746850 sequences\n",
      "[M::worker_pipeline::11099.927*8.05] mapped 6741320 sequences\n",
      "[M::worker_pipeline::11402.042*8.04] mapped 6744964 sequences\n",
      "[M::worker_pipeline::11550.031*8.05] mapped 6743242 sequences\n",
      "[M::worker_pipeline::11709.294*8.05] mapped 6745694 sequences\n",
      "[M::worker_pipeline::12005.326*8.05] mapped 6747854 sequences\n",
      "[M::worker_pipeline::12126.197*8.06] mapped 6736656 sequences\n",
      "[M::worker_pipeline::12427.986*8.06] mapped 6739268 sequences\n",
      "[M::worker_pipeline::12559.186*8.06] mapped 6739946 sequences\n",
      "[M::worker_pipeline::12724.350*8.06] mapped 6739130 sequences\n",
      "[M::worker_pipeline::13048.105*8.06] mapped 6745268 sequences\n",
      "[M::worker_pipeline::13168.860*8.06] mapped 6733726 sequences\n",
      "[M::worker_pipeline::13471.718*8.06] mapped 6735718 sequences\n",
      "[M::worker_pipeline::13608.801*8.07] mapped 6738970 sequences\n",
      "[M::worker_pipeline::13777.807*8.07] mapped 6746810 sequences\n",
      "[M::worker_pipeline::14088.973*8.07] mapped 6746292 sequences\n",
      "[M::worker_pipeline::14212.419*8.07] mapped 6737916 sequences\n",
      "[M::worker_pipeline::14526.065*8.07] mapped 6734454 sequences\n",
      "[M::worker_pipeline::14650.918*8.07] mapped 6741414 sequences\n",
      "[M::worker_pipeline::14827.942*8.08] mapped 6741440 sequences\n",
      "[M::worker_pipeline::15122.601*8.08] mapped 6741520 sequences\n",
      "[M::worker_pipeline::15241.016*8.08] mapped 6739306 sequences\n",
      "[M::worker_pipeline::15546.778*8.08] mapped 6743186 sequences\n",
      "[M::worker_pipeline::15832.105*8.08] mapped 6744352 sequences\n",
      "[M::worker_pipeline::16034.138*8.08] mapped 6746826 sequences\n",
      "[M::worker_pipeline::16343.065*8.08] mapped 6739792 sequences\n",
      "[M::worker_pipeline::16455.443*8.08] mapped 6736994 sequences\n",
      "[M::worker_pipeline::16757.220*8.08] mapped 6741336 sequences\n",
      "[M::worker_pipeline::16904.865*8.09] mapped 6739546 sequences\n",
      "[M::worker_pipeline::17202.944*8.08] mapped 6743562 sequences\n",
      "[M::worker_pipeline::17348.574*8.09] mapped 6740836 sequences\n",
      "[M::worker_pipeline::17517.709*8.09] mapped 6736244 sequences\n",
      "[M::worker_pipeline::17841.235*8.09] mapped 6733680 sequences\n",
      "[M::worker_pipeline::18053.790*8.09] mapped 6737888 sequences\n",
      "[M::worker_pipeline::18353.235*8.09] mapped 6744932 sequences\n",
      "[M::worker_pipeline::18491.577*8.09] mapped 6737560 sequences\n",
      "[M::worker_pipeline::18660.654*8.09] mapped 6738714 sequences\n",
      "[M::worker_pipeline::18972.771*8.09] mapped 6736442 sequences\n",
      "[M::worker_pipeline::19230.145*8.09] mapped 6737842 sequences\n",
      "[M::worker_pipeline::19562.411*8.09] mapped 6750412 sequences\n",
      "[M::worker_pipeline::19692.744*8.09] mapped 6739248 sequences\n",
      "[M::worker_pipeline::19870.875*8.10] mapped 6739484 sequences\n",
      "[M::worker_pipeline::20188.261*8.10] mapped 6743300 sequences\n",
      "[M::worker_pipeline::20311.198*8.10] mapped 6742572 sequences\n",
      "[M::worker_pipeline::20611.512*8.10] mapped 6746300 sequences\n",
      "[M::worker_pipeline::20743.252*8.10] mapped 6735532 sequences\n",
      "[M::worker_pipeline::20910.265*8.10] mapped 6738042 sequences\n",
      "[M::worker_pipeline::21249.497*8.10] mapped 6740910 sequences\n",
      "[M::worker_pipeline::21369.424*8.10] mapped 6740160 sequences\n",
      "[M::worker_pipeline::21665.604*8.10] mapped 6745052 sequences\n",
      "[M::worker_pipeline::21792.436*8.10] mapped 6732288 sequences\n",
      "[M::worker_pipeline::21981.681*8.10] mapped 6743090 sequences\n",
      "[M::worker_pipeline::22304.216*8.10] mapped 6733950 sequences\n",
      "[M::worker_pipeline::22424.095*8.10] mapped 6747016 sequences\n",
      "[M::worker_pipeline::22735.551*8.10] mapped 6740804 sequences\n",
      "[M::worker_pipeline::22863.125*8.11] mapped 6737710 sequences\n",
      "[M::worker_pipeline::23148.731*8.10] mapped 6735650 sequences\n",
      "[M::worker_pipeline::23295.615*8.11] mapped 6739248 sequences\n",
      "[M::worker_pipeline::23480.109*8.11] mapped 6752658 sequences\n",
      "[M::worker_pipeline::23792.218*8.11] mapped 6744452 sequences\n",
      "[M::worker_pipeline::23924.721*8.11] mapped 6741312 sequences\n",
      "[M::worker_pipeline::24209.192*8.11] mapped 6746242 sequences\n",
      "[M::worker_pipeline::24343.613*8.11] mapped 6741314 sequences\n",
      "[M::worker_pipeline::24503.080*8.11] mapped 6758882 sequences\n",
      "[M::worker_pipeline::24781.499*8.11] mapped 6757958 sequences\n",
      "[M::worker_pipeline::24908.135*8.11] mapped 6737828 sequences\n",
      "[M::worker_pipeline::25296.005*8.11] mapped 6744496 sequences\n",
      "[M::worker_pipeline::25430.410*8.11] mapped 6739738 sequences\n",
      "[M::worker_pipeline::25604.147*8.11] mapped 6759400 sequences\n",
      "[M::worker_pipeline::25887.257*8.11] mapped 6735466 sequences\n",
      "[M::worker_pipeline::26018.645*8.11] mapped 6732734 sequences\n",
      "[M::worker_pipeline::26359.395*8.11] mapped 6737508 sequences\n",
      "[M::worker_pipeline::26494.701*8.11] mapped 6742150 sequences\n",
      "[M::worker_pipeline::26665.748*8.11] mapped 6760878 sequences\n",
      "[M::worker_pipeline::26982.235*8.11] mapped 6743698 sequences\n",
      "[M::worker_pipeline::27133.431*8.12] mapped 6742266 sequences\n",
      "[M::worker_pipeline::27432.637*8.12] mapped 6741368 sequences\n",
      "[M::worker_pipeline::27564.993*8.12] mapped 6751560 sequences\n",
      "[M::worker_pipeline::27739.250*8.12] mapped 6766482 sequences\n",
      "[M::worker_pipeline::28015.211*8.12] mapped 6742120 sequences\n",
      "[M::worker_pipeline::28135.219*8.12] mapped 6739952 sequences\n",
      "[M::worker_pipeline::28464.583*8.12] mapped 6739522 sequences\n"
     ]
    }
   ],
   "source": [
    "if all((\n",
    "    in(key, keys(project_json)) for key in (\"germ_dna.1.fastq.gz\", \"germ_dna.2.fastq.gz\")\n",
    "))\n",
    "\n",
    "    ProcessSequence.process_germ_dna(\n",
    "        joinpath(project_dir, project_json[\"germ_dna.1.fastq.gz\"]),\n",
    "        joinpath(project_dir, project_json[\"germ_dna.2.fastq.gz\"]),\n",
    "        project_json[\"dna_is_targeted\"],\n",
    "        joinpath(output_dir, string(\"process_germ_dna_\", sample_name)),\n",
    "        process_dna_arguments...,\n",
    "    )\n",
    "\n",
    "end"
   ]
  },
  {
   "cell_type": "code",
   "execution_count": null,
   "metadata": {},
   "outputs": [],
   "source": [
    "if all((\n",
    "    in(key, keys(project_json))\n",
    "    for\n",
    "    key in (\n",
    "        \"germ_dna.1.fastq.gz\",\n",
    "        \"germ_dna.2.fastq.gz\",\n",
    "        \"soma_dna.1.fastq.gz\",\n",
    "        \"soma_dna.2.fastq.gz\",\n",
    "    )\n",
    "))\n",
    "\n",
    "    ProcessSequence.process_soma_dna(\n",
    "        joinpath(project_dir, project_json[\"germ_dna.1.fastq.gz\"]),\n",
    "        joinpath(project_dir, project_json[\"germ_dna.2.fastq.gz\"]),\n",
    "        joinpath(project_dir, project_json[\"soma_dna.1.fastq.gz\"]),\n",
    "        joinpath(project_dir, project_json[\"soma_dna.2.fastq.gz\"]),\n",
    "        project_json[\"dna_is_targeted\"],\n",
    "        joinpath(output_dir, \"process_soma_dna\"),\n",
    "        process_dna_arguments...,\n",
    "    )\n",
    "\n",
    "end"
   ]
  },
  {
   "cell_type": "code",
   "execution_count": null,
   "metadata": {},
   "outputs": [],
   "source": [
    "if all((\n",
    "    in(key, keys(project_json)) for key in (\"soma_rna.1.fastq.gz\", \"soma_rna.2.fastq.gz\")\n",
    "))\n",
    "\n",
    "    ProcessSequence.process_soma_rna(\n",
    "        joinpath(project_dir, project_json[\"soma_rna.1.fastq.gz\"]),\n",
    "        joinpath(project_dir, project_json[\"soma_rna.2.fastq.gz\"]),\n",
    "        joinpath(output_dir, \"process_soma_rna\"),\n",
    "        joinpath(reference_dir, \"Homo_sapiens.GRCh38.cdna.all.fa.gz\"),\n",
    "        project_json[\"n_job\"],\n",
    "    )\n",
    "\n",
    "end"
   ]
  }
 ],
 "metadata": {
  "@webio": {
   "lastCommId": null,
   "lastKernelId": null
  },
  "kernelspec": {
   "display_name": "Julia 1.5.2",
   "language": "julia",
   "name": "julia-1.5"
  },
  "language_info": {
   "file_extension": ".jl",
   "mimetype": "application/julia",
   "name": "julia",
   "version": "1.5.2"
  }
 },
 "nbformat": 4,
 "nbformat_minor": 4
}
