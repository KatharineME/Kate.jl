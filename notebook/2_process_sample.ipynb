{
 "cells": [
  {
   "cell_type": "code",
   "execution_count": 1,
   "metadata": {},
   "outputs": [
    {
     "data": {
      "text/plain": [
       "Main.ProcessSequence"
      ]
     },
     "execution_count": 1,
     "metadata": {},
     "output_type": "execute_result"
    }
   ],
   "source": [
    "include(\"../src/ProcessSequence.jl\")"
   ]
  },
  {
   "cell_type": "code",
   "execution_count": 2,
   "metadata": {},
   "outputs": [
    {
     "data": {
      "text/plain": [
       "\"/opt/snpeff/snpEff/snpEff.jar\""
      ]
     },
     "execution_count": 2,
     "metadata": {},
     "output_type": "execute_result"
    }
   ],
   "source": [
    "project_dir = dirname(@__DIR__)\n",
    "\n",
    "using JSON: parse\n",
    "project_json = parse(read(joinpath(project_dir, \"project.json\"), String))\n",
    "\n",
    "sample_name = project_json[\"sample_name\"]\n",
    "\n",
    "output_dir = joinpath(project_dir, \"output\")\n",
    "input_dir = joinpath(project_dir, \"input\")\n",
    "sample_dir = joinpath(input_dir, sample_name)\n",
    "reference_dir = joinpath(input_dir, \"reference\")\n",
    "snpeff_jar = \"/opt/snpeff/snpEff/snpEff.jar\""
   ]
  },
  {
   "cell_type": "code",
   "execution_count": 3,
   "metadata": {},
   "outputs": [],
   "source": [
    "if !isdir(reference_dir)\n",
    "\n",
    "    ProcessSequence.print_and_run_cmd(`unzip -o -d $input_dir $reference_dir.zip`)\n",
    "    \n",
    "end"
   ]
  },
  {
   "cell_type": "code",
   "execution_count": 4,
   "metadata": {},
   "outputs": [],
   "source": [
    "if !isfile(snpeff_jar)\n",
    "    \n",
    "    throw(\"$snpeff is missing.\")\n",
    "    \n",
    "end"
   ]
  },
  {
   "cell_type": "code",
   "execution_count": 5,
   "metadata": {},
   "outputs": [
    {
     "name": "stdout",
     "output_type": "stream",
     "text": [
      "Checking program...\n",
      "`\u001b[4mwhich\u001b[24m \u001b[4mskewer\u001b[24m`\n",
      "/opt/conda/bin/skewer\n",
      "`\u001b[4mwhich\u001b[24m \u001b[4mfastqc\u001b[24m`\n",
      "/opt/conda/bin/fastqc\n",
      "`\u001b[4mwhich\u001b[24m \u001b[4mbgzip\u001b[24m`\n",
      "/opt/conda/bin/bgzip\n",
      "`\u001b[4mwhich\u001b[24m \u001b[4mtabix\u001b[24m`\n",
      "/opt/conda/bin/tabix\n",
      "`\u001b[4mwhich\u001b[24m \u001b[4mminimap2\u001b[24m`\n",
      "/opt/conda/bin/minimap2\n",
      "`\u001b[4mwhich\u001b[24m \u001b[4msamtools\u001b[24m`\n",
      "/opt/conda/bin/samtools\n",
      "`\u001b[4mwhich\u001b[24m \u001b[4mbcftools\u001b[24m`\n",
      "/opt/conda/bin/bcftools\n",
      "`\u001b[4mwhich\u001b[24m \u001b[4mkallisto\u001b[24m`\n",
      "/opt/conda/bin/kallisto\n",
      "`\u001b[4mbash\u001b[24m \u001b[4m-c\u001b[24m \u001b[4m'source activate py2 && which configManta.py'\u001b[24m`\n",
      "/opt/conda/envs/py2/bin/configManta.py\n",
      "`\u001b[4mbash\u001b[24m \u001b[4m-c\u001b[24m \u001b[4m'source activate py2 && which configureStrelkaGermlineWorkflow.py'\u001b[24m`\n",
      "/opt/conda/envs/py2/bin/configureStrelkaGermlineWorkflow.py\n",
      "`\u001b[4mbash\u001b[24m \u001b[4m-c\u001b[24m \u001b[4m'source activate py2 && which configureStrelkaSomaticWorkflow.py'\u001b[24m`\n",
      "/opt/conda/envs/py2/bin/configureStrelkaSomaticWorkflow.py\n"
     ]
    }
   ],
   "source": [
    "ProcessSequence.check_program()"
   ]
  },
  {
   "cell_type": "code",
   "execution_count": 5,
   "metadata": {},
   "outputs": [
    {
     "data": {
      "text/plain": [
       "(\"/home/jovyan/ProcessSequence.jl/input/reference/GCA_000001405.15_GRCh38_no_alt_analysis_set.fna.gz\", \"/home/jovyan/ProcessSequence.jl/input/reference/chromosome.bed.gz\", \"/home/jovyan/ProcessSequence.jl/input/reference/chrn_n.tsv\", 8, 40, 5, \"/opt/snpeff/snpEff/snpEff.jar\")"
      ]
     },
     "execution_count": 5,
     "metadata": {},
     "output_type": "execute_result"
    }
   ],
   "source": [
    "process_dna_arguments = (\n",
    "    joinpath(\n",
    "        reference_dir,\n",
    "        \"GCA_000001405.15_GRCh38_no_alt_analysis_set.fna.gz\",\n",
    "    ),\n",
    "    joinpath(reference_dir, \"chromosome.bed.gz\"),\n",
    "    joinpath(reference_dir, \"chrn_n.tsv\"),\n",
    "    project_json[\"n_job\"],\n",
    "    project_json[\"gb_memory\"],\n",
    "    5,\n",
    "    snpeff_jar,\n",
    ")"
   ]
  },
  {
   "cell_type": "code",
   "execution_count": null,
   "metadata": {},
   "outputs": [
    {
     "name": "stdout",
     "output_type": "stream",
     "text": [
      "/home/jovyan/ProcessSequence.jl/output/process_germ_dna_1004\n",
      "/home/jovyan/ProcessSequence.jl/output/process_germ_dna_1004/trim_sequence/germ-trimmed-pair1.fastq\n",
      "Trimmed files already exist.\n",
      "(2020-12-06T08:13:53.849) Checking sequence ...\n",
      "`\u001b[4mfastqc\u001b[24m \u001b[4m--threads\u001b[24m \u001b[4m2\u001b[24m \u001b[4m--outdir\u001b[24m \u001b[4m/home/jovyan/ProcessSequence.jl/output/process_germ_dna_1004/check_sequence\u001b[24m \u001b[4m/home/jovyan/ProcessSequence.jl/output/process_germ_dna_1004/trim_sequence/germ-trimmed-pair1.fastq.gz\u001b[24m \u001b[4m/home/jovyan/ProcessSequence.jl/output/process_germ_dna_1004/trim_sequence/germ-trimmed-pair2.fastq.gz\u001b[24m`\n"
     ]
    },
    {
     "name": "stderr",
     "output_type": "stream",
     "text": [
      "Started analysis of germ-trimmed-pair1.fastq.gz\n",
      "Started analysis of germ-trimmed-pair2.fastq.gz\n",
      "Approx 5% complete for germ-trimmed-pair1.fastq.gz\n",
      "Approx 5% complete for germ-trimmed-pair2.fastq.gz\n",
      "Approx 10% complete for germ-trimmed-pair1.fastq.gz\n",
      "Approx 10% complete for germ-trimmed-pair2.fastq.gz\n",
      "Approx 15% complete for germ-trimmed-pair1.fastq.gz\n",
      "Approx 15% complete for germ-trimmed-pair2.fastq.gz\n",
      "Approx 20% complete for germ-trimmed-pair1.fastq.gz\n",
      "Approx 20% complete for germ-trimmed-pair2.fastq.gz\n",
      "Approx 25% complete for germ-trimmed-pair1.fastq.gz\n",
      "Approx 25% complete for germ-trimmed-pair2.fastq.gz\n",
      "Approx 30% complete for germ-trimmed-pair1.fastq.gz\n",
      "Approx 30% complete for germ-trimmed-pair2.fastq.gz\n",
      "Approx 35% complete for germ-trimmed-pair1.fastq.gz\n",
      "Approx 35% complete for germ-trimmed-pair2.fastq.gz\n",
      "Approx 40% complete for germ-trimmed-pair1.fastq.gz\n",
      "Approx 40% complete for germ-trimmed-pair2.fastq.gz\n",
      "Approx 45% complete for germ-trimmed-pair1.fastq.gz\n",
      "Approx 50% complete for germ-trimmed-pair1.fastq.gz\n",
      "Approx 45% complete for germ-trimmed-pair2.fastq.gz\n",
      "Approx 55% complete for germ-trimmed-pair1.fastq.gz\n",
      "Approx 50% complete for germ-trimmed-pair2.fastq.gz\n",
      "Approx 60% complete for germ-trimmed-pair1.fastq.gz\n",
      "Approx 55% complete for germ-trimmed-pair2.fastq.gz\n",
      "Approx 65% complete for germ-trimmed-pair1.fastq.gz\n",
      "Approx 60% complete for germ-trimmed-pair2.fastq.gz\n",
      "Approx 70% complete for germ-trimmed-pair1.fastq.gz\n",
      "Approx 65% complete for germ-trimmed-pair2.fastq.gz\n",
      "Approx 75% complete for germ-trimmed-pair1.fastq.gz\n",
      "Approx 70% complete for germ-trimmed-pair2.fastq.gz\n",
      "Approx 80% complete for germ-trimmed-pair1.fastq.gz\n",
      "Approx 75% complete for germ-trimmed-pair2.fastq.gz\n",
      "Approx 85% complete for germ-trimmed-pair1.fastq.gz\n",
      "Approx 80% complete for germ-trimmed-pair2.fastq.gz\n",
      "Approx 90% complete for germ-trimmed-pair1.fastq.gz\n",
      "Approx 85% complete for germ-trimmed-pair2.fastq.gz\n",
      "Approx 95% complete for germ-trimmed-pair1.fastq.gz\n",
      "Approx 90% complete for germ-trimmed-pair2.fastq.gz\n"
     ]
    },
    {
     "name": "stdout",
     "output_type": "stream",
     "text": [
      "Analysis complete for germ-trimmed-pair1.fastq.gz\n"
     ]
    },
    {
     "name": "stderr",
     "output_type": "stream",
     "text": [
      "java.io.EOFException: Unexpected end of ZLIB input stream\n",
      "\tat java.base/java.util.zip.InflaterInputStream.fill(InflaterInputStream.java:245)\n",
      "\tat java.base/java.util.zip.InflaterInputStream.read(InflaterInputStream.java:159)\n",
      "\tat java.base/java.util.zip.GZIPInputStream.read(GZIPInputStream.java:118)\n",
      "\tat uk.ac.babraham.FastQC.Utilities.MultiMemberGZIPInputStream.read(MultiMemberGZIPInputStream.java:68)\n",
      "\tat java.base/sun.nio.cs.StreamDecoder.readBytes(StreamDecoder.java:284)\n",
      "\tat java.base/sun.nio.cs.StreamDecoder.implRead(StreamDecoder.java:326)\n",
      "\tat java.base/sun.nio.cs.StreamDecoder.read(StreamDecoder.java:178)\n",
      "\tat java.base/java.io.InputStreamReader.read(InputStreamReader.java:185)\n",
      "\tat java.base/java.io.BufferedReader.fill(BufferedReader.java:161)\n",
      "\tat java.base/java.io.BufferedReader.readLine(BufferedReader.java:326)\n",
      "\tat java.base/java.io.BufferedReader.readLine(BufferedReader.java:392)\n",
      "\tat uk.ac.babraham.FastQC.Sequence.FastQFile.readNext(FastQFile.java:138)\n",
      "\tat uk.ac.babraham.FastQC.Sequence.FastQFile.next(FastQFile.java:125)\n",
      "\tat uk.ac.babraham.FastQC.Analysis.AnalysisRunner.run(AnalysisRunner.java:76)\n",
      "\tat java.base/java.lang.Thread.run(Thread.java:834)\n",
      "Approx 95% complete for germ-trimmed-pair2.fastq.gz\n",
      "Failed to process file germ-trimmed-pair2.fastq.gz\n",
      "uk.ac.babraham.FastQC.Sequence.SequenceFormatException: Ran out of data in the middle of a fastq entry.  Your file is probably truncated\n",
      "\tat uk.ac.babraham.FastQC.Sequence.FastQFile.readNext(FastQFile.java:179)\n",
      "\tat uk.ac.babraham.FastQC.Sequence.FastQFile.next(FastQFile.java:125)\n",
      "\tat uk.ac.babraham.FastQC.Analysis.AnalysisRunner.run(AnalysisRunner.java:76)\n",
      "\tat java.base/java.lang.Thread.run(Thread.java:834)\n"
     ]
    },
    {
     "name": "stdout",
     "output_type": "stream",
     "text": [
      "(2020-12-06T08:14:04.654) Done in 10 seconds, 805 milliseconds.\n",
      "(2020-12-06T08:14:04.776) Aligning sequence ...\n",
      "pipeline(pipeline(pipeline(pipeline(`\u001b[4mminimap2\u001b[24m \u001b[4m-x\u001b[24m \u001b[4msr\u001b[24m \u001b[4m-t\u001b[24m \u001b[4m8\u001b[24m \u001b[4m-K\u001b[24m \u001b[4m5G\u001b[24m \u001b[4m-R\u001b[24m \u001b[4m'@RG\\tID:Germ\\tSM:Germ'\u001b[24m \u001b[4m-a\u001b[24m \u001b[4m/home/jovyan/ProcessSequence.jl/input/reference/GCA_000001405.15_GRCh38_no_alt_analysis_set.fna.gz.mmi\u001b[24m \u001b[4m/home/jovyan/ProcessSequence.jl/output/process_germ_dna_1004/trim_sequence/germ-trimmed-pair1.fastq.gz\u001b[24m \u001b[4m/home/jovyan/ProcessSequence.jl/output/process_germ_dna_1004/trim_sequence/germ-trimmed-pair2.fastq.gz\u001b[24m`, stdout=`\u001b[4msamtools\u001b[24m \u001b[4msort\u001b[24m \u001b[4m--threads\u001b[24m \u001b[4m8\u001b[24m \u001b[4m-m\u001b[24m \u001b[4m5G\u001b[24m \u001b[4m-n\u001b[24m`), stdout=`\u001b[4msamtools\u001b[24m \u001b[4mfixmate\u001b[24m \u001b[4m--threads\u001b[24m \u001b[4m8\u001b[24m \u001b[4m-m\u001b[24m \u001b[4m-\u001b[24m \u001b[4m-\u001b[24m`), stdout=`\u001b[4msamtools\u001b[24m \u001b[4msort\u001b[24m \u001b[4m--threads\u001b[24m \u001b[4m8\u001b[24m \u001b[4m-m\u001b[24m \u001b[4m5G\u001b[24m`), stdout>Base.FileRedirect(\"/home/jovyan/ProcessSequence.jl/output/process_germ_dna_1004/align_sequence/germ.bam.tmp\", false))\n"
     ]
    },
    {
     "name": "stderr",
     "output_type": "stream",
     "text": [
      "[WARNING]\u001b[1;31m Indexing parameters (-k, -w or -H) overridden by parameters used in the prebuilt index.\u001b[0m\n",
      "[M::main::7.205*1.00] loaded/built the index for 195 target sequence(s)\n",
      "[M::mm_mapopt_update::7.205*1.00] mid_occ = 1000\n",
      "[M::mm_idx_stat] kmer size: 15; skip: 10; is_hpc: 0; #seq: 195\n",
      "[M::mm_idx_stat::8.212*1.00] distinct minimizers: 100167746 (38.80% are singletons); average occurrences: 5.519; average spacing: 5.607\n",
      "[W::mm_bseq_read_frag2]\u001b[1;31m query files have different number of records; extra records skipped.\u001b[0m\n",
      "[W::mm_bseq_read_frag2]\u001b[1;31m query files have different number of records; extra records skipped.\u001b[0m\n",
      "[W::mm_bseq_read_frag2]\u001b[1;31m query files have different number of records; extra records skipped.\u001b[0m\n",
      "[M::worker_pipeline::40.389*5.69] mapped 1023858 sequences\n",
      "[W::mm_bseq_read_frag2]\u001b[1;31m query files have different number of records; extra records skipped.\u001b[0m\n",
      "[M::main] Version: 2.17-r941\n",
      "[M::main] CMD: minimap2 -x sr -t 8 -K 5G -R @RG\\tID:Germ\\tSM:Germ -a /home/jovyan/ProcessSequence.jl/input/reference/GCA_000001405.15_GRCh38_no_alt_analysis_set.fna.gz.mmi /home/jovyan/ProcessSequence.jl/output/process_germ_dna_1004/trim_sequence/germ-trimmed-pair1.fastq.gz /home/jovyan/ProcessSequence.jl/output/process_germ_dna_1004/trim_sequence/germ-trimmed-pair2.fastq.gz\n",
      "[M::main] Real time: 41.186 sec; CPU: 230.717 sec; Peak RSS: 8.051 GB\n",
      "[bam_sort_core] merging from 0 files and 8 in-memory blocks...\n",
      "[bam_sort_core] merging from 0 files and 8 in-memory blocks...\n"
     ]
    },
    {
     "name": "stdout",
     "output_type": "stream",
     "text": [
      "`\u001b[4msamtools\u001b[24m \u001b[4mmarkdup\u001b[24m \u001b[4m--threads\u001b[24m \u001b[4m8\u001b[24m \u001b[4m-s\u001b[24m \u001b[4m/home/jovyan/ProcessSequence.jl/output/process_germ_dna_1004/align_sequence/germ.bam.tmp\u001b[24m \u001b[4m/home/jovyan/ProcessSequence.jl/output/process_germ_dna_1004/align_sequence/germ.bam\u001b[24m`\n"
     ]
    },
    {
     "name": "stderr",
     "output_type": "stream",
     "text": [
      "READ 1029014 WRITTEN 1029014 \n",
      "EXCLUDED 292280 EXAMINED 736734\n",
      "PAIRED 734702 SINGLE 2032\n",
      "DULPICATE PAIR 111246 DUPLICATE SINGLE 370\n",
      "DUPLICATE TOTAL 111616\n"
     ]
    },
    {
     "name": "stdout",
     "output_type": "stream",
     "text": [
      "`\u001b[4msamtools\u001b[24m \u001b[4mindex\u001b[24m \u001b[4m-@\u001b[24m \u001b[4m8\u001b[24m \u001b[4m/home/jovyan/ProcessSequence.jl/output/process_germ_dna_1004/align_sequence/germ.bam\u001b[24m`\n",
      "pipeline(`\u001b[4msamtools\u001b[24m \u001b[4mflagstat\u001b[24m \u001b[4m--threads\u001b[24m \u001b[4m8\u001b[24m \u001b[4m/home/jovyan/ProcessSequence.jl/output/process_germ_dna_1004/align_sequence/germ.bam\u001b[24m`, stdout>Base.FileRedirect(\"/home/jovyan/ProcessSequence.jl/output/process_germ_dna_1004/align_sequence/germ.bam.flagstat\", false))\n",
      "(2020-12-06T08:14:59.022) Done in 54 seconds, 246 milliseconds.\n",
      "(2020-12-06T08:14:59.023) Finding variant ...\n",
      "`\u001b[4mbash\u001b[24m \u001b[4m-c\u001b[24m \u001b[4m'source activate py2 && configManta.py --referenceFasta /home/jovyan/ProcessSequence.jl/input/reference/GCA_000001405.15_GRCh38_no_alt_analysis_set.fna.bgz --callRegions /home/jovyan/ProcessSequence.jl/input/reference/chromosome.bed.gz --bam /home/jovyan/ProcessSequence.jl/output/process_germ_dna_1004/align_sequence/germ.bam --outputContig --runDir /home/jovyan/ProcessSequence.jl/output/process_germ_dna_1004/find_variant/manta && /home/jovyan/ProcessSequence.jl/output/process_germ_dna_1004/find_variant/manta/runWorkflow.py --mode local --jobs 8 --memGb 40 --quiet'\u001b[24m`\n",
      "\n",
      "Successfully created workflow run script.\n",
      "To execute the workflow, run the following script and set appropriate options:\n",
      "\n",
      "/home/jovyan/ProcessSequence.jl/output/process_germ_dna_1004/find_variant/manta/runWorkflow.py\n"
     ]
    }
   ],
   "source": [
    "if all((\n",
    "    in(key, keys(project_json)) for key in (\"germ_dna.1.fastq.gz\", \"germ_dna.2.fastq.gz\")\n",
    "))\n",
    "\n",
    "    ProcessSequence.process_germ_dna(\n",
    "        joinpath(project_dir, project_json[\"germ_dna.1.fastq.gz\"]),\n",
    "        joinpath(project_dir, project_json[\"germ_dna.2.fastq.gz\"]),\n",
    "        project_json[\"dna_is_targeted\"],\n",
    "        joinpath(output_dir, string(\"process_germ_dna_\", sample_name)),\n",
    "        process_dna_arguments...,\n",
    "    )\n",
    "\n",
    "end"
   ]
  },
  {
   "cell_type": "code",
   "execution_count": 10,
   "metadata": {},
   "outputs": [],
   "source": [
    "if all((\n",
    "    in(key, keys(project_json))\n",
    "    for\n",
    "    key in (\n",
    "        \"germ_dna.1.fastq.gz\",\n",
    "        \"germ_dna.2.fastq.gz\",\n",
    "        \"soma_dna.1.fastq.gz\",\n",
    "        \"soma_dna.2.fastq.gz\",\n",
    "    )\n",
    "))\n",
    "\n",
    "    ProcessSequence.process_soma_dna(\n",
    "        joinpath(project_dir, project_json[\"germ_dna.1.fastq.gz\"]),\n",
    "        joinpath(project_dir, project_json[\"germ_dna.2.fastq.gz\"]),\n",
    "        joinpath(project_dir, project_json[\"soma_dna.1.fastq.gz\"]),\n",
    "        joinpath(project_dir, project_json[\"soma_dna.2.fastq.gz\"]),\n",
    "        project_json[\"dna_is_targeted\"],\n",
    "        joinpath(output_dir, \"process_soma_dna\"),\n",
    "        process_dna_arguments...,\n",
    "    )\n",
    "\n",
    "end"
   ]
  },
  {
   "cell_type": "code",
   "execution_count": null,
   "metadata": {},
   "outputs": [],
   "source": [
    "if all((\n",
    "    in(key, keys(project_json)) for key in (\"soma_rna.1.fastq.gz\", \"soma_rna.2.fastq.gz\")\n",
    "))\n",
    "\n",
    "    ProcessSequence.process_soma_rna(\n",
    "        joinpath(project_dir, project_json[\"soma_rna.1.fastq.gz\"]),\n",
    "        joinpath(project_dir, project_json[\"soma_rna.2.fastq.gz\"]),\n",
    "        joinpath(output_dir, \"process_soma_rna\"),\n",
    "        joinpath(reference_dir, \"Homo_sapiens.GRCh38.cdna.all.fa.gz\"),\n",
    "        project_json[\"n_job\"],\n",
    "    )\n",
    "\n",
    "end"
   ]
  }
 ],
 "metadata": {
  "@webio": {
   "lastCommId": null,
   "lastKernelId": null
  },
  "kernelspec": {
   "display_name": "Julia 1.5.2",
   "language": "julia",
   "name": "julia-1.5"
  },
  "language_info": {
   "file_extension": ".jl",
   "mimetype": "application/julia",
   "name": "julia",
   "version": "1.5.2"
  }
 },
 "nbformat": 4,
 "nbformat_minor": 4
}
