{
 "cells": [
  {
   "cell_type": "code",
   "execution_count": 1,
   "metadata": {},
   "outputs": [
    {
     "data": {
      "text/plain": [
       "Main.ProcessSequence"
      ]
     },
     "execution_count": 1,
     "metadata": {},
     "output_type": "execute_result"
    }
   ],
   "source": [
    "include(\"../src/ProcessSequence.jl\")"
   ]
  },
  {
   "cell_type": "code",
   "execution_count": 2,
   "metadata": {},
   "outputs": [
    {
     "data": {
      "text/plain": [
       "\"/opt/snpeff/snpEff/snpEff.jar\""
      ]
     },
     "execution_count": 2,
     "metadata": {},
     "output_type": "execute_result"
    }
   ],
   "source": [
    "project_dir = dirname(@__DIR__)\n",
    "\n",
    "using JSON: parse\n",
    "\n",
    "project_json = parse(read(joinpath(project_dir, \"project.json\"), String))\n",
    "\n",
    "sample_name = project_json[\"sample_name\"]\n",
    "\n",
    "output_dir = joinpath(project_dir, \"output\")\n",
    "\n",
    "input_dir = joinpath(project_dir, \"input\")\n",
    "\n",
    "sample_dir = joinpath(input_dir, sample_name, \"input\")\n",
    "\n",
    "reference_dir = joinpath(input_dir, \"reference\")\n",
    "\n",
    "snpeff_jar = \"/opt/snpeff/snpEff/snpEff.jar\""
   ]
  },
  {
   "cell_type": "code",
   "execution_count": 3,
   "metadata": {},
   "outputs": [
    {
     "name": "stdout",
     "output_type": "stream",
     "text": [
      "Checking program...\n",
      "`\u001b[4mwhich\u001b[24m \u001b[4mskewer\u001b[24m`\n",
      "/opt/conda/bin/skewer\n",
      "`\u001b[4mwhich\u001b[24m \u001b[4mfastqc\u001b[24m`\n",
      "/opt/conda/bin/fastqc\n",
      "`\u001b[4mwhich\u001b[24m \u001b[4mbgzip\u001b[24m`\n",
      "/opt/conda/bin/bgzip\n",
      "`\u001b[4mwhich\u001b[24m \u001b[4mtabix\u001b[24m`\n",
      "/opt/conda/bin/tabix\n",
      "`\u001b[4mwhich\u001b[24m \u001b[4mminimap2\u001b[24m`\n",
      "/opt/conda/bin/minimap2\n",
      "`\u001b[4mwhich\u001b[24m \u001b[4msamtools\u001b[24m`\n",
      "/opt/conda/bin/samtools\n",
      "`\u001b[4mwhich\u001b[24m \u001b[4mbcftools\u001b[24m`\n",
      "/opt/conda/bin/bcftools\n",
      "`\u001b[4mwhich\u001b[24m \u001b[4mkallisto\u001b[24m`\n",
      "/opt/conda/bin/kallisto\n",
      "`\u001b[4mbash\u001b[24m \u001b[4m-c\u001b[24m \u001b[4m'source activate py2 && which configManta.py'\u001b[24m`\n",
      "/opt/conda/envs/py2/bin/configManta.py\n",
      "`\u001b[4mbash\u001b[24m \u001b[4m-c\u001b[24m \u001b[4m'source activate py2 && which configureStrelkaGermlineWorkflow.py'\u001b[24m`\n",
      "/opt/conda/envs/py2/bin/configureStrelkaGermlineWorkflow.py\n",
      "`\u001b[4mbash\u001b[24m \u001b[4m-c\u001b[24m \u001b[4m'source activate py2 && which configureStrelkaSomaticWorkflow.py'\u001b[24m`\n",
      "/opt/conda/envs/py2/bin/configureStrelkaSomaticWorkflow.py\n"
     ]
    }
   ],
   "source": [
    "ProcessSequence.check_program()"
   ]
  },
  {
   "cell_type": "code",
   "execution_count": 4,
   "metadata": {},
   "outputs": [
    {
     "data": {
      "text/plain": [
       "(\"/home/jovyan/ProcessSequence.jl/input/reference/GCA_000001405.15_GRCh38_no_alt_analysis_set.fna.gz\", \"/home/jovyan/ProcessSequence.jl/input/reference/chromosome.bed.gz\", \"/home/jovyan/ProcessSequence.jl/input/reference/chrn_n.tsv\", 8, 40, 1, \"/opt/snpeff/snpEff/snpEff.jar\")"
      ]
     },
     "execution_count": 4,
     "metadata": {},
     "output_type": "execute_result"
    }
   ],
   "source": [
    "process_dna_arguments = (\n",
    "    joinpath(\n",
    "        reference_dir,\n",
    "        \"GCA_000001405.15_GRCh38_no_alt_analysis_set.fna.gz\",\n",
    "    ),\n",
    "    joinpath(reference_dir, \"chromosome.bed.gz\"),\n",
    "    joinpath(reference_dir, \"chrn_n.tsv\"),\n",
    "    project_json[\"n_job\"],\n",
    "    project_json[\"gb_memory\"],\n",
    "    1,\n",
    "    snpeff_jar,\n",
    ")"
   ]
  },
  {
   "cell_type": "code",
   "execution_count": null,
   "metadata": {},
   "outputs": [
    {
     "name": "stdout",
     "output_type": "stream",
     "text": [
      "(2020-12-13T22:32:51.665) Trimming sequence ...\n",
      "`\u001b[4mskewer\u001b[24m \u001b[4m--threads\u001b[24m \u001b[4m8\u001b[24m \u001b[4m-x\u001b[24m \u001b[4mAGATCGGAAGAGC\u001b[24m \u001b[4m--end-quality\u001b[24m \u001b[4m20\u001b[24m \u001b[4m--mode\u001b[24m \u001b[4mpe\u001b[24m \u001b[4m--compress\u001b[24m \u001b[4m--output\u001b[24m \u001b[4m/home/jovyan/ProcessSequence.jl/output/process_germ_dna_738/trim_sequence/germ\u001b[24m \u001b[4m--quiet\u001b[24m \u001b[4m/home/jovyan/ProcessSequence.jl/input/738/input/WGC056190D_combined_R1.fastq.gz\u001b[24m \u001b[4m/home/jovyan/ProcessSequence.jl/input/738/input/WGC056190D_combined_R2.fastq.gz\u001b[24m`\n"
     ]
    }
   ],
   "source": [
    "if all((\n",
    "    in(key, keys(project_json)) for key in (\"germ_dna.1.fastq.gz\", \"germ_dna.2.fastq.gz\")\n",
    "))\n",
    "\n",
    "    ProcessSequence.process_germ_dna(\n",
    "        joinpath(project_dir, project_json[\"germ_dna.1.fastq.gz\"]),\n",
    "        joinpath(project_dir, project_json[\"germ_dna.2.fastq.gz\"]),\n",
    "        project_json[\"dna_is_targeted\"],\n",
    "        joinpath(output_dir, string(\"process_germ_dna_\", sample_name)),\n",
    "        process_dna_arguments...,\n",
    "    )\n",
    "\n",
    "end"
   ]
  },
  {
   "cell_type": "code",
   "execution_count": null,
   "metadata": {},
   "outputs": [],
   "source": [
    "if all((\n",
    "    in(key, keys(project_json))\n",
    "    for\n",
    "    key in (\n",
    "        \"germ_dna.1.fastq.gz\",\n",
    "        \"germ_dna.2.fastq.gz\",\n",
    "        \"soma_dna.1.fastq.gz\",\n",
    "        \"soma_dna.2.fastq.gz\",\n",
    "    )\n",
    "))\n",
    "\n",
    "    ProcessSequence.process_soma_dna(\n",
    "        joinpath(project_dir, project_json[\"germ_dna.1.fastq.gz\"]),\n",
    "        joinpath(project_dir, project_json[\"germ_dna.2.fastq.gz\"]),\n",
    "        joinpath(project_dir, project_json[\"soma_dna.1.fastq.gz\"]),\n",
    "        joinpath(project_dir, project_json[\"soma_dna.2.fastq.gz\"]),\n",
    "        project_json[\"dna_is_targeted\"],\n",
    "        joinpath(output_dir, \"process_soma_dna\"),\n",
    "        process_dna_arguments...,\n",
    "    )\n",
    "\n",
    "end"
   ]
  },
  {
   "cell_type": "code",
   "execution_count": null,
   "metadata": {},
   "outputs": [],
   "source": [
    "if all((\n",
    "    in(key, keys(project_json)) for key in (\"soma_rna.1.fastq.gz\", \"soma_rna.2.fastq.gz\")\n",
    "))\n",
    "\n",
    "    ProcessSequence.process_soma_rna(\n",
    "        joinpath(project_dir, project_json[\"soma_rna.1.fastq.gz\"]),\n",
    "        joinpath(project_dir, project_json[\"soma_rna.2.fastq.gz\"]),\n",
    "        joinpath(output_dir, \"process_soma_rna\"),\n",
    "        joinpath(reference_dir, \"Homo_sapiens.GRCh38.cdna.all.fa.gz\"),\n",
    "        project_json[\"n_job\"],\n",
    "    )\n",
    "\n",
    "end"
   ]
  }
 ],
 "metadata": {
  "@webio": {
   "lastCommId": null,
   "lastKernelId": null
  },
  "kernelspec": {
   "display_name": "Julia 1.5.2",
   "language": "julia",
   "name": "julia-1.5"
  },
  "language_info": {
   "file_extension": ".jl",
   "mimetype": "application/julia",
   "name": "julia",
   "version": "1.5.2"
  }
 },
 "nbformat": 4,
 "nbformat_minor": 4
}
