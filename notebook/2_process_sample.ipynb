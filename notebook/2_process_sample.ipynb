{
 "cells": [
  {
   "cell_type": "code",
   "execution_count": 1,
   "metadata": {},
   "outputs": [
    {
     "data": {
      "text/plain": [
       "Main.ProcessSequence"
      ]
     },
     "execution_count": 1,
     "metadata": {},
     "output_type": "execute_result"
    }
   ],
   "source": [
    "include(\"../src/ProcessSequence.jl\")"
   ]
  },
  {
   "cell_type": "code",
   "execution_count": 2,
   "metadata": {},
   "outputs": [
    {
     "data": {
      "text/plain": [
       "\"/opt/snpeff/snpEff/snpEff.jar\""
      ]
     },
     "execution_count": 2,
     "metadata": {},
     "output_type": "execute_result"
    }
   ],
   "source": [
    "project_dir = dirname(@__DIR__)\n",
    "\n",
    "using JSON: parse\n",
    "\n",
    "project_json = parse(read(joinpath(project_dir, \"project.json\"), String))\n",
    "\n",
    "sample_name = project_json[\"sample_name\"]\n",
    "\n",
    "output_dir = joinpath(project_dir, \"output\")\n",
    "\n",
    "input_dir = joinpath(project_dir, \"input\")\n",
    "\n",
    "sample_dir = joinpath(input_dir, sample_name)\n",
    "\n",
    "reference_dir = joinpath(input_dir, \"reference\")\n",
    "\n",
    "snpeff_jar = \"/opt/snpeff/snpEff/snpEff.jar\""
   ]
  },
  {
   "cell_type": "code",
   "execution_count": 3,
   "metadata": {},
   "outputs": [
    {
     "data": {
      "text/plain": [
       "\"735\""
      ]
     },
     "execution_count": 3,
     "metadata": {},
     "output_type": "execute_result"
    }
   ],
   "source": [
    "sample_name"
   ]
  },
  {
   "cell_type": "code",
   "execution_count": 4,
   "metadata": {},
   "outputs": [
    {
     "name": "stdout",
     "output_type": "stream",
     "text": [
      "Checking program...\n",
      "`\u001b[4mwhich\u001b[24m \u001b[4mskewer\u001b[24m`\n",
      "/opt/conda/bin/skewer\n",
      "`\u001b[4mwhich\u001b[24m \u001b[4mfastqc\u001b[24m`\n",
      "/opt/conda/bin/fastqc\n",
      "`\u001b[4mwhich\u001b[24m \u001b[4mbgzip\u001b[24m`\n",
      "/opt/conda/bin/bgzip\n",
      "`\u001b[4mwhich\u001b[24m \u001b[4mtabix\u001b[24m`\n",
      "/opt/conda/bin/tabix\n",
      "`\u001b[4mwhich\u001b[24m \u001b[4mminimap2\u001b[24m`\n",
      "/opt/conda/bin/minimap2\n",
      "`\u001b[4mwhich\u001b[24m \u001b[4msamtools\u001b[24m`\n",
      "/opt/conda/bin/samtools\n",
      "`\u001b[4mwhich\u001b[24m \u001b[4mbcftools\u001b[24m`\n",
      "/opt/conda/bin/bcftools\n",
      "`\u001b[4mwhich\u001b[24m \u001b[4mkallisto\u001b[24m`\n",
      "/opt/conda/bin/kallisto\n",
      "`\u001b[4mbash\u001b[24m \u001b[4m-c\u001b[24m \u001b[4m'source activate py2 && which configManta.py'\u001b[24m`\n",
      "/opt/conda/envs/py2/bin/configManta.py\n",
      "`\u001b[4mbash\u001b[24m \u001b[4m-c\u001b[24m \u001b[4m'source activate py2 && which configureStrelkaGermlineWorkflow.py'\u001b[24m`\n",
      "/opt/conda/envs/py2/bin/configureStrelkaGermlineWorkflow.py\n",
      "`\u001b[4mbash\u001b[24m \u001b[4m-c\u001b[24m \u001b[4m'source activate py2 && which configureStrelkaSomaticWorkflow.py'\u001b[24m`\n",
      "/opt/conda/envs/py2/bin/configureStrelkaSomaticWorkflow.py\n"
     ]
    }
   ],
   "source": [
    "ProcessSequence.check_program()"
   ]
  },
  {
   "cell_type": "code",
   "execution_count": 5,
   "metadata": {},
   "outputs": [
    {
     "data": {
      "text/plain": [
       "(\"/home/jovyan/ProcessSequence.jl/input/reference/GCA_000001405.15_GRCh38_no_alt_analysis_set.fna.gz\", \"/home/jovyan/ProcessSequence.jl/input/reference/chromosome.bed.gz\", \"/home/jovyan/ProcessSequence.jl/input/reference/chrn_n.tsv\", 8, 40, 1, \"/opt/snpeff/snpEff/snpEff.jar\")"
      ]
     },
     "execution_count": 5,
     "metadata": {},
     "output_type": "execute_result"
    }
   ],
   "source": [
    "process_dna_arguments = (\n",
    "    joinpath(\n",
    "        reference_dir,\n",
    "        \"GCA_000001405.15_GRCh38_no_alt_analysis_set.fna.gz\",\n",
    "    ),\n",
    "    joinpath(reference_dir, \"chromosome.bed.gz\"),\n",
    "    joinpath(reference_dir, \"chrn_n.tsv\"),\n",
    "    project_json[\"n_job\"],\n",
    "    project_json[\"gb_memory\"],\n",
    "    1,\n",
    "    snpeff_jar,\n",
    ")"
   ]
  },
  {
   "cell_type": "code",
   "execution_count": 6,
   "metadata": {},
   "outputs": [
    {
     "name": "stdout",
     "output_type": "stream",
     "text": [
      "(2020-12-18T22:18:26.074) Trimming sequence ...\n",
      "`\u001b[4mskewer\u001b[24m \u001b[4m--threads\u001b[24m \u001b[4m8\u001b[24m \u001b[4m-x\u001b[24m \u001b[4mAGATCGGAAGAGC\u001b[24m \u001b[4m--mode\u001b[24m \u001b[4mpe\u001b[24m \u001b[4m-Q\u001b[24m \u001b[4m2\u001b[24m \u001b[4m-q\u001b[24m \u001b[4m2\u001b[24m \u001b[4m--compress\u001b[24m \u001b[4m--output\u001b[24m \u001b[4m/home/jovyan/ProcessSequence.jl/output/process_germ_dna_735/trim_sequence/germ\u001b[24m \u001b[4m--quiet\u001b[24m \u001b[4m/home/jovyan/ProcessSequence.jl/input/735/fastq_black/WGC064630D_combined_R1.fastq.gz\u001b[24m \u001b[4m/home/jovyan/ProcessSequence.jl/input/735/fastq_black/WGC064630D_combined_R2.fastq.gz\u001b[24m`\n"
     ]
    },
    {
     "name": "stderr",
     "output_type": "stream",
     "text": [
      "Error: the FASTQ quality formats of input files are different\n"
     ]
    },
    {
     "ename": "LoadError",
     "evalue": "failed process: Process(`skewer --threads 8 -x AGATCGGAAGAGC --mode pe -Q 2 -q 2 --compress --output /home/jovyan/ProcessSequence.jl/output/process_germ_dna_735/trim_sequence/germ --quiet /home/jovyan/ProcessSequence.jl/input/735/fastq_black/WGC064630D_combined_R1.fastq.gz /home/jovyan/ProcessSequence.jl/input/735/fastq_black/WGC064630D_combined_R2.fastq.gz`, ProcessExited(1)) [1]\n",
     "output_type": "error",
     "traceback": [
      "failed process: Process(`skewer --threads 8 -x AGATCGGAAGAGC --mode pe -Q 2 -q 2 --compress --output /home/jovyan/ProcessSequence.jl/output/process_germ_dna_735/trim_sequence/germ --quiet /home/jovyan/ProcessSequence.jl/input/735/fastq_black/WGC064630D_combined_R1.fastq.gz /home/jovyan/ProcessSequence.jl/input/735/fastq_black/WGC064630D_combined_R2.fastq.gz`, ProcessExited(1)) [1]\n",
      "",
      "Stacktrace:",
      " [1] pipeline_error at ./process.jl:525 [inlined]",
      " [2] run(::Cmd; wait::Bool) at ./process.jl:440",
      " [3] run at ./process.jl:438 [inlined]",
      " [4] print_and_run_cmd at /home/jovyan/ProcessSequence.jl/src/print_and_run_cmd.jl:5 [inlined]",
      " [5] trim_sequence(::String, ::String, ::String, ::String, ::Int64) at /home/jovyan/ProcessSequence.jl/src/trim_sequence.jl:36",
      " [6] process_germ_dna(::String, ::String, ::Bool, ::String, ::String, ::String, ::String, ::Int64, ::Int64, ::Int64, ::String) at /home/jovyan/ProcessSequence.jl/src/process_germ_dna.jl:46",
      " [7] top-level scope at In[6]:5",
      " [8] include_string(::Function, ::Module, ::String, ::String) at ./loading.jl:1091"
     ]
    }
   ],
   "source": [
    "if all((\n",
    "    in(key, keys(project_json)) for key in (\"germ_dna.1.fastq.gz\", \"germ_dna.2.fastq.gz\")\n",
    "))\n",
    "\n",
    "    ProcessSequence.process_germ_dna(\n",
    "        joinpath(project_dir, project_json[\"germ_dna.1.fastq.gz\"]),\n",
    "        joinpath(project_dir, project_json[\"germ_dna.2.fastq.gz\"]),\n",
    "        project_json[\"dna_is_targeted\"],\n",
    "        joinpath(output_dir, string(\"process_germ_dna_\", sample_name)),\n",
    "        process_dna_arguments...,\n",
    "    )\n",
    "\n",
    "end"
   ]
  },
  {
   "cell_type": "code",
   "execution_count": null,
   "metadata": {},
   "outputs": [],
   "source": [
    "if all((\n",
    "    in(key, keys(project_json))\n",
    "    for\n",
    "    key in (\n",
    "        \"germ_dna.1.fastq.gz\",\n",
    "        \"germ_dna.2.fastq.gz\",\n",
    "        \"soma_dna.1.fastq.gz\",\n",
    "        \"soma_dna.2.fastq.gz\",\n",
    "    )\n",
    "))\n",
    "\n",
    "    ProcessSequence.process_soma_dna(\n",
    "        joinpath(project_dir, project_json[\"germ_dna.1.fastq.gz\"]),\n",
    "        joinpath(project_dir, project_json[\"germ_dna.2.fastq.gz\"]),\n",
    "        joinpath(project_dir, project_json[\"soma_dna.1.fastq.gz\"]),\n",
    "        joinpath(project_dir, project_json[\"soma_dna.2.fastq.gz\"]),\n",
    "        project_json[\"dna_is_targeted\"],\n",
    "        joinpath(output_dir, \"process_soma_dna\"),\n",
    "        process_dna_arguments...,\n",
    "    )\n",
    "\n",
    "end"
   ]
  },
  {
   "cell_type": "code",
   "execution_count": null,
   "metadata": {},
   "outputs": [],
   "source": [
    "if all((\n",
    "    in(key, keys(project_json)) for key in (\"soma_rna.1.fastq.gz\", \"soma_rna.2.fastq.gz\")\n",
    "))\n",
    "\n",
    "    ProcessSequence.process_soma_rna(\n",
    "        joinpath(project_dir, project_json[\"soma_rna.1.fastq.gz\"]),\n",
    "        joinpath(project_dir, project_json[\"soma_rna.2.fastq.gz\"]),\n",
    "        joinpath(output_dir, \"process_soma_rna\"),\n",
    "        joinpath(reference_dir, \"Homo_sapiens.GRCh38.cdna.all.fa.gz\"),\n",
    "        project_json[\"n_job\"],\n",
    "    )\n",
    "\n",
    "end"
   ]
  }
 ],
 "metadata": {
  "@webio": {
   "lastCommId": null,
   "lastKernelId": null
  },
  "kernelspec": {
   "display_name": "Julia 1.5.2",
   "language": "julia",
   "name": "julia-1.5"
  },
  "language_info": {
   "file_extension": ".jl",
   "mimetype": "application/julia",
   "name": "julia",
   "version": "1.5.2"
  }
 },
 "nbformat": 4,
 "nbformat_minor": 4
}
