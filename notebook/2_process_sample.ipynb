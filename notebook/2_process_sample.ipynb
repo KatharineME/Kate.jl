{
 "cells": [
  {
   "cell_type": "code",
   "execution_count": 1,
   "metadata": {},
   "outputs": [
    {
     "data": {
      "text/plain": [
       "Main.ProcessSequence"
      ]
     },
     "execution_count": 1,
     "metadata": {},
     "output_type": "execute_result"
    }
   ],
   "source": [
    "include(\"../src/ProcessSequence.jl\")"
   ]
  },
  {
   "cell_type": "code",
   "execution_count": 2,
   "metadata": {},
   "outputs": [
    {
     "data": {
      "text/plain": [
       "\"/opt/snpeff/snpEff/snpEff.jar\""
      ]
     },
     "execution_count": 2,
     "metadata": {},
     "output_type": "execute_result"
    }
   ],
   "source": [
    "project_dir = dirname(@__DIR__)\n",
    "\n",
    "using JSON: parse\n",
    "project_json = parse(read(joinpath(project_dir, \"project.json\"), String))\n",
    "\n",
    "sample_name = project_json[\"sample_name\"]\n",
    "\n",
    "output_dir = joinpath(project_dir, \"output\")\n",
    "input_dir = joinpath(project_dir, \"input\")\n",
    "sample_dir = joinpath(input_dir, sample_name)\n",
    "reference_dir = joinpath(input_dir, \"reference\")\n",
    "snpeff_jar = \"/opt/snpeff/snpEff/snpEff.jar\""
   ]
  },
  {
   "cell_type": "code",
   "execution_count": 3,
   "metadata": {},
   "outputs": [],
   "source": [
    "if !isdir(reference_dir)\n",
    "\n",
    "    ProcessSequence.print_and_run_cmd(`unzip -o -d $input_dir $reference_dir.zip`)\n",
    "    \n",
    "end"
   ]
  },
  {
   "cell_type": "code",
   "execution_count": 4,
   "metadata": {},
   "outputs": [],
   "source": [
    "if !isfile(snpeff_jar)\n",
    "    \n",
    "    throw(\"$snpeff is missing.\")\n",
    "    \n",
    "end"
   ]
  },
  {
   "cell_type": "code",
   "execution_count": 5,
   "metadata": {},
   "outputs": [
    {
     "name": "stdout",
     "output_type": "stream",
     "text": [
      "Checking program...\n",
      "`\u001b[4mwhich\u001b[24m \u001b[4mskewer\u001b[24m`\n",
      "/opt/conda/bin/skewer\n",
      "`\u001b[4mwhich\u001b[24m \u001b[4mfastqc\u001b[24m`\n",
      "/opt/conda/bin/fastqc\n",
      "`\u001b[4mwhich\u001b[24m \u001b[4mbgzip\u001b[24m`\n",
      "/opt/conda/bin/bgzip\n",
      "`\u001b[4mwhich\u001b[24m \u001b[4mtabix\u001b[24m`\n",
      "/opt/conda/bin/tabix\n",
      "`\u001b[4mwhich\u001b[24m \u001b[4mminimap2\u001b[24m`\n",
      "/opt/conda/bin/minimap2\n",
      "`\u001b[4mwhich\u001b[24m \u001b[4msamtools\u001b[24m`\n",
      "/opt/conda/bin/samtools\n",
      "`\u001b[4mwhich\u001b[24m \u001b[4mbcftools\u001b[24m`\n",
      "/opt/conda/bin/bcftools\n",
      "`\u001b[4mwhich\u001b[24m \u001b[4mkallisto\u001b[24m`\n",
      "/opt/conda/bin/kallisto\n",
      "`\u001b[4mbash\u001b[24m \u001b[4m-c\u001b[24m \u001b[4m'source activate py2 && which configManta.py'\u001b[24m`\n",
      "/opt/conda/envs/py2/bin/configManta.py\n",
      "`\u001b[4mbash\u001b[24m \u001b[4m-c\u001b[24m \u001b[4m'source activate py2 && which configureStrelkaGermlineWorkflow.py'\u001b[24m`\n",
      "/opt/conda/envs/py2/bin/configureStrelkaGermlineWorkflow.py\n",
      "`\u001b[4mbash\u001b[24m \u001b[4m-c\u001b[24m \u001b[4m'source activate py2 && which configureStrelkaSomaticWorkflow.py'\u001b[24m`\n",
      "/opt/conda/envs/py2/bin/configureStrelkaSomaticWorkflow.py\n"
     ]
    }
   ],
   "source": [
    "ProcessSequence.check_program()"
   ]
  },
  {
   "cell_type": "code",
   "execution_count": 6,
   "metadata": {},
   "outputs": [
    {
     "data": {
      "text/plain": [
       "(\"/home/jovyan/ProcessSequence.jl/input/reference/GCA_000001405.15_GRCh38_no_alt_analysis_set.fna.gz\", \"/home/jovyan/ProcessSequence.jl/input/reference/chromosome.bed.gz\", \"/home/jovyan/ProcessSequence.jl/input/reference/chrn_n.tsv\", 8, 40, 5, \"/opt/snpeff/snpEff/snpEff.jar\")"
      ]
     },
     "execution_count": 6,
     "metadata": {},
     "output_type": "execute_result"
    }
   ],
   "source": [
    "process_dna_arguments = (\n",
    "    joinpath(\n",
    "        reference_dir,\n",
    "        \"GCA_000001405.15_GRCh38_no_alt_analysis_set.fna.gz\",\n",
    "    ),\n",
    "    joinpath(reference_dir, \"chromosome.bed.gz\"),\n",
    "    joinpath(reference_dir, \"chrn_n.tsv\"),\n",
    "    project_json[\"n_job\"],\n",
    "    project_json[\"gb_memory\"],\n",
    "    5,\n",
    "    snpeff_jar,\n",
    ")"
   ]
  },
  {
   "cell_type": "code",
   "execution_count": null,
   "metadata": {},
   "outputs": [
    {
     "name": "stdout",
     "output_type": "stream",
     "text": [
      "Skipping trimming because trimmed files already exist:\n",
      " /home/jovyan/ProcessSequence.jl/output/process_germ_dna_1004/trim_sequence/germ-trimmed-pair1.fastq.gz\n",
      " /home/jovyan/ProcessSequence.jl/output/process_germ_dna_1004/trim_sequence/germ-trimmed-pair2.fastq.gz\n",
      "\n",
      "Skipping check sequence because check sequence directory already exists:\n",
      " /home/jovyan/ProcessSequence.jl/output/process_germ_dna_1004/check_sequence\n",
      "\n",
      "(2020-12-07T23:56:45.652) Aligning sequence ...\n",
      "pipeline(pipeline(pipeline(pipeline(`\u001b[4mminimap2\u001b[24m \u001b[4m-x\u001b[24m \u001b[4msr\u001b[24m \u001b[4m-t\u001b[24m \u001b[4m8\u001b[24m \u001b[4m-K\u001b[24m \u001b[4m5G\u001b[24m \u001b[4m-R\u001b[24m \u001b[4m'@RG\\tID:Germ\\tSM:Germ'\u001b[24m \u001b[4m-a\u001b[24m \u001b[4m/home/jovyan/ProcessSequence.jl/input/reference/GCA_000001405.15_GRCh38_no_alt_analysis_set.fna.gz.mmi\u001b[24m \u001b[4m/home/jovyan/ProcessSequence.jl/output/process_germ_dna_1004/trim_sequence/germ-trimmed-pair1.fastq.gz\u001b[24m \u001b[4m/home/jovyan/ProcessSequence.jl/output/process_germ_dna_1004/trim_sequence/germ-trimmed-pair2.fastq.gz\u001b[24m`, stdout=`\u001b[4msamtools\u001b[24m \u001b[4msort\u001b[24m \u001b[4m--threads\u001b[24m \u001b[4m8\u001b[24m \u001b[4m-n\u001b[24m`), stdout=`\u001b[4msamtools\u001b[24m \u001b[4mfixmate\u001b[24m \u001b[4m--threads\u001b[24m \u001b[4m8\u001b[24m \u001b[4m-m\u001b[24m \u001b[4m-\u001b[24m \u001b[4m-\u001b[24m`), stdout=`\u001b[4msamtools\u001b[24m \u001b[4msort\u001b[24m \u001b[4m--threads\u001b[24m \u001b[4m8\u001b[24m`), stdout>Base.FileRedirect(\"/home/jovyan/ProcessSequence.jl/output/process_germ_dna_1004/align_sequence/germ.bam.tmp\", false))\n"
     ]
    },
    {
     "name": "stderr",
     "output_type": "stream",
     "text": [
      "[WARNING]\u001b[1;31m Indexing parameters (-k, -w or -H) overridden by parameters used in the prebuilt index.\u001b[0m\n",
      "[M::main::70.599*0.26] loaded/built the index for 195 target sequence(s)\n",
      "[M::mm_mapopt_update::70.599*0.26] mid_occ = 1000\n",
      "[M::mm_idx_stat] kmer size: 15; skip: 10; is_hpc: 0; #seq: 195\n",
      "[M::mm_idx_stat::77.406*0.32] distinct minimizers: 100167746 (38.80% are singletons); average occurrences: 5.519; average spacing: 5.607\n",
      "[M::worker_pipeline::283.388*5.64] mapped 4703844 sequences\n",
      "[M::worker_pipeline::438.479*6.55] mapped 4703722 sequences\n",
      "[M::worker_pipeline::587.794*6.97] mapped 4704016 sequences\n",
      "[M::worker_pipeline::820.224*7.29] mapped 4704534 sequences\n",
      "[M::worker_pipeline::936.155*7.42] mapped 4704816 sequences\n",
      "[M::worker_pipeline::1102.274*7.54] mapped 4704556 sequences\n",
      "[M::worker_pipeline::1263.532*7.62] mapped 4704562 sequences\n",
      "[M::worker_pipeline::1494.163*7.70] mapped 4704570 sequences\n",
      "[M::worker_pipeline::1627.702*7.74] mapped 4704800 sequences\n",
      "[M::worker_pipeline::1793.077*7.79] mapped 4705520 sequences\n",
      "[M::worker_pipeline::2035.856*7.82] mapped 4705046 sequences\n",
      "[M::worker_pipeline::2182.890*7.85] mapped 4704882 sequences\n",
      "[M::worker_pipeline::2364.166*7.88] mapped 4703976 sequences\n",
      "[M::worker_pipeline::2513.823*7.90] mapped 4703512 sequences\n",
      "[M::worker_pipeline::2730.359*7.92] mapped 4703742 sequences\n",
      "[M::worker_pipeline::2853.503*7.93] mapped 4704032 sequences\n",
      "[M::worker_pipeline::3016.371*7.95] mapped 4704472 sequences\n",
      "[M::worker_pipeline::3179.050*7.96] mapped 4704444 sequences\n",
      "[M::worker_pipeline::3409.880*7.97] mapped 4704578 sequences\n",
      "[M::worker_pipeline::3529.128*7.98] mapped 4704530 sequences\n",
      "[M::worker_pipeline::3684.424*7.99] mapped 4704766 sequences\n",
      "[M::worker_pipeline::3905.636*8.00] mapped 4704774 sequences\n",
      "[M::worker_pipeline::4056.628*8.01] mapped 4704780 sequences\n",
      "[M::worker_pipeline::4219.135*8.01] mapped 4705030 sequences\n",
      "[M::worker_pipeline::4385.155*8.02] mapped 4704696 sequences\n",
      "[M::worker_pipeline::4584.538*8.02] mapped 4703502 sequences\n",
      "[M::worker_pipeline::4692.888*8.03] mapped 4703582 sequences\n",
      "[M::worker_pipeline::7198.998*6.54] mapped 4703884 sequences\n",
      "[M::worker_pipeline::11994.137*4.74] mapped 4704414 sequences\n",
      "[M::worker_pipeline::12698.055*4.76] mapped 4704498 sequences\n",
      "[M::worker_pipeline::12876.332*4.81] mapped 4704554 sequences\n",
      "[M::worker_pipeline::13056.172*4.85] mapped 4704514 sequences\n",
      "[M::worker_pipeline::13298.146*4.91] mapped 4704530 sequences\n",
      "[M::worker_pipeline::13408.225*4.94] mapped 4704616 sequences\n",
      "[M::worker_pipeline::13572.889*4.98] mapped 4705358 sequences\n",
      "[M::worker_pipeline::13742.848*5.02] mapped 4704762 sequences\n",
      "[M::worker_pipeline::14013.420*5.08] mapped 4704828 sequences\n",
      "[M::worker_pipeline::14147.841*5.11] mapped 4703906 sequences\n",
      "[M::worker_pipeline::14304.736*5.14] mapped 4703374 sequences\n",
      "[M::worker_pipeline::14536.004*5.19] mapped 4703564 sequences\n",
      "[M::worker_pipeline::14656.544*5.22] mapped 4703992 sequences\n",
      "[M::worker_pipeline::14817.953*5.25] mapped 4704472 sequences\n",
      "[M::worker_pipeline::14983.634*5.28] mapped 4704610 sequences\n",
      "[M::worker_pipeline::15223.217*5.33] mapped 4704608 sequences\n",
      "[M::worker_pipeline::15353.677*5.35] mapped 4704542 sequences\n",
      "[M::worker_pipeline::15528.856*5.38] mapped 4704708 sequences\n",
      "[M::worker_pipeline::15765.539*5.42] mapped 4704660 sequences\n",
      "[M::worker_pipeline::15892.988*5.45] mapped 4704754 sequences\n",
      "[M::worker_pipeline::16069.386*5.48] mapped 4704784 sequences\n",
      "[M::worker_pipeline::16249.873*5.51] mapped 4704746 sequences\n",
      "[M::worker_pipeline::16501.326*5.55] mapped 4703272 sequences\n",
      "[M::worker_pipeline::16626.294*5.57] mapped 4703406 sequences\n",
      "[M::worker_pipeline::16797.649*5.60] mapped 4703600 sequences\n",
      "[M::worker_pipeline::16961.024*5.62] mapped 4704198 sequences\n",
      "[M::worker_pipeline::17209.441*5.66] mapped 4704452 sequences\n",
      "[M::worker_pipeline::17329.553*5.67] mapped 4704702 sequences\n",
      "[M::worker_pipeline::17499.893*5.70] mapped 4704438 sequences\n",
      "[M::worker_pipeline::17755.908*5.73] mapped 4704566 sequences\n",
      "[M::worker_pipeline::17885.854*5.75] mapped 4704622 sequences\n",
      "[M::worker_pipeline::18054.709*5.78] mapped 4705248 sequences\n",
      "[M::worker_pipeline::18222.696*5.80] mapped 4705322 sequences\n",
      "[M::worker_pipeline::18497.389*5.83] mapped 4704952 sequences\n",
      "[M::worker_pipeline::18631.874*5.85] mapped 4704352 sequences\n",
      "[M::worker_pipeline::18796.105*5.87] mapped 4703388 sequences\n",
      "[M::worker_pipeline::19052.975*5.90] mapped 4703450 sequences\n",
      "[M::worker_pipeline::19179.602*5.92] mapped 4703786 sequences\n",
      "[M::worker_pipeline::19347.713*5.94] mapped 4704356 sequences\n",
      "[M::worker_pipeline::19517.018*5.96] mapped 4704704 sequences\n",
      "[M::worker_pipeline::19785.687*5.98] mapped 4704806 sequences\n",
      "[M::worker_pipeline::19906.627*6.00] mapped 4704828 sequences\n",
      "[M::worker_pipeline::20074.189*6.02] mapped 4704734 sequences\n",
      "[M::worker_pipeline::20250.704*6.04] mapped 4704836 sequences\n",
      "[M::worker_pipeline::20573.020*6.07] mapped 4704844 sequences\n",
      "[M::worker_pipeline::20705.654*6.08] mapped 4704758 sequences\n",
      "[M::worker_pipeline::20890.519*6.10] mapped 4704880 sequences\n",
      "[M::worker_pipeline::21201.953*6.13] mapped 4704486 sequences\n",
      "[M::worker_pipeline::21327.653*6.14] mapped 4704200 sequences\n",
      "[M::worker_pipeline::21528.222*6.16] mapped 4704282 sequences\n",
      "[M::worker_pipeline::21709.151*6.18] mapped 4704304 sequences\n",
      "[M::worker_pipeline::22022.240*6.21] mapped 4704264 sequences\n",
      "[M::worker_pipeline::22150.740*6.22] mapped 4704148 sequences\n",
      "[M::worker_pipeline::22337.812*6.23] mapped 4704154 sequences\n",
      "[M::worker_pipeline::22640.362*6.26] mapped 4704296 sequences\n",
      "[M::worker_pipeline::22783.516*6.27] mapped 4704258 sequences\n",
      "[M::worker_pipeline::22978.430*6.29] mapped 4704170 sequences\n",
      "[M::worker_pipeline::23186.236*6.30] mapped 4704174 sequences\n",
      "[M::worker_pipeline::23511.724*6.33] mapped 4704180 sequences\n",
      "[M::worker_pipeline::23656.200*6.34] mapped 4704104 sequences\n",
      "[M::worker_pipeline::23838.672*6.35] mapped 4704276 sequences\n",
      "[M::worker_pipeline::24017.292*6.37] mapped 4704308 sequences\n",
      "[M::worker_pipeline::24305.241*6.39] mapped 4704340 sequences\n",
      "[M::worker_pipeline::24423.529*6.40] mapped 4704288 sequences\n"
     ]
    }
   ],
   "source": [
    "if all((\n",
    "    in(key, keys(project_json)) for key in (\"germ_dna.1.fastq.gz\", \"germ_dna.2.fastq.gz\")\n",
    "))\n",
    "\n",
    "    ProcessSequence.process_germ_dna(\n",
    "        joinpath(project_dir, project_json[\"germ_dna.1.fastq.gz\"]),\n",
    "        joinpath(project_dir, project_json[\"germ_dna.2.fastq.gz\"]),\n",
    "        project_json[\"dna_is_targeted\"],\n",
    "        joinpath(output_dir, string(\"process_germ_dna_\", sample_name)),\n",
    "        process_dna_arguments...,\n",
    "    )\n",
    "\n",
    "end"
   ]
  },
  {
   "cell_type": "code",
   "execution_count": null,
   "metadata": {},
   "outputs": [],
   "source": [
    "if all((\n",
    "    in(key, keys(project_json))\n",
    "    for\n",
    "    key in (\n",
    "        \"germ_dna.1.fastq.gz\",\n",
    "        \"germ_dna.2.fastq.gz\",\n",
    "        \"soma_dna.1.fastq.gz\",\n",
    "        \"soma_dna.2.fastq.gz\",\n",
    "    )\n",
    "))\n",
    "\n",
    "    ProcessSequence.process_soma_dna(\n",
    "        joinpath(project_dir, project_json[\"germ_dna.1.fastq.gz\"]),\n",
    "        joinpath(project_dir, project_json[\"germ_dna.2.fastq.gz\"]),\n",
    "        joinpath(project_dir, project_json[\"soma_dna.1.fastq.gz\"]),\n",
    "        joinpath(project_dir, project_json[\"soma_dna.2.fastq.gz\"]),\n",
    "        project_json[\"dna_is_targeted\"],\n",
    "        joinpath(output_dir, \"process_soma_dna\"),\n",
    "        process_dna_arguments...,\n",
    "    )\n",
    "\n",
    "end"
   ]
  },
  {
   "cell_type": "code",
   "execution_count": null,
   "metadata": {},
   "outputs": [],
   "source": [
    "if all((\n",
    "    in(key, keys(project_json)) for key in (\"soma_rna.1.fastq.gz\", \"soma_rna.2.fastq.gz\")\n",
    "))\n",
    "\n",
    "    ProcessSequence.process_soma_rna(\n",
    "        joinpath(project_dir, project_json[\"soma_rna.1.fastq.gz\"]),\n",
    "        joinpath(project_dir, project_json[\"soma_rna.2.fastq.gz\"]),\n",
    "        joinpath(output_dir, \"process_soma_rna\"),\n",
    "        joinpath(reference_dir, \"Homo_sapiens.GRCh38.cdna.all.fa.gz\"),\n",
    "        project_json[\"n_job\"],\n",
    "    )\n",
    "\n",
    "end"
   ]
  }
 ],
 "metadata": {
  "@webio": {
   "lastCommId": null,
   "lastKernelId": null
  },
  "kernelspec": {
   "display_name": "Julia 1.5.2",
   "language": "julia",
   "name": "julia-1.5"
  },
  "language_info": {
   "file_extension": ".jl",
   "mimetype": "application/julia",
   "name": "julia",
   "version": "1.5.2"
  }
 },
 "nbformat": 4,
 "nbformat_minor": 4
}
