{
 "cells": [
  {
   "cell_type": "code",
   "execution_count": 1,
   "metadata": {},
   "outputs": [
    {
     "data": {
      "text/plain": [
       "Main.ProcessSequence"
      ]
     },
     "execution_count": 1,
     "metadata": {},
     "output_type": "execute_result"
    }
   ],
   "source": [
    "include(\"../src/ProcessSequence.jl\")"
   ]
  },
  {
   "cell_type": "code",
   "execution_count": 7,
   "metadata": {},
   "outputs": [
    {
     "data": {
      "text/plain": [
       "\"/opt/snpeff/snpEff/snpEff.jar\""
      ]
     },
     "execution_count": 7,
     "metadata": {},
     "output_type": "execute_result"
    }
   ],
   "source": [
    "project_dir = dirname(@__DIR__)\n",
    "\n",
    "using JSON: parse\n",
    "project_json = parse(read(joinpath(project_dir, \"project.json\"), String))\n",
    "\n",
    "sample_name = project_json[\"sample_name\"]\n",
    "\n",
    "output_dir = joinpath(project_dir, \"output\")\n",
    "input_dir = joinpath(project_dir, \"input\")\n",
    "sample_dir = joinpath(input_dir, sample_name)\n",
    "reference_dir = joinpath(input_dir, \"reference\")\n",
    "snpeff_jar = \"/opt/snpeff/snpEff/snpEff.jar\""
   ]
  },
  {
   "cell_type": "code",
   "execution_count": 8,
   "metadata": {},
   "outputs": [],
   "source": [
    "if !isdir(reference_dir)\n",
    "\n",
    "    ProcessSequence.print_and_run_cmd(`unzip -o -d $input_dir $reference_dir.zip`)\n",
    "    \n",
    "end"
   ]
  },
  {
   "cell_type": "code",
   "execution_count": 9,
   "metadata": {},
   "outputs": [],
   "source": [
    "if !isfile(snpeff_jar)\n",
    "    \n",
    "    throw(\"$snpeff is missing.\")\n",
    "    \n",
    "end"
   ]
  },
  {
   "cell_type": "code",
   "execution_count": 10,
   "metadata": {},
   "outputs": [
    {
     "name": "stdout",
     "output_type": "stream",
     "text": [
      "Checking program...\n",
      "`\u001b[4mwhich\u001b[24m \u001b[4mskewer\u001b[24m`\n",
      "/opt/conda/bin/skewer\n",
      "`\u001b[4mwhich\u001b[24m \u001b[4mfastqc\u001b[24m`\n",
      "/opt/conda/bin/fastqc\n",
      "`\u001b[4mwhich\u001b[24m \u001b[4mbgzip\u001b[24m`\n",
      "/opt/conda/bin/bgzip\n",
      "`\u001b[4mwhich\u001b[24m \u001b[4mtabix\u001b[24m`\n",
      "/opt/conda/bin/tabix\n",
      "`\u001b[4mwhich\u001b[24m \u001b[4mminimap2\u001b[24m`\n",
      "/opt/conda/bin/minimap2\n",
      "`\u001b[4mwhich\u001b[24m \u001b[4msamtools\u001b[24m`\n",
      "/opt/conda/bin/samtools\n",
      "`\u001b[4mwhich\u001b[24m \u001b[4mbcftools\u001b[24m`\n",
      "/opt/conda/bin/bcftools\n",
      "`\u001b[4mwhich\u001b[24m \u001b[4mkallisto\u001b[24m`\n",
      "/opt/conda/bin/kallisto\n",
      "`\u001b[4mbash\u001b[24m \u001b[4m-c\u001b[24m \u001b[4m'source activate py2 && which configManta.py'\u001b[24m`\n",
      "/opt/conda/envs/py2/bin/configManta.py\n",
      "`\u001b[4mbash\u001b[24m \u001b[4m-c\u001b[24m \u001b[4m'source activate py2 && which configureStrelkaGermlineWorkflow.py'\u001b[24m`\n",
      "/opt/conda/envs/py2/bin/configureStrelkaGermlineWorkflow.py\n",
      "`\u001b[4mbash\u001b[24m \u001b[4m-c\u001b[24m \u001b[4m'source activate py2 && which configureStrelkaSomaticWorkflow.py'\u001b[24m`\n",
      "/opt/conda/envs/py2/bin/configureStrelkaSomaticWorkflow.py\n"
     ]
    }
   ],
   "source": [
    "ProcessSequence.check_program()"
   ]
  },
  {
   "cell_type": "code",
   "execution_count": 12,
   "metadata": {},
   "outputs": [
    {
     "data": {
      "text/plain": [
       "(\"/home/jovyan/ProcessSequence.jl/input/reference/GCA_000001405.15_GRCh38_no_alt_analysis_set.fna.gz\", \"/home/jovyan/ProcessSequence.jl/input/reference/chromosome.bed.gz\", \"/home/jovyan/ProcessSequence.jl/input/reference/chrn_n.tsv\", 8, 40, 5, \"/opt/snpeff/snpEff/snpEff.jar\")"
      ]
     },
     "execution_count": 12,
     "metadata": {},
     "output_type": "execute_result"
    }
   ],
   "source": [
    "process_dna_arguments = (\n",
    "    joinpath(\n",
    "        reference_dir,\n",
    "        \"GCA_000001405.15_GRCh38_no_alt_analysis_set.fna.gz\",\n",
    "    ),\n",
    "    joinpath(reference_dir, \"chromosome.bed.gz\"),\n",
    "    joinpath(reference_dir, \"chrn_n.tsv\"),\n",
    "    project_json[\"n_job\"],\n",
    "    project_json[\"gb_memory\"],\n",
    "    5,\n",
    "    snpeff_jar,\n",
    ")"
   ]
  },
  {
   "cell_type": "code",
   "execution_count": 15,
   "metadata": {},
   "outputs": [
    {
     "name": "stdout",
     "output_type": "stream",
     "text": [
      "(2020-12-06T07:25:30.241) Trimming sequence ...\n",
      "`\u001b[4mskewer\u001b[24m \u001b[4m--threads\u001b[24m \u001b[4m8\u001b[24m \u001b[4m-x\u001b[24m \u001b[4mAGATCGGAAGAGC\u001b[24m \u001b[4m--end-quality\u001b[24m \u001b[4m20\u001b[24m \u001b[4m--mode\u001b[24m \u001b[4mpe\u001b[24m \u001b[4m--compress\u001b[24m \u001b[4m--output\u001b[24m \u001b[4m/home/jovyan/ProcessSequence.jl/output/process_germ_dna_test_high_quality/trim_sequence/germ\u001b[24m \u001b[4m--quiet\u001b[24m \u001b[4m/home/jovyan/ProcessSequence.jl/input/test_high_quality/germ_dna.1.1m.fastq.gz\u001b[24m \u001b[4m/home/jovyan/ProcessSequence.jl/input/test_high_quality/germ_dna.2.1m.fastq.gz\u001b[24m`\n",
      ".--. .-.\n",
      ": .--': :.-.\n",
      "`. `. : `'.' .--. .-..-..-. .--. .--.\n",
      "_`, :: . `.' '_.': `; `; :' '_.': ..'\n",
      "`.__.':_;:_;`.__.'`.__.__.'`.__.':_;\n",
      "skewer v0.2.2 [April 4, 2016]\n",
      "Parameters used:\n",
      "-- 3' end adapter sequence (-x):\u001b[0;33m\tAGATCGGAAGAGC\n",
      "\u001b[0m-- maximum error ratio allowed (-r):\t0.100\n",
      "-- maximum indel error ratio allowed (-d):\t0.030\n",
      "-- end quality threshold (-q):\t\t20\n",
      "-- minimum read length allowed after trimming (-l):\t18\n",
      "-- file format (-f):\t\tSanger/Illumina 1.8+ FASTQ (auto detected)\n",
      "-- number of concurrent threads (-t):\t8\n",
      "Sun Dec  6 07:25:30 2020\u001b[0;32m >> started\u001b[0m\n",
      "\n",
      "Sun Dec  6 07:26:00 2020\u001b[0;32m >> done\u001b[0m (30.602s)\n",
      "1000000 read pairs processed; of these:\n",
      "      3 ( 0.00%) short read pairs filtered out after trimming by size control\n",
      "      3 ( 0.00%) empty read pairs filtered out after trimming by size control\n",
      " 999994 (100.00%) read pairs available; of these:\n",
      "  98026 ( 9.80%) trimmed read pairs available after processing\n",
      " 901968 (90.20%) untrimmed read pairs available after processing\n",
      "log has been saved to \"/home/jovyan/ProcessSequence.jl/output/process_germ_dna_test_high_quality/trim_sequence/germ-trimmed.log\".\n",
      "(2020-12-06T07:26:00.841) Done in 30 seconds, 600 milliseconds.\n",
      "(2020-12-06T07:26:00.841) Checking sequence ...\n",
      "`\u001b[4mfastqc\u001b[24m \u001b[4m--threads\u001b[24m \u001b[4m2\u001b[24m \u001b[4m--outdir\u001b[24m \u001b[4m/home/jovyan/ProcessSequence.jl/output/process_germ_dna_test_high_quality/check_sequence\u001b[24m \u001b[4m/home/jovyan/ProcessSequence.jl/output/process_germ_dna_test_high_quality/trim_sequence/germ-trimmed-pair1.fastq.gz\u001b[24m \u001b[4m/home/jovyan/ProcessSequence.jl/output/process_germ_dna_test_high_quality/trim_sequence/germ-trimmed-pair2.fastq.gz\u001b[24m`\n",
      "Analysis complete for germ-trimmed-pair1.fastq.gz\n",
      "Analysis complete for germ-trimmed-pair2.fastq.gz\n",
      "(2020-12-06T07:26:19.364) Done in 18 seconds, 523 milliseconds.\n",
      "(2020-12-06T07:26:19.364) Aligning sequence ...\n",
      "pipeline(pipeline(pipeline(pipeline(`\u001b[4mminimap2\u001b[24m \u001b[4m-x\u001b[24m \u001b[4msr\u001b[24m \u001b[4m-t\u001b[24m \u001b[4m8\u001b[24m \u001b[4m-K\u001b[24m \u001b[4m5G\u001b[24m \u001b[4m-R\u001b[24m \u001b[4m'@RG\\tID:Germ\\tSM:Germ'\u001b[24m \u001b[4m-a\u001b[24m \u001b[4m/home/jovyan/ProcessSequence.jl/input/reference/GCA_000001405.15_GRCh38_no_alt_analysis_set.fna.gz.mmi\u001b[24m \u001b[4m/home/jovyan/ProcessSequence.jl/output/process_germ_dna_test_high_quality/trim_sequence/germ-trimmed-pair1.fastq.gz\u001b[24m \u001b[4m/home/jovyan/ProcessSequence.jl/output/process_germ_dna_test_high_quality/trim_sequence/germ-trimmed-pair2.fastq.gz\u001b[24m`, stdout=`\u001b[4msamtools\u001b[24m \u001b[4msort\u001b[24m \u001b[4m--threads\u001b[24m \u001b[4m8\u001b[24m \u001b[4m-m\u001b[24m \u001b[4m5G\u001b[24m \u001b[4m-n\u001b[24m`), stdout=`\u001b[4msamtools\u001b[24m \u001b[4mfixmate\u001b[24m \u001b[4m--threads\u001b[24m \u001b[4m8\u001b[24m \u001b[4m-m\u001b[24m \u001b[4m-\u001b[24m \u001b[4m-\u001b[24m`), stdout=`\u001b[4msamtools\u001b[24m \u001b[4msort\u001b[24m \u001b[4m--threads\u001b[24m \u001b[4m8\u001b[24m \u001b[4m-m\u001b[24m \u001b[4m5G\u001b[24m`), stdout>Base.FileRedirect(\"/home/jovyan/ProcessSequence.jl/output/process_germ_dna_test_high_quality/align_sequence/germ.bam.tmp\", false))\n",
      "`\u001b[4msamtools\u001b[24m \u001b[4mmarkdup\u001b[24m \u001b[4m--threads\u001b[24m \u001b[4m8\u001b[24m \u001b[4m-s\u001b[24m \u001b[4m/home/jovyan/ProcessSequence.jl/output/process_germ_dna_test_high_quality/align_sequence/germ.bam.tmp\u001b[24m \u001b[4m/home/jovyan/ProcessSequence.jl/output/process_germ_dna_test_high_quality/align_sequence/germ.bam\u001b[24m`\n",
      "`\u001b[4msamtools\u001b[24m \u001b[4mindex\u001b[24m \u001b[4m-@\u001b[24m \u001b[4m8\u001b[24m \u001b[4m/home/jovyan/ProcessSequence.jl/output/process_germ_dna_test_high_quality/align_sequence/germ.bam\u001b[24m`\n",
      "pipeline(`\u001b[4msamtools\u001b[24m \u001b[4mflagstat\u001b[24m \u001b[4m--threads\u001b[24m \u001b[4m8\u001b[24m \u001b[4m/home/jovyan/ProcessSequence.jl/output/process_germ_dna_test_high_quality/align_sequence/germ.bam\u001b[24m`, stdout>Base.FileRedirect(\"/home/jovyan/ProcessSequence.jl/output/process_germ_dna_test_high_quality/align_sequence/germ.bam.flagstat\", false))\n",
      "(2020-12-06T07:27:22.935) Done in 1 minute, 3 seconds, 571 milliseconds.\n",
      "(2020-12-06T07:27:22.935) Finding variant ...\n",
      "`\u001b[4mbash\u001b[24m \u001b[4m-c\u001b[24m \u001b[4m'source activate py2 && configManta.py --referenceFasta /home/jovyan/ProcessSequence.jl/input/reference/GCA_000001405.15_GRCh38_no_alt_analysis_set.fna.bgz --callRegions /home/jovyan/ProcessSequence.jl/input/reference/chromosome.bed.gz --bam /home/jovyan/ProcessSequence.jl/output/process_germ_dna_test_high_quality/align_sequence/germ.bam --outputContig --runDir /home/jovyan/ProcessSequence.jl/output/process_germ_dna_test_high_quality/find_variant/manta && /home/jovyan/ProcessSequence.jl/output/process_germ_dna_test_high_quality/find_variant/manta/runWorkflow.py --mode local --jobs 8 --memGb 40 --quiet'\u001b[24m`\n",
      "\n",
      "Successfully created workflow run script.\n",
      "To execute the workflow, run the following script and set appropriate options:\n",
      "\n",
      "/home/jovyan/ProcessSequence.jl/output/process_germ_dna_test_high_quality/find_variant/manta/runWorkflow.py\n",
      "`\u001b[4mbash\u001b[24m \u001b[4m-c\u001b[24m \u001b[4m'source activate py2 && configureStrelkaGermlineWorkflow.py --referenceFasta /home/jovyan/ProcessSequence.jl/input/reference/GCA_000001405.15_GRCh38_no_alt_analysis_set.fna.bgz --callRegions /home/jovyan/ProcessSequence.jl/input/reference/chromosome.bed.gz --bam /home/jovyan/ProcessSequence.jl/output/process_germ_dna_test_high_quality/align_sequence/germ.bam --runDir /home/jovyan/ProcessSequence.jl/output/process_germ_dna_test_high_quality/find_variant/strelka && /home/jovyan/ProcessSequence.jl/output/process_germ_dna_test_high_quality/find_variant/strelka/runWorkflow.py --mode local --jobs 8 --memGb 40 --quiet'\u001b[24m`\n",
      "\n",
      "Successfully created workflow run script.\n",
      "To execute the workflow, run the following script and set appropriate options:\n",
      "\n",
      "/home/jovyan/ProcessSequence.jl/output/process_germ_dna_test_high_quality/find_variant/strelka/runWorkflow.py\n",
      "pipeline(pipeline(pipeline(`\u001b[4mbcftools\u001b[24m \u001b[4mconcat\u001b[24m \u001b[4m--threads\u001b[24m \u001b[4m8\u001b[24m \u001b[4m--allow-overlaps\u001b[24m \u001b[4m/home/jovyan/ProcessSequence.jl/output/process_germ_dna_test_high_quality/find_variant/manta/results/variants/diploidSV.vcf.gz\u001b[24m \u001b[4m/home/jovyan/ProcessSequence.jl/output/process_germ_dna_test_high_quality/find_variant/strelka/results/variants/variants.vcf.gz\u001b[24m`, stdout=`\u001b[4mbcftools\u001b[24m \u001b[4mannotate\u001b[24m \u001b[4m--threads\u001b[24m \u001b[4m8\u001b[24m \u001b[4m--rename-chrs\u001b[24m \u001b[4m/home/jovyan/ProcessSequence.jl/input/reference/chrn_n.tsv\u001b[24m`), stdout=`\u001b[4mbgzip\u001b[24m \u001b[4m--threads\u001b[24m \u001b[4m8\u001b[24m \u001b[4m--stdout\u001b[24m`), stdout>Base.FileRedirect(\"/home/jovyan/ProcessSequence.jl/output/process_germ_dna_test_high_quality/find_variant/concat.vcf.gz\", false))\n",
      "`\u001b[4mtabix\u001b[24m \u001b[4m/home/jovyan/ProcessSequence.jl/output/process_germ_dna_test_high_quality/find_variant/concat.vcf.gz\u001b[24m`\n",
      "pipeline(pipeline(`\u001b[4mjava\u001b[24m \u001b[4m-Xmx40g\u001b[24m \u001b[4m-jar\u001b[24m \u001b[4m/opt/snpeff/snpEff/snpEff.jar\u001b[24m \u001b[4mGRCh38.99\u001b[24m \u001b[4m-noLog\u001b[24m \u001b[4m-verbose\u001b[24m \u001b[4m-csvStats\u001b[24m \u001b[4m/home/jovyan/ProcessSequence.jl/output/process_germ_dna_test_high_quality/find_variant/snpeff/stats.csv\u001b[24m \u001b[4m-htmlStats\u001b[24m \u001b[4m/home/jovyan/ProcessSequence.jl/output/process_germ_dna_test_high_quality/find_variant/snpeff/stats.html\u001b[24m \u001b[4m/home/jovyan/ProcessSequence.jl/output/process_germ_dna_test_high_quality/find_variant/concat.vcf.gz\u001b[24m`, stdout=`\u001b[4mbgzip\u001b[24m \u001b[4m--threads\u001b[24m \u001b[4m8\u001b[24m \u001b[4m--stdout\u001b[24m`), stdout>Base.FileRedirect(\"/home/jovyan/ProcessSequence.jl/output/process_germ_dna_test_high_quality/find_variant/snpeff/snpeff.vcf.gz\", false))\n"
     ]
    },
    {
     "name": "stderr",
     "output_type": "stream",
     "text": [
      "Started analysis of germ-trimmed-pair1.fastq.gz\n",
      "Started analysis of germ-trimmed-pair2.fastq.gz\n",
      "Approx 5% complete for germ-trimmed-pair1.fastq.gz\n",
      "Approx 5% complete for germ-trimmed-pair2.fastq.gz\n",
      "Approx 10% complete for germ-trimmed-pair1.fastq.gz\n",
      "Approx 10% complete for germ-trimmed-pair2.fastq.gz\n",
      "Approx 15% complete for germ-trimmed-pair1.fastq.gz\n",
      "Approx 15% complete for germ-trimmed-pair2.fastq.gz\n",
      "Approx 20% complete for germ-trimmed-pair1.fastq.gz\n",
      "Approx 20% complete for germ-trimmed-pair2.fastq.gz\n",
      "Approx 25% complete for germ-trimmed-pair1.fastq.gz\n",
      "Approx 25% complete for germ-trimmed-pair2.fastq.gz\n",
      "Approx 30% complete for germ-trimmed-pair1.fastq.gz\n",
      "Approx 30% complete for germ-trimmed-pair2.fastq.gz\n",
      "Approx 35% complete for germ-trimmed-pair1.fastq.gz\n",
      "Approx 35% complete for germ-trimmed-pair2.fastq.gz\n",
      "Approx 40% complete for germ-trimmed-pair1.fastq.gz\n",
      "Approx 40% complete for germ-trimmed-pair2.fastq.gz\n",
      "Approx 45% complete for germ-trimmed-pair1.fastq.gz\n",
      "Approx 50% complete for germ-trimmed-pair1.fastq.gz\n",
      "Approx 45% complete for germ-trimmed-pair2.fastq.gz\n",
      "Approx 55% complete for germ-trimmed-pair1.fastq.gz\n",
      "Approx 50% complete for germ-trimmed-pair2.fastq.gz\n",
      "Approx 60% complete for germ-trimmed-pair1.fastq.gz\n",
      "Approx 55% complete for germ-trimmed-pair2.fastq.gz\n",
      "Approx 65% complete for germ-trimmed-pair1.fastq.gz\n",
      "Approx 60% complete for germ-trimmed-pair2.fastq.gz\n",
      "Approx 70% complete for germ-trimmed-pair1.fastq.gz\n",
      "Approx 65% complete for germ-trimmed-pair2.fastq.gz\n",
      "Approx 75% complete for germ-trimmed-pair1.fastq.gz\n",
      "Approx 70% complete for germ-trimmed-pair2.fastq.gz\n",
      "Approx 80% complete for germ-trimmed-pair1.fastq.gz\n",
      "Approx 75% complete for germ-trimmed-pair2.fastq.gz\n",
      "Approx 85% complete for germ-trimmed-pair1.fastq.gz\n",
      "Approx 80% complete for germ-trimmed-pair2.fastq.gz\n",
      "Approx 90% complete for germ-trimmed-pair1.fastq.gz\n",
      "Approx 85% complete for germ-trimmed-pair2.fastq.gz\n",
      "Approx 95% complete for germ-trimmed-pair1.fastq.gz\n",
      "Approx 90% complete for germ-trimmed-pair2.fastq.gz\n",
      "Approx 95% complete for germ-trimmed-pair2.fastq.gz\n",
      "[WARNING]\u001b[1;31m Indexing parameters (-k, -w or -H) overridden by parameters used in the prebuilt index.\u001b[0m\n",
      "[M::main::7.540*1.00] loaded/built the index for 195 target sequence(s)\n",
      "[M::mm_mapopt_update::7.540*1.00] mid_occ = 1000\n",
      "[M::mm_idx_stat] kmer size: 15; skip: 10; is_hpc: 0; #seq: 195\n",
      "[M::mm_idx_stat::8.550*1.00] distinct minimizers: 100167746 (38.80% are singletons); average occurrences: 5.519; average spacing: 5.607\n",
      "[M::worker_pipeline::39.957*4.89] mapped 1999988 sequences\n",
      "[M::main] Version: 2.17-r941\n",
      "[M::main] CMD: minimap2 -x sr -t 8 -K 5G -R @RG\\tID:Germ\\tSM:Germ -a /home/jovyan/ProcessSequence.jl/input/reference/GCA_000001405.15_GRCh38_no_alt_analysis_set.fna.gz.mmi /home/jovyan/ProcessSequence.jl/output/process_germ_dna_test_high_quality/trim_sequence/germ-trimmed-pair1.fastq.gz /home/jovyan/ProcessSequence.jl/output/process_germ_dna_test_high_quality/trim_sequence/germ-trimmed-pair2.fastq.gz\n",
      "[M::main] Real time: 40.870 sec; CPU: 196.305 sec; Peak RSS: 8.487 GB\n",
      "[bam_sort_core] merging from 0 files and 8 in-memory blocks...\n",
      "[bam_sort_core] merging from 0 files and 8 in-memory blocks...\n",
      "READ 2001099 WRITTEN 2001099 \n",
      "EXCLUDED 5526 EXAMINED 1995573\n",
      "PAIRED 1991950 SINGLE 3623\n",
      "DULPICATE PAIR 24296 DUPLICATE SINGLE 531\n",
      "DUPLICATE TOTAL 24827\n",
      "00:00:00\tSnpEff version SnpEff 5.0c (build 2020-11-25 14:23), by Pablo Cingolani\n",
      "00:00:00\tCommand: 'ann'\n",
      "00:00:00\tReading configuration file 'snpEff.config'. Genome: 'GRCh38.99'\n",
      "00:00:00\tReading config file: /home/jovyan/ProcessSequence.jl/notebook/snpEff.config\n",
      "00:00:00\tReading config file: /opt/snpeff/snpEff/snpEff.config\n",
      "00:00:00\tdone\n",
      "00:00:00\tReading database for genome version 'GRCh38.99' from file '/opt/snpeff/snpEff/./data/GRCh38.99/snpEffectPredictor.bin' (this might take a while)\n",
      "00:00:00\tDatabase not installed\n",
      "\tAttempting to download and install database 'GRCh38.99'\n",
      "00:00:00\tReading configuration file 'snpEff.config'. Genome: 'GRCh38.99'\n",
      "00:00:00\tReading config file: /home/jovyan/ProcessSequence.jl/notebook/snpEff.config\n",
      "00:00:00\tReading config file: /opt/snpeff/snpEff/snpEff.config\n",
      "00:00:01\tdone\n",
      "00:00:01\tDownloading database for 'GRCh38.99'\n",
      "00:00:01\tConnecting to https://snpeff.blob.core.windows.net/databases/v5_0/snpEff_v5_0_GRCh38.99.zip\n",
      "00:00:02\tLocal file name: '/tmp/snpEff_v5_0_GRCh38.99.zip'\n",
      ".............................................................................................................................................................................................................................................................................................................................................................................................................................................................................................................................................................................................\n",
      "00:07:53\tDonwload finished. Total 610699657 bytes.\n",
      "00:07:53\tExtracting file 'data/GRCh38.99/pwms.bin'\n",
      "java.lang.RuntimeException: java.io.FileNotFoundException: /opt/snpeff/snpEff/./data/GRCh38.99/pwms.bin (Permission denied)\n",
      "\tat org.snpeff.util.Download.unzip(Download.java:296)\n",
      "\tat org.snpeff.snpEffect.commandLine.SnpEffCmdDownload.downloadAndInstall(SnpEffCmdDownload.java:33)\n",
      "\tat org.snpeff.snpEffect.commandLine.SnpEffCmdDownload.runDownloadGenome(SnpEffCmdDownload.java:86)\n",
      "\tat org.snpeff.snpEffect.commandLine.SnpEffCmdDownload.run(SnpEffCmdDownload.java:72)\n",
      "\tat org.snpeff.SnpEff.run(SnpEff.java:1233)\n",
      "\tat org.snpeff.SnpEff.loadDb(SnpEff.java:520)\n",
      "\tat org.snpeff.snpEffect.commandLine.SnpEffCmdEff.run(SnpEffCmdEff.java:939)\n",
      "\tat org.snpeff.snpEffect.commandLine.SnpEffCmdEff.run(SnpEffCmdEff.java:922)\n",
      "\tat org.snpeff.SnpEff.run(SnpEff.java:1194)\n",
      "\tat org.snpeff.SnpEff.main(SnpEff.java:167)\n",
      "Caused by: java.io.FileNotFoundException: /opt/snpeff/snpEff/./data/GRCh38.99/pwms.bin (Permission denied)\n",
      "\tat java.base/java.io.FileOutputStream.open0(Native Method)\n",
      "\tat java.base/java.io.FileOutputStream.open(FileOutputStream.java:298)\n",
      "\tat java.base/java.io.FileOutputStream.<init>(FileOutputStream.java:237)\n",
      "\tat java.base/java.io.FileOutputStream.<init>(FileOutputStream.java:126)\n",
      "\tat org.snpeff.util.Download.unzip(Download.java:270)\n",
      "\t... 9 more\n",
      "java.lang.RuntimeException: Genome download failed!\n",
      "\tat org.snpeff.SnpEff.loadDb(SnpEff.java:521)\n",
      "\tat org.snpeff.snpEffect.commandLine.SnpEffCmdEff.run(SnpEffCmdEff.java:939)\n",
      "\tat org.snpeff.snpEffect.commandLine.SnpEffCmdEff.run(SnpEffCmdEff.java:922)\n",
      "\tat org.snpeff.SnpEff.run(SnpEff.java:1194)\n",
      "\tat org.snpeff.SnpEff.main(SnpEff.java:167)\n",
      "00:07:53\tDone.\n"
     ]
    },
    {
     "ename": "LoadError",
     "evalue": "failed process: Process(`java -Xmx40g -jar /opt/snpeff/snpEff/snpEff.jar GRCh38.99 -noLog -verbose -csvStats /home/jovyan/ProcessSequence.jl/output/process_germ_dna_test_high_quality/find_variant/snpeff/stats.csv -htmlStats /home/jovyan/ProcessSequence.jl/output/process_germ_dna_test_high_quality/find_variant/snpeff/stats.html /home/jovyan/ProcessSequence.jl/output/process_germ_dna_test_high_quality/find_variant/concat.vcf.gz`, ProcessExited(255)) [255]\n",
     "output_type": "error",
     "traceback": [
      "failed process: Process(`java -Xmx40g -jar /opt/snpeff/snpEff/snpEff.jar GRCh38.99 -noLog -verbose -csvStats /home/jovyan/ProcessSequence.jl/output/process_germ_dna_test_high_quality/find_variant/snpeff/stats.csv -htmlStats /home/jovyan/ProcessSequence.jl/output/process_germ_dna_test_high_quality/find_variant/snpeff/stats.html /home/jovyan/ProcessSequence.jl/output/process_germ_dna_test_high_quality/find_variant/concat.vcf.gz`, ProcessExited(255)) [255]\n",
      "",
      "Stacktrace:",
      " [1] pipeline_error(::Base.ProcessChain) at ./process.jl:538",
      " [2] run(::Base.CmdRedirect; wait::Bool) at ./process.jl:440",
      " [3] run at ./process.jl:438 [inlined]",
      " [4] print_and_run_cmd at /home/jovyan/ProcessSequence.jl/src/print_and_run_cmd.jl:5 [inlined]",
      " [5] find_variant(::String, ::Nothing, ::Bool, ::String, ::String, ::String, ::String, ::Int64, ::Int64, ::String) at /home/jovyan/ProcessSequence.jl/src/find_variant.jl:146",
      " [6] process_germ_dna(::String, ::String, ::Bool, ::String, ::String, ::String, ::String, ::Int64, ::Int64, ::Int64, ::String) at /home/jovyan/ProcessSequence.jl/src/process_germ_dna.jl:121",
      " [7] top-level scope at In[15]:5",
      " [8] include_string(::Function, ::Module, ::String, ::String) at ./loading.jl:1091"
     ]
    }
   ],
   "source": [
    "if all((\n",
    "    in(key, keys(project_json)) for key in (\"germ_dna.1.fastq.gz\", \"germ_dna.2.fastq.gz\")\n",
    "))\n",
    "\n",
    "    ProcessSequence.process_germ_dna(\n",
    "        joinpath(project_dir, project_json[\"germ_dna.1.fastq.gz\"]),\n",
    "        joinpath(project_dir, project_json[\"germ_dna.2.fastq.gz\"]),\n",
    "        project_json[\"dna_is_targeted\"],\n",
    "        joinpath(output_dir, string(\"process_germ_dna_\", sample_name)),\n",
    "        process_dna_arguments...,\n",
    "    )\n",
    "\n",
    "end"
   ]
  },
  {
   "cell_type": "code",
   "execution_count": 10,
   "metadata": {},
   "outputs": [],
   "source": [
    "if all((\n",
    "    in(key, keys(project_json))\n",
    "    for\n",
    "    key in (\n",
    "        \"germ_dna.1.fastq.gz\",\n",
    "        \"germ_dna.2.fastq.gz\",\n",
    "        \"soma_dna.1.fastq.gz\",\n",
    "        \"soma_dna.2.fastq.gz\",\n",
    "    )\n",
    "))\n",
    "\n",
    "    ProcessSequence.process_soma_dna(\n",
    "        joinpath(project_dir, project_json[\"germ_dna.1.fastq.gz\"]),\n",
    "        joinpath(project_dir, project_json[\"germ_dna.2.fastq.gz\"]),\n",
    "        joinpath(project_dir, project_json[\"soma_dna.1.fastq.gz\"]),\n",
    "        joinpath(project_dir, project_json[\"soma_dna.2.fastq.gz\"]),\n",
    "        project_json[\"dna_is_targeted\"],\n",
    "        joinpath(output_dir, \"process_soma_dna\"),\n",
    "        process_dna_arguments...,\n",
    "    )\n",
    "\n",
    "end"
   ]
  },
  {
   "cell_type": "code",
   "execution_count": null,
   "metadata": {},
   "outputs": [],
   "source": [
    "if all((\n",
    "    in(key, keys(project_json)) for key in (\"soma_rna.1.fastq.gz\", \"soma_rna.2.fastq.gz\")\n",
    "))\n",
    "\n",
    "    ProcessSequence.process_soma_rna(\n",
    "        joinpath(project_dir, project_json[\"soma_rna.1.fastq.gz\"]),\n",
    "        joinpath(project_dir, project_json[\"soma_rna.2.fastq.gz\"]),\n",
    "        joinpath(output_dir, \"process_soma_rna\"),\n",
    "        joinpath(reference_dir, \"Homo_sapiens.GRCh38.cdna.all.fa.gz\"),\n",
    "        project_json[\"n_job\"],\n",
    "    )\n",
    "\n",
    "end"
   ]
  }
 ],
 "metadata": {
  "@webio": {
   "lastCommId": null,
   "lastKernelId": null
  },
  "kernelspec": {
   "display_name": "Julia 1.5.2",
   "language": "julia",
   "name": "julia-1.5"
  },
  "language_info": {
   "file_extension": ".jl",
   "mimetype": "application/julia",
   "name": "julia",
   "version": "1.5.2"
  }
 },
 "nbformat": 4,
 "nbformat_minor": 4
}
