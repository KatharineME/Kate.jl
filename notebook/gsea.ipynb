{
 "cells": [
  {
   "cell_type": "code",
   "execution_count": 1,
   "metadata": {},
   "outputs": [],
   "source": [
    "using Kraft"
   ]
  },
  {
   "cell_type": "code",
   "execution_count": 6,
   "metadata": {},
   "outputs": [
    {
     "data": {
      "text/plain": [
       "57954-element Array{String,1}:\n",
       " \"MIR628\"    \n",
       " \"RNU6-871P\" \n",
       " \"MIR626\"    \n",
       " \"AC012314.7\"\n",
       " \"GHRLOS\"    \n",
       " \"RNU6-35P\"  \n",
       " \"MIR5694\"   \n",
       " \"RNU6-1157P\"\n",
       " \"MIR6861\"   \n",
       " \"RNU4-85P\"  \n",
       " \"MIR6759\"   \n",
       " \"MIR4491\"   \n",
       " \"RNU6-1162P\"\n",
       " ⋮           \n",
       " \"KP420441.2\"\n",
       " \"KP420444.3\"\n",
       " \"KP420444.4\"\n",
       " \"KP420441.4\"\n",
       " \"KP420446.2\"\n",
       " \"KP420441.1\"\n",
       " \"KP420441.3\"\n",
       " \"KP420441.5\"\n",
       " \"KP420440.2\"\n",
       " \"KP420440.6\"\n",
       " \"KP420440.5\"\n",
       " \"KP420446.1\""
      ]
     },
     "execution_count": 6,
     "metadata": {},
     "output_type": "execute_result"
    }
   ],
   "source": [
    "const genes = readlines(\"genes.txt\")[2:end]"
   ]
  },
  {
   "cell_type": "code",
   "execution_count": 7,
   "metadata": {},
   "outputs": [
    {
     "data": {
      "text/plain": [
       "57954-element Array{Float64,1}:\n",
       " -1.6610633803066728  \n",
       " -0.43427268725351487 \n",
       " -1.697224153098317   \n",
       "  0.27595154725043425 \n",
       "  0.6798705485633811  \n",
       " -0.10714257795298632 \n",
       "  0.43923621999294993 \n",
       " -0.8331617755656727  \n",
       "  0.29129483058285094 \n",
       " -0.6601562037419093  \n",
       " -1.017304049698906   \n",
       " -0.5621341355201802  \n",
       "  0.1359004562645535  \n",
       "  ⋮                   \n",
       " -0.5383722282258364  \n",
       " -0.2513251576795653  \n",
       "  0.29307064770061864 \n",
       "  0.4497331206916099  \n",
       "  0.2255347722776323  \n",
       "  1.7281259845573822  \n",
       "  0.5365021241476434  \n",
       "  0.8230589592403088  \n",
       " -0.059905454502658224\n",
       " -1.2159211873773141  \n",
       "  0.010560470896957228\n",
       "  0.7048072634968119  "
      ]
     },
     "execution_count": 7,
     "metadata": {},
     "output_type": "execute_result"
    }
   ],
   "source": [
    "# const gene_values = fill(\n",
    "#     1 / length(genes),\n",
    "#     length(genes),\n",
    "# )\n",
    "const gene_values = randn(length(genes))"
   ]
  },
  {
   "cell_type": "code",
   "execution_count": 8,
   "metadata": {},
   "outputs": [],
   "source": [
    "using DataFrames"
   ]
  },
  {
   "cell_type": "code",
   "execution_count": 9,
   "metadata": {},
   "outputs": [
    {
     "data": {
      "text/html": [
       "<table class=\"data-frame\"><thead><tr><th></th><th>Gene</th><th>Sample 1</th><th>Sample 2</th></tr><tr><th></th><th>String</th><th>Float64</th><th>Float64</th></tr></thead><tbody><p>57,954 rows × 3 columns</p><tr><th>1</th><td>MIR628</td><td>-1.66106</td><td>-16.6106</td></tr><tr><th>2</th><td>RNU6-871P</td><td>-0.434273</td><td>-4.34273</td></tr><tr><th>3</th><td>MIR626</td><td>-1.69722</td><td>-16.9722</td></tr><tr><th>4</th><td>AC012314.7</td><td>0.275952</td><td>2.75952</td></tr><tr><th>5</th><td>GHRLOS</td><td>0.679871</td><td>6.79871</td></tr><tr><th>6</th><td>RNU6-35P</td><td>-0.107143</td><td>-1.07143</td></tr><tr><th>7</th><td>MIR5694</td><td>0.439236</td><td>4.39236</td></tr><tr><th>8</th><td>RNU6-1157P</td><td>-0.833162</td><td>-8.33162</td></tr><tr><th>9</th><td>MIR6861</td><td>0.291295</td><td>2.91295</td></tr><tr><th>10</th><td>RNU4-85P</td><td>-0.660156</td><td>-6.60156</td></tr><tr><th>11</th><td>MIR6759</td><td>-1.0173</td><td>-10.173</td></tr><tr><th>12</th><td>MIR4491</td><td>-0.562134</td><td>-5.62134</td></tr><tr><th>13</th><td>RNU6-1162P</td><td>0.1359</td><td>1.359</td></tr><tr><th>14</th><td>RNU1-63P</td><td>-0.900544</td><td>-9.00544</td></tr><tr><th>15</th><td>hsa-mir-3158-1</td><td>1.69072</td><td>16.9072</td></tr><tr><th>16</th><td>RNU6-528P</td><td>0.178305</td><td>1.78305</td></tr><tr><th>17</th><td>Y_RNA</td><td>-0.325252</td><td>-3.25252</td></tr><tr><th>18</th><td>RN7SKP189</td><td>0.427599</td><td>4.27599</td></tr><tr><th>19</th><td>Metazoa_SRP</td><td>-0.0913416</td><td>-0.913416</td></tr><tr><th>20</th><td>SNORD115-18</td><td>0.257885</td><td>2.57885</td></tr><tr><th>21</th><td>SNORA24</td><td>0.110052</td><td>1.10052</td></tr><tr><th>22</th><td>RNA5SP198</td><td>-1.42341</td><td>-14.2341</td></tr><tr><th>23</th><td>RNU7-153P</td><td>-0.834568</td><td>-8.34568</td></tr><tr><th>24</th><td>RNA5SP486</td><td>2.31131</td><td>23.1131</td></tr><tr><th>25</th><td>RN7SKP47</td><td>0.588296</td><td>5.88296</td></tr><tr><th>26</th><td>RN7SL153P</td><td>-0.354404</td><td>-3.54404</td></tr><tr><th>27</th><td>RNU6-123P</td><td>-1.36873</td><td>-13.6873</td></tr><tr><th>28</th><td>SNORA3B</td><td>-0.516739</td><td>-5.16739</td></tr><tr><th>29</th><td>U6</td><td>0.408314</td><td>4.08314</td></tr><tr><th>30</th><td>RNU6-160P</td><td>2.11251</td><td>21.1251</td></tr><tr><th>&vellip;</th><td>&vellip;</td><td>&vellip;</td><td>&vellip;</td></tr></tbody></table>"
      ],
      "text/latex": [
       "\\begin{tabular}{r|ccc}\n",
       "\t& Gene & Sample 1 & Sample 2\\\\\n",
       "\t\\hline\n",
       "\t& String & Float64 & Float64\\\\\n",
       "\t\\hline\n",
       "\t1 & MIR628 & -1.66106 & -16.6106 \\\\\n",
       "\t2 & RNU6-871P & -0.434273 & -4.34273 \\\\\n",
       "\t3 & MIR626 & -1.69722 & -16.9722 \\\\\n",
       "\t4 & AC012314.7 & 0.275952 & 2.75952 \\\\\n",
       "\t5 & GHRLOS & 0.679871 & 6.79871 \\\\\n",
       "\t6 & RNU6-35P & -0.107143 & -1.07143 \\\\\n",
       "\t7 & MIR5694 & 0.439236 & 4.39236 \\\\\n",
       "\t8 & RNU6-1157P & -0.833162 & -8.33162 \\\\\n",
       "\t9 & MIR6861 & 0.291295 & 2.91295 \\\\\n",
       "\t10 & RNU4-85P & -0.660156 & -6.60156 \\\\\n",
       "\t11 & MIR6759 & -1.0173 & -10.173 \\\\\n",
       "\t12 & MIR4491 & -0.562134 & -5.62134 \\\\\n",
       "\t13 & RNU6-1162P & 0.1359 & 1.359 \\\\\n",
       "\t14 & RNU1-63P & -0.900544 & -9.00544 \\\\\n",
       "\t15 & hsa-mir-3158-1 & 1.69072 & 16.9072 \\\\\n",
       "\t16 & RNU6-528P & 0.178305 & 1.78305 \\\\\n",
       "\t17 & Y\\_RNA & -0.325252 & -3.25252 \\\\\n",
       "\t18 & RN7SKP189 & 0.427599 & 4.27599 \\\\\n",
       "\t19 & Metazoa\\_SRP & -0.0913416 & -0.913416 \\\\\n",
       "\t20 & SNORD115-18 & 0.257885 & 2.57885 \\\\\n",
       "\t21 & SNORA24 & 0.110052 & 1.10052 \\\\\n",
       "\t22 & RNA5SP198 & -1.42341 & -14.2341 \\\\\n",
       "\t23 & RNU7-153P & -0.834568 & -8.34568 \\\\\n",
       "\t24 & RNA5SP486 & 2.31131 & 23.1131 \\\\\n",
       "\t25 & RN7SKP47 & 0.588296 & 5.88296 \\\\\n",
       "\t26 & RN7SL153P & -0.354404 & -3.54404 \\\\\n",
       "\t27 & RNU6-123P & -1.36873 & -13.6873 \\\\\n",
       "\t28 & SNORA3B & -0.516739 & -5.16739 \\\\\n",
       "\t29 & U6 & 0.408314 & 4.08314 \\\\\n",
       "\t30 & RNU6-160P & 2.11251 & 21.1251 \\\\\n",
       "\t$\\dots$ & $\\dots$ & $\\dots$ & $\\dots$ \\\\\n",
       "\\end{tabular}\n"
      ],
      "text/plain": [
       "57954×3 DataFrame\n",
       "│ Row   │ Gene       │ Sample 1   │ Sample 2  │\n",
       "│       │ \u001b[90mString\u001b[39m     │ \u001b[90mFloat64\u001b[39m    │ \u001b[90mFloat64\u001b[39m   │\n",
       "├───────┼────────────┼────────────┼───────────┤\n",
       "│ 1     │ MIR628     │ -1.66106   │ -16.6106  │\n",
       "│ 2     │ RNU6-871P  │ -0.434273  │ -4.34273  │\n",
       "│ 3     │ MIR626     │ -1.69722   │ -16.9722  │\n",
       "│ 4     │ AC012314.7 │ 0.275952   │ 2.75952   │\n",
       "│ 5     │ GHRLOS     │ 0.679871   │ 6.79871   │\n",
       "│ 6     │ RNU6-35P   │ -0.107143  │ -1.07143  │\n",
       "│ 7     │ MIR5694    │ 0.439236   │ 4.39236   │\n",
       "│ 8     │ RNU6-1157P │ -0.833162  │ -8.33162  │\n",
       "│ 9     │ MIR6861    │ 0.291295   │ 2.91295   │\n",
       "│ 10    │ RNU4-85P   │ -0.660156  │ -6.60156  │\n",
       "⋮\n",
       "│ 57944 │ KP420444.3 │ -0.251325  │ -2.51325  │\n",
       "│ 57945 │ KP420444.4 │ 0.293071   │ 2.93071   │\n",
       "│ 57946 │ KP420441.4 │ 0.449733   │ 4.49733   │\n",
       "│ 57947 │ KP420446.2 │ 0.225535   │ 2.25535   │\n",
       "│ 57948 │ KP420441.1 │ 1.72813    │ 17.2813   │\n",
       "│ 57949 │ KP420441.3 │ 0.536502   │ 5.36502   │\n",
       "│ 57950 │ KP420441.5 │ 0.823059   │ 8.23059   │\n",
       "│ 57951 │ KP420440.2 │ -0.0599055 │ -0.599055 │\n",
       "│ 57952 │ KP420440.6 │ -1.21592   │ -12.1592  │\n",
       "│ 57953 │ KP420440.5 │ 0.0105605  │ 0.105605  │\n",
       "│ 57954 │ KP420446.1 │ 0.704807   │ 7.04807   │"
      ]
     },
     "execution_count": 9,
     "metadata": {},
     "output_type": "execute_result"
    }
   ],
   "source": [
    "const gene_x_sample = DataFrame(\n",
    "    Symbol(\"Gene\") => genes,\n",
    "    Symbol(\"Sample 1\") => gene_values,\n",
    "    Symbol(\"Sample 2\") => gene_values * 10,\n",
    ")"
   ]
  },
  {
   "cell_type": "code",
   "execution_count": 18,
   "metadata": {},
   "outputs": [
    {
     "ename": "ArgumentError",
     "evalue": "ArgumentError: Package StatsBase not found in current path:\n- Run `import Pkg; Pkg.add(\"StatsBase\")` to install the StatsBase package.\n",
     "output_type": "error",
     "traceback": [
      "ArgumentError: Package StatsBase not found in current path:\n- Run `import Pkg; Pkg.add(\"StatsBase\")` to install the StatsBase package.\n",
      "",
      "Stacktrace:",
      " [1] require(::Module, ::Symbol) at ./loading.jl:823",
      " [2] top-level scope at In[18]:1"
     ]
    }
   ],
   "source": [
    "using StatsBase"
   ]
  },
  {
   "cell_type": "code",
   "execution_count": 17,
   "metadata": {},
   "outputs": [
    {
     "ename": "UndefVarError",
     "evalue": "UndefVarError: sample not defined",
     "output_type": "error",
     "traceback": [
      "UndefVarError: sample not defined",
      "",
      "Stacktrace:",
      " [1] top-level scope at In[17]:1"
     ]
    }
   ],
   "source": [
    "const random_gene_set_genes = sample(\n",
    "    genes,\n",
    "    100,\n",
    "    replace = false,\n",
    ")"
   ]
  },
  {
   "cell_type": "code",
   "execution_count": 14,
   "metadata": {},
   "outputs": [
    {
     "data": {
      "text/plain": [
       "Dict{String,Array{String,1}} with 50 entries:\n",
       "  \"HALLMARK_REACTIVE_OXIGE… => [\"GSR\", \"PRDX2\", \"TXNRD1\", \"SOD1\", \"GCLC\", \"CAT\"…\n",
       "  \"HALLMARK_ANGIOGENESIS\"   => [\"VCAN\", \"POSTN\", \"FSTL1\", \"LRPAP1\", \"STC1\", \"LP…\n",
       "  \"HALLMARK_MYOGENESIS\"     => [\"ACTA1\", \"TNNI2\", \"MYL1\", \"TNNC1\", \"TNNC2\", \"MY…\n",
       "  \"HALLMARK_PEROXISOME\"     => [\"ABCD3\", \"ACOT8\", \"ACOX1\", \"ACSL1\", \"ECH1\", \"EC…\n",
       "  \"HALLMARK_UV_RESPONSE_DN\" => [\"TJP1\", \"NFIB\", \"TGFBR3\", \"TFPI\", \"MMP16\", \"ABC…\n",
       "  \"HALLMARK_NOTCH_SIGNALIN… => [\"JAG1\", \"NOTCH3\", \"NOTCH2\", \"APH1A\", \"HES1\", \"C…\n",
       "  \"HALLMARK_ANDROGEN_RESPO… => [\"KLK3\", \"KLK2\", \"ACSL3\", \"PIAS1\", \"CAMKK2\", \"NK…\n",
       "  \"HALLMARK_ALLOGRAFT_REJE… => [\"PTPRC\", \"IL12B\", \"TGFB1\", \"IL12A\", \"CD3E\", \"CD…\n",
       "  \"HALLMARK_ESTROGEN_RESPO… => [\"TFF1\", \"SLC9A3R1\", \"TPD52L1\", \"PRSS23\", \"CA12\"…\n",
       "  \"HALLMARK_G2M_CHECKPOINT\" => [\"AURKA\", \"CCNA2\", \"TOP2A\", \"CCNB2\", \"CENPA\", \"B…\n",
       "  \"HALLMARK_MYC_TARGETS_V2\" => [\"SLC19A1\", \"MRTO4\", \"TMEM97\", \"RRP9\", \"PES1\", \"…\n",
       "  \"HALLMARK_APOPTOSIS\"      => [\"CASP3\", \"CASP9\", \"DFFA\", \"CASP7\", \"CFLAR\", \"BI…\n",
       "  \"HALLMARK_P53_PATHWAY\"    => [\"CDKN1A\", \"BTG2\", \"MDM2\", \"CCNG1\", \"FAS\", \"TOB1…\n",
       "  \"HALLMARK_UNFOLDED_PROTE… => [\"ATF4\", \"HERPUD1\", \"PARN\", \"EXOSC4\", \"HSP90B1\",…\n",
       "  \"HALLMARK_ADIPOGENESIS\"   => [\"FABP4\", \"ADIPOQ\", \"PPARG\", \"LIPE\", \"DGAT1\", \"L…\n",
       "  \"HALLMARK_DNA_REPAIR\"     => [\"POLR2H\", \"POLR2A\", \"POLR2G\", \"POLR2E\", \"POLR2J…\n",
       "  \"HALLMARK_EPITHELIAL_MES… => [\"COL3A1\", \"COL5A2\", \"COL5A1\", \"FBN1\", \"COL1A1\",…\n",
       "  \"HALLMARK_OXIDATIVE_PHOS… => [\"NDUFS3\", \"UQCRB\", \"NDUFS2\", \"SDHA\", \"UQCRC1\", …\n",
       "  \"HALLMARK_HEME_METABOLIS… => [\"ALAS2\", \"PPOX\", \"FECH\", \"HMBS\", \"GYPB\", \"ALAD\"…\n",
       "  \"HALLMARK_MITOTIC_SPINDL… => [\"ARHGEF2\", \"CLASP1\", \"KIF11\", \"KIF23\", \"ALS2\", …\n",
       "  \"HALLMARK_FATTY_ACID_MET… => [\"ACAA1\", \"ACAA2\", \"ACADL\", \"ACADM\", \"ACOT8\", \"A…\n",
       "  \"HALLMARK_COMPLEMENT\"     => [\"C2\", \"C1S\", \"CFB\", \"C1R\", \"SERPINE1\", \"MMP14\",…\n",
       "  \"HALLMARK_APICAL_SURFACE\" => [\"B4GALT1\", \"RHCG\", \"MAL\", \"LYPD3\", \"PKHD1\", \"AT…\n",
       "  \"HALLMARK_ESTROGEN_RESPO… => [\"GREB1\", \"CA12\", \"SLC9A3R1\", \"MYB\", \"ANXA9\", \"I…\n",
       "  \"HALLMARK_INTERFERON_GAM… => [\"STAT1\", \"ISG15\", \"IFIT1\", \"MX1\", \"IFIT3\", \"IFI…\n",
       "  ⋮                         => ⋮"
      ]
     },
     "execution_count": 14,
     "metadata": {},
     "output_type": "execute_result"
    }
   ],
   "source": [
    "const gene_set_genes = Kraft.read_gmt([\n",
    "    \"h.all.v6.2.symbols.gmt\",\n",
    "])"
   ]
  },
  {
   "cell_type": "code",
   "execution_count": 15,
   "metadata": {},
   "outputs": [],
   "source": [
    "using BenchmarkTools"
   ]
  },
  {
   "cell_type": "markdown",
   "metadata": {},
   "source": [
    "## 1 sample * 1 gene set"
   ]
  },
  {
   "cell_type": "code",
   "execution_count": 16,
   "metadata": {},
   "outputs": [
    {
     "ename": "UndefVarError",
     "evalue": "UndefVarError: random_gene_set_genes not defined",
     "output_type": "error",
     "traceback": [
      "UndefVarError: random_gene_set_genes not defined",
      "",
      "Stacktrace:",
      " [1] top-level scope at In[16]:1"
     ]
    }
   ],
   "source": [
    "Kraft.compute_gene_set_enrichment(gene_values, genes, random_gene_set_genes)"
   ]
  },
  {
   "cell_type": "code",
   "execution_count": null,
   "metadata": {},
   "outputs": [],
   "source": [
    "@benchmark Kraft.compute_gene_set_enrichment(\n",
    "    gene_values,\n",
    "    genes,\n",
    "    random_gene_set_genes,\n",
    ")"
   ]
  },
  {
   "cell_type": "markdown",
   "metadata": {},
   "source": [
    "## 1 sample * 1< gene set"
   ]
  },
  {
   "cell_type": "code",
   "execution_count": null,
   "metadata": {},
   "outputs": [],
   "source": [
    "Kraft.compute_gene_set_enrichment(gene_values, genes, gene_set_genes)"
   ]
  },
  {
   "cell_type": "code",
   "execution_count": null,
   "metadata": {},
   "outputs": [],
   "source": [
    "benchmark_result = @benchmark Kraft.compute_gene_set_enrichment(\n",
    "    gene_values,\n",
    "    genes,\n",
    "    gene_set_genes,\n",
    ")\n",
    "\n",
    "ms_per_gene_set = round(\n",
    "    minimum(benchmark_result.times) / 1e6 / length(gene_set_genes),\n",
    "    sigdigits = 2,\n",
    ")\n",
    "\n",
    "println(\"$ms_per_gene_set ms / gene set\")\n",
    "\n",
    "benchmark_result"
   ]
  },
  {
   "cell_type": "markdown",
   "metadata": {},
   "source": [
    "## 1< sample * 1< gene set"
   ]
  },
  {
   "cell_type": "code",
   "execution_count": null,
   "metadata": {},
   "outputs": [],
   "source": [
    "gene_set_x_sample = Kraft.compute_gene_set_enrichment(gene_x_sample, gene_set_genes)"
   ]
  },
  {
   "cell_type": "code",
   "execution_count": null,
   "metadata": {},
   "outputs": [],
   "source": [
    "@benchmark gene_set_x_sample = Kraft.compute_gene_set_enrichment(\n",
    "    gene_x_sample,\n",
    "    gene_set_genes,\n",
    ")"
   ]
  },
  {
   "cell_type": "markdown",
   "metadata": {},
   "source": [
    "## GSEA"
   ]
  },
  {
   "cell_type": "code",
   "execution_count": null,
   "metadata": {},
   "outputs": [],
   "source": [
    "const gene_x_sample_tsv_file_path = \"/home/kwat/github/kraft/notebook/gene_x_sample.tsv\"\n",
    "\n",
    "const gmt_file_paths = [\n",
    "    \"/home/kwat/garden/data/gene_set/msigdb_v6.2/h.all.v6.2.symbols.gmt\",\n",
    "#     \"/home/kwat/garden/data/gene_set/msigdb_v6.2/c1.all.v6.2.symbols.gmt\",\n",
    "#     \"/home/kwat/garden/data/gene_set/msigdb_v6.2/c2.all.v6.2.symbols.gmt\",\n",
    "#     \"/home/kwat/garden/data/gene_set/msigdb_v6.2/c3.all.v6.2.symbols.gmt\",\n",
    "#     \"/home/kwat/garden/data/gene_set/msigdb_v6.2/c5.all.v6.2.symbols.gmt\",\n",
    "#     \"/home/kwat/garden/data/gene_set/msigdb_v6.2/c6.all.v6.2.symbols.gmt\",\n",
    "#     \"/home/kwat/garden/data/gene_set/msigdb_v6.2/c7.all.v6.2.symbols.gmt\",\n",
    "#     \"/home/kwat/garden/data/gene_set/hippo_pathway.gmt\",\n",
    "#     \"/home/kwat/garden/data/gene_set/stem_cell.gmt\",\n",
    "#     \"/home/kwat/garden/data/gene_set/yap_signature.gmt\",\n",
    "]\n",
    "\n",
    "const output_directory_path = \"/home/kwat/output\"\n",
    "\n",
    "gene_set_x_sample = gsea(\n",
    "    gene_x_sample_tsv_file_path,\n",
    "    gmt_file_paths,\n",
    "    output_directory_path,\n",
    ")"
   ]
  }
 ],
 "metadata": {
  "@webio": {
   "lastCommId": null,
   "lastKernelId": null
  },
  "kernelspec": {
   "display_name": "Julia 1.0.3",
   "language": "julia",
   "name": "julia-1.0"
  },
  "language_info": {
   "file_extension": ".jl",
   "mimetype": "application/julia",
   "name": "julia",
   "version": "1.0.3"
  }
 },
 "nbformat": 4,
 "nbformat_minor": 4
}
