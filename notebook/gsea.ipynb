{
 "cells": [
  {
   "cell_type": "code",
   "execution_count": 1,
   "metadata": {
    "scrolled": false
   },
   "outputs": [
    {
     "name": "stderr",
     "output_type": "stream",
     "text": [
      "┌ Info: Recompiling stale cache file /Users/kwatme/.julia/compiled/v1.0/Kraft/F4FiQ.ji for Kraft [5c7faf16-a6b3-11e9-0c80-d5a0766e5f8b]\n",
      "└ @ Base loading.jl:1190\n",
      "WARNING: Method definition print_and_run_cmd(Base.AbstractCmd) in module Kraft at /Users/kwatme/github/Kraft.jl/src/print_and_run_cmd.jl:3 overwritten at /Users/kwatme/github/Kraft.jl/src/print_and_run_cmd.jl:3.\n",
      "┌ Warning: Package Kraft does not have Distributed in its dependencies:\n",
      "│ - If you have Kraft checked out for development and have\n",
      "│   added Distributed as a dependency but haven't updated your primary\n",
      "│   environment's manifest file, try `Pkg.resolve()`.\n",
      "│ - Otherwise you may need to report an issue with Kraft\n",
      "└ Loading Distributed into Kraft from project dependency, future warnings for Kraft are suppressed.\n",
      "WARNING: Method definition print_and_run_cmd(Base.AbstractCmd) in module Kraft at /Users/kwatme/github/Kraft.jl/src/print_and_run_cmd.jl:3 overwritten at /Users/kwatme/github/Kraft.jl/src/print_and_run_cmd.jl:3.\n",
      "WARNING: Method definition print_and_run_cmd(Base.AbstractCmd) in module Kraft at /Users/kwatme/github/Kraft.jl/src/print_and_run_cmd.jl:3 overwritten at /Users/kwatme/github/Kraft.jl/src/print_and_run_cmd.jl:3.\n",
      "WARNING: Method definition make_ins(Array{String, 1}, Array{String, 1}) in module Kraft at /Users/kwatme/github/Kraft.jl/src/make_ins.jl:12 overwritten at /Users/kwatme/github/Kraft.jl/src/make_ins.jl:12.\n",
      "WARNING: Method definition make_ins(Base.Dict{String, Int64}, Array{String, 1}) in module Kraft at /Users/kwatme/github/Kraft.jl/src/make_ins.jl:57 overwritten at /Users/kwatme/github/Kraft.jl/src/make_ins.jl:57.\n",
      "WARNING: Method definition sum_values(Array{Int64, 1}) in module Kraft at /Users/kwatme/github/Kraft.jl/src/sum_values.jl:6 overwritten at /Users/kwatme/github/Kraft.jl/src/sum_values.jl:6.\n",
      "WARNING: Method definition sum_values(Array{Float64, 1}, Array{Int64, 1}) in module Kraft at /Users/kwatme/github/Kraft.jl/src/sum_values.jl:30 overwritten at /Users/kwatme/github/Kraft.jl/src/sum_values.jl:30.\n",
      "WARNING: Method definition compute_gene_set_enrichment(Array{Float64, 1}, AbstractArray{String, 1}, Array{String, 1}) in module Kraft at /Users/kwatme/github/Kraft.jl/src/compute_gene_set_enrichment.jl:32 overwritten at /Users/kwatme/github/Kraft.jl/src/compute_gene_set_enrichment.jl:32.\n",
      "WARNING: Method definition #compute_gene_set_enrichment(Any, typeof(Kraft.compute_gene_set_enrichment), Array{Float64, 1}, AbstractArray{String, 1}, Array{String, 1}) in module Kraft overwritten.\n",
      "WARNING: Method definition compute_gene_set_enrichment(Array{Float64, 1}, AbstractArray{String, 1}, Base.Dict{String, Array{String, 1}}) in module Kraft at /Users/kwatme/github/Kraft.jl/src/compute_gene_set_enrichment.jl:149 overwritten at /Users/kwatme/github/Kraft.jl/src/compute_gene_set_enrichment.jl:149.\n",
      "WARNING: Method definition #compute_gene_set_enrichment(Any, typeof(Kraft.compute_gene_set_enrichment), Array{Float64, 1}, AbstractArray{String, 1}, Base.Dict{String, Array{String, 1}}) in module Kraft overwritten.\n",
      "WARNING: Method definition compute_gene_set_enrichment(DataFrames.DataFrame, Base.Dict{String, Array{String, 1}}, String) in module Kraft at /Users/kwatme/github/Kraft.jl/src/compute_gene_set_enrichment.jl:223 overwritten at /Users/kwatme/github/Kraft.jl/src/compute_gene_set_enrichment.jl:223.\n",
      "WARNING: Method definition make_ins(Array{String, 1}, Array{String, 1}) in module Kraft at /Users/kwatme/github/Kraft.jl/src/make_ins.jl:12 overwritten at /Users/kwatme/github/Kraft.jl/src/make_ins.jl:12.\n",
      "WARNING: Method definition make_ins(Base.Dict{String, Int64}, Array{String, 1}) in module Kraft at /Users/kwatme/github/Kraft.jl/src/make_ins.jl:57 overwritten at /Users/kwatme/github/Kraft.jl/src/make_ins.jl:57.\n",
      "WARNING: Method definition print_and_run_cmd(Base.AbstractCmd) in module Kraft at /Users/kwatme/github/Kraft.jl/src/print_and_run_cmd.jl:3 overwritten at /Users/kwatme/github/Kraft.jl/src/print_and_run_cmd.jl:3.\n",
      "WARNING: Method definition print_and_run_cmd(Base.AbstractCmd) in module Kraft at /Users/kwatme/github/Kraft.jl/src/print_and_run_cmd.jl:3 overwritten at /Users/kwatme/github/Kraft.jl/src/print_and_run_cmd.jl:3.\n",
      "WARNING: Method definition print_and_run_cmd(Base.AbstractCmd) in module Kraft at /Users/kwatme/github/Kraft.jl/src/print_and_run_cmd.jl:3 overwritten at /Users/kwatme/github/Kraft.jl/src/print_and_run_cmd.jl:3.\n",
      "WARNING: Method definition print_and_run_cmd(Base.AbstractCmd) in module Kraft at /Users/kwatme/github/Kraft.jl/src/print_and_run_cmd.jl:3 overwritten at /Users/kwatme/github/Kraft.jl/src/print_and_run_cmd.jl:3.\n",
      "WARNING: Method definition check_sequence(Tuple{Vararg{String, N} where N}, String, Int64) in module Kraft at /Users/kwatme/github/Kraft.jl/src/check_sequence.jl:12 overwritten at /Users/kwatme/github/Kraft.jl/src/check_sequence.jl:12.\n",
      "WARNING: Method definition print_and_run_cmd(Base.AbstractCmd) in module Kraft at /Users/kwatme/github/Kraft.jl/src/print_and_run_cmd.jl:3 overwritten at /Users/kwatme/github/Kraft.jl/src/print_and_run_cmd.jl:3.\n",
      "WARNING: Method definition align_sequence(String, String, String, String, String, Int64, Int64) in module Kraft at /Users/kwatme/github/Kraft.jl/src/align_sequence.jl:16 overwritten at /Users/kwatme/github/Kraft.jl/src/align_sequence.jl:16.\n",
      "WARNING: Method definition print_and_run_cmd(Base.AbstractCmd) in module Kraft at /Users/kwatme/github/Kraft.jl/src/print_and_run_cmd.jl:3 overwritten at /Users/kwatme/github/Kraft.jl/src/print_and_run_cmd.jl:3.\n",
      "WARNING: Method definition find_variant(Union{Nothing, String}, Union{Nothing, String}, Bool, String, String, String, String, Int64, Int64) in module Kraft at /Users/kwatme/github/Kraft.jl/src/find_variant.jl:24 overwritten at /Users/kwatme/github/Kraft.jl/src/find_variant.jl:24.\n",
      "WARNING: Method definition print_and_run_cmd(Base.AbstractCmd) in module Kraft at /Users/kwatme/github/Kraft.jl/src/print_and_run_cmd.jl:3 overwritten at /Users/kwatme/github/Kraft.jl/src/print_and_run_cmd.jl:3.\n",
      "WARNING: Method definition print_and_run_cmd(Base.AbstractCmd) in module Kraft at /Users/kwatme/github/Kraft.jl/src/print_and_run_cmd.jl:3 overwritten at /Users/kwatme/github/Kraft.jl/src/print_and_run_cmd.jl:3.\n",
      "WARNING: Method definition trim_sequence(String, String, String, Int64) in module Kraft at /Users/kwatme/github/Kraft.jl/src/trim_sequence.jl:13 overwritten at /Users/kwatme/github/Kraft.jl/src/trim_sequence.jl:13.\n",
      "WARNING: Method definition print_and_run_cmd(Base.AbstractCmd) in module Kraft at /Users/kwatme/github/Kraft.jl/src/print_and_run_cmd.jl:3 overwritten at /Users/kwatme/github/Kraft.jl/src/print_and_run_cmd.jl:3.\n",
      "WARNING: Method definition check_sequence(Tuple{Vararg{String, N} where N}, String, Int64) in module Kraft at /Users/kwatme/github/Kraft.jl/src/check_sequence.jl:12 overwritten at /Users/kwatme/github/Kraft.jl/src/check_sequence.jl:12.\n",
      "WARNING: Method definition print_and_run_cmd(Base.AbstractCmd) in module Kraft at /Users/kwatme/github/Kraft.jl/src/print_and_run_cmd.jl:3 overwritten at /Users/kwatme/github/Kraft.jl/src/print_and_run_cmd.jl:3.\n",
      "WARNING: Method definition align_sequence(String, String, String, String, String, Int64, Int64) in module Kraft at /Users/kwatme/github/Kraft.jl/src/align_sequence.jl:16 overwritten at /Users/kwatme/github/Kraft.jl/src/align_sequence.jl:16.\n",
      "WARNING: Method definition print_and_run_cmd(Base.AbstractCmd) in module Kraft at /Users/kwatme/github/Kraft.jl/src/print_and_run_cmd.jl:3 overwritten at /Users/kwatme/github/Kraft.jl/src/print_and_run_cmd.jl:3.\n",
      "WARNING: Method definition find_variant(Union{Nothing, String}, Union{Nothing, String}, Bool, String, String, String, String, Int64, Int64) in module Kraft at /Users/kwatme/github/Kraft.jl/src/find_variant.jl:24 overwritten at /Users/kwatme/github/Kraft.jl/src/find_variant.jl:24.\n",
      "WARNING: Method definition print_and_run_cmd(Base.AbstractCmd) in module Kraft at /Users/kwatme/github/Kraft.jl/src/print_and_run_cmd.jl:3 overwritten at /Users/kwatme/github/Kraft.jl/src/print_and_run_cmd.jl:3.\n",
      "WARNING: Method definition trim_sequence(String, String, String, Int64) in module Kraft at /Users/kwatme/github/Kraft.jl/src/trim_sequence.jl:13 overwritten at /Users/kwatme/github/Kraft.jl/src/trim_sequence.jl:13.\n",
      "WARNING: Method definition print_and_run_cmd(Base.AbstractCmd) in module Kraft at /Users/kwatme/github/Kraft.jl/src/print_and_run_cmd.jl:3 overwritten at /Users/kwatme/github/Kraft.jl/src/print_and_run_cmd.jl:3.\n",
      "WARNING: Method definition check_sequence(Tuple{Vararg{String, N} where N}, String, Int64) in module Kraft at /Users/kwatme/github/Kraft.jl/src/check_sequence.jl:12 overwritten at /Users/kwatme/github/Kraft.jl/src/check_sequence.jl:12.\n",
      "WARNING: Method definition print_and_run_cmd(Base.AbstractCmd) in module Kraft at /Users/kwatme/github/Kraft.jl/src/print_and_run_cmd.jl:3 overwritten at /Users/kwatme/github/Kraft.jl/src/print_and_run_cmd.jl:3.\n",
      "WARNING: Method definition count_transcript(String, String, String, String, Int64) in module Kraft at /Users/kwatme/github/Kraft.jl/src/count_transcript.jl:14 overwritten at /Users/kwatme/github/Kraft.jl/src/count_transcript.jl:14.\n",
      "WARNING: Method definition read_gmt(String) in module Kraft at /Users/kwatme/github/Kraft.jl/src/read_gmt.jl:3 overwritten at /Users/kwatme/github/Kraft.jl/src/read_gmt.jl:3.\n",
      "WARNING: Method definition read_gmt(Array{String, 1}) in module Kraft at /Users/kwatme/github/Kraft.jl/src/read_gmt.jl:32 overwritten at /Users/kwatme/github/Kraft.jl/src/read_gmt.jl:32.\n",
      "WARNING: Method definition sum_values(Array{Int64, 1}) in module Kraft at /Users/kwatme/github/Kraft.jl/src/sum_values.jl:6 overwritten at /Users/kwatme/github/Kraft.jl/src/sum_values.jl:6.\n",
      "WARNING: Method definition sum_values(Array{Float64, 1}, Array{Int64, 1}) in module Kraft at /Users/kwatme/github/Kraft.jl/src/sum_values.jl:30 overwritten at /Users/kwatme/github/Kraft.jl/src/sum_values.jl:30.\n",
      "WARNING: Method definition print_and_run_cmd(Base.AbstractCmd) in module Kraft at /Users/kwatme/github/Kraft.jl/src/print_and_run_cmd.jl:3 overwritten at /Users/kwatme/github/Kraft.jl/src/print_and_run_cmd.jl:3.\n",
      "WARNING: Method definition trim_sequence(String, String, String, Int64) in module Kraft at /Users/kwatme/github/Kraft.jl/src/trim_sequence.jl:13 overwritten at /Users/kwatme/github/Kraft.jl/src/trim_sequence.jl:13.\n"
     ]
    }
   ],
   "source": [
    "using BenchmarkTools\n",
    "using CSV\n",
    "using DataFrames\n",
    "using Kraft\n",
    "using StatsBase"
   ]
  },
  {
   "cell_type": "code",
   "execution_count": 2,
   "metadata": {},
   "outputs": [
    {
     "data": {
      "text/plain": [
       "57954-element Array{String,1}:\n",
       " \"MIR628\"    \n",
       " \"RNU6-871P\" \n",
       " \"MIR626\"    \n",
       " \"AC012314.7\"\n",
       " \"GHRLOS\"    \n",
       " \"RNU6-35P\"  \n",
       " \"MIR5694\"   \n",
       " \"RNU6-1157P\"\n",
       " \"MIR6861\"   \n",
       " \"RNU4-85P\"  \n",
       " \"MIR6759\"   \n",
       " \"MIR4491\"   \n",
       " \"RNU6-1162P\"\n",
       " ⋮           \n",
       " \"KP420441.2\"\n",
       " \"KP420444.3\"\n",
       " \"KP420444.4\"\n",
       " \"KP420441.4\"\n",
       " \"KP420446.2\"\n",
       " \"KP420441.1\"\n",
       " \"KP420441.3\"\n",
       " \"KP420441.5\"\n",
       " \"KP420440.2\"\n",
       " \"KP420440.6\"\n",
       " \"KP420440.5\"\n",
       " \"KP420446.1\""
      ]
     },
     "execution_count": 2,
     "metadata": {},
     "output_type": "execute_result"
    }
   ],
   "source": [
    "const genes = readlines(\"genes.txt\")[2:end]"
   ]
  },
  {
   "cell_type": "code",
   "execution_count": 3,
   "metadata": {},
   "outputs": [
    {
     "data": {
      "text/plain": [
       "57954-element Array{Float64,1}:\n",
       " -0.39137870416816256\n",
       " -1.7506173325737513 \n",
       " -0.8531094391341868 \n",
       "  0.6439168414830988 \n",
       " -0.9260888363600662 \n",
       " -0.4111148486711711 \n",
       "  0.28865923193087356\n",
       "  1.0686272150792058 \n",
       "  0.17220364599590424\n",
       " -0.9680620604315935 \n",
       " -0.6907934745796107 \n",
       "  1.5073792766057734 \n",
       "  2.754609765928508  \n",
       "  ⋮                  \n",
       "  2.4295831362668996 \n",
       " -0.38543983899128464\n",
       "  0.25203136237746415\n",
       " -0.4913458622843178 \n",
       " -0.6181652368554985 \n",
       " -0.6115770018013353 \n",
       "  0.6251230961920629 \n",
       "  1.3214228889593618 \n",
       "  0.28839900865235796\n",
       " -1.613516588121958  \n",
       " -0.1693204045458491 \n",
       " -0.8496479185915761 "
      ]
     },
     "execution_count": 3,
     "metadata": {},
     "output_type": "execute_result"
    }
   ],
   "source": [
    "# const gene_values = fill(\n",
    "#     1 / length(genes),\n",
    "#     length(genes),\n",
    "# )\n",
    "const gene_values = randn(length(genes))"
   ]
  },
  {
   "cell_type": "code",
   "execution_count": 4,
   "metadata": {},
   "outputs": [
    {
     "data": {
      "text/plain": [
       "\"gene_x_sample.tsv\""
      ]
     },
     "execution_count": 4,
     "metadata": {},
     "output_type": "execute_result"
    }
   ],
   "source": [
    "const gene_x_sample = DataFrame(\n",
    "    Symbol(\"Gene\") => genes,\n",
    "    Symbol(\"Sample 1\") => gene_values,\n",
    "    Symbol(\"Sample 2\") => gene_values * 10,\n",
    ")\n",
    "\n",
    "CSV.write(\n",
    "    \"gene_x_sample.tsv\",\n",
    "    gene_x_sample,\n",
    "    delim = '\\t',\n",
    ")"
   ]
  },
  {
   "cell_type": "code",
   "execution_count": 5,
   "metadata": {},
   "outputs": [
    {
     "data": {
      "text/plain": [
       "100-element Array{String,1}:\n",
       " \"RNU6-28P\"  \n",
       " \"HMGN2P41\"  \n",
       " \"CLDN23\"    \n",
       " \"RDH14\"     \n",
       " \"HNRNPA1P25\"\n",
       " \"AL449363.1\"\n",
       " \"RPL27AP5\"  \n",
       " \"C1orf56\"   \n",
       " \"AP000532.2\"\n",
       " \"CU207370.1\"\n",
       " \"ZNF723\"    \n",
       " \"BTF3P2\"    \n",
       " \"FLJ37035\"  \n",
       " ⋮           \n",
       " \"AL445223.1\"\n",
       " \"UBE2L6\"    \n",
       " \"BCKDHA\"    \n",
       " \"AC099791.1\"\n",
       " \"COX11\"     \n",
       " \"SMIM20\"    \n",
       " \"RNU6-812P\" \n",
       " \"MT2A\"      \n",
       " \"MAP4K1\"    \n",
       " \"AC008088.1\"\n",
       " \"AL138916.2\"\n",
       " \"BMS1P22\"   "
      ]
     },
     "execution_count": 5,
     "metadata": {},
     "output_type": "execute_result"
    }
   ],
   "source": [
    "const random_gene_set_genes = sample(\n",
    "    genes,\n",
    "    100,\n",
    "    replace = false,\n",
    ")"
   ]
  },
  {
   "cell_type": "code",
   "execution_count": 6,
   "metadata": {},
   "outputs": [
    {
     "data": {
      "text/plain": [
       "Dict{String,Array{String,1}} with 50 entries:\n",
       "  \"HALLMARK_REACTIVE_OXIGE… => [\"GSR\", \"PRDX2\", \"TXNRD1\", \"SOD1\", \"GCLC\", \"CAT\"…\n",
       "  \"HALLMARK_ANGIOGENESIS\"   => [\"VCAN\", \"POSTN\", \"FSTL1\", \"LRPAP1\", \"STC1\", \"LP…\n",
       "  \"HALLMARK_MYOGENESIS\"     => [\"ACTA1\", \"TNNI2\", \"MYL1\", \"TNNC1\", \"TNNC2\", \"MY…\n",
       "  \"HALLMARK_PEROXISOME\"     => [\"ABCD3\", \"ACOT8\", \"ACOX1\", \"ACSL1\", \"ECH1\", \"EC…\n",
       "  \"HALLMARK_UV_RESPONSE_DN\" => [\"TJP1\", \"NFIB\", \"TGFBR3\", \"TFPI\", \"MMP16\", \"ABC…\n",
       "  \"HALLMARK_NOTCH_SIGNALIN… => [\"JAG1\", \"NOTCH3\", \"NOTCH2\", \"APH1A\", \"HES1\", \"C…\n",
       "  \"HALLMARK_ANDROGEN_RESPO… => [\"KLK3\", \"KLK2\", \"ACSL3\", \"PIAS1\", \"CAMKK2\", \"NK…\n",
       "  \"HALLMARK_ALLOGRAFT_REJE… => [\"PTPRC\", \"IL12B\", \"TGFB1\", \"IL12A\", \"CD3E\", \"CD…\n",
       "  \"HALLMARK_ESTROGEN_RESPO… => [\"TFF1\", \"SLC9A3R1\", \"TPD52L1\", \"PRSS23\", \"CA12\"…\n",
       "  \"HALLMARK_G2M_CHECKPOINT\" => [\"AURKA\", \"CCNA2\", \"TOP2A\", \"CCNB2\", \"CENPA\", \"B…\n",
       "  \"HALLMARK_MYC_TARGETS_V2\" => [\"SLC19A1\", \"MRTO4\", \"TMEM97\", \"RRP9\", \"PES1\", \"…\n",
       "  \"HALLMARK_APOPTOSIS\"      => [\"CASP3\", \"CASP9\", \"DFFA\", \"CASP7\", \"CFLAR\", \"BI…\n",
       "  \"HALLMARK_P53_PATHWAY\"    => [\"CDKN1A\", \"BTG2\", \"MDM2\", \"CCNG1\", \"FAS\", \"TOB1…\n",
       "  \"HALLMARK_UNFOLDED_PROTE… => [\"ATF4\", \"HERPUD1\", \"PARN\", \"EXOSC4\", \"HSP90B1\",…\n",
       "  \"HALLMARK_ADIPOGENESIS\"   => [\"FABP4\", \"ADIPOQ\", \"PPARG\", \"LIPE\", \"DGAT1\", \"L…\n",
       "  \"HALLMARK_DNA_REPAIR\"     => [\"POLR2H\", \"POLR2A\", \"POLR2G\", \"POLR2E\", \"POLR2J…\n",
       "  \"HALLMARK_EPITHELIAL_MES… => [\"COL3A1\", \"COL5A2\", \"COL5A1\", \"FBN1\", \"COL1A1\",…\n",
       "  \"HALLMARK_OXIDATIVE_PHOS… => [\"NDUFS3\", \"UQCRB\", \"NDUFS2\", \"SDHA\", \"UQCRC1\", …\n",
       "  \"HALLMARK_HEME_METABOLIS… => [\"ALAS2\", \"PPOX\", \"FECH\", \"HMBS\", \"GYPB\", \"ALAD\"…\n",
       "  \"HALLMARK_MITOTIC_SPINDL… => [\"ARHGEF2\", \"CLASP1\", \"KIF11\", \"KIF23\", \"ALS2\", …\n",
       "  \"HALLMARK_FATTY_ACID_MET… => [\"ACAA1\", \"ACAA2\", \"ACADL\", \"ACADM\", \"ACOT8\", \"A…\n",
       "  \"HALLMARK_COMPLEMENT\"     => [\"C2\", \"C1S\", \"CFB\", \"C1R\", \"SERPINE1\", \"MMP14\",…\n",
       "  \"HALLMARK_APICAL_SURFACE\" => [\"B4GALT1\", \"RHCG\", \"MAL\", \"LYPD3\", \"PKHD1\", \"AT…\n",
       "  \"HALLMARK_ESTROGEN_RESPO… => [\"GREB1\", \"CA12\", \"SLC9A3R1\", \"MYB\", \"ANXA9\", \"I…\n",
       "  \"HALLMARK_INTERFERON_GAM… => [\"STAT1\", \"ISG15\", \"IFIT1\", \"MX1\", \"IFIT3\", \"IFI…\n",
       "  ⋮                         => ⋮"
      ]
     },
     "execution_count": 6,
     "metadata": {},
     "output_type": "execute_result"
    }
   ],
   "source": [
    "const gene_set_genes = Kraft.read_gmt([\n",
    "    \"h.all.v6.2.symbols.gmt\",\n",
    "])"
   ]
  },
  {
   "cell_type": "markdown",
   "metadata": {},
   "source": [
    "## Compute gene set enrichment with 1 sample & 1 gene set"
   ]
  },
  {
   "cell_type": "code",
   "execution_count": 7,
   "metadata": {},
   "outputs": [
    {
     "data": {
      "text/plain": [
       "([-1.72849e-5, -3.45698e-5, -5.18547e-5, -6.91396e-5, -8.64244e-5, -0.000103709, -0.000120994, -0.000138279, -0.000155564, -0.000172849  …  0.000155564, 0.000138279, 0.000120994, 0.000103709, 8.64244e-5, 6.91396e-5, 5.18547e-5, 3.45698e-5, 1.72849e-5, 1.8324e-13], 0.1961300089677972, 974.9012603937508)"
      ]
     },
     "execution_count": 7,
     "metadata": {},
     "output_type": "execute_result"
    }
   ],
   "source": [
    "Kraft.compute_gene_set_enrichment(\n",
    "    gene_values,\n",
    "    genes,\n",
    "    random_gene_set_genes,\n",
    ")"
   ]
  },
  {
   "cell_type": "code",
   "execution_count": 8,
   "metadata": {},
   "outputs": [],
   "source": [
    "# @benchmark Kraft.compute_gene_set_enrichment(\n",
    "#     gene_values,\n",
    "#     genes,\n",
    "#     random_gene_set_genes,\n",
    "# )"
   ]
  },
  {
   "cell_type": "markdown",
   "metadata": {},
   "source": [
    "## Compute gene set enrichment with 1 sample & 1< gene sets"
   ]
  },
  {
   "cell_type": "code",
   "execution_count": 9,
   "metadata": {},
   "outputs": [
    {
     "data": {
      "text/plain": [
       "Dict{String,Tuple{Union{Nothing, Array{Float64,1}},Float64,Float64}} with 50 entries:\n",
       "  \"HALLMARK_REACTIVE_OXIGEN_SPECIES_PATHWAY\"   => (nothing, -0.263452, -4389.02)\n",
       "  \"HALLMARK_ANGIOGENESIS\"                      => (nothing, 0.210108, 1188.63)\n",
       "  \"HALLMARK_MYOGENESIS\"                        => (nothing, -0.165639, -486.563)\n",
       "  \"HALLMARK_PEROXISOME\"                        => (nothing, -0.248928, -4187.19)\n",
       "  \"HALLMARK_UV_RESPONSE_DN\"                    => (nothing, 0.174212, 821.587)\n",
       "  \"HALLMARK_NOTCH_SIGNALING\"                   => (nothing, -0.253832, -5769.07)\n",
       "  \"HALLMARK_ANDROGEN_RESPONSE\"                 => (nothing, 0.150541, 684.64)\n",
       "  \"HALLMARK_ALLOGRAFT_REJECTION\"               => (nothing, 0.165715, 1025.78)\n",
       "  \"HALLMARK_ESTROGEN_RESPONSE_LATE\"            => (nothing, -0.172916, -293.537)\n",
       "  \"HALLMARK_G2M_CHECKPOINT\"                    => (nothing, -0.18107, -1723.09)\n",
       "  \"HALLMARK_MYC_TARGETS_V2\"                    => (nothing, -0.204259, 248.016)\n",
       "  \"HALLMARK_APOPTOSIS\"                         => (nothing, -0.142376, 420.233)\n",
       "  \"HALLMARK_P53_PATHWAY\"                       => (nothing, 0.262566, 4318.04)\n",
       "  \"HALLMARK_UNFOLDED_PROTEIN_RESPONSE\"         => (nothing, -0.30511, -5670.89)\n",
       "  \"HALLMARK_ADIPOGENESIS\"                      => (nothing, -0.182781, -1072.07)\n",
       "  \"HALLMARK_DNA_REPAIR\"                        => (nothing, -0.153626, 129.487)\n",
       "  \"HALLMARK_EPITHELIAL_MESENCHYMAL_TRANSITION\" => (nothing, -0.184569, -1536.23)\n",
       "  \"HALLMARK_OXIDATIVE_PHOSPHORYLATION\"         => (nothing, 0.189738, 1994.06)\n",
       "  \"HALLMARK_HEME_METABOLISM\"                   => (nothing, 0.18413, 674.597)\n",
       "  \"HALLMARK_MITOTIC_SPINDLE\"                   => (nothing, -0.217277, -2799.33)\n",
       "  \"HALLMARK_FATTY_ACID_METABOLISM\"             => (nothing, -0.207562, -2298.45)\n",
       "  \"HALLMARK_COMPLEMENT\"                        => (nothing, 0.180724, 670.76)\n",
       "  \"HALLMARK_APICAL_SURFACE\"                    => (nothing, -0.247741, -2074.28)\n",
       "  \"HALLMARK_ESTROGEN_RESPONSE_EARLY\"           => (nothing, -0.165454, -818.36)\n",
       "  \"HALLMARK_INTERFERON_GAMMA_RESPONSE\"         => (nothing, 0.232445, 1925.75)\n",
       "  ⋮                                            => ⋮"
      ]
     },
     "execution_count": 9,
     "metadata": {},
     "output_type": "execute_result"
    }
   ],
   "source": [
    "Kraft.compute_gene_set_enrichment(\n",
    "    gene_values,\n",
    "    genes,\n",
    "    gene_set_genes,\n",
    ")"
   ]
  },
  {
   "cell_type": "code",
   "execution_count": 10,
   "metadata": {},
   "outputs": [],
   "source": [
    "# benchmark_result = @benchmark Kraft.compute_gene_set_enrichment(\n",
    "#     gene_values,\n",
    "#     genes,\n",
    "#     gene_set_genes,\n",
    "# )\n",
    "\n",
    "# ms_per_gene_set = round(\n",
    "#     minimum(benchmark_result.times) / 1e6 / length(gene_set_genes),\n",
    "#     sigdigits = 2,\n",
    "# )\n",
    "\n",
    "# println(\"$ms_per_gene_set ms / gene set\")\n",
    "\n",
    "# benchmark_result"
   ]
  },
  {
   "cell_type": "markdown",
   "metadata": {},
   "source": [
    "## Compute gene set enrichment with 1< samples & 1< gene sets"
   ]
  },
  {
   "cell_type": "code",
   "execution_count": 11,
   "metadata": {},
   "outputs": [
    {
     "data": {
      "text/plain": [
       "\"ks\""
      ]
     },
     "execution_count": 11,
     "metadata": {},
     "output_type": "execute_result"
    }
   ],
   "source": [
    "statistic = \"ks\""
   ]
  },
  {
   "cell_type": "code",
   "execution_count": 12,
   "metadata": {},
   "outputs": [
    {
     "data": {
      "text/html": [
       "<table class=\"data-frame\"><thead><tr><th></th><th>Gene Set</th><th>Sample 1</th><th>Sample 2</th></tr><tr><th></th><th>String</th><th>Float64</th><th>Float64</th></tr></thead><tbody><p>50 rows × 3 columns</p><tr><th>1</th><td>HALLMARK_REACTIVE_OXIGEN_SPECIES_PATHWAY</td><td>-0.263452</td><td>-0.263452</td></tr><tr><th>2</th><td>HALLMARK_ANGIOGENESIS</td><td>0.210108</td><td>0.210108</td></tr><tr><th>3</th><td>HALLMARK_MYOGENESIS</td><td>-0.165639</td><td>-0.165639</td></tr><tr><th>4</th><td>HALLMARK_PEROXISOME</td><td>-0.248928</td><td>-0.248928</td></tr><tr><th>5</th><td>HALLMARK_UV_RESPONSE_DN</td><td>0.174212</td><td>0.174212</td></tr><tr><th>6</th><td>HALLMARK_NOTCH_SIGNALING</td><td>-0.253832</td><td>-0.253832</td></tr><tr><th>7</th><td>HALLMARK_ANDROGEN_RESPONSE</td><td>0.150541</td><td>0.150541</td></tr><tr><th>8</th><td>HALLMARK_ALLOGRAFT_REJECTION</td><td>0.165715</td><td>0.165715</td></tr><tr><th>9</th><td>HALLMARK_ESTROGEN_RESPONSE_LATE</td><td>-0.172916</td><td>-0.172916</td></tr><tr><th>10</th><td>HALLMARK_G2M_CHECKPOINT</td><td>-0.18107</td><td>-0.18107</td></tr><tr><th>11</th><td>HALLMARK_MYC_TARGETS_V2</td><td>-0.204259</td><td>-0.204259</td></tr><tr><th>12</th><td>HALLMARK_APOPTOSIS</td><td>-0.142376</td><td>-0.142376</td></tr><tr><th>13</th><td>HALLMARK_P53_PATHWAY</td><td>0.262566</td><td>0.262566</td></tr><tr><th>14</th><td>HALLMARK_UNFOLDED_PROTEIN_RESPONSE</td><td>-0.30511</td><td>-0.30511</td></tr><tr><th>15</th><td>HALLMARK_ADIPOGENESIS</td><td>-0.182781</td><td>-0.182781</td></tr><tr><th>16</th><td>HALLMARK_DNA_REPAIR</td><td>-0.153626</td><td>-0.153626</td></tr><tr><th>17</th><td>HALLMARK_EPITHELIAL_MESENCHYMAL_TRANSITION</td><td>-0.184569</td><td>-0.184569</td></tr><tr><th>18</th><td>HALLMARK_OXIDATIVE_PHOSPHORYLATION</td><td>0.189738</td><td>0.189738</td></tr><tr><th>19</th><td>HALLMARK_HEME_METABOLISM</td><td>0.18413</td><td>0.18413</td></tr><tr><th>20</th><td>HALLMARK_MITOTIC_SPINDLE</td><td>-0.217277</td><td>-0.217277</td></tr><tr><th>21</th><td>HALLMARK_FATTY_ACID_METABOLISM</td><td>-0.207562</td><td>-0.207562</td></tr><tr><th>22</th><td>HALLMARK_COMPLEMENT</td><td>0.180724</td><td>0.180724</td></tr><tr><th>23</th><td>HALLMARK_APICAL_SURFACE</td><td>-0.247741</td><td>-0.247741</td></tr><tr><th>24</th><td>HALLMARK_ESTROGEN_RESPONSE_EARLY</td><td>-0.165454</td><td>-0.165454</td></tr><tr><th>25</th><td>HALLMARK_INTERFERON_GAMMA_RESPONSE</td><td>0.232445</td><td>0.232445</td></tr><tr><th>26</th><td>HALLMARK_MTORC1_SIGNALING</td><td>-0.175993</td><td>-0.175993</td></tr><tr><th>27</th><td>HALLMARK_INTERFERON_ALPHA_RESPONSE</td><td>0.195068</td><td>0.195068</td></tr><tr><th>28</th><td>HALLMARK_PI3K_AKT_MTOR_SIGNALING</td><td>-0.208021</td><td>-0.208021</td></tr><tr><th>29</th><td>HALLMARK_XENOBIOTIC_METABOLISM</td><td>-0.166628</td><td>-0.166628</td></tr><tr><th>30</th><td>HALLMARK_KRAS_SIGNALING_DN</td><td>-0.200457</td><td>-0.200457</td></tr><tr><th>&vellip;</th><td>&vellip;</td><td>&vellip;</td><td>&vellip;</td></tr></tbody></table>"
      ],
      "text/latex": [
       "\\begin{tabular}{r|ccc}\n",
       "\t& Gene Set & Sample 1 & Sample 2\\\\\n",
       "\t\\hline\n",
       "\t& String & Float64 & Float64\\\\\n",
       "\t\\hline\n",
       "\t1 & HALLMARK\\_REACTIVE\\_OXIGEN\\_SPECIES\\_PATHWAY & -0.263452 & -0.263452 \\\\\n",
       "\t2 & HALLMARK\\_ANGIOGENESIS & 0.210108 & 0.210108 \\\\\n",
       "\t3 & HALLMARK\\_MYOGENESIS & -0.165639 & -0.165639 \\\\\n",
       "\t4 & HALLMARK\\_PEROXISOME & -0.248928 & -0.248928 \\\\\n",
       "\t5 & HALLMARK\\_UV\\_RESPONSE\\_DN & 0.174212 & 0.174212 \\\\\n",
       "\t6 & HALLMARK\\_NOTCH\\_SIGNALING & -0.253832 & -0.253832 \\\\\n",
       "\t7 & HALLMARK\\_ANDROGEN\\_RESPONSE & 0.150541 & 0.150541 \\\\\n",
       "\t8 & HALLMARK\\_ALLOGRAFT\\_REJECTION & 0.165715 & 0.165715 \\\\\n",
       "\t9 & HALLMARK\\_ESTROGEN\\_RESPONSE\\_LATE & -0.172916 & -0.172916 \\\\\n",
       "\t10 & HALLMARK\\_G2M\\_CHECKPOINT & -0.18107 & -0.18107 \\\\\n",
       "\t11 & HALLMARK\\_MYC\\_TARGETS\\_V2 & -0.204259 & -0.204259 \\\\\n",
       "\t12 & HALLMARK\\_APOPTOSIS & -0.142376 & -0.142376 \\\\\n",
       "\t13 & HALLMARK\\_P53\\_PATHWAY & 0.262566 & 0.262566 \\\\\n",
       "\t14 & HALLMARK\\_UNFOLDED\\_PROTEIN\\_RESPONSE & -0.30511 & -0.30511 \\\\\n",
       "\t15 & HALLMARK\\_ADIPOGENESIS & -0.182781 & -0.182781 \\\\\n",
       "\t16 & HALLMARK\\_DNA\\_REPAIR & -0.153626 & -0.153626 \\\\\n",
       "\t17 & HALLMARK\\_EPITHELIAL\\_MESENCHYMAL\\_TRANSITION & -0.184569 & -0.184569 \\\\\n",
       "\t18 & HALLMARK\\_OXIDATIVE\\_PHOSPHORYLATION & 0.189738 & 0.189738 \\\\\n",
       "\t19 & HALLMARK\\_HEME\\_METABOLISM & 0.18413 & 0.18413 \\\\\n",
       "\t20 & HALLMARK\\_MITOTIC\\_SPINDLE & -0.217277 & -0.217277 \\\\\n",
       "\t21 & HALLMARK\\_FATTY\\_ACID\\_METABOLISM & -0.207562 & -0.207562 \\\\\n",
       "\t22 & HALLMARK\\_COMPLEMENT & 0.180724 & 0.180724 \\\\\n",
       "\t23 & HALLMARK\\_APICAL\\_SURFACE & -0.247741 & -0.247741 \\\\\n",
       "\t24 & HALLMARK\\_ESTROGEN\\_RESPONSE\\_EARLY & -0.165454 & -0.165454 \\\\\n",
       "\t25 & HALLMARK\\_INTERFERON\\_GAMMA\\_RESPONSE & 0.232445 & 0.232445 \\\\\n",
       "\t26 & HALLMARK\\_MTORC1\\_SIGNALING & -0.175993 & -0.175993 \\\\\n",
       "\t27 & HALLMARK\\_INTERFERON\\_ALPHA\\_RESPONSE & 0.195068 & 0.195068 \\\\\n",
       "\t28 & HALLMARK\\_PI3K\\_AKT\\_MTOR\\_SIGNALING & -0.208021 & -0.208021 \\\\\n",
       "\t29 & HALLMARK\\_XENOBIOTIC\\_METABOLISM & -0.166628 & -0.166628 \\\\\n",
       "\t30 & HALLMARK\\_KRAS\\_SIGNALING\\_DN & -0.200457 & -0.200457 \\\\\n",
       "\t$\\dots$ & $\\dots$ & $\\dots$ & $\\dots$ \\\\\n",
       "\\end{tabular}\n"
      ],
      "text/plain": [
       "50×3 DataFrame\n",
       "│ Row │ Gene Set                                 │ Sample 1  │ Sample 2  │\n",
       "│     │ \u001b[90mString\u001b[39m                                   │ \u001b[90mFloat64\u001b[39m   │ \u001b[90mFloat64\u001b[39m   │\n",
       "├─────┼──────────────────────────────────────────┼───────────┼───────────┤\n",
       "│ 1   │ HALLMARK_REACTIVE_OXIGEN_SPECIES_PATHWAY │ -0.263452 │ -0.263452 │\n",
       "│ 2   │ HALLMARK_ANGIOGENESIS                    │ 0.210108  │ 0.210108  │\n",
       "│ 3   │ HALLMARK_MYOGENESIS                      │ -0.165639 │ -0.165639 │\n",
       "│ 4   │ HALLMARK_PEROXISOME                      │ -0.248928 │ -0.248928 │\n",
       "│ 5   │ HALLMARK_UV_RESPONSE_DN                  │ 0.174212  │ 0.174212  │\n",
       "│ 6   │ HALLMARK_NOTCH_SIGNALING                 │ -0.253832 │ -0.253832 │\n",
       "│ 7   │ HALLMARK_ANDROGEN_RESPONSE               │ 0.150541  │ 0.150541  │\n",
       "│ 8   │ HALLMARK_ALLOGRAFT_REJECTION             │ 0.165715  │ 0.165715  │\n",
       "│ 9   │ HALLMARK_ESTROGEN_RESPONSE_LATE          │ -0.172916 │ -0.172916 │\n",
       "│ 10  │ HALLMARK_G2M_CHECKPOINT                  │ -0.18107  │ -0.18107  │\n",
       "⋮\n",
       "│ 40  │ HALLMARK_BILE_ACID_METABOLISM            │ -0.212329 │ -0.212329 │\n",
       "│ 41  │ HALLMARK_KRAS_SIGNALING_UP               │ 0.189919  │ 0.189919  │\n",
       "│ 42  │ HALLMARK_INFLAMMATORY_RESPONSE           │ 0.156393  │ 0.156393  │\n",
       "│ 43  │ HALLMARK_CHOLESTEROL_HOMEOSTASIS         │ -0.203064 │ -0.203064 │\n",
       "│ 44  │ HALLMARK_TGF_BETA_SIGNALING              │ 0.216976  │ 0.216976  │\n",
       "│ 45  │ HALLMARK_PANCREAS_BETA_CELLS             │ 0.182225  │ 0.182225  │\n",
       "│ 46  │ HALLMARK_COAGULATION                     │ 0.189082  │ 0.189082  │\n",
       "│ 47  │ HALLMARK_HYPOXIA                         │ 0.191076  │ 0.191076  │\n",
       "│ 48  │ HALLMARK_GLYCOLYSIS                      │ -0.177396 │ -0.177396 │\n",
       "│ 49  │ HALLMARK_HEDGEHOG_SIGNALING              │ -0.238779 │ -0.238779 │\n",
       "│ 50  │ HALLMARK_IL6_JAK_STAT3_SIGNALING         │ -0.175946 │ -0.175946 │"
      ]
     },
     "execution_count": 12,
     "metadata": {},
     "output_type": "execute_result"
    }
   ],
   "source": [
    "Kraft.compute_gene_set_enrichment(\n",
    "    gene_x_sample,\n",
    "    gene_set_genes,\n",
    "    statistic,\n",
    ")"
   ]
  },
  {
   "cell_type": "code",
   "execution_count": 13,
   "metadata": {},
   "outputs": [],
   "source": [
    "# @benchmark gene_set_x_sample = Kraft.compute_gene_set_enrichment(\n",
    "#     gene_x_sample,\n",
    "#     gene_set_genes,\n",
    "#     statistic,\n",
    "# )"
   ]
  },
  {
   "cell_type": "markdown",
   "metadata": {},
   "source": [
    "## GSEA"
   ]
  },
  {
   "cell_type": "code",
   "execution_count": 42,
   "metadata": {},
   "outputs": [
    {
     "data": {
      "text/html": [
       "<table class=\"data-frame\"><thead><tr><th></th><th>Gene Set</th><th>Sample 1</th><th>Sample 2</th></tr><tr><th></th><th>String</th><th>Float64</th><th>Float64</th></tr></thead><tbody><p>4,762 rows × 3 columns</p><tr><th>1</th><td>REACTOME_EXTRACELLULAR_MATRIX_ORGANIZATION</td><td>-0.256298</td><td>-0.256298</td></tr><tr><th>2</th><td>GARCIA_TARGETS_OF_FLI1_AND_DAX1_UP</td><td>0.216219</td><td>0.216219</td></tr><tr><th>3</th><td>SIMBULAN_PARP1_TARGETS_UP</td><td>-0.266885</td><td>-0.266885</td></tr><tr><th>4</th><td>WEI_MYCN_TARGETS_WITH_E_BOX</td><td>0.184473</td><td>0.184473</td></tr><tr><th>5</th><td>PID_RET_PATHWAY</td><td>-0.278729</td><td>-0.278729</td></tr><tr><th>6</th><td>MARIADASON_RESPONSE_TO_CURCUMIN_SULINDAC_7</td><td>0.350459</td><td>0.350459</td></tr><tr><th>7</th><td>REACTOME_GPCR_LIGAND_BINDING</td><td>-0.174432</td><td>-0.174432</td></tr><tr><th>8</th><td>KEGG_CYTOSOLIC_DNA_SENSING_PATHWAY</td><td>-0.300544</td><td>-0.300544</td></tr><tr><th>9</th><td>HOSHIDA_LIVER_CANCER_SUBCLASS_S3</td><td>0.175791</td><td>0.175791</td></tr><tr><th>10</th><td>LIAN_LIPA_TARGETS_3M</td><td>0.239595</td><td>0.239595</td></tr><tr><th>11</th><td>SENESE_HDAC3_TARGETS_UP</td><td>-0.144524</td><td>-0.144524</td></tr><tr><th>12</th><td>BIOCARTA_TOB1_PATHWAY</td><td>-0.281565</td><td>-0.281565</td></tr><tr><th>13</th><td>RODRIGUES_THYROID_CARCINOMA_POORLY_DIFFERENTIATED_DN</td><td>-0.185677</td><td>-0.185677</td></tr><tr><th>14</th><td>KIM_RESPONSE_TO_TSA_AND_DECITABINE_UP</td><td>0.188522</td><td>0.188522</td></tr><tr><th>15</th><td>FRIDMAN_SENESCENCE_UP</td><td>0.182482</td><td>0.182482</td></tr><tr><th>16</th><td>CREIGHTON_ENDOCRINE_THERAPY_RESISTANCE_2</td><td>-0.208993</td><td>-0.208993</td></tr><tr><th>17</th><td>PAL_PRMT5_TARGETS_DN</td><td>0.376395</td><td>0.376395</td></tr><tr><th>18</th><td>REACTOME_NEURONAL_SYSTEM</td><td>-0.204304</td><td>-0.204304</td></tr><tr><th>19</th><td>REACTOME_LAGGING_STRAND_SYNTHESIS</td><td>-0.282165</td><td>-0.282165</td></tr><tr><th>20</th><td>REACTOME_O_LINKED_GLYCOSYLATION_OF_MUCINS</td><td>-0.310946</td><td>-0.310946</td></tr><tr><th>21</th><td>FUNG_IL2_SIGNALING_2</td><td>0.35146</td><td>0.35146</td></tr><tr><th>22</th><td>BIOCARTA_CHREBP2_PATHWAY</td><td>-0.307209</td><td>-0.307209</td></tr><tr><th>23</th><td>LU_TUMOR_VASCULATURE_UP</td><td>0.202195</td><td>0.202195</td></tr><tr><th>24</th><td>PID_FOXM1_PATHWAY</td><td>0.277737</td><td>0.277737</td></tr><tr><th>25</th><td>LEIN_CHOROID_PLEXUS_MARKERS</td><td>0.167103</td><td>0.167103</td></tr><tr><th>26</th><td>MOOTHA_PGC</td><td>0.199485</td><td>0.199485</td></tr><tr><th>27</th><td>REACTOME_FGFR4_LIGAND_BINDING_AND_ACTIVATION</td><td>-0.237091</td><td>-0.237091</td></tr><tr><th>28</th><td>FERRANDO_TAL1_NEIGHBORS</td><td>-0.288671</td><td>-0.288671</td></tr><tr><th>29</th><td>HOLLEMAN_ASPARAGINASE_RESISTANCE_B_ALL_UP</td><td>-0.390537</td><td>-0.390537</td></tr><tr><th>30</th><td>KEGG_GALACTOSE_METABOLISM</td><td>-0.305928</td><td>-0.305928</td></tr><tr><th>&vellip;</th><td>&vellip;</td><td>&vellip;</td><td>&vellip;</td></tr></tbody></table>"
      ],
      "text/latex": [
       "\\begin{tabular}{r|ccc}\n",
       "\t& Gene Set & Sample 1 & Sample 2\\\\\n",
       "\t\\hline\n",
       "\t& String & Float64 & Float64\\\\\n",
       "\t\\hline\n",
       "\t1 & REACTOME\\_EXTRACELLULAR\\_MATRIX\\_ORGANIZATION & -0.256298 & -0.256298 \\\\\n",
       "\t2 & GARCIA\\_TARGETS\\_OF\\_FLI1\\_AND\\_DAX1\\_UP & 0.216219 & 0.216219 \\\\\n",
       "\t3 & SIMBULAN\\_PARP1\\_TARGETS\\_UP & -0.266885 & -0.266885 \\\\\n",
       "\t4 & WEI\\_MYCN\\_TARGETS\\_WITH\\_E\\_BOX & 0.184473 & 0.184473 \\\\\n",
       "\t5 & PID\\_RET\\_PATHWAY & -0.278729 & -0.278729 \\\\\n",
       "\t6 & MARIADASON\\_RESPONSE\\_TO\\_CURCUMIN\\_SULINDAC\\_7 & 0.350459 & 0.350459 \\\\\n",
       "\t7 & REACTOME\\_GPCR\\_LIGAND\\_BINDING & -0.174432 & -0.174432 \\\\\n",
       "\t8 & KEGG\\_CYTOSOLIC\\_DNA\\_SENSING\\_PATHWAY & -0.300544 & -0.300544 \\\\\n",
       "\t9 & HOSHIDA\\_LIVER\\_CANCER\\_SUBCLASS\\_S3 & 0.175791 & 0.175791 \\\\\n",
       "\t10 & LIAN\\_LIPA\\_TARGETS\\_3M & 0.239595 & 0.239595 \\\\\n",
       "\t11 & SENESE\\_HDAC3\\_TARGETS\\_UP & -0.144524 & -0.144524 \\\\\n",
       "\t12 & BIOCARTA\\_TOB1\\_PATHWAY & -0.281565 & -0.281565 \\\\\n",
       "\t13 & RODRIGUES\\_THYROID\\_CARCINOMA\\_POORLY\\_DIFFERENTIATED\\_DN & -0.185677 & -0.185677 \\\\\n",
       "\t14 & KIM\\_RESPONSE\\_TO\\_TSA\\_AND\\_DECITABINE\\_UP & 0.188522 & 0.188522 \\\\\n",
       "\t15 & FRIDMAN\\_SENESCENCE\\_UP & 0.182482 & 0.182482 \\\\\n",
       "\t16 & CREIGHTON\\_ENDOCRINE\\_THERAPY\\_RESISTANCE\\_2 & -0.208993 & -0.208993 \\\\\n",
       "\t17 & PAL\\_PRMT5\\_TARGETS\\_DN & 0.376395 & 0.376395 \\\\\n",
       "\t18 & REACTOME\\_NEURONAL\\_SYSTEM & -0.204304 & -0.204304 \\\\\n",
       "\t19 & REACTOME\\_LAGGING\\_STRAND\\_SYNTHESIS & -0.282165 & -0.282165 \\\\\n",
       "\t20 & REACTOME\\_O\\_LINKED\\_GLYCOSYLATION\\_OF\\_MUCINS & -0.310946 & -0.310946 \\\\\n",
       "\t21 & FUNG\\_IL2\\_SIGNALING\\_2 & 0.35146 & 0.35146 \\\\\n",
       "\t22 & BIOCARTA\\_CHREBP2\\_PATHWAY & -0.307209 & -0.307209 \\\\\n",
       "\t23 & LU\\_TUMOR\\_VASCULATURE\\_UP & 0.202195 & 0.202195 \\\\\n",
       "\t24 & PID\\_FOXM1\\_PATHWAY & 0.277737 & 0.277737 \\\\\n",
       "\t25 & LEIN\\_CHOROID\\_PLEXUS\\_MARKERS & 0.167103 & 0.167103 \\\\\n",
       "\t26 & MOOTHA\\_PGC & 0.199485 & 0.199485 \\\\\n",
       "\t27 & REACTOME\\_FGFR4\\_LIGAND\\_BINDING\\_AND\\_ACTIVATION & -0.237091 & -0.237091 \\\\\n",
       "\t28 & FERRANDO\\_TAL1\\_NEIGHBORS & -0.288671 & -0.288671 \\\\\n",
       "\t29 & HOLLEMAN\\_ASPARAGINASE\\_RESISTANCE\\_B\\_ALL\\_UP & -0.390537 & -0.390537 \\\\\n",
       "\t30 & KEGG\\_GALACTOSE\\_METABOLISM & -0.305928 & -0.305928 \\\\\n",
       "\t$\\dots$ & $\\dots$ & $\\dots$ & $\\dots$ \\\\\n",
       "\\end{tabular}\n"
      ],
      "text/plain": [
       "4762×3 DataFrame\n",
       "│ Row  │ Gene Set                                    │ Sample 1  │ Sample 2  │\n",
       "│      │ \u001b[90mString\u001b[39m                                      │ \u001b[90mFloat64\u001b[39m   │ \u001b[90mFloat64\u001b[39m   │\n",
       "├──────┼─────────────────────────────────────────────┼───────────┼───────────┤\n",
       "│ 1    │ REACTOME_EXTRACELLULAR_MATRIX_ORGANIZATION  │ -0.256298 │ -0.256298 │\n",
       "│ 2    │ GARCIA_TARGETS_OF_FLI1_AND_DAX1_UP          │ 0.216219  │ 0.216219  │\n",
       "│ 3    │ SIMBULAN_PARP1_TARGETS_UP                   │ -0.266885 │ -0.266885 │\n",
       "│ 4    │ WEI_MYCN_TARGETS_WITH_E_BOX                 │ 0.184473  │ 0.184473  │\n",
       "│ 5    │ PID_RET_PATHWAY                             │ -0.278729 │ -0.278729 │\n",
       "│ 6    │ MARIADASON_RESPONSE_TO_CURCUMIN_SULINDAC_7  │ 0.350459  │ 0.350459  │\n",
       "│ 7    │ REACTOME_GPCR_LIGAND_BINDING                │ -0.174432 │ -0.174432 │\n",
       "│ 8    │ KEGG_CYTOSOLIC_DNA_SENSING_PATHWAY          │ -0.300544 │ -0.300544 │\n",
       "│ 9    │ HOSHIDA_LIVER_CANCER_SUBCLASS_S3            │ 0.175791  │ 0.175791  │\n",
       "│ 10   │ LIAN_LIPA_TARGETS_3M                        │ 0.239595  │ 0.239595  │\n",
       "⋮\n",
       "│ 4752 │ INAMURA_LUNG_CANCER_SCC_DN                  │ 0.294874  │ 0.294874  │\n",
       "│ 4753 │ MIKKELSEN_NPC_LCP_WITH_H3K4ME3              │ 0.215724  │ 0.215724  │\n",
       "│ 4754 │ PID_MTOR_4PATHWAY                           │ -0.258512 │ -0.258512 │\n",
       "│ 4755 │ BEIER_GLIOMA_STEM_CELL_DN                   │ 0.237475  │ 0.237475  │\n",
       "│ 4756 │ REACTOME_KERATAN_SULFATE_KERATIN_METABOLISM │ -0.381897 │ -0.381897 │\n",
       "│ 4757 │ DER_IFN_GAMMA_RESPONSE_UP                   │ -0.180697 │ -0.180697 │\n",
       "│ 4758 │ STEGER_ADIPOGENESIS_DN                      │ -0.239011 │ -0.239011 │\n",
       "│ 4759 │ NIKOLSKY_BREAST_CANCER_20Q12_Q13_AMPLICON   │ -0.233575 │ -0.233575 │\n",
       "│ 4760 │ VERRECCHIA_RESPONSE_TO_TGFB1_C6             │ -0.569208 │ -0.569208 │\n",
       "│ 4761 │ SCHAEFFER_PROSTATE_DEVELOPMENT_6HR_UP       │ -0.196597 │ -0.196597 │\n",
       "│ 4762 │ GRABARCZYK_BCL11B_TARGETS_UP                │ 0.278397  │ 0.278397  │"
      ]
     },
     "execution_count": 42,
     "metadata": {},
     "output_type": "execute_result"
    }
   ],
   "source": [
    "output_directory_path = \"gsea_output\"\n",
    "\n",
    "gene_set_x_sample = Kraft.gsea(\n",
    "    \"gene_x_sample.tsv\",\n",
    "    [\n",
    "#         \"h.all.v6.2.symbols.gmt\",\n",
    "        \"c2.all.v6.2.symbols.gmt\",\n",
    "    ],\n",
    "    output_directory_path;\n",
    "    statistic = statistic,\n",
    ")\n",
    "\n",
    "gene_set_x_sample = CSV.read(joinpath(\n",
    "    output_directory_path,\n",
    "    \"gene_set_x_sample.tsv\",\n",
    "))"
   ]
  },
  {
   "cell_type": "code",
   "execution_count": 43,
   "metadata": {},
   "outputs": [
    {
     "data": {
      "text/html": [
       "<table class=\"data-frame\"><thead><tr><th></th><th>Gene Set</th><th>Sample 1</th><th>Sample 2</th></tr><tr><th></th><th>String</th><th>Float64</th><th>Float64</th></tr></thead><tbody><p>5,880 rows × 3 columns</p><tr><th>1</th><td>ABBUD_LIF_SIGNALING_1</td><td>-0.233144</td><td>-0.233144</td></tr><tr><th>2</th><td>ABBUD_LIF_SIGNALING_1_DN</td><td>0.42417</td><td>0.42417</td></tr><tr><th>3</th><td>ABBUD_LIF_SIGNALING_1_UP</td><td>0.191026</td><td>0.191026</td></tr><tr><th>4</th><td>ABBUD_LIF_SIGNALING_2</td><td>0.0211388</td><td>0.0211388</td></tr><tr><th>5</th><td>ABBUD_LIF_SIGNALING_2_DN</td><td>-0.333288</td><td>-0.333288</td></tr><tr><th>6</th><td>ABBUD_LIF_SIGNALING_2_UP</td><td>-0.31215</td><td>-0.31215</td></tr><tr><th>7</th><td>ABDELMOHSEN_ELAVL4_TARGETS</td><td>0.375821</td><td>0.375821</td></tr><tr><th>8</th><td>ABDULRAHMAN_KIDNEY_CANCER_VHL</td><td>-0.273401</td><td>-0.273401</td></tr><tr><th>9</th><td>ABDULRAHMAN_KIDNEY_CANCER_VHL_DN</td><td>-0.34352</td><td>-0.34352</td></tr><tr><th>10</th><td>ABDULRAHMAN_KIDNEY_CANCER_VHL_UP</td><td>-0.616921</td><td>-0.616921</td></tr><tr><th>11</th><td>ABE_INNER_EAR</td><td>0.260797</td><td>0.260797</td></tr><tr><th>12</th><td>ABE_VEGFA_TARGETS</td><td>-0.348593</td><td>-0.348593</td></tr><tr><th>13</th><td>ABE_VEGFA_TARGETS_2HR</td><td>0.187641</td><td>0.187641</td></tr><tr><th>14</th><td>ABE_VEGFA_TARGETS_30MIN</td><td>-0.372153</td><td>-0.372153</td></tr><tr><th>15</th><td>ABRAHAM_ALPC_VS_MULTIPLE_MYELOMA</td><td>0.189825</td><td>0.189825</td></tr><tr><th>16</th><td>ABRAHAM_ALPC_VS_MULTIPLE_MYELOMA_DN</td><td>-0.523831</td><td>-0.523831</td></tr><tr><th>17</th><td>ABRAHAM_ALPC_VS_MULTIPLE_MYELOMA_UP</td><td>-0.334005</td><td>-0.334005</td></tr><tr><th>18</th><td>ABRAMSON_INTERACT_WITH_AIRE</td><td>0.206931</td><td>0.206931</td></tr><tr><th>19</th><td>ACEVEDO_FGFR1_TARGETS_IN_PROSTATE_CANCER_MODEL</td><td>-0.00238458</td><td>-0.00238458</td></tr><tr><th>20</th><td>ACEVEDO_FGFR1_TARGETS_IN_PROSTATE_CANCER_MODEL_DN</td><td>0.207204</td><td>0.207204</td></tr><tr><th>21</th><td>ACEVEDO_FGFR1_TARGETS_IN_PROSTATE_CANCER_MODEL_UP</td><td>0.204819</td><td>0.204819</td></tr><tr><th>22</th><td>ACEVEDO_LIVER_CANCER</td><td>-0.0202111</td><td>-0.0202111</td></tr><tr><th>23</th><td>ACEVEDO_LIVER_CANCER_DN</td><td>-0.153812</td><td>-0.153812</td></tr><tr><th>24</th><td>ACEVEDO_LIVER_CANCER_UP</td><td>-0.174023</td><td>-0.174023</td></tr><tr><th>25</th><td>ACEVEDO_LIVER_CANCER_WITH_H3K27ME3</td><td>0.381679</td><td>0.381679</td></tr><tr><th>26</th><td>ACEVEDO_LIVER_CANCER_WITH_H3K27ME3_DN</td><td>-0.200911</td><td>-0.200911</td></tr><tr><th>27</th><td>ACEVEDO_LIVER_CANCER_WITH_H3K27ME3_UP</td><td>0.180768</td><td>0.180768</td></tr><tr><th>28</th><td>ACEVEDO_LIVER_CANCER_WITH_H3K9ME3</td><td>0.0302177</td><td>0.0302177</td></tr><tr><th>29</th><td>ACEVEDO_LIVER_CANCER_WITH_H3K9ME3_DN</td><td>-0.224216</td><td>-0.224216</td></tr><tr><th>30</th><td>ACEVEDO_LIVER_CANCER_WITH_H3K9ME3_UP</td><td>-0.193998</td><td>-0.193998</td></tr><tr><th>&vellip;</th><td>&vellip;</td><td>&vellip;</td><td>&vellip;</td></tr></tbody></table>"
      ],
      "text/latex": [
       "\\begin{tabular}{r|ccc}\n",
       "\t& Gene Set & Sample 1 & Sample 2\\\\\n",
       "\t\\hline\n",
       "\t& String & Float64 & Float64\\\\\n",
       "\t\\hline\n",
       "\t1 & ABBUD\\_LIF\\_SIGNALING\\_1 & -0.233144 & -0.233144 \\\\\n",
       "\t2 & ABBUD\\_LIF\\_SIGNALING\\_1\\_DN & 0.42417 & 0.42417 \\\\\n",
       "\t3 & ABBUD\\_LIF\\_SIGNALING\\_1\\_UP & 0.191026 & 0.191026 \\\\\n",
       "\t4 & ABBUD\\_LIF\\_SIGNALING\\_2 & 0.0211388 & 0.0211388 \\\\\n",
       "\t5 & ABBUD\\_LIF\\_SIGNALING\\_2\\_DN & -0.333288 & -0.333288 \\\\\n",
       "\t6 & ABBUD\\_LIF\\_SIGNALING\\_2\\_UP & -0.31215 & -0.31215 \\\\\n",
       "\t7 & ABDELMOHSEN\\_ELAVL4\\_TARGETS & 0.375821 & 0.375821 \\\\\n",
       "\t8 & ABDULRAHMAN\\_KIDNEY\\_CANCER\\_VHL & -0.273401 & -0.273401 \\\\\n",
       "\t9 & ABDULRAHMAN\\_KIDNEY\\_CANCER\\_VHL\\_DN & -0.34352 & -0.34352 \\\\\n",
       "\t10 & ABDULRAHMAN\\_KIDNEY\\_CANCER\\_VHL\\_UP & -0.616921 & -0.616921 \\\\\n",
       "\t11 & ABE\\_INNER\\_EAR & 0.260797 & 0.260797 \\\\\n",
       "\t12 & ABE\\_VEGFA\\_TARGETS & -0.348593 & -0.348593 \\\\\n",
       "\t13 & ABE\\_VEGFA\\_TARGETS\\_2HR & 0.187641 & 0.187641 \\\\\n",
       "\t14 & ABE\\_VEGFA\\_TARGETS\\_30MIN & -0.372153 & -0.372153 \\\\\n",
       "\t15 & ABRAHAM\\_ALPC\\_VS\\_MULTIPLE\\_MYELOMA & 0.189825 & 0.189825 \\\\\n",
       "\t16 & ABRAHAM\\_ALPC\\_VS\\_MULTIPLE\\_MYELOMA\\_DN & -0.523831 & -0.523831 \\\\\n",
       "\t17 & ABRAHAM\\_ALPC\\_VS\\_MULTIPLE\\_MYELOMA\\_UP & -0.334005 & -0.334005 \\\\\n",
       "\t18 & ABRAMSON\\_INTERACT\\_WITH\\_AIRE & 0.206931 & 0.206931 \\\\\n",
       "\t19 & ACEVEDO\\_FGFR1\\_TARGETS\\_IN\\_PROSTATE\\_CANCER\\_MODEL & -0.00238458 & -0.00238458 \\\\\n",
       "\t20 & ACEVEDO\\_FGFR1\\_TARGETS\\_IN\\_PROSTATE\\_CANCER\\_MODEL\\_DN & 0.207204 & 0.207204 \\\\\n",
       "\t21 & ACEVEDO\\_FGFR1\\_TARGETS\\_IN\\_PROSTATE\\_CANCER\\_MODEL\\_UP & 0.204819 & 0.204819 \\\\\n",
       "\t22 & ACEVEDO\\_LIVER\\_CANCER & -0.0202111 & -0.0202111 \\\\\n",
       "\t23 & ACEVEDO\\_LIVER\\_CANCER\\_DN & -0.153812 & -0.153812 \\\\\n",
       "\t24 & ACEVEDO\\_LIVER\\_CANCER\\_UP & -0.174023 & -0.174023 \\\\\n",
       "\t25 & ACEVEDO\\_LIVER\\_CANCER\\_WITH\\_H3K27ME3 & 0.381679 & 0.381679 \\\\\n",
       "\t26 & ACEVEDO\\_LIVER\\_CANCER\\_WITH\\_H3K27ME3\\_DN & -0.200911 & -0.200911 \\\\\n",
       "\t27 & ACEVEDO\\_LIVER\\_CANCER\\_WITH\\_H3K27ME3\\_UP & 0.180768 & 0.180768 \\\\\n",
       "\t28 & ACEVEDO\\_LIVER\\_CANCER\\_WITH\\_H3K9ME3 & 0.0302177 & 0.0302177 \\\\\n",
       "\t29 & ACEVEDO\\_LIVER\\_CANCER\\_WITH\\_H3K9ME3\\_DN & -0.224216 & -0.224216 \\\\\n",
       "\t30 & ACEVEDO\\_LIVER\\_CANCER\\_WITH\\_H3K9ME3\\_UP & -0.193998 & -0.193998 \\\\\n",
       "\t$\\dots$ & $\\dots$ & $\\dots$ & $\\dots$ \\\\\n",
       "\\end{tabular}\n"
      ],
      "text/plain": [
       "5880×3 DataFrame\n",
       "│ Row  │ Gene Set                                   │ Sample 1   │ Sample 2   │\n",
       "│      │ \u001b[90mString\u001b[39m                                     │ \u001b[90mFloat64\u001b[39m    │ \u001b[90mFloat64\u001b[39m    │\n",
       "├──────┼────────────────────────────────────────────┼────────────┼────────────┤\n",
       "│ 1    │ ABBUD_LIF_SIGNALING_1                      │ -0.233144  │ -0.233144  │\n",
       "│ 2    │ ABBUD_LIF_SIGNALING_1_DN                   │ 0.42417    │ 0.42417    │\n",
       "│ 3    │ ABBUD_LIF_SIGNALING_1_UP                   │ 0.191026   │ 0.191026   │\n",
       "│ 4    │ ABBUD_LIF_SIGNALING_2                      │ 0.0211388  │ 0.0211388  │\n",
       "│ 5    │ ABBUD_LIF_SIGNALING_2_DN                   │ -0.333288  │ -0.333288  │\n",
       "│ 6    │ ABBUD_LIF_SIGNALING_2_UP                   │ -0.31215   │ -0.31215   │\n",
       "│ 7    │ ABDELMOHSEN_ELAVL4_TARGETS                 │ 0.375821   │ 0.375821   │\n",
       "│ 8    │ ABDULRAHMAN_KIDNEY_CANCER_VHL              │ -0.273401  │ -0.273401  │\n",
       "│ 9    │ ABDULRAHMAN_KIDNEY_CANCER_VHL_DN           │ -0.34352   │ -0.34352   │\n",
       "│ 10   │ ABDULRAHMAN_KIDNEY_CANCER_VHL_UP           │ -0.616921  │ -0.616921  │\n",
       "⋮\n",
       "│ 5870 │ ZWANG_CLASS_2_TRANSIENTLY_INDUCED_BY_EGF   │ -0.258453  │ -0.258453  │\n",
       "│ 5871 │ ZWANG_CLASS_3_TRANSIENTLY_INDUCED_BY_EGF   │ 0.1804     │ 0.1804     │\n",
       "│ 5872 │ ZWANG_DOWN_BY_2ND_EGF_PULSE                │ 0.215098   │ 0.215098   │\n",
       "│ 5873 │ ZWANG_EGF_INTERVAL                         │ -0.0568226 │ -0.0568226 │\n",
       "│ 5874 │ ZWANG_EGF_INTERVAL_DN                      │ 0.220181   │ 0.220181   │\n",
       "│ 5875 │ ZWANG_EGF_INTERVAL_UP                      │ 0.163359   │ 0.163359   │\n",
       "│ 5876 │ ZWANG_EGF_PERSISTENTLY                     │ 0.0181568  │ 0.0181568  │\n",
       "│ 5877 │ ZWANG_EGF_PERSISTENTLY_DN                  │ 0.253954   │ 0.253954   │\n",
       "│ 5878 │ ZWANG_EGF_PERSISTENTLY_UP                  │ 0.272111   │ 0.272111   │\n",
       "│ 5879 │ ZWANG_TRANSIENTLY_UP_BY_1ST_EGF_PULSE_ONLY │ 0.158866   │ 0.158866   │\n",
       "│ 5880 │ ZWANG_TRANSIENTLY_UP_BY_2ND_EGF_PULSE_ONLY │ 0.159082   │ 0.159082   │"
      ]
     },
     "execution_count": 43,
     "metadata": {},
     "output_type": "execute_result"
    }
   ],
   "source": [
    "gene_sets = gene_set_x_sample[:, Symbol(\"Gene Set\")]\n",
    "\n",
    "gene_set_combined_x_sample = DataFrame(Dict(n => Array{t, 1}() for (n, t) in zip(\n",
    "    names(gene_set_x_sample),\n",
    "    eltypes(gene_set_x_sample),\n",
    ")))\n",
    "\n",
    "for gene_set in gene_sets\n",
    "    \n",
    "    if endswith(\n",
    "        gene_set,\n",
    "        \"_DN\",\n",
    "    ) || endswith(\n",
    "        gene_set,\n",
    "        \"_UP\",\n",
    "    )\n",
    "        \n",
    "        gene_set_combined = gene_set[1:end - 3]\n",
    "        \n",
    "        if gene_set_combined in gene_set_combined_x_sample[:, Symbol(\"Gene Set\")]\n",
    "            \n",
    "            continue\n",
    "            \n",
    "        end\n",
    "        \n",
    "        gene_set_dn = \"$(gene_set_combined)_DN\"\n",
    "        \n",
    "        gene_set_up = \"$(gene_set_combined)_UP\"\n",
    "        \n",
    "        dn_values = gene_set_x_sample[gene_sets .== gene_set_dn, 2:end]\n",
    "        \n",
    "        up_values = gene_set_x_sample[gene_sets .== gene_set_up, 2:end]\n",
    "        \n",
    "        if size(\n",
    "            dn_values,\n",
    "            1,\n",
    "        ) == 0 || size(\n",
    "            up_values,\n",
    "            1,\n",
    "        ) == 0\n",
    "            \n",
    "            continue\n",
    "            \n",
    "        end\n",
    "        \n",
    "        combined_values = up_values .- dn_values\n",
    "         \n",
    "        insertcols!(\n",
    "            combined_values,\n",
    "            1,\n",
    "            Symbol(\"Gene Set\") => gene_set_combined,\n",
    "        )\n",
    "        \n",
    "        push!(\n",
    "            gene_set_combined_x_sample,\n",
    "            combined_values[1, :],\n",
    "        )\n",
    "        \n",
    "    end\n",
    "        \n",
    "end\n",
    "\n",
    "sort(\n",
    "    vcat(\n",
    "        gene_set_x_sample,\n",
    "        gene_set_combined_x_sample,\n",
    "    ),\n",
    "    Symbol(\"Gene Set\"),\n",
    ")"
   ]
  }
 ],
 "metadata": {
  "@webio": {
   "lastCommId": null,
   "lastKernelId": null
  },
  "kernelspec": {
   "display_name": "Julia 1.0.3",
   "language": "julia",
   "name": "julia-1.0"
  },
  "language_info": {
   "file_extension": ".jl",
   "mimetype": "application/julia",
   "name": "julia",
   "version": "1.0.3"
  }
 },
 "nbformat": 4,
 "nbformat_minor": 4
}
