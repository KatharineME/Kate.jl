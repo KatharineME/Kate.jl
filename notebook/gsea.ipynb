{
 "cells": [
  {
   "cell_type": "code",
   "execution_count": 1,
   "metadata": {},
   "outputs": [
    {
     "data": {
      "text/plain": [
       "Main.Kraft"
      ]
     },
     "execution_count": 1,
     "metadata": {},
     "output_type": "execute_result"
    }
   ],
   "source": [
    "include(\"/home/kwat/github/Kraft.jl/src/Kraft.jl\")"
   ]
  },
  {
   "cell_type": "code",
   "execution_count": 2,
   "metadata": {},
   "outputs": [
    {
     "ename": "UndefVarError",
     "evalue": "UndefVarError: read_gmt not defined",
     "output_type": "error",
     "traceback": [
      "UndefVarError: read_gmt not defined",
      "",
      "Stacktrace:",
      " [1] top-level scope at In[2]:1"
     ]
    }
   ],
   "source": [
    "read_gmt"
   ]
  },
  {
   "cell_type": "code",
   "execution_count": 2,
   "metadata": {},
   "outputs": [
    {
     "ename": "UndefVarError",
     "evalue": "UndefVarError: read_gmt not defined",
     "output_type": "error",
     "traceback": [
      "UndefVarError: read_gmt not defined",
      "",
      "Stacktrace:",
      " [1] top-level scope at In[2]:7"
     ]
    }
   ],
   "source": [
    "const genes = readlines(\"/home/kwat/github/kraft/notebook/genes.txt\")[2:end];\n",
    "\n",
    "const scores = fill(\n",
    "    1 / length(genes),\n",
    "    length(genes),\n",
    ");\n",
    "\n",
    "const gene_set_dict = read_gmt(\"/home/kwat/garden/data/gene_set/msigdb_v6.2/h.all.v6.2.symbols.gmt\")\n",
    "\n",
    "const gene_set_genes = sort(gene_set_dict[sort(collect(keys(gene_set_dict)))[1]]);"
   ]
  },
  {
   "cell_type": "code",
   "execution_count": null,
   "metadata": {},
   "outputs": [],
   "source": [
    "using BenchmarkTools"
   ]
  },
  {
   "cell_type": "code",
   "execution_count": null,
   "metadata": {},
   "outputs": [],
   "source": [
    "const gene_rank = Dict(zip(\n",
    "    genes,\n",
    "    1:length(genes),\n",
    "))\n",
    "\n",
    "const hits = make_hits(\n",
    "    genes,\n",
    "    gene_set_genes,\n",
    ")"
   ]
  },
  {
   "cell_type": "code",
   "execution_count": null,
   "metadata": {},
   "outputs": [],
   "source": [
    "function compute_gene_set_enrichment(\n",
    "    genes::Array{String, 1},\n",
    "    scores::Array{Float64, 1},\n",
    "    gene_set_genes::Array{String, 1},\n",
    "    hits::Array{Int64, 1},\n",
    ")\n",
    "    \n",
    "    # 1ns\n",
    "    n = length(genes)\n",
    "    \n",
    "    # 2us\n",
    "    cumulative_sum = Array{Float64, 1}(\n",
    "        undef,\n",
    "        n,\n",
    "    )\n",
    "    \n",
    "    # 13us\n",
    "    hit_scores_sum = sum_hit_scores(\n",
    "        scores,\n",
    "        hits,\n",
    "    )\n",
    "    \n",
    "    # 6us\n",
    "    d_down = -1 / (n - sum_hits(hits))\n",
    "    \n",
    "    # 0.01ns\n",
    "    value = 0.0\n",
    "    \n",
    "    # 0.01ns\n",
    "    auc = 0.0\n",
    "    \n",
    "    # 0.01ns\n",
    "    min_ = 0.0\n",
    "    \n",
    "    # 0.01ns\n",
    "    max_ = 0.0\n",
    "    \n",
    "    @inbounds @fastmath @simd for i in 1:n\n",
    "        \n",
    "        if hits[i] == 1\n",
    "            \n",
    "            value += abs(scores[i]) / hit_scores_sum\n",
    "            \n",
    "        else\n",
    "            \n",
    "            value += d_down\n",
    "            \n",
    "        end\n",
    "        \n",
    "        # 50us\n",
    "        cumulative_sum[i] = value\n",
    "        \n",
    "        auc += value\n",
    "        \n",
    "        if value < min_\n",
    "            \n",
    "            min_ = value\n",
    "            \n",
    "        elseif max_ < value\n",
    "            \n",
    "            max_ = value\n",
    "            \n",
    "        end\n",
    "            \n",
    "    end\n",
    "    \n",
    "    cumulative_sum, auc, min_, max_\n",
    "    \n",
    "end\n",
    "\n",
    "\n",
    "@benchmark compute_gene_set_enrichment(\n",
    "    genes,\n",
    "    scores,\n",
    "    gene_set_genes,\n",
    "    hits,\n",
    ")"
   ]
  },
  {
   "cell_type": "code",
   "execution_count": null,
   "metadata": {},
   "outputs": [],
   "source": [
    "using PyCall"
   ]
  },
  {
   "cell_type": "code",
   "execution_count": null,
   "metadata": {},
   "outputs": [],
   "source": [
    "pd = pyimport(\"pandas\")\n",
    "\n",
    "kraft = pyimport(\"kraft\")"
   ]
  },
  {
   "cell_type": "code",
   "execution_count": null,
   "metadata": {},
   "outputs": [],
   "source": [
    "gene_score = pd.Series(\n",
    "    scores,\n",
    "    index=genes,\n",
    ")"
   ]
  },
  {
   "cell_type": "code",
   "execution_count": null,
   "metadata": {},
   "outputs": [],
   "source": [
    "println(kraft.run_single_sample_gsea(\n",
    "    gene_score,\n",
    "    gene_set_genes,\n",
    "    hit=hits,\n",
    "    plot=false,\n",
    "))\n",
    "\n",
    "@benchmark kraft.run_single_sample_gsea(\n",
    "    gene_score,\n",
    "    gene_set_genes,\n",
    "    hit=hits,\n",
    "    plot=false,\n",
    ")"
   ]
  }
 ],
 "metadata": {
  "@webio": {
   "lastCommId": null,
   "lastKernelId": null
  },
  "kernelspec": {
   "display_name": "Julia 1.0.3",
   "language": "julia",
   "name": "julia-1.0"
  },
  "language_info": {
   "file_extension": ".jl",
   "mimetype": "application/julia",
   "name": "julia",
   "version": "1.0.3"
  }
 },
 "nbformat": 4,
 "nbformat_minor": 4
}
