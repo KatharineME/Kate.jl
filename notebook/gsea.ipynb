{
 "cells": [
  {
   "cell_type": "code",
   "execution_count": 1,
   "metadata": {},
   "outputs": [
    {
     "data": {
      "text/plain": [
       "Main.Kraft"
      ]
     },
     "execution_count": 1,
     "metadata": {},
     "output_type": "execute_result"
    }
   ],
   "source": [
    "include(\"/home/kwat/github/Kraft.jl/src/Kraft.jl\")"
   ]
  },
  {
   "cell_type": "code",
   "execution_count": 2,
   "metadata": {},
   "outputs": [
    {
     "data": {
      "text/plain": [
       "57954-element Array{String,1}:\n",
       " \"MIR628\"    \n",
       " \"RNU6-871P\" \n",
       " \"MIR626\"    \n",
       " \"AC012314.7\"\n",
       " \"GHRLOS\"    \n",
       " \"RNU6-35P\"  \n",
       " \"MIR5694\"   \n",
       " \"RNU6-1157P\"\n",
       " \"MIR6861\"   \n",
       " \"RNU4-85P\"  \n",
       " \"MIR6759\"   \n",
       " \"MIR4491\"   \n",
       " \"RNU6-1162P\"\n",
       " ⋮           \n",
       " \"KP420441.2\"\n",
       " \"KP420444.3\"\n",
       " \"KP420444.4\"\n",
       " \"KP420441.4\"\n",
       " \"KP420446.2\"\n",
       " \"KP420441.1\"\n",
       " \"KP420441.3\"\n",
       " \"KP420441.5\"\n",
       " \"KP420440.2\"\n",
       " \"KP420440.6\"\n",
       " \"KP420440.5\"\n",
       " \"KP420446.1\""
      ]
     },
     "execution_count": 2,
     "metadata": {},
     "output_type": "execute_result"
    }
   ],
   "source": [
    "const genes = readlines(\"/home/kwat/github/kraft/notebook/genes.txt\")[2:end]"
   ]
  },
  {
   "cell_type": "code",
   "execution_count": 3,
   "metadata": {},
   "outputs": [
    {
     "data": {
      "text/plain": [
       "57954-element Array{Float64,1}:\n",
       " -0.05852778176973376\n",
       " -2.8196198283190603 \n",
       " -0.28088062377215584\n",
       " -0.3917861786131022 \n",
       "  2.4879165033827566 \n",
       "  2.843291404300278  \n",
       "  0.3423687278454775 \n",
       "  0.5436029489082255 \n",
       " -0.04050401570616674\n",
       "  0.09092007834951986\n",
       " -0.14816846782813053\n",
       " -0.12477048170572634\n",
       " -0.4324583311950434 \n",
       "  ⋮                  \n",
       "  1.1697069022733606 \n",
       " -0.1787183424938068 \n",
       "  0.0627770065956981 \n",
       " -0.9106337104547478 \n",
       "  0.378384206161897  \n",
       " -1.0060890938104943 \n",
       " -0.19435377412182483\n",
       " -0.8107615147776325 \n",
       " -1.5110164915119069 \n",
       "  0.2583863106075234 \n",
       "  0.13024577331366452\n",
       "  1.4197511611581088 "
      ]
     },
     "execution_count": 3,
     "metadata": {},
     "output_type": "execute_result"
    }
   ],
   "source": [
    "# const gene_values = fill(\n",
    "#     1 / length(genes),\n",
    "#     length(genes),\n",
    "# )\n",
    "const gene_values = randn(length(genes))"
   ]
  },
  {
   "cell_type": "code",
   "execution_count": 4,
   "metadata": {},
   "outputs": [],
   "source": [
    "using DataFrames"
   ]
  },
  {
   "cell_type": "code",
   "execution_count": 5,
   "metadata": {},
   "outputs": [
    {
     "data": {
      "text/html": [
       "<table class=\"data-frame\"><thead><tr><th></th><th>Gene</th><th>Sample 1</th><th>Sample 2</th></tr><tr><th></th><th>String</th><th>Float64</th><th>Float64</th></tr></thead><tbody><p>57,954 rows × 3 columns</p><tr><th>1</th><td>MIR628</td><td>-0.0585278</td><td>-0.585278</td></tr><tr><th>2</th><td>RNU6-871P</td><td>-2.81962</td><td>-28.1962</td></tr><tr><th>3</th><td>MIR626</td><td>-0.280881</td><td>-2.80881</td></tr><tr><th>4</th><td>AC012314.7</td><td>-0.391786</td><td>-3.91786</td></tr><tr><th>5</th><td>GHRLOS</td><td>2.48792</td><td>24.8792</td></tr><tr><th>6</th><td>RNU6-35P</td><td>2.84329</td><td>28.4329</td></tr><tr><th>7</th><td>MIR5694</td><td>0.342369</td><td>3.42369</td></tr><tr><th>8</th><td>RNU6-1157P</td><td>0.543603</td><td>5.43603</td></tr><tr><th>9</th><td>MIR6861</td><td>-0.040504</td><td>-0.40504</td></tr><tr><th>10</th><td>RNU4-85P</td><td>0.0909201</td><td>0.909201</td></tr><tr><th>11</th><td>MIR6759</td><td>-0.148168</td><td>-1.48168</td></tr><tr><th>12</th><td>MIR4491</td><td>-0.12477</td><td>-1.2477</td></tr><tr><th>13</th><td>RNU6-1162P</td><td>-0.432458</td><td>-4.32458</td></tr><tr><th>14</th><td>RNU1-63P</td><td>0.94293</td><td>9.4293</td></tr><tr><th>15</th><td>hsa-mir-3158-1</td><td>0.51106</td><td>5.1106</td></tr><tr><th>16</th><td>RNU6-528P</td><td>1.58022</td><td>15.8022</td></tr><tr><th>17</th><td>Y_RNA</td><td>0.239149</td><td>2.39149</td></tr><tr><th>18</th><td>RN7SKP189</td><td>-0.759385</td><td>-7.59385</td></tr><tr><th>19</th><td>Metazoa_SRP</td><td>2.46389</td><td>24.6389</td></tr><tr><th>20</th><td>SNORD115-18</td><td>0.226797</td><td>2.26797</td></tr><tr><th>21</th><td>SNORA24</td><td>0.980132</td><td>9.80132</td></tr><tr><th>22</th><td>RNA5SP198</td><td>1.02479</td><td>10.2479</td></tr><tr><th>23</th><td>RNU7-153P</td><td>0.00680252</td><td>0.0680252</td></tr><tr><th>24</th><td>RNA5SP486</td><td>0.00545808</td><td>0.0545808</td></tr><tr><th>25</th><td>RN7SKP47</td><td>0.111278</td><td>1.11278</td></tr><tr><th>26</th><td>RN7SL153P</td><td>-0.185714</td><td>-1.85714</td></tr><tr><th>27</th><td>RNU6-123P</td><td>-0.938958</td><td>-9.38958</td></tr><tr><th>28</th><td>SNORA3B</td><td>-0.0580044</td><td>-0.580044</td></tr><tr><th>29</th><td>U6</td><td>-1.64064</td><td>-16.4064</td></tr><tr><th>30</th><td>RNU6-160P</td><td>-1.10069</td><td>-11.0069</td></tr><tr><th>&vellip;</th><td>&vellip;</td><td>&vellip;</td><td>&vellip;</td></tr></tbody></table>"
      ],
      "text/latex": [
       "\\begin{tabular}{r|ccc}\n",
       "\t& Gene & Sample 1 & Sample 2\\\\\n",
       "\t\\hline\n",
       "\t& String & Float64 & Float64\\\\\n",
       "\t\\hline\n",
       "\t1 & MIR628 & -0.0585278 & -0.585278 \\\\\n",
       "\t2 & RNU6-871P & -2.81962 & -28.1962 \\\\\n",
       "\t3 & MIR626 & -0.280881 & -2.80881 \\\\\n",
       "\t4 & AC012314.7 & -0.391786 & -3.91786 \\\\\n",
       "\t5 & GHRLOS & 2.48792 & 24.8792 \\\\\n",
       "\t6 & RNU6-35P & 2.84329 & 28.4329 \\\\\n",
       "\t7 & MIR5694 & 0.342369 & 3.42369 \\\\\n",
       "\t8 & RNU6-1157P & 0.543603 & 5.43603 \\\\\n",
       "\t9 & MIR6861 & -0.040504 & -0.40504 \\\\\n",
       "\t10 & RNU4-85P & 0.0909201 & 0.909201 \\\\\n",
       "\t11 & MIR6759 & -0.148168 & -1.48168 \\\\\n",
       "\t12 & MIR4491 & -0.12477 & -1.2477 \\\\\n",
       "\t13 & RNU6-1162P & -0.432458 & -4.32458 \\\\\n",
       "\t14 & RNU1-63P & 0.94293 & 9.4293 \\\\\n",
       "\t15 & hsa-mir-3158-1 & 0.51106 & 5.1106 \\\\\n",
       "\t16 & RNU6-528P & 1.58022 & 15.8022 \\\\\n",
       "\t17 & Y\\_RNA & 0.239149 & 2.39149 \\\\\n",
       "\t18 & RN7SKP189 & -0.759385 & -7.59385 \\\\\n",
       "\t19 & Metazoa\\_SRP & 2.46389 & 24.6389 \\\\\n",
       "\t20 & SNORD115-18 & 0.226797 & 2.26797 \\\\\n",
       "\t21 & SNORA24 & 0.980132 & 9.80132 \\\\\n",
       "\t22 & RNA5SP198 & 1.02479 & 10.2479 \\\\\n",
       "\t23 & RNU7-153P & 0.00680252 & 0.0680252 \\\\\n",
       "\t24 & RNA5SP486 & 0.00545808 & 0.0545808 \\\\\n",
       "\t25 & RN7SKP47 & 0.111278 & 1.11278 \\\\\n",
       "\t26 & RN7SL153P & -0.185714 & -1.85714 \\\\\n",
       "\t27 & RNU6-123P & -0.938958 & -9.38958 \\\\\n",
       "\t28 & SNORA3B & -0.0580044 & -0.580044 \\\\\n",
       "\t29 & U6 & -1.64064 & -16.4064 \\\\\n",
       "\t30 & RNU6-160P & -1.10069 & -11.0069 \\\\\n",
       "\t$\\dots$ & $\\dots$ & $\\dots$ & $\\dots$ \\\\\n",
       "\\end{tabular}\n"
      ],
      "text/plain": [
       "57954×3 DataFrame\n",
       "│ Row   │ Gene       │ Sample 1   │ Sample 2  │\n",
       "│       │ \u001b[90mString\u001b[39m     │ \u001b[90mFloat64\u001b[39m    │ \u001b[90mFloat64\u001b[39m   │\n",
       "├───────┼────────────┼────────────┼───────────┤\n",
       "│ 1     │ MIR628     │ -0.0585278 │ -0.585278 │\n",
       "│ 2     │ RNU6-871P  │ -2.81962   │ -28.1962  │\n",
       "│ 3     │ MIR626     │ -0.280881  │ -2.80881  │\n",
       "│ 4     │ AC012314.7 │ -0.391786  │ -3.91786  │\n",
       "│ 5     │ GHRLOS     │ 2.48792    │ 24.8792   │\n",
       "│ 6     │ RNU6-35P   │ 2.84329    │ 28.4329   │\n",
       "│ 7     │ MIR5694    │ 0.342369   │ 3.42369   │\n",
       "│ 8     │ RNU6-1157P │ 0.543603   │ 5.43603   │\n",
       "│ 9     │ MIR6861    │ -0.040504  │ -0.40504  │\n",
       "│ 10    │ RNU4-85P   │ 0.0909201  │ 0.909201  │\n",
       "⋮\n",
       "│ 57944 │ KP420444.3 │ -0.178718  │ -1.78718  │\n",
       "│ 57945 │ KP420444.4 │ 0.062777   │ 0.62777   │\n",
       "│ 57946 │ KP420441.4 │ -0.910634  │ -9.10634  │\n",
       "│ 57947 │ KP420446.2 │ 0.378384   │ 3.78384   │\n",
       "│ 57948 │ KP420441.1 │ -1.00609   │ -10.0609  │\n",
       "│ 57949 │ KP420441.3 │ -0.194354  │ -1.94354  │\n",
       "│ 57950 │ KP420441.5 │ -0.810762  │ -8.10762  │\n",
       "│ 57951 │ KP420440.2 │ -1.51102   │ -15.1102  │\n",
       "│ 57952 │ KP420440.6 │ 0.258386   │ 2.58386   │\n",
       "│ 57953 │ KP420440.5 │ 0.130246   │ 1.30246   │\n",
       "│ 57954 │ KP420446.1 │ 1.41975    │ 14.1975   │"
      ]
     },
     "execution_count": 5,
     "metadata": {},
     "output_type": "execute_result"
    }
   ],
   "source": [
    "const gene_x_sample = DataFrame(\n",
    "    Symbol(\"Gene\") => genes,\n",
    "    Symbol(\"Sample 1\") => gene_values,\n",
    "    Symbol(\"Sample 2\") => gene_values * 10,\n",
    ")"
   ]
  },
  {
   "cell_type": "code",
   "execution_count": 6,
   "metadata": {},
   "outputs": [],
   "source": [
    "using StatsBase"
   ]
  },
  {
   "cell_type": "code",
   "execution_count": 7,
   "metadata": {},
   "outputs": [
    {
     "data": {
      "text/plain": [
       "100-element Array{String,1}:\n",
       " \"UPK2\"      \n",
       " \"ITIH2\"     \n",
       " \"STRIP2\"    \n",
       " \"CXCR2\"     \n",
       " \"RNU1-79P\"  \n",
       " \"OTUD7A\"    \n",
       " \"MIR651\"    \n",
       " \"AC110768.1\"\n",
       " \"TEKT4P2\"   \n",
       " \"RNU6-483P\" \n",
       " \"PCBP1\"     \n",
       " \"ASCL5\"     \n",
       " \"SNORD20\"   \n",
       " ⋮           \n",
       " \"AP006216.1\"\n",
       " \"AC092807.2\"\n",
       " \"LDHAP1\"    \n",
       " \"DUX4L4\"    \n",
       " \"SMIM15-AS1\"\n",
       " \"E2F6P2\"    \n",
       " \"ARL3\"      \n",
       " \"AC022022.2\"\n",
       " \"OTUD6B\"    \n",
       " \"AL512360.1\"\n",
       " \"TOMM20\"    \n",
       " \"AP000757.2\""
      ]
     },
     "execution_count": 7,
     "metadata": {},
     "output_type": "execute_result"
    }
   ],
   "source": [
    "const random_gene_set_genes = sample(\n",
    "    genes,\n",
    "    100,\n",
    "    replace = false,\n",
    ")"
   ]
  },
  {
   "cell_type": "code",
   "execution_count": 8,
   "metadata": {},
   "outputs": [
    {
     "data": {
      "text/plain": [
       "Dict{String,Array{String,1}} with 50 entries:\n",
       "  \"HALLMARK_REACTIVE_OXIGE… => [\"GSR\", \"PRDX2\", \"TXNRD1\", \"SOD1\", \"GCLC\", \"CAT\"…\n",
       "  \"HALLMARK_ANGIOGENESIS\"   => [\"VCAN\", \"POSTN\", \"FSTL1\", \"LRPAP1\", \"STC1\", \"LP…\n",
       "  \"HALLMARK_MYOGENESIS\"     => [\"ACTA1\", \"TNNI2\", \"MYL1\", \"TNNC1\", \"TNNC2\", \"MY…\n",
       "  \"HALLMARK_PEROXISOME\"     => [\"ABCD3\", \"ACOT8\", \"ACOX1\", \"ACSL1\", \"ECH1\", \"EC…\n",
       "  \"HALLMARK_UV_RESPONSE_DN\" => [\"TJP1\", \"NFIB\", \"TGFBR3\", \"TFPI\", \"MMP16\", \"ABC…\n",
       "  \"HALLMARK_NOTCH_SIGNALIN… => [\"JAG1\", \"NOTCH3\", \"NOTCH2\", \"APH1A\", \"HES1\", \"C…\n",
       "  \"HALLMARK_ANDROGEN_RESPO… => [\"KLK3\", \"KLK2\", \"ACSL3\", \"PIAS1\", \"CAMKK2\", \"NK…\n",
       "  \"HALLMARK_ALLOGRAFT_REJE… => [\"PTPRC\", \"IL12B\", \"TGFB1\", \"IL12A\", \"CD3E\", \"CD…\n",
       "  \"HALLMARK_ESTROGEN_RESPO… => [\"TFF1\", \"SLC9A3R1\", \"TPD52L1\", \"PRSS23\", \"CA12\"…\n",
       "  \"HALLMARK_G2M_CHECKPOINT\" => [\"AURKA\", \"CCNA2\", \"TOP2A\", \"CCNB2\", \"CENPA\", \"B…\n",
       "  \"HALLMARK_MYC_TARGETS_V2\" => [\"SLC19A1\", \"MRTO4\", \"TMEM97\", \"RRP9\", \"PES1\", \"…\n",
       "  \"HALLMARK_APOPTOSIS\"      => [\"CASP3\", \"CASP9\", \"DFFA\", \"CASP7\", \"CFLAR\", \"BI…\n",
       "  \"HALLMARK_P53_PATHWAY\"    => [\"CDKN1A\", \"BTG2\", \"MDM2\", \"CCNG1\", \"FAS\", \"TOB1…\n",
       "  \"HALLMARK_UNFOLDED_PROTE… => [\"ATF4\", \"HERPUD1\", \"PARN\", \"EXOSC4\", \"HSP90B1\",…\n",
       "  \"HALLMARK_ADIPOGENESIS\"   => [\"FABP4\", \"ADIPOQ\", \"PPARG\", \"LIPE\", \"DGAT1\", \"L…\n",
       "  \"HALLMARK_DNA_REPAIR\"     => [\"POLR2H\", \"POLR2A\", \"POLR2G\", \"POLR2E\", \"POLR2J…\n",
       "  \"HALLMARK_EPITHELIAL_MES… => [\"COL3A1\", \"COL5A2\", \"COL5A1\", \"FBN1\", \"COL1A1\",…\n",
       "  \"HALLMARK_OXIDATIVE_PHOS… => [\"NDUFS3\", \"UQCRB\", \"NDUFS2\", \"SDHA\", \"UQCRC1\", …\n",
       "  \"HALLMARK_HEME_METABOLIS… => [\"ALAS2\", \"PPOX\", \"FECH\", \"HMBS\", \"GYPB\", \"ALAD\"…\n",
       "  \"HALLMARK_MITOTIC_SPINDL… => [\"ARHGEF2\", \"CLASP1\", \"KIF11\", \"KIF23\", \"ALS2\", …\n",
       "  \"HALLMARK_FATTY_ACID_MET… => [\"ACAA1\", \"ACAA2\", \"ACADL\", \"ACADM\", \"ACOT8\", \"A…\n",
       "  \"HALLMARK_COMPLEMENT\"     => [\"C2\", \"C1S\", \"CFB\", \"C1R\", \"SERPINE1\", \"MMP14\",…\n",
       "  \"HALLMARK_APICAL_SURFACE\" => [\"B4GALT1\", \"RHCG\", \"MAL\", \"LYPD3\", \"PKHD1\", \"AT…\n",
       "  \"HALLMARK_ESTROGEN_RESPO… => [\"GREB1\", \"CA12\", \"SLC9A3R1\", \"MYB\", \"ANXA9\", \"I…\n",
       "  \"HALLMARK_INTERFERON_GAM… => [\"STAT1\", \"ISG15\", \"IFIT1\", \"MX1\", \"IFIT3\", \"IFI…\n",
       "  ⋮                         => ⋮"
      ]
     },
     "execution_count": 8,
     "metadata": {},
     "output_type": "execute_result"
    }
   ],
   "source": [
    "const gene_set_genes = Kraft.read_gmt([\n",
    "    \"/home/kwat/garden/data/gene_set/msigdb_v6.2/h.all.v6.2.symbols.gmt\",\n",
    "#     \"/home/kwat/garden/data/gene_set/msigdb_v6.2/c1.all.v6.2.symbols.gmt\",\n",
    "#     \"/home/kwat/garden/data/gene_set/msigdb_v6.2/c2.all.v6.2.symbols.gmt\",\n",
    "#     \"/home/kwat/garden/data/gene_set/msigdb_v6.2/c3.all.v6.2.symbols.gmt\",\n",
    "#     \"/home/kwat/garden/data/gene_set/msigdb_v6.2/c5.all.v6.2.symbols.gmt\",\n",
    "#     \"/home/kwat/garden/data/gene_set/msigdb_v6.2/c6.all.v6.2.symbols.gmt\",\n",
    "#     \"/home/kwat/garden/data/gene_set/msigdb_v6.2/c7.all.v6.2.symbols.gmt\",\n",
    "#     \"/home/kwat/garden/data/gene_set/hippo_pathway.gmt\",\n",
    "#     \"/home/kwat/garden/data/gene_set/stem_cell.gmt\",\n",
    "#     \"/home/kwat/garden/data/gene_set/yap_signature.gmt\",\n",
    "])"
   ]
  },
  {
   "cell_type": "code",
   "execution_count": 9,
   "metadata": {},
   "outputs": [],
   "source": [
    "using BenchmarkTools"
   ]
  },
  {
   "cell_type": "markdown",
   "metadata": {},
   "source": [
    "## 1 sample * 1 gene set"
   ]
  },
  {
   "cell_type": "code",
   "execution_count": 10,
   "metadata": {},
   "outputs": [
    {
     "data": {
      "text/plain": [
       "([-1.72849e-5, -3.45698e-5, -5.18547e-5, -6.91396e-5, -8.64244e-5, -0.000103709, -0.000120994, -0.000138279, -0.000155564, -0.000172849  …  0.000155564, 0.000138279, 0.000120994, 0.000103709, 8.64244e-5, 6.91396e-5, 5.18547e-5, 3.45698e-5, 1.72849e-5, 1.23702e-13], 0.16284978971767114, 1526.2626323081072)"
      ]
     },
     "execution_count": 10,
     "metadata": {},
     "output_type": "execute_result"
    }
   ],
   "source": [
    "Kraft.compute_gene_set_enrichment(gene_values, genes, random_gene_set_genes)"
   ]
  },
  {
   "cell_type": "code",
   "execution_count": 11,
   "metadata": {},
   "outputs": [
    {
     "data": {
      "text/plain": [
       "BenchmarkTools.Trial: \n",
       "  memory estimate:  2.66 MiB\n",
       "  allocs estimate:  31\n",
       "  --------------\n",
       "  minimum time:     5.892 ms (0.00% GC)\n",
       "  median time:      6.032 ms (0.00% GC)\n",
       "  mean time:        6.275 ms (2.15% GC)\n",
       "  maximum time:     42.658 ms (84.96% GC)\n",
       "  --------------\n",
       "  samples:          797\n",
       "  evals/sample:     1"
      ]
     },
     "execution_count": 11,
     "metadata": {},
     "output_type": "execute_result"
    }
   ],
   "source": [
    "@benchmark Kraft.compute_gene_set_enrichment(\n",
    "    gene_values,\n",
    "    genes,\n",
    "    random_gene_set_genes,\n",
    ")"
   ]
  },
  {
   "cell_type": "markdown",
   "metadata": {},
   "source": [
    "## 1 sample * 1< gene set"
   ]
  },
  {
   "cell_type": "code",
   "execution_count": 12,
   "metadata": {},
   "outputs": [
    {
     "data": {
      "text/plain": [
       "Dict{String,Tuple{Union{Nothing, Array{Float64,1}},Float64,Float64}} with 50 entries:\n",
       "  \"HALLMARK_REACTIVE_OXIGEN_SPECIES_PATHWAY\"   => (nothing, 0.319743, 6927.91)\n",
       "  \"HALLMARK_ANGIOGENESIS\"                      => (nothing, 0.29062, 4121.93)\n",
       "  \"HALLMARK_MYOGENESIS\"                        => (nothing, -0.197433, -2432.29)\n",
       "  \"HALLMARK_PEROXISOME\"                        => (nothing, -0.222337, -2314.84)\n",
       "  \"HALLMARK_UV_RESPONSE_DN\"                    => (nothing, 0.185327, 1230.21)\n",
       "  \"HALLMARK_NOTCH_SIGNALING\"                   => (nothing, -0.269862, -5876.84)\n",
       "  \"HALLMARK_ANDROGEN_RESPONSE\"                 => (nothing, 0.207648, 1208.06)\n",
       "  \"HALLMARK_ALLOGRAFT_REJECTION\"               => (nothing, 0.178547, 286.379)\n",
       "  \"HALLMARK_ESTROGEN_RESPONSE_LATE\"            => (nothing, -0.204443, -528.293)\n",
       "  \"HALLMARK_G2M_CHECKPOINT\"                    => (nothing, -0.187059, -831.704)\n",
       "  \"HALLMARK_MYC_TARGETS_V2\"                    => (nothing, 0.26017, 3120.89)\n",
       "  \"HALLMARK_APOPTOSIS\"                         => (nothing, -0.211536, -3844.32)\n",
       "  \"HALLMARK_P53_PATHWAY\"                       => (nothing, -0.198445, -807.619)\n",
       "  \"HALLMARK_UNFOLDED_PROTEIN_RESPONSE\"         => (nothing, 0.170057, 475.267)\n",
       "  \"HALLMARK_ADIPOGENESIS\"                      => (nothing, 0.168682, 494.222)\n",
       "  \"HALLMARK_DNA_REPAIR\"                        => (nothing, 0.218978, 2905.83)\n",
       "  \"HALLMARK_EPITHELIAL_MESENCHYMAL_TRANSITION\" => (nothing, -0.255725, -3565.35)\n",
       "  \"HALLMARK_OXIDATIVE_PHOSPHORYLATION\"         => (nothing, 0.176493, 1338.56)\n",
       "  \"HALLMARK_HEME_METABOLISM\"                   => (nothing, -0.195966, -769.225)\n",
       "  \"HALLMARK_MITOTIC_SPINDLE\"                   => (nothing, 0.201894, 1639.6)\n",
       "  \"HALLMARK_FATTY_ACID_METABOLISM\"             => (nothing, -0.177565, -1068.25)\n",
       "  \"HALLMARK_COMPLEMENT\"                        => (nothing, 0.189974, 2757.18)\n",
       "  \"HALLMARK_APICAL_SURFACE\"                    => (nothing, 0.309632, 6919.75)\n",
       "  \"HALLMARK_ESTROGEN_RESPONSE_EARLY\"           => (nothing, -0.185249, -613.427)\n",
       "  \"HALLMARK_INTERFERON_GAMMA_RESPONSE\"         => (nothing, 0.215856, 733.38)\n",
       "  ⋮                                            => ⋮"
      ]
     },
     "execution_count": 12,
     "metadata": {},
     "output_type": "execute_result"
    }
   ],
   "source": [
    "Kraft.compute_gene_set_enrichment(gene_values, genes, gene_set_genes)"
   ]
  },
  {
   "cell_type": "code",
   "execution_count": 13,
   "metadata": {},
   "outputs": [
    {
     "name": "stdout",
     "output_type": "stream",
     "text": [
      "0.41 ms / gene set\n"
     ]
    },
    {
     "data": {
      "text/plain": [
       "BenchmarkTools.Trial: \n",
       "  memory estimate:  51.24 MiB\n",
       "  allocs estimate:  559\n",
       "  --------------\n",
       "  minimum time:     20.739 ms (14.64% GC)\n",
       "  median time:      22.205 ms (15.75% GC)\n",
       "  mean time:        24.851 ms (22.66% GC)\n",
       "  maximum time:     70.833 ms (72.33% GC)\n",
       "  --------------\n",
       "  samples:          202\n",
       "  evals/sample:     1"
      ]
     },
     "execution_count": 13,
     "metadata": {},
     "output_type": "execute_result"
    }
   ],
   "source": [
    "benchmark_result = @benchmark Kraft.compute_gene_set_enrichment(\n",
    "    gene_values,\n",
    "    genes,\n",
    "    gene_set_genes,\n",
    ")\n",
    "\n",
    "ms_per_gene_set = round(\n",
    "    minimum(benchmark_result.times) / 1e6 / length(gene_set_genes),\n",
    "    sigdigits = 2,\n",
    ")\n",
    "\n",
    "println(\"$ms_per_gene_set ms / gene set\")\n",
    "\n",
    "benchmark_result"
   ]
  },
  {
   "cell_type": "markdown",
   "metadata": {},
   "source": [
    "## 1< sample * 1< gene set"
   ]
  },
  {
   "cell_type": "code",
   "execution_count": 14,
   "metadata": {},
   "outputs": [
    {
     "data": {
      "text/html": [
       "<table class=\"data-frame\"><thead><tr><th></th><th>Gene Set</th><th>Sample 1</th><th>Sample 2</th></tr><tr><th></th><th>String</th><th>Float64</th><th>Float64</th></tr></thead><tbody><p>50 rows × 3 columns</p><tr><th>1</th><td>HALLMARK_REACTIVE_OXIGEN_SPECIES_PATHWAY</td><td>0.319743</td><td>0.319743</td></tr><tr><th>2</th><td>HALLMARK_ANGIOGENESIS</td><td>0.29062</td><td>0.29062</td></tr><tr><th>3</th><td>HALLMARK_MYOGENESIS</td><td>-0.197433</td><td>-0.197433</td></tr><tr><th>4</th><td>HALLMARK_PEROXISOME</td><td>-0.222337</td><td>-0.222337</td></tr><tr><th>5</th><td>HALLMARK_UV_RESPONSE_DN</td><td>0.185327</td><td>0.185327</td></tr><tr><th>6</th><td>HALLMARK_NOTCH_SIGNALING</td><td>-0.269862</td><td>-0.269862</td></tr><tr><th>7</th><td>HALLMARK_ANDROGEN_RESPONSE</td><td>0.207648</td><td>0.207648</td></tr><tr><th>8</th><td>HALLMARK_ALLOGRAFT_REJECTION</td><td>0.178547</td><td>0.178547</td></tr><tr><th>9</th><td>HALLMARK_ESTROGEN_RESPONSE_LATE</td><td>-0.204443</td><td>-0.204443</td></tr><tr><th>10</th><td>HALLMARK_G2M_CHECKPOINT</td><td>-0.187059</td><td>-0.187059</td></tr><tr><th>11</th><td>HALLMARK_MYC_TARGETS_V2</td><td>0.26017</td><td>0.26017</td></tr><tr><th>12</th><td>HALLMARK_APOPTOSIS</td><td>-0.211536</td><td>-0.211536</td></tr><tr><th>13</th><td>HALLMARK_P53_PATHWAY</td><td>-0.198445</td><td>-0.198445</td></tr><tr><th>14</th><td>HALLMARK_UNFOLDED_PROTEIN_RESPONSE</td><td>0.170057</td><td>0.170057</td></tr><tr><th>15</th><td>HALLMARK_ADIPOGENESIS</td><td>0.168682</td><td>0.168682</td></tr><tr><th>16</th><td>HALLMARK_DNA_REPAIR</td><td>0.218978</td><td>0.218978</td></tr><tr><th>17</th><td>HALLMARK_EPITHELIAL_MESENCHYMAL_TRANSITION</td><td>-0.255725</td><td>-0.255725</td></tr><tr><th>18</th><td>HALLMARK_OXIDATIVE_PHOSPHORYLATION</td><td>0.176493</td><td>0.176493</td></tr><tr><th>19</th><td>HALLMARK_HEME_METABOLISM</td><td>-0.195966</td><td>-0.195966</td></tr><tr><th>20</th><td>HALLMARK_MITOTIC_SPINDLE</td><td>0.201894</td><td>0.201894</td></tr><tr><th>21</th><td>HALLMARK_FATTY_ACID_METABOLISM</td><td>-0.177565</td><td>-0.177565</td></tr><tr><th>22</th><td>HALLMARK_COMPLEMENT</td><td>0.189974</td><td>0.189974</td></tr><tr><th>23</th><td>HALLMARK_APICAL_SURFACE</td><td>0.309632</td><td>0.309632</td></tr><tr><th>24</th><td>HALLMARK_ESTROGEN_RESPONSE_EARLY</td><td>-0.185249</td><td>-0.185249</td></tr><tr><th>25</th><td>HALLMARK_INTERFERON_GAMMA_RESPONSE</td><td>0.215856</td><td>0.215856</td></tr><tr><th>26</th><td>HALLMARK_MTORC1_SIGNALING</td><td>0.168351</td><td>0.168351</td></tr><tr><th>27</th><td>HALLMARK_INTERFERON_ALPHA_RESPONSE</td><td>0.202298</td><td>0.202298</td></tr><tr><th>28</th><td>HALLMARK_PI3K_AKT_MTOR_SIGNALING</td><td>-0.203966</td><td>-0.203966</td></tr><tr><th>29</th><td>HALLMARK_XENOBIOTIC_METABOLISM</td><td>0.229152</td><td>0.229152</td></tr><tr><th>30</th><td>HALLMARK_KRAS_SIGNALING_DN</td><td>0.205147</td><td>0.205147</td></tr><tr><th>&vellip;</th><td>&vellip;</td><td>&vellip;</td><td>&vellip;</td></tr></tbody></table>"
      ],
      "text/latex": [
       "\\begin{tabular}{r|ccc}\n",
       "\t& Gene Set & Sample 1 & Sample 2\\\\\n",
       "\t\\hline\n",
       "\t& String & Float64 & Float64\\\\\n",
       "\t\\hline\n",
       "\t1 & HALLMARK\\_REACTIVE\\_OXIGEN\\_SPECIES\\_PATHWAY & 0.319743 & 0.319743 \\\\\n",
       "\t2 & HALLMARK\\_ANGIOGENESIS & 0.29062 & 0.29062 \\\\\n",
       "\t3 & HALLMARK\\_MYOGENESIS & -0.197433 & -0.197433 \\\\\n",
       "\t4 & HALLMARK\\_PEROXISOME & -0.222337 & -0.222337 \\\\\n",
       "\t5 & HALLMARK\\_UV\\_RESPONSE\\_DN & 0.185327 & 0.185327 \\\\\n",
       "\t6 & HALLMARK\\_NOTCH\\_SIGNALING & -0.269862 & -0.269862 \\\\\n",
       "\t7 & HALLMARK\\_ANDROGEN\\_RESPONSE & 0.207648 & 0.207648 \\\\\n",
       "\t8 & HALLMARK\\_ALLOGRAFT\\_REJECTION & 0.178547 & 0.178547 \\\\\n",
       "\t9 & HALLMARK\\_ESTROGEN\\_RESPONSE\\_LATE & -0.204443 & -0.204443 \\\\\n",
       "\t10 & HALLMARK\\_G2M\\_CHECKPOINT & -0.187059 & -0.187059 \\\\\n",
       "\t11 & HALLMARK\\_MYC\\_TARGETS\\_V2 & 0.26017 & 0.26017 \\\\\n",
       "\t12 & HALLMARK\\_APOPTOSIS & -0.211536 & -0.211536 \\\\\n",
       "\t13 & HALLMARK\\_P53\\_PATHWAY & -0.198445 & -0.198445 \\\\\n",
       "\t14 & HALLMARK\\_UNFOLDED\\_PROTEIN\\_RESPONSE & 0.170057 & 0.170057 \\\\\n",
       "\t15 & HALLMARK\\_ADIPOGENESIS & 0.168682 & 0.168682 \\\\\n",
       "\t16 & HALLMARK\\_DNA\\_REPAIR & 0.218978 & 0.218978 \\\\\n",
       "\t17 & HALLMARK\\_EPITHELIAL\\_MESENCHYMAL\\_TRANSITION & -0.255725 & -0.255725 \\\\\n",
       "\t18 & HALLMARK\\_OXIDATIVE\\_PHOSPHORYLATION & 0.176493 & 0.176493 \\\\\n",
       "\t19 & HALLMARK\\_HEME\\_METABOLISM & -0.195966 & -0.195966 \\\\\n",
       "\t20 & HALLMARK\\_MITOTIC\\_SPINDLE & 0.201894 & 0.201894 \\\\\n",
       "\t21 & HALLMARK\\_FATTY\\_ACID\\_METABOLISM & -0.177565 & -0.177565 \\\\\n",
       "\t22 & HALLMARK\\_COMPLEMENT & 0.189974 & 0.189974 \\\\\n",
       "\t23 & HALLMARK\\_APICAL\\_SURFACE & 0.309632 & 0.309632 \\\\\n",
       "\t24 & HALLMARK\\_ESTROGEN\\_RESPONSE\\_EARLY & -0.185249 & -0.185249 \\\\\n",
       "\t25 & HALLMARK\\_INTERFERON\\_GAMMA\\_RESPONSE & 0.215856 & 0.215856 \\\\\n",
       "\t26 & HALLMARK\\_MTORC1\\_SIGNALING & 0.168351 & 0.168351 \\\\\n",
       "\t27 & HALLMARK\\_INTERFERON\\_ALPHA\\_RESPONSE & 0.202298 & 0.202298 \\\\\n",
       "\t28 & HALLMARK\\_PI3K\\_AKT\\_MTOR\\_SIGNALING & -0.203966 & -0.203966 \\\\\n",
       "\t29 & HALLMARK\\_XENOBIOTIC\\_METABOLISM & 0.229152 & 0.229152 \\\\\n",
       "\t30 & HALLMARK\\_KRAS\\_SIGNALING\\_DN & 0.205147 & 0.205147 \\\\\n",
       "\t$\\dots$ & $\\dots$ & $\\dots$ & $\\dots$ \\\\\n",
       "\\end{tabular}\n"
      ],
      "text/plain": [
       "50×3 DataFrame\n",
       "│ Row │ Gene Set                                 │ Sample 1  │ Sample 2  │\n",
       "│     │ \u001b[90mString\u001b[39m                                   │ \u001b[90mFloat64\u001b[39m   │ \u001b[90mFloat64\u001b[39m   │\n",
       "├─────┼──────────────────────────────────────────┼───────────┼───────────┤\n",
       "│ 1   │ HALLMARK_REACTIVE_OXIGEN_SPECIES_PATHWAY │ 0.319743  │ 0.319743  │\n",
       "│ 2   │ HALLMARK_ANGIOGENESIS                    │ 0.29062   │ 0.29062   │\n",
       "│ 3   │ HALLMARK_MYOGENESIS                      │ -0.197433 │ -0.197433 │\n",
       "│ 4   │ HALLMARK_PEROXISOME                      │ -0.222337 │ -0.222337 │\n",
       "│ 5   │ HALLMARK_UV_RESPONSE_DN                  │ 0.185327  │ 0.185327  │\n",
       "│ 6   │ HALLMARK_NOTCH_SIGNALING                 │ -0.269862 │ -0.269862 │\n",
       "│ 7   │ HALLMARK_ANDROGEN_RESPONSE               │ 0.207648  │ 0.207648  │\n",
       "│ 8   │ HALLMARK_ALLOGRAFT_REJECTION             │ 0.178547  │ 0.178547  │\n",
       "│ 9   │ HALLMARK_ESTROGEN_RESPONSE_LATE          │ -0.204443 │ -0.204443 │\n",
       "│ 10  │ HALLMARK_G2M_CHECKPOINT                  │ -0.187059 │ -0.187059 │\n",
       "⋮\n",
       "│ 40  │ HALLMARK_BILE_ACID_METABOLISM            │ -0.249148 │ -0.249148 │\n",
       "│ 41  │ HALLMARK_KRAS_SIGNALING_UP               │ -0.196565 │ -0.196565 │\n",
       "│ 42  │ HALLMARK_INFLAMMATORY_RESPONSE           │ 0.238555  │ 0.238555  │\n",
       "│ 43  │ HALLMARK_CHOLESTEROL_HOMEOSTASIS         │ 0.179148  │ 0.179148  │\n",
       "│ 44  │ HALLMARK_TGF_BETA_SIGNALING              │ 0.256313  │ 0.256313  │\n",
       "│ 45  │ HALLMARK_PANCREAS_BETA_CELLS             │ -0.317554 │ -0.317554 │\n",
       "│ 46  │ HALLMARK_COAGULATION                     │ 0.263927  │ 0.263927  │\n",
       "│ 47  │ HALLMARK_HYPOXIA                         │ -0.155019 │ -0.155019 │\n",
       "│ 48  │ HALLMARK_GLYCOLYSIS                      │ 0.167867  │ 0.167867  │\n",
       "│ 49  │ HALLMARK_HEDGEHOG_SIGNALING              │ -0.29656  │ -0.29656  │\n",
       "│ 50  │ HALLMARK_IL6_JAK_STAT3_SIGNALING         │ -0.253813 │ -0.253813 │"
      ]
     },
     "execution_count": 14,
     "metadata": {},
     "output_type": "execute_result"
    }
   ],
   "source": [
    "gene_set_x_sample = Kraft.compute_gene_set_enrichment(gene_x_sample, gene_set_genes)"
   ]
  },
  {
   "cell_type": "code",
   "execution_count": 15,
   "metadata": {},
   "outputs": [
    {
     "data": {
      "text/plain": [
       "BenchmarkTools.Trial: \n",
       "  memory estimate:  108.46 MiB\n",
       "  allocs estimate:  1329\n",
       "  --------------\n",
       "  minimum time:     43.138 ms (14.27% GC)\n",
       "  median time:      46.354 ms (17.19% GC)\n",
       "  mean time:        53.672 ms (26.33% GC)\n",
       "  maximum time:     103.062 ms (57.12% GC)\n",
       "  --------------\n",
       "  samples:          94\n",
       "  evals/sample:     1"
      ]
     },
     "execution_count": 15,
     "metadata": {},
     "output_type": "execute_result"
    }
   ],
   "source": [
    "@benchmark gene_set_x_sample = Kraft.compute_gene_set_enrichment(\n",
    "    gene_x_sample,\n",
    "    gene_set_genes,\n",
    ")"
   ]
  },
  {
   "cell_type": "markdown",
   "metadata": {},
   "source": [
    "## GSEA"
   ]
  },
  {
   "cell_type": "code",
   "execution_count": 19,
   "metadata": {},
   "outputs": [
    {
     "name": "stderr",
     "output_type": "stream",
     "text": [
      "WARNING: redefining constant gmt_file_paths\n"
     ]
    },
    {
     "data": {
      "text/html": [
       "<table class=\"data-frame\"><thead><tr><th></th><th>Gene Set</th><th>Sample 1</th><th>Sample 2</th></tr><tr><th></th><th>String</th><th>Float64</th><th>Float64</th></tr></thead><tbody><p>50 rows × 3 columns</p><tr><th>1</th><td>HALLMARK_REACTIVE_OXIGEN_SPECIES_PATHWAY</td><td>-0.340904</td><td>-0.340904</td></tr><tr><th>2</th><td>HALLMARK_ANGIOGENESIS</td><td>0.219184</td><td>0.219184</td></tr><tr><th>3</th><td>HALLMARK_MYOGENESIS</td><td>0.197863</td><td>0.197863</td></tr><tr><th>4</th><td>HALLMARK_PEROXISOME</td><td>0.214023</td><td>0.214023</td></tr><tr><th>5</th><td>HALLMARK_UV_RESPONSE_DN</td><td>-0.212604</td><td>-0.212604</td></tr><tr><th>6</th><td>HALLMARK_NOTCH_SIGNALING</td><td>-0.181849</td><td>-0.181849</td></tr><tr><th>7</th><td>HALLMARK_ANDROGEN_RESPONSE</td><td>0.204094</td><td>0.204094</td></tr><tr><th>8</th><td>HALLMARK_ALLOGRAFT_REJECTION</td><td>-0.184928</td><td>-0.184928</td></tr><tr><th>9</th><td>HALLMARK_ESTROGEN_RESPONSE_LATE</td><td>0.195833</td><td>0.195833</td></tr><tr><th>10</th><td>HALLMARK_G2M_CHECKPOINT</td><td>-0.173475</td><td>-0.173475</td></tr><tr><th>11</th><td>HALLMARK_MYC_TARGETS_V2</td><td>-0.220209</td><td>-0.220209</td></tr><tr><th>12</th><td>HALLMARK_APOPTOSIS</td><td>-0.209073</td><td>-0.209073</td></tr><tr><th>13</th><td>HALLMARK_P53_PATHWAY</td><td>-0.152826</td><td>-0.152826</td></tr><tr><th>14</th><td>HALLMARK_UNFOLDED_PROTEIN_RESPONSE</td><td>-0.215378</td><td>-0.215378</td></tr><tr><th>15</th><td>HALLMARK_ADIPOGENESIS</td><td>-0.190758</td><td>-0.190758</td></tr><tr><th>16</th><td>HALLMARK_DNA_REPAIR</td><td>0.161176</td><td>0.161176</td></tr><tr><th>17</th><td>HALLMARK_EPITHELIAL_MESENCHYMAL_TRANSITION</td><td>-0.192714</td><td>-0.192714</td></tr><tr><th>18</th><td>HALLMARK_OXIDATIVE_PHOSPHORYLATION</td><td>-0.181033</td><td>-0.181033</td></tr><tr><th>19</th><td>HALLMARK_HEME_METABOLISM</td><td>0.186486</td><td>0.186486</td></tr><tr><th>20</th><td>HALLMARK_MITOTIC_SPINDLE</td><td>-0.221698</td><td>-0.221698</td></tr><tr><th>21</th><td>HALLMARK_FATTY_ACID_METABOLISM</td><td>-0.249802</td><td>-0.249802</td></tr><tr><th>22</th><td>HALLMARK_COMPLEMENT</td><td>-0.19561</td><td>-0.19561</td></tr><tr><th>23</th><td>HALLMARK_APICAL_SURFACE</td><td>0.23515</td><td>0.23515</td></tr><tr><th>24</th><td>HALLMARK_ESTROGEN_RESPONSE_EARLY</td><td>0.216962</td><td>0.216962</td></tr><tr><th>25</th><td>HALLMARK_INTERFERON_GAMMA_RESPONSE</td><td>-0.174771</td><td>-0.174771</td></tr><tr><th>26</th><td>HALLMARK_MTORC1_SIGNALING</td><td>0.22116</td><td>0.22116</td></tr><tr><th>27</th><td>HALLMARK_INTERFERON_ALPHA_RESPONSE</td><td>-0.22315</td><td>-0.22315</td></tr><tr><th>28</th><td>HALLMARK_PI3K_AKT_MTOR_SIGNALING</td><td>-0.207566</td><td>-0.207566</td></tr><tr><th>29</th><td>HALLMARK_XENOBIOTIC_METABOLISM</td><td>0.197982</td><td>0.197982</td></tr><tr><th>30</th><td>HALLMARK_KRAS_SIGNALING_DN</td><td>-0.160851</td><td>-0.160851</td></tr><tr><th>&vellip;</th><td>&vellip;</td><td>&vellip;</td><td>&vellip;</td></tr></tbody></table>"
      ],
      "text/latex": [
       "\\begin{tabular}{r|ccc}\n",
       "\t& Gene Set & Sample 1 & Sample 2\\\\\n",
       "\t\\hline\n",
       "\t& String & Float64 & Float64\\\\\n",
       "\t\\hline\n",
       "\t1 & HALLMARK\\_REACTIVE\\_OXIGEN\\_SPECIES\\_PATHWAY & -0.340904 & -0.340904 \\\\\n",
       "\t2 & HALLMARK\\_ANGIOGENESIS & 0.219184 & 0.219184 \\\\\n",
       "\t3 & HALLMARK\\_MYOGENESIS & 0.197863 & 0.197863 \\\\\n",
       "\t4 & HALLMARK\\_PEROXISOME & 0.214023 & 0.214023 \\\\\n",
       "\t5 & HALLMARK\\_UV\\_RESPONSE\\_DN & -0.212604 & -0.212604 \\\\\n",
       "\t6 & HALLMARK\\_NOTCH\\_SIGNALING & -0.181849 & -0.181849 \\\\\n",
       "\t7 & HALLMARK\\_ANDROGEN\\_RESPONSE & 0.204094 & 0.204094 \\\\\n",
       "\t8 & HALLMARK\\_ALLOGRAFT\\_REJECTION & -0.184928 & -0.184928 \\\\\n",
       "\t9 & HALLMARK\\_ESTROGEN\\_RESPONSE\\_LATE & 0.195833 & 0.195833 \\\\\n",
       "\t10 & HALLMARK\\_G2M\\_CHECKPOINT & -0.173475 & -0.173475 \\\\\n",
       "\t11 & HALLMARK\\_MYC\\_TARGETS\\_V2 & -0.220209 & -0.220209 \\\\\n",
       "\t12 & HALLMARK\\_APOPTOSIS & -0.209073 & -0.209073 \\\\\n",
       "\t13 & HALLMARK\\_P53\\_PATHWAY & -0.152826 & -0.152826 \\\\\n",
       "\t14 & HALLMARK\\_UNFOLDED\\_PROTEIN\\_RESPONSE & -0.215378 & -0.215378 \\\\\n",
       "\t15 & HALLMARK\\_ADIPOGENESIS & -0.190758 & -0.190758 \\\\\n",
       "\t16 & HALLMARK\\_DNA\\_REPAIR & 0.161176 & 0.161176 \\\\\n",
       "\t17 & HALLMARK\\_EPITHELIAL\\_MESENCHYMAL\\_TRANSITION & -0.192714 & -0.192714 \\\\\n",
       "\t18 & HALLMARK\\_OXIDATIVE\\_PHOSPHORYLATION & -0.181033 & -0.181033 \\\\\n",
       "\t19 & HALLMARK\\_HEME\\_METABOLISM & 0.186486 & 0.186486 \\\\\n",
       "\t20 & HALLMARK\\_MITOTIC\\_SPINDLE & -0.221698 & -0.221698 \\\\\n",
       "\t21 & HALLMARK\\_FATTY\\_ACID\\_METABOLISM & -0.249802 & -0.249802 \\\\\n",
       "\t22 & HALLMARK\\_COMPLEMENT & -0.19561 & -0.19561 \\\\\n",
       "\t23 & HALLMARK\\_APICAL\\_SURFACE & 0.23515 & 0.23515 \\\\\n",
       "\t24 & HALLMARK\\_ESTROGEN\\_RESPONSE\\_EARLY & 0.216962 & 0.216962 \\\\\n",
       "\t25 & HALLMARK\\_INTERFERON\\_GAMMA\\_RESPONSE & -0.174771 & -0.174771 \\\\\n",
       "\t26 & HALLMARK\\_MTORC1\\_SIGNALING & 0.22116 & 0.22116 \\\\\n",
       "\t27 & HALLMARK\\_INTERFERON\\_ALPHA\\_RESPONSE & -0.22315 & -0.22315 \\\\\n",
       "\t28 & HALLMARK\\_PI3K\\_AKT\\_MTOR\\_SIGNALING & -0.207566 & -0.207566 \\\\\n",
       "\t29 & HALLMARK\\_XENOBIOTIC\\_METABOLISM & 0.197982 & 0.197982 \\\\\n",
       "\t30 & HALLMARK\\_KRAS\\_SIGNALING\\_DN & -0.160851 & -0.160851 \\\\\n",
       "\t$\\dots$ & $\\dots$ & $\\dots$ & $\\dots$ \\\\\n",
       "\\end{tabular}\n"
      ],
      "text/plain": [
       "50×3 DataFrame\n",
       "│ Row │ Gene Set                                 │ Sample 1  │ Sample 2  │\n",
       "│     │ \u001b[90mString\u001b[39m                                   │ \u001b[90mFloat64\u001b[39m   │ \u001b[90mFloat64\u001b[39m   │\n",
       "├─────┼──────────────────────────────────────────┼───────────┼───────────┤\n",
       "│ 1   │ HALLMARK_REACTIVE_OXIGEN_SPECIES_PATHWAY │ -0.340904 │ -0.340904 │\n",
       "│ 2   │ HALLMARK_ANGIOGENESIS                    │ 0.219184  │ 0.219184  │\n",
       "│ 3   │ HALLMARK_MYOGENESIS                      │ 0.197863  │ 0.197863  │\n",
       "│ 4   │ HALLMARK_PEROXISOME                      │ 0.214023  │ 0.214023  │\n",
       "│ 5   │ HALLMARK_UV_RESPONSE_DN                  │ -0.212604 │ -0.212604 │\n",
       "│ 6   │ HALLMARK_NOTCH_SIGNALING                 │ -0.181849 │ -0.181849 │\n",
       "│ 7   │ HALLMARK_ANDROGEN_RESPONSE               │ 0.204094  │ 0.204094  │\n",
       "│ 8   │ HALLMARK_ALLOGRAFT_REJECTION             │ -0.184928 │ -0.184928 │\n",
       "│ 9   │ HALLMARK_ESTROGEN_RESPONSE_LATE          │ 0.195833  │ 0.195833  │\n",
       "│ 10  │ HALLMARK_G2M_CHECKPOINT                  │ -0.173475 │ -0.173475 │\n",
       "⋮\n",
       "│ 40  │ HALLMARK_BILE_ACID_METABOLISM            │ 0.183192  │ 0.183192  │\n",
       "│ 41  │ HALLMARK_KRAS_SIGNALING_UP               │ 0.195669  │ 0.195669  │\n",
       "│ 42  │ HALLMARK_INFLAMMATORY_RESPONSE           │ 0.174826  │ 0.174826  │\n",
       "│ 43  │ HALLMARK_CHOLESTEROL_HOMEOSTASIS         │ -0.245302 │ -0.245302 │\n",
       "│ 44  │ HALLMARK_TGF_BETA_SIGNALING              │ 0.226784  │ 0.226784  │\n",
       "│ 45  │ HALLMARK_PANCREAS_BETA_CELLS             │ 0.208631  │ 0.208631  │\n",
       "│ 46  │ HALLMARK_COAGULATION                     │ 0.170635  │ 0.170635  │\n",
       "│ 47  │ HALLMARK_HYPOXIA                         │ 0.175423  │ 0.175423  │\n",
       "│ 48  │ HALLMARK_GLYCOLYSIS                      │ -0.187017 │ -0.187017 │\n",
       "│ 49  │ HALLMARK_HEDGEHOG_SIGNALING              │ -0.339219 │ -0.339219 │\n",
       "│ 50  │ HALLMARK_IL6_JAK_STAT3_SIGNALING         │ 0.237641  │ 0.237641  │"
      ]
     },
     "execution_count": 19,
     "metadata": {},
     "output_type": "execute_result"
    }
   ],
   "source": [
    "const gene_x_sample_tsv_file_path = \"/home/kwat/github/kraft/notebook/gene_x_sample.tsv\"\n",
    "\n",
    "const gmt_file_paths = [\n",
    "    \"/home/kwat/garden/data/gene_set/msigdb_v6.2/h.all.v6.2.symbols.gmt\",\n",
    "#     \"/home/kwat/garden/data/gene_set/msigdb_v6.2/c1.all.v6.2.symbols.gmt\",\n",
    "#     \"/home/kwat/garden/data/gene_set/msigdb_v6.2/c2.all.v6.2.symbols.gmt\",\n",
    "#     \"/home/kwat/garden/data/gene_set/msigdb_v6.2/c3.all.v6.2.symbols.gmt\",\n",
    "#     \"/home/kwat/garden/data/gene_set/msigdb_v6.2/c5.all.v6.2.symbols.gmt\",\n",
    "#     \"/home/kwat/garden/data/gene_set/msigdb_v6.2/c6.all.v6.2.symbols.gmt\",\n",
    "#     \"/home/kwat/garden/data/gene_set/msigdb_v6.2/c7.all.v6.2.symbols.gmt\",\n",
    "#     \"/home/kwat/garden/data/gene_set/hippo_pathway.gmt\",\n",
    "#     \"/home/kwat/garden/data/gene_set/stem_cell.gmt\",\n",
    "#     \"/home/kwat/garden/data/gene_set/yap_signature.gmt\",\n",
    "]\n",
    "\n",
    "const output_directory_path = \"/home/kwat/output\"\n",
    "\n",
    "gene_set_x_sample = gsea(\n",
    "    gene_x_sample_tsv_file_path,\n",
    "    gmt_file_paths,\n",
    "    output_directory_path,\n",
    ")"
   ]
  }
 ],
 "metadata": {
  "@webio": {
   "lastCommId": null,
   "lastKernelId": null
  },
  "kernelspec": {
   "display_name": "Julia 1.0.3",
   "language": "julia",
   "name": "julia-1.0"
  },
  "language_info": {
   "file_extension": ".jl",
   "mimetype": "application/julia",
   "name": "julia",
   "version": "1.0.3"
  }
 },
 "nbformat": 4,
 "nbformat_minor": 4
}
