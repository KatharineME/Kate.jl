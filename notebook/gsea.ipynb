{
 "cells": [
  {
   "cell_type": "code",
   "execution_count": 1,
   "metadata": {
    "scrolled": false
   },
   "outputs": [
    {
     "name": "stderr",
     "output_type": "stream",
     "text": [
      "┌ Info: Recompiling stale cache file /Users/kwatme/.julia/compiled/v1.0/Kraft/F4FiQ.ji for Kraft [5c7faf16-a6b3-11e9-0c80-d5a0766e5f8b]\n",
      "└ @ Base loading.jl:1190\n",
      "WARNING: Method definition print_and_run_cmd(Base.AbstractCmd) in module Kraft at /Users/kwatme/github/Kraft.jl/src/print_and_run_cmd.jl:3 overwritten at /Users/kwatme/github/Kraft.jl/src/print_and_run_cmd.jl:3.\n",
      "┌ Warning: Package Kraft does not have Distributed in its dependencies:\n",
      "│ - If you have Kraft checked out for development and have\n",
      "│   added Distributed as a dependency but haven't updated your primary\n",
      "│   environment's manifest file, try `Pkg.resolve()`.\n",
      "│ - Otherwise you may need to report an issue with Kraft\n",
      "└ Loading Distributed into Kraft from project dependency, future warnings for Kraft are suppressed.\n",
      "WARNING: Method definition print_and_run_cmd(Base.AbstractCmd) in module Kraft at /Users/kwatme/github/Kraft.jl/src/print_and_run_cmd.jl:3 overwritten at /Users/kwatme/github/Kraft.jl/src/print_and_run_cmd.jl:3.\n",
      "WARNING: Method definition print_and_run_cmd(Base.AbstractCmd) in module Kraft at /Users/kwatme/github/Kraft.jl/src/print_and_run_cmd.jl:3 overwritten at /Users/kwatme/github/Kraft.jl/src/print_and_run_cmd.jl:3.\n",
      "WARNING: Method definition make_ins(Array{String, 1}, Array{String, 1}) in module Kraft at /Users/kwatme/github/Kraft.jl/src/make_ins.jl:12 overwritten at /Users/kwatme/github/Kraft.jl/src/make_ins.jl:12.\n",
      "WARNING: Method definition make_ins(Base.Dict{String, Int64}, Array{String, 1}) in module Kraft at /Users/kwatme/github/Kraft.jl/src/make_ins.jl:57 overwritten at /Users/kwatme/github/Kraft.jl/src/make_ins.jl:57.\n",
      "WARNING: Method definition sum_values(Array{Int64, 1}) in module Kraft at /Users/kwatme/github/Kraft.jl/src/sum_values.jl:6 overwritten at /Users/kwatme/github/Kraft.jl/src/sum_values.jl:6.\n",
      "WARNING: Method definition sum_values(Array{Float64, 1}, Array{Int64, 1}) in module Kraft at /Users/kwatme/github/Kraft.jl/src/sum_values.jl:30 overwritten at /Users/kwatme/github/Kraft.jl/src/sum_values.jl:30.\n",
      "WARNING: Method definition compute_gene_set_enrichment(Array{Float64, 1}, AbstractArray{String, 1}, Array{String, 1}) in module Kraft at /Users/kwatme/github/Kraft.jl/src/compute_gene_set_enrichment.jl:32 overwritten at /Users/kwatme/github/Kraft.jl/src/compute_gene_set_enrichment.jl:32.\n",
      "WARNING: Method definition #compute_gene_set_enrichment(Any, typeof(Kraft.compute_gene_set_enrichment), Array{Float64, 1}, AbstractArray{String, 1}, Array{String, 1}) in module Kraft overwritten.\n",
      "WARNING: Method definition compute_gene_set_enrichment(Array{Float64, 1}, AbstractArray{String, 1}, Base.Dict{String, Array{String, 1}}) in module Kraft at /Users/kwatme/github/Kraft.jl/src/compute_gene_set_enrichment.jl:149 overwritten at /Users/kwatme/github/Kraft.jl/src/compute_gene_set_enrichment.jl:149.\n",
      "WARNING: Method definition #compute_gene_set_enrichment(Any, typeof(Kraft.compute_gene_set_enrichment), Array{Float64, 1}, AbstractArray{String, 1}, Base.Dict{String, Array{String, 1}}) in module Kraft overwritten.\n",
      "WARNING: Method definition compute_gene_set_enrichment(DataFrames.DataFrame, Base.Dict{String, Array{String, 1}}, String) in module Kraft at /Users/kwatme/github/Kraft.jl/src/compute_gene_set_enrichment.jl:223 overwritten at /Users/kwatme/github/Kraft.jl/src/compute_gene_set_enrichment.jl:223.\n",
      "WARNING: Method definition make_ins(Array{String, 1}, Array{String, 1}) in module Kraft at /Users/kwatme/github/Kraft.jl/src/make_ins.jl:12 overwritten at /Users/kwatme/github/Kraft.jl/src/make_ins.jl:12.\n",
      "WARNING: Method definition make_ins(Base.Dict{String, Int64}, Array{String, 1}) in module Kraft at /Users/kwatme/github/Kraft.jl/src/make_ins.jl:57 overwritten at /Users/kwatme/github/Kraft.jl/src/make_ins.jl:57.\n",
      "WARNING: Method definition print_and_run_cmd(Base.AbstractCmd) in module Kraft at /Users/kwatme/github/Kraft.jl/src/print_and_run_cmd.jl:3 overwritten at /Users/kwatme/github/Kraft.jl/src/print_and_run_cmd.jl:3.\n",
      "WARNING: Method definition print_and_run_cmd(Base.AbstractCmd) in module Kraft at /Users/kwatme/github/Kraft.jl/src/print_and_run_cmd.jl:3 overwritten at /Users/kwatme/github/Kraft.jl/src/print_and_run_cmd.jl:3.\n",
      "WARNING: Method definition print_and_run_cmd(Base.AbstractCmd) in module Kraft at /Users/kwatme/github/Kraft.jl/src/print_and_run_cmd.jl:3 overwritten at /Users/kwatme/github/Kraft.jl/src/print_and_run_cmd.jl:3.\n",
      "WARNING: Method definition print_and_run_cmd(Base.AbstractCmd) in module Kraft at /Users/kwatme/github/Kraft.jl/src/print_and_run_cmd.jl:3 overwritten at /Users/kwatme/github/Kraft.jl/src/print_and_run_cmd.jl:3.\n",
      "WARNING: Method definition check_sequence(Tuple{Vararg{String, N} where N}, String, Int64) in module Kraft at /Users/kwatme/github/Kraft.jl/src/check_sequence.jl:12 overwritten at /Users/kwatme/github/Kraft.jl/src/check_sequence.jl:12.\n",
      "WARNING: Method definition print_and_run_cmd(Base.AbstractCmd) in module Kraft at /Users/kwatme/github/Kraft.jl/src/print_and_run_cmd.jl:3 overwritten at /Users/kwatme/github/Kraft.jl/src/print_and_run_cmd.jl:3.\n",
      "WARNING: Method definition align_sequence(String, String, String, String, String, Int64, Int64) in module Kraft at /Users/kwatme/github/Kraft.jl/src/align_sequence.jl:16 overwritten at /Users/kwatme/github/Kraft.jl/src/align_sequence.jl:16.\n",
      "WARNING: Method definition print_and_run_cmd(Base.AbstractCmd) in module Kraft at /Users/kwatme/github/Kraft.jl/src/print_and_run_cmd.jl:3 overwritten at /Users/kwatme/github/Kraft.jl/src/print_and_run_cmd.jl:3.\n",
      "WARNING: Method definition find_variant(Union{Nothing, String}, Union{Nothing, String}, Bool, String, String, String, String, Int64, Int64) in module Kraft at /Users/kwatme/github/Kraft.jl/src/find_variant.jl:24 overwritten at /Users/kwatme/github/Kraft.jl/src/find_variant.jl:24.\n",
      "WARNING: Method definition print_and_run_cmd(Base.AbstractCmd) in module Kraft at /Users/kwatme/github/Kraft.jl/src/print_and_run_cmd.jl:3 overwritten at /Users/kwatme/github/Kraft.jl/src/print_and_run_cmd.jl:3.\n",
      "WARNING: Method definition print_and_run_cmd(Base.AbstractCmd) in module Kraft at /Users/kwatme/github/Kraft.jl/src/print_and_run_cmd.jl:3 overwritten at /Users/kwatme/github/Kraft.jl/src/print_and_run_cmd.jl:3.\n",
      "WARNING: Method definition trim_sequence(String, String, String, Int64) in module Kraft at /Users/kwatme/github/Kraft.jl/src/trim_sequence.jl:13 overwritten at /Users/kwatme/github/Kraft.jl/src/trim_sequence.jl:13.\n",
      "WARNING: Method definition print_and_run_cmd(Base.AbstractCmd) in module Kraft at /Users/kwatme/github/Kraft.jl/src/print_and_run_cmd.jl:3 overwritten at /Users/kwatme/github/Kraft.jl/src/print_and_run_cmd.jl:3.\n",
      "WARNING: Method definition check_sequence(Tuple{Vararg{String, N} where N}, String, Int64) in module Kraft at /Users/kwatme/github/Kraft.jl/src/check_sequence.jl:12 overwritten at /Users/kwatme/github/Kraft.jl/src/check_sequence.jl:12.\n",
      "WARNING: Method definition print_and_run_cmd(Base.AbstractCmd) in module Kraft at /Users/kwatme/github/Kraft.jl/src/print_and_run_cmd.jl:3 overwritten at /Users/kwatme/github/Kraft.jl/src/print_and_run_cmd.jl:3.\n",
      "WARNING: Method definition align_sequence(String, String, String, String, String, Int64, Int64) in module Kraft at /Users/kwatme/github/Kraft.jl/src/align_sequence.jl:16 overwritten at /Users/kwatme/github/Kraft.jl/src/align_sequence.jl:16.\n",
      "WARNING: Method definition print_and_run_cmd(Base.AbstractCmd) in module Kraft at /Users/kwatme/github/Kraft.jl/src/print_and_run_cmd.jl:3 overwritten at /Users/kwatme/github/Kraft.jl/src/print_and_run_cmd.jl:3.\n",
      "WARNING: Method definition find_variant(Union{Nothing, String}, Union{Nothing, String}, Bool, String, String, String, String, Int64, Int64) in module Kraft at /Users/kwatme/github/Kraft.jl/src/find_variant.jl:24 overwritten at /Users/kwatme/github/Kraft.jl/src/find_variant.jl:24.\n",
      "WARNING: Method definition print_and_run_cmd(Base.AbstractCmd) in module Kraft at /Users/kwatme/github/Kraft.jl/src/print_and_run_cmd.jl:3 overwritten at /Users/kwatme/github/Kraft.jl/src/print_and_run_cmd.jl:3.\n",
      "WARNING: Method definition trim_sequence(String, String, String, Int64) in module Kraft at /Users/kwatme/github/Kraft.jl/src/trim_sequence.jl:13 overwritten at /Users/kwatme/github/Kraft.jl/src/trim_sequence.jl:13.\n",
      "WARNING: Method definition print_and_run_cmd(Base.AbstractCmd) in module Kraft at /Users/kwatme/github/Kraft.jl/src/print_and_run_cmd.jl:3 overwritten at /Users/kwatme/github/Kraft.jl/src/print_and_run_cmd.jl:3.\n",
      "WARNING: Method definition check_sequence(Tuple{Vararg{String, N} where N}, String, Int64) in module Kraft at /Users/kwatme/github/Kraft.jl/src/check_sequence.jl:12 overwritten at /Users/kwatme/github/Kraft.jl/src/check_sequence.jl:12.\n",
      "WARNING: Method definition print_and_run_cmd(Base.AbstractCmd) in module Kraft at /Users/kwatme/github/Kraft.jl/src/print_and_run_cmd.jl:3 overwritten at /Users/kwatme/github/Kraft.jl/src/print_and_run_cmd.jl:3.\n",
      "WARNING: Method definition count_transcript(String, String, String, String, Int64) in module Kraft at /Users/kwatme/github/Kraft.jl/src/count_transcript.jl:14 overwritten at /Users/kwatme/github/Kraft.jl/src/count_transcript.jl:14.\n",
      "WARNING: Method definition read_gmt(String) in module Kraft at /Users/kwatme/github/Kraft.jl/src/read_gmt.jl:3 overwritten at /Users/kwatme/github/Kraft.jl/src/read_gmt.jl:3.\n",
      "WARNING: Method definition read_gmt(Array{String, 1}) in module Kraft at /Users/kwatme/github/Kraft.jl/src/read_gmt.jl:32 overwritten at /Users/kwatme/github/Kraft.jl/src/read_gmt.jl:32.\n",
      "WARNING: Method definition sum_values(Array{Int64, 1}) in module Kraft at /Users/kwatme/github/Kraft.jl/src/sum_values.jl:6 overwritten at /Users/kwatme/github/Kraft.jl/src/sum_values.jl:6.\n",
      "WARNING: Method definition sum_values(Array{Float64, 1}, Array{Int64, 1}) in module Kraft at /Users/kwatme/github/Kraft.jl/src/sum_values.jl:30 overwritten at /Users/kwatme/github/Kraft.jl/src/sum_values.jl:30.\n",
      "WARNING: Method definition print_and_run_cmd(Base.AbstractCmd) in module Kraft at /Users/kwatme/github/Kraft.jl/src/print_and_run_cmd.jl:3 overwritten at /Users/kwatme/github/Kraft.jl/src/print_and_run_cmd.jl:3.\n",
      "WARNING: Method definition trim_sequence(String, String, String, Int64) in module Kraft at /Users/kwatme/github/Kraft.jl/src/trim_sequence.jl:13 overwritten at /Users/kwatme/github/Kraft.jl/src/trim_sequence.jl:13.\n"
     ]
    }
   ],
   "source": [
    "using Kraft"
   ]
  },
  {
   "cell_type": "code",
   "execution_count": 2,
   "metadata": {},
   "outputs": [
    {
     "data": {
      "text/plain": [
       "57954-element Array{String,1}:\n",
       " \"MIR628\"    \n",
       " \"RNU6-871P\" \n",
       " \"MIR626\"    \n",
       " \"AC012314.7\"\n",
       " \"GHRLOS\"    \n",
       " \"RNU6-35P\"  \n",
       " \"MIR5694\"   \n",
       " \"RNU6-1157P\"\n",
       " \"MIR6861\"   \n",
       " \"RNU4-85P\"  \n",
       " \"MIR6759\"   \n",
       " \"MIR4491\"   \n",
       " \"RNU6-1162P\"\n",
       " ⋮           \n",
       " \"KP420441.2\"\n",
       " \"KP420444.3\"\n",
       " \"KP420444.4\"\n",
       " \"KP420441.4\"\n",
       " \"KP420446.2\"\n",
       " \"KP420441.1\"\n",
       " \"KP420441.3\"\n",
       " \"KP420441.5\"\n",
       " \"KP420440.2\"\n",
       " \"KP420440.6\"\n",
       " \"KP420440.5\"\n",
       " \"KP420446.1\""
      ]
     },
     "execution_count": 2,
     "metadata": {},
     "output_type": "execute_result"
    }
   ],
   "source": [
    "const genes = readlines(\"genes.txt\")[2:end]"
   ]
  },
  {
   "cell_type": "code",
   "execution_count": 3,
   "metadata": {},
   "outputs": [
    {
     "data": {
      "text/plain": [
       "57954-element Array{Float64,1}:\n",
       " -1.3859265761713757  \n",
       "  0.15013519808184447 \n",
       " -1.5283091028785847  \n",
       " -0.4411738433224731  \n",
       "  0.9222456347075165  \n",
       " -1.3978378373025775  \n",
       "  0.12013672777524576 \n",
       " -0.14269886713069435 \n",
       " -1.5569132089086712  \n",
       "  0.291764367309719   \n",
       " -0.4492895444933223  \n",
       "  0.9237322167388293  \n",
       " -0.9290609349518519  \n",
       "  ⋮                   \n",
       "  0.4441879648370216  \n",
       " -0.37885817664211047 \n",
       " -0.6762885322199061  \n",
       " -0.35861754139764407 \n",
       " -0.08263767548184614 \n",
       "  0.779574647299883   \n",
       " -0.760478628057909   \n",
       "  0.07659047734043832 \n",
       " -0.9064979665844664  \n",
       "  0.026109172552865812\n",
       " -0.5065340915512077  \n",
       "  0.376825923549109   "
      ]
     },
     "execution_count": 3,
     "metadata": {},
     "output_type": "execute_result"
    }
   ],
   "source": [
    "# const gene_values = fill(\n",
    "#     1 / length(genes),\n",
    "#     length(genes),\n",
    "# )\n",
    "const gene_values = randn(length(genes))"
   ]
  },
  {
   "cell_type": "code",
   "execution_count": 4,
   "metadata": {},
   "outputs": [],
   "source": [
    "using DataFrames"
   ]
  },
  {
   "cell_type": "code",
   "execution_count": 5,
   "metadata": {},
   "outputs": [],
   "source": [
    "using CSV"
   ]
  },
  {
   "cell_type": "code",
   "execution_count": 6,
   "metadata": {},
   "outputs": [
    {
     "data": {
      "text/plain": [
       "\"gene_x_sample.tsv\""
      ]
     },
     "execution_count": 6,
     "metadata": {},
     "output_type": "execute_result"
    }
   ],
   "source": [
    "const gene_x_sample = DataFrame(\n",
    "    Symbol(\"Gene\") => genes,\n",
    "    Symbol(\"Sample 1\") => gene_values,\n",
    "    Symbol(\"Sample 2\") => gene_values * 10,\n",
    ")\n",
    "\n",
    "CSV.write(\n",
    "    \"gene_x_sample.tsv\",\n",
    "    gene_x_sample,\n",
    "    delim = '\\t',\n",
    ")"
   ]
  },
  {
   "cell_type": "code",
   "execution_count": 7,
   "metadata": {},
   "outputs": [],
   "source": [
    "using StatsBase"
   ]
  },
  {
   "cell_type": "code",
   "execution_count": 8,
   "metadata": {},
   "outputs": [
    {
     "data": {
      "text/plain": [
       "100-element Array{String,1}:\n",
       " \"HSPD1P8\"   \n",
       " \"LINC02214\" \n",
       " \"AKAP8P1\"   \n",
       " \"OR13Z1P\"   \n",
       " \"RELT\"      \n",
       " \"IGKV3-25\"  \n",
       " \"ZNF202\"    \n",
       " \"RTL8A\"     \n",
       " \"ENPP7P7\"   \n",
       " \"NPAS3\"     \n",
       " \"TERF1P4\"   \n",
       " \"ISCUP1\"    \n",
       " \"AC092171.5\"\n",
       " ⋮           \n",
       " \"PLCG2\"     \n",
       " \"APOC1P1\"   \n",
       " \"RPL21P134\" \n",
       " \"APOOP4\"    \n",
       " \"PALD1\"     \n",
       " \"AP001973.1\"\n",
       " \"MIR6853\"   \n",
       " \"TLCD1\"     \n",
       " \"LRRC40\"    \n",
       " \"ZNF716\"    \n",
       " \"LINC01929\" \n",
       " \"IGHV6-1\"   "
      ]
     },
     "execution_count": 8,
     "metadata": {},
     "output_type": "execute_result"
    }
   ],
   "source": [
    "const random_gene_set_genes = sample(\n",
    "    genes,\n",
    "    100,\n",
    "    replace = false,\n",
    ")"
   ]
  },
  {
   "cell_type": "code",
   "execution_count": 9,
   "metadata": {},
   "outputs": [
    {
     "data": {
      "text/plain": [
       "Dict{String,Array{String,1}} with 50 entries:\n",
       "  \"HALLMARK_REACTIVE_OXIGE… => [\"GSR\", \"PRDX2\", \"TXNRD1\", \"SOD1\", \"GCLC\", \"CAT\"…\n",
       "  \"HALLMARK_ANGIOGENESIS\"   => [\"VCAN\", \"POSTN\", \"FSTL1\", \"LRPAP1\", \"STC1\", \"LP…\n",
       "  \"HALLMARK_MYOGENESIS\"     => [\"ACTA1\", \"TNNI2\", \"MYL1\", \"TNNC1\", \"TNNC2\", \"MY…\n",
       "  \"HALLMARK_PEROXISOME\"     => [\"ABCD3\", \"ACOT8\", \"ACOX1\", \"ACSL1\", \"ECH1\", \"EC…\n",
       "  \"HALLMARK_UV_RESPONSE_DN\" => [\"TJP1\", \"NFIB\", \"TGFBR3\", \"TFPI\", \"MMP16\", \"ABC…\n",
       "  \"HALLMARK_NOTCH_SIGNALIN… => [\"JAG1\", \"NOTCH3\", \"NOTCH2\", \"APH1A\", \"HES1\", \"C…\n",
       "  \"HALLMARK_ANDROGEN_RESPO… => [\"KLK3\", \"KLK2\", \"ACSL3\", \"PIAS1\", \"CAMKK2\", \"NK…\n",
       "  \"HALLMARK_ALLOGRAFT_REJE… => [\"PTPRC\", \"IL12B\", \"TGFB1\", \"IL12A\", \"CD3E\", \"CD…\n",
       "  \"HALLMARK_ESTROGEN_RESPO… => [\"TFF1\", \"SLC9A3R1\", \"TPD52L1\", \"PRSS23\", \"CA12\"…\n",
       "  \"HALLMARK_G2M_CHECKPOINT\" => [\"AURKA\", \"CCNA2\", \"TOP2A\", \"CCNB2\", \"CENPA\", \"B…\n",
       "  \"HALLMARK_MYC_TARGETS_V2\" => [\"SLC19A1\", \"MRTO4\", \"TMEM97\", \"RRP9\", \"PES1\", \"…\n",
       "  \"HALLMARK_APOPTOSIS\"      => [\"CASP3\", \"CASP9\", \"DFFA\", \"CASP7\", \"CFLAR\", \"BI…\n",
       "  \"HALLMARK_P53_PATHWAY\"    => [\"CDKN1A\", \"BTG2\", \"MDM2\", \"CCNG1\", \"FAS\", \"TOB1…\n",
       "  \"HALLMARK_UNFOLDED_PROTE… => [\"ATF4\", \"HERPUD1\", \"PARN\", \"EXOSC4\", \"HSP90B1\",…\n",
       "  \"HALLMARK_ADIPOGENESIS\"   => [\"FABP4\", \"ADIPOQ\", \"PPARG\", \"LIPE\", \"DGAT1\", \"L…\n",
       "  \"HALLMARK_DNA_REPAIR\"     => [\"POLR2H\", \"POLR2A\", \"POLR2G\", \"POLR2E\", \"POLR2J…\n",
       "  \"HALLMARK_EPITHELIAL_MES… => [\"COL3A1\", \"COL5A2\", \"COL5A1\", \"FBN1\", \"COL1A1\",…\n",
       "  \"HALLMARK_OXIDATIVE_PHOS… => [\"NDUFS3\", \"UQCRB\", \"NDUFS2\", \"SDHA\", \"UQCRC1\", …\n",
       "  \"HALLMARK_HEME_METABOLIS… => [\"ALAS2\", \"PPOX\", \"FECH\", \"HMBS\", \"GYPB\", \"ALAD\"…\n",
       "  \"HALLMARK_MITOTIC_SPINDL… => [\"ARHGEF2\", \"CLASP1\", \"KIF11\", \"KIF23\", \"ALS2\", …\n",
       "  \"HALLMARK_FATTY_ACID_MET… => [\"ACAA1\", \"ACAA2\", \"ACADL\", \"ACADM\", \"ACOT8\", \"A…\n",
       "  \"HALLMARK_COMPLEMENT\"     => [\"C2\", \"C1S\", \"CFB\", \"C1R\", \"SERPINE1\", \"MMP14\",…\n",
       "  \"HALLMARK_APICAL_SURFACE\" => [\"B4GALT1\", \"RHCG\", \"MAL\", \"LYPD3\", \"PKHD1\", \"AT…\n",
       "  \"HALLMARK_ESTROGEN_RESPO… => [\"GREB1\", \"CA12\", \"SLC9A3R1\", \"MYB\", \"ANXA9\", \"I…\n",
       "  \"HALLMARK_INTERFERON_GAM… => [\"STAT1\", \"ISG15\", \"IFIT1\", \"MX1\", \"IFIT3\", \"IFI…\n",
       "  ⋮                         => ⋮"
      ]
     },
     "execution_count": 9,
     "metadata": {},
     "output_type": "execute_result"
    }
   ],
   "source": [
    "const gene_set_genes = Kraft.read_gmt([\n",
    "    \"h.all.v6.2.symbols.gmt\",\n",
    "])"
   ]
  },
  {
   "cell_type": "code",
   "execution_count": 10,
   "metadata": {},
   "outputs": [],
   "source": [
    "using BenchmarkTools"
   ]
  },
  {
   "cell_type": "markdown",
   "metadata": {},
   "source": [
    "## Compute gene set enrichment with 1 sample & 1 gene set"
   ]
  },
  {
   "cell_type": "code",
   "execution_count": 11,
   "metadata": {},
   "outputs": [
    {
     "data": {
      "text/plain": [
       "([-1.72849e-5, -3.45698e-5, -5.18547e-5, -6.91396e-5, -8.64244e-5, -0.000103709, -0.000120994, -0.000138279, -0.000155564, -0.000172849  …  0.000155564, 0.000138279, 0.000120994, 0.000103709, 8.64244e-5, 6.91396e-5, 5.18547e-5, 3.45698e-5, 1.72849e-5, 1.31569e-13], 0.23201317075892325, 3499.710783334894)"
      ]
     },
     "execution_count": 11,
     "metadata": {},
     "output_type": "execute_result"
    }
   ],
   "source": [
    "Kraft.compute_gene_set_enrichment(\n",
    "    gene_values,\n",
    "    genes,\n",
    "    random_gene_set_genes,\n",
    ")"
   ]
  },
  {
   "cell_type": "code",
   "execution_count": 12,
   "metadata": {},
   "outputs": [
    {
     "data": {
      "text/plain": [
       "BenchmarkTools.Trial: \n",
       "  memory estimate:  2.66 MiB\n",
       "  allocs estimate:  31\n",
       "  --------------\n",
       "  minimum time:     9.360 ms (0.00% GC)\n",
       "  median time:      11.611 ms (0.00% GC)\n",
       "  mean time:        12.404 ms (3.15% GC)\n",
       "  maximum time:     71.884 ms (82.90% GC)\n",
       "  --------------\n",
       "  samples:          403\n",
       "  evals/sample:     1"
      ]
     },
     "execution_count": 12,
     "metadata": {},
     "output_type": "execute_result"
    }
   ],
   "source": [
    "@benchmark Kraft.compute_gene_set_enrichment(\n",
    "    gene_values,\n",
    "    genes,\n",
    "    random_gene_set_genes,\n",
    ")"
   ]
  },
  {
   "cell_type": "markdown",
   "metadata": {},
   "source": [
    "## Compute gene set enrichment with 1 sample & 1< gene sets"
   ]
  },
  {
   "cell_type": "code",
   "execution_count": 13,
   "metadata": {},
   "outputs": [
    {
     "data": {
      "text/plain": [
       "Dict{String,Tuple{Union{Nothing, Array{Float64,1}},Float64,Float64}} with 50 entries:\n",
       "  \"HALLMARK_REACTIVE_OXIGEN_SPECIES_PATHWAY\"   => (nothing, 0.205542, 2373.21)\n",
       "  \"HALLMARK_ANGIOGENESIS\"                      => (nothing, 0.283773, 5565.41)\n",
       "  \"HALLMARK_MYOGENESIS\"                        => (nothing, 0.164777, -301.098)\n",
       "  \"HALLMARK_PEROXISOME\"                        => (nothing, 0.236267, 1791.7)\n",
       "  \"HALLMARK_UV_RESPONSE_DN\"                    => (nothing, -0.159099, -179.618)\n",
       "  \"HALLMARK_NOTCH_SIGNALING\"                   => (nothing, 0.318422, 6207.29)\n",
       "  \"HALLMARK_ANDROGEN_RESPONSE\"                 => (nothing, 0.202168, 2673.74)\n",
       "  \"HALLMARK_ALLOGRAFT_REJECTION\"               => (nothing, 0.197967, 1471.92)\n",
       "  \"HALLMARK_ESTROGEN_RESPONSE_LATE\"            => (nothing, 0.213671, 2617.54)\n",
       "  \"HALLMARK_G2M_CHECKPOINT\"                    => (nothing, 0.196601, 254.704)\n",
       "  \"HALLMARK_MYC_TARGETS_V2\"                    => (nothing, 0.193725, 1667.67)\n",
       "  \"HALLMARK_APOPTOSIS\"                         => (nothing, 0.182065, 309.792)\n",
       "  \"HALLMARK_P53_PATHWAY\"                       => (nothing, 0.191373, 772.091)\n",
       "  \"HALLMARK_UNFOLDED_PROTEIN_RESPONSE\"         => (nothing, 0.159584, 385.672)\n",
       "  \"HALLMARK_ADIPOGENESIS\"                      => (nothing, 0.190911, 1059.6)\n",
       "  \"HALLMARK_DNA_REPAIR\"                        => (nothing, 0.238255, 2464.24)\n",
       "  \"HALLMARK_EPITHELIAL_MESENCHYMAL_TRANSITION\" => (nothing, 0.241614, 3178.22)\n",
       "  \"HALLMARK_OXIDATIVE_PHOSPHORYLATION\"         => (nothing, -0.199093, -1813.28)\n",
       "  \"HALLMARK_HEME_METABOLISM\"                   => (nothing, 0.165329, -337.982)\n",
       "  \"HALLMARK_MITOTIC_SPINDLE\"                   => (nothing, 0.184249, 210.003)\n",
       "  \"HALLMARK_FATTY_ACID_METABOLISM\"             => (nothing, -0.251201, -4774.2)\n",
       "  \"HALLMARK_COMPLEMENT\"                        => (nothing, -0.192528, -1042.1)\n",
       "  \"HALLMARK_APICAL_SURFACE\"                    => (nothing, -0.319455, -8989.81)\n",
       "  \"HALLMARK_ESTROGEN_RESPONSE_EARLY\"           => (nothing, -0.20953, -1629.48)\n",
       "  \"HALLMARK_INTERFERON_GAMMA_RESPONSE\"         => (nothing, 0.183562, 1241.03)\n",
       "  ⋮                                            => ⋮"
      ]
     },
     "execution_count": 13,
     "metadata": {},
     "output_type": "execute_result"
    }
   ],
   "source": [
    "Kraft.compute_gene_set_enrichment(\n",
    "    gene_values,\n",
    "    genes,\n",
    "    gene_set_genes,\n",
    ")"
   ]
  },
  {
   "cell_type": "code",
   "execution_count": 14,
   "metadata": {},
   "outputs": [
    {
     "name": "stdout",
     "output_type": "stream",
     "text": [
      "1.0 ms / gene set\n"
     ]
    },
    {
     "data": {
      "text/plain": [
       "BenchmarkTools.Trial: \n",
       "  memory estimate:  51.24 MiB\n",
       "  allocs estimate:  559\n",
       "  --------------\n",
       "  minimum time:     52.300 ms (16.18% GC)\n",
       "  median time:      63.554 ms (14.79% GC)\n",
       "  mean time:        106.370 ms (25.00% GC)\n",
       "  maximum time:     432.589 ms (66.43% GC)\n",
       "  --------------\n",
       "  samples:          42\n",
       "  evals/sample:     1"
      ]
     },
     "execution_count": 14,
     "metadata": {},
     "output_type": "execute_result"
    }
   ],
   "source": [
    "benchmark_result = @benchmark Kraft.compute_gene_set_enrichment(\n",
    "    gene_values,\n",
    "    genes,\n",
    "    gene_set_genes,\n",
    ")\n",
    "\n",
    "ms_per_gene_set = round(\n",
    "    minimum(benchmark_result.times) / 1e6 / length(gene_set_genes),\n",
    "    sigdigits = 2,\n",
    ")\n",
    "\n",
    "println(\"$ms_per_gene_set ms / gene set\")\n",
    "\n",
    "benchmark_result"
   ]
  },
  {
   "cell_type": "markdown",
   "metadata": {},
   "source": [
    "## Compute gene set enrichment with 1< samples & 1< gene sets"
   ]
  },
  {
   "cell_type": "code",
   "execution_count": 15,
   "metadata": {},
   "outputs": [
    {
     "data": {
      "text/plain": [
       "\"ks\""
      ]
     },
     "execution_count": 15,
     "metadata": {},
     "output_type": "execute_result"
    }
   ],
   "source": [
    "statistic = \"ks\""
   ]
  },
  {
   "cell_type": "code",
   "execution_count": 16,
   "metadata": {},
   "outputs": [
    {
     "data": {
      "text/html": [
       "<table class=\"data-frame\"><thead><tr><th></th><th>Gene Set</th><th>Sample 1</th><th>Sample 2</th></tr><tr><th></th><th>String</th><th>Float64</th><th>Float64</th></tr></thead><tbody><p>50 rows × 3 columns</p><tr><th>1</th><td>HALLMARK_REACTIVE_OXIGEN_SPECIES_PATHWAY</td><td>0.205542</td><td>0.205542</td></tr><tr><th>2</th><td>HALLMARK_ANGIOGENESIS</td><td>0.283773</td><td>0.283773</td></tr><tr><th>3</th><td>HALLMARK_MYOGENESIS</td><td>0.164777</td><td>0.164777</td></tr><tr><th>4</th><td>HALLMARK_PEROXISOME</td><td>0.236267</td><td>0.236267</td></tr><tr><th>5</th><td>HALLMARK_UV_RESPONSE_DN</td><td>-0.159099</td><td>-0.159099</td></tr><tr><th>6</th><td>HALLMARK_NOTCH_SIGNALING</td><td>0.318422</td><td>0.318422</td></tr><tr><th>7</th><td>HALLMARK_ANDROGEN_RESPONSE</td><td>0.202168</td><td>0.202168</td></tr><tr><th>8</th><td>HALLMARK_ALLOGRAFT_REJECTION</td><td>0.197967</td><td>0.197967</td></tr><tr><th>9</th><td>HALLMARK_ESTROGEN_RESPONSE_LATE</td><td>0.213671</td><td>0.213671</td></tr><tr><th>10</th><td>HALLMARK_G2M_CHECKPOINT</td><td>0.196601</td><td>0.196601</td></tr><tr><th>11</th><td>HALLMARK_MYC_TARGETS_V2</td><td>0.193725</td><td>0.193725</td></tr><tr><th>12</th><td>HALLMARK_APOPTOSIS</td><td>0.182065</td><td>0.182065</td></tr><tr><th>13</th><td>HALLMARK_P53_PATHWAY</td><td>0.191373</td><td>0.191373</td></tr><tr><th>14</th><td>HALLMARK_UNFOLDED_PROTEIN_RESPONSE</td><td>0.159584</td><td>0.159584</td></tr><tr><th>15</th><td>HALLMARK_ADIPOGENESIS</td><td>0.190911</td><td>0.190911</td></tr><tr><th>16</th><td>HALLMARK_DNA_REPAIR</td><td>0.238255</td><td>0.238255</td></tr><tr><th>17</th><td>HALLMARK_EPITHELIAL_MESENCHYMAL_TRANSITION</td><td>0.241614</td><td>0.241614</td></tr><tr><th>18</th><td>HALLMARK_OXIDATIVE_PHOSPHORYLATION</td><td>-0.199093</td><td>-0.199093</td></tr><tr><th>19</th><td>HALLMARK_HEME_METABOLISM</td><td>0.165329</td><td>0.165329</td></tr><tr><th>20</th><td>HALLMARK_MITOTIC_SPINDLE</td><td>0.184249</td><td>0.184249</td></tr><tr><th>21</th><td>HALLMARK_FATTY_ACID_METABOLISM</td><td>-0.251201</td><td>-0.251201</td></tr><tr><th>22</th><td>HALLMARK_COMPLEMENT</td><td>-0.192528</td><td>-0.192528</td></tr><tr><th>23</th><td>HALLMARK_APICAL_SURFACE</td><td>-0.319455</td><td>-0.319455</td></tr><tr><th>24</th><td>HALLMARK_ESTROGEN_RESPONSE_EARLY</td><td>-0.20953</td><td>-0.20953</td></tr><tr><th>25</th><td>HALLMARK_INTERFERON_GAMMA_RESPONSE</td><td>0.183562</td><td>0.183562</td></tr><tr><th>26</th><td>HALLMARK_MTORC1_SIGNALING</td><td>0.219655</td><td>0.219655</td></tr><tr><th>27</th><td>HALLMARK_INTERFERON_ALPHA_RESPONSE</td><td>0.191966</td><td>0.191966</td></tr><tr><th>28</th><td>HALLMARK_PI3K_AKT_MTOR_SIGNALING</td><td>0.168733</td><td>0.168733</td></tr><tr><th>29</th><td>HALLMARK_XENOBIOTIC_METABOLISM</td><td>0.194043</td><td>0.194043</td></tr><tr><th>30</th><td>HALLMARK_KRAS_SIGNALING_DN</td><td>0.201348</td><td>0.201348</td></tr><tr><th>&vellip;</th><td>&vellip;</td><td>&vellip;</td><td>&vellip;</td></tr></tbody></table>"
      ],
      "text/latex": [
       "\\begin{tabular}{r|ccc}\n",
       "\t& Gene Set & Sample 1 & Sample 2\\\\\n",
       "\t\\hline\n",
       "\t& String & Float64 & Float64\\\\\n",
       "\t\\hline\n",
       "\t1 & HALLMARK\\_REACTIVE\\_OXIGEN\\_SPECIES\\_PATHWAY & 0.205542 & 0.205542 \\\\\n",
       "\t2 & HALLMARK\\_ANGIOGENESIS & 0.283773 & 0.283773 \\\\\n",
       "\t3 & HALLMARK\\_MYOGENESIS & 0.164777 & 0.164777 \\\\\n",
       "\t4 & HALLMARK\\_PEROXISOME & 0.236267 & 0.236267 \\\\\n",
       "\t5 & HALLMARK\\_UV\\_RESPONSE\\_DN & -0.159099 & -0.159099 \\\\\n",
       "\t6 & HALLMARK\\_NOTCH\\_SIGNALING & 0.318422 & 0.318422 \\\\\n",
       "\t7 & HALLMARK\\_ANDROGEN\\_RESPONSE & 0.202168 & 0.202168 \\\\\n",
       "\t8 & HALLMARK\\_ALLOGRAFT\\_REJECTION & 0.197967 & 0.197967 \\\\\n",
       "\t9 & HALLMARK\\_ESTROGEN\\_RESPONSE\\_LATE & 0.213671 & 0.213671 \\\\\n",
       "\t10 & HALLMARK\\_G2M\\_CHECKPOINT & 0.196601 & 0.196601 \\\\\n",
       "\t11 & HALLMARK\\_MYC\\_TARGETS\\_V2 & 0.193725 & 0.193725 \\\\\n",
       "\t12 & HALLMARK\\_APOPTOSIS & 0.182065 & 0.182065 \\\\\n",
       "\t13 & HALLMARK\\_P53\\_PATHWAY & 0.191373 & 0.191373 \\\\\n",
       "\t14 & HALLMARK\\_UNFOLDED\\_PROTEIN\\_RESPONSE & 0.159584 & 0.159584 \\\\\n",
       "\t15 & HALLMARK\\_ADIPOGENESIS & 0.190911 & 0.190911 \\\\\n",
       "\t16 & HALLMARK\\_DNA\\_REPAIR & 0.238255 & 0.238255 \\\\\n",
       "\t17 & HALLMARK\\_EPITHELIAL\\_MESENCHYMAL\\_TRANSITION & 0.241614 & 0.241614 \\\\\n",
       "\t18 & HALLMARK\\_OXIDATIVE\\_PHOSPHORYLATION & -0.199093 & -0.199093 \\\\\n",
       "\t19 & HALLMARK\\_HEME\\_METABOLISM & 0.165329 & 0.165329 \\\\\n",
       "\t20 & HALLMARK\\_MITOTIC\\_SPINDLE & 0.184249 & 0.184249 \\\\\n",
       "\t21 & HALLMARK\\_FATTY\\_ACID\\_METABOLISM & -0.251201 & -0.251201 \\\\\n",
       "\t22 & HALLMARK\\_COMPLEMENT & -0.192528 & -0.192528 \\\\\n",
       "\t23 & HALLMARK\\_APICAL\\_SURFACE & -0.319455 & -0.319455 \\\\\n",
       "\t24 & HALLMARK\\_ESTROGEN\\_RESPONSE\\_EARLY & -0.20953 & -0.20953 \\\\\n",
       "\t25 & HALLMARK\\_INTERFERON\\_GAMMA\\_RESPONSE & 0.183562 & 0.183562 \\\\\n",
       "\t26 & HALLMARK\\_MTORC1\\_SIGNALING & 0.219655 & 0.219655 \\\\\n",
       "\t27 & HALLMARK\\_INTERFERON\\_ALPHA\\_RESPONSE & 0.191966 & 0.191966 \\\\\n",
       "\t28 & HALLMARK\\_PI3K\\_AKT\\_MTOR\\_SIGNALING & 0.168733 & 0.168733 \\\\\n",
       "\t29 & HALLMARK\\_XENOBIOTIC\\_METABOLISM & 0.194043 & 0.194043 \\\\\n",
       "\t30 & HALLMARK\\_KRAS\\_SIGNALING\\_DN & 0.201348 & 0.201348 \\\\\n",
       "\t$\\dots$ & $\\dots$ & $\\dots$ & $\\dots$ \\\\\n",
       "\\end{tabular}\n"
      ],
      "text/plain": [
       "50×3 DataFrame\n",
       "│ Row │ Gene Set                                 │ Sample 1  │ Sample 2  │\n",
       "│     │ \u001b[90mString\u001b[39m                                   │ \u001b[90mFloat64\u001b[39m   │ \u001b[90mFloat64\u001b[39m   │\n",
       "├─────┼──────────────────────────────────────────┼───────────┼───────────┤\n",
       "│ 1   │ HALLMARK_REACTIVE_OXIGEN_SPECIES_PATHWAY │ 0.205542  │ 0.205542  │\n",
       "│ 2   │ HALLMARK_ANGIOGENESIS                    │ 0.283773  │ 0.283773  │\n",
       "│ 3   │ HALLMARK_MYOGENESIS                      │ 0.164777  │ 0.164777  │\n",
       "│ 4   │ HALLMARK_PEROXISOME                      │ 0.236267  │ 0.236267  │\n",
       "│ 5   │ HALLMARK_UV_RESPONSE_DN                  │ -0.159099 │ -0.159099 │\n",
       "│ 6   │ HALLMARK_NOTCH_SIGNALING                 │ 0.318422  │ 0.318422  │\n",
       "│ 7   │ HALLMARK_ANDROGEN_RESPONSE               │ 0.202168  │ 0.202168  │\n",
       "│ 8   │ HALLMARK_ALLOGRAFT_REJECTION             │ 0.197967  │ 0.197967  │\n",
       "│ 9   │ HALLMARK_ESTROGEN_RESPONSE_LATE          │ 0.213671  │ 0.213671  │\n",
       "│ 10  │ HALLMARK_G2M_CHECKPOINT                  │ 0.196601  │ 0.196601  │\n",
       "⋮\n",
       "│ 40  │ HALLMARK_BILE_ACID_METABOLISM            │ 0.203302  │ 0.203302  │\n",
       "│ 41  │ HALLMARK_KRAS_SIGNALING_UP               │ -0.240213 │ -0.240213 │\n",
       "│ 42  │ HALLMARK_INFLAMMATORY_RESPONSE           │ -0.222829 │ -0.222829 │\n",
       "│ 43  │ HALLMARK_CHOLESTEROL_HOMEOSTASIS         │ 0.227381  │ 0.227381  │\n",
       "│ 44  │ HALLMARK_TGF_BETA_SIGNALING              │ -0.229965 │ -0.229965 │\n",
       "│ 45  │ HALLMARK_PANCREAS_BETA_CELLS             │ -0.25698  │ -0.25698  │\n",
       "│ 46  │ HALLMARK_COAGULATION                     │ -0.181227 │ -0.181227 │\n",
       "│ 47  │ HALLMARK_HYPOXIA                         │ 0.240832  │ 0.240832  │\n",
       "│ 48  │ HALLMARK_GLYCOLYSIS                      │ 0.191254  │ 0.191254  │\n",
       "│ 49  │ HALLMARK_HEDGEHOG_SIGNALING              │ 0.27841   │ 0.27841   │\n",
       "│ 50  │ HALLMARK_IL6_JAK_STAT3_SIGNALING         │ 0.244044  │ 0.244044  │"
      ]
     },
     "execution_count": 16,
     "metadata": {},
     "output_type": "execute_result"
    }
   ],
   "source": [
    "Kraft.compute_gene_set_enrichment(\n",
    "    gene_x_sample,\n",
    "    gene_set_genes,\n",
    "    statistic,\n",
    ")"
   ]
  },
  {
   "cell_type": "code",
   "execution_count": 17,
   "metadata": {},
   "outputs": [
    {
     "data": {
      "text/plain": [
       "BenchmarkTools.Trial: \n",
       "  memory estimate:  108.47 MiB\n",
       "  allocs estimate:  1532\n",
       "  --------------\n",
       "  minimum time:     114.405 ms (15.34% GC)\n",
       "  median time:      130.449 ms (14.90% GC)\n",
       "  mean time:        148.448 ms (22.66% GC)\n",
       "  maximum time:     259.901 ms (16.96% GC)\n",
       "  --------------\n",
       "  samples:          35\n",
       "  evals/sample:     1"
      ]
     },
     "execution_count": 17,
     "metadata": {},
     "output_type": "execute_result"
    }
   ],
   "source": [
    "@benchmark gene_set_x_sample = Kraft.compute_gene_set_enrichment(\n",
    "    gene_x_sample,\n",
    "    gene_set_genes,\n",
    "    statistic,\n",
    ")"
   ]
  },
  {
   "cell_type": "markdown",
   "metadata": {},
   "source": [
    "## GSEA"
   ]
  },
  {
   "cell_type": "code",
   "execution_count": 19,
   "metadata": {},
   "outputs": [
    {
     "data": {
      "text/html": [
       "<table class=\"data-frame\"><thead><tr><th></th><th>Gene Set</th><th>Sample 1</th><th>Sample 2</th></tr><tr><th></th><th>String</th><th>Float64</th><th>Float64</th></tr></thead><tbody><p>4,762 rows × 3 columns</p><tr><th>1</th><td>REACTOME_EXTRACELLULAR_MATRIX_ORGANIZATION</td><td>0.203396</td><td>0.203396</td></tr><tr><th>2</th><td>GARCIA_TARGETS_OF_FLI1_AND_DAX1_UP</td><td>-0.184381</td><td>-0.184381</td></tr><tr><th>3</th><td>SIMBULAN_PARP1_TARGETS_UP</td><td>0.32184</td><td>0.32184</td></tr><tr><th>4</th><td>WEI_MYCN_TARGETS_WITH_E_BOX</td><td>0.190508</td><td>0.190508</td></tr><tr><th>5</th><td>PID_RET_PATHWAY</td><td>0.347607</td><td>0.347607</td></tr><tr><th>6</th><td>MARIADASON_RESPONSE_TO_CURCUMIN_SULINDAC_7</td><td>0.327266</td><td>0.327266</td></tr><tr><th>7</th><td>REACTOME_GPCR_LIGAND_BINDING</td><td>-0.181186</td><td>-0.181186</td></tr><tr><th>8</th><td>KEGG_CYTOSOLIC_DNA_SENSING_PATHWAY</td><td>-0.333964</td><td>-0.333964</td></tr><tr><th>9</th><td>HOSHIDA_LIVER_CANCER_SUBCLASS_S3</td><td>0.213893</td><td>0.213893</td></tr><tr><th>10</th><td>LIAN_LIPA_TARGETS_3M</td><td>0.195381</td><td>0.195381</td></tr><tr><th>11</th><td>SENESE_HDAC3_TARGETS_UP</td><td>-0.175086</td><td>-0.175086</td></tr><tr><th>12</th><td>BIOCARTA_TOB1_PATHWAY</td><td>0.325438</td><td>0.325438</td></tr><tr><th>13</th><td>RODRIGUES_THYROID_CARCINOMA_POORLY_DIFFERENTIATED_DN</td><td>0.170829</td><td>0.170829</td></tr><tr><th>14</th><td>KIM_RESPONSE_TO_TSA_AND_DECITABINE_UP</td><td>-0.222355</td><td>-0.222355</td></tr><tr><th>15</th><td>FRIDMAN_SENESCENCE_UP</td><td>-0.251538</td><td>-0.251538</td></tr><tr><th>16</th><td>CREIGHTON_ENDOCRINE_THERAPY_RESISTANCE_2</td><td>0.165446</td><td>0.165446</td></tr><tr><th>17</th><td>PAL_PRMT5_TARGETS_DN</td><td>-0.184054</td><td>-0.184054</td></tr><tr><th>18</th><td>REACTOME_NEURONAL_SYSTEM</td><td>0.16582</td><td>0.16582</td></tr><tr><th>19</th><td>REACTOME_LAGGING_STRAND_SYNTHESIS</td><td>0.308079</td><td>0.308079</td></tr><tr><th>20</th><td>REACTOME_O_LINKED_GLYCOSYLATION_OF_MUCINS</td><td>-0.262138</td><td>-0.262138</td></tr><tr><th>21</th><td>FUNG_IL2_SIGNALING_2</td><td>-0.230762</td><td>-0.230762</td></tr><tr><th>22</th><td>BIOCARTA_CHREBP2_PATHWAY</td><td>0.258386</td><td>0.258386</td></tr><tr><th>23</th><td>LU_TUMOR_VASCULATURE_UP</td><td>0.266903</td><td>0.266903</td></tr><tr><th>24</th><td>PID_FOXM1_PATHWAY</td><td>0.243693</td><td>0.243693</td></tr><tr><th>25</th><td>LEIN_CHOROID_PLEXUS_MARKERS</td><td>0.237786</td><td>0.237786</td></tr><tr><th>26</th><td>MOOTHA_PGC</td><td>0.192611</td><td>0.192611</td></tr><tr><th>27</th><td>REACTOME_FGFR4_LIGAND_BINDING_AND_ACTIVATION</td><td>0.439242</td><td>0.439242</td></tr><tr><th>28</th><td>FERRANDO_TAL1_NEIGHBORS</td><td>-0.25802</td><td>-0.25802</td></tr><tr><th>29</th><td>HOLLEMAN_ASPARAGINASE_RESISTANCE_B_ALL_UP</td><td>-0.243364</td><td>-0.243364</td></tr><tr><th>30</th><td>KEGG_GALACTOSE_METABOLISM</td><td>-0.276588</td><td>-0.276588</td></tr><tr><th>&vellip;</th><td>&vellip;</td><td>&vellip;</td><td>&vellip;</td></tr></tbody></table>"
      ],
      "text/latex": [
       "\\begin{tabular}{r|ccc}\n",
       "\t& Gene Set & Sample 1 & Sample 2\\\\\n",
       "\t\\hline\n",
       "\t& String & Float64 & Float64\\\\\n",
       "\t\\hline\n",
       "\t1 & REACTOME\\_EXTRACELLULAR\\_MATRIX\\_ORGANIZATION & 0.203396 & 0.203396 \\\\\n",
       "\t2 & GARCIA\\_TARGETS\\_OF\\_FLI1\\_AND\\_DAX1\\_UP & -0.184381 & -0.184381 \\\\\n",
       "\t3 & SIMBULAN\\_PARP1\\_TARGETS\\_UP & 0.32184 & 0.32184 \\\\\n",
       "\t4 & WEI\\_MYCN\\_TARGETS\\_WITH\\_E\\_BOX & 0.190508 & 0.190508 \\\\\n",
       "\t5 & PID\\_RET\\_PATHWAY & 0.347607 & 0.347607 \\\\\n",
       "\t6 & MARIADASON\\_RESPONSE\\_TO\\_CURCUMIN\\_SULINDAC\\_7 & 0.327266 & 0.327266 \\\\\n",
       "\t7 & REACTOME\\_GPCR\\_LIGAND\\_BINDING & -0.181186 & -0.181186 \\\\\n",
       "\t8 & KEGG\\_CYTOSOLIC\\_DNA\\_SENSING\\_PATHWAY & -0.333964 & -0.333964 \\\\\n",
       "\t9 & HOSHIDA\\_LIVER\\_CANCER\\_SUBCLASS\\_S3 & 0.213893 & 0.213893 \\\\\n",
       "\t10 & LIAN\\_LIPA\\_TARGETS\\_3M & 0.195381 & 0.195381 \\\\\n",
       "\t11 & SENESE\\_HDAC3\\_TARGETS\\_UP & -0.175086 & -0.175086 \\\\\n",
       "\t12 & BIOCARTA\\_TOB1\\_PATHWAY & 0.325438 & 0.325438 \\\\\n",
       "\t13 & RODRIGUES\\_THYROID\\_CARCINOMA\\_POORLY\\_DIFFERENTIATED\\_DN & 0.170829 & 0.170829 \\\\\n",
       "\t14 & KIM\\_RESPONSE\\_TO\\_TSA\\_AND\\_DECITABINE\\_UP & -0.222355 & -0.222355 \\\\\n",
       "\t15 & FRIDMAN\\_SENESCENCE\\_UP & -0.251538 & -0.251538 \\\\\n",
       "\t16 & CREIGHTON\\_ENDOCRINE\\_THERAPY\\_RESISTANCE\\_2 & 0.165446 & 0.165446 \\\\\n",
       "\t17 & PAL\\_PRMT5\\_TARGETS\\_DN & -0.184054 & -0.184054 \\\\\n",
       "\t18 & REACTOME\\_NEURONAL\\_SYSTEM & 0.16582 & 0.16582 \\\\\n",
       "\t19 & REACTOME\\_LAGGING\\_STRAND\\_SYNTHESIS & 0.308079 & 0.308079 \\\\\n",
       "\t20 & REACTOME\\_O\\_LINKED\\_GLYCOSYLATION\\_OF\\_MUCINS & -0.262138 & -0.262138 \\\\\n",
       "\t21 & FUNG\\_IL2\\_SIGNALING\\_2 & -0.230762 & -0.230762 \\\\\n",
       "\t22 & BIOCARTA\\_CHREBP2\\_PATHWAY & 0.258386 & 0.258386 \\\\\n",
       "\t23 & LU\\_TUMOR\\_VASCULATURE\\_UP & 0.266903 & 0.266903 \\\\\n",
       "\t24 & PID\\_FOXM1\\_PATHWAY & 0.243693 & 0.243693 \\\\\n",
       "\t25 & LEIN\\_CHOROID\\_PLEXUS\\_MARKERS & 0.237786 & 0.237786 \\\\\n",
       "\t26 & MOOTHA\\_PGC & 0.192611 & 0.192611 \\\\\n",
       "\t27 & REACTOME\\_FGFR4\\_LIGAND\\_BINDING\\_AND\\_ACTIVATION & 0.439242 & 0.439242 \\\\\n",
       "\t28 & FERRANDO\\_TAL1\\_NEIGHBORS & -0.25802 & -0.25802 \\\\\n",
       "\t29 & HOLLEMAN\\_ASPARAGINASE\\_RESISTANCE\\_B\\_ALL\\_UP & -0.243364 & -0.243364 \\\\\n",
       "\t30 & KEGG\\_GALACTOSE\\_METABOLISM & -0.276588 & -0.276588 \\\\\n",
       "\t$\\dots$ & $\\dots$ & $\\dots$ & $\\dots$ \\\\\n",
       "\\end{tabular}\n"
      ],
      "text/plain": [
       "4762×3 DataFrame\n",
       "│ Row  │ Gene Set                                    │ Sample 1  │ Sample 2  │\n",
       "│      │ \u001b[90mString\u001b[39m                                      │ \u001b[90mFloat64\u001b[39m   │ \u001b[90mFloat64\u001b[39m   │\n",
       "├──────┼─────────────────────────────────────────────┼───────────┼───────────┤\n",
       "│ 1    │ REACTOME_EXTRACELLULAR_MATRIX_ORGANIZATION  │ 0.203396  │ 0.203396  │\n",
       "│ 2    │ GARCIA_TARGETS_OF_FLI1_AND_DAX1_UP          │ -0.184381 │ -0.184381 │\n",
       "│ 3    │ SIMBULAN_PARP1_TARGETS_UP                   │ 0.32184   │ 0.32184   │\n",
       "│ 4    │ WEI_MYCN_TARGETS_WITH_E_BOX                 │ 0.190508  │ 0.190508  │\n",
       "│ 5    │ PID_RET_PATHWAY                             │ 0.347607  │ 0.347607  │\n",
       "│ 6    │ MARIADASON_RESPONSE_TO_CURCUMIN_SULINDAC_7  │ 0.327266  │ 0.327266  │\n",
       "│ 7    │ REACTOME_GPCR_LIGAND_BINDING                │ -0.181186 │ -0.181186 │\n",
       "│ 8    │ KEGG_CYTOSOLIC_DNA_SENSING_PATHWAY          │ -0.333964 │ -0.333964 │\n",
       "│ 9    │ HOSHIDA_LIVER_CANCER_SUBCLASS_S3            │ 0.213893  │ 0.213893  │\n",
       "│ 10   │ LIAN_LIPA_TARGETS_3M                        │ 0.195381  │ 0.195381  │\n",
       "⋮\n",
       "│ 4752 │ INAMURA_LUNG_CANCER_SCC_DN                  │ 0.401688  │ 0.401688  │\n",
       "│ 4753 │ MIKKELSEN_NPC_LCP_WITH_H3K4ME3              │ 0.238411  │ 0.238411  │\n",
       "│ 4754 │ PID_MTOR_4PATHWAY                           │ 0.17323   │ 0.17323   │\n",
       "│ 4755 │ BEIER_GLIOMA_STEM_CELL_DN                   │ -0.27904  │ -0.27904  │\n",
       "│ 4756 │ REACTOME_KERATAN_SULFATE_KERATIN_METABOLISM │ 0.296327  │ 0.296327  │\n",
       "│ 4757 │ DER_IFN_GAMMA_RESPONSE_UP                   │ -0.198429 │ -0.198429 │\n",
       "│ 4758 │ STEGER_ADIPOGENESIS_DN                      │ -0.222239 │ -0.222239 │\n",
       "│ 4759 │ NIKOLSKY_BREAST_CANCER_20Q12_Q13_AMPLICON   │ -0.192718 │ -0.192718 │\n",
       "│ 4760 │ VERRECCHIA_RESPONSE_TO_TGFB1_C6             │ 0.365361  │ 0.365361  │\n",
       "│ 4761 │ SCHAEFFER_PROSTATE_DEVELOPMENT_6HR_UP       │ -0.205298 │ -0.205298 │\n",
       "│ 4762 │ GRABARCZYK_BCL11B_TARGETS_UP                │ -0.197045 │ -0.197045 │"
      ]
     },
     "execution_count": 19,
     "metadata": {},
     "output_type": "execute_result"
    }
   ],
   "source": [
    "output_directory_path = \"gsea_output\"\n",
    "\n",
    "gene_set_x_sample = Kraft.gsea(\n",
    "    \"gene_x_sample.tsv\",\n",
    "    [\n",
    "#         \"h.all.v6.2.symbols.gmt\",\n",
    "        \"c2.all.v6.2.symbols.gmt\",\n",
    "    ],\n",
    "    output_directory_path;\n",
    "    statistic = statistic,\n",
    ")\n",
    "\n",
    "gene_set_x_sample = CSV.read(joinpath(\n",
    "    output_directory_path,\n",
    "    \"gene_set_x_sample.tsv\",\n",
    "))"
   ]
  },
  {
   "cell_type": "code",
   "execution_count": 129,
   "metadata": {
    "scrolled": false
   },
   "outputs": [
    {
     "data": {
      "text/html": [
       "<table class=\"data-frame\"><thead><tr><th></th><th>Gene Set</th><th>Sample 1</th><th>Sample 2</th></tr><tr><th></th><th>String</th><th>Float64</th><th>Float64</th></tr></thead><tbody><p>1,118 rows × 3 columns</p><tr><th>1</th><td>GARCIA_TARGETS_OF_FLI1_AND_DAX1</td><td>0.0790838</td><td>0.0790838</td></tr><tr><th>2</th><td>SIMBULAN_PARP1_TARGETS</td><td>0.0149156</td><td>0.0149156</td></tr><tr><th>3</th><td>SENESE_HDAC3_TARGETS</td><td>-0.358149</td><td>-0.358149</td></tr><tr><th>4</th><td>KIM_RESPONSE_TO_TSA_AND_DECITABINE</td><td>0.017327</td><td>0.017327</td></tr><tr><th>5</th><td>FRIDMAN_SENESCENCE</td><td>-0.901125</td><td>-0.901125</td></tr><tr><th>6</th><td>LU_TUMOR_VASCULATURE</td><td>-0.0533392</td><td>-0.0533392</td></tr><tr><th>7</th><td>HOLLEMAN_ASPARAGINASE_RESISTANCE_B_ALL</td><td>-0.693307</td><td>-0.693307</td></tr><tr><th>8</th><td>KOKKINAKIS_METHIONINE_DEPRIVATION_48HR</td><td>-0.119543</td><td>-0.119543</td></tr><tr><th>9</th><td>KYNG_WERNER_SYNDROM</td><td>0.548188</td><td>0.548188</td></tr><tr><th>10</th><td>ZHAN_MULTIPLE_MYELOMA_CD1_AND_CD2</td><td>0.138588</td><td>0.138588</td></tr><tr><th>11</th><td>DAZARD_RESPONSE_TO_UV_SCC</td><td>-0.0695457</td><td>-0.0695457</td></tr><tr><th>12</th><td>RUAN_RESPONSE_TO_TROGLITAZONE</td><td>0.565128</td><td>0.565128</td></tr><tr><th>13</th><td>XU_CREBBP_TARGETS</td><td>0.172671</td><td>0.172671</td></tr><tr><th>14</th><td>VILIMAS_NOTCH1_TARGETS</td><td>-0.533168</td><td>-0.533168</td></tr><tr><th>15</th><td>LANDIS_ERBB2_BREAST_TUMORS_324</td><td>-0.364744</td><td>-0.364744</td></tr><tr><th>16</th><td>KANG_AR_TARGETS</td><td>0.591861</td><td>0.591861</td></tr><tr><th>17</th><td>OXFORD_RALB_TARGETS</td><td>0.139115</td><td>0.139115</td></tr><tr><th>18</th><td>RAMJAUN_APOPTOSIS_BY_TGFB1_VIA_SMAD4</td><td>-0.834866</td><td>-0.834866</td></tr><tr><th>19</th><td>WHITESIDE_CISPLATIN_RESISTANCE</td><td>-0.105327</td><td>-0.105327</td></tr><tr><th>20</th><td>WANG_RESPONSE_TO_BEXAROTENE</td><td>-0.459299</td><td>-0.459299</td></tr><tr><th>21</th><td>BAELDE_DIABETIC_NEPHROPATHY</td><td>0.415636</td><td>0.415636</td></tr><tr><th>22</th><td>MAGRANGEAS_MULTIPLE_MYELOMA_IGLL_VS_IGLK</td><td>0.107635</td><td>0.107635</td></tr><tr><th>23</th><td>NAKAYAMA_SOFT_TISSUE_TUMORS_PCA1</td><td>-0.030129</td><td>-0.030129</td></tr><tr><th>24</th><td>SASSON_RESPONSE_TO_FORSKOLIN</td><td>0.0985324</td><td>0.0985324</td></tr><tr><th>25</th><td>FONTAINE_PAPILLARY_THYROID_CARCINOMA</td><td>-0.564496</td><td>-0.564496</td></tr><tr><th>26</th><td>HAN_SATB1_TARGETS</td><td>0.34797</td><td>0.34797</td></tr><tr><th>27</th><td>PUIFFE_INVASION_INHIBITED_BY_ASCITES</td><td>-0.502732</td><td>-0.502732</td></tr><tr><th>28</th><td>YAGUE_PRETUMOR_DRUG_RESISTANCE</td><td>0.678853</td><td>0.678853</td></tr><tr><th>29</th><td>HUANG_FOXA2_TARGETS</td><td>-0.00612856</td><td>-0.00612856</td></tr><tr><th>30</th><td>RORIE_TARGETS_OF_EWSR1_FLI1_FUSION</td><td>-0.579005</td><td>-0.579005</td></tr><tr><th>&vellip;</th><td>&vellip;</td><td>&vellip;</td><td>&vellip;</td></tr></tbody></table>"
      ],
      "text/latex": [
       "\\begin{tabular}{r|ccc}\n",
       "\t& Gene Set & Sample 1 & Sample 2\\\\\n",
       "\t\\hline\n",
       "\t& String & Float64 & Float64\\\\\n",
       "\t\\hline\n",
       "\t1 & GARCIA\\_TARGETS\\_OF\\_FLI1\\_AND\\_DAX1 & 0.0790838 & 0.0790838 \\\\\n",
       "\t2 & SIMBULAN\\_PARP1\\_TARGETS & 0.0149156 & 0.0149156 \\\\\n",
       "\t3 & SENESE\\_HDAC3\\_TARGETS & -0.358149 & -0.358149 \\\\\n",
       "\t4 & KIM\\_RESPONSE\\_TO\\_TSA\\_AND\\_DECITABINE & 0.017327 & 0.017327 \\\\\n",
       "\t5 & FRIDMAN\\_SENESCENCE & -0.901125 & -0.901125 \\\\\n",
       "\t6 & LU\\_TUMOR\\_VASCULATURE & -0.0533392 & -0.0533392 \\\\\n",
       "\t7 & HOLLEMAN\\_ASPARAGINASE\\_RESISTANCE\\_B\\_ALL & -0.693307 & -0.693307 \\\\\n",
       "\t8 & KOKKINAKIS\\_METHIONINE\\_DEPRIVATION\\_48HR & -0.119543 & -0.119543 \\\\\n",
       "\t9 & KYNG\\_WERNER\\_SYNDROM & 0.548188 & 0.548188 \\\\\n",
       "\t10 & ZHAN\\_MULTIPLE\\_MYELOMA\\_CD1\\_AND\\_CD2 & 0.138588 & 0.138588 \\\\\n",
       "\t11 & DAZARD\\_RESPONSE\\_TO\\_UV\\_SCC & -0.0695457 & -0.0695457 \\\\\n",
       "\t12 & RUAN\\_RESPONSE\\_TO\\_TROGLITAZONE & 0.565128 & 0.565128 \\\\\n",
       "\t13 & XU\\_CREBBP\\_TARGETS & 0.172671 & 0.172671 \\\\\n",
       "\t14 & VILIMAS\\_NOTCH1\\_TARGETS & -0.533168 & -0.533168 \\\\\n",
       "\t15 & LANDIS\\_ERBB2\\_BREAST\\_TUMORS\\_324 & -0.364744 & -0.364744 \\\\\n",
       "\t16 & KANG\\_AR\\_TARGETS & 0.591861 & 0.591861 \\\\\n",
       "\t17 & OXFORD\\_RALB\\_TARGETS & 0.139115 & 0.139115 \\\\\n",
       "\t18 & RAMJAUN\\_APOPTOSIS\\_BY\\_TGFB1\\_VIA\\_SMAD4 & -0.834866 & -0.834866 \\\\\n",
       "\t19 & WHITESIDE\\_CISPLATIN\\_RESISTANCE & -0.105327 & -0.105327 \\\\\n",
       "\t20 & WANG\\_RESPONSE\\_TO\\_BEXAROTENE & -0.459299 & -0.459299 \\\\\n",
       "\t21 & BAELDE\\_DIABETIC\\_NEPHROPATHY & 0.415636 & 0.415636 \\\\\n",
       "\t22 & MAGRANGEAS\\_MULTIPLE\\_MYELOMA\\_IGLL\\_VS\\_IGLK & 0.107635 & 0.107635 \\\\\n",
       "\t23 & NAKAYAMA\\_SOFT\\_TISSUE\\_TUMORS\\_PCA1 & -0.030129 & -0.030129 \\\\\n",
       "\t24 & SASSON\\_RESPONSE\\_TO\\_FORSKOLIN & 0.0985324 & 0.0985324 \\\\\n",
       "\t25 & FONTAINE\\_PAPILLARY\\_THYROID\\_CARCINOMA & -0.564496 & -0.564496 \\\\\n",
       "\t26 & HAN\\_SATB1\\_TARGETS & 0.34797 & 0.34797 \\\\\n",
       "\t27 & PUIFFE\\_INVASION\\_INHIBITED\\_BY\\_ASCITES & -0.502732 & -0.502732 \\\\\n",
       "\t28 & YAGUE\\_PRETUMOR\\_DRUG\\_RESISTANCE & 0.678853 & 0.678853 \\\\\n",
       "\t29 & HUANG\\_FOXA2\\_TARGETS & -0.00612856 & -0.00612856 \\\\\n",
       "\t30 & RORIE\\_TARGETS\\_OF\\_EWSR1\\_FLI1\\_FUSION & -0.579005 & -0.579005 \\\\\n",
       "\t$\\dots$ & $\\dots$ & $\\dots$ & $\\dots$ \\\\\n",
       "\\end{tabular}\n"
      ],
      "text/plain": [
       "1118×3 DataFrame. Omitted printing of 2 columns\n",
       "│ Row  │ Gene Set                                                  │\n",
       "│      │ \u001b[90mString\u001b[39m                                                    │\n",
       "├──────┼───────────────────────────────────────────────────────────┤\n",
       "│ 1    │ GARCIA_TARGETS_OF_FLI1_AND_DAX1                           │\n",
       "│ 2    │ SIMBULAN_PARP1_TARGETS                                    │\n",
       "│ 3    │ SENESE_HDAC3_TARGETS                                      │\n",
       "│ 4    │ KIM_RESPONSE_TO_TSA_AND_DECITABINE                        │\n",
       "│ 5    │ FRIDMAN_SENESCENCE                                        │\n",
       "│ 6    │ LU_TUMOR_VASCULATURE                                      │\n",
       "│ 7    │ HOLLEMAN_ASPARAGINASE_RESISTANCE_B_ALL                    │\n",
       "│ 8    │ KOKKINAKIS_METHIONINE_DEPRIVATION_48HR                    │\n",
       "│ 9    │ KYNG_WERNER_SYNDROM                                       │\n",
       "│ 10   │ ZHAN_MULTIPLE_MYELOMA_CD1_AND_CD2                         │\n",
       "⋮\n",
       "│ 1108 │ HOWLIN_CITED1_TARGETS_1                                   │\n",
       "│ 1109 │ GARGALOVIC_RESPONSE_TO_OXIDIZED_PHOSPHOLIPIDS_LIGHTYELLOW │\n",
       "│ 1110 │ KANNAN_TP53_TARGETS                                       │\n",
       "│ 1111 │ MORI_IMMATURE_B_LYMPHOCYTE                                │\n",
       "│ 1112 │ CHIBA_RESPONSE_TO_TSA                                     │\n",
       "│ 1113 │ BORCZUK_MALIGNANT_MESOTHELIOMA                            │\n",
       "│ 1114 │ KRASNOSELSKAYA_ILF3_TARGETS                               │\n",
       "│ 1115 │ THUM_SYSTOLIC_HEART_FAILURE                               │\n",
       "│ 1116 │ DER_IFN_GAMMA_RESPONSE                                    │\n",
       "│ 1117 │ SCHAEFFER_PROSTATE_DEVELOPMENT_6HR                        │\n",
       "│ 1118 │ GRABARCZYK_BCL11B_TARGETS                                 │"
      ]
     },
     "execution_count": 129,
     "metadata": {},
     "output_type": "execute_result"
    }
   ],
   "source": [
    "gene_sets = gene_set_x_sample[:, Symbol(\"Gene Set\")]\n",
    "\n",
    "gene_set_combined_x_sample = DataFrame(Dict(n => Array{t, 1}() for (n, t) in zip(\n",
    "    names(gene_set_x_sample),\n",
    "    eltypes(gene_set_x_sample),\n",
    ")))\n",
    "\n",
    "\n",
    "for gene_set in gene_sets\n",
    "    \n",
    "    if endswith(gene_set, \"_UP\")\n",
    "        \n",
    "        gene_set_up = gene_set\n",
    "        \n",
    "        gene_set_combined = gene_set[1:end - 3]\n",
    "        \n",
    "        gene_set_dn = \"$(gene_set_combined)_DN\"\n",
    "        \n",
    "        up_values = gene_set_x_sample[gene_sets .== gene_set_up, 2:end]\n",
    "        \n",
    "        dn_values = gene_set_x_sample[gene_sets .== gene_set_dn, 2:end]\n",
    "        \n",
    "        if size(dn_values, 1) == 0\n",
    "            \n",
    "            continue\n",
    "            \n",
    "        end\n",
    "        \n",
    "        combined_values = up_values .- dn_values\n",
    "         \n",
    "        insertcols!(combined_values, 1, Symbol(\"Gene Set\") => gene_set_combined)\n",
    "        \n",
    "        combined_values = combined_values[1, :]\n",
    "        \n",
    "        push!(gene_set_combined_x_sample, combined_values)\n",
    "        \n",
    "    end\n",
    "    \n",
    "end\n",
    "\n",
    "gene_set_combined_x_sample"
   ]
  },
  {
   "cell_type": "code",
   "execution_count": 134,
   "metadata": {},
   "outputs": [
    {
     "data": {
      "text/html": [
       "<table class=\"data-frame\"><thead><tr><th></th><th>Gene Set</th><th>Sample 1</th><th>Sample 2</th></tr><tr><th></th><th>String</th><th>Float64</th><th>Float64</th></tr></thead><tbody><p>5,880 rows × 3 columns</p><tr><th>1</th><td>ABBUD_LIF_SIGNALING_1</td><td>-0.0560176</td><td>-0.0560176</td></tr><tr><th>2</th><td>ABBUD_LIF_SIGNALING_1_DN</td><td>0.260506</td><td>0.260506</td></tr><tr><th>3</th><td>ABBUD_LIF_SIGNALING_1_UP</td><td>0.204488</td><td>0.204488</td></tr><tr><th>4</th><td>ABBUD_LIF_SIGNALING_2</td><td>-0.268269</td><td>-0.268269</td></tr><tr><th>5</th><td>ABBUD_LIF_SIGNALING_2_DN</td><td>0.439276</td><td>0.439276</td></tr><tr><th>6</th><td>ABBUD_LIF_SIGNALING_2_UP</td><td>0.171007</td><td>0.171007</td></tr><tr><th>7</th><td>ABDELMOHSEN_ELAVL4_TARGETS</td><td>0.162924</td><td>0.162924</td></tr><tr><th>8</th><td>ABDULRAHMAN_KIDNEY_CANCER_VHL</td><td>0.526491</td><td>0.526491</td></tr><tr><th>9</th><td>ABDULRAHMAN_KIDNEY_CANCER_VHL_DN</td><td>-0.268891</td><td>-0.268891</td></tr><tr><th>10</th><td>ABDULRAHMAN_KIDNEY_CANCER_VHL_UP</td><td>0.2576</td><td>0.2576</td></tr><tr><th>11</th><td>ABE_INNER_EAR</td><td>0.333028</td><td>0.333028</td></tr><tr><th>12</th><td>ABE_VEGFA_TARGETS</td><td>0.191918</td><td>0.191918</td></tr><tr><th>13</th><td>ABE_VEGFA_TARGETS_2HR</td><td>-0.145712</td><td>-0.145712</td></tr><tr><th>14</th><td>ABE_VEGFA_TARGETS_30MIN</td><td>0.329103</td><td>0.329103</td></tr><tr><th>15</th><td>ABRAHAM_ALPC_VS_MULTIPLE_MYELOMA</td><td>0.665818</td><td>0.665818</td></tr><tr><th>16</th><td>ABRAHAM_ALPC_VS_MULTIPLE_MYELOMA_DN</td><td>-0.347853</td><td>-0.347853</td></tr><tr><th>17</th><td>ABRAHAM_ALPC_VS_MULTIPLE_MYELOMA_UP</td><td>0.317965</td><td>0.317965</td></tr><tr><th>18</th><td>ABRAMSON_INTERACT_WITH_AIRE</td><td>0.399036</td><td>0.399036</td></tr><tr><th>19</th><td>ACEVEDO_FGFR1_TARGETS_IN_PROSTATE_CANCER_MODEL</td><td>-0.0366934</td><td>-0.0366934</td></tr><tr><th>20</th><td>ACEVEDO_FGFR1_TARGETS_IN_PROSTATE_CANCER_MODEL_DN</td><td>-0.16016</td><td>-0.16016</td></tr><tr><th>21</th><td>ACEVEDO_FGFR1_TARGETS_IN_PROSTATE_CANCER_MODEL_UP</td><td>-0.196853</td><td>-0.196853</td></tr><tr><th>22</th><td>ACEVEDO_LIVER_CANCER</td><td>-0.0286082</td><td>-0.0286082</td></tr><tr><th>23</th><td>ACEVEDO_LIVER_CANCER_DN</td><td>0.184772</td><td>0.184772</td></tr><tr><th>24</th><td>ACEVEDO_LIVER_CANCER_UP</td><td>0.156164</td><td>0.156164</td></tr><tr><th>25</th><td>ACEVEDO_LIVER_CANCER_WITH_H3K27ME3</td><td>0.0312596</td><td>0.0312596</td></tr><tr><th>26</th><td>ACEVEDO_LIVER_CANCER_WITH_H3K27ME3_DN</td><td>-0.205414</td><td>-0.205414</td></tr><tr><th>27</th><td>ACEVEDO_LIVER_CANCER_WITH_H3K27ME3_UP</td><td>-0.174155</td><td>-0.174155</td></tr><tr><th>28</th><td>ACEVEDO_LIVER_CANCER_WITH_H3K9ME3</td><td>0.0665465</td><td>0.0665465</td></tr><tr><th>29</th><td>ACEVEDO_LIVER_CANCER_WITH_H3K9ME3_DN</td><td>-0.24464</td><td>-0.24464</td></tr><tr><th>30</th><td>ACEVEDO_LIVER_CANCER_WITH_H3K9ME3_UP</td><td>-0.178093</td><td>-0.178093</td></tr><tr><th>&vellip;</th><td>&vellip;</td><td>&vellip;</td><td>&vellip;</td></tr></tbody></table>"
      ],
      "text/latex": [
       "\\begin{tabular}{r|ccc}\n",
       "\t& Gene Set & Sample 1 & Sample 2\\\\\n",
       "\t\\hline\n",
       "\t& String & Float64 & Float64\\\\\n",
       "\t\\hline\n",
       "\t1 & ABBUD\\_LIF\\_SIGNALING\\_1 & -0.0560176 & -0.0560176 \\\\\n",
       "\t2 & ABBUD\\_LIF\\_SIGNALING\\_1\\_DN & 0.260506 & 0.260506 \\\\\n",
       "\t3 & ABBUD\\_LIF\\_SIGNALING\\_1\\_UP & 0.204488 & 0.204488 \\\\\n",
       "\t4 & ABBUD\\_LIF\\_SIGNALING\\_2 & -0.268269 & -0.268269 \\\\\n",
       "\t5 & ABBUD\\_LIF\\_SIGNALING\\_2\\_DN & 0.439276 & 0.439276 \\\\\n",
       "\t6 & ABBUD\\_LIF\\_SIGNALING\\_2\\_UP & 0.171007 & 0.171007 \\\\\n",
       "\t7 & ABDELMOHSEN\\_ELAVL4\\_TARGETS & 0.162924 & 0.162924 \\\\\n",
       "\t8 & ABDULRAHMAN\\_KIDNEY\\_CANCER\\_VHL & 0.526491 & 0.526491 \\\\\n",
       "\t9 & ABDULRAHMAN\\_KIDNEY\\_CANCER\\_VHL\\_DN & -0.268891 & -0.268891 \\\\\n",
       "\t10 & ABDULRAHMAN\\_KIDNEY\\_CANCER\\_VHL\\_UP & 0.2576 & 0.2576 \\\\\n",
       "\t11 & ABE\\_INNER\\_EAR & 0.333028 & 0.333028 \\\\\n",
       "\t12 & ABE\\_VEGFA\\_TARGETS & 0.191918 & 0.191918 \\\\\n",
       "\t13 & ABE\\_VEGFA\\_TARGETS\\_2HR & -0.145712 & -0.145712 \\\\\n",
       "\t14 & ABE\\_VEGFA\\_TARGETS\\_30MIN & 0.329103 & 0.329103 \\\\\n",
       "\t15 & ABRAHAM\\_ALPC\\_VS\\_MULTIPLE\\_MYELOMA & 0.665818 & 0.665818 \\\\\n",
       "\t16 & ABRAHAM\\_ALPC\\_VS\\_MULTIPLE\\_MYELOMA\\_DN & -0.347853 & -0.347853 \\\\\n",
       "\t17 & ABRAHAM\\_ALPC\\_VS\\_MULTIPLE\\_MYELOMA\\_UP & 0.317965 & 0.317965 \\\\\n",
       "\t18 & ABRAMSON\\_INTERACT\\_WITH\\_AIRE & 0.399036 & 0.399036 \\\\\n",
       "\t19 & ACEVEDO\\_FGFR1\\_TARGETS\\_IN\\_PROSTATE\\_CANCER\\_MODEL & -0.0366934 & -0.0366934 \\\\\n",
       "\t20 & ACEVEDO\\_FGFR1\\_TARGETS\\_IN\\_PROSTATE\\_CANCER\\_MODEL\\_DN & -0.16016 & -0.16016 \\\\\n",
       "\t21 & ACEVEDO\\_FGFR1\\_TARGETS\\_IN\\_PROSTATE\\_CANCER\\_MODEL\\_UP & -0.196853 & -0.196853 \\\\\n",
       "\t22 & ACEVEDO\\_LIVER\\_CANCER & -0.0286082 & -0.0286082 \\\\\n",
       "\t23 & ACEVEDO\\_LIVER\\_CANCER\\_DN & 0.184772 & 0.184772 \\\\\n",
       "\t24 & ACEVEDO\\_LIVER\\_CANCER\\_UP & 0.156164 & 0.156164 \\\\\n",
       "\t25 & ACEVEDO\\_LIVER\\_CANCER\\_WITH\\_H3K27ME3 & 0.0312596 & 0.0312596 \\\\\n",
       "\t26 & ACEVEDO\\_LIVER\\_CANCER\\_WITH\\_H3K27ME3\\_DN & -0.205414 & -0.205414 \\\\\n",
       "\t27 & ACEVEDO\\_LIVER\\_CANCER\\_WITH\\_H3K27ME3\\_UP & -0.174155 & -0.174155 \\\\\n",
       "\t28 & ACEVEDO\\_LIVER\\_CANCER\\_WITH\\_H3K9ME3 & 0.0665465 & 0.0665465 \\\\\n",
       "\t29 & ACEVEDO\\_LIVER\\_CANCER\\_WITH\\_H3K9ME3\\_DN & -0.24464 & -0.24464 \\\\\n",
       "\t30 & ACEVEDO\\_LIVER\\_CANCER\\_WITH\\_H3K9ME3\\_UP & -0.178093 & -0.178093 \\\\\n",
       "\t$\\dots$ & $\\dots$ & $\\dots$ & $\\dots$ \\\\\n",
       "\\end{tabular}\n"
      ],
      "text/plain": [
       "5880×3 DataFrame\n",
       "│ Row  │ Gene Set                                   │ Sample 1   │ Sample 2   │\n",
       "│      │ \u001b[90mString\u001b[39m                                     │ \u001b[90mFloat64\u001b[39m    │ \u001b[90mFloat64\u001b[39m    │\n",
       "├──────┼────────────────────────────────────────────┼────────────┼────────────┤\n",
       "│ 1    │ ABBUD_LIF_SIGNALING_1                      │ -0.0560176 │ -0.0560176 │\n",
       "│ 2    │ ABBUD_LIF_SIGNALING_1_DN                   │ 0.260506   │ 0.260506   │\n",
       "│ 3    │ ABBUD_LIF_SIGNALING_1_UP                   │ 0.204488   │ 0.204488   │\n",
       "│ 4    │ ABBUD_LIF_SIGNALING_2                      │ -0.268269  │ -0.268269  │\n",
       "│ 5    │ ABBUD_LIF_SIGNALING_2_DN                   │ 0.439276   │ 0.439276   │\n",
       "│ 6    │ ABBUD_LIF_SIGNALING_2_UP                   │ 0.171007   │ 0.171007   │\n",
       "│ 7    │ ABDELMOHSEN_ELAVL4_TARGETS                 │ 0.162924   │ 0.162924   │\n",
       "│ 8    │ ABDULRAHMAN_KIDNEY_CANCER_VHL              │ 0.526491   │ 0.526491   │\n",
       "│ 9    │ ABDULRAHMAN_KIDNEY_CANCER_VHL_DN           │ -0.268891  │ -0.268891  │\n",
       "│ 10   │ ABDULRAHMAN_KIDNEY_CANCER_VHL_UP           │ 0.2576     │ 0.2576     │\n",
       "⋮\n",
       "│ 5870 │ ZWANG_CLASS_2_TRANSIENTLY_INDUCED_BY_EGF   │ 0.233263   │ 0.233263   │\n",
       "│ 5871 │ ZWANG_CLASS_3_TRANSIENTLY_INDUCED_BY_EGF   │ -0.170681  │ -0.170681  │\n",
       "│ 5872 │ ZWANG_DOWN_BY_2ND_EGF_PULSE                │ -0.169596  │ -0.169596  │\n",
       "│ 5873 │ ZWANG_EGF_INTERVAL                         │ -0.485187  │ -0.485187  │\n",
       "│ 5874 │ ZWANG_EGF_INTERVAL_DN                      │ 0.238055   │ 0.238055   │\n",
       "│ 5875 │ ZWANG_EGF_INTERVAL_UP                      │ -0.247133  │ -0.247133  │\n",
       "│ 5876 │ ZWANG_EGF_PERSISTENTLY                     │ -0.585362  │ -0.585362  │\n",
       "│ 5877 │ ZWANG_EGF_PERSISTENTLY_DN                  │ 0.300287   │ 0.300287   │\n",
       "│ 5878 │ ZWANG_EGF_PERSISTENTLY_UP                  │ -0.285074  │ -0.285074  │\n",
       "│ 5879 │ ZWANG_TRANSIENTLY_UP_BY_1ST_EGF_PULSE_ONLY │ -0.177137  │ -0.177137  │\n",
       "│ 5880 │ ZWANG_TRANSIENTLY_UP_BY_2ND_EGF_PULSE_ONLY │ 0.165647   │ 0.165647   │"
      ]
     },
     "execution_count": 134,
     "metadata": {},
     "output_type": "execute_result"
    }
   ],
   "source": [
    "sort(vcat(gene_set_x_sample, gene_set_combined_x_sample), Symbol(\"Gene Set\"))"
   ]
  }
 ],
 "metadata": {
  "@webio": {
   "lastCommId": null,
   "lastKernelId": null
  },
  "kernelspec": {
   "display_name": "Julia 1.0.3",
   "language": "julia",
   "name": "julia-1.0"
  },
  "language_info": {
   "file_extension": ".jl",
   "mimetype": "application/julia",
   "name": "julia",
   "version": "1.0.3"
  }
 },
 "nbformat": 4,
 "nbformat_minor": 4
}
