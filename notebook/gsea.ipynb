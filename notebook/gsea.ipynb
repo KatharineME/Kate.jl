{
 "cells": [
  {
   "cell_type": "code",
   "execution_count": 1,
   "metadata": {},
   "outputs": [
    {
     "name": "stderr",
     "output_type": "stream",
     "text": [
      "┌ Info: Recompiling stale cache file /Users/kwatme/.julia/compiled/v1.0/Kraft/F4FiQ.ji for Kraft [5c7faf16-a6b3-11e9-0c80-d5a0766e5f8b]\n",
      "└ @ Base loading.jl:1190\n",
      "WARNING: Method definition print_and_run_cmd(Base.AbstractCmd) in module Kraft at /Users/kwatme/github/Kraft.jl/src/print_and_run_cmd.jl:3 overwritten at /Users/kwatme/github/Kraft.jl/src/print_and_run_cmd.jl:3.\n",
      "┌ Warning: Package Kraft does not have Distributed in its dependencies:\n",
      "│ - If you have Kraft checked out for development and have\n",
      "│   added Distributed as a dependency but haven't updated your primary\n",
      "│   environment's manifest file, try `Pkg.resolve()`.\n",
      "│ - Otherwise you may need to report an issue with Kraft\n",
      "└ Loading Distributed into Kraft from project dependency, future warnings for Kraft are suppressed.\n",
      "WARNING: Method definition print_and_run_cmd(Base.AbstractCmd) in module Kraft at /Users/kwatme/github/Kraft.jl/src/print_and_run_cmd.jl:3 overwritten at /Users/kwatme/github/Kraft.jl/src/print_and_run_cmd.jl:3.\n",
      "WARNING: Method definition print_and_run_cmd(Base.AbstractCmd) in module Kraft at /Users/kwatme/github/Kraft.jl/src/print_and_run_cmd.jl:3 overwritten at /Users/kwatme/github/Kraft.jl/src/print_and_run_cmd.jl:3.\n",
      "WARNING: Method definition make_ins(Array{String, 1}, Array{String, 1}) in module Kraft at /Users/kwatme/github/Kraft.jl/src/make_ins.jl:12 overwritten at /Users/kwatme/github/Kraft.jl/src/make_ins.jl:12.\n",
      "WARNING: Method definition make_ins(Base.Dict{String, Int64}, Array{String, 1}) in module Kraft at /Users/kwatme/github/Kraft.jl/src/make_ins.jl:57 overwritten at /Users/kwatme/github/Kraft.jl/src/make_ins.jl:57.\n",
      "WARNING: Method definition sum_values(Array{Int64, 1}) in module Kraft at /Users/kwatme/github/Kraft.jl/src/sum_values.jl:6 overwritten at /Users/kwatme/github/Kraft.jl/src/sum_values.jl:6.\n",
      "WARNING: Method definition sum_values(Array{Float64, 1}, Array{Int64, 1}) in module Kraft at /Users/kwatme/github/Kraft.jl/src/sum_values.jl:30 overwritten at /Users/kwatme/github/Kraft.jl/src/sum_values.jl:30.\n",
      "WARNING: Method definition compute_gene_set_enrichment(Array{Float64, 1}, AbstractArray{String, 1}, Array{String, 1}) in module Kraft at /Users/kwatme/github/Kraft.jl/src/compute_gene_set_enrichment.jl:32 overwritten at /Users/kwatme/github/Kraft.jl/src/compute_gene_set_enrichment.jl:32.\n",
      "WARNING: Method definition #compute_gene_set_enrichment(Any, typeof(Kraft.compute_gene_set_enrichment), Array{Float64, 1}, AbstractArray{String, 1}, Array{String, 1}) in module Kraft overwritten.\n",
      "WARNING: Method definition compute_gene_set_enrichment(Array{Float64, 1}, AbstractArray{String, 1}, Base.Dict{String, Array{String, 1}}) in module Kraft at /Users/kwatme/github/Kraft.jl/src/compute_gene_set_enrichment.jl:149 overwritten at /Users/kwatme/github/Kraft.jl/src/compute_gene_set_enrichment.jl:149.\n",
      "WARNING: Method definition #compute_gene_set_enrichment(Any, typeof(Kraft.compute_gene_set_enrichment), Array{Float64, 1}, AbstractArray{String, 1}, Base.Dict{String, Array{String, 1}}) in module Kraft overwritten.\n",
      "WARNING: Method definition compute_gene_set_enrichment(DataFrames.DataFrame, Base.Dict{String, Array{String, 1}}, String) in module Kraft at /Users/kwatme/github/Kraft.jl/src/compute_gene_set_enrichment.jl:223 overwritten at /Users/kwatme/github/Kraft.jl/src/compute_gene_set_enrichment.jl:223.\n",
      "WARNING: Method definition make_ins(Array{String, 1}, Array{String, 1}) in module Kraft at /Users/kwatme/github/Kraft.jl/src/make_ins.jl:12 overwritten at /Users/kwatme/github/Kraft.jl/src/make_ins.jl:12.\n",
      "WARNING: Method definition make_ins(Base.Dict{String, Int64}, Array{String, 1}) in module Kraft at /Users/kwatme/github/Kraft.jl/src/make_ins.jl:57 overwritten at /Users/kwatme/github/Kraft.jl/src/make_ins.jl:57.\n",
      "WARNING: Method definition print_and_run_cmd(Base.AbstractCmd) in module Kraft at /Users/kwatme/github/Kraft.jl/src/print_and_run_cmd.jl:3 overwritten at /Users/kwatme/github/Kraft.jl/src/print_and_run_cmd.jl:3.\n",
      "WARNING: Method definition print_and_run_cmd(Base.AbstractCmd) in module Kraft at /Users/kwatme/github/Kraft.jl/src/print_and_run_cmd.jl:3 overwritten at /Users/kwatme/github/Kraft.jl/src/print_and_run_cmd.jl:3.\n",
      "WARNING: Method definition print_and_run_cmd(Base.AbstractCmd) in module Kraft at /Users/kwatme/github/Kraft.jl/src/print_and_run_cmd.jl:3 overwritten at /Users/kwatme/github/Kraft.jl/src/print_and_run_cmd.jl:3.\n",
      "WARNING: Method definition print_and_run_cmd(Base.AbstractCmd) in module Kraft at /Users/kwatme/github/Kraft.jl/src/print_and_run_cmd.jl:3 overwritten at /Users/kwatme/github/Kraft.jl/src/print_and_run_cmd.jl:3.\n",
      "WARNING: Method definition check_sequence(Tuple{Vararg{String, N} where N}, String, Int64) in module Kraft at /Users/kwatme/github/Kraft.jl/src/check_sequence.jl:12 overwritten at /Users/kwatme/github/Kraft.jl/src/check_sequence.jl:12.\n",
      "WARNING: Method definition print_and_run_cmd(Base.AbstractCmd) in module Kraft at /Users/kwatme/github/Kraft.jl/src/print_and_run_cmd.jl:3 overwritten at /Users/kwatme/github/Kraft.jl/src/print_and_run_cmd.jl:3.\n",
      "WARNING: Method definition align_sequence(String, String, String, String, String, Int64, Int64) in module Kraft at /Users/kwatme/github/Kraft.jl/src/align_sequence.jl:16 overwritten at /Users/kwatme/github/Kraft.jl/src/align_sequence.jl:16.\n",
      "WARNING: Method definition print_and_run_cmd(Base.AbstractCmd) in module Kraft at /Users/kwatme/github/Kraft.jl/src/print_and_run_cmd.jl:3 overwritten at /Users/kwatme/github/Kraft.jl/src/print_and_run_cmd.jl:3.\n",
      "WARNING: Method definition find_variant(Union{Nothing, String}, Union{Nothing, String}, Bool, String, String, String, String, Int64, Int64) in module Kraft at /Users/kwatme/github/Kraft.jl/src/find_variant.jl:24 overwritten at /Users/kwatme/github/Kraft.jl/src/find_variant.jl:24.\n",
      "WARNING: Method definition print_and_run_cmd(Base.AbstractCmd) in module Kraft at /Users/kwatme/github/Kraft.jl/src/print_and_run_cmd.jl:3 overwritten at /Users/kwatme/github/Kraft.jl/src/print_and_run_cmd.jl:3.\n",
      "WARNING: Method definition print_and_run_cmd(Base.AbstractCmd) in module Kraft at /Users/kwatme/github/Kraft.jl/src/print_and_run_cmd.jl:3 overwritten at /Users/kwatme/github/Kraft.jl/src/print_and_run_cmd.jl:3.\n",
      "WARNING: Method definition trim_sequence(String, String, String, Int64) in module Kraft at /Users/kwatme/github/Kraft.jl/src/trim_sequence.jl:13 overwritten at /Users/kwatme/github/Kraft.jl/src/trim_sequence.jl:13.\n",
      "WARNING: Method definition print_and_run_cmd(Base.AbstractCmd) in module Kraft at /Users/kwatme/github/Kraft.jl/src/print_and_run_cmd.jl:3 overwritten at /Users/kwatme/github/Kraft.jl/src/print_and_run_cmd.jl:3.\n",
      "WARNING: Method definition check_sequence(Tuple{Vararg{String, N} where N}, String, Int64) in module Kraft at /Users/kwatme/github/Kraft.jl/src/check_sequence.jl:12 overwritten at /Users/kwatme/github/Kraft.jl/src/check_sequence.jl:12.\n",
      "WARNING: Method definition print_and_run_cmd(Base.AbstractCmd) in module Kraft at /Users/kwatme/github/Kraft.jl/src/print_and_run_cmd.jl:3 overwritten at /Users/kwatme/github/Kraft.jl/src/print_and_run_cmd.jl:3.\n",
      "WARNING: Method definition align_sequence(String, String, String, String, String, Int64, Int64) in module Kraft at /Users/kwatme/github/Kraft.jl/src/align_sequence.jl:16 overwritten at /Users/kwatme/github/Kraft.jl/src/align_sequence.jl:16.\n",
      "WARNING: Method definition print_and_run_cmd(Base.AbstractCmd) in module Kraft at /Users/kwatme/github/Kraft.jl/src/print_and_run_cmd.jl:3 overwritten at /Users/kwatme/github/Kraft.jl/src/print_and_run_cmd.jl:3.\n",
      "WARNING: Method definition find_variant(Union{Nothing, String}, Union{Nothing, String}, Bool, String, String, String, String, Int64, Int64) in module Kraft at /Users/kwatme/github/Kraft.jl/src/find_variant.jl:24 overwritten at /Users/kwatme/github/Kraft.jl/src/find_variant.jl:24.\n",
      "WARNING: Method definition print_and_run_cmd(Base.AbstractCmd) in module Kraft at /Users/kwatme/github/Kraft.jl/src/print_and_run_cmd.jl:3 overwritten at /Users/kwatme/github/Kraft.jl/src/print_and_run_cmd.jl:3.\n",
      "WARNING: Method definition trim_sequence(String, String, String, Int64) in module Kraft at /Users/kwatme/github/Kraft.jl/src/trim_sequence.jl:13 overwritten at /Users/kwatme/github/Kraft.jl/src/trim_sequence.jl:13.\n",
      "WARNING: Method definition print_and_run_cmd(Base.AbstractCmd) in module Kraft at /Users/kwatme/github/Kraft.jl/src/print_and_run_cmd.jl:3 overwritten at /Users/kwatme/github/Kraft.jl/src/print_and_run_cmd.jl:3.\n",
      "WARNING: Method definition check_sequence(Tuple{Vararg{String, N} where N}, String, Int64) in module Kraft at /Users/kwatme/github/Kraft.jl/src/check_sequence.jl:12 overwritten at /Users/kwatme/github/Kraft.jl/src/check_sequence.jl:12.\n",
      "WARNING: Method definition print_and_run_cmd(Base.AbstractCmd) in module Kraft at /Users/kwatme/github/Kraft.jl/src/print_and_run_cmd.jl:3 overwritten at /Users/kwatme/github/Kraft.jl/src/print_and_run_cmd.jl:3.\n",
      "WARNING: Method definition count_transcript(String, String, String, String, Int64) in module Kraft at /Users/kwatme/github/Kraft.jl/src/count_transcript.jl:14 overwritten at /Users/kwatme/github/Kraft.jl/src/count_transcript.jl:14.\n",
      "WARNING: Method definition read_gmt(String) in module Kraft at /Users/kwatme/github/Kraft.jl/src/read_gmt.jl:3 overwritten at /Users/kwatme/github/Kraft.jl/src/read_gmt.jl:3.\n",
      "WARNING: Method definition read_gmt(Array{String, 1}) in module Kraft at /Users/kwatme/github/Kraft.jl/src/read_gmt.jl:32 overwritten at /Users/kwatme/github/Kraft.jl/src/read_gmt.jl:32.\n",
      "WARNING: Method definition sum_values(Array{Int64, 1}) in module Kraft at /Users/kwatme/github/Kraft.jl/src/sum_values.jl:6 overwritten at /Users/kwatme/github/Kraft.jl/src/sum_values.jl:6.\n",
      "WARNING: Method definition sum_values(Array{Float64, 1}, Array{Int64, 1}) in module Kraft at /Users/kwatme/github/Kraft.jl/src/sum_values.jl:30 overwritten at /Users/kwatme/github/Kraft.jl/src/sum_values.jl:30.\n",
      "WARNING: Method definition print_and_run_cmd(Base.AbstractCmd) in module Kraft at /Users/kwatme/github/Kraft.jl/src/print_and_run_cmd.jl:3 overwritten at /Users/kwatme/github/Kraft.jl/src/print_and_run_cmd.jl:3.\n",
      "WARNING: Method definition trim_sequence(String, String, String, Int64) in module Kraft at /Users/kwatme/github/Kraft.jl/src/trim_sequence.jl:13 overwritten at /Users/kwatme/github/Kraft.jl/src/trim_sequence.jl:13.\n"
     ]
    }
   ],
   "source": [
    "using Kraft"
   ]
  },
  {
   "cell_type": "code",
   "execution_count": 2,
   "metadata": {},
   "outputs": [
    {
     "data": {
      "text/plain": [
       "57954-element Array{String,1}:\n",
       " \"MIR628\"    \n",
       " \"RNU6-871P\" \n",
       " \"MIR626\"    \n",
       " \"AC012314.7\"\n",
       " \"GHRLOS\"    \n",
       " \"RNU6-35P\"  \n",
       " \"MIR5694\"   \n",
       " \"RNU6-1157P\"\n",
       " \"MIR6861\"   \n",
       " \"RNU4-85P\"  \n",
       " \"MIR6759\"   \n",
       " \"MIR4491\"   \n",
       " \"RNU6-1162P\"\n",
       " ⋮           \n",
       " \"KP420441.2\"\n",
       " \"KP420444.3\"\n",
       " \"KP420444.4\"\n",
       " \"KP420441.4\"\n",
       " \"KP420446.2\"\n",
       " \"KP420441.1\"\n",
       " \"KP420441.3\"\n",
       " \"KP420441.5\"\n",
       " \"KP420440.2\"\n",
       " \"KP420440.6\"\n",
       " \"KP420440.5\"\n",
       " \"KP420446.1\""
      ]
     },
     "execution_count": 2,
     "metadata": {},
     "output_type": "execute_result"
    }
   ],
   "source": [
    "const genes = readlines(\"genes.txt\")[2:end]"
   ]
  },
  {
   "cell_type": "code",
   "execution_count": 3,
   "metadata": {},
   "outputs": [
    {
     "data": {
      "text/plain": [
       "57954-element Array{Float64,1}:\n",
       " -0.0012763593270132716\n",
       " -0.9474311164377418   \n",
       "  0.42501899689667366  \n",
       "  1.0697358793273335   \n",
       " -0.396592679006198    \n",
       "  0.5757128884607966   \n",
       "  0.9661960990692836   \n",
       "  1.7005538337600856   \n",
       " -0.5528287786314108   \n",
       "  0.7203709965153057   \n",
       "  0.14983694700247527  \n",
       "  1.66963184026737     \n",
       "  1.1622593430568013   \n",
       "  ⋮                    \n",
       " -1.5803623891048475   \n",
       " -1.049683958850753    \n",
       "  1.5938919629490023   \n",
       "  0.10565362888758434  \n",
       " -0.5655609096847727   \n",
       "  1.3078244688366158   \n",
       "  0.5905489923091538   \n",
       "  0.638792473598925    \n",
       "  0.6057249607756169   \n",
       " -0.00625588002700324  \n",
       "  0.98035422574871     \n",
       "  2.3075201318170055   "
      ]
     },
     "execution_count": 3,
     "metadata": {},
     "output_type": "execute_result"
    }
   ],
   "source": [
    "# const gene_values = fill(\n",
    "#     1 / length(genes),\n",
    "#     length(genes),\n",
    "# )\n",
    "const gene_values = randn(length(genes))"
   ]
  },
  {
   "cell_type": "code",
   "execution_count": 4,
   "metadata": {},
   "outputs": [],
   "source": [
    "using DataFrames"
   ]
  },
  {
   "cell_type": "code",
   "execution_count": 5,
   "metadata": {},
   "outputs": [],
   "source": [
    "using CSV"
   ]
  },
  {
   "cell_type": "code",
   "execution_count": 6,
   "metadata": {},
   "outputs": [
    {
     "data": {
      "text/plain": [
       "\"gene_x_sample.tsv\""
      ]
     },
     "execution_count": 6,
     "metadata": {},
     "output_type": "execute_result"
    }
   ],
   "source": [
    "const gene_x_sample = DataFrame(\n",
    "    Symbol(\"Gene\") => genes,\n",
    "    Symbol(\"Sample 1\") => gene_values,\n",
    "    Symbol(\"Sample 2\") => gene_values * 10,\n",
    ")\n",
    "\n",
    "CSV.write(\n",
    "    \"gene_x_sample.tsv\",\n",
    "    gene_x_sample,\n",
    "    delim = '\\t',\n",
    ")"
   ]
  },
  {
   "cell_type": "code",
   "execution_count": 7,
   "metadata": {},
   "outputs": [],
   "source": [
    "using StatsBase"
   ]
  },
  {
   "cell_type": "code",
   "execution_count": 8,
   "metadata": {},
   "outputs": [
    {
     "data": {
      "text/plain": [
       "100-element Array{String,1}:\n",
       " \"AC117947.1\"\n",
       " \"BNIP3P9\"   \n",
       " \"AC004918.3\"\n",
       " \"MIR1302-2\" \n",
       " \"AL590399.2\"\n",
       " \"EIF4A1P1\"  \n",
       " \"CD200R1\"   \n",
       " \"ZNF580\"    \n",
       " \"RNU6-62P\"  \n",
       " \"AC105020.5\"\n",
       " \"OR6C1\"     \n",
       " \"AL590652.1\"\n",
       " \"AL135999.2\"\n",
       " ⋮           \n",
       " \"AC063977.7\"\n",
       " \"NEB\"       \n",
       " \"MALSU1\"    \n",
       " \"Z98742.1\"  \n",
       " \"STIP1P3\"   \n",
       " \"GJA6P\"     \n",
       " \"MED13L\"    \n",
       " \"MIR548A1\"  \n",
       " \"MYADM\"     \n",
       " \"AC009336.3\"\n",
       " \"DHODH\"     \n",
       " \"RNU6-595P\" "
      ]
     },
     "execution_count": 8,
     "metadata": {},
     "output_type": "execute_result"
    }
   ],
   "source": [
    "const random_gene_set_genes = sample(\n",
    "    genes,\n",
    "    100,\n",
    "    replace = false,\n",
    ")"
   ]
  },
  {
   "cell_type": "code",
   "execution_count": 9,
   "metadata": {},
   "outputs": [
    {
     "data": {
      "text/plain": [
       "Dict{String,Array{String,1}} with 50 entries:\n",
       "  \"HALLMARK_REACTIVE_OXIGE… => [\"GSR\", \"PRDX2\", \"TXNRD1\", \"SOD1\", \"GCLC\", \"CAT\"…\n",
       "  \"HALLMARK_ANGIOGENESIS\"   => [\"VCAN\", \"POSTN\", \"FSTL1\", \"LRPAP1\", \"STC1\", \"LP…\n",
       "  \"HALLMARK_MYOGENESIS\"     => [\"ACTA1\", \"TNNI2\", \"MYL1\", \"TNNC1\", \"TNNC2\", \"MY…\n",
       "  \"HALLMARK_PEROXISOME\"     => [\"ABCD3\", \"ACOT8\", \"ACOX1\", \"ACSL1\", \"ECH1\", \"EC…\n",
       "  \"HALLMARK_UV_RESPONSE_DN\" => [\"TJP1\", \"NFIB\", \"TGFBR3\", \"TFPI\", \"MMP16\", \"ABC…\n",
       "  \"HALLMARK_NOTCH_SIGNALIN… => [\"JAG1\", \"NOTCH3\", \"NOTCH2\", \"APH1A\", \"HES1\", \"C…\n",
       "  \"HALLMARK_ANDROGEN_RESPO… => [\"KLK3\", \"KLK2\", \"ACSL3\", \"PIAS1\", \"CAMKK2\", \"NK…\n",
       "  \"HALLMARK_ALLOGRAFT_REJE… => [\"PTPRC\", \"IL12B\", \"TGFB1\", \"IL12A\", \"CD3E\", \"CD…\n",
       "  \"HALLMARK_ESTROGEN_RESPO… => [\"TFF1\", \"SLC9A3R1\", \"TPD52L1\", \"PRSS23\", \"CA12\"…\n",
       "  \"HALLMARK_G2M_CHECKPOINT\" => [\"AURKA\", \"CCNA2\", \"TOP2A\", \"CCNB2\", \"CENPA\", \"B…\n",
       "  \"HALLMARK_MYC_TARGETS_V2\" => [\"SLC19A1\", \"MRTO4\", \"TMEM97\", \"RRP9\", \"PES1\", \"…\n",
       "  \"HALLMARK_APOPTOSIS\"      => [\"CASP3\", \"CASP9\", \"DFFA\", \"CASP7\", \"CFLAR\", \"BI…\n",
       "  \"HALLMARK_P53_PATHWAY\"    => [\"CDKN1A\", \"BTG2\", \"MDM2\", \"CCNG1\", \"FAS\", \"TOB1…\n",
       "  \"HALLMARK_UNFOLDED_PROTE… => [\"ATF4\", \"HERPUD1\", \"PARN\", \"EXOSC4\", \"HSP90B1\",…\n",
       "  \"HALLMARK_ADIPOGENESIS\"   => [\"FABP4\", \"ADIPOQ\", \"PPARG\", \"LIPE\", \"DGAT1\", \"L…\n",
       "  \"HALLMARK_DNA_REPAIR\"     => [\"POLR2H\", \"POLR2A\", \"POLR2G\", \"POLR2E\", \"POLR2J…\n",
       "  \"HALLMARK_EPITHELIAL_MES… => [\"COL3A1\", \"COL5A2\", \"COL5A1\", \"FBN1\", \"COL1A1\",…\n",
       "  \"HALLMARK_OXIDATIVE_PHOS… => [\"NDUFS3\", \"UQCRB\", \"NDUFS2\", \"SDHA\", \"UQCRC1\", …\n",
       "  \"HALLMARK_HEME_METABOLIS… => [\"ALAS2\", \"PPOX\", \"FECH\", \"HMBS\", \"GYPB\", \"ALAD\"…\n",
       "  \"HALLMARK_MITOTIC_SPINDL… => [\"ARHGEF2\", \"CLASP1\", \"KIF11\", \"KIF23\", \"ALS2\", …\n",
       "  \"HALLMARK_FATTY_ACID_MET… => [\"ACAA1\", \"ACAA2\", \"ACADL\", \"ACADM\", \"ACOT8\", \"A…\n",
       "  \"HALLMARK_COMPLEMENT\"     => [\"C2\", \"C1S\", \"CFB\", \"C1R\", \"SERPINE1\", \"MMP14\",…\n",
       "  \"HALLMARK_APICAL_SURFACE\" => [\"B4GALT1\", \"RHCG\", \"MAL\", \"LYPD3\", \"PKHD1\", \"AT…\n",
       "  \"HALLMARK_ESTROGEN_RESPO… => [\"GREB1\", \"CA12\", \"SLC9A3R1\", \"MYB\", \"ANXA9\", \"I…\n",
       "  \"HALLMARK_INTERFERON_GAM… => [\"STAT1\", \"ISG15\", \"IFIT1\", \"MX1\", \"IFIT3\", \"IFI…\n",
       "  ⋮                         => ⋮"
      ]
     },
     "execution_count": 9,
     "metadata": {},
     "output_type": "execute_result"
    }
   ],
   "source": [
    "const gene_set_genes = Kraft.read_gmt([\n",
    "    \"h.all.v6.2.symbols.gmt\",\n",
    "])"
   ]
  },
  {
   "cell_type": "code",
   "execution_count": 10,
   "metadata": {},
   "outputs": [],
   "source": [
    "using BenchmarkTools"
   ]
  },
  {
   "cell_type": "markdown",
   "metadata": {},
   "source": [
    "## Compute gene set enrichment with 1 sample & 1 gene set"
   ]
  },
  {
   "cell_type": "code",
   "execution_count": 11,
   "metadata": {},
   "outputs": [
    {
     "data": {
      "text/plain": [
       "([-1.72849e-5, -3.45698e-5, -5.18547e-5, -6.91396e-5, -8.64244e-5, -0.000103709, -0.000120994, -0.000138279, -0.000155564, -0.000172849  …  0.000155564, 0.000138279, 0.000120994, 0.000103709, 8.64244e-5, 6.91396e-5, 5.18547e-5, 3.45698e-5, 1.72849e-5, 1.14426e-13], -0.24709086640591216, -4701.950421637625)"
      ]
     },
     "execution_count": 11,
     "metadata": {},
     "output_type": "execute_result"
    }
   ],
   "source": [
    "Kraft.compute_gene_set_enrichment(\n",
    "    gene_values,\n",
    "    genes,\n",
    "    random_gene_set_genes,\n",
    ")"
   ]
  },
  {
   "cell_type": "code",
   "execution_count": 12,
   "metadata": {},
   "outputs": [
    {
     "data": {
      "text/plain": [
       "BenchmarkTools.Trial: \n",
       "  memory estimate:  2.66 MiB\n",
       "  allocs estimate:  31\n",
       "  --------------\n",
       "  minimum time:     9.284 ms (0.00% GC)\n",
       "  median time:      11.164 ms (0.00% GC)\n",
       "  mean time:        11.396 ms (3.45% GC)\n",
       "  maximum time:     64.944 ms (82.38% GC)\n",
       "  --------------\n",
       "  samples:          439\n",
       "  evals/sample:     1"
      ]
     },
     "execution_count": 12,
     "metadata": {},
     "output_type": "execute_result"
    }
   ],
   "source": [
    "@benchmark Kraft.compute_gene_set_enrichment(\n",
    "    gene_values,\n",
    "    genes,\n",
    "    random_gene_set_genes,\n",
    ")"
   ]
  },
  {
   "cell_type": "markdown",
   "metadata": {},
   "source": [
    "## Compute gene set enrichment with 1 sample & 1< gene sets"
   ]
  },
  {
   "cell_type": "code",
   "execution_count": 13,
   "metadata": {},
   "outputs": [
    {
     "data": {
      "text/plain": [
       "Dict{String,Tuple{Union{Nothing, Array{Float64,1}},Float64,Float64}} with 50 entries:\n",
       "  \"HALLMARK_REACTIVE_OXIGEN_SPECIES_PATHWAY\"   => (nothing, 0.227902, 3436.01)\n",
       "  \"HALLMARK_ANGIOGENESIS\"                      => (nothing, -0.325284, -3704.15)\n",
       "  \"HALLMARK_MYOGENESIS\"                        => (nothing, -0.206474, -2145.89)\n",
       "  \"HALLMARK_PEROXISOME\"                        => (nothing, -0.230587, -1184.6)\n",
       "  \"HALLMARK_UV_RESPONSE_DN\"                    => (nothing, 0.168374, 808.725)\n",
       "  \"HALLMARK_NOTCH_SIGNALING\"                   => (nothing, -0.309605, -4900.77)\n",
       "  \"HALLMARK_ANDROGEN_RESPONSE\"                 => (nothing, 0.16499, -72.9583)\n",
       "  \"HALLMARK_ALLOGRAFT_REJECTION\"               => (nothing, -0.219909, -2117.61)\n",
       "  \"HALLMARK_ESTROGEN_RESPONSE_LATE\"            => (nothing, -0.224088, -1953.68)\n",
       "  \"HALLMARK_G2M_CHECKPOINT\"                    => (nothing, -0.201509, -2034.24)\n",
       "  \"HALLMARK_MYC_TARGETS_V2\"                    => (nothing, 0.200957, 1535.27)\n",
       "  \"HALLMARK_APOPTOSIS\"                         => (nothing, -0.179935, -217.107)\n",
       "  \"HALLMARK_P53_PATHWAY\"                       => (nothing, -0.232759, -2541.22)\n",
       "  \"HALLMARK_UNFOLDED_PROTEIN_RESPONSE\"         => (nothing, 0.225527, 2233.36)\n",
       "  \"HALLMARK_ADIPOGENESIS\"                      => (nothing, -0.224005, -3256.36)\n",
       "  \"HALLMARK_DNA_REPAIR\"                        => (nothing, -0.189707, -1042.94)\n",
       "  \"HALLMARK_EPITHELIAL_MESENCHYMAL_TRANSITION\" => (nothing, -0.185771, -1132.89)\n",
       "  \"HALLMARK_OXIDATIVE_PHOSPHORYLATION\"         => (nothing, -0.205026, -3224.09)\n",
       "  \"HALLMARK_HEME_METABOLISM\"                   => (nothing, 0.175414, 943.21)\n",
       "  \"HALLMARK_MITOTIC_SPINDLE\"                   => (nothing, 0.227019, 498.151)\n",
       "  \"HALLMARK_FATTY_ACID_METABOLISM\"             => (nothing, 0.21185, 1354.37)\n",
       "  \"HALLMARK_COMPLEMENT\"                        => (nothing, 0.160167, 450.004)\n",
       "  \"HALLMARK_APICAL_SURFACE\"                    => (nothing, 0.243652, 2167.94)\n",
       "  \"HALLMARK_ESTROGEN_RESPONSE_EARLY\"           => (nothing, -0.161805, -1012.01)\n",
       "  \"HALLMARK_INTERFERON_GAMMA_RESPONSE\"         => (nothing, -0.181438, -281.594)\n",
       "  ⋮                                            => ⋮"
      ]
     },
     "execution_count": 13,
     "metadata": {},
     "output_type": "execute_result"
    }
   ],
   "source": [
    "Kraft.compute_gene_set_enrichment(\n",
    "    gene_values,\n",
    "    genes,\n",
    "    gene_set_genes,\n",
    ")"
   ]
  },
  {
   "cell_type": "code",
   "execution_count": 14,
   "metadata": {},
   "outputs": [
    {
     "name": "stdout",
     "output_type": "stream",
     "text": [
      "1.0 ms / gene set\n"
     ]
    },
    {
     "data": {
      "text/plain": [
       "BenchmarkTools.Trial: \n",
       "  memory estimate:  51.24 MiB\n",
       "  allocs estimate:  559\n",
       "  --------------\n",
       "  minimum time:     50.846 ms (16.67% GC)\n",
       "  median time:      56.054 ms (14.33% GC)\n",
       "  mean time:        60.771 ms (21.55% GC)\n",
       "  maximum time:     127.744 ms (56.91% GC)\n",
       "  --------------\n",
       "  samples:          83\n",
       "  evals/sample:     1"
      ]
     },
     "execution_count": 14,
     "metadata": {},
     "output_type": "execute_result"
    }
   ],
   "source": [
    "benchmark_result = @benchmark Kraft.compute_gene_set_enrichment(\n",
    "    gene_values,\n",
    "    genes,\n",
    "    gene_set_genes,\n",
    ")\n",
    "\n",
    "ms_per_gene_set = round(\n",
    "    minimum(benchmark_result.times) / 1e6 / length(gene_set_genes),\n",
    "    sigdigits = 2,\n",
    ")\n",
    "\n",
    "println(\"$ms_per_gene_set ms / gene set\")\n",
    "\n",
    "benchmark_result"
   ]
  },
  {
   "cell_type": "markdown",
   "metadata": {},
   "source": [
    "## Compute gene set enrichment with 1< samples & 1< gene sets"
   ]
  },
  {
   "cell_type": "code",
   "execution_count": 19,
   "metadata": {},
   "outputs": [
    {
     "data": {
      "text/plain": [
       "\"auc\""
      ]
     },
     "execution_count": 19,
     "metadata": {},
     "output_type": "execute_result"
    }
   ],
   "source": [
    "statistic = \"ks\""
   ]
  },
  {
   "cell_type": "code",
   "execution_count": 20,
   "metadata": {},
   "outputs": [
    {
     "data": {
      "text/html": [
       "<table class=\"data-frame\"><thead><tr><th></th><th>Gene Set</th><th>Sample 1</th><th>Sample 2</th></tr><tr><th></th><th>String</th><th>Float64</th><th>Float64</th></tr></thead><tbody><p>50 rows × 3 columns</p><tr><th>1</th><td>HALLMARK_REACTIVE_OXIGEN_SPECIES_PATHWAY</td><td>3436.01</td><td>3436.01</td></tr><tr><th>2</th><td>HALLMARK_ANGIOGENESIS</td><td>-3704.15</td><td>-3704.15</td></tr><tr><th>3</th><td>HALLMARK_MYOGENESIS</td><td>-2145.89</td><td>-2145.89</td></tr><tr><th>4</th><td>HALLMARK_PEROXISOME</td><td>-1184.6</td><td>-1184.6</td></tr><tr><th>5</th><td>HALLMARK_UV_RESPONSE_DN</td><td>808.725</td><td>808.725</td></tr><tr><th>6</th><td>HALLMARK_NOTCH_SIGNALING</td><td>-4900.77</td><td>-4900.77</td></tr><tr><th>7</th><td>HALLMARK_ANDROGEN_RESPONSE</td><td>-72.9583</td><td>-72.9583</td></tr><tr><th>8</th><td>HALLMARK_ALLOGRAFT_REJECTION</td><td>-2117.61</td><td>-2117.61</td></tr><tr><th>9</th><td>HALLMARK_ESTROGEN_RESPONSE_LATE</td><td>-1953.68</td><td>-1953.68</td></tr><tr><th>10</th><td>HALLMARK_G2M_CHECKPOINT</td><td>-2034.24</td><td>-2034.24</td></tr><tr><th>11</th><td>HALLMARK_MYC_TARGETS_V2</td><td>1535.27</td><td>1535.27</td></tr><tr><th>12</th><td>HALLMARK_APOPTOSIS</td><td>-217.107</td><td>-217.107</td></tr><tr><th>13</th><td>HALLMARK_P53_PATHWAY</td><td>-2541.22</td><td>-2541.22</td></tr><tr><th>14</th><td>HALLMARK_UNFOLDED_PROTEIN_RESPONSE</td><td>2233.36</td><td>2233.36</td></tr><tr><th>15</th><td>HALLMARK_ADIPOGENESIS</td><td>-3256.36</td><td>-3256.36</td></tr><tr><th>16</th><td>HALLMARK_DNA_REPAIR</td><td>-1042.94</td><td>-1042.94</td></tr><tr><th>17</th><td>HALLMARK_EPITHELIAL_MESENCHYMAL_TRANSITION</td><td>-1132.89</td><td>-1132.89</td></tr><tr><th>18</th><td>HALLMARK_OXIDATIVE_PHOSPHORYLATION</td><td>-3224.09</td><td>-3224.09</td></tr><tr><th>19</th><td>HALLMARK_HEME_METABOLISM</td><td>943.21</td><td>943.21</td></tr><tr><th>20</th><td>HALLMARK_MITOTIC_SPINDLE</td><td>498.151</td><td>498.151</td></tr><tr><th>21</th><td>HALLMARK_FATTY_ACID_METABOLISM</td><td>1354.37</td><td>1354.37</td></tr><tr><th>22</th><td>HALLMARK_COMPLEMENT</td><td>450.004</td><td>450.004</td></tr><tr><th>23</th><td>HALLMARK_APICAL_SURFACE</td><td>2167.94</td><td>2167.94</td></tr><tr><th>24</th><td>HALLMARK_ESTROGEN_RESPONSE_EARLY</td><td>-1012.01</td><td>-1012.01</td></tr><tr><th>25</th><td>HALLMARK_INTERFERON_GAMMA_RESPONSE</td><td>-281.594</td><td>-281.594</td></tr><tr><th>26</th><td>HALLMARK_MTORC1_SIGNALING</td><td>373.669</td><td>373.669</td></tr><tr><th>27</th><td>HALLMARK_INTERFERON_ALPHA_RESPONSE</td><td>-1570.02</td><td>-1570.02</td></tr><tr><th>28</th><td>HALLMARK_PI3K_AKT_MTOR_SIGNALING</td><td>706.946</td><td>706.946</td></tr><tr><th>29</th><td>HALLMARK_XENOBIOTIC_METABOLISM</td><td>-1429.65</td><td>-1429.65</td></tr><tr><th>30</th><td>HALLMARK_KRAS_SIGNALING_DN</td><td>-488.51</td><td>-488.51</td></tr><tr><th>&vellip;</th><td>&vellip;</td><td>&vellip;</td><td>&vellip;</td></tr></tbody></table>"
      ],
      "text/latex": [
       "\\begin{tabular}{r|ccc}\n",
       "\t& Gene Set & Sample 1 & Sample 2\\\\\n",
       "\t\\hline\n",
       "\t& String & Float64 & Float64\\\\\n",
       "\t\\hline\n",
       "\t1 & HALLMARK\\_REACTIVE\\_OXIGEN\\_SPECIES\\_PATHWAY & 3436.01 & 3436.01 \\\\\n",
       "\t2 & HALLMARK\\_ANGIOGENESIS & -3704.15 & -3704.15 \\\\\n",
       "\t3 & HALLMARK\\_MYOGENESIS & -2145.89 & -2145.89 \\\\\n",
       "\t4 & HALLMARK\\_PEROXISOME & -1184.6 & -1184.6 \\\\\n",
       "\t5 & HALLMARK\\_UV\\_RESPONSE\\_DN & 808.725 & 808.725 \\\\\n",
       "\t6 & HALLMARK\\_NOTCH\\_SIGNALING & -4900.77 & -4900.77 \\\\\n",
       "\t7 & HALLMARK\\_ANDROGEN\\_RESPONSE & -72.9583 & -72.9583 \\\\\n",
       "\t8 & HALLMARK\\_ALLOGRAFT\\_REJECTION & -2117.61 & -2117.61 \\\\\n",
       "\t9 & HALLMARK\\_ESTROGEN\\_RESPONSE\\_LATE & -1953.68 & -1953.68 \\\\\n",
       "\t10 & HALLMARK\\_G2M\\_CHECKPOINT & -2034.24 & -2034.24 \\\\\n",
       "\t11 & HALLMARK\\_MYC\\_TARGETS\\_V2 & 1535.27 & 1535.27 \\\\\n",
       "\t12 & HALLMARK\\_APOPTOSIS & -217.107 & -217.107 \\\\\n",
       "\t13 & HALLMARK\\_P53\\_PATHWAY & -2541.22 & -2541.22 \\\\\n",
       "\t14 & HALLMARK\\_UNFOLDED\\_PROTEIN\\_RESPONSE & 2233.36 & 2233.36 \\\\\n",
       "\t15 & HALLMARK\\_ADIPOGENESIS & -3256.36 & -3256.36 \\\\\n",
       "\t16 & HALLMARK\\_DNA\\_REPAIR & -1042.94 & -1042.94 \\\\\n",
       "\t17 & HALLMARK\\_EPITHELIAL\\_MESENCHYMAL\\_TRANSITION & -1132.89 & -1132.89 \\\\\n",
       "\t18 & HALLMARK\\_OXIDATIVE\\_PHOSPHORYLATION & -3224.09 & -3224.09 \\\\\n",
       "\t19 & HALLMARK\\_HEME\\_METABOLISM & 943.21 & 943.21 \\\\\n",
       "\t20 & HALLMARK\\_MITOTIC\\_SPINDLE & 498.151 & 498.151 \\\\\n",
       "\t21 & HALLMARK\\_FATTY\\_ACID\\_METABOLISM & 1354.37 & 1354.37 \\\\\n",
       "\t22 & HALLMARK\\_COMPLEMENT & 450.004 & 450.004 \\\\\n",
       "\t23 & HALLMARK\\_APICAL\\_SURFACE & 2167.94 & 2167.94 \\\\\n",
       "\t24 & HALLMARK\\_ESTROGEN\\_RESPONSE\\_EARLY & -1012.01 & -1012.01 \\\\\n",
       "\t25 & HALLMARK\\_INTERFERON\\_GAMMA\\_RESPONSE & -281.594 & -281.594 \\\\\n",
       "\t26 & HALLMARK\\_MTORC1\\_SIGNALING & 373.669 & 373.669 \\\\\n",
       "\t27 & HALLMARK\\_INTERFERON\\_ALPHA\\_RESPONSE & -1570.02 & -1570.02 \\\\\n",
       "\t28 & HALLMARK\\_PI3K\\_AKT\\_MTOR\\_SIGNALING & 706.946 & 706.946 \\\\\n",
       "\t29 & HALLMARK\\_XENOBIOTIC\\_METABOLISM & -1429.65 & -1429.65 \\\\\n",
       "\t30 & HALLMARK\\_KRAS\\_SIGNALING\\_DN & -488.51 & -488.51 \\\\\n",
       "\t$\\dots$ & $\\dots$ & $\\dots$ & $\\dots$ \\\\\n",
       "\\end{tabular}\n"
      ],
      "text/plain": [
       "50×3 DataFrame\n",
       "│ Row │ Gene Set                                 │ Sample 1 │ Sample 2 │\n",
       "│     │ \u001b[90mString\u001b[39m                                   │ \u001b[90mFloat64\u001b[39m  │ \u001b[90mFloat64\u001b[39m  │\n",
       "├─────┼──────────────────────────────────────────┼──────────┼──────────┤\n",
       "│ 1   │ HALLMARK_REACTIVE_OXIGEN_SPECIES_PATHWAY │ 3436.01  │ 3436.01  │\n",
       "│ 2   │ HALLMARK_ANGIOGENESIS                    │ -3704.15 │ -3704.15 │\n",
       "│ 3   │ HALLMARK_MYOGENESIS                      │ -2145.89 │ -2145.89 │\n",
       "│ 4   │ HALLMARK_PEROXISOME                      │ -1184.6  │ -1184.6  │\n",
       "│ 5   │ HALLMARK_UV_RESPONSE_DN                  │ 808.725  │ 808.725  │\n",
       "│ 6   │ HALLMARK_NOTCH_SIGNALING                 │ -4900.77 │ -4900.77 │\n",
       "│ 7   │ HALLMARK_ANDROGEN_RESPONSE               │ -72.9583 │ -72.9583 │\n",
       "│ 8   │ HALLMARK_ALLOGRAFT_REJECTION             │ -2117.61 │ -2117.61 │\n",
       "│ 9   │ HALLMARK_ESTROGEN_RESPONSE_LATE          │ -1953.68 │ -1953.68 │\n",
       "│ 10  │ HALLMARK_G2M_CHECKPOINT                  │ -2034.24 │ -2034.24 │\n",
       "⋮\n",
       "│ 40  │ HALLMARK_BILE_ACID_METABOLISM            │ -2781.14 │ -2781.14 │\n",
       "│ 41  │ HALLMARK_KRAS_SIGNALING_UP               │ -5492.42 │ -5492.42 │\n",
       "│ 42  │ HALLMARK_INFLAMMATORY_RESPONSE           │ -5432.42 │ -5432.42 │\n",
       "│ 43  │ HALLMARK_CHOLESTEROL_HOMEOSTASIS         │ -9094.91 │ -9094.91 │\n",
       "│ 44  │ HALLMARK_TGF_BETA_SIGNALING              │ 6056.2   │ 6056.2   │\n",
       "│ 45  │ HALLMARK_PANCREAS_BETA_CELLS             │ -3629.77 │ -3629.77 │\n",
       "│ 46  │ HALLMARK_COAGULATION                     │ 3590.09  │ 3590.09  │\n",
       "│ 47  │ HALLMARK_HYPOXIA                         │ -1662.6  │ -1662.6  │\n",
       "│ 48  │ HALLMARK_GLYCOLYSIS                      │ -2315.72 │ -2315.72 │\n",
       "│ 49  │ HALLMARK_HEDGEHOG_SIGNALING              │ 3721.93  │ 3721.93  │\n",
       "│ 50  │ HALLMARK_IL6_JAK_STAT3_SIGNALING         │ -5103.67 │ -5103.67 │"
      ]
     },
     "execution_count": 20,
     "metadata": {},
     "output_type": "execute_result"
    }
   ],
   "source": [
    "Kraft.compute_gene_set_enrichment(\n",
    "    gene_x_sample,\n",
    "    gene_set_genes,\n",
    "    statistic,\n",
    ")"
   ]
  },
  {
   "cell_type": "code",
   "execution_count": 21,
   "metadata": {},
   "outputs": [
    {
     "data": {
      "text/plain": [
       "BenchmarkTools.Trial: \n",
       "  memory estimate:  108.47 MiB\n",
       "  allocs estimate:  1532\n",
       "  --------------\n",
       "  minimum time:     115.602 ms (15.94% GC)\n",
       "  median time:      121.656 ms (16.19% GC)\n",
       "  mean time:        134.554 ms (21.84% GC)\n",
       "  maximum time:     214.407 ms (45.83% GC)\n",
       "  --------------\n",
       "  samples:          38\n",
       "  evals/sample:     1"
      ]
     },
     "execution_count": 21,
     "metadata": {},
     "output_type": "execute_result"
    }
   ],
   "source": [
    "@benchmark gene_set_x_sample = Kraft.compute_gene_set_enrichment(\n",
    "    gene_x_sample,\n",
    "    gene_set_genes,\n",
    "    statistic,\n",
    ")"
   ]
  },
  {
   "cell_type": "markdown",
   "metadata": {},
   "source": [
    "## GSEA"
   ]
  },
  {
   "cell_type": "code",
   "execution_count": 22,
   "metadata": {},
   "outputs": [
    {
     "data": {
      "text/html": [
       "<table class=\"data-frame\"><thead><tr><th></th><th>Gene Set</th><th>Sample 1</th><th>Sample 2</th></tr><tr><th></th><th>String</th><th>Float64</th><th>Float64</th></tr></thead><tbody><p>50 rows × 3 columns</p><tr><th>1</th><td>HALLMARK_REACTIVE_OXIGEN_SPECIES_PATHWAY</td><td>3436.01</td><td>3436.01</td></tr><tr><th>2</th><td>HALLMARK_ANGIOGENESIS</td><td>-3704.15</td><td>-3704.15</td></tr><tr><th>3</th><td>HALLMARK_MYOGENESIS</td><td>-2145.89</td><td>-2145.89</td></tr><tr><th>4</th><td>HALLMARK_PEROXISOME</td><td>-1184.6</td><td>-1184.6</td></tr><tr><th>5</th><td>HALLMARK_UV_RESPONSE_DN</td><td>808.725</td><td>808.725</td></tr><tr><th>6</th><td>HALLMARK_NOTCH_SIGNALING</td><td>-4900.77</td><td>-4900.77</td></tr><tr><th>7</th><td>HALLMARK_ANDROGEN_RESPONSE</td><td>-72.9583</td><td>-72.9583</td></tr><tr><th>8</th><td>HALLMARK_ALLOGRAFT_REJECTION</td><td>-2117.61</td><td>-2117.61</td></tr><tr><th>9</th><td>HALLMARK_ESTROGEN_RESPONSE_LATE</td><td>-1953.68</td><td>-1953.68</td></tr><tr><th>10</th><td>HALLMARK_G2M_CHECKPOINT</td><td>-2034.24</td><td>-2034.24</td></tr><tr><th>11</th><td>HALLMARK_MYC_TARGETS_V2</td><td>1535.27</td><td>1535.27</td></tr><tr><th>12</th><td>HALLMARK_APOPTOSIS</td><td>-217.107</td><td>-217.107</td></tr><tr><th>13</th><td>HALLMARK_P53_PATHWAY</td><td>-2541.22</td><td>-2541.22</td></tr><tr><th>14</th><td>HALLMARK_UNFOLDED_PROTEIN_RESPONSE</td><td>2233.36</td><td>2233.36</td></tr><tr><th>15</th><td>HALLMARK_ADIPOGENESIS</td><td>-3256.36</td><td>-3256.36</td></tr><tr><th>16</th><td>HALLMARK_DNA_REPAIR</td><td>-1042.94</td><td>-1042.94</td></tr><tr><th>17</th><td>HALLMARK_EPITHELIAL_MESENCHYMAL_TRANSITION</td><td>-1132.89</td><td>-1132.89</td></tr><tr><th>18</th><td>HALLMARK_OXIDATIVE_PHOSPHORYLATION</td><td>-3224.09</td><td>-3224.09</td></tr><tr><th>19</th><td>HALLMARK_HEME_METABOLISM</td><td>943.21</td><td>943.21</td></tr><tr><th>20</th><td>HALLMARK_MITOTIC_SPINDLE</td><td>498.151</td><td>498.151</td></tr><tr><th>21</th><td>HALLMARK_FATTY_ACID_METABOLISM</td><td>1354.37</td><td>1354.37</td></tr><tr><th>22</th><td>HALLMARK_COMPLEMENT</td><td>450.004</td><td>450.004</td></tr><tr><th>23</th><td>HALLMARK_APICAL_SURFACE</td><td>2167.94</td><td>2167.94</td></tr><tr><th>24</th><td>HALLMARK_ESTROGEN_RESPONSE_EARLY</td><td>-1012.01</td><td>-1012.01</td></tr><tr><th>25</th><td>HALLMARK_INTERFERON_GAMMA_RESPONSE</td><td>-281.594</td><td>-281.594</td></tr><tr><th>26</th><td>HALLMARK_MTORC1_SIGNALING</td><td>373.669</td><td>373.669</td></tr><tr><th>27</th><td>HALLMARK_INTERFERON_ALPHA_RESPONSE</td><td>-1570.02</td><td>-1570.02</td></tr><tr><th>28</th><td>HALLMARK_PI3K_AKT_MTOR_SIGNALING</td><td>706.946</td><td>706.946</td></tr><tr><th>29</th><td>HALLMARK_XENOBIOTIC_METABOLISM</td><td>-1429.65</td><td>-1429.65</td></tr><tr><th>30</th><td>HALLMARK_KRAS_SIGNALING_DN</td><td>-488.51</td><td>-488.51</td></tr><tr><th>&vellip;</th><td>&vellip;</td><td>&vellip;</td><td>&vellip;</td></tr></tbody></table>"
      ],
      "text/latex": [
       "\\begin{tabular}{r|ccc}\n",
       "\t& Gene Set & Sample 1 & Sample 2\\\\\n",
       "\t\\hline\n",
       "\t& String & Float64 & Float64\\\\\n",
       "\t\\hline\n",
       "\t1 & HALLMARK\\_REACTIVE\\_OXIGEN\\_SPECIES\\_PATHWAY & 3436.01 & 3436.01 \\\\\n",
       "\t2 & HALLMARK\\_ANGIOGENESIS & -3704.15 & -3704.15 \\\\\n",
       "\t3 & HALLMARK\\_MYOGENESIS & -2145.89 & -2145.89 \\\\\n",
       "\t4 & HALLMARK\\_PEROXISOME & -1184.6 & -1184.6 \\\\\n",
       "\t5 & HALLMARK\\_UV\\_RESPONSE\\_DN & 808.725 & 808.725 \\\\\n",
       "\t6 & HALLMARK\\_NOTCH\\_SIGNALING & -4900.77 & -4900.77 \\\\\n",
       "\t7 & HALLMARK\\_ANDROGEN\\_RESPONSE & -72.9583 & -72.9583 \\\\\n",
       "\t8 & HALLMARK\\_ALLOGRAFT\\_REJECTION & -2117.61 & -2117.61 \\\\\n",
       "\t9 & HALLMARK\\_ESTROGEN\\_RESPONSE\\_LATE & -1953.68 & -1953.68 \\\\\n",
       "\t10 & HALLMARK\\_G2M\\_CHECKPOINT & -2034.24 & -2034.24 \\\\\n",
       "\t11 & HALLMARK\\_MYC\\_TARGETS\\_V2 & 1535.27 & 1535.27 \\\\\n",
       "\t12 & HALLMARK\\_APOPTOSIS & -217.107 & -217.107 \\\\\n",
       "\t13 & HALLMARK\\_P53\\_PATHWAY & -2541.22 & -2541.22 \\\\\n",
       "\t14 & HALLMARK\\_UNFOLDED\\_PROTEIN\\_RESPONSE & 2233.36 & 2233.36 \\\\\n",
       "\t15 & HALLMARK\\_ADIPOGENESIS & -3256.36 & -3256.36 \\\\\n",
       "\t16 & HALLMARK\\_DNA\\_REPAIR & -1042.94 & -1042.94 \\\\\n",
       "\t17 & HALLMARK\\_EPITHELIAL\\_MESENCHYMAL\\_TRANSITION & -1132.89 & -1132.89 \\\\\n",
       "\t18 & HALLMARK\\_OXIDATIVE\\_PHOSPHORYLATION & -3224.09 & -3224.09 \\\\\n",
       "\t19 & HALLMARK\\_HEME\\_METABOLISM & 943.21 & 943.21 \\\\\n",
       "\t20 & HALLMARK\\_MITOTIC\\_SPINDLE & 498.151 & 498.151 \\\\\n",
       "\t21 & HALLMARK\\_FATTY\\_ACID\\_METABOLISM & 1354.37 & 1354.37 \\\\\n",
       "\t22 & HALLMARK\\_COMPLEMENT & 450.004 & 450.004 \\\\\n",
       "\t23 & HALLMARK\\_APICAL\\_SURFACE & 2167.94 & 2167.94 \\\\\n",
       "\t24 & HALLMARK\\_ESTROGEN\\_RESPONSE\\_EARLY & -1012.01 & -1012.01 \\\\\n",
       "\t25 & HALLMARK\\_INTERFERON\\_GAMMA\\_RESPONSE & -281.594 & -281.594 \\\\\n",
       "\t26 & HALLMARK\\_MTORC1\\_SIGNALING & 373.669 & 373.669 \\\\\n",
       "\t27 & HALLMARK\\_INTERFERON\\_ALPHA\\_RESPONSE & -1570.02 & -1570.02 \\\\\n",
       "\t28 & HALLMARK\\_PI3K\\_AKT\\_MTOR\\_SIGNALING & 706.946 & 706.946 \\\\\n",
       "\t29 & HALLMARK\\_XENOBIOTIC\\_METABOLISM & -1429.65 & -1429.65 \\\\\n",
       "\t30 & HALLMARK\\_KRAS\\_SIGNALING\\_DN & -488.51 & -488.51 \\\\\n",
       "\t$\\dots$ & $\\dots$ & $\\dots$ & $\\dots$ \\\\\n",
       "\\end{tabular}\n"
      ],
      "text/plain": [
       "50×3 DataFrame\n",
       "│ Row │ Gene Set                                 │ Sample 1 │ Sample 2 │\n",
       "│     │ \u001b[90mString\u001b[39m                                   │ \u001b[90mFloat64\u001b[39m  │ \u001b[90mFloat64\u001b[39m  │\n",
       "├─────┼──────────────────────────────────────────┼──────────┼──────────┤\n",
       "│ 1   │ HALLMARK_REACTIVE_OXIGEN_SPECIES_PATHWAY │ 3436.01  │ 3436.01  │\n",
       "│ 2   │ HALLMARK_ANGIOGENESIS                    │ -3704.15 │ -3704.15 │\n",
       "│ 3   │ HALLMARK_MYOGENESIS                      │ -2145.89 │ -2145.89 │\n",
       "│ 4   │ HALLMARK_PEROXISOME                      │ -1184.6  │ -1184.6  │\n",
       "│ 5   │ HALLMARK_UV_RESPONSE_DN                  │ 808.725  │ 808.725  │\n",
       "│ 6   │ HALLMARK_NOTCH_SIGNALING                 │ -4900.77 │ -4900.77 │\n",
       "│ 7   │ HALLMARK_ANDROGEN_RESPONSE               │ -72.9583 │ -72.9583 │\n",
       "│ 8   │ HALLMARK_ALLOGRAFT_REJECTION             │ -2117.61 │ -2117.61 │\n",
       "│ 9   │ HALLMARK_ESTROGEN_RESPONSE_LATE          │ -1953.68 │ -1953.68 │\n",
       "│ 10  │ HALLMARK_G2M_CHECKPOINT                  │ -2034.24 │ -2034.24 │\n",
       "⋮\n",
       "│ 40  │ HALLMARK_BILE_ACID_METABOLISM            │ -2781.14 │ -2781.14 │\n",
       "│ 41  │ HALLMARK_KRAS_SIGNALING_UP               │ -5492.42 │ -5492.42 │\n",
       "│ 42  │ HALLMARK_INFLAMMATORY_RESPONSE           │ -5432.42 │ -5432.42 │\n",
       "│ 43  │ HALLMARK_CHOLESTEROL_HOMEOSTASIS         │ -9094.91 │ -9094.91 │\n",
       "│ 44  │ HALLMARK_TGF_BETA_SIGNALING              │ 6056.2   │ 6056.2   │\n",
       "│ 45  │ HALLMARK_PANCREAS_BETA_CELLS             │ -3629.77 │ -3629.77 │\n",
       "│ 46  │ HALLMARK_COAGULATION                     │ 3590.09  │ 3590.09  │\n",
       "│ 47  │ HALLMARK_HYPOXIA                         │ -1662.6  │ -1662.6  │\n",
       "│ 48  │ HALLMARK_GLYCOLYSIS                      │ -2315.72 │ -2315.72 │\n",
       "│ 49  │ HALLMARK_HEDGEHOG_SIGNALING              │ 3721.93  │ 3721.93  │\n",
       "│ 50  │ HALLMARK_IL6_JAK_STAT3_SIGNALING         │ -5103.67 │ -5103.67 │"
      ]
     },
     "execution_count": 22,
     "metadata": {},
     "output_type": "execute_result"
    }
   ],
   "source": [
    "output_directory_path = \"gsea_output\"\n",
    "\n",
    "gene_set_x_sample = Kraft.gsea(\n",
    "    \"gene_x_sample.tsv\",\n",
    "    [\n",
    "        \"h.all.v6.2.symbols.gmt\",\n",
    "    ],\n",
    "    output_directory_path;\n",
    "    statistic = statistic,\n",
    ")\n",
    "\n",
    "gene_set_x_sample = CSV.read(joinpath(\n",
    "    output_directory_path,\n",
    "    \"gene_set_x_sample.tsv\",\n",
    "))"
   ]
  }
 ],
 "metadata": {
  "@webio": {
   "lastCommId": null,
   "lastKernelId": null
  },
  "kernelspec": {
   "display_name": "Julia 1.0.3",
   "language": "julia",
   "name": "julia-1.0"
  },
  "language_info": {
   "file_extension": ".jl",
   "mimetype": "application/julia",
   "name": "julia",
   "version": "1.0.3"
  }
 },
 "nbformat": 4,
 "nbformat_minor": 4
}
