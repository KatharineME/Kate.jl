{
 "cells": [
  {
   "cell_type": "code",
   "execution_count": 11,
   "metadata": {},
   "outputs": [
    {
     "name": "stderr",
     "output_type": "stream",
     "text": [
      "WARNING: replacing module ProcessSequence.\n"
     ]
    },
    {
     "data": {
      "text/plain": [
       "Main.ProcessSequence"
      ]
     },
     "execution_count": 11,
     "metadata": {},
     "output_type": "execute_result"
    }
   ],
   "source": [
    "using Revise\n",
    "\n",
    "using ProcessSequence"
   ]
  },
  {
   "cell_type": "code",
   "execution_count": 12,
   "metadata": {},
   "outputs": [
    {
     "data": {
      "text/plain": [
       "8"
      ]
     },
     "execution_count": 12,
     "metadata": {},
     "output_type": "execute_result"
    }
   ],
   "source": [
    "sa = \"S2012\"\n",
    "\n",
    "pr = dirname(@__DIR__)\n",
    "\n",
    "paou = joinpath(pr, \"output\")\n",
    "\n",
    "paid = joinpath(pr, \"input\")\n",
    "\n",
    "pasa = joinpath(paid, sa)\n",
    "\n",
    "n_jo = 8"
   ]
  },
  {
   "cell_type": "markdown",
   "metadata": {},
   "source": [
    "## Find raw reads"
   ]
  },
  {
   "cell_type": "code",
   "execution_count": 13,
   "metadata": {},
   "outputs": [
    {
     "name": "stdout",
     "output_type": "stream",
     "text": [
      "Walking sample directory...\n",
      "\n",
      "/home/jovyan/ProcessSequence.jl/input/S2012\n",
      "\n",
      "\n",
      "Number of fastq files found in directories walked: 0\n",
      "\n",
      "Number of fastq.gz or fq.gz files found in directories walked: 8\n",
      "\n",
      "\n",
      "Done at: 2021-07-12T23:49:23.932\n",
      "\n",
      "Took 8 milliseconds.\n",
      "\n"
     ]
    },
    {
     "data": {
      "text/plain": [
       "8-element Array{Any,1}:\n",
       " \"/home/jovyan/ProcessSequence.jl/input/S2012/S2012_1_CSFP21H000028-1a_H57V7DSX2_L2_1.fq.gz\"\n",
       " \"/home/jovyan/ProcessSequence.jl/input/S2012/S2012_1_CSFP21H000028-1a_H57V7DSX2_L2_2.fq.gz\"\n",
       " \"/home/jovyan/ProcessSequence.jl/input/S2012/S2012_1_CSFP21H000028-1a_HC2JNDSX2_L2_1.fq.gz\"\n",
       " \"/home/jovyan/ProcessSequence.jl/input/S2012/S2012_1_CSFP21H000028-1a_HC2JNDSX2_L2_2.fq.gz\"\n",
       " \"/home/jovyan/ProcessSequence.jl/input/S2012/S2012_CSFP21H000028-1a_H57V7DSX2_L2_1.fq.gz\"\n",
       " \"/home/jovyan/ProcessSequence.jl/input/S2012/S2012_CSFP21H000028-1a_H57V7DSX2_L2_2.fq.gz\"\n",
       " \"/home/jovyan/ProcessSequence.jl/input/S2012/S2012_CSFP21H000028-1a_HC2JNDSX2_L2_1.fq.gz\"\n",
       " \"/home/jovyan/ProcessSequence.jl/input/S2012/S2012_CSFP21H000028-1a_HC2JNDSX2_L2_2.fq.gz\""
      ]
     },
     "execution_count": 13,
     "metadata": {},
     "output_type": "execute_result"
    }
   ],
   "source": [
    "re_ = ProcessSequence.find_reads(pasa)"
   ]
  },
  {
   "cell_type": "code",
   "execution_count": 14,
   "metadata": {},
   "outputs": [
    {
     "name": "stdout",
     "output_type": "stream",
     "text": [
      "Skipping check sequence because directory already exists:\n",
      " /home/jovyan/ProcessSequence.jl/output/S2012/check_sequence_raw\n",
      "\n"
     ]
    }
   ],
   "source": [
    "ProcessSequence.check_sequence(\n",
    "    re_,\n",
    "    joinpath(paou, sa, string(\"check_sequence_raw\")),\n",
    "    n_jo,\n",
    ")"
   ]
  },
  {
   "cell_type": "markdown",
   "metadata": {},
   "source": [
    "## Concatenate reads of same strand"
   ]
  },
  {
   "cell_type": "code",
   "execution_count": 16,
   "metadata": {},
   "outputs": [
    {
     "name": "stdout",
     "output_type": "stream",
     "text": [
      "Number of forward (R1) read files = 4\n",
      "\n",
      "Number of reverse (R2) read files = 4\n",
      "\n",
      "\n",
      "Combining R1 reads\n",
      "\n",
      "\n",
      "Combining R2 reads\n",
      "\n",
      "\n",
      "Done at: 2021-07-13T01:51:02.153\n",
      "\n",
      "Took 2 hours, 30 seconds, 457 milliseconds.\n",
      "\n"
     ]
    }
   ],
   "source": [
    "ProcessSequence.concatenate_reads(re_, sa, paid)"
   ]
  },
  {
   "cell_type": "markdown",
   "metadata": {},
   "source": [
    "## Run FastQC"
   ]
  },
  {
   "cell_type": "code",
   "execution_count": null,
   "metadata": {},
   "outputs": [],
   "source": [
    "ca = joinpath(paid, string(sa, \"_cat\"))\n",
    "\n",
    "cach = joinpath(paou, string(\"check_sequence_\", sa, \"_cat\"))\n",
    "\n",
    "if ispath(ca)\n",
    "\n",
    "    ProcessSequence.check_sequence(\n",
    "        Tuple((\n",
    "            joinpath(ca, string(sa, \"_R1.fastq.gz\")),\n",
    "            joinpath(sample_cat_paid, string(sa, \"_R2.fastq.gz\")),\n",
    "        )),\n",
    "        cach,\n",
    "        n_jo,\n",
    "    )\n",
    "\n",
    "else\n",
    "\n",
    "    println(\"Reads weren't concatenated, no need to run FASTQC again.\")\n",
    "\n",
    "end"
   ]
  }
 ],
 "metadata": {
  "@webio": {
   "lastCommId": null,
   "lastKernelId": null
  },
  "kernelspec": {
   "display_name": "Julia 1.5.2",
   "language": "julia",
   "name": "julia-1.5"
  },
  "language_info": {
   "file_extension": ".jl",
   "mimetype": "application/julia",
   "name": "julia",
   "version": "1.5.2"
  }
 },
 "nbformat": 4,
 "nbformat_minor": 4
}
