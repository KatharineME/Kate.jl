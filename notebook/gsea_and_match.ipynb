{
 "cells": [
  {
   "cell_type": "code",
   "execution_count": null,
   "metadata": {},
   "outputs": [],
   "source": [
    "using CSV\n",
    "using DataFrames\n",
    "using PyCall\n",
    "\n",
    "include(\"../src/Kraft.jl\")\n",
    "\n",
    "pd = pyimport(\"pandas\")\n",
    "kraft = pyimport(\"kraft\")"
   ]
  },
  {
   "cell_type": "code",
   "execution_count": null,
   "metadata": {},
   "outputs": [],
   "source": [
    "gene_x_sample_gct_file_path = \"/Users/kwatme/Downloads/CCLE_expression_full.reformatted.gct\"\n",
    "\n",
    "gene_x_sample_tsv_file_path = \"$gene_x_sample_gct_file_path.gene_x_sample.tsv\"\n",
    "\n",
    "# CSV.write(\n",
    "#     gene_x_sample_tsv_file_path,\n",
    "#     Kraft.read_gct(\n",
    "#         gene_x_sample_gct_file_path,\n",
    "#         \"Gene\",\n",
    "#     );\n",
    "#     delim = '\\t',\n",
    "# )\n",
    "\n",
    "gmt_file_paths = [\n",
    "    \"c2.all.v6.2.symbols.gmt\",\n",
    "]\n",
    "\n",
    "output_directory_path = \"/Users/kwatme/Downloads/gsea\"\n",
    "\n",
    "gene_set_keywords = [\n",
    "    \"VANTVEER_BREAST_CANCER_ESR1\",\n",
    "    \"DOANE_BREAST_CANCER_ESR1\",\n",
    "    \"YANG_BREAST_CANCER_ESR1\",\n",
    "    \"CHARAFE_BREAST_CANCER_LUMINAL_VS_BASAL\",\n",
    "]\n",
    "\n",
    ";"
   ]
  },
  {
   "cell_type": "code",
   "execution_count": null,
   "metadata": {},
   "outputs": [],
   "source": [
    "gene_set_x_sample_tsv_file_path = Kraft.gsea(\n",
    "    gene_x_sample_tsv_file_path,\n",
    "    gmt_file_paths,\n",
    "    output_directory_path;\n",
    "    sample_normalization_method = \"-0-\",\n",
    "    gene_set_keywords = gene_set_keywords,\n",
    "    n_required_gene_set_element = 5,\n",
    "    statistic = \"ks\",\n",
    ")\n",
    "\n",
    "gene_set_x_sample = CSV.read(gene_set_x_sample_tsv_file_path)"
   ]
  },
  {
   "cell_type": "code",
   "execution_count": null,
   "metadata": {
    "scrolled": true
   },
   "outputs": [],
   "source": [
    "protein_x_sample = Kraft.read_gct(\n",
    "    \"/Users/kwatme/Downloads/CCLE_RPPA_20180123.gct\",\n",
    "    \"Protein\",\n",
    ")\n",
    "\n",
    "target_row_indices = findall(protein_x_sample[!, Symbol(\"Protein\")] .== \"ER-alpha\")\n",
    "\n",
    "if length(target_row_indices) != 1\n",
    "    \n",
    "    error(\"there should be only 1 target.\")\n",
    "    \n",
    "end\n",
    "\n",
    "target_row_index = target_row_indices[1]\n",
    "\n",
    "target = pd.Series(\n",
    "    [protein_x_sample[target_row_index, i] for i in 2:size(\n",
    "        protein_x_sample,\n",
    "        2,\n",
    "    )],\n",
    "    index = names(protein_x_sample)[2:end],\n",
    "    name = \"ER Protein\",\n",
    ")"
   ]
  },
  {
   "cell_type": "code",
   "execution_count": null,
   "metadata": {},
   "outputs": [],
   "source": [
    "data = pd.DataFrame(\n",
    "    Dict(name => gene_set_x_sample[!, name] for name in names(gene_set_x_sample)[2:end]),\n",
    "    index = gene_set_x_sample[!, 1],\n",
    ")"
   ]
  },
  {
   "cell_type": "code",
   "execution_count": null,
   "metadata": {},
   "outputs": [],
   "source": [
    "kraft.make_match_panel(\n",
    "    target,\n",
    "    data,\n",
    "    n_sampling = 0,\n",
    "    n_permutation = 0,\n",
    ")"
   ]
  }
 ],
 "metadata": {
  "@webio": {
   "lastCommId": null,
   "lastKernelId": null
  },
  "kernelspec": {
   "display_name": "Julia 1.0.3",
   "language": "julia",
   "name": "julia-1.0"
  },
  "language_info": {
   "file_extension": ".jl",
   "mimetype": "application/julia",
   "name": "julia",
   "version": "1.0.3"
  }
 },
 "nbformat": 4,
 "nbformat_minor": 4
}
