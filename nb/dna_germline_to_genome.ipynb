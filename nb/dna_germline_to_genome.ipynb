{
 "cells": [
  {
   "cell_type": "code",
   "execution_count": 5,
   "metadata": {},
   "outputs": [],
   "source": [
    "using Revise\n",
    "\n",
    "using Kate"
   ]
  },
  {
   "cell_type": "markdown",
   "metadata": {},
   "source": [
    "### Check Environment"
   ]
  },
  {
   "cell_type": "code",
   "execution_count": 6,
   "metadata": {},
   "outputs": [
    {
     "name": "stdout",
     "output_type": "stream",
     "text": [
      "Testing environment...\n",
      "`\u001b[4mwhich\u001b[24m \u001b[4mskewer\u001b[24m`\n",
      "/opt/conda/bin/skewer\n",
      "`\u001b[4mwhich\u001b[24m \u001b[4mfastqc\u001b[24m`\n",
      "/opt/conda/bin/fastqc\n",
      "`\u001b[4mwhich\u001b[24m \u001b[4mbgzip\u001b[24m`\n",
      "/opt/conda/bin/bgzip\n",
      "`\u001b[4mwhich\u001b[24m \u001b[4mtabix\u001b[24m`\n",
      "/opt/conda/bin/tabix\n",
      "`\u001b[4mwhich\u001b[24m \u001b[4mminimap2\u001b[24m`\n",
      "/opt/conda/bin/minimap2\n",
      "`\u001b[4mwhich\u001b[24m \u001b[4msamtools\u001b[24m`\n",
      "/opt/conda/bin/samtools\n",
      "`\u001b[4mwhich\u001b[24m \u001b[4mbcftools\u001b[24m`\n",
      "/opt/conda/bin/bcftools\n",
      "`\u001b[4mwhich\u001b[24m \u001b[4mkallisto\u001b[24m`\n",
      "/opt/conda/bin/kallisto\n",
      "`\u001b[4mbash\u001b[24m \u001b[4m-c\u001b[24m \u001b[4m'source activate py2 && which configManta.py'\u001b[24m`\n",
      "/opt/conda/envs/py2/bin/configManta.py\n",
      "`\u001b[4mbash\u001b[24m \u001b[4m-c\u001b[24m \u001b[4m'source activate py2 && which configureStrelkaGermlineWorkflow.py'\u001b[24m`\n",
      "/opt/conda/envs/py2/bin/configureStrelkaGermlineWorkflow.py\n",
      "`\u001b[4mbash\u001b[24m \u001b[4m-c\u001b[24m \u001b[4m'source activate py2 && which configureStrelkaSomaticWorkflow.py'\u001b[24m`\n",
      "/opt/conda/envs/py2/bin/configureStrelkaSomaticWorkflow.py\n"
     ]
    }
   ],
   "source": [
    "Kate.test()"
   ]
  },
  {
   "cell_type": "markdown",
   "metadata": {},
   "source": [
    "### Set Parameters"
   ]
  },
  {
   "cell_type": "code",
   "execution_count": 7,
   "metadata": {},
   "outputs": [],
   "source": [
    "# Sample name\n",
    "sa = \"2012_cat\"\n",
    "\n",
    "# Molecule: cdna or dna\n",
    "mo = \"dna\"\n",
    "\n",
    "# Adapter sequence to trim\n",
    "ad = \"AGATCGGAAGAGC\"\n",
    "\n",
    "# Forward read file\n",
    "fq1 = \"../input/2012_cat/2012_R1.fastq.gz\"\n",
    "\n",
    "# Reverse read file\n",
    "fq2 = \"../input/2012_cat/2012_R2.fastq.gz\"\n",
    "\n",
    "# is dna targeted\n",
    "ta = false\n",
    "\n",
    "# Number of jobs\n",
    "n_jo = 10\n",
    "\n",
    "# G of memory\n",
    "met = 40\n",
    "\n",
    "# G of memory per job\n",
    "mej = 2;"
   ]
  },
  {
   "cell_type": "code",
   "execution_count": 8,
   "metadata": {},
   "outputs": [
    {
     "data": {
      "text/plain": [
       "\"/home/jovyan/Kate.jl/input/human_reference_genome\""
      ]
     },
     "execution_count": 8,
     "metadata": {},
     "output_type": "execute_result"
    }
   ],
   "source": [
    "pap = dirname(@__DIR__)\n",
    "\n",
    "pao = joinpath(pap, \"output\")\n",
    "\n",
    "pai = joinpath(pap, \"input\")\n",
    "\n",
    "par = joinpath(pai, \"human_reference_genome\")"
   ]
  },
  {
   "cell_type": "markdown",
   "metadata": {},
   "source": [
    "### Process DNA"
   ]
  },
  {
   "cell_type": "code",
   "execution_count": null,
   "metadata": {
    "tags": []
   },
   "outputs": [
    {
     "name": "stdout",
     "output_type": "stream",
     "text": [
      "(2021-08-21T05:31:19.982) Trimming sequence ...\n",
      "Made path for trimmed files: /home/jovyan/Kate.jl/output/2012_cat/trim/\n",
      "`\u001b[4mskewer\u001b[24m \u001b[4m--threads\u001b[24m \u001b[4m10\u001b[24m \u001b[4m-x\u001b[24m \u001b[4mAGATCGGAAGAGC\u001b[24m \u001b[4m--mode\u001b[24m \u001b[4mpe\u001b[24m \u001b[4m--mean-quality\u001b[24m \u001b[4m10\u001b[24m \u001b[4m--end-quality\u001b[24m \u001b[4m15\u001b[24m \u001b[4m--compress\u001b[24m \u001b[4m--output\u001b[24m \u001b[4m/home/jovyan/Kate.jl/output/2012_cat/trim/\u001b[24m \u001b[4m--quiet\u001b[24m \u001b[4m../input/2012_cat/2012_R1.fastq.gz\u001b[24m \u001b[4m../input/2012_cat/2012_R2.fastq.gz\u001b[24m`\n",
      ".--. .-.\n",
      ": .--': :.-.\n",
      "`. `. : `'.' .--. .-..-..-. .--. .--.\n",
      "_`, :: . `.' '_.': `; `; :' '_.': ..'\n",
      "`.__.':_;:_;`.__.'`.__.__.'`.__.':_;\n",
      "skewer v0.2.2 [April 4, 2016]\n",
      "Parameters used:\n",
      "-- 3' end adapter sequence (-x):\u001b[0;33m\tAGATCGGAAGAGC\n",
      "\u001b[0m-- maximum error ratio allowed (-r):\t0.100\n",
      "-- maximum indel error ratio allowed (-d):\t0.030\n",
      "-- mean quality threshold (-Q):\t\t10\n",
      "-- end quality threshold (-q):\t\t15\n",
      "-- minimum read length allowed after trimming (-l):\t18\n",
      "-- file format (-f):\t\tSanger/Illumina 1.8+ FASTQ (auto detected)\n",
      "-- number of concurrent threads (-t):\t10\n",
      "Sat Aug 21 05:31:20 2021\u001b[0;32m >> started\u001b[0m\n",
      "\n",
      "Sat Aug 21 23:01:53 2021\u001b[0;32m >> done\u001b[0m (63104.766s)\n",
      "1987819836 read pairs processed; of these:\n",
      "      7928 ( 0.00%) short read pairs filtered out after trimming by size control\n",
      "       170 ( 0.00%) empty read pairs filtered out after trimming by size control\n",
      "1987811738 (100.00%) read pairs available; of these:\n",
      " 157758212 ( 7.94%) trimmed read pairs available after processing\n",
      "1830053526 (92.06%) untrimmed read pairs available after processing\n",
      "log has been saved to \"/home/jovyan/Kate.jl/output/2012_cat/trim/trimmed.log\".\n",
      "Done at 2021-08-21T23:01:53.119 in 17 hours, 30 minutes, 33 seconds, 137 milliseconds.\n",
      "\n",
      "(2021-08-21T23:01:53.686) Checking sequence ...\n",
      "`\u001b[4mfastqc\u001b[24m \u001b[4m--threads\u001b[24m \u001b[4m2\u001b[24m \u001b[4m--outdir\u001b[24m \u001b[4m/home/jovyan/Kate.jl/output/2012_cat/check_trim\u001b[24m \u001b[4m/home/jovyan/Kate.jl/output/2012_cat/trim//trimmed-pair1.fastq.gz\u001b[24m \u001b[4m/home/jovyan/Kate.jl/output/2012_cat/trim//trimmed-pair2.fastq.gz\u001b[24m`\n"
     ]
    },
    {
     "name": "stderr",
     "output_type": "stream",
     "text": [
      "Started analysis of trimmed-pair1.fastq.gz\n",
      "Started analysis of trimmed-pair2.fastq.gz\n",
      "Approx 5% complete for trimmed-pair1.fastq.gz\n",
      "Approx 5% complete for trimmed-pair2.fastq.gz\n",
      "Approx 10% complete for trimmed-pair1.fastq.gz\n",
      "Approx 10% complete for trimmed-pair2.fastq.gz\n",
      "Approx 15% complete for trimmed-pair1.fastq.gz\n",
      "Approx 15% complete for trimmed-pair2.fastq.gz\n",
      "Approx 20% complete for trimmed-pair1.fastq.gz\n",
      "Approx 20% complete for trimmed-pair2.fastq.gz\n",
      "Approx 25% complete for trimmed-pair1.fastq.gz\n",
      "Approx 25% complete for trimmed-pair2.fastq.gz\n",
      "Approx 30% complete for trimmed-pair1.fastq.gz\n",
      "Approx 30% complete for trimmed-pair2.fastq.gz\n",
      "Approx 35% complete for trimmed-pair1.fastq.gz\n",
      "Approx 35% complete for trimmed-pair2.fastq.gz\n",
      "Approx 40% complete for trimmed-pair1.fastq.gz\n",
      "Approx 40% complete for trimmed-pair2.fastq.gz\n",
      "Approx 45% complete for trimmed-pair1.fastq.gz\n",
      "Approx 45% complete for trimmed-pair2.fastq.gz\n",
      "Approx 50% complete for trimmed-pair1.fastq.gz\n",
      "Approx 50% complete for trimmed-pair2.fastq.gz\n",
      "Approx 55% complete for trimmed-pair1.fastq.gz\n",
      "Approx 55% complete for trimmed-pair2.fastq.gz\n",
      "Approx 60% complete for trimmed-pair1.fastq.gz\n",
      "Approx 60% complete for trimmed-pair2.fastq.gz\n",
      "Approx 65% complete for trimmed-pair1.fastq.gz\n",
      "Approx 65% complete for trimmed-pair2.fastq.gz\n",
      "Approx 70% complete for trimmed-pair1.fastq.gz\n",
      "Approx 70% complete for trimmed-pair2.fastq.gz\n",
      "Approx 75% complete for trimmed-pair1.fastq.gz\n",
      "Approx 75% complete for trimmed-pair2.fastq.gz\n",
      "Approx 80% complete for trimmed-pair1.fastq.gz\n",
      "Approx 80% complete for trimmed-pair2.fastq.gz\n",
      "Approx 85% complete for trimmed-pair1.fastq.gz\n",
      "Approx 85% complete for trimmed-pair2.fastq.gz\n",
      "Approx 90% complete for trimmed-pair1.fastq.gz\n",
      "Approx 90% complete for trimmed-pair2.fastq.gz\n",
      "Approx 95% complete for trimmed-pair1.fastq.gz\n",
      "Approx 95% complete for trimmed-pair2.fastq.gz\n"
     ]
    },
    {
     "name": "stdout",
     "output_type": "stream",
     "text": [
      "Analysis complete for trimmed-pair1.fastq.gz\n",
      "Analysis complete for trimmed-pair2.fastq.gz\n",
      "Checking sequence bias ...\n",
      "`\u001b[4mmultiqc\u001b[24m \u001b[4m--outdir\u001b[24m \u001b[4m/home/jovyan/Kate.jl/output/2012_cat/check_trim\u001b[24m \u001b[4m/home/jovyan/Kate.jl/output/2012_cat/check_trim\u001b[24m`\n"
     ]
    },
    {
     "name": "stderr",
     "output_type": "stream",
     "text": [
      "\n",
      "  /// MultiQC 🔍 | v1.11\n",
      "\n",
      "|           multiqc | Search path : /home/jovyan/Kate.jl/output/2012_cat/check_trim\n"
     ]
    },
    {
     "name": "stdout",
     "output_type": "stream",
     "text": [
      "|         searching | ━━━━━━━━━━━━━━━━━━━━━━━━━━━━━━━━━━━━━━━━ 100% 4/4  "
     ]
    },
    {
     "name": "stderr",
     "output_type": "stream",
     "text": [
      "|            fastqc | Found 2 reports\n",
      "|           multiqc | Compressing plot data\n",
      "|           multiqc | Report      : ../output/2012_cat/check_trim/multiqc_report.html\n",
      "|           multiqc | Data        : ../output/2012_cat/check_trim/multiqc_data\n",
      "|           multiqc | MultiQC complete\n"
     ]
    },
    {
     "name": "stdout",
     "output_type": "stream",
     "text": [
      "Done at 2021-08-22T04:13:25.266 in 5 hours, 11 minutes, 31 seconds, 580 milliseconds.\n",
      "\n",
      "(2021-08-22T04:13:25.296) Aligning sequence ...\n",
      "pipeline(pipeline(pipeline(pipeline(`\u001b[4mminimap2\u001b[24m \u001b[4m-x\u001b[24m \u001b[4msr\u001b[24m \u001b[4m-t\u001b[24m \u001b[4m10\u001b[24m \u001b[4m-K\u001b[24m \u001b[4m2G\u001b[24m \u001b[4m-R\u001b[24m \u001b[4m'@RG\\tID:Germ\\tSM:Germ'\u001b[24m \u001b[4m-a\u001b[24m \u001b[4m/home/jovyan/Kate.jl/input/human_reference_genome/GCA_000001405.15_GRCh38_no_alt_analysis_set.fna.gz.mmi\u001b[24m \u001b[4m/home/jovyan/Kate.jl/output/2012_cat/trim//trimmed-pair1.fastq.gz\u001b[24m \u001b[4m/home/jovyan/Kate.jl/output/2012_cat/trim//trimmed-pair2.fastq.gz\u001b[24m`, stdout=`\u001b[4msamtools\u001b[24m \u001b[4msort\u001b[24m \u001b[4m--threads\u001b[24m \u001b[4m10\u001b[24m \u001b[4m-n\u001b[24m`), stdout=`\u001b[4msamtools\u001b[24m \u001b[4mfixmate\u001b[24m \u001b[4m--threads\u001b[24m \u001b[4m10\u001b[24m \u001b[4m-m\u001b[24m \u001b[4m-\u001b[24m \u001b[4m-\u001b[24m`), stdout=`\u001b[4msamtools\u001b[24m \u001b[4msort\u001b[24m \u001b[4m--threads\u001b[24m \u001b[4m10\u001b[24m`), stdout>Base.FileRedirect(\"/home/jovyan/Kate.jl/output/2012_cat/align/germ.bam.tmp\", false))\n"
     ]
    },
    {
     "name": "stderr",
     "output_type": "stream",
     "text": [
      "[WARNING]\u001b[1;31m Indexing parameters (-k, -w or -H) overridden by parameters used in the prebuilt index.\u001b[0m\n",
      "[M::main::40.460*0.36] loaded/built the index for 195 target sequence(s)\n",
      "[M::mm_mapopt_update::40.461*0.36] mid_occ = 1000\n",
      "[M::mm_idx_stat] kmer size: 15; skip: 10; is_hpc: 0; #seq: 195\n",
      "[M::mm_idx_stat::41.611*0.38] distinct minimizers: 100167746 (38.80% are singletons); average occurrences: 5.519; average spacing: 5.607; total length: 3099922541\n",
      "[M::worker_pipeline::691.829*7.91] mapped 13342492 sequences\n",
      "[M::worker_pipeline::1255.790*8.80] mapped 13343072 sequences\n",
      "[M::worker_pipeline::1618.730*9.14] mapped 13343198 sequences\n",
      "[M::worker_pipeline::2190.917*9.31] mapped 13343646 sequences\n",
      "[M::worker_pipeline::2704.420*9.41] mapped 13343584 sequences\n",
      "[M::worker_pipeline::3136.025*9.54] mapped 13343816 sequences\n",
      "[M::worker_pipeline::3907.628*9.58] mapped 13343758 sequences\n",
      "[M::worker_pipeline::4491.535*9.57] mapped 13343620 sequences\n",
      "[M::worker_pipeline::4896.307*9.64] mapped 13343254 sequences\n",
      "[M::worker_pipeline::5639.378*9.64] mapped 13343586 sequences\n",
      "[M::worker_pipeline::6194.623*9.63] mapped 13343828 sequences\n",
      "[M::worker_pipeline::6639.687*9.68] mapped 13344052 sequences\n",
      "[M::worker_pipeline::7296.491*9.68] mapped 13344098 sequences\n",
      "[M::worker_pipeline::7815.137*9.66] mapped 13344294 sequences\n",
      "[M::worker_pipeline::8198.610*9.69] mapped 13344276 sequences\n",
      "[M::worker_pipeline::8902.062*9.68] mapped 13344376 sequences\n",
      "[M::worker_pipeline::9411.023*9.67] mapped 13344658 sequences\n",
      "[M::worker_pipeline::9766.393*9.69] mapped 13344234 sequences\n",
      "[M::worker_pipeline::10423.158*9.69] mapped 13344586 sequences\n",
      "[M::worker_pipeline::10940.284*9.67] mapped 13344462 sequences\n",
      "[M::worker_pipeline::11313.880*9.70] mapped 13344536 sequences\n",
      "[M::worker_pipeline::12061.946*9.70] mapped 13344710 sequences\n",
      "[M::worker_pipeline::12531.656*9.69] mapped 13345066 sequences\n",
      "[M::worker_pipeline::12886.698*9.71] mapped 13345448 sequences\n",
      "[M::worker_pipeline::13592.106*9.70] mapped 13345518 sequences\n",
      "[M::worker_pipeline::14078.994*9.70] mapped 13344746 sequences\n",
      "[M::worker_pipeline::14445.083*9.71] mapped 13344020 sequences\n",
      "[M::worker_pipeline::15163.363*9.71] mapped 13344452 sequences\n",
      "[M::worker_pipeline::15481.485*9.72] mapped 13344758 sequences\n",
      "[M::worker_pipeline::16125.459*9.73] mapped 13344646 sequences\n",
      "[M::worker_pipeline::16643.158*9.72] mapped 13344952 sequences\n",
      "[M::worker_pipeline::17019.679*9.73] mapped 13345268 sequences\n",
      "[M::worker_pipeline::17674.054*9.73] mapped 13345584 sequences\n",
      "[M::worker_pipeline::18179.546*9.72] mapped 13344704 sequences\n",
      "[M::worker_pipeline::18545.710*9.74] mapped 13343752 sequences\n",
      "[M::worker_pipeline::19196.328*9.73] mapped 13344290 sequences\n",
      "[M::worker_pipeline::19705.254*9.73] mapped 13344470 sequences\n",
      "[M::worker_pipeline::20066.615*9.74] mapped 13344874 sequences\n",
      "[M::worker_pipeline::20704.726*9.73] mapped 13345192 sequences\n",
      "[M::worker_pipeline::21195.943*9.73] mapped 13345488 sequences\n",
      "[M::worker_pipeline::21567.427*9.74] mapped 13345514 sequences\n",
      "[M::worker_pipeline::22213.665*9.73] mapped 13345718 sequences\n",
      "[M::worker_pipeline::22691.667*9.73] mapped 13344654 sequences\n",
      "[M::worker_pipeline::23045.477*9.74] mapped 13343822 sequences\n",
      "[M::worker_pipeline::23730.055*9.73] mapped 13344266 sequences\n",
      "[M::worker_pipeline::24213.049*9.73] mapped 13344810 sequences\n",
      "[M::worker_pipeline::24543.441*9.74] mapped 13344602 sequences\n",
      "[M::worker_pipeline::25220.718*9.73] mapped 13344836 sequences\n",
      "[M::worker_pipeline::25645.473*9.73] mapped 13344966 sequences\n",
      "[M::worker_pipeline::26027.972*9.74] mapped 13345422 sequences\n",
      "[M::worker_pipeline::26723.623*9.73] mapped 13344854 sequences\n",
      "[M::worker_pipeline::27190.938*9.73] mapped 13343270 sequences\n",
      "[M::worker_pipeline::27544.509*9.73] mapped 13343718 sequences\n",
      "[M::worker_pipeline::28223.367*9.73] mapped 13344760 sequences\n",
      "[M::worker_pipeline::28702.495*9.73] mapped 13344628 sequences\n",
      "[M::worker_pipeline::29067.624*9.74] mapped 13344862 sequences\n",
      "[M::worker_pipeline::29750.192*9.73] mapped 13344576 sequences\n",
      "[M::worker_pipeline::30066.383*9.74] mapped 13344488 sequences\n",
      "[M::worker_pipeline::30705.597*9.74] mapped 13344084 sequences\n",
      "[M::worker_pipeline::31191.679*9.73] mapped 13343156 sequences\n",
      "[M::worker_pipeline::31538.724*9.74] mapped 13343308 sequences\n",
      "[M::worker_pipeline::32140.621*9.74] mapped 13343944 sequences\n",
      "[M::worker_pipeline::32633.316*9.74] mapped 13344536 sequences\n",
      "[M::worker_pipeline::32990.610*9.74] mapped 13344662 sequences\n",
      "[M::worker_pipeline::33618.242*9.74] mapped 13344512 sequences\n",
      "[M::worker_pipeline::34105.893*9.74] mapped 13344740 sequences\n",
      "[M::worker_pipeline::34470.470*9.74] mapped 13344770 sequences\n",
      "[M::worker_pipeline::35090.372*9.74] mapped 13344818 sequences\n",
      "[M::worker_pipeline::35557.489*9.74] mapped 13343864 sequences\n",
      "[M::worker_pipeline::35941.190*9.75] mapped 13344008 sequences\n",
      "[M::worker_pipeline::36542.485*9.74] mapped 13344448 sequences\n",
      "[M::worker_pipeline::37048.179*9.74] mapped 13344612 sequences\n",
      "[M::worker_pipeline::37395.101*9.75] mapped 13345024 sequences\n",
      "[M::worker_pipeline::38017.514*9.74] mapped 13345236 sequences\n",
      "[M::worker_pipeline::38541.038*9.74] mapped 13345734 sequences\n",
      "[M::worker_pipeline::38883.717*9.74] mapped 13345710 sequences\n",
      "[M::worker_pipeline::39511.423*9.74] mapped 13345518 sequences\n",
      "[M::worker_pipeline::40004.188*9.74] mapped 13344190 sequences\n",
      "[M::worker_pipeline::40361.148*9.74] mapped 13344334 sequences\n",
      "[M::worker_pipeline::40992.161*9.74] mapped 13344636 sequences\n",
      "[M::worker_pipeline::41466.773*9.74] mapped 13344870 sequences\n",
      "[M::worker_pipeline::41849.415*9.75] mapped 13345060 sequences\n",
      "[M::worker_pipeline::42953.657*9.76] mapped 13344966 sequences\n",
      "[M::worker_pipeline::43220.320*9.75] mapped 13345464 sequences\n",
      "[M::worker_pipeline::43497.507*9.76] mapped 13345174 sequences\n",
      "[M::worker_pipeline::43951.514*9.76] mapped 13343922 sequences\n",
      "[M::worker_pipeline::44293.127*9.76] mapped 13344220 sequences\n",
      "[M::worker_pipeline::44806.782*9.76] mapped 13344774 sequences\n",
      "[M::worker_pipeline::45298.343*9.77] mapped 13345256 sequences\n",
      "[M::worker_pipeline::45818.076*9.77] mapped 13345776 sequences\n",
      "[M::worker_pipeline::46319.233*9.77] mapped 13345728 sequences\n",
      "[M::worker_pipeline::46793.706*9.77] mapped 13345884 sequences\n",
      "[M::worker_pipeline::47135.749*9.77] mapped 13346196 sequences\n",
      "[M::worker_pipeline::47833.435*9.77] mapped 13345646 sequences\n",
      "[M::worker_pipeline::48294.258*9.77] mapped 13344626 sequences\n",
      "[M::worker_pipeline::48668.999*9.78] mapped 13344438 sequences\n",
      "[M::worker_pipeline::49286.664*9.78] mapped 13344902 sequences\n",
      "[M::worker_pipeline::49724.149*9.77] mapped 13345406 sequences\n",
      "[M::worker_pipeline::50078.394*9.78] mapped 13345044 sequences\n",
      "[M::worker_pipeline::50783.026*9.78] mapped 13345130 sequences\n",
      "[M::worker_pipeline::51189.436*9.77] mapped 13345376 sequences\n",
      "[M::worker_pipeline::51540.074*9.78] mapped 13344998 sequences\n",
      "[M::worker_pipeline::52214.800*9.78] mapped 13344432 sequences\n",
      "[M::worker_pipeline::52612.575*9.78] mapped 13346454 sequences\n",
      "[M::worker_pipeline::52939.054*9.78] mapped 13347252 sequences\n",
      "[M::worker_pipeline::53554.341*9.78] mapped 13347322 sequences\n",
      "[M::worker_pipeline::53949.264*9.78] mapped 13346590 sequences\n",
      "[M::worker_pipeline::54287.071*9.78] mapped 13346470 sequences\n",
      "[M::worker_pipeline::54919.496*9.78] mapped 13347326 sequences\n",
      "[M::worker_pipeline::55352.859*9.78] mapped 13348078 sequences\n",
      "[M::worker_pipeline::55720.169*9.78] mapped 13346494 sequences\n",
      "[M::worker_pipeline::56324.377*9.78] mapped 13346490 sequences\n",
      "[M::worker_pipeline::56762.369*9.78] mapped 13347476 sequences\n",
      "[M::worker_pipeline::57084.030*9.78] mapped 13348168 sequences\n",
      "[M::worker_pipeline::57693.027*9.78] mapped 13345612 sequences\n",
      "[M::worker_pipeline::58003.642*9.78] mapped 13346166 sequences\n",
      "[M::worker_pipeline::58616.403*9.78] mapped 13346806 sequences\n",
      "[M::worker_pipeline::59044.578*9.78] mapped 13347790 sequences\n",
      "[M::worker_pipeline::59383.566*9.78] mapped 13345170 sequences\n",
      "[M::worker_pipeline::60019.616*9.78] mapped 13346034 sequences\n",
      "[M::worker_pipeline::60453.547*9.78] mapped 13347174 sequences\n",
      "[M::worker_pipeline::60798.156*9.78] mapped 13346914 sequences\n",
      "[M::worker_pipeline::61424.110*9.78] mapped 13345094 sequences\n",
      "[M::worker_pipeline::61852.116*9.78] mapped 13345932 sequences\n",
      "[M::worker_pipeline::62190.902*9.79] mapped 13346784 sequences\n",
      "[M::worker_pipeline::62812.905*9.78] mapped 13346550 sequences\n",
      "[M::worker_pipeline::63295.179*9.78] mapped 13351338 sequences\n",
      "[M::worker_pipeline::63638.285*9.78] mapped 13347138 sequences\n",
      "[M::worker_pipeline::64260.202*9.78] mapped 13346600 sequences\n",
      "[M::worker_pipeline::64742.358*9.78] mapped 13346288 sequences\n",
      "[M::worker_pipeline::65069.929*9.78] mapped 13345076 sequences\n",
      "[M::worker_pipeline::65703.374*9.78] mapped 13345746 sequences\n",
      "[M::worker_pipeline::66122.696*9.78] mapped 13346020 sequences\n",
      "[M::worker_pipeline::66466.900*9.78] mapped 13345540 sequences\n",
      "[M::worker_pipeline::67100.880*9.78] mapped 13345146 sequences\n",
      "[M::worker_pipeline::67547.843*9.78] mapped 13345404 sequences\n",
      "[M::worker_pipeline::67913.468*9.78] mapped 13345798 sequences\n",
      "[M::worker_pipeline::68513.443*9.78] mapped 13345026 sequences\n",
      "[M::worker_pipeline::68995.927*9.78] mapped 13345380 sequences\n",
      "[M::worker_pipeline::69333.202*9.78] mapped 13345646 sequences\n",
      "[M::worker_pipeline::69959.333*9.78] mapped 13345092 sequences\n",
      "[M::worker_pipeline::70267.480*9.78] mapped 13345242 sequences\n",
      "[M::worker_pipeline::70946.399*9.78] mapped 13347140 sequences\n",
      "[M::worker_pipeline::71361.535*9.78] mapped 13346586 sequences\n",
      "[M::worker_pipeline::71715.731*9.78] mapped 13344816 sequences\n",
      "[M::worker_pipeline::72403.499*9.78] mapped 13348664 sequences\n",
      "[M::worker_pipeline::72861.777*9.78] mapped 13369574 sequences\n",
      "[M::worker_pipeline::73207.248*9.79] mapped 13347022 sequences\n",
      "[M::worker_pipeline::73901.074*9.78] mapped 13344390 sequences\n",
      "[M::worker_pipeline::74422.006*9.78] mapped 13342522 sequences\n",
      "[M::worker_pipeline::74812.723*9.78] mapped 13343060 sequences\n",
      "[M::worker_pipeline::75532.643*9.78] mapped 13343216 sequences\n",
      "[M::worker_pipeline::76082.905*9.78] mapped 13343646 sequences\n",
      "[M::worker_pipeline::76438.289*9.78] mapped 13343580 sequences\n",
      "[M::worker_pipeline::77332.660*9.79] mapped 13343846 sequences\n",
      "[M::worker_pipeline::77852.349*9.79] mapped 13343748 sequences\n",
      "[M::worker_pipeline::78287.153*9.79] mapped 13343576 sequences\n",
      "[M::worker_pipeline::78788.616*9.80] mapped 13343282 sequences\n",
      "[M::worker_pipeline::79252.733*9.80] mapped 13343588 sequences\n",
      "[M::worker_pipeline::79644.990*9.80] mapped 13343832 sequences\n",
      "[M::worker_pipeline::80191.786*9.80] mapped 13344106 sequences\n",
      "[M::worker_pipeline::80730.888*9.80] mapped 13344110 sequences\n",
      "[M::worker_pipeline::81171.652*9.81] mapped 13344246 sequences\n",
      "[M::worker_pipeline::82009.104*9.81] mapped 13344280 sequences\n",
      "[M::worker_pipeline::82287.621*9.81] mapped 13344360 sequences\n",
      "[M::worker_pipeline::82624.363*9.81] mapped 13344696 sequences\n",
      "[M::worker_pipeline::83212.911*9.81] mapped 13344242 sequences\n",
      "[M::worker_pipeline::83647.794*9.81] mapped 13344634 sequences\n",
      "[M::worker_pipeline::83985.350*9.81] mapped 13344396 sequences\n",
      "[M::worker_pipeline::84570.032*9.81] mapped 13344564 sequences\n",
      "[M::worker_pipeline::84868.755*9.81] mapped 13344712 sequences\n",
      "[M::worker_pipeline::85482.570*9.81] mapped 13345102 sequences\n",
      "[M::worker_pipeline::85876.819*9.81] mapped 13345442 sequences\n",
      "[M::worker_pipeline::86200.003*9.81] mapped 13345508 sequences\n",
      "[M::worker_pipeline::86843.812*9.81] mapped 13344688 sequences\n",
      "[M::worker_pipeline::87254.555*9.81] mapped 13344034 sequences\n",
      "[M::worker_pipeline::87577.635*9.81] mapped 13344468 sequences\n",
      "[M::worker_pipeline::88257.382*9.81] mapped 13344800 sequences\n",
      "[M::worker_pipeline::88759.986*9.80] mapped 13344614 sequences\n",
      "[M::worker_pipeline::89150.625*9.81] mapped 13344972 sequences\n",
      "[M::worker_pipeline::89881.823*9.81] mapped 13345260 sequences\n"
     ]
    }
   ],
   "source": [
    "Kate.process_dna(\n",
    "    mo,\n",
    "    fq1,\n",
    "    fq2,\n",
    "    ad,\n",
    "    ta,\n",
    "    joinpath(pao, string(sa)),\n",
    "    joinpath(par, \"GCA_000001405.15_GRCh38_no_alt_analysis_set.fna.gz\"),\n",
    "    joinpath(par, \"chromosome.bed.gz\"),\n",
    "    joinpath(par, \"chrn_n.tsv\"),\n",
    "    \"/opt/snpeff/snpEff/snpEff.jar\",\n",
    "    n_jo,\n",
    "    met,\n",
    "    mej,\n",
    ")"
   ]
  },
  {
   "cell_type": "markdown",
   "metadata": {},
   "source": [
    "## Benchmark\n",
    "\n",
    "TODO: Refactor"
   ]
  },
  {
   "cell_type": "code",
   "execution_count": null,
   "metadata": {},
   "outputs": [],
   "source": [
    "# baseline vcf\n",
    "vb = joinpath(pai, \"high_confidence_HG002_4.1_GRCh38/HG002_GRCh38_1_22_v4.1_draft_benchmark.vcf.gz\")\n",
    "\n",
    "# calls vcf\n",
    "vc = joinpath(pao, \"HG002_cat/find_variant/strelka/results/variants/variants.vcf.gz\")\n",
    "\n",
    "sdf = joinpath(pai, \"GRCh38.sdf\")\n",
    "\n",
    "pab = joinpath(pao, \"HG002_cat/benchmark\")\n",
    "\n",
    "rtg = \"/opt/rtg/rtg-tools-3.11/rtg\""
   ]
  },
  {
   "cell_type": "markdown",
   "metadata": {},
   "source": [
    "### Configure vcfeval"
   ]
  },
  {
   "cell_type": "code",
   "execution_count": null,
   "metadata": {},
   "outputs": [],
   "source": [
    "run(`$rtg`)"
   ]
  },
  {
   "cell_type": "markdown",
   "metadata": {},
   "source": [
    "### Download Real Time Genomics prepard GRCH38 files\n",
    "vcfeval requires reference files in RTG formats. RTG makes versions of these files for the popular reference genomes such as GRCh38, which will be downloaded below."
   ]
  },
  {
   "cell_type": "code",
   "execution_count": null,
   "metadata": {},
   "outputs": [],
   "source": [
    "if ispath(sdf)\n",
    "    \n",
    "    println(\"Skipping download because RTG GRCh38 data directory already exists:\\n $sdf\")\n",
    "\n",
    "else\n",
    "\n",
    "    run(pipeline(\n",
    "            `wget -q -P ../input/ https://s3.amazonaws.com/rtg-datasets/references/GRCh38.sdf.zip`,\n",
    "            `unzip -d ../input/ ../input/GRCh38.sdf.zip`,\n",
    "            `rm ../input/GRCh38.sdf.zip`,\n",
    "            ))\n",
    "end"
   ]
  },
  {
   "cell_type": "markdown",
   "metadata": {},
   "source": [
    "### Run vcfeval\n",
    "This command compares the VCF you generated (calls) to the highly confident VCF generated by Genome in a Bottle (baseline)."
   ]
  },
  {
   "cell_type": "code",
   "execution_count": null,
   "metadata": {},
   "outputs": [],
   "source": [
    "run(`$rtg vcfeval\n",
    "    --baseline=$vb\n",
    "    --calls=$vc\n",
    "    --template=$sdf\n",
    "    --output=$pab\n",
    "    --threads=1\n",
    "    `)"
   ]
  },
  {
   "cell_type": "markdown",
   "metadata": {},
   "source": [
    "### See results\n",
    "Read more about how to interpret vcfeval results [here](https://cdn.rawgit.com/RealTimeGenomics/rtg-tools/master/installer/resources/tools/RTGOperationsManual/rtg_command_reference.html#vcfeval)."
   ]
  },
  {
   "cell_type": "code",
   "execution_count": null,
   "metadata": {},
   "outputs": [],
   "source": [
    "# vcfeval summary file\n",
    "pasu = open(joinpath(pab, \"summary.txt\"))\n",
    "\n",
    "su = read(pasu)\n",
    "\n",
    "su"
   ]
  }
 ],
 "metadata": {
  "@webio": {
   "lastCommId": null,
   "lastKernelId": null
  },
  "kernelspec": {
   "display_name": "Julia 1.5.2",
   "language": "julia",
   "name": "julia-1.5"
  },
  "language_info": {
   "file_extension": ".jl",
   "mimetype": "application/julia",
   "name": "julia",
   "version": "1.5.2"
  }
 },
 "nbformat": 4,
 "nbformat_minor": 4
}
