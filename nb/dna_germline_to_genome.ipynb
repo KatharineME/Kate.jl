{
 "cells": [
  {
   "cell_type": "code",
   "execution_count": 1,
   "metadata": {},
   "outputs": [],
   "source": [
    "using Revise\n",
    "\n",
    "using Kate"
   ]
  },
  {
   "cell_type": "markdown",
   "metadata": {},
   "source": [
    "### Check Environment"
   ]
  },
  {
   "cell_type": "code",
   "execution_count": 2,
   "metadata": {},
   "outputs": [
    {
     "name": "stdout",
     "output_type": "stream",
     "text": [
      "Testing environment...\n",
      "`\u001b[4mwhich\u001b[24m \u001b[4mskewer\u001b[24m`\n",
      "/opt/conda/bin/skewer\n",
      "`\u001b[4mwhich\u001b[24m \u001b[4mfastqc\u001b[24m`\n",
      "/opt/conda/bin/fastqc\n",
      "`\u001b[4mwhich\u001b[24m \u001b[4mbgzip\u001b[24m`\n",
      "/opt/conda/bin/bgzip\n",
      "`\u001b[4mwhich\u001b[24m \u001b[4mtabix\u001b[24m`\n",
      "/opt/conda/bin/tabix\n",
      "`\u001b[4mwhich\u001b[24m \u001b[4mminimap2\u001b[24m`\n",
      "/opt/conda/bin/minimap2\n",
      "`\u001b[4mwhich\u001b[24m \u001b[4msamtools\u001b[24m`\n",
      "/opt/conda/bin/samtools\n",
      "`\u001b[4mwhich\u001b[24m \u001b[4mbcftools\u001b[24m`\n",
      "/opt/conda/bin/bcftools\n",
      "`\u001b[4mwhich\u001b[24m \u001b[4mkallisto\u001b[24m`\n",
      "/opt/conda/bin/kallisto\n",
      "`\u001b[4mbash\u001b[24m \u001b[4m-c\u001b[24m \u001b[4m'source activate py2 && which configManta.py'\u001b[24m`\n",
      "/opt/conda/envs/py2/bin/configManta.py\n",
      "`\u001b[4mbash\u001b[24m \u001b[4m-c\u001b[24m \u001b[4m'source activate py2 && which configureStrelkaGermlineWorkflow.py'\u001b[24m`\n",
      "/opt/conda/envs/py2/bin/configureStrelkaGermlineWorkflow.py\n",
      "`\u001b[4mbash\u001b[24m \u001b[4m-c\u001b[24m \u001b[4m'source activate py2 && which configureStrelkaSomaticWorkflow.py'\u001b[24m`\n",
      "/opt/conda/envs/py2/bin/configureStrelkaSomaticWorkflow.py\n"
     ]
    }
   ],
   "source": [
    "Kate.test()"
   ]
  },
  {
   "cell_type": "markdown",
   "metadata": {},
   "source": [
    "### Set Parameters"
   ]
  },
  {
   "cell_type": "code",
   "execution_count": 5,
   "metadata": {},
   "outputs": [],
   "source": [
    "# Sample name\n",
    "sa = \"human_dna_low_quality\"\n",
    "\n",
    "# Molecule: cdna or dna\n",
    "mo = \"dna\"\n",
    "\n",
    "# Adapter sequence to trim\n",
    "ad = \"AGATCGGAAGAGC\"\n",
    "\n",
    "# Forward read file\n",
    "fq1 = \"../input/human_dna_low_quality/SRR957824_500K_R1.fastq.gz\"\n",
    "\n",
    "# Reverse read file\n",
    "fq2 = \"../input/human_dna_low_quality/SRR957824_500K_R2.fastq.gz\"\n",
    "\n",
    "# is dna targeted\n",
    "ta = false\n",
    "\n",
    "# Number of jobs\n",
    "n_jo = 6\n",
    "\n",
    "# G of memory\n",
    "met = 40\n",
    "\n",
    "# G of memory per job\n",
    "mej = 2;"
   ]
  },
  {
   "cell_type": "code",
   "execution_count": 6,
   "metadata": {},
   "outputs": [
    {
     "data": {
      "text/plain": [
       "\"/home/jovyan/Kate.jl/input/human_reference_genome\""
      ]
     },
     "execution_count": 6,
     "metadata": {},
     "output_type": "execute_result"
    }
   ],
   "source": [
    "pap = dirname(@__DIR__)\n",
    "\n",
    "pao = joinpath(pap, \"output\")\n",
    "\n",
    "pai = joinpath(pap, \"input\")\n",
    "\n",
    "par = joinpath(pai, \"human_reference_genome\")"
   ]
  },
  {
   "cell_type": "markdown",
   "metadata": {},
   "source": [
    "### Process DNA"
   ]
  },
  {
   "cell_type": "code",
   "execution_count": 7,
   "metadata": {
    "tags": []
   },
   "outputs": [
    {
     "name": "stdout",
     "output_type": "stream",
     "text": [
      "Skipping trimming because trimmed files already exist:\n",
      " /home/jovyan/Kate.jl/output/human_dna_low_quality/trim/trimmed-pair1.fastq.gz\n",
      " /home/jovyan/Kate.jl/output/human_dna_low_quality/trim/trimmed-pair2.fastq.gz\n",
      "\n",
      "Skipping check sequence because directory already exists:\n",
      " /home/jovyan/Kate.jl/output/human_dna_low_quality/check_trim\n",
      "\n",
      "Done at 2021-08-20T20:34:41.431 in empty period.\n",
      "\n",
      "Skipping alignment because directory already exists: \n",
      "/home/jovyan/Kate.jl/output/human_dna_low_quality/align\n",
      "Done at 2021-08-20T20:34:41.451 in empty period.\n",
      "\n",
      "`\u001b[4mbash\u001b[24m \u001b[4m-c\u001b[24m \u001b[4m'source activate py2 && configManta.py --referenceFasta /home/jovyan/Kate.jl/input/human_reference_genome/GCA_000001405.15_GRCh38_no_alt_analysis_set.fna.bgz --callRegions /home/jovyan/Kate.jl/input/human_reference_genome/chromosome.bed.gz --bam /home/jovyan/Kate.jl/output/human_dna_low_quality/align/germ.bam --outputContig --runDir /home/jovyan/Kate.jl/output/human_dna_low_quality/call_variant/manta && /home/jovyan/Kate.jl/output/human_dna_low_quality/call_variant/manta/runWorkflow.py --mode local --jobs 6 --memGb 40 --quiet'\u001b[24m`\n",
      "\n",
      "Successfully created workflow run script.\n",
      "To execute the workflow, run the following script and set appropriate options:\n",
      "\n",
      "/home/jovyan/Kate.jl/output/human_dna_low_quality/call_variant/manta/runWorkflow.py\n"
     ]
    },
    {
     "ename": "LoadError",
     "evalue": "\u001b[91mfailed process: Process(`\u001b[4mbash\u001b[24m \u001b[4m-c\u001b[24m \u001b[4m'source activate py2 && configManta.py --referenceFasta /home/jovyan/Kate.jl/input/human_reference_genome/GCA_000001405.15_GRCh38_no_alt_analysis_set.fna.bgz --callRegions /home/jovyan/Kate.jl/input/human_reference_genome/chromosome.bed.gz --bam /home/jovyan/Kate.jl/output/human_dna_low_quality/align/germ.bam --outputContig --runDir /home/jovyan/Kate.jl/output/human_dna_low_quality/call_variant/manta && /home/jovyan/Kate.jl/output/human_dna_low_quality/call_variant/manta/runWorkflow.py --mode local --jobs 6 --memGb 40 --quiet'\u001b[24m`, ProcessExited(1)) [1]\u001b[39m\n",
     "output_type": "error",
     "traceback": [
      "\u001b[91mfailed process: Process(`\u001b[4mbash\u001b[24m \u001b[4m-c\u001b[24m \u001b[4m'source activate py2 && configManta.py --referenceFasta /home/jovyan/Kate.jl/input/human_reference_genome/GCA_000001405.15_GRCh38_no_alt_analysis_set.fna.bgz --callRegions /home/jovyan/Kate.jl/input/human_reference_genome/chromosome.bed.gz --bam /home/jovyan/Kate.jl/output/human_dna_low_quality/align/germ.bam --outputContig --runDir /home/jovyan/Kate.jl/output/human_dna_low_quality/call_variant/manta && /home/jovyan/Kate.jl/output/human_dna_low_quality/call_variant/manta/runWorkflow.py --mode local --jobs 6 --memGb 40 --quiet'\u001b[24m`, ProcessExited(1)) [1]\u001b[39m\n",
      "",
      "Stacktrace:",
      " [1] pipeline_error at ./process.jl:525 [inlined]",
      " [2] run(::Cmd; wait::Bool) at ./process.jl:440",
      " [3] run at ./process.jl:438 [inlined]",
      " [4] run_command at /home/jovyan/Kate.jl/src/run_command.jl:5 [inlined]",
      " [5] call_variant(::String, ::String, ::Nothing, ::Bool, ::String, ::String, ::String, ::String, ::Int64, ::Int64, ::String) at /home/jovyan/Kate.jl/src/call_variant.jl:69",
      " [6] process_dna(::String, ::String, ::String, ::String, ::Bool, ::String, ::String, ::String, ::String, ::String, ::Int64, ::Int64, ::Int64) at /home/jovyan/Kate.jl/src/process_dna.jl:56",
      " [7] top-level scope at In[7]:1",
      " [8] include_string(::Function, ::Module, ::String, ::String) at ./loading.jl:1091"
     ]
    }
   ],
   "source": [
    "Kate.process_dna(\n",
    "    mo,\n",
    "    fq1,\n",
    "    fq2,\n",
    "    ad,\n",
    "    ta,\n",
    "    joinpath(pao, string(sa)),\n",
    "    joinpath(par, \"GCA_000001405.15_GRCh38_no_alt_analysis_set.fna.gz\"),\n",
    "    joinpath(par, \"chromosome.bed.gz\"),\n",
    "    joinpath(par, \"chrn_n.tsv\"),\n",
    "    \"/opt/snpeff/snpEff/snpEff.jar\",\n",
    "    n_jo,\n",
    "    met,\n",
    "    mej,\n",
    ")"
   ]
  },
  {
   "cell_type": "markdown",
   "metadata": {},
   "source": [
    "## Benchmark\n",
    "\n",
    "TODO: Refactor"
   ]
  },
  {
   "cell_type": "code",
   "execution_count": null,
   "metadata": {},
   "outputs": [],
   "source": [
    "# baseline vcf\n",
    "vb = joinpath(pai, \"high_confidence_HG002_4.1_GRCh38/HG002_GRCh38_1_22_v4.1_draft_benchmark.vcf.gz\")\n",
    "\n",
    "# calls vcf\n",
    "vc = joinpath(pao, \"HG002_cat/find_variant/strelka/results/variants/variants.vcf.gz\")\n",
    "\n",
    "sdf = joinpath(pai, \"GRCh38.sdf\")\n",
    "\n",
    "pab = joinpath(pao, \"HG002_cat/benchmark\")\n",
    "\n",
    "rtg = \"/opt/rtg/rtg-tools-3.11/rtg\""
   ]
  },
  {
   "cell_type": "markdown",
   "metadata": {},
   "source": [
    "### Configure vcfeval"
   ]
  },
  {
   "cell_type": "code",
   "execution_count": null,
   "metadata": {},
   "outputs": [],
   "source": [
    "run(`$rtg`)"
   ]
  },
  {
   "cell_type": "markdown",
   "metadata": {},
   "source": [
    "### Download Real Time Genomics prepard GRCH38 files\n",
    "vcfeval requires reference files in RTG formats. RTG makes versions of these files for the popular reference genomes such as GRCh38, which will be downloaded below."
   ]
  },
  {
   "cell_type": "code",
   "execution_count": null,
   "metadata": {},
   "outputs": [],
   "source": [
    "if ispath(sdf)\n",
    "    \n",
    "    println(\"Skipping download because RTG GRCh38 data directory already exists:\\n $sdf\")\n",
    "\n",
    "else\n",
    "\n",
    "    run(pipeline(\n",
    "            `wget -q -P ../input/ https://s3.amazonaws.com/rtg-datasets/references/GRCh38.sdf.zip`,\n",
    "            `unzip -d ../input/ ../input/GRCh38.sdf.zip`,\n",
    "            `rm ../input/GRCh38.sdf.zip`,\n",
    "            ))\n",
    "end"
   ]
  },
  {
   "cell_type": "markdown",
   "metadata": {},
   "source": [
    "### Run vcfeval\n",
    "This command compares the VCF you generated (calls) to the highly confident VCF generated by Genome in a Bottle (baseline)."
   ]
  },
  {
   "cell_type": "code",
   "execution_count": null,
   "metadata": {},
   "outputs": [],
   "source": [
    "run(`$rtg vcfeval\n",
    "    --baseline=$vb\n",
    "    --calls=$vc\n",
    "    --template=$sdf\n",
    "    --output=$pab\n",
    "    --threads=1\n",
    "    `)"
   ]
  },
  {
   "cell_type": "markdown",
   "metadata": {},
   "source": [
    "### See results\n",
    "Read more about how to interpret vcfeval results [here](https://cdn.rawgit.com/RealTimeGenomics/rtg-tools/master/installer/resources/tools/RTGOperationsManual/rtg_command_reference.html#vcfeval)."
   ]
  },
  {
   "cell_type": "code",
   "execution_count": null,
   "metadata": {},
   "outputs": [],
   "source": [
    "# vcfeval summary file\n",
    "pasu = open(joinpath(pab, \"summary.txt\"))\n",
    "\n",
    "su = read(pasu)\n",
    "\n",
    "su"
   ]
  }
 ],
 "metadata": {
  "@webio": {
   "lastCommId": null,
   "lastKernelId": null
  },
  "kernelspec": {
   "display_name": "Julia 1.5.2",
   "language": "julia",
   "name": "julia-1.5"
  },
  "language_info": {
   "file_extension": ".jl",
   "mimetype": "application/julia",
   "name": "julia",
   "version": "1.5.2"
  }
 },
 "nbformat": 4,
 "nbformat_minor": 4
}
