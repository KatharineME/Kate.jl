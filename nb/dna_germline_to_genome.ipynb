{
 "cells": [
  {
   "cell_type": "code",
   "execution_count": null,
   "metadata": {},
   "outputs": [],
   "source": [
    "using Revise\n",
    "\n",
    "using Kate"
   ]
  },
  {
   "cell_type": "markdown",
   "metadata": {},
   "source": [
    "### Check Environment"
   ]
  },
  {
   "cell_type": "code",
   "execution_count": null,
   "metadata": {},
   "outputs": [],
   "source": [
    "Kate.check_environment()"
   ]
  },
  {
   "cell_type": "markdown",
   "metadata": {},
   "source": [
    "### Set Parameters"
   ]
  },
  {
   "cell_type": "code",
   "execution_count": null,
   "metadata": {},
   "outputs": [],
   "source": [
    "sa = \"test_high_quality\"\n",
    "\n",
    "# sa = \"S2012_cat\"\n",
    "\n",
    "# fq1 = \"../input/S2012_cat/S2012_R1.fastq.gz\"\n",
    "\n",
    "# fq2 = \"../input/S2012_cat/S2012_R2.fastq.gz\"\n",
    "\n",
    "# is dna targeted\n",
    "ta = false\n",
    "\n",
    "# Number of jobs\n",
    "n_jo = 8\n",
    "\n",
    "# G of memory\n",
    "meto = 40\n",
    "\n",
    "# G of memory per job\n",
    "mejo = 2;"
   ]
  },
  {
   "cell_type": "code",
   "execution_count": null,
   "metadata": {},
   "outputs": [],
   "source": [
    "papr = dirname(@__DIR__)\n",
    "\n",
    "paou = joinpath(papr, \"output\")\n",
    "\n",
    "paip = joinpath(papr, \"input\")\n",
    "\n",
    "pasa = joinpath(paip, sa)\n",
    "\n",
    "pare = joinpath(paip, \"reference\")\n",
    "\n",
    "pasn = \"/opt/snpeff/snpEff/snpEff.jar\";"
   ]
  },
  {
   "cell_type": "markdown",
   "metadata": {},
   "source": [
    "### Check reads"
   ]
  },
  {
   "cell_type": "code",
   "execution_count": null,
   "metadata": {},
   "outputs": [],
   "source": [
    "re_ = Kate.find_read(pasa)"
   ]
  },
  {
   "cell_type": "code",
   "execution_count": null,
   "metadata": {},
   "outputs": [],
   "source": [
    "Kate.check_sequence(\n",
    "    re_,\n",
    "    joinpath(paou, sa, string(\"check_sequence_raw\")),\n",
    "    n_jo,\n",
    ")"
   ]
  },
  {
   "cell_type": "markdown",
   "metadata": {},
   "source": [
    "### Concatenate reads by strand"
   ]
  },
  {
   "cell_type": "code",
   "execution_count": null,
   "metadata": {},
   "outputs": [],
   "source": [
    "Kate.concatenate_reads(re_, sa, paip)"
   ]
  },
  {
   "cell_type": "markdown",
   "metadata": {},
   "source": [
    "### Process reads"
   ]
  },
  {
   "cell_type": "code",
   "execution_count": null,
   "metadata": {},
   "outputs": [],
   "source": [
    "fq1 = \"../input/test_high_quality/germ.1k.R1.fastq.gz\"\n",
    "\n",
    "fq2 = \"../input/test_high_quality/germ.1k.R2.fastq.gz\""
   ]
  },
  {
   "cell_type": "code",
   "execution_count": null,
   "metadata": {},
   "outputs": [],
   "source": [
    "process_dna_arguments = (\n",
    "    joinpath(pare, \"GCA_000001405.15_GRCh38_no_alt_analysis_set.fna.gz\"),\n",
    "    joinpath(pare, \"chromosome.bed.gz\"),\n",
    "    joinpath(pare, \"chrn_n.tsv\"),\n",
    "    n_jo,\n",
    "    meto,\n",
    "    mejo,\n",
    "    pasn,\n",
    ")"
   ]
  },
  {
   "cell_type": "code",
   "execution_count": null,
   "metadata": {},
   "outputs": [],
   "source": [
    "Kate.process_germ_dna(\n",
    "    fq1,\n",
    "    fq2,\n",
    "    ta,\n",
    "    joinpath(paou, string(sa)),\n",
    "    process_dna_arguments...,\n",
    ")"
   ]
  },
  {
   "cell_type": "markdown",
   "metadata": {},
   "source": [
    "# Benchmark\n",
    "\n",
    "TODO: Refactor"
   ]
  },
  {
   "cell_type": "code",
   "execution_count": null,
   "metadata": {},
   "outputs": [],
   "source": [
    "papa = dirname(@__DIR__)\n",
    "\n",
    "using JSON: parse\n",
    "\n",
    "project_json = parse(read(joinpath(papa, \"project.json\"), String))\n",
    "\n",
    "paou = joinpath(papa, \"output\")\n",
    "\n",
    "paip = joinpath(papa, \"input\")\n",
    "\n",
    "reference_dir = joinpath(paip, \"reference\")\n",
    "\n",
    "baseline_vcf = joinpath(paip, \"high_confidence_HG002_4.1_GRCh38/HG002_GRCh38_1_22_v4.1_draft_benchmark.vcf.gz\")\n",
    "\n",
    "calls_vcf = joinpath(paou, \"process_germ_dna_HG002_cat/find_variant/strelka/results/variants/variants.vcf.gz\")\n",
    "\n",
    "rtg_sdf_reference_dir = joinpath(paip, \"GRCh38.sdf\")\n",
    "\n",
    "benchmark_paou = joinpath(paou, \"process_germ_dna_HG002_cat/benchmark\")\n",
    "\n",
    "rtg_executable = \"/opt/rtg/rtg-tools-3.11/rtg\""
   ]
  },
  {
   "cell_type": "markdown",
   "metadata": {},
   "source": [
    "### Configure vcfeval"
   ]
  },
  {
   "cell_type": "code",
   "execution_count": null,
   "metadata": {},
   "outputs": [],
   "source": [
    "run(`$rtg_executable`)"
   ]
  },
  {
   "cell_type": "markdown",
   "metadata": {},
   "source": [
    "### Download Real Time Genomics prepared GRCH38 files\n",
    "vcfeval requires reference files in RTG formats. RTG makes versions of these files for the popular reference genomes such as GRCh38, which will be downloaded below."
   ]
  },
  {
   "cell_type": "code",
   "execution_count": null,
   "metadata": {},
   "outputs": [],
   "source": [
    "if ispath(rtg_sdf_reference_dir)\n",
    "    \n",
    "    println(\"Skipping download because RTG GRCh38 data directory already exists:\\n $rtg_sdf_reference_dir\")\n",
    "\n",
    "else\n",
    "\n",
    "    run(pipeline(\n",
    "            `wget -q -P ../input/ https://s3.amazonaws.com/rtg-datasets/references/GRCh38.sdf.zip`,\n",
    "            `unzip -d ../input/ ../input/GRCh38.sdf.zip`,\n",
    "            `rm ../input/GRCh38.sdf.zip`,\n",
    "            ))\n",
    "end"
   ]
  },
  {
   "cell_type": "markdown",
   "metadata": {},
   "source": [
    "### Run vcfeval\n",
    "This command comapares the VCF you generated (calls) to the highly confident VCF generated by Genome in a Bottle (baseline)."
   ]
  },
  {
   "cell_type": "code",
   "execution_count": null,
   "metadata": {},
   "outputs": [],
   "source": [
    "run(`$rtg_executable vcfeval\n",
    "    --baseline=$baseline_vcf\n",
    "    --calls=$calls_vcf\n",
    "    --template=$rtg_sdf_reference_dir\n",
    "    --output=$benchmark_paou\n",
    "    --threads=1\n",
    "    `)"
   ]
  },
  {
   "cell_type": "markdown",
   "metadata": {},
   "source": [
    "### See results\n",
    "Read more about how to interpret vcfeval results [here](https://cdn.rawgit.com/RealTimeGenomics/rtg-tools/master/installer/resources/tools/RTGOperationsManual/rtg_command_reference.html#vcfeval)."
   ]
  },
  {
   "cell_type": "code",
   "execution_count": null,
   "metadata": {},
   "outputs": [],
   "source": [
    "vcfeval_summary_file = open(joinpath(benchmark_paouput_dir, \"summary.txt\"))\n",
    "\n",
    "vcfeval_summary = read(vcfeval_summary_file)\n",
    "\n",
    "vcfeval_summary"
   ]
  }
 ],
 "metadata": {
  "@webio": {
   "lastCommId": null,
   "lastKernelId": null
  },
  "kernelspec": {
   "display_name": "Julia 1.5.2",
   "language": "julia",
   "name": "julia-1.5"
  },
  "language_info": {
   "file_extension": ".jl",
   "mimetype": "application/julia",
   "name": "julia",
   "version": "1.5.2"
  }
 },
 "nbformat": 4,
 "nbformat_minor": 4
}
