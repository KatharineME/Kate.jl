{
 "cells": [
  {
   "cell_type": "code",
   "execution_count": 8,
   "metadata": {},
   "outputs": [],
   "source": [
    "using Revise\n",
    "\n",
    "using ProcessSequence"
   ]
  },
  {
   "cell_type": "markdown",
   "metadata": {},
   "source": [
    "## Set Parameters"
   ]
  },
  {
   "cell_type": "code",
   "execution_count": 9,
   "metadata": {},
   "outputs": [],
   "source": [
    "# name\n",
    "sa = \"test_high_quality\"\n",
    "\n",
    "# sa = \"S2012_cat\"\n",
    "\n",
    "# fq1 = \"../input/S2012_cat/S2012_R1.fastq.gz\"\n",
    "\n",
    "# fq2 = \"../input/S2012_cat/S2012_R2.fastq.gz\"\n",
    "\n",
    "# is dna targeted\n",
    "ta = false\n",
    "\n",
    "# Number of jobs\n",
    "n_jo = 8\n",
    "\n",
    "# G of memory\n",
    "meto = 40\n",
    "\n",
    "# G of memory per job\n",
    "mejo = 2;"
   ]
  },
  {
   "cell_type": "code",
   "execution_count": 11,
   "metadata": {},
   "outputs": [],
   "source": [
    "papr = dirname(@__DIR__)\n",
    "\n",
    "paou = joinpath(papr, \"output\")\n",
    "\n",
    "paip = joinpath(papr, \"input\")\n",
    "\n",
    "pasa = joinpath(paip, sa)\n",
    "\n",
    "pare = joinpath(paip, \"reference\")\n",
    "\n",
    "pasn = \"/opt/snpeff/snpEff/snpEff.jar\";"
   ]
  },
  {
   "cell_type": "markdown",
   "metadata": {},
   "source": [
    "## Check Environment"
   ]
  },
  {
   "cell_type": "code",
   "execution_count": 12,
   "metadata": {},
   "outputs": [
    {
     "name": "stdout",
     "output_type": "stream",
     "text": [
      "Checking environment...\n",
      "`\u001b[4mwhich\u001b[24m \u001b[4mskewer\u001b[24m`\n",
      "/opt/conda/bin/skewer\n",
      "`\u001b[4mwhich\u001b[24m \u001b[4mfastqc\u001b[24m`\n",
      "/opt/conda/bin/fastqc\n",
      "`\u001b[4mwhich\u001b[24m \u001b[4mbgzip\u001b[24m`\n",
      "/opt/conda/bin/bgzip\n",
      "`\u001b[4mwhich\u001b[24m \u001b[4mtabix\u001b[24m`\n",
      "/opt/conda/bin/tabix\n",
      "`\u001b[4mwhich\u001b[24m \u001b[4mminimap2\u001b[24m`\n",
      "/opt/conda/bin/minimap2\n",
      "`\u001b[4mwhich\u001b[24m \u001b[4msamtools\u001b[24m`\n",
      "/opt/conda/bin/samtools\n",
      "`\u001b[4mwhich\u001b[24m \u001b[4mbcftools\u001b[24m`\n",
      "/opt/conda/bin/bcftools\n",
      "`\u001b[4mwhich\u001b[24m \u001b[4mkallisto\u001b[24m`\n",
      "/opt/conda/bin/kallisto\n",
      "`\u001b[4mbash\u001b[24m \u001b[4m-c\u001b[24m \u001b[4m'source activate py2 && which configManta.py'\u001b[24m`\n",
      "/opt/conda/envs/py2/bin/configManta.py\n",
      "`\u001b[4mbash\u001b[24m \u001b[4m-c\u001b[24m \u001b[4m'source activate py2 && which configureStrelkaGermlineWorkflow.py'\u001b[24m`\n",
      "/opt/conda/envs/py2/bin/configureStrelkaGermlineWorkflow.py\n",
      "`\u001b[4mbash\u001b[24m \u001b[4m-c\u001b[24m \u001b[4m'source activate py2 && which configureStrelkaSomaticWorkflow.py'\u001b[24m`\n",
      "/opt/conda/envs/py2/bin/configureStrelkaSomaticWorkflow.py\n"
     ]
    }
   ],
   "source": [
    "ProcessSequence.check_environment()"
   ]
  },
  {
   "cell_type": "markdown",
   "metadata": {},
   "source": [
    "## Check reads"
   ]
  },
  {
   "cell_type": "code",
   "execution_count": 13,
   "metadata": {},
   "outputs": [
    {
     "name": "stdout",
     "output_type": "stream",
     "text": [
      "Walking sample directory...\n",
      "\n",
      "/home/jovyan/ProcessSequence.jl/input/test_high_quality\n",
      "\n",
      "\n",
      "Number of fastq files found in directories walked: 4\n",
      "\n",
      "Number of fastq.gz or fq.gz files found in directories walked: 4\n",
      "\n",
      "\n",
      "Done at: 2021-07-31T21:11:21.766\n",
      "\n",
      "Took 8 milliseconds.\n",
      "\n"
     ]
    },
    {
     "data": {
      "text/plain": [
       "4-element Array{Any,1}:\n",
       " \"/home/jovyan/ProcessSequence.jl/input/test_high_quality/germ.1k.R1.fastq.gz\"\n",
       " \"/home/jovyan/ProcessSequence.jl/input/test_high_quality/germ.1k.R2.fastq.gz\"\n",
       " \"/home/jovyan/ProcessSequence.jl/input/test_high_quality/germ_dna.R1.1m.fastq.gz\"\n",
       " \"/home/jovyan/ProcessSequence.jl/input/test_high_quality/germ_dna.R2.1m.fastq.gz\""
      ]
     },
     "execution_count": 13,
     "metadata": {},
     "output_type": "execute_result"
    }
   ],
   "source": [
    "re_ = ProcessSequence.find_read(pasa)"
   ]
  },
  {
   "cell_type": "code",
   "execution_count": 14,
   "metadata": {},
   "outputs": [
    {
     "name": "stdout",
     "output_type": "stream",
     "text": [
      "(2021-07-31T21:11:22.848) Checking sequence ...\n",
      "`\u001b[4mfastqc\u001b[24m \u001b[4m--threads\u001b[24m \u001b[4m4\u001b[24m \u001b[4m--outdir\u001b[24m \u001b[4m/home/jovyan/ProcessSequence.jl/output/test_high_quality/check_sequence_raw\u001b[24m \u001b[4m/home/jovyan/ProcessSequence.jl/input/test_high_quality/germ.1k.R1.fastq.gz\u001b[24m \u001b[4m/home/jovyan/ProcessSequence.jl/input/test_high_quality/germ.1k.R2.fastq.gz\u001b[24m \u001b[4m/home/jovyan/ProcessSequence.jl/input/test_high_quality/germ_dna.R1.1m.fastq.gz\u001b[24m \u001b[4m/home/jovyan/ProcessSequence.jl/input/test_high_quality/germ_dna.R2.1m.fastq.gz\u001b[24m`\n"
     ]
    },
    {
     "name": "stderr",
     "output_type": "stream",
     "text": [
      "Started analysis of germ.1k.R1.fastq.gz\n"
     ]
    },
    {
     "name": "stdout",
     "output_type": "stream",
     "text": [
      "Analysis complete for germ.1k.R1.fastq.gz\n"
     ]
    },
    {
     "name": "stderr",
     "output_type": "stream",
     "text": [
      "Approx 100% complete for germ.1k.R1.fastq.gz\n",
      "Started analysis of germ.1k.R2.fastq.gz\n"
     ]
    },
    {
     "name": "stdout",
     "output_type": "stream",
     "text": [
      "Analysis complete for germ.1k.R2.fastq.gz\n"
     ]
    },
    {
     "name": "stderr",
     "output_type": "stream",
     "text": [
      "Approx 100% complete for germ.1k.R2.fastq.gz\n",
      "Started analysis of germ_dna.R1.1m.fastq.gz\n",
      "Started analysis of germ_dna.R2.1m.fastq.gz\n",
      "Approx 5% complete for germ_dna.R1.1m.fastq.gz\n",
      "Approx 5% complete for germ_dna.R2.1m.fastq.gz\n",
      "Approx 10% complete for germ_dna.R1.1m.fastq.gz\n",
      "Approx 10% complete for germ_dna.R2.1m.fastq.gz\n",
      "Approx 15% complete for germ_dna.R1.1m.fastq.gz\n",
      "Approx 15% complete for germ_dna.R2.1m.fastq.gz\n",
      "Approx 20% complete for germ_dna.R1.1m.fastq.gz\n",
      "Approx 20% complete for germ_dna.R2.1m.fastq.gz\n",
      "Approx 25% complete for germ_dna.R1.1m.fastq.gz\n",
      "Approx 25% complete for germ_dna.R2.1m.fastq.gz\n",
      "Approx 30% complete for germ_dna.R1.1m.fastq.gz\n",
      "Approx 30% complete for germ_dna.R2.1m.fastq.gz\n",
      "Approx 35% complete for germ_dna.R1.1m.fastq.gz\n",
      "Approx 35% complete for germ_dna.R2.1m.fastq.gz\n",
      "Approx 40% complete for germ_dna.R1.1m.fastq.gz\n",
      "Approx 40% complete for germ_dna.R2.1m.fastq.gz\n",
      "Approx 45% complete for germ_dna.R1.1m.fastq.gz\n",
      "Approx 45% complete for germ_dna.R2.1m.fastq.gz\n",
      "Approx 50% complete for germ_dna.R1.1m.fastq.gz\n",
      "Approx 50% complete for germ_dna.R2.1m.fastq.gz\n",
      "Approx 55% complete for germ_dna.R1.1m.fastq.gz\n",
      "Approx 55% complete for germ_dna.R2.1m.fastq.gz\n",
      "Approx 60% complete for germ_dna.R1.1m.fastq.gz\n",
      "Approx 60% complete for germ_dna.R2.1m.fastq.gz\n",
      "Approx 65% complete for germ_dna.R1.1m.fastq.gz\n",
      "Approx 65% complete for germ_dna.R2.1m.fastq.gz\n",
      "Approx 70% complete for germ_dna.R1.1m.fastq.gz\n",
      "Approx 70% complete for germ_dna.R2.1m.fastq.gz\n",
      "Approx 75% complete for germ_dna.R1.1m.fastq.gz\n",
      "Approx 75% complete for germ_dna.R2.1m.fastq.gz\n",
      "Approx 80% complete for germ_dna.R1.1m.fastq.gz\n",
      "Approx 80% complete for germ_dna.R2.1m.fastq.gz\n",
      "Approx 85% complete for germ_dna.R1.1m.fastq.gz\n",
      "Approx 85% complete for germ_dna.R2.1m.fastq.gz\n",
      "Approx 90% complete for germ_dna.R1.1m.fastq.gz\n",
      "Approx 90% complete for germ_dna.R2.1m.fastq.gz\n",
      "Approx 95% complete for germ_dna.R1.1m.fastq.gz\n",
      "Approx 95% complete for germ_dna.R2.1m.fastq.gz\n"
     ]
    },
    {
     "name": "stdout",
     "output_type": "stream",
     "text": [
      "Analysis complete for germ_dna.R1.1m.fastq.gz\n"
     ]
    },
    {
     "name": "stderr",
     "output_type": "stream",
     "text": [
      "Approx 100% complete for germ_dna.R1.1m.fastq.gz\n"
     ]
    },
    {
     "name": "stdout",
     "output_type": "stream",
     "text": [
      "Analysis complete for germ_dna.R2.1m.fastq.gz\n"
     ]
    },
    {
     "name": "stderr",
     "output_type": "stream",
     "text": [
      "Approx 100% complete for germ_dna.R2.1m.fastq.gz\n"
     ]
    },
    {
     "name": "stdout",
     "output_type": "stream",
     "text": [
      "Checking sequence bias ...\n",
      "`\u001b[4mmultiqc\u001b[24m \u001b[4m--outdir\u001b[24m \u001b[4m/home/jovyan/ProcessSequence.jl/output/test_high_quality/check_sequence_raw\u001b[24m \u001b[4m/home/jovyan/ProcessSequence.jl/output/test_high_quality/check_sequence_raw\u001b[24m`\n"
     ]
    },
    {
     "name": "stderr",
     "output_type": "stream",
     "text": [
      "\n",
      "  /// MultiQC 🔍 | v1.11\n",
      "\n",
      "|           multiqc | Search path : /home/jovyan/ProcessSequence.jl/output/test_high_quality/check_sequence_raw\n"
     ]
    },
    {
     "name": "stdout",
     "output_type": "stream",
     "text": [
      "|         searching | ━━━━━━━━━━━━━━━━━━━━━━━━━━━━━━━━━━━━━━━━ 100% 8/8  "
     ]
    },
    {
     "name": "stderr",
     "output_type": "stream",
     "text": [
      "|            fastqc | Found 4 reports\n",
      "|           multiqc | Compressing plot data\n",
      "|           multiqc | Report      : ../output/test_high_quality/check_sequence_raw/multiqc_report.html\n",
      "|           multiqc | Data        : ../output/test_high_quality/check_sequence_raw/multiqc_data\n",
      "|           multiqc | MultiQC complete\n"
     ]
    },
    {
     "name": "stdout",
     "output_type": "stream",
     "text": [
      "(2021-07-31T21:11:39.569) Done in 16 seconds, 721 milliseconds.\n"
     ]
    }
   ],
   "source": [
    "ProcessSequence.check_sequence(\n",
    "    re_,\n",
    "    joinpath(paou, sa, string(\"check_sequence_raw\")),\n",
    "    n_jo,\n",
    ")"
   ]
  },
  {
   "cell_type": "markdown",
   "metadata": {},
   "source": [
    "## Concatenate reads by strand"
   ]
  },
  {
   "cell_type": "code",
   "execution_count": 17,
   "metadata": {},
   "outputs": [
    {
     "name": "stdout",
     "output_type": "stream",
     "text": [
      "Number of forward (R1) read files = 2\n",
      "\n",
      "Number of reverse (R2) read files = 2\n",
      "\n",
      "Skipping concatenation because directory already exists:\n",
      " /home/jovyan/ProcessSequence.jl/input/test_high_quality_cat\n",
      "\n",
      "\n",
      "Done at: 2021-07-31T21:17:31.463\n",
      "\n",
      "Took 1 millisecond.\n",
      "\n"
     ]
    }
   ],
   "source": [
    "ProcessSequence.concatenate_reads(re_, sa, paip)"
   ]
  },
  {
   "cell_type": "markdown",
   "metadata": {},
   "source": [
    "## Process reads"
   ]
  },
  {
   "cell_type": "code",
   "execution_count": null,
   "metadata": {},
   "outputs": [],
   "source": [
    "If reads were concatenated, add\n",
    "\n",
    "fq1 = \"../input/test_high_quality/germ.1k.R1.fastq.gz\"\n",
    "\n",
    "fq2 = \"../input/test_high_quality/germ.1k.R2.fastq.gz\""
   ]
  },
  {
   "cell_type": "code",
   "execution_count": null,
   "metadata": {},
   "outputs": [],
   "source": [
    "process_dna_arguments = (\n",
    "    joinpath(pare, \"GCA_000001405.15_GRCh38_no_alt_analysis_set.fna.gz\"),\n",
    "    joinpath(pare, \"chromosome.bed.gz\"),\n",
    "    joinpath(pare, \"chrn_n.tsv\"),\n",
    "    n_jo,\n",
    "    meto,\n",
    "    mejo,\n",
    "    pasn,\n",
    ")"
   ]
  },
  {
   "cell_type": "code",
   "execution_count": null,
   "metadata": {},
   "outputs": [],
   "source": [
    "ProcessSequence.process_germ_dna(\n",
    "    fq1,\n",
    "    fq2,\n",
    "    ta,\n",
    "    joinpath(paou, string(sa)),\n",
    "    process_dna_arguments...,\n",
    ")"
   ]
  },
  {
   "cell_type": "markdown",
   "metadata": {},
   "source": [
    "# Benchmark"
   ]
  },
  {
   "cell_type": "code",
   "execution_count": null,
   "metadata": {},
   "outputs": [],
   "source": [
    "papa = dirname(@__DIR__)\n",
    "\n",
    "using JSON: parse\n",
    "\n",
    "project_json = parse(read(joinpath(papa, \"project.json\"), String))\n",
    "\n",
    "paou = joinpath(papa, \"output\")\n",
    "\n",
    "paip = joinpath(papa, \"input\")\n",
    "\n",
    "reference_dir = joinpath(paip, \"reference\")\n",
    "\n",
    "baseline_vcf = joinpath(paip, \"high_confidence_HG002_4.1_GRCh38/HG002_GRCh38_1_22_v4.1_draft_benchmark.vcf.gz\")\n",
    "\n",
    "calls_vcf = joinpath(paou, \"process_germ_dna_HG002_cat/find_variant/strelka/results/variants/variants.vcf.gz\")\n",
    "\n",
    "rtg_sdf_reference_dir = joinpath(paip, \"GRCh38.sdf\")\n",
    "\n",
    "benchmark_paou = joinpath(paou, \"process_germ_dna_HG002_cat/benchmark\")\n",
    "\n",
    "rtg_executable = \"/opt/rtg/rtg-tools-3.11/rtg\""
   ]
  },
  {
   "cell_type": "markdown",
   "metadata": {},
   "source": [
    "### Configure vcfeval"
   ]
  },
  {
   "cell_type": "code",
   "execution_count": null,
   "metadata": {},
   "outputs": [],
   "source": [
    "run(`$rtg_executable`)"
   ]
  },
  {
   "cell_type": "markdown",
   "metadata": {},
   "source": [
    "### Download Real Time Genomics prepared GRCH38 files\n",
    "vcfeval requires reference files in RTG formats. RTG makes versions of these files for the popular reference genomes such as GRCh38, which will be downloaded below."
   ]
  },
  {
   "cell_type": "code",
   "execution_count": null,
   "metadata": {},
   "outputs": [],
   "source": [
    "if ispath(rtg_sdf_reference_dir)\n",
    "    \n",
    "    println(\"Skipping download because RTG GRCh38 data directory already exists:\\n $rtg_sdf_reference_dir\")\n",
    "\n",
    "else\n",
    "\n",
    "    run(pipeline(\n",
    "            `wget -q -P ../input/ https://s3.amazonaws.com/rtg-datasets/references/GRCh38.sdf.zip`,\n",
    "            `unzip -d ../input/ ../input/GRCh38.sdf.zip`,\n",
    "            `rm ../input/GRCh38.sdf.zip`,\n",
    "            ))\n",
    "end"
   ]
  },
  {
   "cell_type": "markdown",
   "metadata": {},
   "source": [
    "### Run vcfeval\n",
    "This command comapares the VCF you generated (calls) to the highly confident VCF generated by Genome in a Bottle (baseline)."
   ]
  },
  {
   "cell_type": "code",
   "execution_count": null,
   "metadata": {},
   "outputs": [],
   "source": [
    "run(`$rtg_executable vcfeval\n",
    "    --baseline=$baseline_vcf\n",
    "    --calls=$calls_vcf\n",
    "    --template=$rtg_sdf_reference_dir\n",
    "    --output=$benchmark_paou\n",
    "    --threads=1\n",
    "    `)"
   ]
  },
  {
   "cell_type": "markdown",
   "metadata": {},
   "source": [
    "### See results\n",
    "Read more about how to interpret vcfeval results [here](https://cdn.rawgit.com/RealTimeGenomics/rtg-tools/master/installer/resources/tools/RTGOperationsManual/rtg_command_reference.html#vcfeval)."
   ]
  },
  {
   "cell_type": "code",
   "execution_count": null,
   "metadata": {},
   "outputs": [],
   "source": [
    "vcfeval_summary_file = open(joinpath(benchmark_paouput_dir, \"summary.txt\"))\n",
    "\n",
    "vcfeval_summary = read(vcfeval_summary_file)\n",
    "\n",
    "vcfeval_summary"
   ]
  }
 ],
 "metadata": {
  "@webio": {
   "lastCommId": null,
   "lastKernelId": null
  },
  "kernelspec": {
   "display_name": "Julia 1.5.2",
   "language": "julia",
   "name": "julia-1.5"
  },
  "language_info": {
   "file_extension": ".jl",
   "mimetype": "application/julia",
   "name": "julia",
   "version": "1.5.2"
  }
 },
 "nbformat": 4,
 "nbformat_minor": 4
}
