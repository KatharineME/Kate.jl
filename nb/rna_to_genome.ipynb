{
 "cells": [
  {
   "cell_type": "code",
   "execution_count": null,
   "metadata": {},
   "outputs": [],
   "source": [
    "using Revise\n",
    "\n",
    "using Kate"
   ]
  },
  {
   "cell_type": "code",
   "execution_count": null,
   "metadata": {},
   "outputs": [],
   "source": [
    "sa = \"cell_line\"\n",
    "\n",
    "# is dna targeted\n",
    "ta = false\n",
    "\n",
    "fq1 = \"input/cell_line/KTB21-1_S77_all_R1_001.fastq.gz\"\n",
    "\n",
    "fq2 = \"input/cell_line/KTB21-1_S77_all_R2_001.fastq.gz\"\n",
    "\n",
    "n_jo = 8\n",
    "\n",
    "# G of memory\n",
    "n_me = 40;"
   ]
  },
  {
   "cell_type": "code",
   "execution_count": null,
   "metadata": {},
   "outputs": [],
   "source": [
    "papr = dirname(@__DIR__)\n",
    "\n",
    "paou = joinpath(project_dir, \"output\")\n",
    "\n",
    "paip = joinpath(project_dir, \"input\")\n",
    "\n",
    "pasa = joinpath(input_dir, sample_name)\n",
    "\n",
    "pare = joinpath(input_dir, \"reference\")\n",
    "\n",
    "pasn = \"/opt/snpeff/snpEff/snpEff.jar\";"
   ]
  },
  {
   "cell_type": "code",
   "execution_count": 1,
   "metadata": {},
   "outputs": [
    {
     "ename": "LoadError",
     "evalue": "\u001b[91mUndefVarError: Kate not defined\u001b[39m",
     "output_type": "error",
     "traceback": [
      "\u001b[91mUndefVarError: Kate not defined\u001b[39m",
      "",
      "Stacktrace:",
      " [1] top-level scope at In[1]:1",
      " [2] include_string(::Function, ::Module, ::String, ::String) at ./loading.jl:1091"
     ]
    }
   ],
   "source": [
    "Kate.check_environment()"
   ]
  },
  {
   "cell_type": "code",
   "execution_count": null,
   "metadata": {},
   "outputs": [],
   "source": [
    "process_dna_arguments = (\n",
    "    joinpath(pare, \"GCA_000001405.15_GRCh38_no_alt_analysis_set.fna.gz\"),\n",
    "    joinpath(pare, \"chromosome.bed.gz\"),\n",
    "    joinpath(pare, \"chrn_n.tsv\"),\n",
    "    n_jo,\n",
    "    n_me,\n",
    "    1,\n",
    "    pasn,\n",
    ")"
   ]
  },
  {
   "cell_type": "code",
   "execution_count": null,
   "metadata": {},
   "outputs": [],
   "source": [
    "Kate.process_soma_rna(\n",
    "    joinpath(project_dir, project_json[\"soma_rna.1.fastq.gz\"]),\n",
    "    joinpath(project_dir, project_json[\"soma_rna.2.fastq.gz\"]),\n",
    "    joinpath(output_dir, \"process_soma_rna\"),\n",
    "    joinpath(reference_dir, \"Homo_sapiens.GRCh38.cdna.all.fa.gz\"),\n",
    "    project_json[\"n_job\"],\n",
    ")"
   ]
  }
 ],
 "metadata": {
  "@webio": {
   "lastCommId": null,
   "lastKernelId": null
  },
  "kernelspec": {
   "display_name": "Julia 1.5.2",
   "language": "julia",
   "name": "julia-1.5"
  },
  "language_info": {
   "file_extension": ".jl",
   "mimetype": "application/julia",
   "name": "julia",
   "version": "1.5.2"
  }
 },
 "nbformat": 4,
 "nbformat_minor": 4
}
