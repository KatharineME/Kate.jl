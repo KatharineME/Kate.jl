{
 "cells": [
  {
   "cell_type": "code",
   "execution_count": 1,
   "metadata": {},
   "outputs": [
    {
     "name": "stderr",
     "output_type": "stream",
     "text": [
      "┌ Info: Precompiling ProcessSequence [5a7925ad-7fa1-49f4-b2ba-08ed1d7bf936]\n",
      "└ @ Base loading.jl:1278\n"
     ]
    }
   ],
   "source": [
    "using Revise\n",
    "\n",
    "using ProcessSequence"
   ]
  },
  {
   "cell_type": "code",
   "execution_count": 4,
   "metadata": {},
   "outputs": [
    {
     "data": {
      "text/plain": [
       "8"
      ]
     },
     "execution_count": 4,
     "metadata": {},
     "output_type": "execute_result"
    }
   ],
   "source": [
    "sa = \"test_low_quality_250\"\n",
    "\n",
    "pr = dirname(@__DIR__)\n",
    "\n",
    "paou = joinpath(pr, \"output\")\n",
    "\n",
    "paid = joinpath(pr, \"input\")\n",
    "\n",
    "pasa = joinpath(paid, sa)\n",
    "\n",
    "n_jo = 8"
   ]
  },
  {
   "cell_type": "markdown",
   "metadata": {},
   "source": [
    "## Find raw reads"
   ]
  },
  {
   "cell_type": "code",
   "execution_count": 5,
   "metadata": {},
   "outputs": [
    {
     "name": "stdout",
     "output_type": "stream",
     "text": [
      "Walking sample directory...\n",
      "\n",
      "/home/jovyan/ProcessSequence.jl/input/test_low_quality_250\n",
      "\n",
      "\n",
      "Number of fastq files found in directories walked: 2\n",
      "\n",
      "Number of fastq.gz or fq.gz files found in directories walked: 2\n",
      "\n",
      "\n",
      "Done at: 2021-07-31T20:52:54.738\n",
      "\n",
      "Took 3 milliseconds.\n",
      "\n"
     ]
    },
    {
     "data": {
      "text/plain": [
       "2-element Array{Any,1}:\n",
       " \"/home/jovyan/ProcessSequence.jl/input/test_low_quality_250/SRR957824_500K_R1.fastq.gz\"\n",
       " \"/home/jovyan/ProcessSequence.jl/input/test_low_quality_250/SRR957824_500K_R2.fastq.gz\""
      ]
     },
     "execution_count": 5,
     "metadata": {},
     "output_type": "execute_result"
    }
   ],
   "source": [
    "re_ = ProcessSequence.find_read(pasa)"
   ]
  },
  {
   "cell_type": "code",
   "execution_count": 6,
   "metadata": {},
   "outputs": [
    {
     "name": "stdout",
     "output_type": "stream",
     "text": [
      "(2021-07-31T20:53:04.39) Checking sequence ...\n",
      "`\u001b[4mfastqc\u001b[24m \u001b[4m--threads\u001b[24m \u001b[4m2\u001b[24m \u001b[4m--outdir\u001b[24m \u001b[4m/home/jovyan/ProcessSequence.jl/output/test_low_quality_250/check_sequence_raw\u001b[24m \u001b[4m/home/jovyan/ProcessSequence.jl/input/test_low_quality_250/SRR957824_500K_R1.fastq.gz\u001b[24m \u001b[4m/home/jovyan/ProcessSequence.jl/input/test_low_quality_250/SRR957824_500K_R2.fastq.gz\u001b[24m`\n"
     ]
    },
    {
     "name": "stderr",
     "output_type": "stream",
     "text": [
      "Started analysis of SRR957824_500K_R1.fastq.gz\n",
      "Approx 5% complete for SRR957824_500K_R1.fastq.gz\n",
      "Started analysis of SRR957824_500K_R2.fastq.gz\n",
      "Approx 10% complete for SRR957824_500K_R1.fastq.gz\n",
      "Approx 5% complete for SRR957824_500K_R2.fastq.gz\n",
      "Approx 15% complete for SRR957824_500K_R1.fastq.gz\n",
      "Approx 10% complete for SRR957824_500K_R2.fastq.gz\n",
      "Approx 20% complete for SRR957824_500K_R1.fastq.gz\n",
      "Approx 15% complete for SRR957824_500K_R2.fastq.gz\n",
      "Approx 25% complete for SRR957824_500K_R1.fastq.gz\n",
      "Approx 20% complete for SRR957824_500K_R2.fastq.gz\n",
      "Approx 30% complete for SRR957824_500K_R1.fastq.gz\n",
      "Approx 25% complete for SRR957824_500K_R2.fastq.gz\n",
      "Approx 35% complete for SRR957824_500K_R1.fastq.gz\n",
      "Approx 30% complete for SRR957824_500K_R2.fastq.gz\n",
      "Approx 40% complete for SRR957824_500K_R1.fastq.gz\n",
      "Approx 35% complete for SRR957824_500K_R2.fastq.gz\n",
      "Approx 45% complete for SRR957824_500K_R1.fastq.gz\n",
      "Approx 40% complete for SRR957824_500K_R2.fastq.gz\n",
      "Approx 50% complete for SRR957824_500K_R1.fastq.gz\n",
      "Approx 45% complete for SRR957824_500K_R2.fastq.gz\n",
      "Approx 55% complete for SRR957824_500K_R1.fastq.gz\n",
      "Approx 50% complete for SRR957824_500K_R2.fastq.gz\n",
      "Approx 60% complete for SRR957824_500K_R1.fastq.gz\n",
      "Approx 55% complete for SRR957824_500K_R2.fastq.gz\n",
      "Approx 65% complete for SRR957824_500K_R1.fastq.gz\n",
      "Approx 60% complete for SRR957824_500K_R2.fastq.gz\n",
      "Approx 70% complete for SRR957824_500K_R1.fastq.gz\n",
      "Approx 65% complete for SRR957824_500K_R2.fastq.gz\n",
      "Approx 75% complete for SRR957824_500K_R1.fastq.gz\n",
      "Approx 70% complete for SRR957824_500K_R2.fastq.gz\n",
      "Approx 80% complete for SRR957824_500K_R1.fastq.gz\n",
      "Approx 75% complete for SRR957824_500K_R2.fastq.gz\n",
      "Approx 85% complete for SRR957824_500K_R1.fastq.gz\n",
      "Approx 80% complete for SRR957824_500K_R2.fastq.gz\n",
      "Approx 90% complete for SRR957824_500K_R1.fastq.gz\n",
      "Approx 85% complete for SRR957824_500K_R2.fastq.gz\n",
      "Approx 95% complete for SRR957824_500K_R1.fastq.gz\n"
     ]
    },
    {
     "name": "stdout",
     "output_type": "stream",
     "text": [
      "Analysis complete for SRR957824_500K_R1.fastq.gz\n"
     ]
    },
    {
     "name": "stderr",
     "output_type": "stream",
     "text": [
      "Approx 90% complete for SRR957824_500K_R2.fastq.gz\n",
      "Approx 100% complete for SRR957824_500K_R1.fastq.gz\n",
      "Approx 95% complete for SRR957824_500K_R2.fastq.gz\n"
     ]
    },
    {
     "name": "stdout",
     "output_type": "stream",
     "text": [
      "Analysis complete for SRR957824_500K_R2.fastq.gz\n"
     ]
    },
    {
     "name": "stderr",
     "output_type": "stream",
     "text": [
      "Approx 100% complete for SRR957824_500K_R2.fastq.gz\n"
     ]
    },
    {
     "name": "stdout",
     "output_type": "stream",
     "text": [
      "Checking sequence bias ...\n",
      "`\u001b[4mmultiqc\u001b[24m \u001b[4m--outdir\u001b[24m \u001b[4m/home/jovyan/ProcessSequence.jl/output/test_low_quality_250/check_sequence_raw\u001b[24m \u001b[4m/home/jovyan/ProcessSequence.jl/output/test_low_quality_250/check_sequence_raw\u001b[24m`\n"
     ]
    },
    {
     "name": "stderr",
     "output_type": "stream",
     "text": [
      "\n",
      "  /// MultiQC 🔍 | v1.11\n",
      "\n",
      "|           multiqc | Search path : /home/jovyan/ProcessSequence.jl/output/test_low_quality_250/check_sequence_raw\n"
     ]
    },
    {
     "name": "stdout",
     "output_type": "stream",
     "text": [
      "|         searching | ━━━━━━━━━━━━━━━━━━━━━━━━━━━━━━━━━━━━━━━━ 100% 4/4  "
     ]
    },
    {
     "name": "stderr",
     "output_type": "stream",
     "text": [
      "|            fastqc | Found 2 reports\n",
      "|           multiqc | Compressing plot data\n",
      "|           multiqc | Report      : ../output/test_low_quality_250/check_sequence_raw/multiqc_report.html\n",
      "|           multiqc | Data        : ../output/test_low_quality_250/check_sequence_raw/multiqc_data\n",
      "|           multiqc | MultiQC complete\n"
     ]
    },
    {
     "name": "stdout",
     "output_type": "stream",
     "text": [
      "(2021-07-31T20:53:18.295) Done in 13 seconds, 905 milliseconds.\n"
     ]
    }
   ],
   "source": [
    "ProcessSequence.check_sequence(\n",
    "    re_,\n",
    "    joinpath(paou, sa, string(\"check_sequence_raw\")),\n",
    "    n_jo,\n",
    ")"
   ]
  },
  {
   "cell_type": "markdown",
   "metadata": {},
   "source": [
    "## Concatenate reads of same strand"
   ]
  },
  {
   "cell_type": "code",
   "execution_count": 7,
   "metadata": {},
   "outputs": [
    {
     "name": "stdout",
     "output_type": "stream",
     "text": [
      "Number of forward (R1) read files = 1\n",
      "\n",
      "Number of reverse (R2) read files = 1\n",
      "\n",
      "Nothing to concatenate because number of forward reads (1) and number of reverse reads (1) are <= 1.\n",
      "\n",
      "Done at: 2021-07-31T20:54:02.549\n",
      "\n",
      "Took 2 milliseconds.\n",
      "\n"
     ]
    }
   ],
   "source": [
    "ProcessSequence.concatenate_reads(re_, sa, paid)"
   ]
  }
 ],
 "metadata": {
  "@webio": {
   "lastCommId": null,
   "lastKernelId": null
  },
  "kernelspec": {
   "display_name": "Julia 1.5.2",
   "language": "julia",
   "name": "julia-1.5"
  },
  "language_info": {
   "file_extension": ".jl",
   "mimetype": "application/julia",
   "name": "julia",
   "version": "1.5.2"
  }
 },
 "nbformat": 4,
 "nbformat_minor": 4
}
