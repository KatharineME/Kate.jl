{
 "cells": [
  {
   "cell_type": "code",
   "execution_count": 1,
   "metadata": {},
   "outputs": [],
   "source": [
    "using Revise\n",
    "\n",
    "using Kate"
   ]
  },
  {
   "cell_type": "markdown",
   "metadata": {},
   "source": [
    "### Test Environment"
   ]
  },
  {
   "cell_type": "code",
   "execution_count": 2,
   "metadata": {},
   "outputs": [
    {
     "name": "stdout",
     "output_type": "stream",
     "text": [
      "Testing environment...\n",
      "`\u001b[4mwhich\u001b[24m \u001b[4mskewer\u001b[24m`\n",
      "/opt/conda/bin/skewer\n",
      "`\u001b[4mwhich\u001b[24m \u001b[4mfastqc\u001b[24m`\n",
      "/opt/conda/bin/fastqc\n",
      "`\u001b[4mwhich\u001b[24m \u001b[4mbgzip\u001b[24m`\n",
      "/opt/conda/bin/bgzip\n",
      "`\u001b[4mwhich\u001b[24m \u001b[4mtabix\u001b[24m`\n",
      "/opt/conda/bin/tabix\n",
      "`\u001b[4mwhich\u001b[24m \u001b[4mminimap2\u001b[24m`\n",
      "/opt/conda/bin/minimap2\n",
      "`\u001b[4mwhich\u001b[24m \u001b[4msamtools\u001b[24m`\n",
      "/opt/conda/bin/samtools\n",
      "`\u001b[4mwhich\u001b[24m \u001b[4mbcftools\u001b[24m`\n",
      "/opt/conda/bin/bcftools\n",
      "`\u001b[4mwhich\u001b[24m \u001b[4mkallisto\u001b[24m`\n",
      "/opt/conda/bin/kallisto\n",
      "`\u001b[4mbash\u001b[24m \u001b[4m-c\u001b[24m \u001b[4m'source activate py2 && which configManta.py'\u001b[24m`\n",
      "/opt/conda/envs/py2/bin/configManta.py\n",
      "`\u001b[4mbash\u001b[24m \u001b[4m-c\u001b[24m \u001b[4m'source activate py2 && which configureStrelkaGermlineWorkflow.py'\u001b[24m`\n",
      "/opt/conda/envs/py2/bin/configureStrelkaGermlineWorkflow.py\n",
      "`\u001b[4mbash\u001b[24m \u001b[4m-c\u001b[24m \u001b[4m'source activate py2 && which configureStrelkaSomaticWorkflow.py'\u001b[24m`\n",
      "/opt/conda/envs/py2/bin/configureStrelkaSomaticWorkflow.py\n"
     ]
    }
   ],
   "source": [
    "Kate.test()"
   ]
  },
  {
   "cell_type": "markdown",
   "metadata": {},
   "source": [
    "### Set Parameters"
   ]
  },
  {
   "cell_type": "code",
   "execution_count": 3,
   "metadata": {},
   "outputs": [],
   "source": [
    "# Experiment name\n",
    "ex = \"human_cdna_valeria/\"\n",
    "\n",
    "# Molecule: cdna or dna\n",
    "mo = \"cdna\"\n",
    "\n",
    "# Adapter sequence to trim\n",
    "# ad = \"CTGTCTCTTATA\"\n",
    "ad = \"AGATCGGAAGAGC\"\n",
    "\n",
    "# is dna targeted\n",
    "ta = false\n",
    "\n",
    "# Number of jobs\n",
    "n_jo = 10\n",
    "\n",
    "# G of memory\n",
    "met = 40\n",
    "\n",
    "# G of memory per job\n",
    "mej = 2;"
   ]
  },
  {
   "cell_type": "code",
   "execution_count": 4,
   "metadata": {},
   "outputs": [
    {
     "data": {
      "text/plain": [
       "\"/home/jovyan/Kate.jl/input/human_reference_genome\""
      ]
     },
     "execution_count": 4,
     "metadata": {},
     "output_type": "execute_result"
    }
   ],
   "source": [
    "pap = dirname(@__DIR__)\n",
    "\n",
    "pao = joinpath(pap, \"output\")\n",
    "\n",
    "pai = joinpath(pap, \"input\")\n",
    "\n",
    "pae = joinpath(pai, ex)\n",
    "\n",
    "par = joinpath(pai, \"human_reference_genome\")"
   ]
  },
  {
   "cell_type": "markdown",
   "metadata": {},
   "source": [
    "### Check reads"
   ]
  },
  {
   "cell_type": "code",
   "execution_count": 5,
   "metadata": {},
   "outputs": [
    {
     "name": "stdout",
     "output_type": "stream",
     "text": [
      "Walking sample directory: /home/jovyan/Kate.jl/input/human_cdna_valeria/\n",
      "\n",
      "Walking sample directory: /home/jovyan/Kate.jl/input/human_cdna_valeria/raw_data\n",
      "\n",
      "Walking sample directory: /home/jovyan/Kate.jl/input/human_cdna_valeria/raw_data/P293_1h_16\n",
      "\n",
      "Walking sample directory: /home/jovyan/Kate.jl/input/human_cdna_valeria/raw_data/P293_1h_17\n",
      "\n",
      "Walking sample directory: /home/jovyan/Kate.jl/input/human_cdna_valeria/raw_data/P293_1h_18\n",
      "\n",
      "Walking sample directory: /home/jovyan/Kate.jl/input/human_cdna_valeria/raw_data/P293_2h_25\n",
      "\n",
      "Walking sample directory: /home/jovyan/Kate.jl/input/human_cdna_valeria/raw_data/P293_2h_26\n",
      "\n",
      "Walking sample directory: /home/jovyan/Kate.jl/input/human_cdna_valeria/raw_data/P293_2h_27\n",
      "\n",
      "Walking sample directory: /home/jovyan/Kate.jl/input/human_cdna_valeria/raw_data/P293_b_13\n",
      "\n",
      "Walking sample directory: /home/jovyan/Kate.jl/input/human_cdna_valeria/raw_data/P293_b_14\n",
      "\n",
      "Walking sample directory: /home/jovyan/Kate.jl/input/human_cdna_valeria/raw_data/P293_b_15\n",
      "\n",
      "Walking sample directory: /home/jovyan/Kate.jl/input/human_cdna_valeria/raw_data/dGRK_1h_10\n",
      "\n",
      "Walking sample directory: /home/jovyan/Kate.jl/input/human_cdna_valeria/raw_data/dGRK_1h_11\n",
      "\n",
      "Walking sample directory: /home/jovyan/Kate.jl/input/human_cdna_valeria/raw_data/dGRK_1h_12\n",
      "\n",
      "Walking sample directory: /home/jovyan/Kate.jl/input/human_cdna_valeria/raw_data/dGRK_2h_40\n",
      "\n",
      "Walking sample directory: /home/jovyan/Kate.jl/input/human_cdna_valeria/raw_data/dGRK_2h_41\n",
      "\n",
      "Walking sample directory: /home/jovyan/Kate.jl/input/human_cdna_valeria/raw_data/dGRK_2h_42\n",
      "\n",
      "Walking sample directory: /home/jovyan/Kate.jl/input/human_cdna_valeria/raw_data/dGRK_b_7\n",
      "\n",
      "Walking sample directory: /home/jovyan/Kate.jl/input/human_cdna_valeria/raw_data/dGRK_b_8\n",
      "\n",
      "Walking sample directory: /home/jovyan/Kate.jl/input/human_cdna_valeria/raw_data/dGRK_b_9\n",
      "\n",
      "Walking sample directory: /home/jovyan/Kate.jl/input/human_cdna_valeria/raw_data/dGas_1h_6\n",
      "\n",
      "Walking sample directory: /home/jovyan/Kate.jl/input/human_cdna_valeria/raw_data/dGas_1h_7\n",
      "\n",
      "Walking sample directory: /home/jovyan/Kate.jl/input/human_cdna_valeria/raw_data/dGas_1h_8\n",
      "\n",
      "Walking sample directory: /home/jovyan/Kate.jl/input/human_cdna_valeria/raw_data/dGas_2h_11\n",
      "\n",
      "Walking sample directory: /home/jovyan/Kate.jl/input/human_cdna_valeria/raw_data/dGas_2h_12\n",
      "\n",
      "Walking sample directory: /home/jovyan/Kate.jl/input/human_cdna_valeria/raw_data/dGas_2h_15\n",
      "\n",
      "Walking sample directory: /home/jovyan/Kate.jl/input/human_cdna_valeria/raw_data/dGas_b_1\n",
      "\n",
      "Walking sample directory: /home/jovyan/Kate.jl/input/human_cdna_valeria/raw_data/dGas_b_2\n",
      "\n",
      "Walking sample directory: /home/jovyan/Kate.jl/input/human_cdna_valeria/raw_data/dGas_b_3\n",
      "\n",
      "Walking sample directory: /home/jovyan/Kate.jl/input/human_cdna_valeria/raw_data/darrest_1h_1\n",
      "\n",
      "Walking sample directory: /home/jovyan/Kate.jl/input/human_cdna_valeria/raw_data/darrest_1h_2\n",
      "\n",
      "Walking sample directory: /home/jovyan/Kate.jl/input/human_cdna_valeria/raw_data/darrest_1h_3\n",
      "\n",
      "Walking sample directory: /home/jovyan/Kate.jl/input/human_cdna_valeria/raw_data/darrest_2h_4\n",
      "\n",
      "Walking sample directory: /home/jovyan/Kate.jl/input/human_cdna_valeria/raw_data/darrest_2h_5\n",
      "\n",
      "Walking sample directory: /home/jovyan/Kate.jl/input/human_cdna_valeria/raw_data/darrest_2h_6\n",
      "\n",
      "Walking sample directory: /home/jovyan/Kate.jl/input/human_cdna_valeria/raw_data/darrest_b_43\n",
      "\n",
      "Walking sample directory: /home/jovyan/Kate.jl/input/human_cdna_valeria/raw_data/darrest_b_44\n",
      "\n",
      "Walking sample directory: /home/jovyan/Kate.jl/input/human_cdna_valeria/raw_data/darrest_b_45\n",
      "\n",
      "Walking sample directory: /home/jovyan/Kate.jl/input/human_cdna_valeria/report\n",
      "\n",
      "Number of .fastq or .fq files found in directories walked: 0\n",
      "\n",
      "Number of fastq.gz or fq.gz files found in directories walked: 72\n",
      "\n",
      "Done at 2021-08-25T21:12:23.023 in 9 milliseconds.\n",
      "\n"
     ]
    },
    {
     "data": {
      "text/plain": [
       "72-element Array{Any,1}:\n",
       " \"/home/jovyan/Kate.jl/input/human_cdna_valeria/raw_data/P293_1h_16/P293_1h_16_1.fq.gz\"\n",
       " \"/home/jovyan/Kate.jl/input/human_cdna_valeria/raw_data/P293_1h_16/P293_1h_16_2.fq.gz\"\n",
       " \"/home/jovyan/Kate.jl/input/human_cdna_valeria/raw_data/P293_1h_17/P293_1h_17_1.fq.gz\"\n",
       " \"/home/jovyan/Kate.jl/input/human_cdna_valeria/raw_data/P293_1h_17/P293_1h_17_2.fq.gz\"\n",
       " \"/home/jovyan/Kate.jl/input/human_cdna_valeria/raw_data/P293_1h_18/P293_1h_18_1.fq.gz\"\n",
       " \"/home/jovyan/Kate.jl/input/human_cdna_valeria/raw_data/P293_1h_18/P293_1h_18_2.fq.gz\"\n",
       " \"/home/jovyan/Kate.jl/input/human_cdna_valeria/raw_data/P293_2h_25/P293_2h_25_1.fq.gz\"\n",
       " \"/home/jovyan/Kate.jl/input/human_cdna_valeria/raw_data/P293_2h_25/P293_2h_25_2.fq.gz\"\n",
       " \"/home/jovyan/Kate.jl/input/human_cdna_valeria/raw_data/P293_2h_26/P293_2h_26_1.fq.gz\"\n",
       " \"/home/jovyan/Kate.jl/input/human_cdna_valeria/raw_data/P293_2h_26/P293_2h_26_2.fq.gz\"\n",
       " \"/home/jovyan/Kate.jl/input/human_cdna_valeria/raw_data/P293_2h_27/P293_2h_27_1.fq.gz\"\n",
       " \"/home/jovyan/Kate.jl/input/human_cdna_valeria/raw_data/P293_2h_27/P293_2h_27_2.fq.gz\"\n",
       " \"/home/jovyan/Kate.jl/input/human_cdna_valeria/raw_data/P293_b_13/P293_b_13_1.fq.gz\"\n",
       " ⋮\n",
       " \"/home/jovyan/Kate.jl/input/human_cdna_valeria/raw_data/darrest_2h_4/darrest_2h_4_1.fq.gz\"\n",
       " \"/home/jovyan/Kate.jl/input/human_cdna_valeria/raw_data/darrest_2h_4/darrest_2h_4_2.fq.gz\"\n",
       " \"/home/jovyan/Kate.jl/input/human_cdna_valeria/raw_data/darrest_2h_5/darrest_2h_5_1.fq.gz\"\n",
       " \"/home/jovyan/Kate.jl/input/human_cdna_valeria/raw_data/darrest_2h_5/darrest_2h_5_2.fq.gz\"\n",
       " \"/home/jovyan/Kate.jl/input/human_cdna_valeria/raw_data/darrest_2h_6/darrest_2h_6_1.fq.gz\"\n",
       " \"/home/jovyan/Kate.jl/input/human_cdna_valeria/raw_data/darrest_2h_6/darrest_2h_6_2.fq.gz\"\n",
       " \"/home/jovyan/Kate.jl/input/human_cdna_valeria/raw_data/darrest_b_43/darrest_b_43_1.fq.gz\"\n",
       " \"/home/jovyan/Kate.jl/input/human_cdna_valeria/raw_data/darrest_b_43/darrest_b_43_2.fq.gz\"\n",
       " \"/home/jovyan/Kate.jl/input/human_cdna_valeria/raw_data/darrest_b_44/darrest_b_44_1.fq.gz\"\n",
       " \"/home/jovyan/Kate.jl/input/human_cdna_valeria/raw_data/darrest_b_44/darrest_b_44_2.fq.gz\"\n",
       " \"/home/jovyan/Kate.jl/input/human_cdna_valeria/raw_data/darrest_b_45/darrest_b_45_1.fq.gz\"\n",
       " \"/home/jovyan/Kate.jl/input/human_cdna_valeria/raw_data/darrest_b_45/darrest_b_45_2.fq.gz\""
      ]
     },
     "execution_count": 5,
     "metadata": {},
     "output_type": "execute_result"
    }
   ],
   "source": [
    "re_ = Kate.find(pae)"
   ]
  },
  {
   "cell_type": "code",
   "execution_count": null,
   "metadata": {
    "tags": []
   },
   "outputs": [],
   "source": [
    "Kate.check(re_, joinpath(pao, ex, string(\"check_raw\")), n_jo)"
   ]
  },
  {
   "cell_type": "markdown",
   "metadata": {},
   "source": [
    "### Process cDNA"
   ]
  },
  {
   "cell_type": "code",
   "execution_count": 6,
   "metadata": {},
   "outputs": [
    {
     "name": "stdout",
     "output_type": "stream",
     "text": [
      "Working on sample: P293_1h_16\n",
      "\n",
      "\n",
      "\n",
      "(2021-08-25T21:12:25.956) Trimming sequence ...\n",
      "Made path for trimmed files: /home/jovyan/Kate.jl/output/human_cdna_valeria/P293_1h_16/trim/\n",
      "`\u001b[4mskewer\u001b[24m \u001b[4m--threads\u001b[24m \u001b[4m10\u001b[24m \u001b[4m-x\u001b[24m \u001b[4mAGATCGGAAGAGC\u001b[24m \u001b[4m--mode\u001b[24m \u001b[4mpe\u001b[24m \u001b[4m--mean-quality\u001b[24m \u001b[4m10\u001b[24m \u001b[4m--end-quality\u001b[24m \u001b[4m10\u001b[24m \u001b[4m--compress\u001b[24m \u001b[4m--output\u001b[24m \u001b[4m/home/jovyan/Kate.jl/output/human_cdna_valeria/P293_1h_16/trim/\u001b[24m \u001b[4m--quiet\u001b[24m \u001b[4m/home/jovyan/Kate.jl/input/human_cdna_valeria/raw_data/P293_1h_16/P293_1h_16_1.fq.gz\u001b[24m \u001b[4m/home/jovyan/Kate.jl/input/human_cdna_valeria/raw_data/P293_1h_16/P293_1h_16_2.fq.gz\u001b[24m`\n",
      ".--. .-.\n",
      ": .--': :.-.\n",
      "`. `. : `'.' .--. .-..-..-. .--. .--.\n",
      "_`, :: . `.' '_.': `; `; :' '_.': ..'\n",
      "`.__.':_;:_;`.__.'`.__.__.'`.__.':_;\n",
      "skewer v0.2.2 [April 4, 2016]\n",
      "Parameters used:\n",
      "-- 3' end adapter sequence (-x):\u001b[0;33m\tAGATCGGAAGAGC\n",
      "\u001b[0m-- maximum error ratio allowed (-r):\t0.100\n",
      "-- maximum indel error ratio allowed (-d):\t0.030\n",
      "-- mean quality threshold (-Q):\t\t10\n",
      "-- end quality threshold (-q):\t\t10\n",
      "-- minimum read length allowed after trimming (-l):\t18\n",
      "-- file format (-f):\t\tSanger/Illumina 1.8+ FASTQ (auto detected)\n",
      "-- number of concurrent threads (-t):\t10\n",
      "Wed Aug 25 21:12:25 2021\u001b[0;32m >> started\u001b[0m\n",
      "\n",
      "Wed Aug 25 21:28:24 2021\u001b[0;32m >> done\u001b[0m (959.052s)\n",
      "21965741 read pairs processed; of these:\n",
      "     266 ( 0.00%) short read pairs filtered out after trimming by size control\n",
      "      27 ( 0.00%) empty read pairs filtered out after trimming by size control\n",
      "21965448 (100.00%) read pairs available; of these:\n",
      "  446395 ( 2.03%) trimmed read pairs available after processing\n",
      "21519053 (97.97%) untrimmed read pairs available after processing\n",
      "log has been saved to \"/home/jovyan/Kate.jl/output/human_cdna_valeria/P293_1h_16/trim/trimmed.log\".\n",
      "Done at 2021-08-25T21:28:24.349 in 15 minutes, 58 seconds, 393 milliseconds.\n",
      "\n",
      "(2021-08-25T21:28:24.472) Checking sequence ...\n",
      "`\u001b[4mfastqc\u001b[24m \u001b[4m--threads\u001b[24m \u001b[4m2\u001b[24m \u001b[4m--outdir\u001b[24m \u001b[4m/home/jovyan/Kate.jl/output/human_cdna_valeria/P293_1h_16/check_trim\u001b[24m \u001b[4m/home/jovyan/Kate.jl/output/human_cdna_valeria/P293_1h_16/trim//trimmed-pair1.fastq.gz\u001b[24m \u001b[4m/home/jovyan/Kate.jl/output/human_cdna_valeria/P293_1h_16/trim//trimmed-pair2.fastq.gz\u001b[24m`\n"
     ]
    },
    {
     "name": "stderr",
     "output_type": "stream",
     "text": [
      "Started analysis of trimmed-pair1.fastq.gz\n",
      "Started analysis of trimmed-pair2.fastq.gz\n",
      "Approx 5% complete for trimmed-pair1.fastq.gz\n",
      "Approx 5% complete for trimmed-pair2.fastq.gz\n",
      "Approx 10% complete for trimmed-pair1.fastq.gz\n",
      "Approx 10% complete for trimmed-pair2.fastq.gz\n",
      "Approx 15% complete for trimmed-pair1.fastq.gz\n",
      "Approx 15% complete for trimmed-pair2.fastq.gz\n",
      "Approx 20% complete for trimmed-pair1.fastq.gz\n",
      "Approx 20% complete for trimmed-pair2.fastq.gz\n",
      "Approx 25% complete for trimmed-pair1.fastq.gz\n",
      "Approx 25% complete for trimmed-pair2.fastq.gz\n",
      "Approx 30% complete for trimmed-pair1.fastq.gz\n",
      "Approx 30% complete for trimmed-pair2.fastq.gz\n",
      "Approx 35% complete for trimmed-pair1.fastq.gz\n",
      "Approx 35% complete for trimmed-pair2.fastq.gz\n",
      "Approx 40% complete for trimmed-pair1.fastq.gz\n",
      "Approx 40% complete for trimmed-pair2.fastq.gz\n",
      "Approx 45% complete for trimmed-pair1.fastq.gz\n",
      "Approx 45% complete for trimmed-pair2.fastq.gz\n",
      "Approx 50% complete for trimmed-pair1.fastq.gz\n",
      "Approx 50% complete for trimmed-pair2.fastq.gz\n",
      "Approx 55% complete for trimmed-pair1.fastq.gz\n",
      "Approx 55% complete for trimmed-pair2.fastq.gz\n",
      "Approx 60% complete for trimmed-pair1.fastq.gz\n",
      "Approx 60% complete for trimmed-pair2.fastq.gz\n",
      "Approx 65% complete for trimmed-pair1.fastq.gz\n",
      "Approx 65% complete for trimmed-pair2.fastq.gz\n",
      "Approx 70% complete for trimmed-pair1.fastq.gz\n",
      "Approx 70% complete for trimmed-pair2.fastq.gz\n",
      "Approx 75% complete for trimmed-pair1.fastq.gz\n",
      "Approx 75% complete for trimmed-pair2.fastq.gz\n",
      "Approx 80% complete for trimmed-pair1.fastq.gz\n",
      "Approx 80% complete for trimmed-pair2.fastq.gz\n",
      "Approx 85% complete for trimmed-pair1.fastq.gz\n",
      "Approx 85% complete for trimmed-pair2.fastq.gz\n",
      "Approx 90% complete for trimmed-pair1.fastq.gz\n",
      "Approx 90% complete for trimmed-pair2.fastq.gz\n",
      "Approx 95% complete for trimmed-pair1.fastq.gz\n",
      "Approx 95% complete for trimmed-pair2.fastq.gz\n"
     ]
    },
    {
     "name": "stdout",
     "output_type": "stream",
     "text": [
      "Analysis complete for trimmed-pair1.fastq.gz\n",
      "Analysis complete for trimmed-pair2.fastq.gz\n",
      "Checking sequence bias ...\n",
      "`\u001b[4mmultiqc\u001b[24m \u001b[4m--outdir\u001b[24m \u001b[4m/home/jovyan/Kate.jl/output/human_cdna_valeria/P293_1h_16/check_trim\u001b[24m \u001b[4m/home/jovyan/Kate.jl/output/human_cdna_valeria/P293_1h_16/check_trim\u001b[24m`\n"
     ]
    },
    {
     "name": "stderr",
     "output_type": "stream",
     "text": [
      "\n",
      "  /// MultiQC 🔍 | v1.11\n",
      "\n",
      "|           multiqc | Search path : /home/jovyan/Kate.jl/output/human_cdna_valeria/P293_1h_16/check_trim\n"
     ]
    },
    {
     "name": "stdout",
     "output_type": "stream",
     "text": [
      "|         searching | ━━━━━━━━━━━━━━━━━━━━━━━━━━━━━━━━━━━━━━━━ 100% 4/4  "
     ]
    },
    {
     "name": "stderr",
     "output_type": "stream",
     "text": [
      "|            fastqc | Found 2 reports\n",
      "|           multiqc | Compressing plot data\n",
      "|           multiqc | Report      : ../output/human_cdna_valeria/P293_1h_16/check_trim/multiqc_report.html\n",
      "|           multiqc | Data        : ../output/human_cdna_valeria/P293_1h_16/check_trim/multiqc_data\n",
      "|           multiqc | MultiQC complete\n"
     ]
    },
    {
     "name": "stdout",
     "output_type": "stream",
     "text": [
      "Done at 2021-08-25T21:32:40.967 in 4 minutes, 16 seconds, 495 milliseconds.\n",
      "\n",
      "(2021-08-25T21:32:40.967) Aligning sequence ...\n",
      "pipeline(pipeline(pipeline(pipeline(`\u001b[4mminimap2\u001b[24m \u001b[4m-ax\u001b[24m \u001b[4msplice\u001b[24m \u001b[4m-uf\u001b[24m \u001b[4m-t\u001b[24m \u001b[4m10\u001b[24m \u001b[4m-K\u001b[24m \u001b[4m2G\u001b[24m \u001b[4m-R\u001b[24m \u001b[4m'@RG\\tID:Germ\\tSM:Germ'\u001b[24m \u001b[4m-a\u001b[24m \u001b[4m/home/jovyan/Kate.jl/input/human_reference_genome/GCA_000001405.15_GRCh38_no_alt_analysis_set.fna.gz.mmi\u001b[24m \u001b[4m/home/jovyan/Kate.jl/output/human_cdna_valeria/P293_1h_16/trim//trimmed-pair1.fastq.gz\u001b[24m \u001b[4m/home/jovyan/Kate.jl/output/human_cdna_valeria/P293_1h_16/trim//trimmed-pair2.fastq.gz\u001b[24m`, stdout=`\u001b[4msamtools\u001b[24m \u001b[4msort\u001b[24m \u001b[4m--threads\u001b[24m \u001b[4m10\u001b[24m \u001b[4m-n\u001b[24m`), stdout=`\u001b[4msamtools\u001b[24m \u001b[4mfixmate\u001b[24m \u001b[4m--threads\u001b[24m \u001b[4m10\u001b[24m \u001b[4m-m\u001b[24m \u001b[4m-\u001b[24m \u001b[4m-\u001b[24m`), stdout=`\u001b[4msamtools\u001b[24m \u001b[4msort\u001b[24m \u001b[4m--threads\u001b[24m \u001b[4m10\u001b[24m`), stdout>Base.FileRedirect(\"/home/jovyan/Kate.jl/output/human_cdna_valeria/P293_1h_16/align/germ.bam.tmp\", false))\n"
     ]
    },
    {
     "name": "stderr",
     "output_type": "stream",
     "text": [
      "[WARNING]\u001b[1;31m Indexing parameters (-k, -w or -H) overridden by parameters used in the prebuilt index.\u001b[0m\n",
      "[M::main::85.515*0.21] loaded/built the index for 195 target sequence(s)\n",
      "[M::mm_mapopt_update::89.364*0.24] mid_occ = 694\n",
      "[M::mm_idx_stat] kmer size: 15; skip: 10; is_hpc: 0; #seq: 195\n",
      "[M::mm_idx_stat::90.405*0.25] distinct minimizers: 100167746 (38.80% are singletons); average occurrences: 5.519; average spacing: 5.607; total length: 3099922541\n",
      "[M::worker_pipeline::980.990*8.91] mapped 13384868 sequences\n",
      "[M::worker_pipeline::1448.907*8.56] mapped 8580580 sequences\n",
      "[M::worker_pipeline::2478.501*8.99] mapped 13384872 sequences\n",
      "[M::worker_pipeline::2746.797*8.97] mapped 8580576 sequences\n",
      "[M::main] Version: 2.21-r1071\n",
      "[M::main] CMD: minimap2 -ax splice -uf -t 10 -K 2G -R @RG\\tID:Germ\\tSM:Germ -a /home/jovyan/Kate.jl/input/human_reference_genome/GCA_000001405.15_GRCh38_no_alt_analysis_set.fna.gz.mmi /home/jovyan/Kate.jl/output/human_cdna_valeria/P293_1h_16/trim//trimmed-pair1.fastq.gz /home/jovyan/Kate.jl/output/human_cdna_valeria/P293_1h_16/trim//trimmed-pair2.fastq.gz\n",
      "[M::main] Real time: 2772.552 sec; CPU: 24677.280 sec; Peak RSS: 26.522 GB\n",
      "[bam_sort_core] merging from 20 files and 10 in-memory blocks...\n",
      "[bam_sort_core] merging from 20 files and 10 in-memory blocks...\n"
     ]
    },
    {
     "name": "stdout",
     "output_type": "stream",
     "text": [
      "`\u001b[4msamtools\u001b[24m \u001b[4mmarkdup\u001b[24m \u001b[4m--threads\u001b[24m \u001b[4m10\u001b[24m \u001b[4m-s\u001b[24m \u001b[4m/home/jovyan/Kate.jl/output/human_cdna_valeria/P293_1h_16/align/germ.bam.tmp\u001b[24m \u001b[4m/home/jovyan/Kate.jl/output/human_cdna_valeria/P293_1h_16/align/germ.bam\u001b[24m`\n"
     ]
    },
    {
     "name": "stderr",
     "output_type": "stream",
     "text": [
      "COMMAND: samtools markdup --threads 10 -s /home/jovyan/Kate.jl/output/human_cdna_valeria/P293_1h_16/align/germ.bam.tmp /home/jovyan/Kate.jl/output/human_cdna_valeria/P293_1h_16/align/germ.bam\n",
      "READ: 65401536\n",
      "WRITTEN: 65401536\n",
      "EXCLUDED: 22426418\n",
      "EXAMINED: 42975118\n",
      "PAIRED: 42464286\n",
      "SINGLE: 510832\n",
      "DUPLICATE PAIR: 18699757\n",
      "DUPLICATE SINGLE: 388031\n",
      "DUPLICATE PAIR OPTICAL: 0\n",
      "DUPLICATE SINGLE OPTICAL: 0\n",
      "DUPLICATE NON PRIMARY: 0\n",
      "DUPLICATE NON PRIMARY OPTICAL: 0\n",
      "DUPLICATE PRIMARY TOTAL: 19087788\n",
      "DUPLICATE TOTAL: 19087788\n",
      "ESTIMATED_LIBRARY_SIZE: 16334962\n"
     ]
    },
    {
     "name": "stdout",
     "output_type": "stream",
     "text": [
      "`\u001b[4msamtools\u001b[24m \u001b[4mindex\u001b[24m \u001b[4m-@\u001b[24m \u001b[4m10\u001b[24m \u001b[4m/home/jovyan/Kate.jl/output/human_cdna_valeria/P293_1h_16/align/germ.bam\u001b[24m`\n",
      "pipeline(`\u001b[4msamtools\u001b[24m \u001b[4mflagstat\u001b[24m \u001b[4m--threads\u001b[24m \u001b[4m10\u001b[24m \u001b[4m/home/jovyan/Kate.jl/output/human_cdna_valeria/P293_1h_16/align/germ.bam\u001b[24m`, stdout>Base.FileRedirect(\"/home/jovyan/Kate.jl/output/human_cdna_valeria/P293_1h_16/align/germ.bam.flagstat\", false))\n",
      "Done at 2021-08-25T22:40:10.786 in 1 hour, 7 minutes, 29 seconds, 819 milliseconds.\n",
      "\n",
      "rna flag was added to config params\n",
      "\n",
      "this is co right before strelka is configured: --referenceFasta /home/jovyan/Kate.jl/input/human_reference_genome/GCA_000001405.15_GRCh38_no_alt_analysis_set.fna.bgz --callRegions /home/jovyan/Kate.jl/input/human_reference_genome/chromosome.bed.gz --rna --bam /home/jovyan/Kate.jl/output/human_cdna_valeria/P293_1h_16/align/germ.bam\n",
      "\n",
      "`\u001b[4mbash\u001b[24m \u001b[4m-c\u001b[24m \u001b[4m'source activate py2 && configureStrelkaGermlineWorkflow.py --referenceFasta /home/jovyan/Kate.jl/input/human_reference_genome/GCA_000001405.15_GRCh38_no_alt_analysis_set.fna.bgz --callRegions /home/jovyan/Kate.jl/input/human_reference_genome/chromosome.bed.gz --rna --bam /home/jovyan/Kate.jl/output/human_cdna_valeria/P293_1h_16/align/germ.bam --runDir /home/jovyan/Kate.jl/output/human_cdna_valeria/P293_1h_16/call_variant/strelka && /home/jovyan/Kate.jl/output/human_cdna_valeria/P293_1h_16/call_variant/strelka/runWorkflow.py --mode local --jobs 10 --memGb 40 --quiet'\u001b[24m`\n",
      "\n",
      "Successfully created workflow run script.\n",
      "To execute the workflow, run the following script and set appropriate options:\n",
      "\n",
      "/home/jovyan/Kate.jl/output/human_cdna_valeria/P293_1h_16/call_variant/strelka/runWorkflow.py\n",
      "this is vc_: [\"/home/jovyan/Kate.jl/output/human_cdna_valeria/P293_1h_16/call_variant/strelka/results/variants/variants.vcf.gz\"]\n",
      "pipeline(pipeline(pipeline(`\u001b[4mbcftools\u001b[24m \u001b[4mconcat\u001b[24m \u001b[4m--threads\u001b[24m \u001b[4m10\u001b[24m \u001b[4m--allow-overlaps\u001b[24m \u001b[4m/home/jovyan/Kate.jl/output/human_cdna_valeria/P293_1h_16/call_variant/strelka/results/variants/variants.vcf.gz\u001b[24m`, stdout=`\u001b[4mbcftools\u001b[24m \u001b[4mannotate\u001b[24m \u001b[4m--threads\u001b[24m \u001b[4m10\u001b[24m \u001b[4m--rename-chrs\u001b[24m \u001b[4m/home/jovyan/Kate.jl/input/human_reference_genome/chrn_n.tsv\u001b[24m`), stdout=`\u001b[4mbgzip\u001b[24m \u001b[4m--threads\u001b[24m \u001b[4m10\u001b[24m \u001b[4m--stdout\u001b[24m`), stdout>Base.FileRedirect(\"/home/jovyan/Kate.jl/output/human_cdna_valeria/P293_1h_16/call_variant/concat.vcf.gz\", false))\n",
      "`\u001b[4mtabix\u001b[24m \u001b[4m/home/jovyan/Kate.jl/output/human_cdna_valeria/P293_1h_16/call_variant/concat.vcf.gz\u001b[24m`\n"
     ]
    },
    {
     "name": "stderr",
     "output_type": "stream",
     "text": [
      "Checking the headers and starting positions of 1 files\n"
     ]
    },
    {
     "name": "stdout",
     "output_type": "stream",
     "text": [
      "pipeline(pipeline(`\u001b[4mjava\u001b[24m \u001b[4m-Xmx40g\u001b[24m \u001b[4m-jar\u001b[24m \u001b[4m/opt/snpeff/snpEff/snpEff.jar\u001b[24m \u001b[4mGRCh38.99\u001b[24m \u001b[4m-noLog\u001b[24m \u001b[4m-verbose\u001b[24m \u001b[4m-csvStats\u001b[24m \u001b[4m/home/jovyan/Kate.jl/output/human_cdna_valeria/P293_1h_16/call_variant/snpeff/stats.csv\u001b[24m \u001b[4m-htmlStats\u001b[24m \u001b[4m/home/jovyan/Kate.jl/output/human_cdna_valeria/P293_1h_16/call_variant/snpeff/stats.html\u001b[24m \u001b[4m/home/jovyan/Kate.jl/output/human_cdna_valeria/P293_1h_16/call_variant/concat.vcf.gz\u001b[24m`, stdout=`\u001b[4mbgzip\u001b[24m \u001b[4m--threads\u001b[24m \u001b[4m10\u001b[24m \u001b[4m--stdout\u001b[24m`), stdout>Base.FileRedirect(\"/home/jovyan/Kate.jl/output/human_cdna_valeria/P293_1h_16/call_variant/snpeff/snpeff.vcf.gz\", false))\n"
     ]
    },
    {
     "name": "stderr",
     "output_type": "stream",
     "text": [
      "00:00:00\tSnpEff version SnpEff 5.0e (build 2021-03-09 06:01), by Pablo Cingolani\n",
      "00:00:00\tCommand: 'ann'\n",
      "00:00:00\tReading configuration file 'snpEff.config'. Genome: 'GRCh38.99'\n",
      "00:00:00\tReading config file: /home/jovyan/Kate.jl/nb/snpEff.config\n",
      "00:00:00\tReading config file: /opt/snpeff/snpEff/snpEff.config\n",
      "00:00:00\tdone\n",
      "00:00:00\tReading database for genome version 'GRCh38.99' from file '/opt/snpeff/snpEff/./data/GRCh38.99/snpEffectPredictor.bin' (this might take a while)\n",
      "00:00:00\tDatabase not installed\n",
      "\tAttempting to download and install database 'GRCh38.99'\n",
      "00:00:00\tReading configuration file 'snpEff.config'. Genome: 'GRCh38.99'\n",
      "00:00:00\tReading config file: /home/jovyan/Kate.jl/nb/snpEff.config\n",
      "00:00:00\tReading config file: /opt/snpeff/snpEff/snpEff.config\n",
      "00:00:01\tdone\n",
      "00:00:01\tDownloading database for 'GRCh38.99'\n",
      "00:00:01\tConnecting to https://snpeff.blob.core.windows.net/databases/v5_0/snpEff_v5_0_GRCh38.99.zip\n",
      "00:00:01\tConnecting to https://snpeff.blob.core.windows.net/databases/v5_0/snpEff_v5_0_GRCh38.99.zip, using proxy: false\n",
      "00:00:02\tLocal file name: '/tmp/snpEff_v5_0_GRCh38.99.zip'\n",
      "....................................................................................................................................................................................................................................\n",
      "00:04:57\tDownload finished. Total 243793920 bytes.\n",
      "00:04:57\tExtracting file 'data/GRCh38.99/pwms.bin'\n",
      "00:04:57\tExtracting file 'data/GRCh38.99/sequence.1.bin'\n",
      "00:04:57\tExtracting file 'data/GRCh38.99/sequence.10.bin'\n",
      "00:04:57\tExtracting file 'data/GRCh38.99/sequence.11.bin'\n",
      "00:04:57\tExtracting file 'data/GRCh38.99/sequence.12.bin'\n",
      "00:04:57\tExtracting file 'data/GRCh38.99/sequence.13.bin'\n",
      "00:04:57\tExtracting file 'data/GRCh38.99/sequence.14.bin'\n",
      "00:04:58\tExtracting file 'data/GRCh38.99/sequence.15.bin'\n",
      "00:04:58\tExtracting file 'data/GRCh38.99/sequence.16.bin'\n",
      "00:04:58\tExtracting file 'data/GRCh38.99/sequence.17.bin'\n",
      "00:04:58\tExtracting file 'data/GRCh38.99/sequence.18.bin'\n",
      "00:04:58\tExtracting file 'data/GRCh38.99/sequence.19.bin'\n",
      "00:04:58\tExtracting file 'data/GRCh38.99/sequence.2.bin'\n",
      "java.lang.RuntimeException: java.io.EOFException: Unexpected end of ZLIB input stream\n",
      "\tat org.snpeff.util.Download.unzip(Download.java:395)\n",
      "\tat org.snpeff.snpEffect.commandLine.SnpEffCmdDownload.downloadAndInstall(SnpEffCmdDownload.java:33)\n",
      "\tat org.snpeff.snpEffect.commandLine.SnpEffCmdDownload.runDownloadGenome(SnpEffCmdDownload.java:86)\n",
      "\tat org.snpeff.snpEffect.commandLine.SnpEffCmdDownload.run(SnpEffCmdDownload.java:72)\n",
      "\tat org.snpeff.SnpEff.run(SnpEff.java:1227)\n",
      "\tat org.snpeff.SnpEff.loadDb(SnpEff.java:514)\n",
      "\tat org.snpeff.snpEffect.commandLine.SnpEffCmdEff.run(SnpEffCmdEff.java:940)\n",
      "\tat org.snpeff.snpEffect.commandLine.SnpEffCmdEff.run(SnpEffCmdEff.java:923)\n",
      "\tat org.snpeff.SnpEff.run(SnpEff.java:1188)\n",
      "\tat org.snpeff.SnpEff.main(SnpEff.java:168)\n",
      "Caused by: java.io.EOFException: Unexpected end of ZLIB input stream\n",
      "\tat java.base/java.util.zip.InflaterInputStream.fill(InflaterInputStream.java:245)\n",
      "\tat java.base/java.util.zip.InflaterInputStream.read(InflaterInputStream.java:159)\n",
      "\tat java.base/java.util.zip.ZipInputStream.read(ZipInputStream.java:195)\n",
      "\tat org.snpeff.util.Download.unzip(Download.java:374)\n",
      "\t... 9 more\n",
      "java.lang.RuntimeException: Genome download failed!\n",
      "\tat org.snpeff.SnpEff.loadDb(SnpEff.java:515)\n",
      "\tat org.snpeff.snpEffect.commandLine.SnpEffCmdEff.run(SnpEffCmdEff.java:940)\n",
      "\tat org.snpeff.snpEffect.commandLine.SnpEffCmdEff.run(SnpEffCmdEff.java:923)\n",
      "\tat org.snpeff.SnpEff.run(SnpEff.java:1188)\n",
      "\tat org.snpeff.SnpEff.main(SnpEff.java:168)\n",
      "00:04:58\tDone.\n"
     ]
    },
    {
     "ename": "LoadError",
     "evalue": "\u001b[91mfailed process: Process(`\u001b[4mjava\u001b[24m \u001b[4m-Xmx40g\u001b[24m \u001b[4m-jar\u001b[24m \u001b[4m/opt/snpeff/snpEff/snpEff.jar\u001b[24m \u001b[4mGRCh38.99\u001b[24m \u001b[4m-noLog\u001b[24m \u001b[4m-verbose\u001b[24m \u001b[4m-csvStats\u001b[24m \u001b[4m/home/jovyan/Kate.jl/output/human_cdna_valeria/P293_1h_16/call_variant/snpeff/stats.csv\u001b[24m \u001b[4m-htmlStats\u001b[24m \u001b[4m/home/jovyan/Kate.jl/output/human_cdna_valeria/P293_1h_16/call_variant/snpeff/stats.html\u001b[24m \u001b[4m/home/jovyan/Kate.jl/output/human_cdna_valeria/P293_1h_16/call_variant/concat.vcf.gz\u001b[24m`, ProcessExited(255)) [255]\u001b[39m\n",
     "output_type": "error",
     "traceback": [
      "\u001b[91mfailed process: Process(`\u001b[4mjava\u001b[24m \u001b[4m-Xmx40g\u001b[24m \u001b[4m-jar\u001b[24m \u001b[4m/opt/snpeff/snpEff/snpEff.jar\u001b[24m \u001b[4mGRCh38.99\u001b[24m \u001b[4m-noLog\u001b[24m \u001b[4m-verbose\u001b[24m \u001b[4m-csvStats\u001b[24m \u001b[4m/home/jovyan/Kate.jl/output/human_cdna_valeria/P293_1h_16/call_variant/snpeff/stats.csv\u001b[24m \u001b[4m-htmlStats\u001b[24m \u001b[4m/home/jovyan/Kate.jl/output/human_cdna_valeria/P293_1h_16/call_variant/snpeff/stats.html\u001b[24m \u001b[4m/home/jovyan/Kate.jl/output/human_cdna_valeria/P293_1h_16/call_variant/concat.vcf.gz\u001b[24m`, ProcessExited(255)) [255]\u001b[39m\n",
      "",
      "Stacktrace:",
      " [1] pipeline_error(::Base.ProcessChain) at ./process.jl:538",
      " [2] run(::Base.CmdRedirect; wait::Bool) at ./process.jl:440",
      " [3] run at ./process.jl:438 [inlined]",
      " [4] run_command at /home/jovyan/Kate.jl/src/run_command.jl:5 [inlined]",
      " [5] call_variant(::String, ::String, ::Nothing, ::Bool, ::String, ::String, ::String, ::String, ::Int64, ::Int64, ::String) at /home/jovyan/Kate.jl/src/call_variant.jl:186",
      " [6] process_dna(::String, ::String, ::String, ::String, ::Bool, ::String, ::String, ::String, ::String, ::String, ::Int64, ::Int64, ::Int64) at /home/jovyan/Kate.jl/src/process_dna.jl:56",
      " [7] top-level scope at ./In[6]:25",
      " [8] include_string(::Function, ::Module, ::String, ::String) at ./loading.jl:1091"
     ]
    }
   ],
   "source": [
    "na_ = [\"R1\", \"read1\", \"_1.fq\"]\n",
    "\n",
    "for fq1 in re_\n",
    "   \n",
    "    for na in na_ if occursin(na, fq1)\n",
    "    \n",
    "        nar = replace(na, \"1\" => \"2\")\n",
    "\n",
    "        fq2 = replace(fq1, na => nar)\n",
    "            \n",
    "        if !isfile(fq2)\n",
    "\n",
    "            fq2 = nothing\n",
    "                \n",
    "            println(\"fq2 didnt exist\")\n",
    "\n",
    "        end       \n",
    "\n",
    "        sa = last(splitdir(splitext(split(fq1, na)[1])[1]))\n",
    "                \n",
    "        println(\"Working on sample: $sa\\n\\n\\n\")\n",
    "\n",
    "        pasa = joinpath(pao, ex, sa)\n",
    "\n",
    "        Kate.process_dna(\n",
    "            mo,\n",
    "            fq1,\n",
    "            fq2,\n",
    "            ad,\n",
    "            ta,\n",
    "            pasa,\n",
    "            joinpath(par, \"GCA_000001405.15_GRCh38_no_alt_analysis_set.fna.gz\"),\n",
    "            joinpath(par, \"chromosome.bed.gz\"),\n",
    "            joinpath(par, \"chrn_n.tsv\"),\n",
    "            \"/opt/snpeff/snpEff/snpEff.jar\",\n",
    "            n_jo,\n",
    "            met,\n",
    "            mej,\n",
    "        )\n",
    "            \n",
    "        end\n",
    "\n",
    "    end\n",
    "    \n",
    "end"
   ]
  },
  {
   "cell_type": "code",
   "execution_count": null,
   "metadata": {},
   "outputs": [],
   "source": []
  }
 ],
 "metadata": {
  "@webio": {
   "lastCommId": null,
   "lastKernelId": null
  },
  "kernelspec": {
   "display_name": "Julia 1.5.2",
   "language": "julia",
   "name": "julia-1.5"
  },
  "language_info": {
   "file_extension": ".jl",
   "mimetype": "application/julia",
   "name": "julia",
   "version": "1.5.2"
  }
 },
 "nbformat": 4,
 "nbformat_minor": 4
}
