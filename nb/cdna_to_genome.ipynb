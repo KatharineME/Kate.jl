{
 "cells": [
  {
   "cell_type": "code",
   "execution_count": null,
   "metadata": {},
   "outputs": [],
   "source": [
    "using Revise\n",
    "\n",
    "using Kate"
   ]
  },
  {
   "cell_type": "markdown",
   "metadata": {},
   "source": [
    "### Test Environment"
   ]
  },
  {
   "cell_type": "code",
   "execution_count": null,
   "metadata": {},
   "outputs": [],
   "source": [
    "Kate.test()"
   ]
  },
  {
   "cell_type": "markdown",
   "metadata": {},
   "source": [
    "### Set Parameters"
   ]
  },
  {
   "cell_type": "code",
   "execution_count": null,
   "metadata": {},
   "outputs": [],
   "source": [
    "# Sample name\n",
    "sa = \"human_rna_bulk_brain\"\n",
    "\n",
    "# Molecule: cdna or dna\n",
    "mo = \"cdna\"\n",
    "\n",
    "# Adapter sequence to trim\n",
    "ad = \"TCGTCGGCAGCGTCAGATGTGTATAAGAGACAG\"\n",
    "\n",
    "# Forward read file\n",
    "fq1 = \"../input/human_rna_bulk_brain/HBR_Rep3_ERCC-Mix2_Build37-ErccTranscripts-chr22.R1.fastq.gz\"\n",
    "\n",
    "# Reverse read file\n",
    "fq2 = \"../input/human_rna_bulk_brain/HBR_Rep3_ERCC-Mix2_Build37-ErccTranscripts-chr22.R2.fastq.gz\"\n",
    "\n",
    "# is dna targeted\n",
    "ta = false\n",
    "\n",
    "# Number of jobs\n",
    "n_jo = 8\n",
    "\n",
    "# G of memory\n",
    "met = 40\n",
    "\n",
    "# G of memory per job\n",
    "mej = 2;"
   ]
  },
  {
   "cell_type": "code",
   "execution_count": null,
   "metadata": {},
   "outputs": [],
   "source": [
    "pap = dirname(@__DIR__)\n",
    "\n",
    "pao = joinpath(pap, \"output\")\n",
    "\n",
    "pai = joinpath(pap, \"input\")\n",
    "\n",
    "par = joinpath(pai, \"human_reference_genome\")"
   ]
  },
  {
   "cell_type": "markdown",
   "metadata": {},
   "source": [
    "### Process cDNA"
   ]
  },
  {
   "cell_type": "code",
   "execution_count": null,
   "metadata": {},
   "outputs": [],
   "source": [
    "Kate.process_dna(\n",
    "    mo,\n",
    "    fq1,\n",
    "    fq2,\n",
    "    ad,\n",
    "    ta,\n",
    "    joinpath(pao, string(sa)),\n",
    "    joinpath(par, \"GCA_000001405.15_GRCh38_no_alt_analysis_set.fna.gz\"),\n",
    "    joinpath(par, \"chromosome.bed.gz\"),\n",
    "    joinpath(par, \"chrn_n.tsv\"),\n",
    "    \"/opt/snpeff/snpEff/snpEff.jar\",\n",
    "    n_jo,\n",
    "    met,\n",
    "    mej,\n",
    ")"
   ]
  }
 ],
 "metadata": {
  "@webio": {
   "lastCommId": null,
   "lastKernelId": null
  },
  "kernelspec": {
   "display_name": "Julia 1.5.2",
   "language": "julia",
   "name": "julia-1.5"
  },
  "language_info": {
   "file_extension": ".jl",
   "mimetype": "application/julia",
   "name": "julia",
   "version": "1.5.2"
  }
 },
 "nbformat": 4,
 "nbformat_minor": 4
}
