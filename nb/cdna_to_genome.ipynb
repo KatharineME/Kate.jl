{
 "cells": [
  {
   "cell_type": "code",
   "execution_count": 1,
   "metadata": {},
   "outputs": [],
   "source": [
    "using Revise\n",
    "\n",
    "using Kate"
   ]
  },
  {
   "cell_type": "markdown",
   "metadata": {},
   "source": [
    "### Test Environment"
   ]
  },
  {
   "cell_type": "code",
   "execution_count": 2,
   "metadata": {},
   "outputs": [
    {
     "name": "stdout",
     "output_type": "stream",
     "text": [
      "Testing environment...\n",
      "`\u001b[4mwhich\u001b[24m \u001b[4mskewer\u001b[24m`\n",
      "/opt/conda/bin/skewer\n",
      "`\u001b[4mwhich\u001b[24m \u001b[4mfastqc\u001b[24m`\n",
      "/opt/conda/bin/fastqc\n",
      "`\u001b[4mwhich\u001b[24m \u001b[4mbgzip\u001b[24m`\n",
      "/opt/conda/bin/bgzip\n",
      "`\u001b[4mwhich\u001b[24m \u001b[4mtabix\u001b[24m`\n",
      "/opt/conda/bin/tabix\n",
      "`\u001b[4mwhich\u001b[24m \u001b[4mminimap2\u001b[24m`\n",
      "/opt/conda/bin/minimap2\n",
      "`\u001b[4mwhich\u001b[24m \u001b[4msamtools\u001b[24m`\n",
      "/opt/conda/bin/samtools\n",
      "`\u001b[4mwhich\u001b[24m \u001b[4mbcftools\u001b[24m`\n",
      "/opt/conda/bin/bcftools\n",
      "`\u001b[4mwhich\u001b[24m \u001b[4mkallisto\u001b[24m`\n",
      "/opt/conda/bin/kallisto\n",
      "`\u001b[4mbash\u001b[24m \u001b[4m-c\u001b[24m \u001b[4m'source activate py2 && which configManta.py'\u001b[24m`\n",
      "/opt/conda/envs/py2/bin/configManta.py\n",
      "`\u001b[4mbash\u001b[24m \u001b[4m-c\u001b[24m \u001b[4m'source activate py2 && which configureStrelkaGermlineWorkflow.py'\u001b[24m`\n",
      "/opt/conda/envs/py2/bin/configureStrelkaGermlineWorkflow.py\n",
      "`\u001b[4mbash\u001b[24m \u001b[4m-c\u001b[24m \u001b[4m'source activate py2 && which configureStrelkaSomaticWorkflow.py'\u001b[24m`\n",
      "/opt/conda/envs/py2/bin/configureStrelkaSomaticWorkflow.py\n"
     ]
    }
   ],
   "source": [
    "Kate.test()"
   ]
  },
  {
   "cell_type": "markdown",
   "metadata": {},
   "source": [
    "### Set Parameters"
   ]
  },
  {
   "cell_type": "code",
   "execution_count": 3,
   "metadata": {},
   "outputs": [],
   "source": [
    "# Sample name\n",
    "sa = \"human_rna_bulk_brain\"\n",
    "\n",
    "# Molecule: cdna or dna\n",
    "mo = \"cdna\"\n",
    "\n",
    "# Adapter sequence to trim\n",
    "ad = \"TCGTCGGCAGCGTCAGATGTGTATAAGAGACAG\"\n",
    "\n",
    "# Forward read file\n",
    "fq1 = \"../input/human_rna_bulk_brain/HBR_Rep3_ERCC-Mix2_Build37-ErccTranscripts-chr22.R1.fastq.gz\"\n",
    "\n",
    "# Reverse read file\n",
    "fq2 = \"../input/human_rna_bulk_brain/HBR_Rep3_ERCC-Mix2_Build37-ErccTranscripts-chr22.R2.fastq.gz\"\n",
    "\n",
    "# is dna targeted\n",
    "ta = false\n",
    "\n",
    "# Number of jobs\n",
    "n_jo = 8\n",
    "\n",
    "# G of memory\n",
    "met = 40\n",
    "\n",
    "# G of memory per job\n",
    "mej = 2;"
   ]
  },
  {
   "cell_type": "code",
   "execution_count": 4,
   "metadata": {},
   "outputs": [
    {
     "data": {
      "text/plain": [
       "\"/home/jovyan/Kate.jl/input/human_reference_genome\""
      ]
     },
     "execution_count": 4,
     "metadata": {},
     "output_type": "execute_result"
    }
   ],
   "source": [
    "pap = dirname(@__DIR__)\n",
    "\n",
    "pao = joinpath(pap, \"output\")\n",
    "\n",
    "pai = joinpath(pap, \"input\")\n",
    "\n",
    "par = joinpath(pai, \"human_reference_genome\")"
   ]
  },
  {
   "cell_type": "markdown",
   "metadata": {},
   "source": [
    "### Process cDNA"
   ]
  },
  {
   "cell_type": "code",
   "execution_count": 5,
   "metadata": {},
   "outputs": [
    {
     "ename": "LoadError",
     "evalue": "\u001b[91m../input/human_rna_bulk_brain/HBR_Rep3_ERCC-Mix2_Build37-ErccTranscripts-chr22.R1.fastq.gz doesn't exist.\u001b[39m",
     "output_type": "error",
     "traceback": [
      "\u001b[91m../input/human_rna_bulk_brain/HBR_Rep3_ERCC-Mix2_Build37-ErccTranscripts-chr22.R1.fastq.gz doesn't exist.\u001b[39m",
      "",
      "Stacktrace:",
      " [1] error(::String) at ./error.jl:33",
      " [2] process_dna(::String, ::String, ::String, ::String, ::Bool, ::String, ::String, ::String, ::String, ::String, ::Int64, ::Int64, ::Int64) at /home/jovyan/Kate.jl/src/process_dna.jl:20",
      " [3] top-level scope at In[5]:1",
      " [4] include_string(::Function, ::Module, ::String, ::String) at ./loading.jl:1091"
     ]
    }
   ],
   "source": [
    "Kate.process_dna(\n",
    "    mo,\n",
    "    fq1,\n",
    "    fq2,\n",
    "    ad,\n",
    "    ta,\n",
    "    joinpath(pao, string(sa)),\n",
    "    joinpath(par, \"GCA_000001405.15_GRCh38_no_alt_analysis_set.fna.gz\"),\n",
    "    joinpath(par, \"chromosome.bed.gz\"),\n",
    "    joinpath(par, \"chrn_n.tsv\"),\n",
    "    \"/opt/snpeff/snpEff/snpEff.jar\",\n",
    "    n_jo,\n",
    "    met,\n",
    "    mej,\n",
    ")"
   ]
  }
 ],
 "metadata": {
  "@webio": {
   "lastCommId": null,
   "lastKernelId": null
  },
  "kernelspec": {
   "display_name": "Julia 1.5.2",
   "language": "julia",
   "name": "julia-1.5"
  },
  "language_info": {
   "file_extension": ".jl",
   "mimetype": "application/julia",
   "name": "julia",
   "version": "1.5.2"
  }
 },
 "nbformat": 4,
 "nbformat_minor": 4
}
