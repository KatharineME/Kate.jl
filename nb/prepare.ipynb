{
 "cells": [
  {
   "cell_type": "code",
   "execution_count": null,
   "id": "428bca1e-ba94-47a8-9238-d477755b2509",
   "metadata": {},
   "outputs": [],
   "source": [
    "using Revise\n",
    "\n",
    "using Kate"
   ]
  },
  {
   "cell_type": "code",
   "execution_count": null,
   "id": "d34aedec-1095-4575-a3c5-6b3c79bf7759",
   "metadata": {},
   "outputs": [],
   "source": [
    "sa = \"human_dna_high_quality\"\n",
    "\n",
    "n_jo = 8\n",
    "\n",
    "pap = dirname(@__DIR__)\n",
    "\n",
    "pao = joinpath(pap, \"output\")\n",
    "\n",
    "pai = joinpath(pap, \"input\")\n",
    "\n",
    "pas = joinpath(pai, sa)"
   ]
  },
  {
   "cell_type": "code",
   "execution_count": null,
   "id": "0f7ca482-d24e-4f4b-af17-1b8e121d1509",
   "metadata": {},
   "outputs": [],
   "source": [
    "re_ = Kate.find(pas)"
   ]
  },
  {
   "cell_type": "code",
   "execution_count": null,
   "id": "f2b99a11-b541-4ff0-a301-bbcdcdb85e40",
   "metadata": {},
   "outputs": [],
   "source": [
    "Kate.check_read(\n",
    "    re_,\n",
    "    joinpath(pao, sa, string(\"check_raw\")),\n",
    "    n_jo,\n",
    ")"
   ]
  },
  {
   "cell_type": "code",
   "execution_count": null,
   "id": "ec34dbe3-c634-4fbe-9acc-8b261c456a2c",
   "metadata": {},
   "outputs": [],
   "source": [
    "Kate.concatenate(re_, sa, pai)"
   ]
  }
 ],
 "metadata": {
  "kernelspec": {
   "display_name": "Julia 1.5.2",
   "language": "julia",
   "name": "julia-1.5"
  },
  "language_info": {
   "file_extension": ".jl",
   "mimetype": "application/julia",
   "name": "julia",
   "version": "1.5.2"
  }
 },
 "nbformat": 4,
 "nbformat_minor": 5
}
