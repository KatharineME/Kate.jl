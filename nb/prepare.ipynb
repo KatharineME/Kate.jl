{
 "cells": [
  {
   "cell_type": "markdown",
   "id": "b9a90fec-32e3-45e2-a5c5-0fd0d54bb2fc",
   "metadata": {},
   "source": [
    "This notebook can be run for sequencing data of any kind. THe pipeline notebooks assume this notebook has already been run. The last step in this notebook is concatenation of reads of the same strand. This can be done for DNA-Seq reads and RNA-Seq reads."
   ]
  },
  {
   "cell_type": "code",
   "execution_count": null,
   "id": "428bca1e-ba94-47a8-9238-d477755b2509",
   "metadata": {},
   "outputs": [],
   "source": [
    "using Revise\n",
    "\n",
    "using Kate"
   ]
  },
  {
   "cell_type": "code",
   "execution_count": null,
   "id": "07eb9152-6724-4b3d-b551-a70b6a0a4033",
   "metadata": {},
   "outputs": [],
   "source": [
    "sa = \"human_cdna_ashwyn_sharma\"\n",
    "\n",
    "n_jo = 6"
   ]
  },
  {
   "cell_type": "code",
   "execution_count": null,
   "id": "29c46464-c54c-45bf-a853-f57c455f846e",
   "metadata": {},
   "outputs": [],
   "source": [
    "pap = dirname(@__DIR__)\n",
    "\n",
    "pao = joinpath(pap, \"output\")\n",
    "\n",
    "pai = joinpath(pap, \"input\")\n",
    "\n",
    "pas = joinpath(pai, sa)"
   ]
  },
  {
   "cell_type": "code",
   "execution_count": null,
   "id": "0f7ca482-d24e-4f4b-af17-1b8e121d1509",
   "metadata": {},
   "outputs": [],
   "source": [
    "re_ = Kate.find(pas)"
   ]
  },
  {
   "cell_type": "code",
   "execution_count": null,
   "id": "f2b99a11-b541-4ff0-a301-bbcdcdb85e40",
   "metadata": {
    "tags": []
   },
   "outputs": [],
   "source": [
    "Kate.check(\n",
    "    re_,\n",
    "    joinpath(pao, sa, string(\"check_raw\")),\n",
    "    n_jo,\n",
    ")"
   ]
  },
  {
   "cell_type": "code",
   "execution_count": null,
   "id": "ec34dbe3-c634-4fbe-9acc-8b261c456a2c",
   "metadata": {},
   "outputs": [],
   "source": [
    "Kate.concatenate(re_, sa, pai)"
   ]
  }
 ],
 "metadata": {
  "kernelspec": {
   "display_name": "Julia 1.5.2",
   "language": "julia",
   "name": "julia-1.5"
  },
  "language_info": {
   "file_extension": ".jl",
   "mimetype": "application/julia",
   "name": "julia",
   "version": "1.5.2"
  }
 },
 "nbformat": 4,
 "nbformat_minor": 5
}
