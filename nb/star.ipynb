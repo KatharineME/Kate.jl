{
 "cells": [
  {
   "cell_type": "code",
   "execution_count": null,
   "id": "b8c857e6-b927-4b35-aeea-3085447a74ef",
   "metadata": {},
   "outputs": [],
   "source": [
    "n_jo = 8\n",
    "\n",
    "re = \"/Users/kwat/CarrotCake/garden/data/grch/GCA_000001405.15_GRCh38_no_alt_plus_hs38d1_analysis_set.fna\"\n",
    "\n",
    "ge = \"/Users/kwat/Downloads/\""
   ]
  },
  {
   "cell_type": "code",
   "execution_count": null,
   "id": "2ebe18ed-855e-4815-8dd5-28e1f1e5e951",
   "metadata": {},
   "outputs": [],
   "source": [
    "for na in readdir()\n",
    "    \n",
    "    if !startswith(na, '.') && endswith(na, \"fastq.gz\")\n",
    "        \n",
    "        if occursin(\"R1\", na)\n",
    "            \n",
    "            re1 = na\n",
    "            \n",
    "            re2 = replace(re1, \"R1\"=>\"R2\")\n",
    "            \n",
    "            ou = replace(splitext(splitext(na)[1])[1], \"R1\"=>\"R\")\n",
    "            \n",
    "            println(ou)\n",
    "            \n",
    "            # TODO: optimize arguments based on the documentation (I remember seeing argument for making the sorting of BAM faster with multiple threads etc.\n",
    "            run(`star --runThreadN $n_jo --genomeDir $ge --readFilesIn $re1 $re2 --readFilesCommand \"gzip --decompress --stdout\" --outSAMtype BAM SortedByCoordinate --outFileNamePrefix $ou`)\n",
    "            \n",
    "        end\n",
    "        \n",
    "    end\n",
    "    \n",
    "end"
   ]
  },
  {
   "cell_type": "code",
   "execution_count": null,
   "id": "63a1f9b8-d076-4590-8671-a26e71f44c7b",
   "metadata": {},
   "outputs": [],
   "source": [
    "for na in readdir()\n",
    "    \n",
    "    if !startswith(na, '.') && endswith(na, \"bam\") \n",
    "        \n",
    "        ba = na\n",
    "\n",
    "        println(ba)\n",
    "\n",
    "        # TODO: optimize arguments\n",
    "        run(pipeline(`samtools stats --threads $n_jo --ref-seq $re $ba`, stdout=\"$ba.stats\"))\n",
    "\n",
    "    end\n",
    "    \n",
    "end"
   ]
  }
 ],
 "metadata": {
  "kernelspec": {
   "display_name": "Julia 1.5.4",
   "language": "julia",
   "name": "julia-1.5"
  },
  "language_info": {
   "file_extension": ".jl",
   "mimetype": "application/julia",
   "name": "julia",
   "version": "1.5.4"
  }
 },
 "nbformat": 4,
 "nbformat_minor": 5
}
