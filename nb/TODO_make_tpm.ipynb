{
 "cells": [
  {
   "cell_type": "code",
   "execution_count": null,
   "id": "8eee90a6-ab3f-417b-ac33-0d8042a17b01",
   "metadata": {},
   "outputs": [],
   "source": [
    "%load_ext autoreload\n",
    "%autoreload 2"
   ]
  },
  {
   "cell_type": "code",
   "execution_count": null,
   "id": "07158166-4815-4ec1-a0d3-d8a49aae5597",
   "metadata": {},
   "outputs": [],
   "source": [
    "import kwat\n",
    "import numpy as np\n",
    "import pandas as pd"
   ]
  },
  {
   "cell_type": "code",
   "execution_count": null,
   "id": "b6187f6c-3a02-4f1b-9250-ece797547350",
   "metadata": {},
   "outputs": [],
   "source": [
    "pa = \"../output/mouse_cdna_chen/\"\n",
    "\n",
    "kwat.path.make(pa)"
   ]
  },
  {
   "cell_type": "code",
   "execution_count": null,
   "id": "a31c1d24-0a5a-48a5-bc85-32a302fc8828",
   "metadata": {},
   "outputs": [],
   "source": [
    "tpm__ = []\n",
    "\n",
    "\n",
    "for na in kwat.path.list_directory(\"../output/mouse_cdna_chen/psuedoalign/\"):\n",
    "\n",
    "    print(na)\n",
    "\n",
    "    tpm_ = pd.read_csv(\n",
    "        \"{}/{}\".format(na, \"abundance.tsv\"),\n",
    "        sep=\"\\t\",\n",
    "        index_col=0,\n",
    "    ).loc[:, \"tpm\"]\n",
    "\n",
    "    tpm_.name = na.split(sep=\"/\")[-2]\n",
    "\n",
    "    print(\"this is tpm name: {}\".format(tpm_.name))\n",
    "\n",
    "    tpm__.append(tpm_)\n",
    "\n",
    "tpm_enst_sample = pd.concat(tpm__, axis=1)\n",
    "\n",
    "tpm_enst_sample.index.name = \"ENST\"\n",
    "\n",
    "tpm_enst_sample.to_csv(path_or_buf=\"{}tpm_enst_sample.tsv\".format(pa), sep=\"\\t\")\n",
    "\n",
    "print(tpm_enst_sample.sum())\n",
    "\n",
    "tpm_enst_sample"
   ]
  },
  {
   "cell_type": "code",
   "execution_count": null,
   "id": "60069a1b-3c38-419a-9f98-ad8ef99f23a5",
   "metadata": {},
   "outputs": [],
   "source": [
    "tpm_enst_sample.index = kwat.gene.rename(\n",
    "    [en.split(sep=\".\")[0] for en in tpm_enst_sample.index.values]\n",
    ")\n",
    "\n",
    "tpmsum_gene_sample = (\n",
    "    tpm_enst_sample.loc[tpm_enst_sample.index.notna(), :].groupby(level=0).sum()\n",
    ")\n",
    "\n",
    "tpmsum_gene_sample.index.name = \"Gene\"\n",
    "\n",
    "tpmsum_gene_sample.to_csv(path_or_buf=\"{}tpmsum_gene_sample.tsv\".format(pa), sep=\"\\t\")\n",
    "\n",
    "print(tpmsum_gene_sample.sum())\n",
    "\n",
    "tpmsum_gene_sample"
   ]
  },
  {
   "cell_type": "code",
   "execution_count": null,
   "id": "250bbe8e-f339-4a79-a836-ec3af0f4bc64",
   "metadata": {},
   "outputs": [],
   "source": [
    "tpmsum_gene_sample = tpmsum_gene_sample.loc[\n",
    "    tpmsum_gene_sample.index.intersection(kwat.gene.select()), :\n",
    "]\n",
    "\n",
    "tpmsum_gene_sample.to_csv(\n",
    "    path_or_buf=\"../output/tpm/tpmsum_geneselected_sample.tsv\", sep=\"\\t\"\n",
    ")\n",
    "\n",
    "tpmsum_gene_samplej"
   ]
  }
 ],
 "metadata": {
  "kernelspec": {
   "display_name": "Python 3 (ipykernel)",
   "language": "python",
   "name": "python3"
  },
  "language_info": {
   "codemirror_mode": {
    "name": "ipython",
    "version": 3
   },
   "file_extension": ".py",
   "mimetype": "text/x-python",
   "name": "python",
   "nbconvert_exporter": "python",
   "pygments_lexer": "ipython3",
   "version": "3.9.6"
  }
 },
 "nbformat": 4,
 "nbformat_minor": 5
}
