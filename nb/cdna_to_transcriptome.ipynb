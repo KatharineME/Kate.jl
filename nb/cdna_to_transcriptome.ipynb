{
 "cells": [
  {
   "cell_type": "code",
   "execution_count": 108,
   "id": "ec4b5eb7-f81d-4399-a82e-7bdd64904648",
   "metadata": {},
   "outputs": [],
   "source": [
    "using Revise\n",
    "\n",
    "using Kate"
   ]
  },
  {
   "cell_type": "markdown",
   "id": "ad3d58f3-45fa-4dfe-a9f2-f3cf5ff75cf8",
   "metadata": {},
   "source": [
    "### Test Environment"
   ]
  },
  {
   "cell_type": "code",
   "execution_count": 2,
   "id": "fb7653c8-f7ab-40b9-a892-c27f2cb29342",
   "metadata": {
    "tags": []
   },
   "outputs": [
    {
     "name": "stdout",
     "output_type": "stream",
     "text": [
      "Testing environment...\n",
      "`\u001b[4mwhich\u001b[24m \u001b[4mskewer\u001b[24m`\n",
      "/opt/conda/bin/skewer\n",
      "`\u001b[4mwhich\u001b[24m \u001b[4mfastqc\u001b[24m`\n",
      "/opt/conda/bin/fastqc\n",
      "`\u001b[4mwhich\u001b[24m \u001b[4mbgzip\u001b[24m`\n",
      "/opt/conda/bin/bgzip\n",
      "`\u001b[4mwhich\u001b[24m \u001b[4mtabix\u001b[24m`\n",
      "/opt/conda/bin/tabix\n",
      "`\u001b[4mwhich\u001b[24m \u001b[4mminimap2\u001b[24m`\n",
      "/opt/conda/bin/minimap2\n",
      "`\u001b[4mwhich\u001b[24m \u001b[4msamtools\u001b[24m`\n",
      "/opt/conda/bin/samtools\n",
      "`\u001b[4mwhich\u001b[24m \u001b[4mbcftools\u001b[24m`\n",
      "/opt/conda/bin/bcftools\n",
      "`\u001b[4mwhich\u001b[24m \u001b[4mkallisto\u001b[24m`\n",
      "/opt/conda/bin/kallisto\n",
      "`\u001b[4mbash\u001b[24m \u001b[4m-c\u001b[24m \u001b[4m'source activate py2 && which configManta.py'\u001b[24m`\n",
      "/opt/conda/envs/py2/bin/configManta.py\n",
      "`\u001b[4mbash\u001b[24m \u001b[4m-c\u001b[24m \u001b[4m'source activate py2 && which configureStrelkaGermlineWorkflow.py'\u001b[24m`\n",
      "/opt/conda/envs/py2/bin/configureStrelkaGermlineWorkflow.py\n",
      "`\u001b[4mbash\u001b[24m \u001b[4m-c\u001b[24m \u001b[4m'source activate py2 && which configureStrelkaSomaticWorkflow.py'\u001b[24m`\n",
      "/opt/conda/envs/py2/bin/configureStrelkaSomaticWorkflow.py\n"
     ]
    }
   ],
   "source": [
    "Kate.test()"
   ]
  },
  {
   "cell_type": "markdown",
   "id": "3a1d84f5-d234-4b8b-a6e6-dd3876c97d02",
   "metadata": {},
   "source": [
    "### Set Parameters"
   ]
  },
  {
   "cell_type": "code",
   "execution_count": 110,
   "id": "7b7d9204-26a7-4423-b2bf-50f58bb284ee",
   "metadata": {
    "tags": []
   },
   "outputs": [],
   "source": [
    "# Experiment \n",
    "ex = \"human_cdna_ashwyn_sharma\"\n",
    "\n",
    "# Fragment length (not needed if paired end)\n",
    "fr=51\n",
    "\n",
    "# Standard deviation of read length (not needed if paired end)\n",
    "sd=0.05\n",
    "\n",
    "# Reference transcriptome\n",
    "paf = \"../input/human_reference_transcriptome/Homo_sapiens.GRCh38.cdna.all.fa.gz\"\n",
    "\n",
    "pat = \"../input/human_reference_transcriptome/enst_gene_name.tsv\"\n",
    "\n",
    "n_jo = 6;"
   ]
  },
  {
   "cell_type": "code",
   "execution_count": 111,
   "id": "94002ede-dbda-44fd-9b03-fab240be0557",
   "metadata": {
    "tags": []
   },
   "outputs": [],
   "source": [
    "pai = joinpath(\"../input/\") \n",
    "\n",
    "pae = joinpath(pai, ex)\n",
    "\n",
    "pao = joinpath(\"../output/\", ex);"
   ]
  },
  {
   "cell_type": "markdown",
   "id": "97675c11-9431-48f2-ae80-c3602dc99ee3",
   "metadata": {},
   "source": [
    "### Check reads"
   ]
  },
  {
   "cell_type": "code",
   "execution_count": 112,
   "id": "261b7f79-fac0-43a9-ba72-5404522c8a2b",
   "metadata": {},
   "outputs": [
    {
     "name": "stdout",
     "output_type": "stream",
     "text": [
      "Walking sample directory: ../input/human_cdna_ashwyn_sharma\n",
      "\n",
      "Number of .fastq or .fq files found in directories walked: 0\n",
      "\n",
      "Number of fastq.gz or fq.gz files found in directories walked: 30\n",
      "\n",
      "Done at 2021-08-21T23:09:07.758 in 92 milliseconds.\n",
      "\n"
     ]
    },
    {
     "data": {
      "text/plain": [
       "30-element Array{Any,1}:\n",
       " \"../input/human_cdna_ashwyn_sharma/503DCC-4_R1_001.fastq.gz\"\n",
       " \"../input/human_cdna_ashwyn_sharma/503DCC-4_R2_001.fastq.gz\"\n",
       " \"../input/human_cdna_ashwyn_sharma/516BLU-4-resub_R1_001.fastq.gz\"\n",
       " \"../input/human_cdna_ashwyn_sharma/516BLU-4-resub_R2_001.fastq.gz\"\n",
       " \"../input/human_cdna_ashwyn_sharma/FX503DCC-3_R1_001.fastq.gz\"\n",
       " \"../input/human_cdna_ashwyn_sharma/FX503DCC-3_R2_001.fastq.gz\"\n",
       " \"../input/human_cdna_ashwyn_sharma/FX516BLU-3_R1_001.fastq.gz\"\n",
       " \"../input/human_cdna_ashwyn_sharma/FX516BLU-3_R2_001.fastq.gz\"\n",
       " \"../input/human_cdna_ashwyn_sharma/GIST-T1-2_R1_001.fastq.gz\"\n",
       " \"../input/human_cdna_ashwyn_sharma/GIST-T1-2_R2_001.fastq.gz\"\n",
       " \"../input/human_cdna_ashwyn_sharma/GIST-T11_R1_001.fastq.gz\"\n",
       " \"../input/human_cdna_ashwyn_sharma/GIST-T11_R2_001.fastq.gz\"\n",
       " \"../input/human_cdna_ashwyn_sharma/T1DCC-4_R1_001.fastq.gz\"\n",
       " \"../input/human_cdna_ashwyn_sharma/T1DCC-4_R2_001.fastq.gz\"\n",
       " \"../input/human_cdna_ashwyn_sharma/T1DCC3_R1_001.fastq.gz\"\n",
       " \"../input/human_cdna_ashwyn_sharma/T1DCC3_R2_001.fastq.gz\"\n",
       " \"../input/human_cdna_ashwyn_sharma/T1R-DCC-2_R1_001.fastq.gz\"\n",
       " \"../input/human_cdna_ashwyn_sharma/T1R-DCC-2_R2_001.fastq.gz\"\n",
       " \"../input/human_cdna_ashwyn_sharma/T1R-DCC1_R1_001.fastq.gz\"\n",
       " \"../input/human_cdna_ashwyn_sharma/T1R-DCC1_R2_001.fastq.gz\"\n",
       " \"../input/human_cdna_ashwyn_sharma/T1R-IM-2_R1_001.fastq.gz\"\n",
       " \"../input/human_cdna_ashwyn_sharma/T1R-IM-2_R2_001.fastq.gz\"\n",
       " \"../input/human_cdna_ashwyn_sharma/T1R-IM1_R1_001.fastq.gz\"\n",
       " \"../input/human_cdna_ashwyn_sharma/T1R-IM1_R2_001.fastq.gz\"\n",
       " \"../input/human_cdna_ashwyn_sharma/T1R-SU-2_R1_001.fastq.gz\"\n",
       " \"../input/human_cdna_ashwyn_sharma/T1R-SU-2_R2_001.fastq.gz\"\n",
       " \"../input/human_cdna_ashwyn_sharma/T1SU-6_R1_001.fastq.gz\"\n",
       " \"../input/human_cdna_ashwyn_sharma/T1SU-6_R2_001.fastq.gz\"\n",
       " \"../input/human_cdna_ashwyn_sharma/T1SU5-resub_R1_001.fastq.gz\"\n",
       " \"../input/human_cdna_ashwyn_sharma/T1SU5-resub_R2_001.fastq.gz\""
      ]
     },
     "execution_count": 112,
     "metadata": {},
     "output_type": "execute_result"
    }
   ],
   "source": [
    "re_ = Kate.find(pae)"
   ]
  },
  {
   "cell_type": "code",
   "execution_count": null,
   "id": "eab53d7a-3450-4dd7-a28d-c95fc169da50",
   "metadata": {},
   "outputs": [],
   "source": [
    "Kate.check(\n",
    "    re_,\n",
    "    joinpath(pao, ex, string(\"check_raw\")),\n",
    "    n_jo,\n",
    ")"
   ]
  },
  {
   "cell_type": "markdown",
   "id": "4b2c39e5-a4b9-47c1-8177-e155f809bcce",
   "metadata": {},
   "source": [
    "### Count transcript"
   ]
  },
  {
   "cell_type": "code",
   "execution_count": 113,
   "id": "15b06fe2-5ac3-407f-a524-47f150554932",
   "metadata": {},
   "outputs": [
    {
     "name": "stdout",
     "output_type": "stream",
     "text": [
      "Skipping psuedoalignment because directory already exists: ../output/human_cdna_ashwyn_sharma/psuedoalign/\n"
     ]
    }
   ],
   "source": [
    "na_ = [\"R1\", \"read1\"]\n",
    "\n",
    "naf = \"\"\n",
    "\n",
    "pap = joinpath(pao, \"psuedoalign/\")\n",
    "\n",
    "if !isdir(pap)\n",
    "\n",
    "    for fq1 in re_\n",
    "\n",
    "        for na in na_ if occursin(na, fq1)\n",
    "\n",
    "                naf = na\n",
    "\n",
    "                nar = replace(naf, \"1\" => \"2\")\n",
    "\n",
    "                fq2 = replace(fq1, naf => nar)\n",
    "\n",
    "                if !isfile(fq2)\n",
    "\n",
    "                    fq2 = nothing\n",
    "\n",
    "                end\n",
    "\n",
    "                sa = last(splitdir(splitext(split(fq1, naf)[1])[1]))\n",
    "\n",
    "                println(\"Working on sample: $sa\\n\")\n",
    "\n",
    "                pas = joinpath(pap, sa)\n",
    "\n",
    "                Kate.count_transcript(\n",
    "                    paf,\n",
    "                    pas,\n",
    "                    n_jo,\n",
    "                    fq1,\n",
    "                    fq2,\n",
    "                    fr,\n",
    "                    sd,\n",
    "                )\n",
    "\n",
    "            end\n",
    "\n",
    "        end\n",
    "\n",
    "    end\n",
    "\n",
    "else\n",
    "\n",
    "    println(\"Skipping psuedoalignment because directory already exists: $pap\")\n",
    "    \n",
    "end"
   ]
  },
  {
   "cell_type": "markdown",
   "id": "5bb18de4-15eb-4f44-9b6b-05ec3bb24c0d",
   "metadata": {},
   "source": [
    "### Make transcript by sample"
   ]
  },
  {
   "cell_type": "code",
   "execution_count": 9,
   "id": "568e843f-e017-4347-bf2c-f6f07e405fd4",
   "metadata": {},
   "outputs": [
    {
     "name": "stderr",
     "output_type": "stream",
     "text": [
      "\u001b[32m\u001b[1m   Updating\u001b[22m\u001b[39m registry at `/opt/julia/registries/General`\n",
      "######################################################################### 100.0%\n",
      "\u001b[32m\u001b[1m  Resolving\u001b[22m\u001b[39m package versions...\n",
      "\u001b[32m\u001b[1mNo Changes\u001b[22m\u001b[39m to `~/Kate.jl/Project.toml`\n",
      "\u001b[32m\u001b[1mNo Changes\u001b[22m\u001b[39m to `~/Kate.jl/Manifest.toml`\n"
     ]
    }
   ],
   "source": [
    "using Pkg;\n",
    "\n",
    "Pkg.add(\"DataFrames\");"
   ]
  },
  {
   "cell_type": "code",
   "execution_count": 10,
   "id": "84085e30-4982-4589-9645-6964f5cbf8a1",
   "metadata": {},
   "outputs": [
    {
     "name": "stderr",
     "output_type": "stream",
     "text": [
      "\u001b[32m\u001b[1m  Resolving\u001b[22m\u001b[39m package versions...\n",
      "\u001b[32m\u001b[1mNo Changes\u001b[22m\u001b[39m to `~/Kate.jl/Project.toml`\n",
      "\u001b[32m\u001b[1mNo Changes\u001b[22m\u001b[39m to `~/Kate.jl/Manifest.toml`\n"
     ]
    }
   ],
   "source": [
    "using Pkg;\n",
    "\n",
    "Pkg.add(\"CSV\");"
   ]
  },
  {
   "cell_type": "code",
   "execution_count": 114,
   "id": "29fa641e-0d0b-4f1e-b591-5575301523ff",
   "metadata": {
    "tags": []
   },
   "outputs": [
    {
     "name": "stdout",
     "output_type": "stream",
     "text": [
      "../output/human_cdna_ashwyn_sharma/psuedoalign/.DS_Store\n",
      "../output/human_cdna_ashwyn_sharma/psuedoalign/503DCC-4_\n",
      "../output/human_cdna_ashwyn_sharma/psuedoalign/503DCC-4_/abundance.tsv\n",
      "../output/human_cdna_ashwyn_sharma/psuedoalign/516BLU-4-resub_\n",
      "../output/human_cdna_ashwyn_sharma/psuedoalign/516BLU-4-resub_/abundance.tsv\n",
      "2\n",
      "3\n",
      "../output/human_cdna_ashwyn_sharma/psuedoalign/FX503DCC-3_\n",
      "../output/human_cdna_ashwyn_sharma/psuedoalign/FX503DCC-3_/abundance.tsv\n",
      "3\n",
      "4\n",
      "../output/human_cdna_ashwyn_sharma/psuedoalign/FX516BLU-3_\n",
      "../output/human_cdna_ashwyn_sharma/psuedoalign/FX516BLU-3_/abundance.tsv\n",
      "4\n",
      "5\n",
      "../output/human_cdna_ashwyn_sharma/psuedoalign/GIST-T1-2_\n",
      "../output/human_cdna_ashwyn_sharma/psuedoalign/GIST-T1-2_/abundance.tsv\n",
      "5\n",
      "6\n",
      "../output/human_cdna_ashwyn_sharma/psuedoalign/GIST-T11_\n",
      "../output/human_cdna_ashwyn_sharma/psuedoalign/GIST-T11_/abundance.tsv\n",
      "6\n",
      "7\n",
      "../output/human_cdna_ashwyn_sharma/psuedoalign/T1DCC-4_\n",
      "../output/human_cdna_ashwyn_sharma/psuedoalign/T1DCC-4_/abundance.tsv\n",
      "7\n",
      "8\n",
      "../output/human_cdna_ashwyn_sharma/psuedoalign/T1DCC3_\n",
      "../output/human_cdna_ashwyn_sharma/psuedoalign/T1DCC3_/abundance.tsv\n",
      "8\n",
      "9\n",
      "../output/human_cdna_ashwyn_sharma/psuedoalign/T1R-DCC-2_\n",
      "../output/human_cdna_ashwyn_sharma/psuedoalign/T1R-DCC-2_/abundance.tsv\n",
      "9\n",
      "10\n",
      "../output/human_cdna_ashwyn_sharma/psuedoalign/T1R-DCC1_\n",
      "../output/human_cdna_ashwyn_sharma/psuedoalign/T1R-DCC1_/abundance.tsv\n",
      "10\n",
      "11\n",
      "../output/human_cdna_ashwyn_sharma/psuedoalign/T1R-IM-2_\n",
      "../output/human_cdna_ashwyn_sharma/psuedoalign/T1R-IM-2_/abundance.tsv\n",
      "11\n",
      "12\n",
      "../output/human_cdna_ashwyn_sharma/psuedoalign/T1R-IM1_\n",
      "../output/human_cdna_ashwyn_sharma/psuedoalign/T1R-IM1_/abundance.tsv\n",
      "12\n",
      "13\n",
      "../output/human_cdna_ashwyn_sharma/psuedoalign/T1R-SU-2_\n",
      "../output/human_cdna_ashwyn_sharma/psuedoalign/T1R-SU-2_/abundance.tsv\n",
      "13\n",
      "14\n",
      "../output/human_cdna_ashwyn_sharma/psuedoalign/T1SU-6_\n",
      "../output/human_cdna_ashwyn_sharma/psuedoalign/T1SU-6_/abundance.tsv\n",
      "14\n",
      "15\n",
      "../output/human_cdna_ashwyn_sharma/psuedoalign/T1SU5-resub_\n",
      "../output/human_cdna_ashwyn_sharma/psuedoalign/T1SU5-resub_/abundance.tsv\n",
      "15\n",
      "16\n",
      "\u001b[1mDataFrameRow\u001b[0m\n",
      "\u001b[1m Row \u001b[0m│\u001b[1m id                \u001b[0m\u001b[1m 503DCC-4_ \u001b[0m\u001b[1m 516BLU-4-resub_ \u001b[0m\u001b[1m FX503DCC-3_ \u001b[0m\u001b[1m FX516BLU-3_ \u001b[0m\u001b[1m GIST-T1-2_ \u001b[0m\u001b[1m GIST-T11_ \u001b[0m\u001b[1m T1DCC-4_ \u001b[0m\u001b[1m T1DCC3_ \u001b[0m\u001b[1m T1R-DCC-2_ \u001b[0m\u001b[1m T1R-DCC1_ \u001b[0m\u001b[1m T1R-IM-2_ \u001b[0m\u001b[1m T1R-IM1_ \u001b[0m\u001b[1m T1R-SU-2_ \u001b[0m\u001b[1m T1SU-6_ \u001b[0m\u001b[1m T1SU5-resub_ \u001b[0m\n",
      "\u001b[1m     \u001b[0m│\u001b[90m String            \u001b[0m\u001b[90m Float64   \u001b[0m\u001b[90m Float64         \u001b[0m\u001b[90m Float64     \u001b[0m\u001b[90m Float64     \u001b[0m\u001b[90m Float64    \u001b[0m\u001b[90m Float64   \u001b[0m\u001b[90m Float64  \u001b[0m\u001b[90m Float64 \u001b[0m\u001b[90m Float64    \u001b[0m\u001b[90m Float64   \u001b[0m\u001b[90m Float64   \u001b[0m\u001b[90m Float64  \u001b[0m\u001b[90m Float64   \u001b[0m\u001b[90m Float64 \u001b[0m\u001b[90m Float64      \u001b[0m\n",
      "─────┼─────────────────────────────────────────────────────────────────────────────────────────────────────────────────────────────────────────────────────────────────────────────────────────────────\n",
      "   1 │ ENST00000632684.1        0.0              0.0          0.0          0.0         0.0        0.0       0.0      0.0         0.0        0.0        0.0       0.0        0.0      0.0           0.0\n"
     ]
    },
    {
     "data": {
      "text/plain": [
       "\"../output/human_cdna_ashwyn_sharma/transcript_x_sample.tsv\""
      ]
     },
     "execution_count": 114,
     "metadata": {},
     "output_type": "execute_result"
    }
   ],
   "source": [
    "using CSV\n",
    "\n",
    "using DataFrames\n",
    "\n",
    "tp_tr_sa = DataFrame()\n",
    "\n",
    "for di in readdir(joinpath(\"../output/\", ex, \"psuedoalign/\"), join = true)\n",
    "    \n",
    "    if !occursin(\"DS_Store\", di)\n",
    "        \n",
    "        pa = string(joinpath(di, \"abundance.tsv\"))\n",
    "\n",
    "        println(pa)\n",
    "        \n",
    "        tpm = DataFrame(CSV.File(pa, delim=\"\\t\"))[:, [:target_id, :tpm]]\n",
    "        \n",
    "        sa = last(splitdir(di))\n",
    "        \n",
    "        tpm = rename!(tpm, :tpm => sa)\n",
    "        \n",
    "        if isempty(tp_tr_sa)\n",
    "            \n",
    "            tp_tr_sa = tpm\n",
    "            \n",
    "        else\n",
    "            \n",
    "            println(ncol(tp_tr_sa))\n",
    "            \n",
    "            id = ncol(tp_tr_sa) + 1\n",
    "            \n",
    "            insertcols!(tp_tr_sa, id, sa => tpm[:, sa]) \n",
    "        \n",
    "        end\n",
    "    \n",
    "    end\n",
    "\n",
    "end\n",
    "\n",
    "tp_tr_sa = rename!(tp_tr_sa, :target_id => :id)\n",
    "\n",
    "println(first(tp_tr_sa))\n",
    "\n",
    "CSV.write(joinpath(\"../output/\", ex, \"transcript_x_sample.tsv\"), tp_tr_sa)"
   ]
  },
  {
   "cell_type": "markdown",
   "id": "57db8160-dcce-4d38-9e21-047e64d25ebd",
   "metadata": {},
   "source": [
    "### Make gene by sample"
   ]
  },
  {
   "cell_type": "code",
   "execution_count": 115,
   "id": "eb1ad903-c22d-4fcd-9b9b-8727a35392a7",
   "metadata": {
    "tags": []
   },
   "outputs": [
    {
     "name": "stdout",
     "output_type": "stream",
     "text": [
      "\u001b[1m5×16 DataFrame\u001b[0m\n",
      "\u001b[1m Row \u001b[0m│\u001b[1m gene   \u001b[0m\u001b[1m 503DCC-4__mean \u001b[0m\u001b[1m 516BLU-4-resub__mean \u001b[0m\u001b[1m FX503DCC-3__mean \u001b[0m\u001b[1m FX516BLU-3__mean \u001b[0m\u001b[1m GIST-T1-2__mean \u001b[0m\u001b[1m GIST-T11__mean \u001b[0m\u001b[1m T1DCC-4__mean \u001b[0m\u001b[1m T1DCC3__mean \u001b[0m\u001b[1m T1R-DCC-2__mean \u001b[0m\u001b[1m T1R-DCC1__mean \u001b[0m\u001b[1m T1R-IM-2__mean \u001b[0m\u001b[1m T1R-IM1__mean \u001b[0m\u001b[1m T1R-SU-2__mean \u001b[0m\u001b[1m T1SU-6__mean \u001b[0m\u001b[1m T1SU5-resub__mean \u001b[0m\n",
      "\u001b[1m     \u001b[0m│\u001b[90m String \u001b[0m\u001b[90m Float64        \u001b[0m\u001b[90m Float64              \u001b[0m\u001b[90m Float64          \u001b[0m\u001b[90m Float64          \u001b[0m\u001b[90m Float64         \u001b[0m\u001b[90m Float64        \u001b[0m\u001b[90m Float64       \u001b[0m\u001b[90m Float64      \u001b[0m\u001b[90m Float64         \u001b[0m\u001b[90m Float64        \u001b[0m\u001b[90m Float64        \u001b[0m\u001b[90m Float64       \u001b[0m\u001b[90m Float64        \u001b[0m\u001b[90m Float64      \u001b[0m\u001b[90m Float64           \u001b[0m\n",
      "─────┼─────────────────────────────────────────────────────────────────────────────────────────────────────────────────────────────────────────────────────────────────────────────────────────────────────────────────────────────────────────────────────────────────\n",
      "   1 │ A1BG         6.0761                6.7346            6.21009          6.9726            1.46805        1.56077       2.68545         2.329           1.52418         1.35976         1.48254        1.40455          1.73036      3.22845            3.02167\n",
      "   2 │ A1CF         0.0128095             0.0314704         0.0225633        0.00524134        0.0142529      0.00691449    0.000419307     0.0113792       0.00687964      0.00299174      0.00231919     0.00657407       0.0119331    0.00612334         0.00107241\n",
      "   3 │ A2M         22.8719               12.007            23.7139          13.1224            1.3072         1.31615       3.51352         3.44888         3.43812         3.15164         0.429878       0.512224         0.784792     0.187099           0.34037\n",
      "   4 │ A2ML1        0.0515077             0.894199          0.0308533        0.0787754         0.0072758      0.0110299     0.0114606       0.0266584       0.0179915       0.0554345       0.0108471      0.0144306        0.0179288    0.00862292         0.0338865\n",
      "   5 │ A2MP1        0.251538              0.455445          0.167302         0.200242          0.180956       0.346577      0.142612        0.532201        0.114559        0.105283        0.105274       0.149531         0.118774     0.255537           0.0363756\n"
     ]
    },
    {
     "data": {
      "text/plain": [
       "\"../output/human_cdna_ashwyn_sharma/gene_x_sample.tsv\""
      ]
     },
     "execution_count": 115,
     "metadata": {},
     "output_type": "execute_result"
    }
   ],
   "source": [
    "using Statistics\n",
    "\n",
    "tr_ge = DataFrame(CSV.File(pat, delim=\"\\t\"))\n",
    "    \n",
    "tr_ge = rename!(tr_ge,  Dict(\"Transcript stable ID version\" => :id, \"Gene name\" => :gene))\n",
    "    \n",
    "\n",
    "# Map transcript to gene name\n",
    "\n",
    "tp_trge_sa = sort!(innerjoin(tp_tr_sa, tr_ge, on = :id), :gene)\n",
    "\n",
    "tp_ge__sa = select!(tp_trge_sa, [n for n in names(tp_trge_sa) if n != \"id\"])\n",
    "\n",
    "\n",
    "# Save the mean tpm for each gene\n",
    "\n",
    "gr = groupby(tp_ge__sa, :gene)\n",
    "\n",
    "sa_ = [n for n in names(tp_trge_sa) if n != \"gene\"]\n",
    "\n",
    "tp_ge_sa = DataFrame()\n",
    "\n",
    "for sa in sa_\n",
    "    \n",
    "    ge_sa = combine(gr, sa => mean)\n",
    "    \n",
    "    if isempty(tp_ge_sa)\n",
    "        \n",
    "        append!(tp_ge_sa, ge_sa)\n",
    "        \n",
    "    else\n",
    "        \n",
    "        tp_ge_sa = innerjoin(tp_ge_sa, ge_sa, on = :gene)\n",
    "        \n",
    "    end\n",
    "        \n",
    "end\n",
    "\n",
    "println(tp_ge_sa[1:5, :])\n",
    "\n",
    "# Save gene by sample\n",
    "\n",
    "CSV.write(joinpath(\"../output/\", ex, \"gene_x_sample.tsv\"), tp_ge_sa)"
   ]
  },
  {
   "cell_type": "code",
   "execution_count": null,
   "id": "68860a20-e0c6-4759-ac5f-f996b5462f76",
   "metadata": {},
   "outputs": [],
   "source": []
  }
 ],
 "metadata": {
  "kernelspec": {
   "display_name": "Julia 1.5.2",
   "language": "julia",
   "name": "julia-1.5"
  },
  "language_info": {
   "file_extension": ".jl",
   "mimetype": "application/julia",
   "name": "julia",
   "version": "1.5.2"
  }
 },
 "nbformat": 4,
 "nbformat_minor": 5
}
