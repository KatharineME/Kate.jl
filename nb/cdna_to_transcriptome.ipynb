{
 "cells": [
  {
   "cell_type": "code",
   "execution_count": 1,
   "id": "ec4b5eb7-f81d-4399-a82e-7bdd64904648",
   "metadata": {},
   "outputs": [],
   "source": [
    "using Revise\n",
    "\n",
    "using Kate"
   ]
  },
  {
   "cell_type": "markdown",
   "id": "ad3d58f3-45fa-4dfe-a9f2-f3cf5ff75cf8",
   "metadata": {},
   "source": [
    "### Test Environment"
   ]
  },
  {
   "cell_type": "code",
   "execution_count": 2,
   "id": "fb7653c8-f7ab-40b9-a892-c27f2cb29342",
   "metadata": {
    "tags": []
   },
   "outputs": [
    {
     "name": "stdout",
     "output_type": "stream",
     "text": [
      "Testing environment...\n",
      "`\u001b[4mwhich\u001b[24m \u001b[4mskewer\u001b[24m`\n",
      "/opt/conda/bin/skewer\n",
      "`\u001b[4mwhich\u001b[24m \u001b[4mfastqc\u001b[24m`\n",
      "/opt/conda/bin/fastqc\n",
      "`\u001b[4mwhich\u001b[24m \u001b[4mbgzip\u001b[24m`\n",
      "/opt/conda/bin/bgzip\n",
      "`\u001b[4mwhich\u001b[24m \u001b[4mtabix\u001b[24m`\n",
      "/opt/conda/bin/tabix\n",
      "`\u001b[4mwhich\u001b[24m \u001b[4mminimap2\u001b[24m`\n",
      "/opt/conda/bin/minimap2\n",
      "`\u001b[4mwhich\u001b[24m \u001b[4msamtools\u001b[24m`\n",
      "/opt/conda/bin/samtools\n",
      "`\u001b[4mwhich\u001b[24m \u001b[4mbcftools\u001b[24m`\n",
      "/opt/conda/bin/bcftools\n",
      "`\u001b[4mwhich\u001b[24m \u001b[4mkallisto\u001b[24m`\n",
      "/opt/conda/bin/kallisto\n",
      "`\u001b[4mbash\u001b[24m \u001b[4m-c\u001b[24m \u001b[4m'source activate py2 && which configManta.py'\u001b[24m`\n",
      "/opt/conda/envs/py2/bin/configManta.py\n",
      "`\u001b[4mbash\u001b[24m \u001b[4m-c\u001b[24m \u001b[4m'source activate py2 && which configureStrelkaGermlineWorkflow.py'\u001b[24m`\n",
      "/opt/conda/envs/py2/bin/configureStrelkaGermlineWorkflow.py\n",
      "`\u001b[4mbash\u001b[24m \u001b[4m-c\u001b[24m \u001b[4m'source activate py2 && which configureStrelkaSomaticWorkflow.py'\u001b[24m`\n",
      "/opt/conda/envs/py2/bin/configureStrelkaSomaticWorkflow.py\n"
     ]
    }
   ],
   "source": [
    "Kate.test()"
   ]
  },
  {
   "cell_type": "markdown",
   "id": "3a1d84f5-d234-4b8b-a6e6-dd3876c97d02",
   "metadata": {},
   "source": [
    "### Set Parameters"
   ]
  },
  {
   "cell_type": "code",
   "execution_count": 6,
   "id": "7b7d9204-26a7-4423-b2bf-50f58bb284ee",
   "metadata": {
    "tags": []
   },
   "outputs": [],
   "source": [
    "# Experiment \n",
    "ex = \"human_cdna_bulk_brain\"\n",
    "\n",
    "# Fragment length (not needed if paired end)\n",
    "fr=51\n",
    "\n",
    "# Standard deviation of read length (not needed if paired end)\n",
    "sd=0.05\n",
    "\n",
    "# Reference transcriptome\n",
    "paf = \"../input/human_reference_transcriptome/Homo_sapiens.GRCh38.cdna.all.fa.gz\"\n",
    "\n",
    "pat = \"../input/human_reference_transcriptome/enst_gene_name.tsv\"\n",
    "\n",
    "n_jo = 6;"
   ]
  },
  {
   "cell_type": "code",
   "execution_count": 7,
   "id": "94002ede-dbda-44fd-9b03-fab240be0557",
   "metadata": {
    "tags": []
   },
   "outputs": [],
   "source": [
    "pai = joinpath(\"../input/\") \n",
    "\n",
    "pae = joinpath(pai, ex)\n",
    "\n",
    "pao = joinpath(\"../output/\", ex);"
   ]
  },
  {
   "cell_type": "markdown",
   "id": "97675c11-9431-48f2-ae80-c3602dc99ee3",
   "metadata": {},
   "source": [
    "### Check reads"
   ]
  },
  {
   "cell_type": "code",
   "execution_count": 8,
   "id": "261b7f79-fac0-43a9-ba72-5404522c8a2b",
   "metadata": {},
   "outputs": [
    {
     "name": "stdout",
     "output_type": "stream",
     "text": [
      "Walking sample directory: ../input/human_cdna_bulk_brain\n",
      "\n",
      "Number of .fastq or .fq files found in directories walked: 0\n",
      "\n",
      "Number of fastq.gz or fq.gz files found in directories walked: 6\n",
      "\n",
      "Done at 2021-08-20T18:45:00.495 in 10 milliseconds.\n",
      "\n"
     ]
    },
    {
     "data": {
      "text/plain": [
       "6-element Array{Any,1}:\n",
       " \"../input/human_cdna_bulk_brain/HBR_Rep1_ERCC-Mix2_Build37-ErccTranscripts-chr22.read1.fastq.gz\"\n",
       " \"../input/human_cdna_bulk_brain/HBR_Rep1_ERCC-Mix2_Build37-ErccTranscripts-chr22.read2.fastq.gz\"\n",
       " \"../input/human_cdna_bulk_brain/HBR_Rep2_ERCC-Mix2_Build37-ErccTranscripts-chr22.read1.fastq.gz\"\n",
       " \"../input/human_cdna_bulk_brain/HBR_Rep2_ERCC-Mix2_Build37-ErccTranscripts-chr22.read2.fastq.gz\"\n",
       " \"../input/human_cdna_bulk_brain/HBR_Rep3_ERCC-Mix2_Build37-ErccTranscripts-chr22.read1.fastq.gz\"\n",
       " \"../input/human_cdna_bulk_brain/HBR_Rep3_ERCC-Mix2_Build37-ErccTranscripts-chr22.read2.fastq.gz\""
      ]
     },
     "execution_count": 8,
     "metadata": {},
     "output_type": "execute_result"
    }
   ],
   "source": [
    "re_ = Kate.find(pae)"
   ]
  },
  {
   "cell_type": "code",
   "execution_count": null,
   "id": "eab53d7a-3450-4dd7-a28d-c95fc169da50",
   "metadata": {},
   "outputs": [],
   "source": [
    "Kate.check(\n",
    "    re_,\n",
    "    joinpath(pao, sa, string(\"check_raw\")),\n",
    "    n_jo,\n",
    ")"
   ]
  },
  {
   "cell_type": "markdown",
   "id": "4b2c39e5-a4b9-47c1-8177-e155f809bcce",
   "metadata": {},
   "source": [
    "### Count transcript"
   ]
  },
  {
   "cell_type": "code",
   "execution_count": 9,
   "id": "15b06fe2-5ac3-407f-a524-47f150554932",
   "metadata": {},
   "outputs": [
    {
     "name": "stdout",
     "output_type": "stream",
     "text": [
      "Working on sample: HBR_Rep1_ERCC-Mix2_Build37-ErccTranscripts-chr22\n",
      "\n",
      "Counting transcript ...\n",
      "\n",
      "`\u001b[4mkallisto\u001b[24m \u001b[4mquant\u001b[24m \u001b[4m--threads\u001b[24m \u001b[4m6\u001b[24m \u001b[4m--index\u001b[24m \u001b[4m../input/human_reference_transcriptome/Homo_sapiens.GRCh38.cdna.all.fa.gz.kallisto_index\u001b[24m \u001b[4m--output-dir\u001b[24m \u001b[4m../output/human_cdna_bulk_brain/psuedoalign/HBR_Rep1_ERCC-Mix2_Build37-ErccTranscripts-chr22\u001b[24m \u001b[4m../input/human_cdna_bulk_brain/HBR_Rep1_ERCC-Mix2_Build37-ErccTranscripts-chr22.read1.fastq.gz\u001b[24m \u001b[4m../input/human_cdna_bulk_brain/HBR_Rep1_ERCC-Mix2_Build37-ErccTranscripts-chr22.read2.fastq.gz\u001b[24m`\n"
     ]
    },
    {
     "name": "stderr",
     "output_type": "stream",
     "text": [
      "\n",
      "[quant] fragment length distribution will be estimated from the data\n",
      "[index] k-mer length: 31\n",
      "[index] number of targets: 187,626\n",
      "[index] number of k-mers: 108,619,921\n",
      "[index] number of equivalence classes: 752,021\n",
      "[quant] running in paired-end mode\n",
      "[quant] will process pair 1: ../input/human_cdna_bulk_brain/HBR_Rep1_ERCC-Mix2_Build37-ErccTranscripts-chr22.read1.fastq.gz\n",
      "                             ../input/human_cdna_bulk_brain/HBR_Rep1_ERCC-Mix2_Build37-ErccTranscripts-chr22.read2.fastq.gz\n",
      "[quant] finding pseudoalignments for the reads ... done\n",
      "[quant] processed 118,571 reads, 40,675 reads pseudoaligned\n",
      "[quant] estimated average fragment length: 172.613\n",
      "[   em] quantifying the abundances ... done\n",
      "[   em] the Expectation-Maximization algorithm ran for 736 rounds\n",
      "\n"
     ]
    },
    {
     "name": "stdout",
     "output_type": "stream",
     "text": [
      "Done at 2021-08-20T18:47:58.957 in 2 minutes, 22 seconds, 919 milliseconds.\n",
      "\n",
      "Working on sample: HBR_Rep2_ERCC-Mix2_Build37-ErccTranscripts-chr22\n",
      "\n",
      "Counting transcript ...\n",
      "\n",
      "`\u001b[4mkallisto\u001b[24m \u001b[4mquant\u001b[24m \u001b[4m--threads\u001b[24m \u001b[4m6\u001b[24m \u001b[4m--index\u001b[24m \u001b[4m../input/human_reference_transcriptome/Homo_sapiens.GRCh38.cdna.all.fa.gz.kallisto_index\u001b[24m \u001b[4m--output-dir\u001b[24m \u001b[4m../output/human_cdna_bulk_brain/psuedoalign/HBR_Rep2_ERCC-Mix2_Build37-ErccTranscripts-chr22\u001b[24m \u001b[4m../input/human_cdna_bulk_brain/HBR_Rep2_ERCC-Mix2_Build37-ErccTranscripts-chr22.read1.fastq.gz\u001b[24m \u001b[4m../input/human_cdna_bulk_brain/HBR_Rep2_ERCC-Mix2_Build37-ErccTranscripts-chr22.read2.fastq.gz\u001b[24m`\n"
     ]
    },
    {
     "name": "stderr",
     "output_type": "stream",
     "text": [
      "\n",
      "[quant] fragment length distribution will be estimated from the data\n",
      "[index] k-mer length: 31\n",
      "[index] number of targets: 187,626\n",
      "[index] number of k-mers: 108,619,921\n",
      "[index] number of equivalence classes: 752,021\n",
      "[quant] running in paired-end mode\n",
      "[quant] will process pair 1: ../input/human_cdna_bulk_brain/HBR_Rep2_ERCC-Mix2_Build37-ErccTranscripts-chr22.read1.fastq.gz\n",
      "                             ../input/human_cdna_bulk_brain/HBR_Rep2_ERCC-Mix2_Build37-ErccTranscripts-chr22.read2.fastq.gz\n",
      "[quant] finding pseudoalignments for the reads ... done\n",
      "[quant] processed 144,826 reads, 50,179 reads pseudoaligned\n",
      "[quant] estimated average fragment length: 168.225\n",
      "[   em] quantifying the abundances ... done\n",
      "[   em] the Expectation-Maximization algorithm ran for 722 rounds\n",
      "\n"
     ]
    },
    {
     "name": "stdout",
     "output_type": "stream",
     "text": [
      "Done at 2021-08-20T18:49:29.023 in 1 minute, 30 seconds, 4 milliseconds.\n",
      "\n",
      "Working on sample: HBR_Rep3_ERCC-Mix2_Build37-ErccTranscripts-chr22\n",
      "\n",
      "Counting transcript ...\n",
      "\n",
      "`\u001b[4mkallisto\u001b[24m \u001b[4mquant\u001b[24m \u001b[4m--threads\u001b[24m \u001b[4m6\u001b[24m \u001b[4m--index\u001b[24m \u001b[4m../input/human_reference_transcriptome/Homo_sapiens.GRCh38.cdna.all.fa.gz.kallisto_index\u001b[24m \u001b[4m--output-dir\u001b[24m \u001b[4m../output/human_cdna_bulk_brain/psuedoalign/HBR_Rep3_ERCC-Mix2_Build37-ErccTranscripts-chr22\u001b[24m \u001b[4m../input/human_cdna_bulk_brain/HBR_Rep3_ERCC-Mix2_Build37-ErccTranscripts-chr22.read1.fastq.gz\u001b[24m \u001b[4m../input/human_cdna_bulk_brain/HBR_Rep3_ERCC-Mix2_Build37-ErccTranscripts-chr22.read2.fastq.gz\u001b[24m`\n"
     ]
    },
    {
     "name": "stderr",
     "output_type": "stream",
     "text": [
      "\n",
      "[quant] fragment length distribution will be estimated from the data\n",
      "[index] k-mer length: 31\n",
      "[index] number of targets: 187,626\n",
      "[index] number of k-mers: 108,619,921\n",
      "[index] number of equivalence classes: 752,021\n",
      "[quant] running in paired-end mode\n",
      "[quant] will process pair 1: ../input/human_cdna_bulk_brain/HBR_Rep3_ERCC-Mix2_Build37-ErccTranscripts-chr22.read1.fastq.gz\n",
      "                             ../input/human_cdna_bulk_brain/HBR_Rep3_ERCC-Mix2_Build37-ErccTranscripts-chr22.read2.fastq.gz\n",
      "[quant] finding pseudoalignments for the reads ... done\n",
      "[quant] processed 129,786 reads, 44,494 reads pseudoaligned\n",
      "[quant] estimated average fragment length: 171.237\n",
      "[   em] quantifying the abundances ... done\n",
      "[   em] the Expectation-Maximization algorithm ran for 795 rounds\n",
      "\n"
     ]
    },
    {
     "name": "stdout",
     "output_type": "stream",
     "text": [
      "Done at 2021-08-20T18:51:02.224 in 1 minute, 33 seconds, 201 milliseconds.\n",
      "\n"
     ]
    }
   ],
   "source": [
    "na_ = [\"R1\", \"read1\"]\n",
    "\n",
    "naf = \"\"\n",
    "\n",
    "for fq1 in re_ \n",
    "\n",
    "    for na in na_ if occursin(na, fq1)\n",
    "               \n",
    "            naf = na\n",
    "            \n",
    "            nar = replace(naf, \"1\" => \"2\")\n",
    "            \n",
    "            fq2 = replace(fq1, naf => nar)\n",
    "           \n",
    "            if !isfile(fq2)\n",
    "                \n",
    "                fq2 = nothing\n",
    "                \n",
    "            end\n",
    "                \n",
    "            sa = last(splitdir(splitext(split(fq1, naf)[1])[1]))\n",
    "\n",
    "            println(\"Working on sample: $sa\\n\")\n",
    "\n",
    "            pak = joinpath(pao, \"psuedoalign/\", sa)\n",
    "\n",
    "            Kate.count_transcript(\n",
    "                paf,\n",
    "                pak,\n",
    "                n_jo,\n",
    "                fq1,\n",
    "                fq2,\n",
    "                fr,\n",
    "                sd,\n",
    "            )\n",
    "           \n",
    "        end\n",
    "        \n",
    "    end\n",
    " \n",
    "end"
   ]
  },
  {
   "cell_type": "markdown",
   "id": "5bb18de4-15eb-4f44-9b6b-05ec3bb24c0d",
   "metadata": {},
   "source": [
    "### Make transcript by sample"
   ]
  },
  {
   "cell_type": "code",
   "execution_count": 16,
   "id": "568e843f-e017-4347-bf2c-f6f07e405fd4",
   "metadata": {},
   "outputs": [
    {
     "name": "stderr",
     "output_type": "stream",
     "text": [
      "\u001b[32m\u001b[1m   Updating\u001b[22m\u001b[39m registry at `/opt/julia/registries/General`\n",
      "######################################################################### 100.0%\n",
      "\u001b[32m\u001b[1m  Resolving\u001b[22m\u001b[39m package versions...\n",
      "\u001b[32m\u001b[1m  Installed\u001b[22m\u001b[39m Missings ────────── v0.4.5\n",
      "\u001b[32m\u001b[1m  Installed\u001b[22m\u001b[39m CodeTracking ────── v1.0.6\n",
      "\u001b[32m\u001b[1m  Installed\u001b[22m\u001b[39m InvertedIndices ─── v1.0.0\n",
      "\u001b[32m\u001b[1m  Installed\u001b[22m\u001b[39m Compat ──────────── v3.32.0\n",
      "\u001b[32m\u001b[1m  Installed\u001b[22m\u001b[39m Tables ──────────── v1.2.2\n",
      "\u001b[32m\u001b[1m  Installed\u001b[22m\u001b[39m DataFrames ──────── v0.22.7\n",
      "\u001b[32m\u001b[1m  Installed\u001b[22m\u001b[39m DataAPI ─────────── v1.4.0\n",
      "\u001b[32m\u001b[1m  Installed\u001b[22m\u001b[39m DataStructures ──── v0.18.10\n",
      "\u001b[32m\u001b[1m  Installed\u001b[22m\u001b[39m TableTraits ─────── v1.0.0\n",
      "\u001b[32m\u001b[1m  Installed\u001b[22m\u001b[39m JSON ────────────── v0.21.2\n",
      "\u001b[32m\u001b[1m  Installed\u001b[22m\u001b[39m Revise ──────────── v3.1.19\n",
      "\u001b[32m\u001b[1m  Installed\u001b[22m\u001b[39m JuliaInterpreter ── v0.8.19\n",
      "\u001b[32m\u001b[1m  Installed\u001b[22m\u001b[39m CSV ─────────────── v0.8.2\n",
      "\u001b[32m\u001b[1m  Installed\u001b[22m\u001b[39m SentinelArrays ──── v1.2.16\n",
      "\u001b[32m\u001b[1m  Installed\u001b[22m\u001b[39m Parsers ─────────── v1.0.15\n",
      "\u001b[32m\u001b[1m  Installed\u001b[22m\u001b[39m SortingAlgorithms ─ v0.3.1\n",
      "\u001b[32m\u001b[1m  Installed\u001b[22m\u001b[39m PooledArrays ────── v0.5.3\n",
      "\u001b[32m\u001b[1m  Installed\u001b[22m\u001b[39m StructTypes ─────── v1.7.2\n",
      "\u001b[32m\u001b[1m  Installed\u001b[22m\u001b[39m CategoricalArrays ─ v0.9.0\n",
      "\u001b[32m\u001b[1m  Installed\u001b[22m\u001b[39m PrettyTables ────── v0.11.1\n",
      "\u001b[32m\u001b[1mNo Changes\u001b[22m\u001b[39m to `~/Kate.jl/Project.toml`\n",
      "\u001b[32m\u001b[1mNo Changes\u001b[22m\u001b[39m to `~/Kate.jl/Manifest.toml`\n"
     ]
    }
   ],
   "source": [
    "using Pkg;\n",
    "\n",
    "Pkg.add(\"DataFrames\")"
   ]
  },
  {
   "cell_type": "code",
   "execution_count": 19,
   "id": "84085e30-4982-4589-9645-6964f5cbf8a1",
   "metadata": {},
   "outputs": [
    {
     "name": "stderr",
     "output_type": "stream",
     "text": [
      "\u001b[32m\u001b[1m  Resolving\u001b[22m\u001b[39m package versions...\n",
      "\u001b[32m\u001b[1mNo Changes\u001b[22m\u001b[39m to `~/Kate.jl/Project.toml`\n",
      "\u001b[32m\u001b[1mNo Changes\u001b[22m\u001b[39m to `~/Kate.jl/Manifest.toml`\n"
     ]
    }
   ],
   "source": [
    "using Pkg;\n",
    "\n",
    "Pkg.add(\"CSV\")"
   ]
  },
  {
   "cell_type": "code",
   "execution_count": 31,
   "id": "4290727f-8b9b-4804-a7af-0c61e8125e66",
   "metadata": {},
   "outputs": [
    {
     "name": "stderr",
     "output_type": "stream",
     "text": [
      "\u001b[32m\u001b[1mPrecompiling\u001b[22m\u001b[39m project...\n",
      "┌ Info: Precompiling CSV [336ed68f-0bac-5ca0-87d4-7b16caf5d00b]\n",
      "└ @ Base loading.jl:1278\n",
      "┌ Info: Precompiling Revise [295af30f-e4ad-537b-8983-00126c2a3abe]\n",
      "└ @ Base loading.jl:1278\n",
      "┌ Info: Precompiling Kate [5a7925ad-7fa1-49f4-b2ba-08ed1d7bf936]\n",
      "└ @ Base loading.jl:1278\n"
     ]
    }
   ],
   "source": [
    "Pkg.precompile()"
   ]
  },
  {
   "cell_type": "code",
   "execution_count": 32,
   "id": "29fa641e-0d0b-4f1e-b591-5575301523ff",
   "metadata": {
    "tags": []
   },
   "outputs": [
    {
     "name": "stdout",
     "output_type": "stream",
     "text": [
      "../output/human_cdna_ashwyn_sharma/psuedoalign/503DCC-4_/abundance.tsv\n"
     ]
    },
    {
     "ename": "LoadError",
     "evalue": "\u001b[91mMethodError: no method matching CSV.PointerString(::Ptr{UInt8}, ::Int64)\u001b[39m",
     "output_type": "error",
     "traceback": [
      "\u001b[91mMethodError: no method matching CSV.PointerString(::Ptr{UInt8}, ::Int64)\u001b[39m",
      "",
      "Stacktrace:",
      " [1] detect(::Array{AbstractArray{T,1} where T,1}, ::Array{UInt8,1}, ::Int64, ::Int64, ::Parsers.Options{false,true,true,false,Missing,UInt8,Nothing}, ::Int64, ::Int64, ::Int64, ::Dict{Type,Type}, ::Float64, ::Array{CSV.RefPool,1}, ::Bool, ::Array{Type,1}, ::Array{UInt8,1}, ::Int64) at /opt/julia/packages/CSV/Zl2ww/src/file.jl:852",
      " [2] parserow at /opt/julia/packages/CSV/Zl2ww/src/file.jl:658 [inlined]",
      " [3] parsefilechunk!(::Val{false}, ::Int64, ::Dict{Type,Type}, ::Array{AbstractArray{T,1} where T,1}, ::Array{UInt8,1}, ::Int64, ::Int64, ::Int64, ::Array{Int64,1}, ::Float64, ::Array{CSV.RefPool,1}, ::Int64, ::Int64, ::Array{Type,1}, ::Array{UInt8,1}, ::Bool, ::Parsers.Options{false,true,true,false,Missing,UInt8,Nothing}, ::Nothing, ::Type{Tuple{}}, ::Int64) at /opt/julia/packages/CSV/Zl2ww/src/file.jl:550",
      " [4] CSV.File(::CSV.Header{false,Parsers.Options{false,true,true,false,Missing,UInt8,Nothing},Array{UInt8,1}}; finalizebuffer::Bool, startingbyteposition::Nothing, endingbyteposition::Nothing, limit::Nothing, threaded::Nothing, typemap::Dict{Type,Type}, tasks::Int64, lines_to_check::Int64, maxwarnings::Int64, debug::Bool) at /opt/julia/packages/CSV/Zl2ww/src/file.jl:309",
      " [5] CSV.File(::String; header::Int64, normalizenames::Bool, datarow::Int64, skipto::Nothing, footerskip::Int64, transpose::Bool, comment::Nothing, use_mmap::Nothing, ignoreemptylines::Bool, select::Nothing, drop::Nothing, missingstrings::Array{String,1}, missingstring::String, delim::Nothing, ignorerepeated::Bool, quotechar::Char, openquotechar::Nothing, closequotechar::Nothing, escapechar::Char, dateformat::Nothing, dateformats::Nothing, decimal::UInt8, truestrings::Array{String,1}, falsestrings::Array{String,1}, type::Nothing, types::Nothing, typemap::Dict{Type,Type}, pool::Float64, lazystrings::Bool, strict::Bool, silencewarnings::Bool, debug::Bool, parsingdebug::Bool, kw::Base.Iterators.Pairs{Union{},Union{},Tuple{},NamedTuple{(),Tuple{}}}) at /opt/julia/packages/CSV/Zl2ww/src/file.jl:224",
      " [6] CSV.File(::String) at /opt/julia/packages/CSV/Zl2ww/src/file.jl:223",
      " [7] top-level scope at ./In[32]:15",
      " [8] include_string(::Function, ::Module, ::String, ::String) at ./loading.jl:1091"
     ]
    }
   ],
   "source": [
    "using CSV\n",
    "\n",
    "using DataFrames\n",
    "\n",
    "tpm_ = DataFrame()\n",
    "\n",
    "for di in readdir(joinpath(\"../output/\", ex, \"psuedoalign/\"), join = true)\n",
    "    \n",
    "    if !occursin(\"DS_Store\", di)\n",
    "        \n",
    "        pa = string(joinpath(di, \"abundance.tsv\"))\n",
    "\n",
    "        println(pa)\n",
    "        \n",
    "        fi = CSV.File(pa)\n",
    "\n",
    "#         ab = DataFrameCSV.File(pa))\n",
    "\n",
    "#         append!(tpm_, ab)\n",
    "    \n",
    "    end\n",
    "\n",
    "end\n",
    "\n",
    "# rename!(tpm_, :target_id => :id)\n",
    "\n",
    "# CSV.write(joinpath(\"../output/\", ex, \"transcript_x_sample.tsv\"), tpm_)"
   ]
  },
  {
   "cell_type": "markdown",
   "id": "57db8160-dcce-4d38-9e21-047e64d25ebd",
   "metadata": {},
   "source": [
    "### Make gene by sample"
   ]
  },
  {
   "cell_type": "code",
   "execution_count": null,
   "id": "eb1ad903-c22d-4fcd-9b9b-8727a35392a7",
   "metadata": {
    "tags": []
   },
   "outputs": [],
   "source": [
    "using Statistics\n",
    "\n",
    "tr_ge = DataFrame(CSV.File(pat, delim=\"\\t\"))\n",
    "    \n",
    "tr_ge = rename!(tr_ge,  Dict(\"Transcript stable ID version\" => :id, \"Gene name\" => :gene))\n",
    "\n",
    "# Map transcript to gene name\n",
    "\n",
    "co_tr_ge = sort!(rightjoin(tpm_, tr_ge, on = :id), :gene)\n",
    "\n",
    "co_tr_ge = co_tr_ge[:, [:id, :tpm, :gene]]\n",
    "\n",
    "# Save the mean tpm for each gene\n",
    "\n",
    "gr = groupby(co_tr_ge, :gene)\n",
    "\n",
    "tp_ge_sa = combine(grouped, :tpm => mean)\n",
    "\n",
    "# Save gene by sample\n",
    "\n",
    "CSV.write(joinpath(\"../output/\", ex, \"gene_x_sample.tsv\"), tp_ge_sa)"
   ]
  }
 ],
 "metadata": {
  "kernelspec": {
   "display_name": "Julia 1.5.2",
   "language": "julia",
   "name": "julia-1.5"
  },
  "language_info": {
   "file_extension": ".jl",
   "mimetype": "application/julia",
   "name": "julia",
   "version": "1.5.2"
  }
 },
 "nbformat": 4,
 "nbformat_minor": 5
}
