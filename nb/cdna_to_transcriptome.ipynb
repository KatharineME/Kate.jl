{
 "cells": [
  {
   "cell_type": "code",
   "execution_count": null,
   "id": "ec4b5eb7-f81d-4399-a82e-7bdd64904648",
   "metadata": {},
   "outputs": [],
   "source": [
    "using Revise\n",
    "\n",
    "using Kate"
   ]
  },
  {
   "cell_type": "markdown",
   "id": "ad3d58f3-45fa-4dfe-a9f2-f3cf5ff75cf8",
   "metadata": {},
   "source": [
    "### Test Environment"
   ]
  },
  {
   "cell_type": "code",
   "execution_count": null,
   "id": "fb7653c8-f7ab-40b9-a892-c27f2cb29342",
   "metadata": {},
   "outputs": [],
   "source": [
    "Kate.test()"
   ]
  },
  {
   "cell_type": "markdown",
   "id": "3a1d84f5-d234-4b8b-a6e6-dd3876c97d02",
   "metadata": {},
   "source": [
    "### Set Parameters"
   ]
  },
  {
   "cell_type": "code",
   "execution_count": null,
   "id": "66d2aaeb-79a5-4001-97a5-6673946c2c30",
   "metadata": {
    "tags": []
   },
   "outputs": [],
   "source": [
    "# Sample name\n",
    "sa = \"human_rna_bulk_brain/\"\n",
    "\n",
    "# Strandedness: pe (paired end) or se (single end)\n",
    "st = \"pe\"\n",
    "\n",
    "# Fragment length, not needed if paired end\n",
    "fr=51\n",
    "\n",
    "# Standard deviation of read length, not needed if paired end\n",
    "sd=0.05\n",
    "\n",
    "# Reference transcriptome\n",
    "paf = \"../input/human_reference_transcriptome/Homo_sapiens.GRCh38.cdna.all.fa.gz\"\n",
    "\n",
    "pat = \"../input/human_reference_transcriptome/enst_gene_name.tsv\"\n",
    "\n",
    "n_jo = 2\n",
    "\n",
    "pas = joinpath(\"../input/\", sa)\n",
    "\n",
    "pao = joinpath(\"../output/\", sa)"
   ]
  },
  {
   "cell_type": "markdown",
   "id": "d4990a8b-be36-4481-8dd4-abb8e28dd73f",
   "metadata": {},
   "source": [
    "### Count transcripts"
   ]
  },
  {
   "cell_type": "code",
   "execution_count": null,
   "id": "ad6eeecb-2463-4084-b434-f040d1b9f23d",
   "metadata": {},
   "outputs": [],
   "source": [
    "for fq1 in readdir(pas; join = true)\n",
    "    \n",
    "    println(fq1)\n",
    "\n",
    "    if occursin(\"R1\", fq1)\n",
    "        \n",
    "        fq2 = replace(fq1, \"R1\" => \"R2\")\n",
    "\n",
    "        na = split(string(split(fq1, \".fastq\")[1]), \"/\")[4]\n",
    "        \n",
    "        paco = joinpath(pao, \"kallisto/\", na)\n",
    "\n",
    "        println(paco)\n",
    "        \n",
    "        Kate.count_transcript(\n",
    "            paf,\n",
    "            paco,\n",
    "            n_jo,\n",
    "            fq1,\n",
    "            fq2,\n",
    "            ty,\n",
    "            fr,\n",
    "            sd,\n",
    "        )\n",
    "\n",
    "    end\n",
    "\n",
    "end"
   ]
  },
  {
   "cell_type": "markdown",
   "id": "5bb18de4-15eb-4f44-9b6b-05ec3bb24c0d",
   "metadata": {},
   "source": [
    "### Make transcript by sample"
   ]
  },
  {
   "cell_type": "code",
   "execution_count": null,
   "id": "29fa641e-0d0b-4f1e-b591-5575301523ff",
   "metadata": {
    "tags": []
   },
   "outputs": [],
   "source": [
    "using CSV\n",
    "\n",
    "using DataFrames\n",
    "\n",
    "tpm_ = DataFrame()\n",
    "\n",
    "for di in readdir(joinpath(\"../output/\", sa, \"kallisto/\"), join = true)\n",
    "    \n",
    "    if !occursin(\"DS_Store\", di)\n",
    "        \n",
    "        pa = joinpath(di, \"abundance.tsv\")\n",
    "\n",
    "        println(pa)\n",
    "\n",
    "        ab = DataFrame(CSV.File(pa, delim='\\t'))\n",
    "\n",
    "        append!(tpm_, ab)\n",
    "    \n",
    "    end\n",
    "\n",
    "end\n",
    "\n",
    "rename!(tpm_, :target_id => :id)\n",
    "\n",
    "CSV.write(joinpath(\"../output/\", sa, \"transcript_x_sample.tsv\"), tpm_)"
   ]
  },
  {
   "cell_type": "markdown",
   "id": "57db8160-dcce-4d38-9e21-047e64d25ebd",
   "metadata": {},
   "source": [
    "### Make gene by sample"
   ]
  },
  {
   "cell_type": "code",
   "execution_count": null,
   "id": "eb1ad903-c22d-4fcd-9b9b-8727a35392a7",
   "metadata": {
    "tags": []
   },
   "outputs": [],
   "source": [
    "using Statistics\n",
    "\n",
    "tr_ge = DataFrame(CSV.File(pat, delim=\"\\t\"))\n",
    "    \n",
    "tr_ge = rename!(tr_ge,  Dict(\"Transcript stable ID version\" => :id, \"Gene name\" => :gene))\n",
    "\n",
    "# Map transcript to gene name\n",
    "\n",
    "co_tr_ge = sort!(rightjoin(tpm_, tr_ge, on = :id), :gene)\n",
    "\n",
    "co_tr_ge = co_tr_ge[:, [:id, :tpm, :gene]]\n",
    "\n",
    "# Save the mean tpm for each gene\n",
    "\n",
    "gr = groupby(co_tr_ge, :gene)\n",
    "\n",
    "tp_ge_sa = combine(grouped, :tpm => mean)\n",
    "\n",
    "# Save gene by sample\n",
    "\n",
    "CSV.write(joinpath(\"../output/\", sa, \"gene_x_sample.tsv\"), tp_ge_sa)"
   ]
  }
 ],
 "metadata": {
  "kernelspec": {
   "display_name": "Julia 1.5.2",
   "language": "julia",
   "name": "julia-1.5"
  },
  "language_info": {
   "file_extension": ".jl",
   "mimetype": "application/julia",
   "name": "julia",
   "version": "1.5.2"
  }
 },
 "nbformat": 4,
 "nbformat_minor": 5
}
