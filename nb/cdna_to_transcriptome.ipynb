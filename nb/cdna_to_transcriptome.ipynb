{
 "cells": [
  {
   "cell_type": "code",
   "execution_count": 3,
   "id": "ec4b5eb7-f81d-4399-a82e-7bdd64904648",
   "metadata": {},
   "outputs": [],
   "source": [
    "using Revise\n",
    "\n",
    "using Kate"
   ]
  },
  {
   "cell_type": "markdown",
   "id": "ad3d58f3-45fa-4dfe-a9f2-f3cf5ff75cf8",
   "metadata": {},
   "source": [
    "### Test Environment"
   ]
  },
  {
   "cell_type": "code",
   "execution_count": 4,
   "id": "fb7653c8-f7ab-40b9-a892-c27f2cb29342",
   "metadata": {
    "tags": []
   },
   "outputs": [
    {
     "name": "stdout",
     "output_type": "stream",
     "text": [
      "Testing environment...\n",
      "`\u001b[4mwhich\u001b[24m \u001b[4mskewer\u001b[24m`\n",
      "/opt/conda/bin/skewer\n",
      "`\u001b[4mwhich\u001b[24m \u001b[4mfastqc\u001b[24m`\n",
      "/opt/conda/bin/fastqc\n",
      "`\u001b[4mwhich\u001b[24m \u001b[4mbgzip\u001b[24m`\n",
      "/opt/conda/bin/bgzip\n",
      "`\u001b[4mwhich\u001b[24m \u001b[4mtabix\u001b[24m`\n",
      "/opt/conda/bin/tabix\n",
      "`\u001b[4mwhich\u001b[24m \u001b[4mminimap2\u001b[24m`\n",
      "/opt/conda/bin/minimap2\n",
      "`\u001b[4mwhich\u001b[24m \u001b[4msamtools\u001b[24m`\n",
      "/opt/conda/bin/samtools\n",
      "`\u001b[4mwhich\u001b[24m \u001b[4mbcftools\u001b[24m`\n",
      "/opt/conda/bin/bcftools\n",
      "`\u001b[4mwhich\u001b[24m \u001b[4mkallisto\u001b[24m`\n",
      "/opt/conda/bin/kallisto\n",
      "`\u001b[4mbash\u001b[24m \u001b[4m-c\u001b[24m \u001b[4m'source activate py2 && which configManta.py'\u001b[24m`\n",
      "/opt/conda/envs/py2/bin/configManta.py\n",
      "`\u001b[4mbash\u001b[24m \u001b[4m-c\u001b[24m \u001b[4m'source activate py2 && which configureStrelkaGermlineWorkflow.py'\u001b[24m`\n",
      "/opt/conda/envs/py2/bin/configureStrelkaGermlineWorkflow.py\n",
      "`\u001b[4mbash\u001b[24m \u001b[4m-c\u001b[24m \u001b[4m'source activate py2 && which configureStrelkaSomaticWorkflow.py'\u001b[24m`\n",
      "/opt/conda/envs/py2/bin/configureStrelkaSomaticWorkflow.py\n"
     ]
    }
   ],
   "source": [
    "Kate.test()"
   ]
  },
  {
   "cell_type": "markdown",
   "id": "3a1d84f5-d234-4b8b-a6e6-dd3876c97d02",
   "metadata": {},
   "source": [
    "### Set Parameters"
   ]
  },
  {
   "cell_type": "code",
   "execution_count": 5,
   "id": "7b7d9204-26a7-4423-b2bf-50f58bb284ee",
   "metadata": {
    "tags": []
   },
   "outputs": [],
   "source": [
    "# Experiment \n",
    "ex = \"human_cdna_valeria\"\n",
    "\n",
    "# Fragment length (not needed if paired end)\n",
    "fr=51\n",
    "\n",
    "# Standard deviation of read length (not needed if paired end)\n",
    "sd=0.05\n",
    "\n",
    "# Reference transcriptome\n",
    "paf = \"../input/human_reference_transcriptome/Homo_sapiens.GRCh38.cdna.all.fa.gz\"\n",
    "\n",
    "pat = \"../input/human_reference_transcriptome/enst_gene_name.tsv\"\n",
    "\n",
    "n_jo = 6;"
   ]
  },
  {
   "cell_type": "code",
   "execution_count": 6,
   "id": "94002ede-dbda-44fd-9b03-fab240be0557",
   "metadata": {
    "tags": []
   },
   "outputs": [],
   "source": [
    "pai = joinpath(\"../input/\") \n",
    "\n",
    "pae = joinpath(pai, ex)\n",
    "\n",
    "pao = joinpath(\"../output/\", ex);"
   ]
  },
  {
   "cell_type": "markdown",
   "id": "97675c11-9431-48f2-ae80-c3602dc99ee3",
   "metadata": {},
   "source": [
    "### Check reads"
   ]
  },
  {
   "cell_type": "code",
   "execution_count": 9,
   "id": "261b7f79-fac0-43a9-ba72-5404522c8a2b",
   "metadata": {
    "tags": []
   },
   "outputs": [
    {
     "name": "stdout",
     "output_type": "stream",
     "text": [
      "Walking sample directory: ../input/human_cdna_valeria\n",
      "\n",
      "Walking sample directory: ../input/human_cdna_valeria/raw_data\n",
      "\n",
      "Walking sample directory: ../input/human_cdna_valeria/raw_data/P293_1h_16\n",
      "\n",
      "Walking sample directory: ../input/human_cdna_valeria/raw_data/P293_1h_17\n",
      "\n",
      "Walking sample directory: ../input/human_cdna_valeria/raw_data/P293_1h_18\n",
      "\n",
      "Walking sample directory: ../input/human_cdna_valeria/raw_data/P293_2h_25\n",
      "\n",
      "Walking sample directory: ../input/human_cdna_valeria/raw_data/P293_2h_26\n",
      "\n",
      "Walking sample directory: ../input/human_cdna_valeria/raw_data/P293_2h_27\n",
      "\n",
      "Walking sample directory: ../input/human_cdna_valeria/raw_data/P293_b_13\n",
      "\n",
      "Walking sample directory: ../input/human_cdna_valeria/raw_data/P293_b_14\n",
      "\n",
      "Walking sample directory: ../input/human_cdna_valeria/raw_data/P293_b_15\n",
      "\n",
      "Walking sample directory: ../input/human_cdna_valeria/raw_data/dGRK_1h_10\n",
      "\n",
      "Walking sample directory: ../input/human_cdna_valeria/raw_data/dGRK_1h_11\n",
      "\n",
      "Walking sample directory: ../input/human_cdna_valeria/raw_data/dGRK_1h_12\n",
      "\n",
      "Walking sample directory: ../input/human_cdna_valeria/raw_data/dGRK_2h_40\n",
      "\n",
      "Walking sample directory: ../input/human_cdna_valeria/raw_data/dGRK_2h_41\n",
      "\n",
      "Walking sample directory: ../input/human_cdna_valeria/raw_data/dGRK_2h_42\n",
      "\n",
      "Walking sample directory: ../input/human_cdna_valeria/raw_data/dGRK_b_7\n",
      "\n",
      "Walking sample directory: ../input/human_cdna_valeria/raw_data/dGRK_b_8\n",
      "\n",
      "Walking sample directory: ../input/human_cdna_valeria/raw_data/dGRK_b_9\n",
      "\n",
      "Walking sample directory: ../input/human_cdna_valeria/raw_data/dGas_1h_6\n",
      "\n",
      "Walking sample directory: ../input/human_cdna_valeria/raw_data/dGas_1h_7\n",
      "\n",
      "Walking sample directory: ../input/human_cdna_valeria/raw_data/dGas_1h_8\n",
      "\n",
      "Walking sample directory: ../input/human_cdna_valeria/raw_data/dGas_2h_11\n",
      "\n",
      "Walking sample directory: ../input/human_cdna_valeria/raw_data/dGas_2h_12\n",
      "\n",
      "Walking sample directory: ../input/human_cdna_valeria/raw_data/dGas_2h_15\n",
      "\n",
      "Walking sample directory: ../input/human_cdna_valeria/raw_data/dGas_b_1\n",
      "\n",
      "Walking sample directory: ../input/human_cdna_valeria/raw_data/dGas_b_2\n",
      "\n",
      "Walking sample directory: ../input/human_cdna_valeria/raw_data/dGas_b_3\n",
      "\n",
      "Walking sample directory: ../input/human_cdna_valeria/raw_data/darrest_1h_1\n",
      "\n",
      "Walking sample directory: ../input/human_cdna_valeria/raw_data/darrest_1h_2\n",
      "\n",
      "Walking sample directory: ../input/human_cdna_valeria/raw_data/darrest_1h_3\n",
      "\n",
      "Walking sample directory: ../input/human_cdna_valeria/raw_data/darrest_2h_4\n",
      "\n",
      "Walking sample directory: ../input/human_cdna_valeria/raw_data/darrest_2h_5\n",
      "\n",
      "Walking sample directory: ../input/human_cdna_valeria/raw_data/darrest_2h_6\n",
      "\n",
      "Walking sample directory: ../input/human_cdna_valeria/raw_data/darrest_b_43\n",
      "\n",
      "Walking sample directory: ../input/human_cdna_valeria/raw_data/darrest_b_44\n",
      "\n",
      "Walking sample directory: ../input/human_cdna_valeria/raw_data/darrest_b_45\n",
      "\n",
      "Walking sample directory: ../input/human_cdna_valeria/report\n",
      "\n",
      "Number of .fastq or .fq files found in directories walked: 0\n",
      "\n",
      "Number of fastq.gz or fq.gz files found in directories walked: 72\n",
      "\n",
      "Done at 2021-08-23T21:52:32.944 in 107 milliseconds.\n",
      "\n"
     ]
    },
    {
     "data": {
      "text/plain": [
       "72-element Array{Any,1}:\n",
       " \"../input/human_cdna_valeria/raw_data/P293_1h_16/P293_1h_16_1.fq.gz\"\n",
       " \"../input/human_cdna_valeria/raw_data/P293_1h_16/P293_1h_16_2.fq.gz\"\n",
       " \"../input/human_cdna_valeria/raw_data/P293_1h_17/P293_1h_17_1.fq.gz\"\n",
       " \"../input/human_cdna_valeria/raw_data/P293_1h_17/P293_1h_17_2.fq.gz\"\n",
       " \"../input/human_cdna_valeria/raw_data/P293_1h_18/P293_1h_18_1.fq.gz\"\n",
       " \"../input/human_cdna_valeria/raw_data/P293_1h_18/P293_1h_18_2.fq.gz\"\n",
       " \"../input/human_cdna_valeria/raw_data/P293_2h_25/P293_2h_25_1.fq.gz\"\n",
       " \"../input/human_cdna_valeria/raw_data/P293_2h_25/P293_2h_25_2.fq.gz\"\n",
       " \"../input/human_cdna_valeria/raw_data/P293_2h_26/P293_2h_26_1.fq.gz\"\n",
       " \"../input/human_cdna_valeria/raw_data/P293_2h_26/P293_2h_26_2.fq.gz\"\n",
       " \"../input/human_cdna_valeria/raw_data/P293_2h_27/P293_2h_27_1.fq.gz\"\n",
       " \"../input/human_cdna_valeria/raw_data/P293_2h_27/P293_2h_27_2.fq.gz\"\n",
       " \"../input/human_cdna_valeria/raw_data/P293_b_13/P293_b_13_1.fq.gz\"\n",
       " ⋮\n",
       " \"../input/human_cdna_valeria/raw_data/darrest_2h_4/darrest_2h_4_1.fq.gz\"\n",
       " \"../input/human_cdna_valeria/raw_data/darrest_2h_4/darrest_2h_4_2.fq.gz\"\n",
       " \"../input/human_cdna_valeria/raw_data/darrest_2h_5/darrest_2h_5_1.fq.gz\"\n",
       " \"../input/human_cdna_valeria/raw_data/darrest_2h_5/darrest_2h_5_2.fq.gz\"\n",
       " \"../input/human_cdna_valeria/raw_data/darrest_2h_6/darrest_2h_6_1.fq.gz\"\n",
       " \"../input/human_cdna_valeria/raw_data/darrest_2h_6/darrest_2h_6_2.fq.gz\"\n",
       " \"../input/human_cdna_valeria/raw_data/darrest_b_43/darrest_b_43_1.fq.gz\"\n",
       " \"../input/human_cdna_valeria/raw_data/darrest_b_43/darrest_b_43_2.fq.gz\"\n",
       " \"../input/human_cdna_valeria/raw_data/darrest_b_44/darrest_b_44_1.fq.gz\"\n",
       " \"../input/human_cdna_valeria/raw_data/darrest_b_44/darrest_b_44_2.fq.gz\"\n",
       " \"../input/human_cdna_valeria/raw_data/darrest_b_45/darrest_b_45_1.fq.gz\"\n",
       " \"../input/human_cdna_valeria/raw_data/darrest_b_45/darrest_b_45_2.fq.gz\""
      ]
     },
     "execution_count": 9,
     "metadata": {},
     "output_type": "execute_result"
    }
   ],
   "source": [
    "re_ = Kate.find(pae)"
   ]
  },
  {
   "cell_type": "code",
   "execution_count": null,
   "id": "eab53d7a-3450-4dd7-a28d-c95fc169da50",
   "metadata": {},
   "outputs": [],
   "source": [
    "Kate.check(\n",
    "    re_,\n",
    "    joinpath(pao, ex, string(\"check_raw\")),\n",
    "    n_jo,\n",
    ")"
   ]
  },
  {
   "cell_type": "markdown",
   "id": "4b2c39e5-a4b9-47c1-8177-e155f809bcce",
   "metadata": {},
   "source": [
    "### Count transcript"
   ]
  },
  {
   "cell_type": "code",
   "execution_count": 13,
   "id": "15b06fe2-5ac3-407f-a524-47f150554932",
   "metadata": {},
   "outputs": [
    {
     "name": "stdout",
     "output_type": "stream",
     "text": [
      "Working on sample: P293_1h_16\n",
      "\n",
      "Counting transcript ...\n",
      "\n",
      "`\u001b[4mkallisto\u001b[24m \u001b[4mquant\u001b[24m \u001b[4m--threads\u001b[24m \u001b[4m6\u001b[24m \u001b[4m--index\u001b[24m \u001b[4m../input/human_reference_transcriptome/Homo_sapiens.GRCh38.cdna.all.fa.gz.kallisto_index\u001b[24m \u001b[4m--output-dir\u001b[24m \u001b[4m../output/human_cdna_valeria/psuedoalign/P293_1h_16\u001b[24m \u001b[4m../input/human_cdna_valeria/raw_data/P293_1h_16/P293_1h_16_1.fq.gz\u001b[24m \u001b[4m../input/human_cdna_valeria/raw_data/P293_1h_16/P293_1h_16_2.fq.gz\u001b[24m`\n"
     ]
    },
    {
     "name": "stderr",
     "output_type": "stream",
     "text": [
      "\n",
      "[quant] fragment length distribution will be estimated from the data\n",
      "[index] k-mer length: 31\n",
      "[index] number of targets: 187,626\n",
      "[index] number of k-mers: 108,619,921\n",
      "[index] number of equivalence classes: 752,021\n",
      "[quant] running in paired-end mode\n",
      "[quant] will process pair 1: ../input/human_cdna_valeria/raw_data/P293_1h_16/P293_1h_16_1.fq.gz\n",
      "                             ../input/human_cdna_valeria/raw_data/P293_1h_16/P293_1h_16_2.fq.gz\n",
      "[quant] finding pseudoalignments for the reads ... done\n",
      "[quant] processed 21,965,741 reads, 19,339,496 reads pseudoaligned\n",
      "[quant] estimated average fragment length: 290.914\n",
      "[   em] quantifying the abundances ... done\n",
      "[   em] the Expectation-Maximization algorithm ran for 1,722 rounds\n",
      "\n"
     ]
    },
    {
     "name": "stdout",
     "output_type": "stream",
     "text": [
      "Done at 2021-08-24T01:26:12.244 in 4 minutes, 14 seconds, 629 milliseconds.\n",
      "\n",
      "Working on sample: P293_1h_17\n",
      "\n",
      "Counting transcript ...\n",
      "\n",
      "`\u001b[4mkallisto\u001b[24m \u001b[4mquant\u001b[24m \u001b[4m--threads\u001b[24m \u001b[4m6\u001b[24m \u001b[4m--index\u001b[24m \u001b[4m../input/human_reference_transcriptome/Homo_sapiens.GRCh38.cdna.all.fa.gz.kallisto_index\u001b[24m \u001b[4m--output-dir\u001b[24m \u001b[4m../output/human_cdna_valeria/psuedoalign/P293_1h_17\u001b[24m \u001b[4m../input/human_cdna_valeria/raw_data/P293_1h_17/P293_1h_17_1.fq.gz\u001b[24m \u001b[4m../input/human_cdna_valeria/raw_data/P293_1h_17/P293_1h_17_2.fq.gz\u001b[24m`\n"
     ]
    },
    {
     "name": "stderr",
     "output_type": "stream",
     "text": [
      "\n",
      "[quant] fragment length distribution will be estimated from the data\n",
      "[index] k-mer length: 31\n",
      "[index] number of targets: 187,626\n",
      "[index] number of k-mers: 108,619,921\n",
      "[index] number of equivalence classes: 752,021\n",
      "[quant] running in paired-end mode\n",
      "[quant] will process pair 1: ../input/human_cdna_valeria/raw_data/P293_1h_17/P293_1h_17_1.fq.gz\n",
      "                             ../input/human_cdna_valeria/raw_data/P293_1h_17/P293_1h_17_2.fq.gz\n",
      "[quant] finding pseudoalignments for the reads ... done\n",
      "[quant] processed 23,489,242 reads, 20,583,454 reads pseudoaligned\n",
      "[quant] estimated average fragment length: 291.104\n",
      "[   em] quantifying the abundances ... done\n",
      "[   em] the Expectation-Maximization algorithm ran for 1,166 rounds\n",
      "\n"
     ]
    },
    {
     "name": "stdout",
     "output_type": "stream",
     "text": [
      "Done at 2021-08-24T01:30:03.378 in 3 minutes, 51 seconds, 132 milliseconds.\n",
      "\n",
      "Working on sample: P293_1h_18\n",
      "\n",
      "Counting transcript ...\n",
      "\n",
      "`\u001b[4mkallisto\u001b[24m \u001b[4mquant\u001b[24m \u001b[4m--threads\u001b[24m \u001b[4m6\u001b[24m \u001b[4m--index\u001b[24m \u001b[4m../input/human_reference_transcriptome/Homo_sapiens.GRCh38.cdna.all.fa.gz.kallisto_index\u001b[24m \u001b[4m--output-dir\u001b[24m \u001b[4m../output/human_cdna_valeria/psuedoalign/P293_1h_18\u001b[24m \u001b[4m../input/human_cdna_valeria/raw_data/P293_1h_18/P293_1h_18_1.fq.gz\u001b[24m \u001b[4m../input/human_cdna_valeria/raw_data/P293_1h_18/P293_1h_18_2.fq.gz\u001b[24m`\n"
     ]
    },
    {
     "name": "stderr",
     "output_type": "stream",
     "text": [
      "\n",
      "[quant] fragment length distribution will be estimated from the data\n",
      "[index] k-mer length: 31\n",
      "[index] number of targets: 187,626\n",
      "[index] number of k-mers: 108,619,921\n",
      "[index] number of equivalence classes: 752,021\n",
      "[quant] running in paired-end mode\n",
      "[quant] will process pair 1: ../input/human_cdna_valeria/raw_data/P293_1h_18/P293_1h_18_1.fq.gz\n",
      "                             ../input/human_cdna_valeria/raw_data/P293_1h_18/P293_1h_18_2.fq.gz\n",
      "[quant] finding pseudoalignments for the reads ... done\n",
      "[quant] processed 22,961,455 reads, 20,187,293 reads pseudoaligned\n",
      "[quant] estimated average fragment length: 278.817\n",
      "[   em] quantifying the abundances ... done\n",
      "[   em] the Expectation-Maximization algorithm ran for 1,080 rounds\n",
      "\n"
     ]
    },
    {
     "name": "stdout",
     "output_type": "stream",
     "text": [
      "Done at 2021-08-24T01:33:48.85 in 3 minutes, 45 seconds, 471 milliseconds.\n",
      "\n",
      "Working on sample: P293_2h_25\n",
      "\n",
      "Counting transcript ...\n",
      "\n",
      "`\u001b[4mkallisto\u001b[24m \u001b[4mquant\u001b[24m \u001b[4m--threads\u001b[24m \u001b[4m6\u001b[24m \u001b[4m--index\u001b[24m \u001b[4m../input/human_reference_transcriptome/Homo_sapiens.GRCh38.cdna.all.fa.gz.kallisto_index\u001b[24m \u001b[4m--output-dir\u001b[24m \u001b[4m../output/human_cdna_valeria/psuedoalign/P293_2h_25\u001b[24m \u001b[4m../input/human_cdna_valeria/raw_data/P293_2h_25/P293_2h_25_1.fq.gz\u001b[24m \u001b[4m../input/human_cdna_valeria/raw_data/P293_2h_25/P293_2h_25_2.fq.gz\u001b[24m`\n"
     ]
    },
    {
     "name": "stderr",
     "output_type": "stream",
     "text": [
      "\n",
      "[quant] fragment length distribution will be estimated from the data\n",
      "[index] k-mer length: 31\n",
      "[index] number of targets: 187,626\n",
      "[index] number of k-mers: 108,619,921\n",
      "[index] number of equivalence classes: 752,021\n",
      "[quant] running in paired-end mode\n",
      "[quant] will process pair 1: ../input/human_cdna_valeria/raw_data/P293_2h_25/P293_2h_25_1.fq.gz\n",
      "                             ../input/human_cdna_valeria/raw_data/P293_2h_25/P293_2h_25_2.fq.gz\n",
      "[quant] finding pseudoalignments for the reads ... done\n",
      "[quant] processed 89,674,970 reads, 78,698,726 reads pseudoaligned\n",
      "[quant] estimated average fragment length: 287.618\n",
      "[   em] quantifying the abundances ... done\n",
      "[   em] the Expectation-Maximization algorithm ran for 1,274 rounds\n",
      "\n"
     ]
    },
    {
     "name": "stdout",
     "output_type": "stream",
     "text": [
      "Done at 2021-08-24T01:45:38.231 in 11 minutes, 49 seconds, 380 milliseconds.\n",
      "\n",
      "Working on sample: P293_2h_26\n",
      "\n",
      "Counting transcript ...\n",
      "\n",
      "`\u001b[4mkallisto\u001b[24m \u001b[4mquant\u001b[24m \u001b[4m--threads\u001b[24m \u001b[4m6\u001b[24m \u001b[4m--index\u001b[24m \u001b[4m../input/human_reference_transcriptome/Homo_sapiens.GRCh38.cdna.all.fa.gz.kallisto_index\u001b[24m \u001b[4m--output-dir\u001b[24m \u001b[4m../output/human_cdna_valeria/psuedoalign/P293_2h_26\u001b[24m \u001b[4m../input/human_cdna_valeria/raw_data/P293_2h_26/P293_2h_26_1.fq.gz\u001b[24m \u001b[4m../input/human_cdna_valeria/raw_data/P293_2h_26/P293_2h_26_2.fq.gz\u001b[24m`\n"
     ]
    },
    {
     "name": "stderr",
     "output_type": "stream",
     "text": [
      "\n",
      "[quant] fragment length distribution will be estimated from the data\n",
      "[index] k-mer length: 31\n",
      "[index] number of targets: 187,626\n",
      "[index] number of k-mers: 108,619,921\n",
      "[index] number of equivalence classes: 752,021\n",
      "[quant] running in paired-end mode\n",
      "[quant] will process pair 1: ../input/human_cdna_valeria/raw_data/P293_2h_26/P293_2h_26_1.fq.gz\n",
      "                             ../input/human_cdna_valeria/raw_data/P293_2h_26/P293_2h_26_2.fq.gz\n",
      "[quant] finding pseudoalignments for the reads ... done\n",
      "[quant] processed 24,937,107 reads, 21,810,855 reads pseudoaligned\n",
      "[quant] estimated average fragment length: 292.138\n",
      "[   em] quantifying the abundances ... done\n",
      "[   em] the Expectation-Maximization algorithm ran for 1,145 rounds\n",
      "\n"
     ]
    },
    {
     "name": "stdout",
     "output_type": "stream",
     "text": [
      "Done at 2021-08-24T01:49:50.283 in 4 minutes, 12 seconds, 41 milliseconds.\n",
      "\n",
      "Working on sample: P293_2h_27\n",
      "\n",
      "Counting transcript ...\n",
      "\n",
      "`\u001b[4mkallisto\u001b[24m \u001b[4mquant\u001b[24m \u001b[4m--threads\u001b[24m \u001b[4m6\u001b[24m \u001b[4m--index\u001b[24m \u001b[4m../input/human_reference_transcriptome/Homo_sapiens.GRCh38.cdna.all.fa.gz.kallisto_index\u001b[24m \u001b[4m--output-dir\u001b[24m \u001b[4m../output/human_cdna_valeria/psuedoalign/P293_2h_27\u001b[24m \u001b[4m../input/human_cdna_valeria/raw_data/P293_2h_27/P293_2h_27_1.fq.gz\u001b[24m \u001b[4m../input/human_cdna_valeria/raw_data/P293_2h_27/P293_2h_27_2.fq.gz\u001b[24m`\n"
     ]
    },
    {
     "name": "stderr",
     "output_type": "stream",
     "text": [
      "\n",
      "[quant] fragment length distribution will be estimated from the data\n",
      "[index] k-mer length: 31\n",
      "[index] number of targets: 187,626\n",
      "[index] number of k-mers: 108,619,921\n",
      "[index] number of equivalence classes: 752,021\n",
      "[quant] running in paired-end mode\n",
      "[quant] will process pair 1: ../input/human_cdna_valeria/raw_data/P293_2h_27/P293_2h_27_1.fq.gz\n",
      "                             ../input/human_cdna_valeria/raw_data/P293_2h_27/P293_2h_27_2.fq.gz\n",
      "[quant] finding pseudoalignments for the reads ... done\n",
      "[quant] processed 19,622,790 reads, 17,809,491 reads pseudoaligned\n",
      "[quant] estimated average fragment length: 216.389\n",
      "[   em] quantifying the abundances ... done\n",
      "[   em] the Expectation-Maximization algorithm ran for 1,224 rounds\n",
      "\n"
     ]
    },
    {
     "name": "stdout",
     "output_type": "stream",
     "text": [
      "Done at 2021-08-24T01:53:29.406 in 3 minutes, 39 seconds, 119 milliseconds.\n",
      "\n",
      "Working on sample: P293_b_13\n",
      "\n",
      "Counting transcript ...\n",
      "\n",
      "`\u001b[4mkallisto\u001b[24m \u001b[4mquant\u001b[24m \u001b[4m--threads\u001b[24m \u001b[4m6\u001b[24m \u001b[4m--index\u001b[24m \u001b[4m../input/human_reference_transcriptome/Homo_sapiens.GRCh38.cdna.all.fa.gz.kallisto_index\u001b[24m \u001b[4m--output-dir\u001b[24m \u001b[4m../output/human_cdna_valeria/psuedoalign/P293_b_13\u001b[24m \u001b[4m../input/human_cdna_valeria/raw_data/P293_b_13/P293_b_13_1.fq.gz\u001b[24m \u001b[4m../input/human_cdna_valeria/raw_data/P293_b_13/P293_b_13_2.fq.gz\u001b[24m`\n"
     ]
    },
    {
     "name": "stderr",
     "output_type": "stream",
     "text": [
      "\n",
      "[quant] fragment length distribution will be estimated from the data\n",
      "[index] k-mer length: 31\n",
      "[index] number of targets: 187,626\n",
      "[index] number of k-mers: 108,619,921\n",
      "[index] number of equivalence classes: 752,021\n",
      "[quant] running in paired-end mode\n",
      "[quant] will process pair 1: ../input/human_cdna_valeria/raw_data/P293_b_13/P293_b_13_1.fq.gz\n",
      "                             ../input/human_cdna_valeria/raw_data/P293_b_13/P293_b_13_2.fq.gz\n",
      "[quant] finding pseudoalignments for the reads ... done\n",
      "[quant] processed 24,417,083 reads, 22,103,922 reads pseudoaligned\n",
      "[quant] estimated average fragment length: 237.481\n",
      "[   em] quantifying the abundances ... done\n",
      "[   em] the Expectation-Maximization algorithm ran for 1,421 rounds\n",
      "\n"
     ]
    },
    {
     "name": "stdout",
     "output_type": "stream",
     "text": [
      "Done at 2021-08-24T01:57:40.785 in 4 minutes, 11 seconds, 374 milliseconds.\n",
      "\n",
      "Working on sample: P293_b_14\n",
      "\n",
      "Counting transcript ...\n",
      "\n",
      "`\u001b[4mkallisto\u001b[24m \u001b[4mquant\u001b[24m \u001b[4m--threads\u001b[24m \u001b[4m6\u001b[24m \u001b[4m--index\u001b[24m \u001b[4m../input/human_reference_transcriptome/Homo_sapiens.GRCh38.cdna.all.fa.gz.kallisto_index\u001b[24m \u001b[4m--output-dir\u001b[24m \u001b[4m../output/human_cdna_valeria/psuedoalign/P293_b_14\u001b[24m \u001b[4m../input/human_cdna_valeria/raw_data/P293_b_14/P293_b_14_1.fq.gz\u001b[24m \u001b[4m../input/human_cdna_valeria/raw_data/P293_b_14/P293_b_14_2.fq.gz\u001b[24m`\n"
     ]
    },
    {
     "name": "stderr",
     "output_type": "stream",
     "text": [
      "\n",
      "[quant] fragment length distribution will be estimated from the data\n",
      "[index] k-mer length: 31\n",
      "[index] number of targets: 187,626\n",
      "[index] number of k-mers: 108,619,921\n",
      "[index] number of equivalence classes: 752,021\n",
      "[quant] running in paired-end mode\n",
      "[quant] will process pair 1: ../input/human_cdna_valeria/raw_data/P293_b_14/P293_b_14_1.fq.gz\n",
      "                             ../input/human_cdna_valeria/raw_data/P293_b_14/P293_b_14_2.fq.gz\n",
      "[quant] finding pseudoalignments for the reads ... done\n",
      "[quant] processed 21,149,304 reads, 18,710,411 reads pseudoaligned\n",
      "[quant] estimated average fragment length: 284.461\n",
      "[   em] quantifying the abundances ... done\n",
      "[   em] the Expectation-Maximization algorithm ran for 1,295 rounds\n",
      "\n"
     ]
    },
    {
     "name": "stdout",
     "output_type": "stream",
     "text": [
      "Done at 2021-08-24T02:01:39.773 in 3 minutes, 58 seconds, 984 milliseconds.\n",
      "\n",
      "Working on sample: P293_b_15\n",
      "\n",
      "Counting transcript ...\n",
      "\n",
      "`\u001b[4mkallisto\u001b[24m \u001b[4mquant\u001b[24m \u001b[4m--threads\u001b[24m \u001b[4m6\u001b[24m \u001b[4m--index\u001b[24m \u001b[4m../input/human_reference_transcriptome/Homo_sapiens.GRCh38.cdna.all.fa.gz.kallisto_index\u001b[24m \u001b[4m--output-dir\u001b[24m \u001b[4m../output/human_cdna_valeria/psuedoalign/P293_b_15\u001b[24m \u001b[4m../input/human_cdna_valeria/raw_data/P293_b_15/P293_b_15_1.fq.gz\u001b[24m \u001b[4m../input/human_cdna_valeria/raw_data/P293_b_15/P293_b_15_2.fq.gz\u001b[24m`\n"
     ]
    },
    {
     "name": "stderr",
     "output_type": "stream",
     "text": [
      "\n",
      "[quant] fragment length distribution will be estimated from the data\n",
      "[index] k-mer length: 31\n",
      "[index] number of targets: 187,626\n",
      "[index] number of k-mers: 108,619,921\n",
      "[index] number of equivalence classes: 752,021\n",
      "[quant] running in paired-end mode\n",
      "[quant] will process pair 1: ../input/human_cdna_valeria/raw_data/P293_b_15/P293_b_15_1.fq.gz\n",
      "                             ../input/human_cdna_valeria/raw_data/P293_b_15/P293_b_15_2.fq.gz\n",
      "[quant] finding pseudoalignments for the reads ... done\n",
      "[quant] processed 21,239,059 reads, 18,809,477 reads pseudoaligned\n",
      "[quant] estimated average fragment length: 288.473\n",
      "[   em] quantifying the abundances ... done\n",
      "[   em] the Expectation-Maximization algorithm ran for 1,031 rounds\n",
      "\n"
     ]
    },
    {
     "name": "stdout",
     "output_type": "stream",
     "text": [
      "Done at 2021-08-24T02:05:34.055 in 3 minutes, 54 seconds, 279 milliseconds.\n",
      "\n",
      "Working on sample: dGRK_1h_10\n",
      "\n",
      "Counting transcript ...\n",
      "\n",
      "`\u001b[4mkallisto\u001b[24m \u001b[4mquant\u001b[24m \u001b[4m--threads\u001b[24m \u001b[4m6\u001b[24m \u001b[4m--index\u001b[24m \u001b[4m../input/human_reference_transcriptome/Homo_sapiens.GRCh38.cdna.all.fa.gz.kallisto_index\u001b[24m \u001b[4m--output-dir\u001b[24m \u001b[4m../output/human_cdna_valeria/psuedoalign/dGRK_1h_10\u001b[24m \u001b[4m../input/human_cdna_valeria/raw_data/dGRK_1h_10/dGRK_1h_10_1.fq.gz\u001b[24m \u001b[4m../input/human_cdna_valeria/raw_data/dGRK_1h_10/dGRK_1h_10_2.fq.gz\u001b[24m`\n"
     ]
    },
    {
     "name": "stderr",
     "output_type": "stream",
     "text": [
      "\n",
      "[quant] fragment length distribution will be estimated from the data\n",
      "[index] k-mer length: 31\n",
      "[index] number of targets: 187,626\n",
      "[index] number of k-mers: 108,619,921\n",
      "[index] number of equivalence classes: 752,021\n",
      "[quant] running in paired-end mode\n",
      "[quant] will process pair 1: ../input/human_cdna_valeria/raw_data/dGRK_1h_10/dGRK_1h_10_1.fq.gz\n",
      "                             ../input/human_cdna_valeria/raw_data/dGRK_1h_10/dGRK_1h_10_2.fq.gz\n",
      "[quant] finding pseudoalignments for the reads ... done\n",
      "[quant] processed 19,745,834 reads, 17,325,367 reads pseudoaligned\n",
      "[quant] estimated average fragment length: 279.824\n",
      "[   em] quantifying the abundances ... done\n",
      "[   em] the Expectation-Maximization algorithm ran for 1,538 rounds\n",
      "\n"
     ]
    },
    {
     "name": "stdout",
     "output_type": "stream",
     "text": [
      "Done at 2021-08-24T02:09:27.296 in 3 minutes, 53 seconds, 237 milliseconds.\n",
      "\n",
      "Working on sample: dGRK_1h_11\n",
      "\n",
      "Counting transcript ...\n",
      "\n",
      "`\u001b[4mkallisto\u001b[24m \u001b[4mquant\u001b[24m \u001b[4m--threads\u001b[24m \u001b[4m6\u001b[24m \u001b[4m--index\u001b[24m \u001b[4m../input/human_reference_transcriptome/Homo_sapiens.GRCh38.cdna.all.fa.gz.kallisto_index\u001b[24m \u001b[4m--output-dir\u001b[24m \u001b[4m../output/human_cdna_valeria/psuedoalign/dGRK_1h_11\u001b[24m \u001b[4m../input/human_cdna_valeria/raw_data/dGRK_1h_11/dGRK_1h_11_1.fq.gz\u001b[24m \u001b[4m../input/human_cdna_valeria/raw_data/dGRK_1h_11/dGRK_1h_11_2.fq.gz\u001b[24m`\n"
     ]
    },
    {
     "name": "stderr",
     "output_type": "stream",
     "text": [
      "\n",
      "[quant] fragment length distribution will be estimated from the data\n",
      "[index] k-mer length: 31\n",
      "[index] number of targets: 187,626\n",
      "[index] number of k-mers: 108,619,921\n",
      "[index] number of equivalence classes: 752,021\n",
      "[quant] running in paired-end mode\n",
      "[quant] will process pair 1: ../input/human_cdna_valeria/raw_data/dGRK_1h_11/dGRK_1h_11_1.fq.gz\n",
      "                             ../input/human_cdna_valeria/raw_data/dGRK_1h_11/dGRK_1h_11_2.fq.gz\n",
      "[quant] finding pseudoalignments for the reads ... done\n",
      "[quant] processed 23,026,337 reads, 20,208,415 reads pseudoaligned\n",
      "[quant] estimated average fragment length: 287.16\n",
      "[   em] quantifying the abundances ... done\n",
      "[   em] the Expectation-Maximization algorithm ran for 1,271 rounds\n",
      "\n"
     ]
    },
    {
     "name": "stdout",
     "output_type": "stream",
     "text": [
      "Done at 2021-08-24T02:13:30.869 in 4 minutes, 3 seconds, 571 milliseconds.\n",
      "\n",
      "Working on sample: dGRK_1h_12\n",
      "\n",
      "Counting transcript ...\n",
      "\n",
      "`\u001b[4mkallisto\u001b[24m \u001b[4mquant\u001b[24m \u001b[4m--threads\u001b[24m \u001b[4m6\u001b[24m \u001b[4m--index\u001b[24m \u001b[4m../input/human_reference_transcriptome/Homo_sapiens.GRCh38.cdna.all.fa.gz.kallisto_index\u001b[24m \u001b[4m--output-dir\u001b[24m \u001b[4m../output/human_cdna_valeria/psuedoalign/dGRK_1h_12\u001b[24m \u001b[4m../input/human_cdna_valeria/raw_data/dGRK_1h_12/dGRK_1h_12_1.fq.gz\u001b[24m \u001b[4m../input/human_cdna_valeria/raw_data/dGRK_1h_12/dGRK_1h_12_2.fq.gz\u001b[24m`\n"
     ]
    },
    {
     "name": "stderr",
     "output_type": "stream",
     "text": [
      "\n",
      "[quant] fragment length distribution will be estimated from the data\n",
      "[index] k-mer length: 31\n",
      "[index] number of targets: 187,626\n",
      "[index] number of k-mers: 108,619,921\n",
      "[index] number of equivalence classes: 752,021\n",
      "[quant] running in paired-end mode\n",
      "[quant] will process pair 1: ../input/human_cdna_valeria/raw_data/dGRK_1h_12/dGRK_1h_12_1.fq.gz\n",
      "                             ../input/human_cdna_valeria/raw_data/dGRK_1h_12/dGRK_1h_12_2.fq.gz\n",
      "[quant] finding pseudoalignments for the reads ... done\n",
      "[quant] processed 20,805,461 reads, 18,270,221 reads pseudoaligned\n",
      "[quant] estimated average fragment length: 284.177\n",
      "[   em] quantifying the abundances ... done\n",
      "[   em] the Expectation-Maximization algorithm ran for 1,182 rounds\n",
      "\n"
     ]
    },
    {
     "name": "stdout",
     "output_type": "stream",
     "text": [
      "Done at 2021-08-24T02:17:26.204 in 3 minutes, 55 seconds, 331 milliseconds.\n",
      "\n",
      "Working on sample: dGRK_2h_40\n",
      "\n",
      "Counting transcript ...\n",
      "\n",
      "`\u001b[4mkallisto\u001b[24m \u001b[4mquant\u001b[24m \u001b[4m--threads\u001b[24m \u001b[4m6\u001b[24m \u001b[4m--index\u001b[24m \u001b[4m../input/human_reference_transcriptome/Homo_sapiens.GRCh38.cdna.all.fa.gz.kallisto_index\u001b[24m \u001b[4m--output-dir\u001b[24m \u001b[4m../output/human_cdna_valeria/psuedoalign/dGRK_2h_40\u001b[24m \u001b[4m../input/human_cdna_valeria/raw_data/dGRK_2h_40/dGRK_2h_40_1.fq.gz\u001b[24m \u001b[4m../input/human_cdna_valeria/raw_data/dGRK_2h_40/dGRK_2h_40_2.fq.gz\u001b[24m`\n"
     ]
    },
    {
     "name": "stderr",
     "output_type": "stream",
     "text": [
      "\n",
      "[quant] fragment length distribution will be estimated from the data\n",
      "[index] k-mer length: 31\n",
      "[index] number of targets: 187,626\n",
      "[index] number of k-mers: 108,619,921\n",
      "[index] number of equivalence classes: 752,021\n",
      "[quant] running in paired-end mode\n",
      "[quant] will process pair 1: ../input/human_cdna_valeria/raw_data/dGRK_2h_40/dGRK_2h_40_1.fq.gz\n",
      "                             ../input/human_cdna_valeria/raw_data/dGRK_2h_40/dGRK_2h_40_2.fq.gz\n",
      "[quant] finding pseudoalignments for the reads ... done\n",
      "[quant] processed 20,238,224 reads, 17,857,791 reads pseudoaligned\n",
      "[quant] estimated average fragment length: 285.226\n",
      "[   em] quantifying the abundances ... done\n",
      "[   em] the Expectation-Maximization algorithm ran for 1,261 rounds\n",
      "\n"
     ]
    },
    {
     "name": "stdout",
     "output_type": "stream",
     "text": [
      "Done at 2021-08-24T02:21:17.045 in 3 minutes, 50 seconds, 839 milliseconds.\n",
      "\n",
      "Working on sample: dGRK_2h_41\n",
      "\n",
      "Counting transcript ...\n",
      "\n",
      "`\u001b[4mkallisto\u001b[24m \u001b[4mquant\u001b[24m \u001b[4m--threads\u001b[24m \u001b[4m6\u001b[24m \u001b[4m--index\u001b[24m \u001b[4m../input/human_reference_transcriptome/Homo_sapiens.GRCh38.cdna.all.fa.gz.kallisto_index\u001b[24m \u001b[4m--output-dir\u001b[24m \u001b[4m../output/human_cdna_valeria/psuedoalign/dGRK_2h_41\u001b[24m \u001b[4m../input/human_cdna_valeria/raw_data/dGRK_2h_41/dGRK_2h_41_1.fq.gz\u001b[24m \u001b[4m../input/human_cdna_valeria/raw_data/dGRK_2h_41/dGRK_2h_41_2.fq.gz\u001b[24m`\n"
     ]
    },
    {
     "name": "stderr",
     "output_type": "stream",
     "text": [
      "\n",
      "[quant] fragment length distribution will be estimated from the data\n",
      "[index] k-mer length: 31\n",
      "[index] number of targets: 187,626\n",
      "[index] number of k-mers: 108,619,921\n",
      "[index] number of equivalence classes: 752,021\n",
      "[quant] running in paired-end mode\n",
      "[quant] will process pair 1: ../input/human_cdna_valeria/raw_data/dGRK_2h_41/dGRK_2h_41_1.fq.gz\n",
      "                             ../input/human_cdna_valeria/raw_data/dGRK_2h_41/dGRK_2h_41_2.fq.gz\n",
      "[quant] finding pseudoalignments for the reads ... done\n",
      "[quant] processed 19,595,173 reads, 17,191,194 reads pseudoaligned\n",
      "[quant] estimated average fragment length: 285.323\n",
      "[   em] quantifying the abundances ... done\n",
      "[   em] the Expectation-Maximization algorithm ran for 1,134 rounds\n",
      "\n"
     ]
    },
    {
     "name": "stdout",
     "output_type": "stream",
     "text": [
      "Done at 2021-08-24T02:24:58.856 in 3 minutes, 41 seconds, 806 milliseconds.\n",
      "\n",
      "Working on sample: dGRK_2h_42\n",
      "\n",
      "Counting transcript ...\n",
      "\n",
      "`\u001b[4mkallisto\u001b[24m \u001b[4mquant\u001b[24m \u001b[4m--threads\u001b[24m \u001b[4m6\u001b[24m \u001b[4m--index\u001b[24m \u001b[4m../input/human_reference_transcriptome/Homo_sapiens.GRCh38.cdna.all.fa.gz.kallisto_index\u001b[24m \u001b[4m--output-dir\u001b[24m \u001b[4m../output/human_cdna_valeria/psuedoalign/dGRK_2h_42\u001b[24m \u001b[4m../input/human_cdna_valeria/raw_data/dGRK_2h_42/dGRK_2h_42_1.fq.gz\u001b[24m \u001b[4m../input/human_cdna_valeria/raw_data/dGRK_2h_42/dGRK_2h_42_2.fq.gz\u001b[24m`\n"
     ]
    },
    {
     "name": "stderr",
     "output_type": "stream",
     "text": [
      "\n",
      "[quant] fragment length distribution will be estimated from the data\n",
      "[index] k-mer length: 31\n",
      "[index] number of targets: 187,626\n",
      "[index] number of k-mers: 108,619,921\n",
      "[index] number of equivalence classes: 752,021\n",
      "[quant] running in paired-end mode\n",
      "[quant] will process pair 1: ../input/human_cdna_valeria/raw_data/dGRK_2h_42/dGRK_2h_42_1.fq.gz\n",
      "                             ../input/human_cdna_valeria/raw_data/dGRK_2h_42/dGRK_2h_42_2.fq.gz\n",
      "[quant] finding pseudoalignments for the reads ... done\n",
      "[quant] processed 20,425,562 reads, 17,947,804 reads pseudoaligned\n",
      "[quant] estimated average fragment length: 269.217\n",
      "[   em] quantifying the abundances ... done\n",
      "[   em] the Expectation-Maximization algorithm ran for 1,124 rounds\n",
      "\n"
     ]
    },
    {
     "name": "stdout",
     "output_type": "stream",
     "text": [
      "Done at 2021-08-24T02:28:37.905 in 3 minutes, 39 seconds, 48 milliseconds.\n",
      "\n",
      "Working on sample: dGRK_b_7\n",
      "\n",
      "Counting transcript ...\n",
      "\n",
      "`\u001b[4mkallisto\u001b[24m \u001b[4mquant\u001b[24m \u001b[4m--threads\u001b[24m \u001b[4m6\u001b[24m \u001b[4m--index\u001b[24m \u001b[4m../input/human_reference_transcriptome/Homo_sapiens.GRCh38.cdna.all.fa.gz.kallisto_index\u001b[24m \u001b[4m--output-dir\u001b[24m \u001b[4m../output/human_cdna_valeria/psuedoalign/dGRK_b_7\u001b[24m \u001b[4m../input/human_cdna_valeria/raw_data/dGRK_b_7/dGRK_b_7_1.fq.gz\u001b[24m \u001b[4m../input/human_cdna_valeria/raw_data/dGRK_b_7/dGRK_b_7_2.fq.gz\u001b[24m`\n"
     ]
    },
    {
     "name": "stderr",
     "output_type": "stream",
     "text": [
      "\n",
      "[quant] fragment length distribution will be estimated from the data\n",
      "[index] k-mer length: 31\n",
      "[index] number of targets: 187,626\n",
      "[index] number of k-mers: 108,619,921\n",
      "[index] number of equivalence classes: 752,021\n",
      "[quant] running in paired-end mode\n",
      "[quant] will process pair 1: ../input/human_cdna_valeria/raw_data/dGRK_b_7/dGRK_b_7_1.fq.gz\n",
      "                             ../input/human_cdna_valeria/raw_data/dGRK_b_7/dGRK_b_7_2.fq.gz\n",
      "[quant] finding pseudoalignments for the reads ... done\n",
      "[quant] processed 19,644,139 reads, 17,306,929 reads pseudoaligned\n",
      "[quant] estimated average fragment length: 294.928\n",
      "[   em] quantifying the abundances ... done\n",
      "[   em] the Expectation-Maximization algorithm ran for 1,142 rounds\n",
      "\n"
     ]
    },
    {
     "name": "stdout",
     "output_type": "stream",
     "text": [
      "Done at 2021-08-24T02:32:23.053 in 3 minutes, 45 seconds, 145 milliseconds.\n",
      "\n",
      "Working on sample: dGRK_b_8\n",
      "\n",
      "Counting transcript ...\n",
      "\n",
      "`\u001b[4mkallisto\u001b[24m \u001b[4mquant\u001b[24m \u001b[4m--threads\u001b[24m \u001b[4m6\u001b[24m \u001b[4m--index\u001b[24m \u001b[4m../input/human_reference_transcriptome/Homo_sapiens.GRCh38.cdna.all.fa.gz.kallisto_index\u001b[24m \u001b[4m--output-dir\u001b[24m \u001b[4m../output/human_cdna_valeria/psuedoalign/dGRK_b_8\u001b[24m \u001b[4m../input/human_cdna_valeria/raw_data/dGRK_b_8/dGRK_b_8_1.fq.gz\u001b[24m \u001b[4m../input/human_cdna_valeria/raw_data/dGRK_b_8/dGRK_b_8_2.fq.gz\u001b[24m`\n"
     ]
    },
    {
     "name": "stderr",
     "output_type": "stream",
     "text": [
      "\n",
      "[quant] fragment length distribution will be estimated from the data\n",
      "[index] k-mer length: 31\n",
      "[index] number of targets: 187,626\n",
      "[index] number of k-mers: 108,619,921\n",
      "[index] number of equivalence classes: 752,021\n",
      "[quant] running in paired-end mode\n",
      "[quant] will process pair 1: ../input/human_cdna_valeria/raw_data/dGRK_b_8/dGRK_b_8_1.fq.gz\n",
      "                             ../input/human_cdna_valeria/raw_data/dGRK_b_8/dGRK_b_8_2.fq.gz\n",
      "[quant] finding pseudoalignments for the reads ... done\n",
      "[quant] processed 21,149,648 reads, 18,911,303 reads pseudoaligned\n",
      "[quant] estimated average fragment length: 261.195\n",
      "[   em] quantifying the abundances ... done\n",
      "[   em] the Expectation-Maximization algorithm ran for 1,218 rounds\n",
      "\n"
     ]
    },
    {
     "name": "stdout",
     "output_type": "stream",
     "text": [
      "Done at 2021-08-24T02:36:07.961 in 3 minutes, 44 seconds, 905 milliseconds.\n",
      "\n",
      "Working on sample: dGRK_b_9\n",
      "\n",
      "Counting transcript ...\n",
      "\n",
      "`\u001b[4mkallisto\u001b[24m \u001b[4mquant\u001b[24m \u001b[4m--threads\u001b[24m \u001b[4m6\u001b[24m \u001b[4m--index\u001b[24m \u001b[4m../input/human_reference_transcriptome/Homo_sapiens.GRCh38.cdna.all.fa.gz.kallisto_index\u001b[24m \u001b[4m--output-dir\u001b[24m \u001b[4m../output/human_cdna_valeria/psuedoalign/dGRK_b_9\u001b[24m \u001b[4m../input/human_cdna_valeria/raw_data/dGRK_b_9/dGRK_b_9_1.fq.gz\u001b[24m \u001b[4m../input/human_cdna_valeria/raw_data/dGRK_b_9/dGRK_b_9_2.fq.gz\u001b[24m`\n"
     ]
    },
    {
     "name": "stderr",
     "output_type": "stream",
     "text": [
      "\n",
      "[quant] fragment length distribution will be estimated from the data\n",
      "[index] k-mer length: 31\n",
      "[index] number of targets: 187,626\n",
      "[index] number of k-mers: 108,619,921\n",
      "[index] number of equivalence classes: 752,021\n",
      "[quant] running in paired-end mode\n",
      "[quant] will process pair 1: ../input/human_cdna_valeria/raw_data/dGRK_b_9/dGRK_b_9_1.fq.gz\n",
      "                             ../input/human_cdna_valeria/raw_data/dGRK_b_9/dGRK_b_9_2.fq.gz\n",
      "[quant] finding pseudoalignments for the reads ... done\n",
      "[quant] processed 21,744,113 reads, 19,006,781 reads pseudoaligned\n",
      "[quant] estimated average fragment length: 292.95\n",
      "[   em] quantifying the abundances ... done\n",
      "[   em] the Expectation-Maximization algorithm ran for 1,240 rounds\n",
      "\n"
     ]
    },
    {
     "name": "stdout",
     "output_type": "stream",
     "text": [
      "Done at 2021-08-24T02:40:00.03 in 3 minutes, 52 seconds, 67 milliseconds.\n",
      "\n",
      "Working on sample: dGas_1h_6\n",
      "\n",
      "Counting transcript ...\n",
      "\n",
      "`\u001b[4mkallisto\u001b[24m \u001b[4mquant\u001b[24m \u001b[4m--threads\u001b[24m \u001b[4m6\u001b[24m \u001b[4m--index\u001b[24m \u001b[4m../input/human_reference_transcriptome/Homo_sapiens.GRCh38.cdna.all.fa.gz.kallisto_index\u001b[24m \u001b[4m--output-dir\u001b[24m \u001b[4m../output/human_cdna_valeria/psuedoalign/dGas_1h_6\u001b[24m \u001b[4m../input/human_cdna_valeria/raw_data/dGas_1h_6/dGas_1h_6_1.fq.gz\u001b[24m \u001b[4m../input/human_cdna_valeria/raw_data/dGas_1h_6/dGas_1h_6_2.fq.gz\u001b[24m`\n"
     ]
    },
    {
     "name": "stderr",
     "output_type": "stream",
     "text": [
      "\n",
      "[quant] fragment length distribution will be estimated from the data\n",
      "[index] k-mer length: 31\n",
      "[index] number of targets: 187,626\n",
      "[index] number of k-mers: 108,619,921\n",
      "[index] number of equivalence classes: 752,021\n",
      "[quant] running in paired-end mode\n",
      "[quant] will process pair 1: ../input/human_cdna_valeria/raw_data/dGas_1h_6/dGas_1h_6_1.fq.gz\n",
      "                             ../input/human_cdna_valeria/raw_data/dGas_1h_6/dGas_1h_6_2.fq.gz\n",
      "[quant] finding pseudoalignments for the reads ... done\n",
      "[quant] processed 23,379,519 reads, 20,634,840 reads pseudoaligned\n",
      "[quant] estimated average fragment length: 287.135\n",
      "[   em] quantifying the abundances ... done\n",
      "[   em] the Expectation-Maximization algorithm ran for 1,210 rounds\n",
      "\n"
     ]
    },
    {
     "name": "stdout",
     "output_type": "stream",
     "text": [
      "Done at 2021-08-24T02:43:58.946 in 3 minutes, 58 seconds, 914 milliseconds.\n",
      "\n",
      "Working on sample: dGas_1h_7\n",
      "\n",
      "Counting transcript ...\n",
      "\n",
      "`\u001b[4mkallisto\u001b[24m \u001b[4mquant\u001b[24m \u001b[4m--threads\u001b[24m \u001b[4m6\u001b[24m \u001b[4m--index\u001b[24m \u001b[4m../input/human_reference_transcriptome/Homo_sapiens.GRCh38.cdna.all.fa.gz.kallisto_index\u001b[24m \u001b[4m--output-dir\u001b[24m \u001b[4m../output/human_cdna_valeria/psuedoalign/dGas_1h_7\u001b[24m \u001b[4m../input/human_cdna_valeria/raw_data/dGas_1h_7/dGas_1h_7_1.fq.gz\u001b[24m \u001b[4m../input/human_cdna_valeria/raw_data/dGas_1h_7/dGas_1h_7_2.fq.gz\u001b[24m`\n"
     ]
    },
    {
     "name": "stderr",
     "output_type": "stream",
     "text": [
      "\n",
      "[quant] fragment length distribution will be estimated from the data\n",
      "[index] k-mer length: 31\n",
      "[index] number of targets: 187,626\n",
      "[index] number of k-mers: 108,619,921\n",
      "[index] number of equivalence classes: 752,021\n",
      "[quant] running in paired-end mode\n",
      "[quant] will process pair 1: ../input/human_cdna_valeria/raw_data/dGas_1h_7/dGas_1h_7_1.fq.gz\n",
      "                             ../input/human_cdna_valeria/raw_data/dGas_1h_7/dGas_1h_7_2.fq.gz\n",
      "[quant] finding pseudoalignments for the reads ... done\n",
      "[quant] processed 23,264,311 reads, 20,510,239 reads pseudoaligned\n",
      "[quant] estimated average fragment length: 291.934\n",
      "[   em] quantifying the abundances ... done\n",
      "[   em] the Expectation-Maximization algorithm ran for 1,424 rounds\n",
      "\n"
     ]
    },
    {
     "name": "stdout",
     "output_type": "stream",
     "text": [
      "Done at 2021-08-24T02:47:53.115 in 3 minutes, 54 seconds, 167 milliseconds.\n",
      "\n",
      "Working on sample: dGas_1h_8\n",
      "\n",
      "Counting transcript ...\n",
      "\n",
      "`\u001b[4mkallisto\u001b[24m \u001b[4mquant\u001b[24m \u001b[4m--threads\u001b[24m \u001b[4m6\u001b[24m \u001b[4m--index\u001b[24m \u001b[4m../input/human_reference_transcriptome/Homo_sapiens.GRCh38.cdna.all.fa.gz.kallisto_index\u001b[24m \u001b[4m--output-dir\u001b[24m \u001b[4m../output/human_cdna_valeria/psuedoalign/dGas_1h_8\u001b[24m \u001b[4m../input/human_cdna_valeria/raw_data/dGas_1h_8/dGas_1h_8_1.fq.gz\u001b[24m \u001b[4m../input/human_cdna_valeria/raw_data/dGas_1h_8/dGas_1h_8_2.fq.gz\u001b[24m`\n"
     ]
    },
    {
     "name": "stderr",
     "output_type": "stream",
     "text": [
      "\n",
      "[quant] fragment length distribution will be estimated from the data\n",
      "[index] k-mer length: 31\n",
      "[index] number of targets: 187,626\n",
      "[index] number of k-mers: 108,619,921\n",
      "[index] number of equivalence classes: 752,021\n",
      "[quant] running in paired-end mode\n",
      "[quant] will process pair 1: ../input/human_cdna_valeria/raw_data/dGas_1h_8/dGas_1h_8_1.fq.gz\n",
      "                             ../input/human_cdna_valeria/raw_data/dGas_1h_8/dGas_1h_8_2.fq.gz\n",
      "[quant] finding pseudoalignments for the reads ... done\n",
      "[quant] processed 20,318,727 reads, 17,922,015 reads pseudoaligned\n",
      "[quant] estimated average fragment length: 261.8\n",
      "[   em] quantifying the abundances ... done\n",
      "[   em] the Expectation-Maximization algorithm ran for 1,206 rounds\n",
      "\n"
     ]
    },
    {
     "name": "stdout",
     "output_type": "stream",
     "text": [
      "Done at 2021-08-24T02:51:35.918 in 3 minutes, 42 seconds, 801 milliseconds.\n",
      "\n",
      "Working on sample: dGas_2h_11\n",
      "\n",
      "Counting transcript ...\n",
      "\n",
      "`\u001b[4mkallisto\u001b[24m \u001b[4mquant\u001b[24m \u001b[4m--threads\u001b[24m \u001b[4m6\u001b[24m \u001b[4m--index\u001b[24m \u001b[4m../input/human_reference_transcriptome/Homo_sapiens.GRCh38.cdna.all.fa.gz.kallisto_index\u001b[24m \u001b[4m--output-dir\u001b[24m \u001b[4m../output/human_cdna_valeria/psuedoalign/dGas_2h_11\u001b[24m \u001b[4m../input/human_cdna_valeria/raw_data/dGas_2h_11/dGas_2h_11_1.fq.gz\u001b[24m \u001b[4m../input/human_cdna_valeria/raw_data/dGas_2h_11/dGas_2h_11_2.fq.gz\u001b[24m`\n"
     ]
    },
    {
     "name": "stderr",
     "output_type": "stream",
     "text": [
      "\n",
      "[quant] fragment length distribution will be estimated from the data\n",
      "[index] k-mer length: 31\n",
      "[index] number of targets: 187,626\n",
      "[index] number of k-mers: 108,619,921\n",
      "[index] number of equivalence classes: 752,021\n",
      "[quant] running in paired-end mode\n",
      "[quant] will process pair 1: ../input/human_cdna_valeria/raw_data/dGas_2h_11/dGas_2h_11_1.fq.gz\n",
      "                             ../input/human_cdna_valeria/raw_data/dGas_2h_11/dGas_2h_11_2.fq.gz\n",
      "[quant] finding pseudoalignments for the reads ... done\n",
      "[quant] processed 23,754,235 reads, 20,972,360 reads pseudoaligned\n",
      "[quant] estimated average fragment length: 292.354\n",
      "[   em] quantifying the abundances ... done\n",
      "[   em] the Expectation-Maximization algorithm ran for 1,323 rounds\n",
      "\n"
     ]
    },
    {
     "name": "stdout",
     "output_type": "stream",
     "text": [
      "Done at 2021-08-24T02:55:34.071 in 3 minutes, 58 seconds, 150 milliseconds.\n",
      "\n",
      "Working on sample: dGas_2h_12\n",
      "\n",
      "Counting transcript ...\n",
      "\n",
      "`\u001b[4mkallisto\u001b[24m \u001b[4mquant\u001b[24m \u001b[4m--threads\u001b[24m \u001b[4m6\u001b[24m \u001b[4m--index\u001b[24m \u001b[4m../input/human_reference_transcriptome/Homo_sapiens.GRCh38.cdna.all.fa.gz.kallisto_index\u001b[24m \u001b[4m--output-dir\u001b[24m \u001b[4m../output/human_cdna_valeria/psuedoalign/dGas_2h_12\u001b[24m \u001b[4m../input/human_cdna_valeria/raw_data/dGas_2h_12/dGas_2h_12_1.fq.gz\u001b[24m \u001b[4m../input/human_cdna_valeria/raw_data/dGas_2h_12/dGas_2h_12_2.fq.gz\u001b[24m`\n"
     ]
    },
    {
     "name": "stderr",
     "output_type": "stream",
     "text": [
      "\n",
      "[quant] fragment length distribution will be estimated from the data\n",
      "[index] k-mer length: 31\n",
      "[index] number of targets: 187,626\n",
      "[index] number of k-mers: 108,619,921\n",
      "[index] number of equivalence classes: 752,021\n",
      "[quant] running in paired-end mode\n",
      "[quant] will process pair 1: ../input/human_cdna_valeria/raw_data/dGas_2h_12/dGas_2h_12_1.fq.gz\n",
      "                             ../input/human_cdna_valeria/raw_data/dGas_2h_12/dGas_2h_12_2.fq.gz\n",
      "[quant] finding pseudoalignments for the reads ... done\n",
      "[quant] processed 20,401,006 reads, 18,025,310 reads pseudoaligned\n",
      "[quant] estimated average fragment length: 266.945\n",
      "[   em] quantifying the abundances ... done\n",
      "[   em] the Expectation-Maximization algorithm ran for 1,067 rounds\n",
      "\n"
     ]
    },
    {
     "name": "stdout",
     "output_type": "stream",
     "text": [
      "Done at 2021-08-24T02:59:20.268 in 3 minutes, 46 seconds, 196 milliseconds.\n",
      "\n",
      "Working on sample: dGas_2h_15\n",
      "\n",
      "Counting transcript ...\n",
      "\n",
      "`\u001b[4mkallisto\u001b[24m \u001b[4mquant\u001b[24m \u001b[4m--threads\u001b[24m \u001b[4m6\u001b[24m \u001b[4m--index\u001b[24m \u001b[4m../input/human_reference_transcriptome/Homo_sapiens.GRCh38.cdna.all.fa.gz.kallisto_index\u001b[24m \u001b[4m--output-dir\u001b[24m \u001b[4m../output/human_cdna_valeria/psuedoalign/dGas_2h_15\u001b[24m \u001b[4m../input/human_cdna_valeria/raw_data/dGas_2h_15/dGas_2h_15_1.fq.gz\u001b[24m \u001b[4m../input/human_cdna_valeria/raw_data/dGas_2h_15/dGas_2h_15_2.fq.gz\u001b[24m`\n"
     ]
    },
    {
     "name": "stderr",
     "output_type": "stream",
     "text": [
      "\n",
      "[quant] fragment length distribution will be estimated from the data\n",
      "[index] k-mer length: 31\n",
      "[index] number of targets: 187,626\n",
      "[index] number of k-mers: 108,619,921\n",
      "[index] number of equivalence classes: 752,021\n",
      "[quant] running in paired-end mode\n",
      "[quant] will process pair 1: ../input/human_cdna_valeria/raw_data/dGas_2h_15/dGas_2h_15_1.fq.gz\n",
      "                             ../input/human_cdna_valeria/raw_data/dGas_2h_15/dGas_2h_15_2.fq.gz\n",
      "[quant] finding pseudoalignments for the reads ... done\n",
      "[quant] processed 27,729,258 reads, 24,383,499 reads pseudoaligned\n",
      "[quant] estimated average fragment length: 288.779\n",
      "[   em] quantifying the abundances ... done\n",
      "[   em] the Expectation-Maximization algorithm ran for 1,176 rounds\n",
      "\n"
     ]
    },
    {
     "name": "stdout",
     "output_type": "stream",
     "text": [
      "Done at 2021-08-24T03:03:39.177 in 4 minutes, 18 seconds, 907 milliseconds.\n",
      "\n",
      "Working on sample: dGas_b_1\n",
      "\n",
      "Counting transcript ...\n",
      "\n",
      "`\u001b[4mkallisto\u001b[24m \u001b[4mquant\u001b[24m \u001b[4m--threads\u001b[24m \u001b[4m6\u001b[24m \u001b[4m--index\u001b[24m \u001b[4m../input/human_reference_transcriptome/Homo_sapiens.GRCh38.cdna.all.fa.gz.kallisto_index\u001b[24m \u001b[4m--output-dir\u001b[24m \u001b[4m../output/human_cdna_valeria/psuedoalign/dGas_b_1\u001b[24m \u001b[4m../input/human_cdna_valeria/raw_data/dGas_b_1/dGas_b_1_1.fq.gz\u001b[24m \u001b[4m../input/human_cdna_valeria/raw_data/dGas_b_1/dGas_b_1_2.fq.gz\u001b[24m`\n"
     ]
    },
    {
     "name": "stderr",
     "output_type": "stream",
     "text": [
      "\n",
      "[quant] fragment length distribution will be estimated from the data\n",
      "[index] k-mer length: 31\n",
      "[index] number of targets: 187,626\n",
      "[index] number of k-mers: 108,619,921\n",
      "[index] number of equivalence classes: 752,021\n",
      "[quant] running in paired-end mode\n",
      "[quant] will process pair 1: ../input/human_cdna_valeria/raw_data/dGas_b_1/dGas_b_1_1.fq.gz\n",
      "                             ../input/human_cdna_valeria/raw_data/dGas_b_1/dGas_b_1_2.fq.gz\n",
      "[quant] finding pseudoalignments for the reads ... done\n",
      "[quant] processed 24,469,931 reads, 21,543,491 reads pseudoaligned\n",
      "[quant] estimated average fragment length: 285.273\n",
      "[   em] quantifying the abundances ... done\n",
      "[   em] the Expectation-Maximization algorithm ran for 1,275 rounds\n",
      "\n"
     ]
    },
    {
     "name": "stdout",
     "output_type": "stream",
     "text": [
      "Done at 2021-08-24T03:07:41.433 in 4 minutes, 2 seconds, 255 milliseconds.\n",
      "\n",
      "Working on sample: dGas_b_2\n",
      "\n",
      "Counting transcript ...\n",
      "\n",
      "`\u001b[4mkallisto\u001b[24m \u001b[4mquant\u001b[24m \u001b[4m--threads\u001b[24m \u001b[4m6\u001b[24m \u001b[4m--index\u001b[24m \u001b[4m../input/human_reference_transcriptome/Homo_sapiens.GRCh38.cdna.all.fa.gz.kallisto_index\u001b[24m \u001b[4m--output-dir\u001b[24m \u001b[4m../output/human_cdna_valeria/psuedoalign/dGas_b_2\u001b[24m \u001b[4m../input/human_cdna_valeria/raw_data/dGas_b_2/dGas_b_2_1.fq.gz\u001b[24m \u001b[4m../input/human_cdna_valeria/raw_data/dGas_b_2/dGas_b_2_2.fq.gz\u001b[24m`\n"
     ]
    },
    {
     "name": "stderr",
     "output_type": "stream",
     "text": [
      "\n",
      "[quant] fragment length distribution will be estimated from the data\n",
      "[index] k-mer length: 31\n",
      "[index] number of targets: 187,626\n",
      "[index] number of k-mers: 108,619,921\n",
      "[index] number of equivalence classes: 752,021\n",
      "[quant] running in paired-end mode\n",
      "[quant] will process pair 1: ../input/human_cdna_valeria/raw_data/dGas_b_2/dGas_b_2_1.fq.gz\n",
      "                             ../input/human_cdna_valeria/raw_data/dGas_b_2/dGas_b_2_2.fq.gz\n",
      "[quant] finding pseudoalignments for the reads ... done\n",
      "[quant] processed 24,353,952 reads, 21,575,710 reads pseudoaligned\n",
      "[quant] estimated average fragment length: 291.787\n",
      "[   em] quantifying the abundances ... done\n",
      "[   em] the Expectation-Maximization algorithm ran for 1,292 rounds\n",
      "\n"
     ]
    },
    {
     "name": "stdout",
     "output_type": "stream",
     "text": [
      "Done at 2021-08-24T03:11:45.032 in 4 minutes, 3 seconds, 597 milliseconds.\n",
      "\n",
      "Working on sample: dGas_b_3\n",
      "\n",
      "Counting transcript ...\n",
      "\n",
      "`\u001b[4mkallisto\u001b[24m \u001b[4mquant\u001b[24m \u001b[4m--threads\u001b[24m \u001b[4m6\u001b[24m \u001b[4m--index\u001b[24m \u001b[4m../input/human_reference_transcriptome/Homo_sapiens.GRCh38.cdna.all.fa.gz.kallisto_index\u001b[24m \u001b[4m--output-dir\u001b[24m \u001b[4m../output/human_cdna_valeria/psuedoalign/dGas_b_3\u001b[24m \u001b[4m../input/human_cdna_valeria/raw_data/dGas_b_3/dGas_b_3_1.fq.gz\u001b[24m \u001b[4m../input/human_cdna_valeria/raw_data/dGas_b_3/dGas_b_3_2.fq.gz\u001b[24m`\n"
     ]
    },
    {
     "name": "stderr",
     "output_type": "stream",
     "text": [
      "\n",
      "[quant] fragment length distribution will be estimated from the data\n",
      "[index] k-mer length: 31\n",
      "[index] number of targets: 187,626\n",
      "[index] number of k-mers: 108,619,921\n",
      "[index] number of equivalence classes: 752,021\n",
      "[quant] running in paired-end mode\n",
      "[quant] will process pair 1: ../input/human_cdna_valeria/raw_data/dGas_b_3/dGas_b_3_1.fq.gz\n",
      "                             ../input/human_cdna_valeria/raw_data/dGas_b_3/dGas_b_3_2.fq.gz\n",
      "[quant] finding pseudoalignments for the reads ... done\n",
      "[quant] processed 27,302,107 reads, 24,094,044 reads pseudoaligned\n",
      "[quant] estimated average fragment length: 285.905\n",
      "[   em] quantifying the abundances ... done\n",
      "[   em] the Expectation-Maximization algorithm ran for 1,091 rounds\n",
      "\n"
     ]
    },
    {
     "name": "stdout",
     "output_type": "stream",
     "text": [
      "Done at 2021-08-24T03:16:01.385 in 4 minutes, 16 seconds, 351 milliseconds.\n",
      "\n",
      "Working on sample: darrest_1h_1\n",
      "\n",
      "Counting transcript ...\n",
      "\n",
      "`\u001b[4mkallisto\u001b[24m \u001b[4mquant\u001b[24m \u001b[4m--threads\u001b[24m \u001b[4m6\u001b[24m \u001b[4m--index\u001b[24m \u001b[4m../input/human_reference_transcriptome/Homo_sapiens.GRCh38.cdna.all.fa.gz.kallisto_index\u001b[24m \u001b[4m--output-dir\u001b[24m \u001b[4m../output/human_cdna_valeria/psuedoalign/darrest_1h_1\u001b[24m \u001b[4m../input/human_cdna_valeria/raw_data/darrest_1h_1/darrest_1h_1_1.fq.gz\u001b[24m \u001b[4m../input/human_cdna_valeria/raw_data/darrest_1h_1/darrest_1h_1_2.fq.gz\u001b[24m`\n"
     ]
    },
    {
     "name": "stderr",
     "output_type": "stream",
     "text": [
      "\n",
      "[quant] fragment length distribution will be estimated from the data\n",
      "[index] k-mer length: 31\n",
      "[index] number of targets: 187,626\n",
      "[index] number of k-mers: 108,619,921\n",
      "[index] number of equivalence classes: 752,021\n",
      "[quant] running in paired-end mode\n",
      "[quant] will process pair 1: ../input/human_cdna_valeria/raw_data/darrest_1h_1/darrest_1h_1_1.fq.gz\n",
      "                             ../input/human_cdna_valeria/raw_data/darrest_1h_1/darrest_1h_1_2.fq.gz\n",
      "[quant] finding pseudoalignments for the reads ... done\n",
      "[quant] processed 23,616,725 reads, 20,859,002 reads pseudoaligned\n",
      "[quant] estimated average fragment length: 288.102\n",
      "[   em] quantifying the abundances ... done\n",
      "[   em] the Expectation-Maximization algorithm ran for 1,248 rounds\n",
      "\n"
     ]
    },
    {
     "name": "stdout",
     "output_type": "stream",
     "text": [
      "Done at 2021-08-24T03:20:08.447 in 4 minutes, 7 seconds, 59 milliseconds.\n",
      "\n",
      "Working on sample: darrest_1h_2\n",
      "\n",
      "Counting transcript ...\n",
      "\n",
      "`\u001b[4mkallisto\u001b[24m \u001b[4mquant\u001b[24m \u001b[4m--threads\u001b[24m \u001b[4m6\u001b[24m \u001b[4m--index\u001b[24m \u001b[4m../input/human_reference_transcriptome/Homo_sapiens.GRCh38.cdna.all.fa.gz.kallisto_index\u001b[24m \u001b[4m--output-dir\u001b[24m \u001b[4m../output/human_cdna_valeria/psuedoalign/darrest_1h_2\u001b[24m \u001b[4m../input/human_cdna_valeria/raw_data/darrest_1h_2/darrest_1h_2_1.fq.gz\u001b[24m \u001b[4m../input/human_cdna_valeria/raw_data/darrest_1h_2/darrest_1h_2_2.fq.gz\u001b[24m`\n"
     ]
    },
    {
     "name": "stderr",
     "output_type": "stream",
     "text": [
      "\n",
      "[quant] fragment length distribution will be estimated from the data\n",
      "[index] k-mer length: 31\n",
      "[index] number of targets: 187,626\n",
      "[index] number of k-mers: 108,619,921\n",
      "[index] number of equivalence classes: 752,021\n",
      "[quant] running in paired-end mode\n",
      "[quant] will process pair 1: ../input/human_cdna_valeria/raw_data/darrest_1h_2/darrest_1h_2_1.fq.gz\n",
      "                             ../input/human_cdna_valeria/raw_data/darrest_1h_2/darrest_1h_2_2.fq.gz\n",
      "[quant] finding pseudoalignments for the reads ... done\n",
      "[quant] processed 22,332,596 reads, 19,655,362 reads pseudoaligned\n",
      "[quant] estimated average fragment length: 282.267\n",
      "[   em] quantifying the abundances ... done\n",
      "[   em] the Expectation-Maximization algorithm ran for 1,189 rounds\n",
      "\n"
     ]
    },
    {
     "name": "stdout",
     "output_type": "stream",
     "text": [
      "Done at 2021-08-24T03:24:04.719 in 3 minutes, 56 seconds, 270 milliseconds.\n",
      "\n",
      "Working on sample: darrest_1h_3\n",
      "\n",
      "Counting transcript ...\n",
      "\n",
      "`\u001b[4mkallisto\u001b[24m \u001b[4mquant\u001b[24m \u001b[4m--threads\u001b[24m \u001b[4m6\u001b[24m \u001b[4m--index\u001b[24m \u001b[4m../input/human_reference_transcriptome/Homo_sapiens.GRCh38.cdna.all.fa.gz.kallisto_index\u001b[24m \u001b[4m--output-dir\u001b[24m \u001b[4m../output/human_cdna_valeria/psuedoalign/darrest_1h_3\u001b[24m \u001b[4m../input/human_cdna_valeria/raw_data/darrest_1h_3/darrest_1h_3_1.fq.gz\u001b[24m \u001b[4m../input/human_cdna_valeria/raw_data/darrest_1h_3/darrest_1h_3_2.fq.gz\u001b[24m`\n"
     ]
    },
    {
     "name": "stderr",
     "output_type": "stream",
     "text": [
      "\n",
      "[quant] fragment length distribution will be estimated from the data\n",
      "[index] k-mer length: 31\n",
      "[index] number of targets: 187,626\n",
      "[index] number of k-mers: 108,619,921\n",
      "[index] number of equivalence classes: 752,021\n",
      "[quant] running in paired-end mode\n",
      "[quant] will process pair 1: ../input/human_cdna_valeria/raw_data/darrest_1h_3/darrest_1h_3_1.fq.gz\n",
      "                             ../input/human_cdna_valeria/raw_data/darrest_1h_3/darrest_1h_3_2.fq.gz\n",
      "[quant] finding pseudoalignments for the reads ... done\n",
      "[quant] processed 21,142,431 reads, 18,772,970 reads pseudoaligned\n",
      "[quant] estimated average fragment length: 292.511\n",
      "[   em] quantifying the abundances ... done\n",
      "[   em] the Expectation-Maximization algorithm ran for 1,148 rounds\n",
      "\n"
     ]
    },
    {
     "name": "stdout",
     "output_type": "stream",
     "text": [
      "Done at 2021-08-24T03:27:57.893 in 3 minutes, 53 seconds, 171 milliseconds.\n",
      "\n",
      "Working on sample: darrest_2h_4\n",
      "\n",
      "Counting transcript ...\n",
      "\n",
      "`\u001b[4mkallisto\u001b[24m \u001b[4mquant\u001b[24m \u001b[4m--threads\u001b[24m \u001b[4m6\u001b[24m \u001b[4m--index\u001b[24m \u001b[4m../input/human_reference_transcriptome/Homo_sapiens.GRCh38.cdna.all.fa.gz.kallisto_index\u001b[24m \u001b[4m--output-dir\u001b[24m \u001b[4m../output/human_cdna_valeria/psuedoalign/darrest_2h_4\u001b[24m \u001b[4m../input/human_cdna_valeria/raw_data/darrest_2h_4/darrest_2h_4_1.fq.gz\u001b[24m \u001b[4m../input/human_cdna_valeria/raw_data/darrest_2h_4/darrest_2h_4_2.fq.gz\u001b[24m`\n"
     ]
    },
    {
     "name": "stderr",
     "output_type": "stream",
     "text": [
      "\n",
      "[quant] fragment length distribution will be estimated from the data\n",
      "[index] k-mer length: 31\n",
      "[index] number of targets: 187,626\n",
      "[index] number of k-mers: 108,619,921\n",
      "[index] number of equivalence classes: 752,021\n",
      "[quant] running in paired-end mode\n",
      "[quant] will process pair 1: ../input/human_cdna_valeria/raw_data/darrest_2h_4/darrest_2h_4_1.fq.gz\n",
      "                             ../input/human_cdna_valeria/raw_data/darrest_2h_4/darrest_2h_4_2.fq.gz\n",
      "[quant] finding pseudoalignments for the reads ... done\n",
      "[quant] processed 21,349,280 reads, 18,684,385 reads pseudoaligned\n",
      "[quant] estimated average fragment length: 290.567\n",
      "[   em] quantifying the abundances ... done\n",
      "[   em] the Expectation-Maximization algorithm ran for 1,107 rounds\n",
      "\n"
     ]
    },
    {
     "name": "stdout",
     "output_type": "stream",
     "text": [
      "Done at 2021-08-24T03:31:50.701 in 3 minutes, 52 seconds, 806 milliseconds.\n",
      "\n",
      "Working on sample: darrest_2h_5\n",
      "\n",
      "Counting transcript ...\n",
      "\n",
      "`\u001b[4mkallisto\u001b[24m \u001b[4mquant\u001b[24m \u001b[4m--threads\u001b[24m \u001b[4m6\u001b[24m \u001b[4m--index\u001b[24m \u001b[4m../input/human_reference_transcriptome/Homo_sapiens.GRCh38.cdna.all.fa.gz.kallisto_index\u001b[24m \u001b[4m--output-dir\u001b[24m \u001b[4m../output/human_cdna_valeria/psuedoalign/darrest_2h_5\u001b[24m \u001b[4m../input/human_cdna_valeria/raw_data/darrest_2h_5/darrest_2h_5_1.fq.gz\u001b[24m \u001b[4m../input/human_cdna_valeria/raw_data/darrest_2h_5/darrest_2h_5_2.fq.gz\u001b[24m`\n"
     ]
    },
    {
     "name": "stderr",
     "output_type": "stream",
     "text": [
      "\n",
      "[quant] fragment length distribution will be estimated from the data\n",
      "[index] k-mer length: 31\n",
      "[index] number of targets: 187,626\n",
      "[index] number of k-mers: 108,619,921\n",
      "[index] number of equivalence classes: 752,021\n",
      "[quant] running in paired-end mode\n",
      "[quant] will process pair 1: ../input/human_cdna_valeria/raw_data/darrest_2h_5/darrest_2h_5_1.fq.gz\n",
      "                             ../input/human_cdna_valeria/raw_data/darrest_2h_5/darrest_2h_5_2.fq.gz\n",
      "[quant] finding pseudoalignments for the reads ... done\n",
      "[quant] processed 23,728,307 reads, 21,525,001 reads pseudoaligned\n",
      "[quant] estimated average fragment length: 244.182\n",
      "[   em] quantifying the abundances ... done\n",
      "[   em] the Expectation-Maximization algorithm ran for 1,245 rounds\n",
      "\n"
     ]
    },
    {
     "name": "stdout",
     "output_type": "stream",
     "text": [
      "Done at 2021-08-24T03:35:59.624 in 4 minutes, 8 seconds, 921 milliseconds.\n",
      "\n",
      "Working on sample: darrest_2h_6\n",
      "\n",
      "Counting transcript ...\n",
      "\n",
      "`\u001b[4mkallisto\u001b[24m \u001b[4mquant\u001b[24m \u001b[4m--threads\u001b[24m \u001b[4m6\u001b[24m \u001b[4m--index\u001b[24m \u001b[4m../input/human_reference_transcriptome/Homo_sapiens.GRCh38.cdna.all.fa.gz.kallisto_index\u001b[24m \u001b[4m--output-dir\u001b[24m \u001b[4m../output/human_cdna_valeria/psuedoalign/darrest_2h_6\u001b[24m \u001b[4m../input/human_cdna_valeria/raw_data/darrest_2h_6/darrest_2h_6_1.fq.gz\u001b[24m \u001b[4m../input/human_cdna_valeria/raw_data/darrest_2h_6/darrest_2h_6_2.fq.gz\u001b[24m`\n"
     ]
    },
    {
     "name": "stderr",
     "output_type": "stream",
     "text": [
      "\n",
      "[quant] fragment length distribution will be estimated from the data\n",
      "[index] k-mer length: 31\n",
      "[index] number of targets: 187,626\n",
      "[index] number of k-mers: 108,619,921\n",
      "[index] number of equivalence classes: 752,021\n",
      "[quant] running in paired-end mode\n",
      "[quant] will process pair 1: ../input/human_cdna_valeria/raw_data/darrest_2h_6/darrest_2h_6_1.fq.gz\n",
      "                             ../input/human_cdna_valeria/raw_data/darrest_2h_6/darrest_2h_6_2.fq.gz\n",
      "[quant] finding pseudoalignments for the reads ... done\n",
      "[quant] processed 21,301,016 reads, 18,865,483 reads pseudoaligned\n",
      "[quant] estimated average fragment length: 293.318\n",
      "[   em] quantifying the abundances ... done\n",
      "[   em] the Expectation-Maximization algorithm ran for 1,118 rounds\n",
      "\n"
     ]
    },
    {
     "name": "stdout",
     "output_type": "stream",
     "text": [
      "Done at 2021-08-24T03:40:01.216 in 4 minutes, 1 second, 590 milliseconds.\n",
      "\n",
      "Working on sample: darrest_b_43\n",
      "\n",
      "Counting transcript ...\n",
      "\n",
      "`\u001b[4mkallisto\u001b[24m \u001b[4mquant\u001b[24m \u001b[4m--threads\u001b[24m \u001b[4m6\u001b[24m \u001b[4m--index\u001b[24m \u001b[4m../input/human_reference_transcriptome/Homo_sapiens.GRCh38.cdna.all.fa.gz.kallisto_index\u001b[24m \u001b[4m--output-dir\u001b[24m \u001b[4m../output/human_cdna_valeria/psuedoalign/darrest_b_43\u001b[24m \u001b[4m../input/human_cdna_valeria/raw_data/darrest_b_43/darrest_b_43_1.fq.gz\u001b[24m \u001b[4m../input/human_cdna_valeria/raw_data/darrest_b_43/darrest_b_43_2.fq.gz\u001b[24m`\n"
     ]
    },
    {
     "name": "stderr",
     "output_type": "stream",
     "text": [
      "\n",
      "[quant] fragment length distribution will be estimated from the data\n",
      "[index] k-mer length: 31\n",
      "[index] number of targets: 187,626\n",
      "[index] number of k-mers: 108,619,921\n",
      "[index] number of equivalence classes: 752,021\n",
      "[quant] running in paired-end mode\n",
      "[quant] will process pair 1: ../input/human_cdna_valeria/raw_data/darrest_b_43/darrest_b_43_1.fq.gz\n",
      "                             ../input/human_cdna_valeria/raw_data/darrest_b_43/darrest_b_43_2.fq.gz\n",
      "[quant] finding pseudoalignments for the reads ... done\n",
      "[quant] processed 21,752,960 reads, 18,488,271 reads pseudoaligned\n",
      "[quant] estimated average fragment length: 269.992\n",
      "[   em] quantifying the abundances ... done\n",
      "[   em] the Expectation-Maximization algorithm ran for 1,111 rounds\n",
      "\n"
     ]
    },
    {
     "name": "stdout",
     "output_type": "stream",
     "text": [
      "Done at 2021-08-24T03:44:07.06 in 4 minutes, 5 seconds, 842 milliseconds.\n",
      "\n",
      "Working on sample: darrest_b_44\n",
      "\n",
      "Counting transcript ...\n",
      "\n",
      "`\u001b[4mkallisto\u001b[24m \u001b[4mquant\u001b[24m \u001b[4m--threads\u001b[24m \u001b[4m6\u001b[24m \u001b[4m--index\u001b[24m \u001b[4m../input/human_reference_transcriptome/Homo_sapiens.GRCh38.cdna.all.fa.gz.kallisto_index\u001b[24m \u001b[4m--output-dir\u001b[24m \u001b[4m../output/human_cdna_valeria/psuedoalign/darrest_b_44\u001b[24m \u001b[4m../input/human_cdna_valeria/raw_data/darrest_b_44/darrest_b_44_1.fq.gz\u001b[24m \u001b[4m../input/human_cdna_valeria/raw_data/darrest_b_44/darrest_b_44_2.fq.gz\u001b[24m`\n"
     ]
    },
    {
     "name": "stderr",
     "output_type": "stream",
     "text": [
      "\n",
      "[quant] fragment length distribution will be estimated from the data\n",
      "[index] k-mer length: 31\n",
      "[index] number of targets: 187,626\n",
      "[index] number of k-mers: 108,619,921\n",
      "[index] number of equivalence classes: 752,021\n",
      "[quant] running in paired-end mode\n",
      "[quant] will process pair 1: ../input/human_cdna_valeria/raw_data/darrest_b_44/darrest_b_44_1.fq.gz\n",
      "                             ../input/human_cdna_valeria/raw_data/darrest_b_44/darrest_b_44_2.fq.gz\n",
      "[quant] finding pseudoalignments for the reads ... done\n",
      "[quant] processed 28,265,707 reads, 24,992,500 reads pseudoaligned\n",
      "[quant] estimated average fragment length: 253.072\n",
      "[   em] quantifying the abundances ... done\n",
      "[   em] the Expectation-Maximization algorithm ran for 1,614 rounds\n",
      "\n"
     ]
    },
    {
     "name": "stdout",
     "output_type": "stream",
     "text": [
      "Done at 2021-08-24T03:48:41.986 in 4 minutes, 34 seconds, 924 milliseconds.\n",
      "\n",
      "Working on sample: darrest_b_45\n",
      "\n",
      "Counting transcript ...\n",
      "\n",
      "`\u001b[4mkallisto\u001b[24m \u001b[4mquant\u001b[24m \u001b[4m--threads\u001b[24m \u001b[4m6\u001b[24m \u001b[4m--index\u001b[24m \u001b[4m../input/human_reference_transcriptome/Homo_sapiens.GRCh38.cdna.all.fa.gz.kallisto_index\u001b[24m \u001b[4m--output-dir\u001b[24m \u001b[4m../output/human_cdna_valeria/psuedoalign/darrest_b_45\u001b[24m \u001b[4m../input/human_cdna_valeria/raw_data/darrest_b_45/darrest_b_45_1.fq.gz\u001b[24m \u001b[4m../input/human_cdna_valeria/raw_data/darrest_b_45/darrest_b_45_2.fq.gz\u001b[24m`\n"
     ]
    },
    {
     "name": "stderr",
     "output_type": "stream",
     "text": [
      "\n",
      "[quant] fragment length distribution will be estimated from the data\n",
      "[index] k-mer length: 31\n",
      "[index] number of targets: 187,626\n",
      "[index] number of k-mers: 108,619,921\n",
      "[index] number of equivalence classes: 752,021\n",
      "[quant] running in paired-end mode\n",
      "[quant] will process pair 1: ../input/human_cdna_valeria/raw_data/darrest_b_45/darrest_b_45_1.fq.gz\n",
      "                             ../input/human_cdna_valeria/raw_data/darrest_b_45/darrest_b_45_2.fq.gz\n",
      "[quant] finding pseudoalignments for the reads ... done\n",
      "[quant] processed 20,985,907 reads, 18,541,057 reads pseudoaligned\n",
      "[quant] estimated average fragment length: 293.361\n",
      "[   em] quantifying the abundances ... done\n",
      "[   em] the Expectation-Maximization algorithm ran for 1,191 rounds\n",
      "\n"
     ]
    },
    {
     "name": "stdout",
     "output_type": "stream",
     "text": [
      "Done at 2021-08-24T03:52:33.053 in 3 minutes, 51 seconds, 65 milliseconds.\n",
      "\n"
     ]
    }
   ],
   "source": [
    "na_ = [\"R1\", \"read1\", \"_1.fq\"]\n",
    "\n",
    "naf = \"\"\n",
    "\n",
    "pap = joinpath(pao, \"psuedoalign/\")\n",
    "\n",
    "if !isdir(pap)\n",
    "\n",
    "    for fq1 in re_\n",
    "\n",
    "        for na in na_ if occursin(na, fq1)\n",
    "\n",
    "                naf = na\n",
    "\n",
    "                nar = replace(naf, \"1\" => \"2\")\n",
    "\n",
    "                fq2 = replace(fq1, naf => nar)\n",
    "\n",
    "                if !isfile(fq2)\n",
    "\n",
    "                    fq2 = nothing\n",
    "\n",
    "                end\n",
    "\n",
    "                sa = last(splitdir(splitext(split(fq1, naf)[1])[1]))\n",
    "\n",
    "                println(\"Working on sample: $sa\\n\")\n",
    "\n",
    "                pas = joinpath(pap, sa)\n",
    "\n",
    "                Kate.count_transcript(\n",
    "                    paf,\n",
    "                    pas,\n",
    "                    n_jo,\n",
    "                    fq1,\n",
    "                    fq2,\n",
    "                    fr,\n",
    "                    sd,\n",
    "                )\n",
    "\n",
    "            end\n",
    "\n",
    "        end\n",
    "\n",
    "    end\n",
    "\n",
    "else\n",
    "\n",
    "    println(\"Skipping psuedoalignment because directory already exists: $pap\")\n",
    "    \n",
    "end"
   ]
  },
  {
   "cell_type": "markdown",
   "id": "5bb18de4-15eb-4f44-9b6b-05ec3bb24c0d",
   "metadata": {},
   "source": [
    "### Make transcript by sample"
   ]
  },
  {
   "cell_type": "code",
   "execution_count": 14,
   "id": "568e843f-e017-4347-bf2c-f6f07e405fd4",
   "metadata": {},
   "outputs": [
    {
     "name": "stderr",
     "output_type": "stream",
     "text": [
      "\u001b[32m\u001b[1m   Updating\u001b[22m\u001b[39m registry at `/opt/julia/registries/General`\n",
      "######################################################################### 100.0%\n",
      "\u001b[32m\u001b[1m  Resolving\u001b[22m\u001b[39m package versions...\n",
      "\u001b[32m\u001b[1m  Installed\u001b[22m\u001b[39m InvertedIndices ─── v1.0.0\n",
      "\u001b[32m\u001b[1m  Installed\u001b[22m\u001b[39m Missings ────────── v0.4.5\n",
      "\u001b[32m\u001b[1m  Installed\u001b[22m\u001b[39m CodeTracking ────── v1.0.6\n",
      "\u001b[32m\u001b[1m  Installed\u001b[22m\u001b[39m Compat ──────────── v3.34.0\n",
      "\u001b[32m\u001b[1m  Installed\u001b[22m\u001b[39m Tables ──────────── v1.5.0\n",
      "\u001b[32m\u001b[1m  Installed\u001b[22m\u001b[39m CategoricalArrays ─ v0.9.7\n",
      "\u001b[32m\u001b[1m  Installed\u001b[22m\u001b[39m DataStructures ──── v0.18.10\n",
      "\u001b[32m\u001b[1m  Installed\u001b[22m\u001b[39m DataFrames ──────── v0.22.7\n",
      "\u001b[32m\u001b[1m  Installed\u001b[22m\u001b[39m SentinelArrays ──── v1.3.7\n",
      "\u001b[32m\u001b[1m  Installed\u001b[22m\u001b[39m JSON ────────────── v0.21.2\n",
      "\u001b[32m\u001b[1m  Installed\u001b[22m\u001b[39m Parsers ─────────── v1.1.2\n",
      "\u001b[32m\u001b[1m  Installed\u001b[22m\u001b[39m JuliaInterpreter ── v0.8.21\n",
      "\u001b[32m\u001b[1m  Installed\u001b[22m\u001b[39m SortingAlgorithms ─ v0.3.1\n",
      "\u001b[32m\u001b[1m  Installed\u001b[22m\u001b[39m Revise ──────────── v3.1.19\n",
      "\u001b[32m\u001b[1m  Installed\u001b[22m\u001b[39m StructTypes ─────── v1.7.2\n",
      "\u001b[32m\u001b[1m  Installed\u001b[22m\u001b[39m LoweredCodeUtils ── v2.1.2\n",
      "\u001b[32m\u001b[1m  Installed\u001b[22m\u001b[39m PrettyTables ────── v0.11.1\n",
      "\u001b[32m\u001b[1mNo Changes\u001b[22m\u001b[39m to `~/Kate.jl/Project.toml`\n",
      "\u001b[32m\u001b[1mNo Changes\u001b[22m\u001b[39m to `~/Kate.jl/Manifest.toml`\n"
     ]
    }
   ],
   "source": [
    "using Pkg;\n",
    "\n",
    "Pkg.add(\"DataFrames\");"
   ]
  },
  {
   "cell_type": "code",
   "execution_count": 15,
   "id": "84085e30-4982-4589-9645-6964f5cbf8a1",
   "metadata": {},
   "outputs": [
    {
     "name": "stderr",
     "output_type": "stream",
     "text": [
      "\u001b[32m\u001b[1m  Resolving\u001b[22m\u001b[39m package versions...\n",
      "\u001b[32m\u001b[1mNo Changes\u001b[22m\u001b[39m to `~/Kate.jl/Project.toml`\n",
      "\u001b[32m\u001b[1mNo Changes\u001b[22m\u001b[39m to `~/Kate.jl/Manifest.toml`\n"
     ]
    }
   ],
   "source": [
    "using Pkg;\n",
    "\n",
    "Pkg.add(\"CSV\");"
   ]
  },
  {
   "cell_type": "code",
   "execution_count": 16,
   "id": "29fa641e-0d0b-4f1e-b591-5575301523ff",
   "metadata": {
    "tags": []
   },
   "outputs": [
    {
     "name": "stderr",
     "output_type": "stream",
     "text": [
      "┌ Info: Precompiling CSV [336ed68f-0bac-5ca0-87d4-7b16caf5d00b]\n",
      "└ @ Base loading.jl:1278\n",
      "┌ Info: Precompiling DataFrames [a93c6f00-e57d-5684-b7b6-d8193f3e46c0]\n",
      "└ @ Base loading.jl:1278\n"
     ]
    },
    {
     "name": "stdout",
     "output_type": "stream",
     "text": [
      "../output/human_cdna_valeria/psuedoalign/P293_1h_16/abundance.tsv\n",
      "../output/human_cdna_valeria/psuedoalign/P293_1h_17/abundance.tsv\n",
      "2\n",
      "../output/human_cdna_valeria/psuedoalign/P293_1h_18/abundance.tsv\n",
      "3\n",
      "../output/human_cdna_valeria/psuedoalign/P293_2h_25/abundance.tsv\n",
      "4\n",
      "../output/human_cdna_valeria/psuedoalign/P293_2h_26/abundance.tsv\n",
      "5\n",
      "../output/human_cdna_valeria/psuedoalign/P293_2h_27/abundance.tsv\n",
      "6\n",
      "../output/human_cdna_valeria/psuedoalign/P293_b_13/abundance.tsv\n",
      "7\n",
      "../output/human_cdna_valeria/psuedoalign/P293_b_14/abundance.tsv\n",
      "8\n",
      "../output/human_cdna_valeria/psuedoalign/P293_b_15/abundance.tsv\n",
      "9\n",
      "../output/human_cdna_valeria/psuedoalign/dGRK_1h_10/abundance.tsv\n",
      "10\n",
      "../output/human_cdna_valeria/psuedoalign/dGRK_1h_11/abundance.tsv\n",
      "11\n",
      "../output/human_cdna_valeria/psuedoalign/dGRK_1h_12/abundance.tsv\n",
      "12\n",
      "../output/human_cdna_valeria/psuedoalign/dGRK_2h_40/abundance.tsv\n",
      "13\n",
      "../output/human_cdna_valeria/psuedoalign/dGRK_2h_41/abundance.tsv\n",
      "14\n",
      "../output/human_cdna_valeria/psuedoalign/dGRK_2h_42/abundance.tsv\n",
      "15\n",
      "../output/human_cdna_valeria/psuedoalign/dGRK_b_7/abundance.tsv\n",
      "16\n",
      "../output/human_cdna_valeria/psuedoalign/dGRK_b_8/abundance.tsv\n",
      "17\n",
      "../output/human_cdna_valeria/psuedoalign/dGRK_b_9/abundance.tsv\n",
      "18\n",
      "../output/human_cdna_valeria/psuedoalign/dGas_1h_6/abundance.tsv\n",
      "19\n",
      "../output/human_cdna_valeria/psuedoalign/dGas_1h_7/abundance.tsv\n",
      "20\n",
      "../output/human_cdna_valeria/psuedoalign/dGas_1h_8/abundance.tsv\n",
      "21\n",
      "../output/human_cdna_valeria/psuedoalign/dGas_2h_11/abundance.tsv\n",
      "22\n",
      "../output/human_cdna_valeria/psuedoalign/dGas_2h_12/abundance.tsv\n",
      "23\n",
      "../output/human_cdna_valeria/psuedoalign/dGas_2h_15/abundance.tsv\n",
      "24\n",
      "../output/human_cdna_valeria/psuedoalign/dGas_b_1/abundance.tsv\n",
      "25\n",
      "../output/human_cdna_valeria/psuedoalign/dGas_b_2/abundance.tsv\n",
      "26\n",
      "../output/human_cdna_valeria/psuedoalign/dGas_b_3/abundance.tsv\n",
      "27\n",
      "../output/human_cdna_valeria/psuedoalign/darrest_1h_1/abundance.tsv\n",
      "28\n",
      "../output/human_cdna_valeria/psuedoalign/darrest_1h_2/abundance.tsv\n",
      "29\n",
      "../output/human_cdna_valeria/psuedoalign/darrest_1h_3/abundance.tsv\n",
      "30\n",
      "../output/human_cdna_valeria/psuedoalign/darrest_2h_4/abundance.tsv\n",
      "31\n",
      "../output/human_cdna_valeria/psuedoalign/darrest_2h_5/abundance.tsv\n",
      "32\n",
      "../output/human_cdna_valeria/psuedoalign/darrest_2h_6/abundance.tsv\n",
      "33\n",
      "../output/human_cdna_valeria/psuedoalign/darrest_b_43/abundance.tsv\n",
      "34\n",
      "../output/human_cdna_valeria/psuedoalign/darrest_b_44/abundance.tsv\n",
      "35\n",
      "../output/human_cdna_valeria/psuedoalign/darrest_b_45/abundance.tsv\n",
      "36\n",
      "\u001b[1mDataFrameRow\u001b[0m\n",
      "\u001b[1m Row \u001b[0m│\u001b[1m id                \u001b[0m\u001b[1m P293_1h_16 \u001b[0m\u001b[1m P293_1h_17 \u001b[0m\u001b[1m P293_1h_18 \u001b[0m\u001b[1m P293_2h_25 \u001b[0m\u001b[1m P293_2h_26 \u001b[0m\u001b[1m P293_2h_27 \u001b[0m\u001b[1m P293_b_13 \u001b[0m\u001b[1m P293_b_14 \u001b[0m\u001b[1m P293_b_15 \u001b[0m\u001b[1m dGRK_1h_10 \u001b[0m\u001b[1m dGRK_1h_11 \u001b[0m\u001b[1m dGRK_1h_12 \u001b[0m\u001b[1m dGRK_2h_40 \u001b[0m\u001b[1m dGRK_2h_41 \u001b[0m\u001b[1m dGRK_2h_42 \u001b[0m\u001b[1m dGRK_b_7 \u001b[0m\u001b[1m dGRK_b_8 \u001b[0m\u001b[1m dGRK_b_9 \u001b[0m\u001b[1m dGas_1h_6 \u001b[0m\u001b[1m dGas_1h_7 \u001b[0m\u001b[1m dGas_1h_8 \u001b[0m\u001b[1m dGas_2h_11 \u001b[0m\u001b[1m dGas_2h_12 \u001b[0m\u001b[1m dGas_2h_15 \u001b[0m\u001b[1m dGas_b_1 \u001b[0m\u001b[1m dGas_b_2 \u001b[0m\u001b[1m dGas_b_3 \u001b[0m\u001b[1m darrest_1h_1 \u001b[0m\u001b[1m darrest_1h_2 \u001b[0m\u001b[1m darrest_1h_3 \u001b[0m\u001b[1m darrest_2h_4 \u001b[0m\u001b[1m darrest_2h_5 \u001b[0m\u001b[1m darrest_2h_6 \u001b[0m\u001b[1m darrest_b_43 \u001b[0m\u001b[1m darrest_b_44 \u001b[0m\u001b[1m darrest_b_45 \u001b[0m\n",
      "\u001b[1m     \u001b[0m│\u001b[90m String            \u001b[0m\u001b[90m Float64    \u001b[0m\u001b[90m Float64    \u001b[0m\u001b[90m Float64    \u001b[0m\u001b[90m Float64    \u001b[0m\u001b[90m Float64    \u001b[0m\u001b[90m Float64    \u001b[0m\u001b[90m Float64   \u001b[0m\u001b[90m Float64   \u001b[0m\u001b[90m Float64   \u001b[0m\u001b[90m Float64    \u001b[0m\u001b[90m Float64    \u001b[0m\u001b[90m Float64    \u001b[0m\u001b[90m Float64    \u001b[0m\u001b[90m Float64    \u001b[0m\u001b[90m Float64    \u001b[0m\u001b[90m Float64  \u001b[0m\u001b[90m Float64  \u001b[0m\u001b[90m Float64  \u001b[0m\u001b[90m Float64   \u001b[0m\u001b[90m Float64   \u001b[0m\u001b[90m Float64   \u001b[0m\u001b[90m Float64    \u001b[0m\u001b[90m Float64    \u001b[0m\u001b[90m Float64    \u001b[0m\u001b[90m Float64  \u001b[0m\u001b[90m Float64  \u001b[0m\u001b[90m Float64  \u001b[0m\u001b[90m Float64      \u001b[0m\u001b[90m Float64      \u001b[0m\u001b[90m Float64      \u001b[0m\u001b[90m Float64      \u001b[0m\u001b[90m Float64      \u001b[0m\u001b[90m Float64      \u001b[0m\u001b[90m Float64      \u001b[0m\u001b[90m Float64      \u001b[0m\u001b[90m Float64      \u001b[0m\n",
      "─────┼───────────────────────────────────────────────────────────────────────────────────────────────────────────────────────────────────────────────────────────────────────────────────────────────────────────────────────────────────────────────────────────────────────────────────────────────────────────────────────────────────────────────────────────────────────────────────────────────────────────────────────────────────────────────────────────────────\n",
      "   1 │ ENST00000632684.1         0.0         0.0         0.0         0.0         0.0         0.0        0.0        0.0        0.0         0.0         0.0         0.0         0.0         0.0         0.0       0.0       0.0       0.0        0.0        0.0        0.0         0.0         0.0         0.0       0.0       0.0       0.0           0.0           0.0           0.0           0.0           0.0           0.0           0.0           0.0           0.0\n"
     ]
    },
    {
     "data": {
      "text/plain": [
       "\"../output/human_cdna_valeria/transcript_x_sample.tsv\""
      ]
     },
     "execution_count": 16,
     "metadata": {},
     "output_type": "execute_result"
    }
   ],
   "source": [
    "using CSV\n",
    "\n",
    "using DataFrames\n",
    "\n",
    "tp_tr_sa = DataFrame()\n",
    "\n",
    "for di in readdir(joinpath(\"../output/\", ex, \"psuedoalign/\"), join = true)\n",
    "    \n",
    "    if !occursin(\"DS_Store\", di)\n",
    "        \n",
    "        pa = string(joinpath(di, \"abundance.tsv\"))\n",
    "\n",
    "        println(pa)\n",
    "        \n",
    "        tpm = DataFrame(CSV.File(pa, delim=\"\\t\"))[:, [:target_id, :tpm]]\n",
    "        \n",
    "        sa = last(splitdir(di))\n",
    "        \n",
    "        tpm = rename!(tpm, :tpm => sa)\n",
    "        \n",
    "        if isempty(tp_tr_sa)\n",
    "            \n",
    "            tp_tr_sa = tpm\n",
    "            \n",
    "        else\n",
    "            \n",
    "            println(ncol(tp_tr_sa))\n",
    "            \n",
    "            id = ncol(tp_tr_sa) + 1\n",
    "            \n",
    "            insertcols!(tp_tr_sa, id, sa => tpm[:, sa]) \n",
    "        \n",
    "        end\n",
    "    \n",
    "    end\n",
    "\n",
    "end\n",
    "\n",
    "tp_tr_sa = rename!(tp_tr_sa, :target_id => :id)\n",
    "\n",
    "println(first(tp_tr_sa))\n",
    "\n",
    "CSV.write(joinpath(\"../output/\", ex, \"transcript_x_sample.tsv\"), tp_tr_sa)"
   ]
  },
  {
   "cell_type": "markdown",
   "id": "57db8160-dcce-4d38-9e21-047e64d25ebd",
   "metadata": {},
   "source": [
    "### Make gene by sample"
   ]
  },
  {
   "cell_type": "code",
   "execution_count": 17,
   "id": "eb1ad903-c22d-4fcd-9b9b-8727a35392a7",
   "metadata": {
    "tags": []
   },
   "outputs": [
    {
     "name": "stdout",
     "output_type": "stream",
     "text": [
      "\u001b[1m5×37 DataFrame\u001b[0m\n",
      "\u001b[1m Row \u001b[0m│\u001b[1m gene   \u001b[0m\u001b[1m P293_1h_16_mean \u001b[0m\u001b[1m P293_1h_17_mean \u001b[0m\u001b[1m P293_1h_18_mean \u001b[0m\u001b[1m P293_2h_25_mean \u001b[0m\u001b[1m P293_2h_26_mean \u001b[0m\u001b[1m P293_2h_27_mean \u001b[0m\u001b[1m P293_b_13_mean \u001b[0m\u001b[1m P293_b_14_mean \u001b[0m\u001b[1m P293_b_15_mean \u001b[0m\u001b[1m dGRK_1h_10_mean \u001b[0m\u001b[1m dGRK_1h_11_mean \u001b[0m\u001b[1m dGRK_1h_12_mean \u001b[0m\u001b[1m dGRK_2h_40_mean \u001b[0m\u001b[1m dGRK_2h_41_mean \u001b[0m\u001b[1m dGRK_2h_42_mean \u001b[0m\u001b[1m dGRK_b_7_mean \u001b[0m\u001b[1m dGRK_b_8_mean \u001b[0m\u001b[1m dGRK_b_9_mean \u001b[0m\u001b[1m dGas_1h_6_mean \u001b[0m\u001b[1m dGas_1h_7_mean \u001b[0m\u001b[1m dGas_1h_8_mean \u001b[0m\u001b[1m dGas_2h_11_mean \u001b[0m\u001b[1m dGas_2h_12_mean \u001b[0m\u001b[1m dGas_2h_15_mean \u001b[0m\u001b[1m dGas_b_1_mean \u001b[0m\u001b[1m dGas_b_2_mean \u001b[0m\u001b[1m dGas_b_3_mean \u001b[0m\u001b[1m darrest_1h_1_mean \u001b[0m\u001b[1m darrest_1h_2_mean \u001b[0m\u001b[1m darrest_1h_3_mean \u001b[0m\u001b[1m darrest_2h_4_mean \u001b[0m\u001b[1m darrest_2h_5_mean \u001b[0m\u001b[1m darrest_2h_6_mean \u001b[0m\u001b[1m darrest_b_43_mean \u001b[0m\u001b[1m darrest_b_44_mean \u001b[0m\u001b[1m darrest_b_45_mean \u001b[0m\n",
      "\u001b[1m     \u001b[0m│\u001b[90m String \u001b[0m\u001b[90m Float64         \u001b[0m\u001b[90m Float64         \u001b[0m\u001b[90m Float64         \u001b[0m\u001b[90m Float64         \u001b[0m\u001b[90m Float64         \u001b[0m\u001b[90m Float64         \u001b[0m\u001b[90m Float64        \u001b[0m\u001b[90m Float64        \u001b[0m\u001b[90m Float64        \u001b[0m\u001b[90m Float64         \u001b[0m\u001b[90m Float64         \u001b[0m\u001b[90m Float64         \u001b[0m\u001b[90m Float64         \u001b[0m\u001b[90m Float64         \u001b[0m\u001b[90m Float64         \u001b[0m\u001b[90m Float64       \u001b[0m\u001b[90m Float64       \u001b[0m\u001b[90m Float64       \u001b[0m\u001b[90m Float64        \u001b[0m\u001b[90m Float64        \u001b[0m\u001b[90m Float64        \u001b[0m\u001b[90m Float64         \u001b[0m\u001b[90m Float64         \u001b[0m\u001b[90m Float64         \u001b[0m\u001b[90m Float64       \u001b[0m\u001b[90m Float64       \u001b[0m\u001b[90m Float64       \u001b[0m\u001b[90m Float64           \u001b[0m\u001b[90m Float64           \u001b[0m\u001b[90m Float64           \u001b[0m\u001b[90m Float64           \u001b[0m\u001b[90m Float64           \u001b[0m\u001b[90m Float64           \u001b[0m\u001b[90m Float64           \u001b[0m\u001b[90m Float64           \u001b[0m\u001b[90m Float64           \u001b[0m\n",
      "─────┼────────────────────────────────────────────────────────────────────────────────────────────────────────────────────────────────────────────────────────────────────────────────────────────────────────────────────────────────────────────────────────────────────────────────────────────────────────────────────────────────────────────────────────────────────────────────────────────────────────────────────────────────────────────────────────────────────────────────────────────────────────────────────────────────────────────────────────────────────────────────────────────────────────────────────────────────────────────\n",
      "   1 │ A1BG          2.57737        2.89521           3.46163         2.89147           3.4812            3.62853        3.57373         2.38773           3.10125        1.18537          2.54146           1.42             1.18447         2.49981         1.38548          1.30288        0.724368       0.918535       0.574881         0.174187        0.425801        0.489151          0.217851        0.419244      0.321022        0.740282        0.47765           2.96408            3.78969            5.34104            4.0683             7.41058             4.15545            3.55431           2.73168            3.48297\n",
      "   2 │ A1CF          0.0042627      0.000754757       0.00349139      0.000608872       0.00141708        0.0            0.00650246      0.00432189        0.0            0.00191794       0.00585018        0.0              0.0235974       0.00178702      0.000845879      0.001779       0.0            0.002372       0.00220384       0.0235207       0.0114619       0.0509391         0.0             0.00650183    0.000712598     0.00280871      0.0177937         0.00370857         0.00818712         0.0332937          0.00497732         0.0                 0.0                0.0059556         0.0167464          0.00875096\n",
      "   3 │ A2M           0.148862       0.147866          0.111078        0.0339671         0.0493538         0.180349       0.0143341       0.101848          0.095695       0.181617         0.0557833         0.076843         0.0881885       0.204614        0.130644         0.108312       0.365952       0.117757       0.0570586        0.150748        0.143327        0.0329439         0.0178884       0.104579      0.0415908       0.134769        0.13682           0.216575           0.168054           0.00594928         0.0471246          0.280575            0.146855           0.119089          0.1131             0.0592191\n",
      "   4 │ A2ML1         0.072264       0.0121498         0.0479249       0.0369967         0.128785          0.0418293      0.036533        0.0629571         0.066677       0.0279949        0.0687786         0.0117102        0.0370298       0.00355717      0.0152824        0.0885963      0.0768657      0.0922567      0.0599084        0.0265982       0.0636597       0.00853633        0.0449897       0.0154393     0.0496573       0.0218359       0.0416985         0.0976463          0.0330468          0.0185302          0.065525           0.00831792          0.0782807          0.0703369         0.00249918         0.0605408\n",
      "   5 │ A2MP1         0.0189495      0.105146          0.0650947       0.0153815         0.0247217         0.0178457      0.0257267       0.040681          0.018938       0.0678088        0.034847          0.0488255        0.0344565       0.0259545       0.00980503       0.0414         0.0182616      0.041379       0.0128068        0.102342        0.0147798       0.0168452         0.0196979       0.0415029     0.0546257       0.0285828       0.0111253         0.0231766          0.0182488          0.0550664          0.0144692          0.0112919           0.0334085          0.0816783         0.0072757          0.0\n"
     ]
    },
    {
     "data": {
      "text/plain": [
       "\"../output/human_cdna_valeria/gene_x_sample.tsv\""
      ]
     },
     "execution_count": 17,
     "metadata": {},
     "output_type": "execute_result"
    }
   ],
   "source": [
    "using Statistics\n",
    "\n",
    "tr_ge = DataFrame(CSV.File(pat, delim=\"\\t\"))\n",
    "    \n",
    "tr_ge = rename!(tr_ge,  Dict(\"Transcript stable ID version\" => :id, \"Gene name\" => :gene))\n",
    "    \n",
    "\n",
    "# Map transcript to gene name\n",
    "\n",
    "tp_trge_sa = sort!(innerjoin(tp_tr_sa, tr_ge, on = :id), :gene)\n",
    "\n",
    "tp_ge__sa = select!(tp_trge_sa, [n for n in names(tp_trge_sa) if n != \"id\"])\n",
    "\n",
    "\n",
    "# Save the mean tpm for each gene\n",
    "\n",
    "gr = groupby(tp_ge__sa, :gene)\n",
    "\n",
    "sa_ = [n for n in names(tp_trge_sa) if n != \"gene\"]\n",
    "\n",
    "tp_ge_sa = DataFrame()\n",
    "\n",
    "for sa in sa_\n",
    "    \n",
    "    ge_sa = combine(gr, sa => mean)\n",
    "    \n",
    "    if isempty(tp_ge_sa)\n",
    "        \n",
    "        append!(tp_ge_sa, ge_sa)\n",
    "        \n",
    "    else\n",
    "        \n",
    "        tp_ge_sa = innerjoin(tp_ge_sa, ge_sa, on = :gene)\n",
    "        \n",
    "    end\n",
    "        \n",
    "end\n",
    "\n",
    "println(tp_ge_sa[1:5, :])\n",
    "\n",
    "# Save gene by sample\n",
    "\n",
    "CSV.write(joinpath(\"../output/\", ex, \"gene_x_sample.tsv\"), tp_ge_sa)"
   ]
  },
  {
   "cell_type": "code",
   "execution_count": null,
   "id": "52a71729-63d2-49e1-85d9-4c7aa84884fc",
   "metadata": {},
   "outputs": [],
   "source": []
  }
 ],
 "metadata": {
  "kernelspec": {
   "display_name": "Julia 1.5.2",
   "language": "julia",
   "name": "julia-1.5"
  },
  "language_info": {
   "file_extension": ".jl",
   "mimetype": "application/julia",
   "name": "julia",
   "version": "1.5.2"
  }
 },
 "nbformat": 4,
 "nbformat_minor": 5
}
