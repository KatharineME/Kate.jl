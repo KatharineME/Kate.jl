{
 "cells": [
  {
   "cell_type": "code",
   "execution_count": null,
   "id": "ec4b5eb7-f81d-4399-a82e-7bdd64904648",
   "metadata": {},
   "outputs": [],
   "source": [
    "using Revise\n",
    "\n",
    "using Kate"
   ]
  },
  {
   "cell_type": "markdown",
   "id": "ad3d58f3-45fa-4dfe-a9f2-f3cf5ff75cf8",
   "metadata": {},
   "source": [
    "### Test Environment"
   ]
  },
  {
   "cell_type": "code",
   "execution_count": null,
   "id": "fb7653c8-f7ab-40b9-a892-c27f2cb29342",
   "metadata": {
    "tags": []
   },
   "outputs": [],
   "source": [
    "Kate.test()"
   ]
  },
  {
   "cell_type": "markdown",
   "id": "3a1d84f5-d234-4b8b-a6e6-dd3876c97d02",
   "metadata": {},
   "source": [
    "### Set Parameters"
   ]
  },
  {
   "cell_type": "code",
   "execution_count": null,
   "id": "7b7d9204-26a7-4423-b2bf-50f58bb284ee",
   "metadata": {
    "tags": []
   },
   "outputs": [],
   "source": [
    "# Experiment \n",
    "ex = \"human_cdna_valeria\"\n",
    "\n",
    "# Fragment length (not needed if paired end)\n",
    "fr = 51\n",
    "\n",
    "# Standard deviation of read length (not needed if paired end)\n",
    "sd = 0.05\n",
    "\n",
    "# Reference transcriptome\n",
    "paf = \"../input/human_reference_transcriptome/Homo_sapiens.GRCh38.cdna.all.fa.gz\"\n",
    "\n",
    "# paf = \"../input/mouse_reference_transcriptome/Mus_musculus.GRCm38.cdna.all.fa.gz\"\n",
    "\n",
    "pat = \"../input/human_reference_transcriptome/enst_gene_name.tsv\"\n",
    "\n",
    "n_jo = 10;"
   ]
  },
  {
   "cell_type": "code",
   "execution_count": null,
   "id": "94002ede-dbda-44fd-9b03-fab240be0557",
   "metadata": {
    "tags": []
   },
   "outputs": [],
   "source": [
    "pai = joinpath(\"../input/\")\n",
    "\n",
    "pae = joinpath(pai, ex)\n",
    "\n",
    "pao = joinpath(\"../output/\", ex);"
   ]
  },
  {
   "cell_type": "markdown",
   "id": "97675c11-9431-48f2-ae80-c3602dc99ee3",
   "metadata": {},
   "source": [
    "### Check reads"
   ]
  },
  {
   "cell_type": "code",
   "execution_count": null,
   "id": "261b7f79-fac0-43a9-ba72-5404522c8a2b",
   "metadata": {
    "tags": []
   },
   "outputs": [],
   "source": [
    "re_ = Kate.find(pae)"
   ]
  },
  {
   "cell_type": "code",
   "execution_count": null,
   "id": "eab53d7a-3450-4dd7-a28d-c95fc169da50",
   "metadata": {},
   "outputs": [],
   "source": [
    "Kate.check(re_, joinpath(pao, string(\"check_raw\")), n_jo)"
   ]
  },
  {
   "cell_type": "markdown",
   "id": "4b2c39e5-a4b9-47c1-8177-e155f809bcce",
   "metadata": {},
   "source": [
    "### Count transcript"
   ]
  },
  {
   "cell_type": "code",
   "execution_count": null,
   "id": "15b06fe2-5ac3-407f-a524-47f150554932",
   "metadata": {
    "tags": []
   },
   "outputs": [],
   "source": [
    "na_ = [\"R1\", \"read1\", \"_1.fq\"]\n",
    "\n",
    "naf = \"\"\n",
    "\n",
    "pap = joinpath(pao, \"psuedoalign/\")\n",
    "\n",
    "if !isdir(pap)\n",
    "\n",
    "    for fq1 in re_\n",
    "\n",
    "        for na in na_ if occursin(na, fq1)\n",
    "\n",
    "                naf = na\n",
    "\n",
    "                nar = replace(naf, \"1\" => \"2\")\n",
    "\n",
    "                fq2 = replace(fq1, naf => nar)\n",
    "\n",
    "                if !isfile(fq2)\n",
    "\n",
    "                    fq2 = nothing\n",
    "\n",
    "                end\n",
    "\n",
    "                sa = last(splitdir(splitext(split(fq1, naf)[1])[1]))\n",
    "\n",
    "                println(\"Working on sample: $sa\\n\")\n",
    "\n",
    "                pas = joinpath(pap, sa)\n",
    "\n",
    "                Kate.count_transcript(\n",
    "                    paf,\n",
    "                    pas,\n",
    "                    n_jo,\n",
    "                    fq1,\n",
    "                    fq2,\n",
    "                    fr,\n",
    "                    sd,\n",
    "                )\n",
    "\n",
    "            end\n",
    "\n",
    "        end\n",
    "\n",
    "    end\n",
    "\n",
    "else\n",
    "\n",
    "    println(\"Skipping psuedoalignment because directory already exists: $pap\")\n",
    "    \n",
    "end"
   ]
  },
  {
   "cell_type": "markdown",
   "id": "2c7b1b36-5d27-4276-946a-908c7e8f13c0",
   "metadata": {},
   "source": [
    "### TODO: Check mapping rate and abundance output"
   ]
  },
  {
   "cell_type": "markdown",
   "id": "5bb18de4-15eb-4f44-9b6b-05ec3bb24c0d",
   "metadata": {},
   "source": [
    "### Make transcript by sample"
   ]
  },
  {
   "cell_type": "code",
   "execution_count": null,
   "id": "e1f5f890-9279-4be9-baad-54ef1df8d20b",
   "metadata": {},
   "outputs": [],
   "source": [
    "using Pkg;\n",
    "\n",
    "Pkg.add(\"DataFrames\")"
   ]
  },
  {
   "cell_type": "code",
   "execution_count": null,
   "id": "29fa641e-0d0b-4f1e-b591-5575301523ff",
   "metadata": {
    "tags": []
   },
   "outputs": [],
   "source": [
    "using CSV\n",
    "\n",
    "using DataFrames\n",
    "\n",
    "tp_tr_sa = DataFrame()\n",
    "\n",
    "for di in readdir(joinpath(\"../output/\", ex, \"psuedoalign/\"), join = true)\n",
    "\n",
    "    if !occursin(\"DS_Store\", di)\n",
    "\n",
    "        pa = string(joinpath(di, \"abundance.tsv\"))\n",
    "\n",
    "        tpm = DataFrame(CSV.File(pa, delim = \"\t\"))[:, [:target_id, :tpm]]\n",
    "\n",
    "        sa = last(splitdir(di))\n",
    "\n",
    "        tpm = rename!(tpm, :tpm => sa)\n",
    "\n",
    "        if isempty(tp_tr_sa)\n",
    "\n",
    "            tp_tr_sa = tpm\n",
    "\n",
    "        else\n",
    "\n",
    "            println(ncol(tp_tr_sa))\n",
    "\n",
    "            id = ncol(tp_tr_sa) + 1\n",
    "\n",
    "            insertcols!(tp_tr_sa, id, sa => tpm[:, sa])\n",
    "\n",
    "        end\n",
    "\n",
    "    end\n",
    "\n",
    "end\n",
    "\n",
    "tp_tr_sa = rename!(tp_tr_sa, :target_id => :id)\n",
    "\n",
    "println(first(tp_tr_sa))\n",
    "\n",
    "CSV.write(joinpath(\"../output/\", ex, \"transcript_x_sample.tsv\"), tp_tr_sa)"
   ]
  },
  {
   "cell_type": "markdown",
   "id": "57db8160-dcce-4d38-9e21-047e64d25ebd",
   "metadata": {},
   "source": [
    "### Make gene by sample"
   ]
  },
  {
   "cell_type": "code",
   "execution_count": null,
   "id": "eb1ad903-c22d-4fcd-9b9b-8727a35392a7",
   "metadata": {
    "tags": []
   },
   "outputs": [],
   "source": [
    "using Statistics\n",
    "\n",
    "tr_ge = DataFrame(CSV.File(pat, delim = \"\t\"))\n",
    "\n",
    "tr_ge = rename!(tr_ge, Dict(\"Transcript stable ID version\" => :id, \"Gene name\" => :gene))\n",
    "\n",
    "\n",
    "# Map transcript to gene name\n",
    "\n",
    "tp_trge_sa = sort!(innerjoin(tp_tr_sa, tr_ge, on = :id), :gene)\n",
    "\n",
    "tp_ge__sa = select!(tp_trge_sa, [n for n in names(tp_trge_sa) if n != \"id\"])\n",
    "\n",
    "\n",
    "# Save the mean tpm for each gene\n",
    "\n",
    "gr = groupby(tp_ge__sa, :gene)\n",
    "\n",
    "sa_ = [n for n in names(tp_trge_sa) if n != \"gene\"]\n",
    "\n",
    "tp_ge_sa = DataFrame()\n",
    "\n",
    "for sa in sa_\n",
    "\n",
    "    ge_sa = combine(gr, sa => sum)\n",
    "\n",
    "    if isempty(tp_ge_sa)\n",
    "\n",
    "        append!(tp_ge_sa, ge_sa)\n",
    "\n",
    "    else\n",
    "\n",
    "        tp_ge_sa = innerjoin(tp_ge_sa, ge_sa, on = :gene)\n",
    "\n",
    "    end\n",
    "\n",
    "end\n",
    "\n",
    "println(tp_ge_sa[1:5, :])\n",
    "\n",
    "# Save gene by sample\n",
    "\n",
    "CSV.write(joinpath(\"../output/\", ex, \"gene_x_sample.tsv\"), tp_ge_sa)"
   ]
  }
 ],
 "metadata": {
  "kernelspec": {
   "display_name": "Julia 1.5.2",
   "language": "julia",
   "name": "julia-1.5"
  },
  "language_info": {
   "file_extension": ".jl",
   "mimetype": "application/julia",
   "name": "julia",
   "version": "1.5.2"
  }
 },
 "nbformat": 4,
 "nbformat_minor": 5
}
