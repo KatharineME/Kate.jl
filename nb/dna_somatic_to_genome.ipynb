{
 "cells": [
  {
   "cell_type": "code",
   "execution_count": null,
   "metadata": {},
   "outputs": [],
   "source": [
    "include(\"../src/ProcessSequence.jl\")\n",
    "\n",
    "# sample name\n",
    "sa = \"cell_line\"\n",
    "\n",
    "# is dna targeted\n",
    "ta = false\n",
    "\n",
    "fq1 = \"input/cell_line/KTB21-1_S77_all_R1_001.fastq.gz\"\n",
    "\n",
    "fq2 = \"input/cell_line/KTB21-1_S77_all_R2_001.fastq.gz\"\n",
    "\n",
    "n_jo = 8\n",
    "\n",
    "# G of memory\n",
    "n_me = 40;"
   ]
  },
  {
   "cell_type": "code",
   "execution_count": null,
   "metadata": {},
   "outputs": [],
   "source": [
    "papr = dirname(@__DIR__)\n",
    "\n",
    "paou = joinpath(project_dir, \"output\")\n",
    "\n",
    "paip = joinpath(project_dir, \"input\")\n",
    "\n",
    "pasa = joinpath(input_dir, sample_name)\n",
    "\n",
    "pare = joinpath(input_dir, \"reference\")\n",
    "\n",
    "pasn = \"/opt/snpeff/snpEff/snpEff.jar\";"
   ]
  },
  {
   "cell_type": "code",
   "execution_count": null,
   "metadata": {},
   "outputs": [],
   "source": [
    "ProcessSequence.check_program()"
   ]
  },
  {
   "cell_type": "code",
   "execution_count": null,
   "metadata": {},
   "outputs": [],
   "source": [
    "process_dna_arguments = (\n",
    "    joinpath(pare, \"GCA_000001405.15_GRCh38_no_alt_analysis_set.fna.gz\"),\n",
    "    joinpath(pare, \"chromosome.bed.gz\"),\n",
    "    joinpath(pare, \"chrn_n.tsv\"),\n",
    "    n_jo,\n",
    "    n_me,\n",
    "    1,\n",
    "    pasn,\n",
    ")"
   ]
  },
  {
   "cell_type": "code",
   "execution_count": null,
   "metadata": {},
   "outputs": [],
   "source": [
    "ProcessSequence.process_soma_dna(\n",
    "    joinpath(project_dir, project_json[\"germ_dna.1.fastq.gz\"]),\n",
    "    joinpath(project_dir, project_json[\"germ_dna.2.fastq.gz\"]),\n",
    "    joinpath(project_dir, project_json[\"soma_dna.1.fastq.gz\"]),\n",
    "    joinpath(project_dir, project_json[\"soma_dna.2.fastq.gz\"]),\n",
    "    project_json[\"dna_is_targeted\"],\n",
    "    joinpath(output_dir, \"process_soma_dna\"),\n",
    "    process_dna_arguments...,\n",
    ")"
   ]
  }
 ],
 "metadata": {
  "@webio": {
   "lastCommId": null,
   "lastKernelId": null
  },
  "kernelspec": {
   "display_name": "Julia 1.5.2",
   "language": "julia",
   "name": "julia-1.5"
  },
  "language_info": {
   "file_extension": ".jl",
   "mimetype": "application/julia",
   "name": "julia",
   "version": "1.5.2"
  }
 },
 "nbformat": 4,
 "nbformat_minor": 4
}
