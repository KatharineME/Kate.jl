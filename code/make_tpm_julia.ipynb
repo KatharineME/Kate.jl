{
 "cells": [
  {
   "cell_type": "markdown",
   "id": "a3df6dce-0a25-43c9-8ed8-4194ec988220",
   "metadata": {},
   "source": [
    "### Make transcript by sample"
   ]
  },
  {
   "cell_type": "code",
   "execution_count": null,
   "id": "2e3d6e51-6b44-4a55-b879-fc16b9ed0fbd",
   "metadata": {
    "tags": []
   },
   "outputs": [],
   "source": [
    "using CSV\n",
    "\n",
    "using DataFrames\n",
    "\n",
    "tp_tr_sa = DataFrame()\n",
    "\n",
    "for di in readdir(joinpath(\"../output/\", ex, \"psuedoalign/\"), join = true)\n",
    "\n",
    "    if !occursin(\"DS_Store\", di)\n",
    "\n",
    "        pa = string(joinpath(di, \"abundance.tsv\"))\n",
    "\n",
    "        tpm = DataFrame(CSV.File(pa, delim = \"\t\"))[:, [:target_id, :tpm]]\n",
    "\n",
    "        sa = last(splitdir(di))\n",
    "\n",
    "        tpm = rename!(tpm, :tpm => sa)\n",
    "\n",
    "        if isempty(tp_tr_sa)\n",
    "\n",
    "            tp_tr_sa = tpm\n",
    "\n",
    "        else\n",
    "\n",
    "            println(ncol(tp_tr_sa))\n",
    "\n",
    "            id = ncol(tp_tr_sa) + 1\n",
    "\n",
    "            insertcols!(tp_tr_sa, id, sa => tpm[:, sa])\n",
    "\n",
    "        end\n",
    "\n",
    "    end\n",
    "\n",
    "end\n",
    "\n",
    "tp_tr_sa = rename!(tp_tr_sa, :target_id => :id)\n",
    "\n",
    "println(first(tp_tr_sa))\n",
    "\n",
    "CSV.write(joinpath(\"../output/\", ex, \"transcript_x_sample.tsv\"), tp_tr_sa)"
   ]
  },
  {
   "cell_type": "markdown",
   "id": "ae6193e0-550d-4378-af55-6c7a766a4314",
   "metadata": {},
   "source": [
    "### Make gene by sample"
   ]
  },
  {
   "cell_type": "code",
   "execution_count": null,
   "id": "2501deb8-a0aa-4f40-a595-1c49856b7b88",
   "metadata": {
    "tags": []
   },
   "outputs": [],
   "source": [
    "using Statistics\n",
    "\n",
    "tr_ge = DataFrame(CSV.File(pat, delim = \"\t\"))\n",
    "\n",
    "tr_ge = rename!(tr_ge, Dict(\"Transcript stable ID version\" => :id, \"Gene name\" => :gene))\n",
    "\n",
    "\n",
    "# Map transcript to gene name\n",
    "\n",
    "tp_trge_sa = sort!(innerjoin(tp_tr_sa, tr_ge, on = :id), :gene)\n",
    "\n",
    "tp_ge__sa = select!(tp_trge_sa, [n for n in names(tp_trge_sa) if n != \"id\"])\n",
    "\n",
    "\n",
    "# Save the mean tpm for each gene\n",
    "\n",
    "gr = groupby(tp_ge__sa, :gene)\n",
    "\n",
    "sa_ = [n for n in names(tp_trge_sa) if n != \"gene\"]\n",
    "\n",
    "tp_ge_sa = DataFrame()\n",
    "\n",
    "for sa in sa_\n",
    "\n",
    "    ge_sa = combine(gr, sa => sum)\n",
    "\n",
    "    if isempty(tp_ge_sa)\n",
    "\n",
    "        append!(tp_ge_sa, ge_sa)\n",
    "\n",
    "    else\n",
    "\n",
    "        tp_ge_sa = innerjoin(tp_ge_sa, ge_sa, on = :gene)\n",
    "\n",
    "    end\n",
    "\n",
    "end\n",
    "\n",
    "println(tp_ge_sa[1:5, :])\n",
    "\n",
    "\n",
    "# Save gene by sample\n",
    "\n",
    "CSV.write(joinpath(\"../output/\", ex, \"gene_x_sample.tsv\"), tp_ge_sa)"
   ]
  }
 ],
 "metadata": {
  "kernelspec": {
   "display_name": "Julia 1.5.2",
   "language": "julia",
   "name": "julia-1.5"
  },
  "language_info": {
   "file_extension": ".jl",
   "mimetype": "application/julia",
   "name": "julia",
   "version": "1.5.2"
  }
 },
 "nbformat": 4,
 "nbformat_minor": 5
}
