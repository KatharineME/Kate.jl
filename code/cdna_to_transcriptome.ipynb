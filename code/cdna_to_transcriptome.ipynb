{
 "cells": [
  {
   "cell_type": "code",
   "execution_count": 1,
   "id": "ec4b5eb7-f81d-4399-a82e-7bdd64904648",
   "metadata": {},
   "outputs": [
    {
     "name": "stderr",
     "output_type": "stream",
     "text": [
      "┌ Warning: no Manifest.toml file found, static paths used\n",
      "└ @ Revise /opt/julia/packages/Revise/9lZUE/src/packagedef.jl:1369\n"
     ]
    },
    {
     "data": {
      "text/plain": [
       "Main.Kate"
      ]
     },
     "execution_count": 1,
     "metadata": {},
     "output_type": "execute_result"
    }
   ],
   "source": [
    "using Revise\n",
    "\n",
    "include(\"../src/Kate.jl\")"
   ]
  },
  {
   "cell_type": "markdown",
   "id": "ad3d58f3-45fa-4dfe-a9f2-f3cf5ff75cf8",
   "metadata": {},
   "source": [
    "### Test Environment"
   ]
  },
  {
   "cell_type": "code",
   "execution_count": 2,
   "id": "fb7653c8-f7ab-40b9-a892-c27f2cb29342",
   "metadata": {
    "tags": []
   },
   "outputs": [
    {
     "name": "stdout",
     "output_type": "stream",
     "text": [
      "Testing environment...\n",
      "\n",
      "/opt/conda/bin/skewer\n",
      "/opt/conda/bin/fastqc\n",
      "/opt/conda/bin/bgzip\n",
      "/opt/conda/bin/tabix\n",
      "/opt/conda/bin/minimap2\n",
      "/opt/conda/bin/samtools\n",
      "/opt/conda/bin/bcftools\n",
      "/opt/conda/bin/kallisto\n",
      "/opt/conda/envs/py2/bin/configManta.py\n",
      "/opt/conda/envs/py2/bin/configureStrelkaGermlineWorkflow.py\n",
      "/opt/conda/envs/py2/bin/configureStrelkaSomaticWorkflow.py\n"
     ]
    }
   ],
   "source": [
    "Kate.test()"
   ]
  },
  {
   "cell_type": "markdown",
   "id": "3a1d84f5-d234-4b8b-a6e6-dd3876c97d02",
   "metadata": {},
   "source": [
    "### Set Parameters"
   ]
  },
  {
   "cell_type": "code",
   "execution_count": 3,
   "id": "7b7d9204-26a7-4423-b2bf-50f58bb284ee",
   "metadata": {
    "tags": []
   },
   "outputs": [],
   "source": [
    "# Experiment \n",
    "ex = \"kwat_cat\"\n",
    "\n",
    "# Fragment length (not needed if paired end)\n",
    "fr = 51\n",
    "\n",
    "# Standard deviation of read length (not needed if paired end)\n",
    "sd = 0.05\n",
    "\n",
    "# Reference transcriptome\n",
    "paf = \"../input/human_reference_transcriptome/Homo_sapiens.GRCh38.cdna.all.fa.gz\"\n",
    "\n",
    "# paf = \"../input/mouse_reference_transcriptome/Mus_musculus.GRCm38.cdna.all.fa.gz\"\n",
    "\n",
    "pat = \"../input/human_reference_transcriptome/enst_gene_name.tsv\"\n",
    "\n",
    "n_jo = 10;"
   ]
  },
  {
   "cell_type": "code",
   "execution_count": 4,
   "id": "94002ede-dbda-44fd-9b03-fab240be0557",
   "metadata": {
    "tags": []
   },
   "outputs": [],
   "source": [
    "pai = joinpath(\"../input/\")\n",
    "\n",
    "pae = joinpath(pai, ex)\n",
    "\n",
    "pao = joinpath(\"../output/\", ex);"
   ]
  },
  {
   "cell_type": "markdown",
   "id": "97675c11-9431-48f2-ae80-c3602dc99ee3",
   "metadata": {},
   "source": [
    "### Check reads"
   ]
  },
  {
   "cell_type": "code",
   "execution_count": 5,
   "id": "261b7f79-fac0-43a9-ba72-5404522c8a2b",
   "metadata": {
    "tags": []
   },
   "outputs": [
    {
     "name": "stdout",
     "output_type": "stream",
     "text": [
      "Walking sample directory: ../input/kwat_cat\n",
      "\n",
      "Number of .fastq or .fq files found in directories walked: 0\n",
      "\n",
      "Number of fastq.gz or fq.gz files found in directories walked: 52\n",
      "\n",
      "Done at 2021-10-31T19:20:51.44 in 3 milliseconds.\n",
      "\n"
     ]
    },
    {
     "data": {
      "text/plain": [
       "52-element Array{Any,1}:\n",
       " \"../input/kwat_cat/136_1_s1_R1.fastq.gz\"\n",
       " \"../input/kwat_cat/136_1_s1_R2.fastq.gz\"\n",
       " \"../input/kwat_cat/136_2_s2_R1.fastq.gz\"\n",
       " \"../input/kwat_cat/136_2_s2_R2.fastq.gz\"\n",
       " \"../input/kwat_cat/136_3_s3_R1.fastq.gz\"\n",
       " \"../input/kwat_cat/136_3_s3_R2.fastq.gz\"\n",
       " \"../input/kwat_cat/136_4_s4_R1.fastq.gz\"\n",
       " \"../input/kwat_cat/136_4_s4_R2.fastq.gz\"\n",
       " \"../input/kwat_cat/136_5_s5_R1.fastq.gz\"\n",
       " \"../input/kwat_cat/136_5_s5_R2.fastq.gz\"\n",
       " \"../input/kwat_cat/136_6_s6_R1.fastq.gz\"\n",
       " \"../input/kwat_cat/136_6_s6_R2.fastq.gz\"\n",
       " \"../input/kwat_cat/136_7_s7_R1.fastq.gz\"\n",
       " ⋮\n",
       " \"../input/kwat_cat/150_22_s22_R1.fastq.gz\"\n",
       " \"../input/kwat_cat/150_22_s22_R2.fastq.gz\"\n",
       " \"../input/kwat_cat/150_23_s23_R1.fastq.gz\"\n",
       " \"../input/kwat_cat/150_23_s23_R2.fastq.gz\"\n",
       " \"../input/kwat_cat/150_24_s24_R1.fastq.gz\"\n",
       " \"../input/kwat_cat/150_24_s24_R2.fastq.gz\"\n",
       " \"../input/kwat_cat/150_7_s7_R1.fastq.gz\"\n",
       " \"../input/kwat_cat/150_7_s7_R2.fastq.gz\"\n",
       " \"../input/kwat_cat/150_8_s8_R1.fastq.gz\"\n",
       " \"../input/kwat_cat/150_8_s8_R2.fastq.gz\"\n",
       " \"../input/kwat_cat/150_9_s9_R1.fastq.gz\"\n",
       " \"../input/kwat_cat/150_9_s9_R2.fastq.gz\""
      ]
     },
     "execution_count": 5,
     "metadata": {},
     "output_type": "execute_result"
    }
   ],
   "source": [
    "re_ = Kate.find(pae)"
   ]
  },
  {
   "cell_type": "code",
   "execution_count": null,
   "id": "eab53d7a-3450-4dd7-a28d-c95fc169da50",
   "metadata": {
    "tags": []
   },
   "outputs": [],
   "source": [
    "Kate.check(re_, joinpath(pao, string(\"check_raw\")), n_jo)"
   ]
  },
  {
   "cell_type": "markdown",
   "id": "a710f816-5c70-40d3-9b84-5c297e1b0cda",
   "metadata": {},
   "source": [
    "### Count transcript"
   ]
  },
  {
   "cell_type": "code",
   "execution_count": null,
   "id": "4d773944-781d-432e-9889-cdd723ba9736",
   "metadata": {
    "tags": []
   },
   "outputs": [
    {
     "name": "stdout",
     "output_type": "stream",
     "text": [
      "entering\n",
      "this is fq1: ../input/kwat_cat/136_1_s1_R1.fastq.gz\n",
      "this is the sa: 136_1_s1\n",
      "Working on sample: 136_1_s1\n",
      "\n",
      "Counting transcript ...\n",
      "\n",
      "kallisto index exists at: ../input/human_reference_transcriptome/Homo_sapiens.GRCh38.cdna.all.fa.gz.kallisto_index\n",
      "\n",
      "`\u001b[4mkallisto\u001b[24m \u001b[4mquant\u001b[24m \u001b[4m--threads\u001b[24m \u001b[4m10\u001b[24m \u001b[4m--index\u001b[24m \u001b[4m../input/human_reference_transcriptome/Homo_sapiens.GRCh38.cdna.all.fa.gz.kallisto_index\u001b[24m \u001b[4m--output-dir\u001b[24m \u001b[4m../output/kwat_cat/psuedoalign/136_1_s1\u001b[24m \u001b[4m../input/kwat_cat/136_1_s1_R1.fastq.gz\u001b[24m \u001b[4m../input/kwat_cat/136_1_s1_R2.fastq.gz\u001b[24m`\n"
     ]
    },
    {
     "name": "stderr",
     "output_type": "stream",
     "text": [
      "\n",
      "[quant] fragment length distribution will be estimated from the data\n",
      "[index] k-mer length: 31\n",
      "[index] number of targets: 178,136\n",
      "[index] number of k-mers: 105,687,321\n",
      "[index] number of equivalence classes: 711,147\n",
      "[quant] running in paired-end mode\n",
      "[quant] will process pair 1: ../input/kwat_cat/136_1_s1_R1.fastq.gz\n",
      "                             ../input/kwat_cat/136_1_s1_R2.fastq.gz\n",
      "[quant] finding pseudoalignments for the reads ... done\n",
      "[quant] processed 42,887,011 reads, 37,536,565 reads pseudoaligned\n",
      "[quant] estimated average fragment length: 131.188\n",
      "[   em] quantifying the abundances ... done\n",
      "[   em] the Expectation-Maximization algorithm ran for 1,154 rounds\n",
      "\n"
     ]
    },
    {
     "name": "stdout",
     "output_type": "stream",
     "text": [
      "Done at 2021-10-31T19:24:50.262 in 3 minutes, 54 seconds, 730 milliseconds.\n",
      "\n",
      "this is fq1: ../input/kwat_cat/136_1_s1_R2.fastq.gz\n",
      "this is fq1: ../input/kwat_cat/136_2_s2_R1.fastq.gz\n",
      "this is the sa: 136_2_s2\n",
      "Working on sample: 136_2_s2\n",
      "\n",
      "Counting transcript ...\n",
      "\n",
      "kallisto index exists at: ../input/human_reference_transcriptome/Homo_sapiens.GRCh38.cdna.all.fa.gz.kallisto_index\n",
      "\n",
      "`\u001b[4mkallisto\u001b[24m \u001b[4mquant\u001b[24m \u001b[4m--threads\u001b[24m \u001b[4m10\u001b[24m \u001b[4m--index\u001b[24m \u001b[4m../input/human_reference_transcriptome/Homo_sapiens.GRCh38.cdna.all.fa.gz.kallisto_index\u001b[24m \u001b[4m--output-dir\u001b[24m \u001b[4m../output/kwat_cat/psuedoalign/136_2_s2\u001b[24m \u001b[4m../input/kwat_cat/136_2_s2_R1.fastq.gz\u001b[24m \u001b[4m../input/kwat_cat/136_2_s2_R2.fastq.gz\u001b[24m`\n"
     ]
    },
    {
     "name": "stderr",
     "output_type": "stream",
     "text": [
      "\n",
      "[quant] fragment length distribution will be estimated from the data\n",
      "[index] k-mer length: 31\n",
      "[index] number of targets: 178,136\n",
      "[index] number of k-mers: 105,687,321\n",
      "[index] number of equivalence classes: 711,147\n",
      "[quant] running in paired-end mode\n",
      "[quant] will process pair 1: ../input/kwat_cat/136_2_s2_R1.fastq.gz\n",
      "                             ../input/kwat_cat/136_2_s2_R2.fastq.gz\n",
      "[quant] finding pseudoalignments for the reads ... done\n",
      "[quant] processed 54,067,643 reads, 47,986,872 reads pseudoaligned\n",
      "[quant] estimated average fragment length: 210.142\n",
      "[   em] quantifying the abundances ... done\n",
      "[   em] the Expectation-Maximization algorithm ran for 1,284 rounds\n",
      "\n"
     ]
    },
    {
     "name": "stdout",
     "output_type": "stream",
     "text": [
      "Done at 2021-10-31T19:29:19.44 in 4 minutes, 29 seconds, 119 milliseconds.\n",
      "\n",
      "this is fq1: ../input/kwat_cat/136_2_s2_R2.fastq.gz\n",
      "this is fq1: ../input/kwat_cat/136_3_s3_R1.fastq.gz\n",
      "this is the sa: 136_3_s3\n",
      "Working on sample: 136_3_s3\n",
      "\n",
      "Counting transcript ...\n",
      "\n",
      "kallisto index exists at: ../input/human_reference_transcriptome/Homo_sapiens.GRCh38.cdna.all.fa.gz.kallisto_index\n",
      "\n",
      "`\u001b[4mkallisto\u001b[24m \u001b[4mquant\u001b[24m \u001b[4m--threads\u001b[24m \u001b[4m10\u001b[24m \u001b[4m--index\u001b[24m \u001b[4m../input/human_reference_transcriptome/Homo_sapiens.GRCh38.cdna.all.fa.gz.kallisto_index\u001b[24m \u001b[4m--output-dir\u001b[24m \u001b[4m../output/kwat_cat/psuedoalign/136_3_s3\u001b[24m \u001b[4m../input/kwat_cat/136_3_s3_R1.fastq.gz\u001b[24m \u001b[4m../input/kwat_cat/136_3_s3_R2.fastq.gz\u001b[24m`\n"
     ]
    },
    {
     "name": "stderr",
     "output_type": "stream",
     "text": [
      "\n",
      "[quant] fragment length distribution will be estimated from the data\n",
      "[index] k-mer length: 31\n",
      "[index] number of targets: 178,136\n",
      "[index] number of k-mers: 105,687,321\n",
      "[index] number of equivalence classes: 711,147\n",
      "[quant] running in paired-end mode\n",
      "[quant] will process pair 1: ../input/kwat_cat/136_3_s3_R1.fastq.gz\n",
      "                             ../input/kwat_cat/136_3_s3_R2.fastq.gz\n",
      "[quant] finding pseudoalignments for the reads ... done\n",
      "[quant] processed 42,872,313 reads, 36,885,939 reads pseudoaligned\n",
      "[quant] estimated average fragment length: 120.963\n",
      "[   em] quantifying the abundances ... done\n",
      "[   em] the Expectation-Maximization algorithm ran for 1,303 rounds\n",
      "\n"
     ]
    },
    {
     "name": "stdout",
     "output_type": "stream",
     "text": [
      "Done at 2021-10-31T19:33:13.343 in 3 minutes, 53 seconds, 903 milliseconds.\n",
      "\n",
      "this is fq1: ../input/kwat_cat/136_3_s3_R2.fastq.gz\n",
      "this is fq1: ../input/kwat_cat/136_4_s4_R1.fastq.gz\n",
      "this is the sa: 136_4_s4\n",
      "Working on sample: 136_4_s4\n",
      "\n",
      "Counting transcript ...\n",
      "\n",
      "kallisto index exists at: ../input/human_reference_transcriptome/Homo_sapiens.GRCh38.cdna.all.fa.gz.kallisto_index\n",
      "\n",
      "`\u001b[4mkallisto\u001b[24m \u001b[4mquant\u001b[24m \u001b[4m--threads\u001b[24m \u001b[4m10\u001b[24m \u001b[4m--index\u001b[24m \u001b[4m../input/human_reference_transcriptome/Homo_sapiens.GRCh38.cdna.all.fa.gz.kallisto_index\u001b[24m \u001b[4m--output-dir\u001b[24m \u001b[4m../output/kwat_cat/psuedoalign/136_4_s4\u001b[24m \u001b[4m../input/kwat_cat/136_4_s4_R1.fastq.gz\u001b[24m \u001b[4m../input/kwat_cat/136_4_s4_R2.fastq.gz\u001b[24m`\n"
     ]
    },
    {
     "name": "stderr",
     "output_type": "stream",
     "text": [
      "\n",
      "[quant] fragment length distribution will be estimated from the data\n",
      "[index] k-mer length: 31\n",
      "[index] number of targets: 178,136\n",
      "[index] number of k-mers: 105,687,321\n",
      "[index] number of equivalence classes: 711,147\n",
      "[quant] running in paired-end mode\n",
      "[quant] will process pair 1: ../input/kwat_cat/136_4_s4_R1.fastq.gz\n",
      "                             ../input/kwat_cat/136_4_s4_R2.fastq.gz\n",
      "[quant] finding pseudoalignments for the reads ... done\n",
      "[quant] processed 45,463,821 reads, 38,169,861 reads pseudoaligned\n",
      "[quant] estimated average fragment length: 150.329\n",
      "[   em] quantifying the abundances ... done\n",
      "[   em] the Expectation-Maximization algorithm ran for 1,558 rounds\n",
      "\n"
     ]
    },
    {
     "name": "stdout",
     "output_type": "stream",
     "text": [
      "Done at 2021-10-31T19:37:23.521 in 4 minutes, 10 seconds, 178 milliseconds.\n",
      "\n",
      "this is fq1: ../input/kwat_cat/136_4_s4_R2.fastq.gz\n",
      "this is fq1: ../input/kwat_cat/136_5_s5_R1.fastq.gz\n",
      "this is the sa: 136_5_s5\n",
      "Working on sample: 136_5_s5\n",
      "\n",
      "Counting transcript ...\n",
      "\n",
      "kallisto index exists at: ../input/human_reference_transcriptome/Homo_sapiens.GRCh38.cdna.all.fa.gz.kallisto_index\n",
      "\n",
      "`\u001b[4mkallisto\u001b[24m \u001b[4mquant\u001b[24m \u001b[4m--threads\u001b[24m \u001b[4m10\u001b[24m \u001b[4m--index\u001b[24m \u001b[4m../input/human_reference_transcriptome/Homo_sapiens.GRCh38.cdna.all.fa.gz.kallisto_index\u001b[24m \u001b[4m--output-dir\u001b[24m \u001b[4m../output/kwat_cat/psuedoalign/136_5_s5\u001b[24m \u001b[4m../input/kwat_cat/136_5_s5_R1.fastq.gz\u001b[24m \u001b[4m../input/kwat_cat/136_5_s5_R2.fastq.gz\u001b[24m`\n"
     ]
    },
    {
     "name": "stderr",
     "output_type": "stream",
     "text": [
      "\n",
      "[quant] fragment length distribution will be estimated from the data\n",
      "[index] k-mer length: 31\n",
      "[index] number of targets: 178,136\n",
      "[index] number of k-mers: 105,687,321\n",
      "[index] number of equivalence classes: 711,147\n",
      "[quant] running in paired-end mode\n",
      "[quant] will process pair 1: ../input/kwat_cat/136_5_s5_R1.fastq.gz\n",
      "                             ../input/kwat_cat/136_5_s5_R2.fastq.gz\n",
      "[quant] finding pseudoalignments for the reads ... done\n",
      "[quant] processed 45,927,285 reads, 39,306,708 reads pseudoaligned\n",
      "[quant] estimated average fragment length: 132.884\n",
      "[   em] quantifying the abundances ... done\n",
      "[   em] the Expectation-Maximization algorithm ran for 1,183 rounds\n",
      "\n"
     ]
    },
    {
     "name": "stdout",
     "output_type": "stream",
     "text": [
      "Done at 2021-10-31T19:41:22.677 in 3 minutes, 59 seconds, 156 milliseconds.\n",
      "\n",
      "this is fq1: ../input/kwat_cat/136_5_s5_R2.fastq.gz\n",
      "this is fq1: ../input/kwat_cat/136_6_s6_R1.fastq.gz\n",
      "this is the sa: 136_6_s6\n",
      "Working on sample: 136_6_s6\n",
      "\n",
      "Counting transcript ...\n",
      "\n",
      "kallisto index exists at: ../input/human_reference_transcriptome/Homo_sapiens.GRCh38.cdna.all.fa.gz.kallisto_index\n",
      "\n",
      "`\u001b[4mkallisto\u001b[24m \u001b[4mquant\u001b[24m \u001b[4m--threads\u001b[24m \u001b[4m10\u001b[24m \u001b[4m--index\u001b[24m \u001b[4m../input/human_reference_transcriptome/Homo_sapiens.GRCh38.cdna.all.fa.gz.kallisto_index\u001b[24m \u001b[4m--output-dir\u001b[24m \u001b[4m../output/kwat_cat/psuedoalign/136_6_s6\u001b[24m \u001b[4m../input/kwat_cat/136_6_s6_R1.fastq.gz\u001b[24m \u001b[4m../input/kwat_cat/136_6_s6_R2.fastq.gz\u001b[24m`\n"
     ]
    },
    {
     "name": "stderr",
     "output_type": "stream",
     "text": [
      "\n",
      "[quant] fragment length distribution will be estimated from the data\n",
      "[index] k-mer length: 31\n",
      "[index] number of targets: 178,136\n",
      "[index] number of k-mers: 105,687,321\n",
      "[index] number of equivalence classes: 711,147\n",
      "[quant] running in paired-end mode\n",
      "[quant] will process pair 1: ../input/kwat_cat/136_6_s6_R1.fastq.gz\n",
      "                             ../input/kwat_cat/136_6_s6_R2.fastq.gz\n",
      "[quant] finding pseudoalignments for the reads ... done\n",
      "[quant] processed 47,562,788 reads, 41,209,423 reads pseudoaligned\n",
      "[quant] estimated average fragment length: 156.587\n",
      "[   em] quantifying the abundances ... done\n",
      "[   em] the Expectation-Maximization algorithm ran for 1,423 rounds\n",
      "\n"
     ]
    },
    {
     "name": "stdout",
     "output_type": "stream",
     "text": [
      "Done at 2021-10-31T19:45:37.226 in 4 minutes, 14 seconds, 549 milliseconds.\n",
      "\n",
      "this is fq1: ../input/kwat_cat/136_6_s6_R2.fastq.gz\n",
      "this is fq1: ../input/kwat_cat/136_7_s7_R1.fastq.gz\n",
      "this is the sa: 136_7_s7\n",
      "Working on sample: 136_7_s7\n",
      "\n",
      "Counting transcript ...\n",
      "\n",
      "kallisto index exists at: ../input/human_reference_transcriptome/Homo_sapiens.GRCh38.cdna.all.fa.gz.kallisto_index\n",
      "\n",
      "`\u001b[4mkallisto\u001b[24m \u001b[4mquant\u001b[24m \u001b[4m--threads\u001b[24m \u001b[4m10\u001b[24m \u001b[4m--index\u001b[24m \u001b[4m../input/human_reference_transcriptome/Homo_sapiens.GRCh38.cdna.all.fa.gz.kallisto_index\u001b[24m \u001b[4m--output-dir\u001b[24m \u001b[4m../output/kwat_cat/psuedoalign/136_7_s7\u001b[24m \u001b[4m../input/kwat_cat/136_7_s7_R1.fastq.gz\u001b[24m \u001b[4m../input/kwat_cat/136_7_s7_R2.fastq.gz\u001b[24m`\n"
     ]
    },
    {
     "name": "stderr",
     "output_type": "stream",
     "text": [
      "\n",
      "[quant] fragment length distribution will be estimated from the data\n",
      "[index] k-mer length: 31\n",
      "[index] number of targets: 178,136\n",
      "[index] number of k-mers: 105,687,321\n",
      "[index] number of equivalence classes: 711,147\n",
      "[quant] running in paired-end mode\n",
      "[quant] will process pair 1: ../input/kwat_cat/136_7_s7_R1.fastq.gz\n",
      "                             ../input/kwat_cat/136_7_s7_R2.fastq.gz\n",
      "[quant] finding pseudoalignments for the reads ... done\n",
      "[quant] processed 38,427,724 reads, 33,185,761 reads pseudoaligned\n",
      "[quant] estimated average fragment length: 162.899\n",
      "[   em] quantifying the abundances ... done\n",
      "[   em] the Expectation-Maximization algorithm ran for 1,304 rounds\n",
      "\n"
     ]
    },
    {
     "name": "stdout",
     "output_type": "stream",
     "text": [
      "Done at 2021-10-31T19:49:21.721 in 3 minutes, 44 seconds, 494 milliseconds.\n",
      "\n",
      "this is fq1: ../input/kwat_cat/136_7_s7_R2.fastq.gz\n",
      "this is fq1: ../input/kwat_cat/136_8_s8_R1.fastq.gz\n",
      "this is the sa: 136_8_s8\n",
      "Working on sample: 136_8_s8\n",
      "\n",
      "Counting transcript ...\n",
      "\n",
      "kallisto index exists at: ../input/human_reference_transcriptome/Homo_sapiens.GRCh38.cdna.all.fa.gz.kallisto_index\n",
      "\n",
      "`\u001b[4mkallisto\u001b[24m \u001b[4mquant\u001b[24m \u001b[4m--threads\u001b[24m \u001b[4m10\u001b[24m \u001b[4m--index\u001b[24m \u001b[4m../input/human_reference_transcriptome/Homo_sapiens.GRCh38.cdna.all.fa.gz.kallisto_index\u001b[24m \u001b[4m--output-dir\u001b[24m \u001b[4m../output/kwat_cat/psuedoalign/136_8_s8\u001b[24m \u001b[4m../input/kwat_cat/136_8_s8_R1.fastq.gz\u001b[24m \u001b[4m../input/kwat_cat/136_8_s8_R2.fastq.gz\u001b[24m`\n"
     ]
    },
    {
     "name": "stderr",
     "output_type": "stream",
     "text": [
      "\n",
      "[quant] fragment length distribution will be estimated from the data\n",
      "[index] k-mer length: 31\n",
      "[index] number of targets: 178,136\n",
      "[index] number of k-mers: 105,687,321\n",
      "[index] number of equivalence classes: 711,147\n",
      "[quant] running in paired-end mode\n",
      "[quant] will process pair 1: ../input/kwat_cat/136_8_s8_R1.fastq.gz\n",
      "                             ../input/kwat_cat/136_8_s8_R2.fastq.gz\n",
      "[quant] finding pseudoalignments for the reads ... done\n",
      "[quant] processed 48,557,290 reads, 41,634,153 reads pseudoaligned\n",
      "[quant] estimated average fragment length: 172.314\n",
      "[   em] quantifying the abundances ... done\n",
      "[   em] the Expectation-Maximization algorithm ran for 1,225 rounds\n",
      "\n"
     ]
    },
    {
     "name": "stdout",
     "output_type": "stream",
     "text": [
      "Done at 2021-10-31T19:53:42.994 in 4 minutes, 21 seconds, 272 milliseconds.\n",
      "\n",
      "this is fq1: ../input/kwat_cat/136_8_s8_R2.fastq.gz\n",
      "this is fq1: ../input/kwat_cat/150_10_s10_R1.fastq.gz\n",
      "this is the sa: 150_10_s10\n",
      "Working on sample: 150_10_s10\n",
      "\n",
      "Counting transcript ...\n",
      "\n",
      "kallisto index exists at: ../input/human_reference_transcriptome/Homo_sapiens.GRCh38.cdna.all.fa.gz.kallisto_index\n",
      "\n",
      "`\u001b[4mkallisto\u001b[24m \u001b[4mquant\u001b[24m \u001b[4m--threads\u001b[24m \u001b[4m10\u001b[24m \u001b[4m--index\u001b[24m \u001b[4m../input/human_reference_transcriptome/Homo_sapiens.GRCh38.cdna.all.fa.gz.kallisto_index\u001b[24m \u001b[4m--output-dir\u001b[24m \u001b[4m../output/kwat_cat/psuedoalign/150_10_s10\u001b[24m \u001b[4m../input/kwat_cat/150_10_s10_R1.fastq.gz\u001b[24m \u001b[4m../input/kwat_cat/150_10_s10_R2.fastq.gz\u001b[24m`\n"
     ]
    },
    {
     "name": "stderr",
     "output_type": "stream",
     "text": [
      "\n",
      "[quant] fragment length distribution will be estimated from the data\n",
      "[index] k-mer length: 31\n",
      "[index] number of targets: 178,136\n",
      "[index] number of k-mers: 105,687,321\n",
      "[index] number of equivalence classes: 711,147\n",
      "[quant] running in paired-end mode\n",
      "[quant] will process pair 1: ../input/kwat_cat/150_10_s10_R1.fastq.gz\n",
      "                             ../input/kwat_cat/150_10_s10_R2.fastq.gz\n",
      "[quant] finding pseudoalignments for the reads ... done\n",
      "[quant] processed 44,324,632 reads, 38,912,633 reads pseudoaligned\n",
      "[quant] estimated average fragment length: 138.49\n",
      "[   em] quantifying the abundances ... done\n",
      "[   em] the Expectation-Maximization algorithm ran for 1,268 rounds\n",
      "\n"
     ]
    },
    {
     "name": "stdout",
     "output_type": "stream",
     "text": [
      "Done at 2021-10-31T19:57:56.012 in 4 minutes, 13 seconds, 16 milliseconds.\n",
      "\n",
      "this is fq1: ../input/kwat_cat/150_10_s10_R2.fastq.gz\n",
      "this is fq1: ../input/kwat_cat/150_11_s11_R1.fastq.gz\n",
      "this is the sa: 150_11_s11\n",
      "Working on sample: 150_11_s11\n",
      "\n",
      "Counting transcript ...\n",
      "\n",
      "kallisto index exists at: ../input/human_reference_transcriptome/Homo_sapiens.GRCh38.cdna.all.fa.gz.kallisto_index\n",
      "\n",
      "`\u001b[4mkallisto\u001b[24m \u001b[4mquant\u001b[24m \u001b[4m--threads\u001b[24m \u001b[4m10\u001b[24m \u001b[4m--index\u001b[24m \u001b[4m../input/human_reference_transcriptome/Homo_sapiens.GRCh38.cdna.all.fa.gz.kallisto_index\u001b[24m \u001b[4m--output-dir\u001b[24m \u001b[4m../output/kwat_cat/psuedoalign/150_11_s11\u001b[24m \u001b[4m../input/kwat_cat/150_11_s11_R1.fastq.gz\u001b[24m \u001b[4m../input/kwat_cat/150_11_s11_R2.fastq.gz\u001b[24m`\n"
     ]
    },
    {
     "name": "stderr",
     "output_type": "stream",
     "text": [
      "\n",
      "[quant] fragment length distribution will be estimated from the data\n",
      "[index] k-mer length: 31\n",
      "[index] number of targets: 178,136\n",
      "[index] number of k-mers: 105,687,321\n",
      "[index] number of equivalence classes: 711,147\n",
      "[quant] running in paired-end mode\n",
      "[quant] will process pair 1: ../input/kwat_cat/150_11_s11_R1.fastq.gz\n",
      "                             ../input/kwat_cat/150_11_s11_R2.fastq.gz\n",
      "[quant] finding pseudoalignments for the reads ... done\n",
      "[quant] processed 46,647,643 reads, 39,058,547 reads pseudoaligned\n",
      "[quant] estimated average fragment length: 135.247\n",
      "[   em] quantifying the abundances ... done\n",
      "[   em] the Expectation-Maximization algorithm ran for 1,163 rounds\n",
      "\n"
     ]
    },
    {
     "name": "stdout",
     "output_type": "stream",
     "text": [
      "Done at 2021-10-31T20:02:31.017 in 4 minutes, 35 seconds, 4 milliseconds.\n",
      "\n",
      "this is fq1: ../input/kwat_cat/150_11_s11_R2.fastq.gz\n",
      "this is fq1: ../input/kwat_cat/150_12_s12_R1.fastq.gz\n",
      "this is the sa: 150_12_s12\n",
      "Working on sample: 150_12_s12\n",
      "\n",
      "Counting transcript ...\n",
      "\n",
      "kallisto index exists at: ../input/human_reference_transcriptome/Homo_sapiens.GRCh38.cdna.all.fa.gz.kallisto_index\n",
      "\n",
      "`\u001b[4mkallisto\u001b[24m \u001b[4mquant\u001b[24m \u001b[4m--threads\u001b[24m \u001b[4m10\u001b[24m \u001b[4m--index\u001b[24m \u001b[4m../input/human_reference_transcriptome/Homo_sapiens.GRCh38.cdna.all.fa.gz.kallisto_index\u001b[24m \u001b[4m--output-dir\u001b[24m \u001b[4m../output/kwat_cat/psuedoalign/150_12_s12\u001b[24m \u001b[4m../input/kwat_cat/150_12_s12_R1.fastq.gz\u001b[24m \u001b[4m../input/kwat_cat/150_12_s12_R2.fastq.gz\u001b[24m`\n"
     ]
    },
    {
     "name": "stderr",
     "output_type": "stream",
     "text": [
      "\n",
      "[quant] fragment length distribution will be estimated from the data\n",
      "[index] k-mer length: 31\n",
      "[index] number of targets: 178,136\n",
      "[index] number of k-mers: 105,687,321\n",
      "[index] number of equivalence classes: 711,147\n",
      "[quant] running in paired-end mode\n",
      "[quant] will process pair 1: ../input/kwat_cat/150_12_s12_R1.fastq.gz\n",
      "                             ../input/kwat_cat/150_12_s12_R2.fastq.gz\n",
      "[quant] finding pseudoalignments for the reads ... done\n",
      "[quant] processed 40,816,987 reads, 34,226,084 reads pseudoaligned\n",
      "[quant] estimated average fragment length: 138.696\n",
      "[   em] quantifying the abundances ... done\n",
      "[   em] the Expectation-Maximization algorithm ran for 1,067 rounds\n",
      "\n"
     ]
    },
    {
     "name": "stdout",
     "output_type": "stream",
     "text": [
      "Done at 2021-10-31T20:06:34.166 in 4 minutes, 3 seconds, 148 milliseconds.\n",
      "\n",
      "this is fq1: ../input/kwat_cat/150_12_s12_R2.fastq.gz\n",
      "this is fq1: ../input/kwat_cat/150_13_s13_R1.fastq.gz\n",
      "this is the sa: 150_13_s13\n",
      "Working on sample: 150_13_s13\n",
      "\n",
      "Counting transcript ...\n",
      "\n",
      "kallisto index exists at: ../input/human_reference_transcriptome/Homo_sapiens.GRCh38.cdna.all.fa.gz.kallisto_index\n",
      "\n",
      "`\u001b[4mkallisto\u001b[24m \u001b[4mquant\u001b[24m \u001b[4m--threads\u001b[24m \u001b[4m10\u001b[24m \u001b[4m--index\u001b[24m \u001b[4m../input/human_reference_transcriptome/Homo_sapiens.GRCh38.cdna.all.fa.gz.kallisto_index\u001b[24m \u001b[4m--output-dir\u001b[24m \u001b[4m../output/kwat_cat/psuedoalign/150_13_s13\u001b[24m \u001b[4m../input/kwat_cat/150_13_s13_R1.fastq.gz\u001b[24m \u001b[4m../input/kwat_cat/150_13_s13_R2.fastq.gz\u001b[24m`\n"
     ]
    },
    {
     "name": "stderr",
     "output_type": "stream",
     "text": [
      "\n",
      "[quant] fragment length distribution will be estimated from the data\n",
      "[index] k-mer length: 31\n",
      "[index] number of targets: 178,136\n",
      "[index] number of k-mers: 105,687,321\n",
      "[index] number of equivalence classes: 711,147\n",
      "[quant] running in paired-end mode\n",
      "[quant] will process pair 1: ../input/kwat_cat/150_13_s13_R1.fastq.gz\n",
      "                             ../input/kwat_cat/150_13_s13_R2.fastq.gz\n",
      "[quant] finding pseudoalignments for the reads ... done\n",
      "[quant] processed 40,033,211 reads, 33,415,126 reads pseudoaligned\n",
      "[quant] estimated average fragment length: 115.818\n",
      "[   em] quantifying the abundances ... done\n",
      "[   em] the Expectation-Maximization algorithm ran for 1,149 rounds\n",
      "\n"
     ]
    },
    {
     "name": "stdout",
     "output_type": "stream",
     "text": [
      "Done at 2021-10-31T20:10:35.042 in 4 minutes, 876 milliseconds.\n",
      "\n",
      "this is fq1: ../input/kwat_cat/150_13_s13_R2.fastq.gz\n",
      "this is fq1: ../input/kwat_cat/150_14_s14_R1.fastq.gz\n",
      "this is the sa: 150_14_s14\n",
      "Working on sample: 150_14_s14\n",
      "\n",
      "Counting transcript ...\n",
      "\n",
      "kallisto index exists at: ../input/human_reference_transcriptome/Homo_sapiens.GRCh38.cdna.all.fa.gz.kallisto_index\n",
      "\n",
      "`\u001b[4mkallisto\u001b[24m \u001b[4mquant\u001b[24m \u001b[4m--threads\u001b[24m \u001b[4m10\u001b[24m \u001b[4m--index\u001b[24m \u001b[4m../input/human_reference_transcriptome/Homo_sapiens.GRCh38.cdna.all.fa.gz.kallisto_index\u001b[24m \u001b[4m--output-dir\u001b[24m \u001b[4m../output/kwat_cat/psuedoalign/150_14_s14\u001b[24m \u001b[4m../input/kwat_cat/150_14_s14_R1.fastq.gz\u001b[24m \u001b[4m../input/kwat_cat/150_14_s14_R2.fastq.gz\u001b[24m`\n"
     ]
    },
    {
     "name": "stderr",
     "output_type": "stream",
     "text": [
      "\n",
      "[quant] fragment length distribution will be estimated from the data\n",
      "[index] k-mer length: 31\n",
      "[index] number of targets: 178,136\n",
      "[index] number of k-mers: 105,687,321\n",
      "[index] number of equivalence classes: 711,147\n",
      "[quant] running in paired-end mode\n",
      "[quant] will process pair 1: ../input/kwat_cat/150_14_s14_R1.fastq.gz\n",
      "                             ../input/kwat_cat/150_14_s14_R2.fastq.gz\n",
      "[quant] finding pseudoalignments for the reads ... done\n",
      "[quant] processed 38,736,978 reads, 32,596,658 reads pseudoaligned\n",
      "[quant] estimated average fragment length: 145.012\n",
      "[   em] quantifying the abundances ... done\n",
      "[   em] the Expectation-Maximization algorithm ran for 1,678 rounds\n",
      "\n"
     ]
    },
    {
     "name": "stdout",
     "output_type": "stream",
     "text": [
      "Done at 2021-10-31T20:14:41.438 in 4 minutes, 6 seconds, 393 milliseconds.\n",
      "\n",
      "this is fq1: ../input/kwat_cat/150_14_s14_R2.fastq.gz\n",
      "this is fq1: ../input/kwat_cat/150_15_s15_R1.fastq.gz\n",
      "this is the sa: 150_15_s15\n",
      "Working on sample: 150_15_s15\n",
      "\n",
      "Counting transcript ...\n",
      "\n",
      "kallisto index exists at: ../input/human_reference_transcriptome/Homo_sapiens.GRCh38.cdna.all.fa.gz.kallisto_index\n",
      "\n",
      "`\u001b[4mkallisto\u001b[24m \u001b[4mquant\u001b[24m \u001b[4m--threads\u001b[24m \u001b[4m10\u001b[24m \u001b[4m--index\u001b[24m \u001b[4m../input/human_reference_transcriptome/Homo_sapiens.GRCh38.cdna.all.fa.gz.kallisto_index\u001b[24m \u001b[4m--output-dir\u001b[24m \u001b[4m../output/kwat_cat/psuedoalign/150_15_s15\u001b[24m \u001b[4m../input/kwat_cat/150_15_s15_R1.fastq.gz\u001b[24m \u001b[4m../input/kwat_cat/150_15_s15_R2.fastq.gz\u001b[24m`\n"
     ]
    },
    {
     "name": "stderr",
     "output_type": "stream",
     "text": [
      "\n",
      "[quant] fragment length distribution will be estimated from the data\n",
      "[index] k-mer length: 31\n",
      "[index] number of targets: 178,136\n",
      "[index] number of k-mers: 105,687,321\n",
      "[index] number of equivalence classes: 711,147\n",
      "[quant] running in paired-end mode\n",
      "[quant] will process pair 1: ../input/kwat_cat/150_15_s15_R1.fastq.gz\n",
      "                             ../input/kwat_cat/150_15_s15_R2.fastq.gz\n",
      "[quant] finding pseudoalignments for the reads ... done\n",
      "[quant] processed 39,523,572 reads, 32,298,358 reads pseudoaligned\n",
      "[quant] estimated average fragment length: 141.944\n",
      "[   em] quantifying the abundances ... done\n",
      "[   em] the Expectation-Maximization algorithm ran for 1,378 rounds\n",
      "\n"
     ]
    },
    {
     "name": "stdout",
     "output_type": "stream",
     "text": [
      "Done at 2021-10-31T20:18:46.647 in 4 minutes, 5 seconds, 208 milliseconds.\n",
      "\n",
      "this is fq1: ../input/kwat_cat/150_15_s15_R2.fastq.gz\n",
      "this is fq1: ../input/kwat_cat/150_16_s16_R1.fastq.gz\n",
      "this is the sa: 150_16_s16\n",
      "Working on sample: 150_16_s16\n",
      "\n",
      "Counting transcript ...\n",
      "\n",
      "kallisto index exists at: ../input/human_reference_transcriptome/Homo_sapiens.GRCh38.cdna.all.fa.gz.kallisto_index\n",
      "\n",
      "`\u001b[4mkallisto\u001b[24m \u001b[4mquant\u001b[24m \u001b[4m--threads\u001b[24m \u001b[4m10\u001b[24m \u001b[4m--index\u001b[24m \u001b[4m../input/human_reference_transcriptome/Homo_sapiens.GRCh38.cdna.all.fa.gz.kallisto_index\u001b[24m \u001b[4m--output-dir\u001b[24m \u001b[4m../output/kwat_cat/psuedoalign/150_16_s16\u001b[24m \u001b[4m../input/kwat_cat/150_16_s16_R1.fastq.gz\u001b[24m \u001b[4m../input/kwat_cat/150_16_s16_R2.fastq.gz\u001b[24m`\n"
     ]
    },
    {
     "name": "stderr",
     "output_type": "stream",
     "text": [
      "\n",
      "[quant] fragment length distribution will be estimated from the data\n",
      "[index] k-mer length: 31\n",
      "[index] number of targets: 178,136\n",
      "[index] number of k-mers: 105,687,321\n",
      "[index] number of equivalence classes: 711,147\n",
      "[quant] running in paired-end mode\n",
      "[quant] will process pair 1: ../input/kwat_cat/150_16_s16_R1.fastq.gz\n",
      "                             ../input/kwat_cat/150_16_s16_R2.fastq.gz\n",
      "[quant] finding pseudoalignments for the reads ... done\n",
      "[quant] processed 38,492,139 reads, 33,791,506 reads pseudoaligned\n",
      "[quant] estimated average fragment length: 135.64\n",
      "[   em] quantifying the abundances ... done\n",
      "[   em] the Expectation-Maximization algorithm ran for 1,187 rounds\n",
      "\n"
     ]
    },
    {
     "name": "stdout",
     "output_type": "stream",
     "text": [
      "Done at 2021-10-31T20:22:37.735 in 3 minutes, 51 seconds, 83 milliseconds.\n",
      "\n",
      "this is fq1: ../input/kwat_cat/150_16_s16_R2.fastq.gz\n",
      "this is fq1: ../input/kwat_cat/150_17_s17_R1.fastq.gz\n",
      "this is the sa: 150_17_s17\n",
      "Working on sample: 150_17_s17\n",
      "\n",
      "Counting transcript ...\n",
      "\n",
      "kallisto index exists at: ../input/human_reference_transcriptome/Homo_sapiens.GRCh38.cdna.all.fa.gz.kallisto_index\n",
      "\n",
      "`\u001b[4mkallisto\u001b[24m \u001b[4mquant\u001b[24m \u001b[4m--threads\u001b[24m \u001b[4m10\u001b[24m \u001b[4m--index\u001b[24m \u001b[4m../input/human_reference_transcriptome/Homo_sapiens.GRCh38.cdna.all.fa.gz.kallisto_index\u001b[24m \u001b[4m--output-dir\u001b[24m \u001b[4m../output/kwat_cat/psuedoalign/150_17_s17\u001b[24m \u001b[4m../input/kwat_cat/150_17_s17_R1.fastq.gz\u001b[24m \u001b[4m../input/kwat_cat/150_17_s17_R2.fastq.gz\u001b[24m`\n"
     ]
    },
    {
     "name": "stderr",
     "output_type": "stream",
     "text": [
      "\n",
      "[quant] fragment length distribution will be estimated from the data\n",
      "[index] k-mer length: 31\n",
      "[index] number of targets: 178,136\n",
      "[index] number of k-mers: 105,687,321\n",
      "[index] number of equivalence classes: 711,147\n",
      "[quant] running in paired-end mode\n",
      "[quant] will process pair 1: ../input/kwat_cat/150_17_s17_R1.fastq.gz\n",
      "                             ../input/kwat_cat/150_17_s17_R2.fastq.gz\n",
      "[quant] finding pseudoalignments for the reads ... done\n",
      "[quant] processed 35,098,461 reads, 29,784,006 reads pseudoaligned\n",
      "[quant] estimated average fragment length: 143.144\n",
      "[   em] quantifying the abundances ... done\n",
      "[   em] the Expectation-Maximization algorithm ran for 1,422 rounds\n",
      "\n"
     ]
    },
    {
     "name": "stdout",
     "output_type": "stream",
     "text": [
      "Done at 2021-10-31T20:26:26.097 in 3 minutes, 48 seconds, 358 milliseconds.\n",
      "\n",
      "this is fq1: ../input/kwat_cat/150_17_s17_R2.fastq.gz\n",
      "this is fq1: ../input/kwat_cat/150_18_s18_R1.fastq.gz\n",
      "this is the sa: 150_18_s18\n",
      "Working on sample: 150_18_s18\n",
      "\n",
      "Counting transcript ...\n",
      "\n",
      "kallisto index exists at: ../input/human_reference_transcriptome/Homo_sapiens.GRCh38.cdna.all.fa.gz.kallisto_index\n",
      "\n",
      "`\u001b[4mkallisto\u001b[24m \u001b[4mquant\u001b[24m \u001b[4m--threads\u001b[24m \u001b[4m10\u001b[24m \u001b[4m--index\u001b[24m \u001b[4m../input/human_reference_transcriptome/Homo_sapiens.GRCh38.cdna.all.fa.gz.kallisto_index\u001b[24m \u001b[4m--output-dir\u001b[24m \u001b[4m../output/kwat_cat/psuedoalign/150_18_s18\u001b[24m \u001b[4m../input/kwat_cat/150_18_s18_R1.fastq.gz\u001b[24m \u001b[4m../input/kwat_cat/150_18_s18_R2.fastq.gz\u001b[24m`\n"
     ]
    },
    {
     "name": "stderr",
     "output_type": "stream",
     "text": [
      "\n",
      "[quant] fragment length distribution will be estimated from the data\n",
      "[index] k-mer length: 31\n",
      "[index] number of targets: 178,136\n",
      "[index] number of k-mers: 105,687,321\n",
      "[index] number of equivalence classes: 711,147\n",
      "[quant] running in paired-end mode\n",
      "[quant] will process pair 1: ../input/kwat_cat/150_18_s18_R1.fastq.gz\n",
      "                             ../input/kwat_cat/150_18_s18_R2.fastq.gz\n",
      "[quant] finding pseudoalignments for the reads ... done\n",
      "[quant] processed 46,161,261 reads, 36,358,101 reads pseudoaligned\n",
      "[quant] estimated average fragment length: 146.111\n",
      "[   em] quantifying the abundances ... done\n",
      "[   em] the Expectation-Maximization algorithm ran for 1,190 rounds\n",
      "\n"
     ]
    },
    {
     "name": "stdout",
     "output_type": "stream",
     "text": [
      "Done at 2021-10-31T20:30:50.548 in 4 minutes, 24 seconds, 449 milliseconds.\n",
      "\n",
      "this is fq1: ../input/kwat_cat/150_18_s18_R2.fastq.gz\n",
      "this is fq1: ../input/kwat_cat/150_19_s19_R1.fastq.gz\n",
      "this is the sa: 150_19_s19\n",
      "Working on sample: 150_19_s19\n",
      "\n",
      "Counting transcript ...\n",
      "\n",
      "kallisto index exists at: ../input/human_reference_transcriptome/Homo_sapiens.GRCh38.cdna.all.fa.gz.kallisto_index\n",
      "\n",
      "`\u001b[4mkallisto\u001b[24m \u001b[4mquant\u001b[24m \u001b[4m--threads\u001b[24m \u001b[4m10\u001b[24m \u001b[4m--index\u001b[24m \u001b[4m../input/human_reference_transcriptome/Homo_sapiens.GRCh38.cdna.all.fa.gz.kallisto_index\u001b[24m \u001b[4m--output-dir\u001b[24m \u001b[4m../output/kwat_cat/psuedoalign/150_19_s19\u001b[24m \u001b[4m../input/kwat_cat/150_19_s19_R1.fastq.gz\u001b[24m \u001b[4m../input/kwat_cat/150_19_s19_R2.fastq.gz\u001b[24m`\n"
     ]
    },
    {
     "name": "stderr",
     "output_type": "stream",
     "text": [
      "\n",
      "[quant] fragment length distribution will be estimated from the data\n",
      "[index] k-mer length: 31\n",
      "[index] number of targets: 178,136\n",
      "[index] number of k-mers: 105,687,321\n",
      "[index] number of equivalence classes: 711,147\n",
      "[quant] running in paired-end mode\n",
      "[quant] will process pair 1: ../input/kwat_cat/150_19_s19_R1.fastq.gz\n",
      "                             ../input/kwat_cat/150_19_s19_R2.fastq.gz\n",
      "[quant] finding pseudoalignments for the reads ... done\n",
      "[quant] processed 44,961,812 reads, 38,207,884 reads pseudoaligned\n",
      "[quant] estimated average fragment length: 149.558\n",
      "[   em] quantifying the abundances ... done\n",
      "[   em] the Expectation-Maximization algorithm ran for 1,469 rounds\n",
      "\n"
     ]
    },
    {
     "name": "stdout",
     "output_type": "stream",
     "text": [
      "Done at 2021-10-31T20:35:12.022 in 4 minutes, 21 seconds, 471 milliseconds.\n",
      "\n",
      "this is fq1: ../input/kwat_cat/150_19_s19_R2.fastq.gz\n",
      "this is fq1: ../input/kwat_cat/150_20_s20_R1.fastq.gz\n",
      "this is the sa: 150_20_s20\n",
      "Working on sample: 150_20_s20\n",
      "\n",
      "Counting transcript ...\n",
      "\n",
      "kallisto index exists at: ../input/human_reference_transcriptome/Homo_sapiens.GRCh38.cdna.all.fa.gz.kallisto_index\n",
      "\n",
      "`\u001b[4mkallisto\u001b[24m \u001b[4mquant\u001b[24m \u001b[4m--threads\u001b[24m \u001b[4m10\u001b[24m \u001b[4m--index\u001b[24m \u001b[4m../input/human_reference_transcriptome/Homo_sapiens.GRCh38.cdna.all.fa.gz.kallisto_index\u001b[24m \u001b[4m--output-dir\u001b[24m \u001b[4m../output/kwat_cat/psuedoalign/150_20_s20\u001b[24m \u001b[4m../input/kwat_cat/150_20_s20_R1.fastq.gz\u001b[24m \u001b[4m../input/kwat_cat/150_20_s20_R2.fastq.gz\u001b[24m`\n"
     ]
    },
    {
     "name": "stderr",
     "output_type": "stream",
     "text": [
      "\n",
      "[quant] fragment length distribution will be estimated from the data\n",
      "[index] k-mer length: 31\n",
      "[index] number of targets: 178,136\n",
      "[index] number of k-mers: 105,687,321\n",
      "[index] number of equivalence classes: 711,147\n",
      "[quant] running in paired-end mode\n",
      "[quant] will process pair 1: ../input/kwat_cat/150_20_s20_R1.fastq.gz\n",
      "                             ../input/kwat_cat/150_20_s20_R2.fastq.gz\n",
      "[quant] finding pseudoalignments for the reads ... done\n",
      "[quant] processed 34,827,641 reads, 26,984,763 reads pseudoaligned\n",
      "[quant] estimated average fragment length: 144.912\n",
      "[   em] quantifying the abundances ... done\n",
      "[   em] the Expectation-Maximization algorithm ran for 1,303 rounds\n",
      "\n"
     ]
    },
    {
     "name": "stdout",
     "output_type": "stream",
     "text": [
      "Done at 2021-10-31T20:39:04.446 in 3 minutes, 52 seconds, 420 milliseconds.\n",
      "\n",
      "this is fq1: ../input/kwat_cat/150_20_s20_R2.fastq.gz\n",
      "this is fq1: ../input/kwat_cat/150_21_s21_R1.fastq.gz\n",
      "this is the sa: 150_21_s21\n",
      "Working on sample: 150_21_s21\n",
      "\n",
      "Counting transcript ...\n",
      "\n",
      "kallisto index exists at: ../input/human_reference_transcriptome/Homo_sapiens.GRCh38.cdna.all.fa.gz.kallisto_index\n",
      "\n",
      "`\u001b[4mkallisto\u001b[24m \u001b[4mquant\u001b[24m \u001b[4m--threads\u001b[24m \u001b[4m10\u001b[24m \u001b[4m--index\u001b[24m \u001b[4m../input/human_reference_transcriptome/Homo_sapiens.GRCh38.cdna.all.fa.gz.kallisto_index\u001b[24m \u001b[4m--output-dir\u001b[24m \u001b[4m../output/kwat_cat/psuedoalign/150_21_s21\u001b[24m \u001b[4m../input/kwat_cat/150_21_s21_R1.fastq.gz\u001b[24m \u001b[4m../input/kwat_cat/150_21_s21_R2.fastq.gz\u001b[24m`\n"
     ]
    },
    {
     "name": "stderr",
     "output_type": "stream",
     "text": [
      "\n",
      "[quant] fragment length distribution will be estimated from the data\n",
      "[index] k-mer length: 31\n",
      "[index] number of targets: 178,136\n",
      "[index] number of k-mers: 105,687,321\n",
      "[index] number of equivalence classes: 711,147\n",
      "[quant] running in paired-end mode\n",
      "[quant] will process pair 1: ../input/kwat_cat/150_21_s21_R1.fastq.gz\n",
      "                             ../input/kwat_cat/150_21_s21_R2.fastq.gz\n",
      "[quant] finding pseudoalignments for the reads ... done\n",
      "[quant] processed 43,687,844 reads, 37,011,923 reads pseudoaligned\n",
      "[quant] estimated average fragment length: 143.677\n",
      "[   em] quantifying the abundances ... done\n",
      "[   em] the Expectation-Maximization algorithm ran for 1,192 rounds\n",
      "\n"
     ]
    },
    {
     "name": "stdout",
     "output_type": "stream",
     "text": [
      "Done at 2021-10-31T20:43:11.817 in 4 minutes, 7 seconds, 368 milliseconds.\n",
      "\n",
      "this is fq1: ../input/kwat_cat/150_21_s21_R2.fastq.gz\n",
      "this is fq1: ../input/kwat_cat/150_22_s22_R1.fastq.gz\n",
      "this is the sa: 150_22_s22\n",
      "Working on sample: 150_22_s22\n",
      "\n",
      "Counting transcript ...\n",
      "\n",
      "kallisto index exists at: ../input/human_reference_transcriptome/Homo_sapiens.GRCh38.cdna.all.fa.gz.kallisto_index\n",
      "\n",
      "`\u001b[4mkallisto\u001b[24m \u001b[4mquant\u001b[24m \u001b[4m--threads\u001b[24m \u001b[4m10\u001b[24m \u001b[4m--index\u001b[24m \u001b[4m../input/human_reference_transcriptome/Homo_sapiens.GRCh38.cdna.all.fa.gz.kallisto_index\u001b[24m \u001b[4m--output-dir\u001b[24m \u001b[4m../output/kwat_cat/psuedoalign/150_22_s22\u001b[24m \u001b[4m../input/kwat_cat/150_22_s22_R1.fastq.gz\u001b[24m \u001b[4m../input/kwat_cat/150_22_s22_R2.fastq.gz\u001b[24m`\n"
     ]
    },
    {
     "name": "stderr",
     "output_type": "stream",
     "text": [
      "\n",
      "[quant] fragment length distribution will be estimated from the data\n",
      "[index] k-mer length: 31\n",
      "[index] number of targets: 178,136\n",
      "[index] number of k-mers: 105,687,321\n",
      "[index] number of equivalence classes: 711,147\n",
      "[quant] running in paired-end mode\n",
      "[quant] will process pair 1: ../input/kwat_cat/150_22_s22_R1.fastq.gz\n",
      "                             ../input/kwat_cat/150_22_s22_R2.fastq.gz\n",
      "[quant] finding pseudoalignments for the reads ... done\n",
      "[quant] processed 41,619,055 reads, 32,213,784 reads pseudoaligned\n",
      "[quant] estimated average fragment length: 140.138\n",
      "[   em] quantifying the abundances ... done\n",
      "[   em] the Expectation-Maximization algorithm ran for 1,323 rounds\n",
      "\n"
     ]
    },
    {
     "name": "stdout",
     "output_type": "stream",
     "text": [
      "Done at 2021-10-31T20:47:28.823 in 4 minutes, 17 seconds, 2 milliseconds.\n",
      "\n",
      "this is fq1: ../input/kwat_cat/150_22_s22_R2.fastq.gz\n",
      "this is fq1: ../input/kwat_cat/150_23_s23_R1.fastq.gz\n",
      "this is the sa: 150_23_s23\n",
      "Working on sample: 150_23_s23\n",
      "\n",
      "Counting transcript ...\n",
      "\n",
      "kallisto index exists at: ../input/human_reference_transcriptome/Homo_sapiens.GRCh38.cdna.all.fa.gz.kallisto_index\n",
      "\n",
      "`\u001b[4mkallisto\u001b[24m \u001b[4mquant\u001b[24m \u001b[4m--threads\u001b[24m \u001b[4m10\u001b[24m \u001b[4m--index\u001b[24m \u001b[4m../input/human_reference_transcriptome/Homo_sapiens.GRCh38.cdna.all.fa.gz.kallisto_index\u001b[24m \u001b[4m--output-dir\u001b[24m \u001b[4m../output/kwat_cat/psuedoalign/150_23_s23\u001b[24m \u001b[4m../input/kwat_cat/150_23_s23_R1.fastq.gz\u001b[24m \u001b[4m../input/kwat_cat/150_23_s23_R2.fastq.gz\u001b[24m`\n"
     ]
    },
    {
     "name": "stderr",
     "output_type": "stream",
     "text": [
      "\n",
      "[quant] fragment length distribution will be estimated from the data\n",
      "[index] k-mer length: 31\n",
      "[index] number of targets: 178,136\n",
      "[index] number of k-mers: 105,687,321\n",
      "[index] number of equivalence classes: 711,147\n",
      "[quant] running in paired-end mode\n",
      "[quant] will process pair 1: ../input/kwat_cat/150_23_s23_R1.fastq.gz\n",
      "                             ../input/kwat_cat/150_23_s23_R2.fastq.gz\n",
      "[quant] finding pseudoalignments for the reads ..."
     ]
    }
   ],
   "source": [
    "na_ = [\"R1\", \"read1\"]\n",
    "\n",
    "naf = \"\"\n",
    "\n",
    "pap = joinpath(pao, \"psuedoalign/\")\n",
    "\n",
    "if !isdir(pap)\n",
    "    \n",
    "    println(\"entering\")\n",
    "\n",
    "    for fq1 in re_\n",
    "        \n",
    "        println(\"this is fq1: $fq1\")\n",
    "\n",
    "        for na in na_ if occursin(na, fq1)\n",
    "\n",
    "                naf = na\n",
    "\n",
    "                nar = replace(naf, \"1\" => \"2\")\n",
    "\n",
    "                fq2 = replace(fq1, naf => nar)\n",
    "\n",
    "                if !isfile(fq2)\n",
    "\n",
    "                    fq2 = nothing\n",
    "\n",
    "                end\n",
    "                \n",
    "                \n",
    "#                 sa =(split(last(splitdir(fq1)), \"_l00\")[1])\n",
    "                \n",
    "                sa = last(splitdir(splitext(split(fq1, join([\"_\", naf]))[1])[1]))\n",
    "                    \n",
    "                println(\"this is the sa: $sa\")\n",
    "    \n",
    "                println(\"Working on sample: $sa\\n\")\n",
    "\n",
    "                pas = joinpath(pap, sa)\n",
    "                \n",
    "                Kate.count_transcript(\n",
    "                    paf,\n",
    "                    pas,\n",
    "                    n_jo,\n",
    "                    fq1,\n",
    "                    fq2,\n",
    "                    fr,\n",
    "                    sd,\n",
    "                )\n",
    "\n",
    "            end\n",
    "\n",
    "        end\n",
    "\n",
    "    end\n",
    "\n",
    "else\n",
    "\n",
    "    println(\"Skipping psuedoalignment because directory already exists: $pap\")\n",
    "    \n",
    "end"
   ]
  },
  {
   "cell_type": "code",
   "execution_count": null,
   "id": "c3cd8d3b-b05b-484e-bada-49d74c4509de",
   "metadata": {},
   "outputs": [],
   "source": [
    "### TODO: Check mapping rate and abundance output"
   ]
  }
 ],
 "metadata": {
  "kernelspec": {
   "display_name": "Julia 1.5.2",
   "language": "julia",
   "name": "julia-1.5"
  },
  "language_info": {
   "file_extension": ".jl",
   "mimetype": "application/julia",
   "name": "julia",
   "version": "1.5.2"
  }
 },
 "nbformat": 4,
 "nbformat_minor": 5
}
