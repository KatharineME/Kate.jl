{
 "cells": [
  {
   "cell_type": "code",
   "execution_count": null,
   "id": "ec4b5eb7-f81d-4399-a82e-7bdd64904648",
   "metadata": {},
   "outputs": [],
   "source": [
    "using Revise\n",
    "\n",
    "using Kate"
   ]
  },
  {
   "cell_type": "markdown",
   "id": "ad3d58f3-45fa-4dfe-a9f2-f3cf5ff75cf8",
   "metadata": {},
   "source": [
    "### Test Environment"
   ]
  },
  {
   "cell_type": "code",
   "execution_count": null,
   "id": "fb7653c8-f7ab-40b9-a892-c27f2cb29342",
   "metadata": {
    "tags": []
   },
   "outputs": [],
   "source": [
    "Kate.test()"
   ]
  },
  {
   "cell_type": "markdown",
   "id": "3a1d84f5-d234-4b8b-a6e6-dd3876c97d02",
   "metadata": {},
   "source": [
    "### Set Parameters"
   ]
  },
  {
   "cell_type": "code",
   "execution_count": null,
   "id": "7b7d9204-26a7-4423-b2bf-50f58bb284ee",
   "metadata": {
    "tags": []
   },
   "outputs": [],
   "source": [
    "# Experiment \n",
    "ex = \"human_cdna_valeria\"\n",
    "\n",
    "# Fragment length (not needed if paired end)\n",
    "fr = 51\n",
    "\n",
    "# Standard deviation of read length (not needed if paired end)\n",
    "sd = 0.05\n",
    "\n",
    "# Reference transcriptome\n",
    "paf = \"../input/human_reference_transcriptome/Homo_sapiens.GRCh38.cdna.all.fa.gz\"\n",
    "\n",
    "# paf = \"../input/mouse_reference_transcriptome/Mus_musculus.GRCm38.cdna.all.fa.gz\"\n",
    "\n",
    "pat = \"../input/human_reference_transcriptome/enst_gene_name.tsv\"\n",
    "\n",
    "n_jo = 10;"
   ]
  },
  {
   "cell_type": "code",
   "execution_count": null,
   "id": "94002ede-dbda-44fd-9b03-fab240be0557",
   "metadata": {
    "tags": []
   },
   "outputs": [],
   "source": [
    "pai = joinpath(\"../input/\")\n",
    "\n",
    "pae = joinpath(pai, ex)\n",
    "\n",
    "pao = joinpath(\"../output/\", ex);"
   ]
  },
  {
   "cell_type": "markdown",
   "id": "97675c11-9431-48f2-ae80-c3602dc99ee3",
   "metadata": {},
   "source": [
    "### Check reads"
   ]
  },
  {
   "cell_type": "code",
   "execution_count": null,
   "id": "261b7f79-fac0-43a9-ba72-5404522c8a2b",
   "metadata": {
    "tags": []
   },
   "outputs": [],
   "source": [
    "re_ = Kate.find(pae)"
   ]
  },
  {
   "cell_type": "code",
   "execution_count": null,
   "id": "eab53d7a-3450-4dd7-a28d-c95fc169da50",
   "metadata": {},
   "outputs": [],
   "source": [
    "Kate.check(re_, joinpath(pao, string(\"check_raw\")), n_jo)"
   ]
  },
  {
   "cell_type": "code",
   "execution_count": null,
   "id": "aa6cf0ca-0365-4337-a173-6acf91febe9a",
   "metadata": {},
   "outputs": [],
   "source": [
    "### Count transcript"
   ]
  },
  {
   "cell_type": "code",
   "execution_count": null,
   "id": "4d773944-781d-432e-9889-cdd723ba9736",
   "metadata": {
    "tags": []
   },
   "outputs": [],
   "source": [
    "na_ = [\"R1\", \"read1\", \"_1.fq\"]\n",
    "\n",
    "naf = \"\"\n",
    "\n",
    "pap = joinpath(pao, \"psuedoalign/\")\n",
    "\n",
    "if !isdir(pap)\n",
    "\n",
    "    for fq1 in re_\n",
    "\n",
    "        for na in na_ if occursin(na, fq1)\n",
    "\n",
    "                naf = na\n",
    "\n",
    "                nar = replace(naf, \"1\" => \"2\")\n",
    "\n",
    "                fq2 = replace(fq1, naf => nar)\n",
    "\n",
    "                if !isfile(fq2)\n",
    "\n",
    "                    fq2 = nothing\n",
    "\n",
    "                end\n",
    "\n",
    "                sa = last(splitdir(splitext(split(fq1, naf)[1])[1]))\n",
    "\n",
    "                println(\"Working on sample: $sa\\n\")\n",
    "\n",
    "                pas = joinpath(pap, sa)\n",
    "\n",
    "                Kate.count_transcript(\n",
    "                    paf,\n",
    "                    pas,\n",
    "                    n_jo,\n",
    "                    fq1,\n",
    "                    fq2,\n",
    "                    fr,\n",
    "                    sd,\n",
    "                )\n",
    "\n",
    "            end\n",
    "\n",
    "        end\n",
    "\n",
    "    end\n",
    "\n",
    "else\n",
    "\n",
    "    println(\"Skipping psuedoalignment because directory already exists: $pap\")\n",
    "    \n",
    "end"
   ]
  },
  {
   "cell_type": "code",
   "execution_count": null,
   "id": "c3cd8d3b-b05b-484e-bada-49d74c4509de",
   "metadata": {},
   "outputs": [],
   "source": [
    "### TODO: Check mapping rate and abundance output"
   ]
  }
 ],
 "metadata": {
  "kernelspec": {
   "display_name": "Julia 1.5.2",
   "language": "julia",
   "name": "julia-1.5"
  },
  "language_info": {
   "file_extension": ".jl",
   "mimetype": "application/julia",
   "name": "julia",
   "version": "1.5.2"
  }
 },
 "nbformat": 4,
 "nbformat_minor": 5
}
