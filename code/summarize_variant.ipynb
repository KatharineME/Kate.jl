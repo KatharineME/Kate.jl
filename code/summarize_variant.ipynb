{
 "cells": [
  {
   "cell_type": "code",
   "execution_count": null,
   "id": "8badc34a-b794-44df-8e6c-8919615932e8",
   "metadata": {},
   "outputs": [],
   "source": [
    "%load_ext autoreload\n",
    "%autoreload 2"
   ]
  },
  {
   "cell_type": "code",
   "execution_count": null,
   "id": "57679784-72a1-44ef-8f70-5e20c0f301a3",
   "metadata": {},
   "outputs": [],
   "source": [
    "import os\n",
    "\n",
    "import kwat"
   ]
  },
  {
   "cell_type": "code",
   "execution_count": null,
   "id": "886838aa-883b-4ca0-80d8-582c926ac892",
   "metadata": {},
   "outputs": [],
   "source": [
    "par = \"/Users/kwat/code/project/cd4_t_cell_in_cfs/output/variant/\""
   ]
  },
  {
   "cell_type": "code",
   "execution_count": null,
   "id": "917849d4-00e0-4c79-9bc0-4fc3e0624eb1",
   "metadata": {},
   "outputs": [],
   "source": [
    "for pas in kwat.path.list(par):\n",
    "\n",
    "    print(\"=\" * 80)\n",
    "\n",
    "    print(pas)\n",
    "\n",
    "    print(\"=\" * 80)\n",
    "\n",
    "    pav = \"{}call_variant/\".format(pas)\n",
    "\n",
    "    va_co = kwat.vcf.count_variant(\"{}call_variant/pass.vcf.gz\".format(pas))\n",
    "\n",
    "    va_co.to_csv(path_or_buf=\"{}variant_count.tsv\".format(pas), sep=\"\\t\")"
   ]
  }
 ],
 "metadata": {
  "kernelspec": {
   "display_name": "Python 3 (ipykernel)",
   "language": "python",
   "name": "python3"
  },
  "language_info": {
   "codemirror_mode": {
    "name": "ipython",
    "version": 3
   },
   "file_extension": ".py",
   "mimetype": "text/x-python",
   "name": "python",
   "nbconvert_exporter": "python",
   "pygments_lexer": "ipython3",
   "version": "3.9.5"
  }
 },
 "nbformat": 4,
 "nbformat_minor": 5
}
