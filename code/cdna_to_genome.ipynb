{
 "cells": [
  {
   "cell_type": "code",
   "execution_count": null,
   "metadata": {},
   "outputs": [],
   "source": [
    "using Revise\n",
    "\n",
    "using Kate"
   ]
  },
  {
   "cell_type": "markdown",
   "metadata": {},
   "source": [
    "### Test Environment"
   ]
  },
  {
   "cell_type": "code",
   "execution_count": null,
   "metadata": {},
   "outputs": [],
   "source": [
    "Kate.test()"
   ]
  },
  {
   "cell_type": "markdown",
   "metadata": {},
   "source": [
    "### Set Parameters"
   ]
  },
  {
   "cell_type": "code",
   "execution_count": null,
   "metadata": {},
   "outputs": [],
   "source": [
    "# Experiment name\n",
    "ex = \"human_cdna_kwat/\"\n",
    "\n",
    "# Molecule: cdna or dna\n",
    "mo = \"cdna\"\n",
    "\n",
    "# Adapter sequence to trim\n",
    "ad = \"CTGTCTCTTATA\"\n",
    "# ad = \"AGATCGGAAGAGC\"\n",
    "\n",
    "# is dna targeted\n",
    "ta = false\n",
    "\n",
    "# Number of jobs\n",
    "n_jo = 10\n",
    "\n",
    "# G of memory\n",
    "met = 40\n",
    "\n",
    "# G of memory per job\n",
    "mej = 2;"
   ]
  },
  {
   "cell_type": "code",
   "execution_count": null,
   "metadata": {},
   "outputs": [],
   "source": [
    "pap = dirname(@__DIR__)\n",
    "\n",
    "pao = joinpath(pap, \"output\")\n",
    "\n",
    "pai = joinpath(pap, \"input\")\n",
    "\n",
    "pae = joinpath(pai, ex)\n",
    "\n",
    "par = joinpath(pai, \"grch\")"
   ]
  },
  {
   "cell_type": "markdown",
   "metadata": {},
   "source": [
    "### Check reads"
   ]
  },
  {
   "cell_type": "code",
   "execution_count": null,
   "metadata": {},
   "outputs": [],
   "source": [
    "re_ = Kate.find(pae)"
   ]
  },
  {
   "cell_type": "code",
   "execution_count": null,
   "metadata": {
    "tags": []
   },
   "outputs": [],
   "source": [
    "Kate.check(re_, joinpath(pao, ex, string(\"check_raw\")), n_jo)"
   ]
  },
  {
   "cell_type": "markdown",
   "metadata": {},
   "source": [
    "### Process cDNA"
   ]
  },
  {
   "cell_type": "code",
   "execution_count": null,
   "metadata": {
    "collapsed": true,
    "jupyter": {
     "outputs_hidden": true
    },
    "tags": []
   },
   "outputs": [],
   "source": [
    "na_ = [\"R1\", \"read1\", \"_1.fq\"]\n",
    "\n",
    "for fq1 in re_\n",
    "   \n",
    "    for na in na_ if occursin(na, fq1)\n",
    "    \n",
    "        nar = replace(na, \"1\" => \"2\")\n",
    "\n",
    "        fq2 = replace(fq1, na => nar)\n",
    "            \n",
    "        if !isfile(fq2)\n",
    "\n",
    "            fq2 = nothing\n",
    "                \n",
    "            println(\"fq2 didnt exist\")\n",
    "\n",
    "        end       \n",
    "\n",
    "        sa = last(splitdir(splitext(split(fq1, na)[1])[1]))\n",
    "                \n",
    "        println(\"Working on sample: $sa\\n\\n\\n\")\n",
    "\n",
    "        pasa = joinpath(pao, ex, sa)\n",
    "\n",
    "        Kate.process_dna(\n",
    "            mo,\n",
    "            fq1,\n",
    "            fq2,\n",
    "            ad,\n",
    "            ta,\n",
    "            pasa,\n",
    "            joinpath(par, \"GCA_000001405.15_GRCh38_no_alt_plus_hs38d1_analysis_set.fna.bgz\"),\n",
    "            joinpath(par, \"chromosome\", \"chromosome.bed.gz\"),\n",
    "            joinpath(par, \"chromosome\", \"chrn_n.tsv\"),\n",
    "            \"/opt/snpeff/snpEff/snpEff.jar\",\n",
    "            n_jo,\n",
    "            met,\n",
    "            mej,\n",
    "        )\n",
    "            \n",
    "        end\n",
    "\n",
    "    end\n",
    "    \n",
    "end"
   ]
  }
 ],
 "metadata": {
  "@webio": {
   "lastCommId": null,
   "lastKernelId": null
  },
  "kernelspec": {
   "display_name": "Julia 1.5.2",
   "language": "julia",
   "name": "julia-1.5"
  },
  "language_info": {
   "file_extension": ".jl",
   "mimetype": "application/julia",
   "name": "julia",
   "version": "1.5.2"
  }
 },
 "nbformat": 4,
 "nbformat_minor": 4
}
