{
 "cells": [
  {
   "cell_type": "code",
   "execution_count": 39,
   "id": "4f5bec87-2d0b-4b9c-b9fe-6e0b1d9cea21",
   "metadata": {},
   "outputs": [],
   "source": [
    "using Revise\n",
    "\n",
    "include(\"../src/Kate.jl\")\n",
    "\n",
    "PASN = \"/opt/snpeff/snpEff/snpEff.jar\";\n",
    "\n",
    "PAI = joinpath(\"../input/\")\n",
    "\n",
    "PAO = joinpath(\"../output/\")\n",
    "\n",
    "n_jo = 4"
   ]
  },
  {
   "cell_type": "code",
   "execution_count": 87,
   "id": "1f484aeb-1288-4225-9c18-00274a1250dd",
   "metadata": {},
   "outputs": [
    {
     "data": {
      "text/plain": [
       "\"150_6_s6\""
      ]
     },
     "execution_count": 87,
     "metadata": {},
     "output_type": "execute_result"
    }
   ],
   "source": [
    "ex = \"150_6_s6\""
   ]
  },
  {
   "cell_type": "code",
   "execution_count": 88,
   "id": "0f7ca482-d24e-4f4b-af17-1b8e121d1509",
   "metadata": {},
   "outputs": [
    {
     "ename": "LoadError",
     "evalue": "\u001b[91mSystemError: unable to read directory ../input/150_6_s6: No such file or directory\u001b[39m",
     "output_type": "error",
     "traceback": [
      "\u001b[91mSystemError: unable to read directory ../input/150_6_s6: No such file or directory\u001b[39m",
      "",
      "Stacktrace:",
      " [1] walkdir(::String; topdown::Bool, follow_symlinks::Bool, onerror::typeof(throw)) at ./file.jl:0",
      " [2] walkdir at ./file.jl:842 [inlined]",
      " [3] find(::String) at /home/jovyan/craft/tool/Kate.jl/src/find.jl:17",
      " [4] top-level scope at In[88]:1",
      " [5] include_string(::Function, ::Module, ::String, ::String) at ./loading.jl:1091"
     ]
    }
   ],
   "source": [
    "re_ = Kate.find(joinpath(PAI, ex))"
   ]
  },
  {
   "cell_type": "code",
   "execution_count": 89,
   "id": "f2b99a11-b541-4ff0-a301-bbcdcdb85e40",
   "metadata": {
    "tags": []
   },
   "outputs": [],
   "source": [
    "# Kate.check(re_, joinpath(PAO, ex, string(\"check_raw\")), n_jo)"
   ]
  },
  {
   "cell_type": "code",
   "execution_count": 90,
   "id": "ec34dbe3-c634-4fbe-9acc-8b261c456a2c",
   "metadata": {},
   "outputs": [
    {
     "name": "stdout",
     "output_type": "stream",
     "text": [
      "I am seeing your changes\n",
      "Number of forward read files = 3\n",
      "\n",
      "Number of reverse read files = 3\n",
      "\n",
      "Combining forward reads...\n",
      "\n",
      "Combining reverse reads...\n",
      "\n",
      "Concatenated files saved at ../input/150_6_s6_cat\n",
      "\n",
      "Done at 2021-10-31T19:06:04.798 in 35 seconds, 981 milliseconds.\n",
      "\n"
     ]
    }
   ],
   "source": [
    "Kate.concatenate(re_, ex, PAI)"
   ]
  },
  {
   "cell_type": "code",
   "execution_count": null,
   "id": "962c0c06-5cd6-42dc-9d81-7669d27043c2",
   "metadata": {},
   "outputs": [],
   "source": []
  }
 ],
 "metadata": {
  "kernelspec": {
   "display_name": "Julia 1.5.2",
   "language": "julia",
   "name": "julia-1.5"
  },
  "language_info": {
   "file_extension": ".jl",
   "mimetype": "application/julia",
   "name": "julia",
   "version": "1.5.2"
  }
 },
 "nbformat": 4,
 "nbformat_minor": 5
}
