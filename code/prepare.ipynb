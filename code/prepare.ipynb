{
 "cells": [
  {
   "cell_type": "code",
   "execution_count": null,
   "id": "4f5bec87-2d0b-4b9c-b9fe-6e0b1d9cea21",
   "metadata": {},
   "outputs": [],
   "source": [
    "using Revise\n",
    "\n",
    "include(\"../src/Kate.jl\")\n",
    "\n",
    "PASN = \"/opt/snpeff/snpEff/snpEff.jar\";\n",
    "\n",
    "PAI = joinpath(\"../input/\")\n",
    "\n",
    "PAO = joinpath(\"../output/\")\n",
    "\n",
    "n_jo = 4"
   ]
  },
  {
   "cell_type": "code",
   "execution_count": null,
   "id": "1f484aeb-1288-4225-9c18-00274a1250dd",
   "metadata": {},
   "outputs": [],
   "source": [
    "ex = \"150_6_s6\""
   ]
  },
  {
   "cell_type": "code",
   "execution_count": null,
   "id": "0f7ca482-d24e-4f4b-af17-1b8e121d1509",
   "metadata": {},
   "outputs": [],
   "source": [
    "re_ = Kate.find(joinpath(PAI, ex))"
   ]
  },
  {
   "cell_type": "code",
   "execution_count": null,
   "id": "f2b99a11-b541-4ff0-a301-bbcdcdb85e40",
   "metadata": {
    "tags": []
   },
   "outputs": [],
   "source": [
    "# Kate.check(re_, joinpath(PAO, ex, string(\"check_raw\")), n_jo)"
   ]
  },
  {
   "cell_type": "code",
   "execution_count": null,
   "id": "ec34dbe3-c634-4fbe-9acc-8b261c456a2c",
   "metadata": {},
   "outputs": [],
   "source": [
    "Kate.concatenate(re_, ex, PAI)"
   ]
  }
 ],
 "metadata": {
  "kernelspec": {
   "display_name": "Julia 1.5.2",
   "language": "julia",
   "name": "julia-1.5"
  },
  "language_info": {
   "file_extension": ".jl",
   "mimetype": "application/julia",
   "name": "julia",
   "version": "1.5.2"
  }
 },
 "nbformat": 4,
 "nbformat_minor": 5
}
