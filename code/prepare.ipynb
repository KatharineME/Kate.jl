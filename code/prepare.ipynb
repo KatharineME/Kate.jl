{
 "cells": [
  {
   "cell_type": "code",
   "execution_count": null,
   "id": "f77ce14a-233b-4b75-972d-91acaea12bdf",
   "metadata": {},
   "outputs": [],
   "source": [
    "include(\"./init.jl\")"
   ]
  },
  {
   "cell_type": "code",
   "execution_count": null,
   "id": "0f7ca482-d24e-4f4b-af17-1b8e121d1509",
   "metadata": {},
   "outputs": [],
   "source": [
    "re_ = Kate.find(PAI)"
   ]
  },
  {
   "cell_type": "code",
   "execution_count": null,
   "id": "f2b99a11-b541-4ff0-a301-bbcdcdb85e40",
   "metadata": {
    "tags": []
   },
   "outputs": [],
   "source": [
    "Kate.check(re_, joinpath(PAO, string(\"check_raw\")), SE[\"n_jo\"])"
   ]
  },
  {
   "cell_type": "code",
   "execution_count": null,
   "id": "ec34dbe3-c634-4fbe-9acc-8b261c456a2c",
   "metadata": {},
   "outputs": [],
   "source": [
    "Kate.concatenate(re_, SE[\"ex\"], PAI)"
   ]
  }
 ],
 "metadata": {
  "kernelspec": {
   "display_name": "Julia 1.5.2",
   "language": "julia",
   "name": "julia-1.5"
  },
  "language_info": {
   "file_extension": ".jl",
   "mimetype": "application/julia",
   "name": "julia",
   "version": "1.5.2"
  }
 },
 "nbformat": 4,
 "nbformat_minor": 5
}
